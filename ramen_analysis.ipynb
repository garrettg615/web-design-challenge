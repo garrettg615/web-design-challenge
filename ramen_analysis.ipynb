{
 "cells": [
  {
   "cell_type": "code",
   "execution_count": 110,
   "metadata": {},
   "outputs": [],
   "source": [
    "import pandas as pd\n",
    "import matplotlib.pyplot as plt\n",
    "import numpy as np\n",
    "import plotly.express as px\n",
    "\n"
   ]
  },
  {
   "cell_type": "code",
   "execution_count": 196,
   "metadata": {
    "collapsed": true
   },
   "outputs": [
    {
     "data": {
      "text/plain": [
       "['Constant',\n",
       " 'IdentityMap',\n",
       " 'NO_COLOR',\n",
       " 'Range',\n",
       " '__all__',\n",
       " '__builtins__',\n",
       " '__cached__',\n",
       " '__doc__',\n",
       " '__file__',\n",
       " '__loader__',\n",
       " '__name__',\n",
       " '__package__',\n",
       " '__path__',\n",
       " '__spec__',\n",
       " '_chart_types',\n",
       " '_core',\n",
       " '_doc',\n",
       " '_imshow',\n",
       " '_special_inputs',\n",
       " 'absolute_import',\n",
       " 'area',\n",
       " 'bar',\n",
       " 'bar_polar',\n",
       " 'box',\n",
       " 'choropleth',\n",
       " 'choropleth_mapbox',\n",
       " 'colors',\n",
       " 'data',\n",
       " 'defaults',\n",
       " 'density_contour',\n",
       " 'density_heatmap',\n",
       " 'density_mapbox',\n",
       " 'funnel',\n",
       " 'funnel_area',\n",
       " 'get_trendline_results',\n",
       " 'histogram',\n",
       " 'imshow',\n",
       " 'imshow_utils',\n",
       " 'line',\n",
       " 'line_3d',\n",
       " 'line_geo',\n",
       " 'line_mapbox',\n",
       " 'line_polar',\n",
       " 'line_ternary',\n",
       " 'optional_imports',\n",
       " 'parallel_categories',\n",
       " 'parallel_coordinates',\n",
       " 'pd',\n",
       " 'pie',\n",
       " 'scatter',\n",
       " 'scatter_3d',\n",
       " 'scatter_geo',\n",
       " 'scatter_mapbox',\n",
       " 'scatter_matrix',\n",
       " 'scatter_polar',\n",
       " 'scatter_ternary',\n",
       " 'set_mapbox_access_token',\n",
       " 'strip',\n",
       " 'sunburst',\n",
       " 'timeline',\n",
       " 'treemap',\n",
       " 'violin']"
      ]
     },
     "execution_count": 196,
     "metadata": {},
     "output_type": "execute_result"
    }
   ],
   "source": [
    "dir(px)"
   ]
  },
  {
   "cell_type": "code",
   "execution_count": 111,
   "metadata": {
    "scrolled": false
   },
   "outputs": [
    {
     "data": {
      "text/html": [
       "<div>\n",
       "<style scoped>\n",
       "    .dataframe tbody tr th:only-of-type {\n",
       "        vertical-align: middle;\n",
       "    }\n",
       "\n",
       "    .dataframe tbody tr th {\n",
       "        vertical-align: top;\n",
       "    }\n",
       "\n",
       "    .dataframe thead th {\n",
       "        text-align: right;\n",
       "    }\n",
       "</style>\n",
       "<table border=\"1\" class=\"dataframe\">\n",
       "  <thead>\n",
       "    <tr style=\"text-align: right;\">\n",
       "      <th></th>\n",
       "      <th>Brand</th>\n",
       "      <th>Variety</th>\n",
       "      <th>Style</th>\n",
       "      <th>Country</th>\n",
       "      <th>Stars</th>\n",
       "      <th>Top Ten</th>\n",
       "    </tr>\n",
       "    <tr>\n",
       "      <th>Review #</th>\n",
       "      <th></th>\n",
       "      <th></th>\n",
       "      <th></th>\n",
       "      <th></th>\n",
       "      <th></th>\n",
       "      <th></th>\n",
       "    </tr>\n",
       "  </thead>\n",
       "  <tbody>\n",
       "    <tr>\n",
       "      <th>2580</th>\n",
       "      <td>New Touch</td>\n",
       "      <td>T's Restaurant Tantanmen</td>\n",
       "      <td>Cup</td>\n",
       "      <td>Japan</td>\n",
       "      <td>3.75</td>\n",
       "      <td></td>\n",
       "    </tr>\n",
       "    <tr>\n",
       "      <th>2579</th>\n",
       "      <td>Just Way</td>\n",
       "      <td>Noodles Spicy Hot Sesame Spicy Hot Sesame Guan...</td>\n",
       "      <td>Pack</td>\n",
       "      <td>Taiwan</td>\n",
       "      <td>1.00</td>\n",
       "      <td></td>\n",
       "    </tr>\n",
       "    <tr>\n",
       "      <th>2578</th>\n",
       "      <td>Nissin</td>\n",
       "      <td>Cup Noodles Chicken Vegetable</td>\n",
       "      <td>Cup</td>\n",
       "      <td>USA</td>\n",
       "      <td>2.25</td>\n",
       "      <td></td>\n",
       "    </tr>\n",
       "    <tr>\n",
       "      <th>2577</th>\n",
       "      <td>Wei Lih</td>\n",
       "      <td>GGE Ramen Snack Tomato Flavor</td>\n",
       "      <td>Pack</td>\n",
       "      <td>Taiwan</td>\n",
       "      <td>2.75</td>\n",
       "      <td></td>\n",
       "    </tr>\n",
       "    <tr>\n",
       "      <th>2576</th>\n",
       "      <td>Ching's Secret</td>\n",
       "      <td>Singapore Curry</td>\n",
       "      <td>Pack</td>\n",
       "      <td>India</td>\n",
       "      <td>3.75</td>\n",
       "      <td></td>\n",
       "    </tr>\n",
       "    <tr>\n",
       "      <th>...</th>\n",
       "      <td>...</td>\n",
       "      <td>...</td>\n",
       "      <td>...</td>\n",
       "      <td>...</td>\n",
       "      <td>...</td>\n",
       "      <td>...</td>\n",
       "    </tr>\n",
       "    <tr>\n",
       "      <th>5</th>\n",
       "      <td>Vifon</td>\n",
       "      <td>Hu Tiu Nam Vang [\"Phnom Penh\" style] Asian Sty...</td>\n",
       "      <td>Bowl</td>\n",
       "      <td>Vietnam</td>\n",
       "      <td>3.50</td>\n",
       "      <td></td>\n",
       "    </tr>\n",
       "    <tr>\n",
       "      <th>4</th>\n",
       "      <td>Wai Wai</td>\n",
       "      <td>Oriental Style Instant Noodles</td>\n",
       "      <td>Pack</td>\n",
       "      <td>Thailand</td>\n",
       "      <td>1.00</td>\n",
       "      <td></td>\n",
       "    </tr>\n",
       "    <tr>\n",
       "      <th>3</th>\n",
       "      <td>Wai Wai</td>\n",
       "      <td>Tom Yum Shrimp</td>\n",
       "      <td>Pack</td>\n",
       "      <td>Thailand</td>\n",
       "      <td>2.00</td>\n",
       "      <td></td>\n",
       "    </tr>\n",
       "    <tr>\n",
       "      <th>2</th>\n",
       "      <td>Wai Wai</td>\n",
       "      <td>Tom Yum Chili Flavor</td>\n",
       "      <td>Pack</td>\n",
       "      <td>Thailand</td>\n",
       "      <td>2.00</td>\n",
       "      <td></td>\n",
       "    </tr>\n",
       "    <tr>\n",
       "      <th>1</th>\n",
       "      <td>Westbrae</td>\n",
       "      <td>Miso Ramen</td>\n",
       "      <td>Pack</td>\n",
       "      <td>USA</td>\n",
       "      <td>0.50</td>\n",
       "      <td></td>\n",
       "    </tr>\n",
       "  </tbody>\n",
       "</table>\n",
       "<p>2580 rows × 6 columns</p>\n",
       "</div>"
      ],
      "text/plain": [
       "                   Brand                                            Variety  \\\n",
       "Review #                                                                      \n",
       "2580           New Touch                          T's Restaurant Tantanmen    \n",
       "2579            Just Way  Noodles Spicy Hot Sesame Spicy Hot Sesame Guan...   \n",
       "2578              Nissin                      Cup Noodles Chicken Vegetable   \n",
       "2577             Wei Lih                      GGE Ramen Snack Tomato Flavor   \n",
       "2576      Ching's Secret                                    Singapore Curry   \n",
       "...                  ...                                                ...   \n",
       "5                  Vifon  Hu Tiu Nam Vang [\"Phnom Penh\" style] Asian Sty...   \n",
       "4                Wai Wai                     Oriental Style Instant Noodles   \n",
       "3                Wai Wai                                     Tom Yum Shrimp   \n",
       "2                Wai Wai                               Tom Yum Chili Flavor   \n",
       "1               Westbrae                                         Miso Ramen   \n",
       "\n",
       "         Style   Country  Stars Top Ten  \n",
       "Review #                                 \n",
       "2580       Cup     Japan   3.75          \n",
       "2579      Pack    Taiwan   1.00          \n",
       "2578       Cup       USA   2.25          \n",
       "2577      Pack    Taiwan   2.75          \n",
       "2576      Pack     India   3.75          \n",
       "...        ...       ...    ...     ...  \n",
       "5         Bowl   Vietnam   3.50          \n",
       "4         Pack  Thailand   1.00          \n",
       "3         Pack  Thailand   2.00          \n",
       "2         Pack  Thailand   2.00          \n",
       "1         Pack       USA   0.50          \n",
       "\n",
       "[2580 rows x 6 columns]"
      ]
     },
     "execution_count": 111,
     "metadata": {},
     "output_type": "execute_result"
    }
   ],
   "source": [
    "ramen_df = pd.read_csv(\"resources/ramen-ratings.csv\")\n",
    "ramen_df['Top Ten'] = ramen_df['Top Ten'].replace([np.nan,'\\n'],'')\n",
    "ramen_df['Stars'] = ramen_df['Stars'].replace('Unrated',0)\n",
    "ramen_df = ramen_df.astype({'Stars':'float64'})\n",
    "ramen_df = ramen_df.set_index('Review #')\n",
    "ramen_df\n"
   ]
  },
  {
   "cell_type": "code",
   "execution_count": 182,
   "metadata": {},
   "outputs": [
    {
     "name": "stdout",
     "output_type": "stream",
     "text": [
      "['Solarize_Light2', '_classic_test_patch', 'bmh', 'classic', 'dark_background', 'fast', 'fivethirtyeight', 'ggplot', 'grayscale', 'seaborn', 'seaborn-bright', 'seaborn-colorblind', 'seaborn-dark', 'seaborn-dark-palette', 'seaborn-darkgrid', 'seaborn-deep', 'seaborn-muted', 'seaborn-notebook', 'seaborn-paper', 'seaborn-pastel', 'seaborn-poster', 'seaborn-talk', 'seaborn-ticks', 'seaborn-white', 'seaborn-whitegrid', 'tableau-colorblind10']\n"
     ]
    }
   ],
   "source": [
    "print(plt.style.available)\n",
    "plt.style.use('fivethirtyeight')"
   ]
  },
  {
   "cell_type": "code",
   "execution_count": 291,
   "metadata": {},
   "outputs": [
    {
     "data": {
      "image/png": "[encoded data removed]",
      "text/plain": [
       "<Figure size 1080x576 with 1 Axes>"
      ]
     },
     "metadata": {},
     "output_type": "display_data"
    }
   ],
   "source": [
    "## Plot histogram\n",
    "\n",
    "plt.figure(figsize=(15,8))\n",
    "ramen_star_dist = ramen_df['Stars'].plot(kind='hist',bins=6,color='coral',edgecolor='black')\n",
    "plt.title('Ramen Review Score Distribution\\n',fontsize=26, color='black')\n",
    "plt.xlabel('\\nStar Rating (Reviews)',fontsize=26, color='black')\n",
    "plt.ylabel('Number of Reviews\\n',fontsize=26, color='black')\n",
    "plt.savefig('visualizations/ramen_distribution.png')\n",
    "plt.show()\n"
   ]
  },
  {
   "cell_type": "code",
   "execution_count": 214,
   "metadata": {},
   "outputs": [
    {
     "name": "stdout",
     "output_type": "stream",
     "text": [
      "['Japan', 'USA', 'South Korea', 'Taiwan', 'Thailand', 'China', 'Malaysia', 'Hong Kong', 'Indonesia', 'Singapore']\n"
     ]
    }
   ],
   "source": [
    "country_df = ramen_df.groupby('Country').count()\n",
    "sorted_country_df = country_df.sort_values('Brand',ascending=False)\n",
    "top_10_reviews = sorted_country_df.head(10)\n",
    "\n",
    "countries = [name for name in top_10_reviews.index]\n",
    "print(countries)"
   ]
  },
  {
   "cell_type": "code",
   "execution_count": 295,
   "metadata": {
    "scrolled": false
   },
   "outputs": [
    {
     "data": {
      "application/vnd.plotly.v1+json": {
       "config": {
        "plotlyServerURL": "https://plot.ly"
       },
       "data": [
        {
         "alignmentgroup": "True",
         "hovertemplate": "variable=Stars<br>Country=%{x}<br>value=%{y}<extra></extra>",
         "legendgroup": "Stars",
         "marker": {
          "color": "aqua",
          "line": {
           "color": "cornflowerblue",
           "width": 1.5
          }
         },
         "name": "Stars",
         "offsetgroup": "Stars",
         "opacity": 0.6,
         "orientation": "v",
         "showlegend": true,
         "textposition": "auto",
         "type": "bar",
         "x": [
          "Japan",
          "USA",
          "South Korea",
          "Taiwan",
          "Thailand",
          "China",
          "Malaysia",
          "Hong Kong",
          "Indonesia",
          "Singapore"
         ],
         "xaxis": "x",
         "y": [
          352,
          323,
          309,
          224,
          191,
          169,
          156,
          137,
          126,
          109
         ],
         "yaxis": "y"
        }
       ],
       "layout": {
        "barmode": "relative",
        "hoverlabel": {
         "bgcolor": "white"
        },
        "legend": {
         "title": {
          "text": "variable"
         },
         "tracegroupgap": 0
        },
        "margin": {
         "t": 60
        },
        "showlegend": false,
        "template": {
         "data": {
          "bar": [
           {
            "error_x": {
             "color": "#2a3f5f"
            },
            "error_y": {
             "color": "#2a3f5f"
            },
            "marker": {
             "line": {
              "color": "#E5ECF6",
              "width": 0.5
             }
            },
            "type": "bar"
           }
          ],
          "barpolar": [
           {
            "marker": {
             "line": {
              "color": "#E5ECF6",
              "width": 0.5
             }
            },
            "type": "barpolar"
           }
          ],
          "carpet": [
           {
            "aaxis": {
             "endlinecolor": "#2a3f5f",
             "gridcolor": "white",
             "linecolor": "white",
             "minorgridcolor": "white",
             "startlinecolor": "#2a3f5f"
            },
            "baxis": {
             "endlinecolor": "#2a3f5f",
             "gridcolor": "white",
             "linecolor": "white",
             "minorgridcolor": "white",
             "startlinecolor": "#2a3f5f"
            },
            "type": "carpet"
           }
          ],
          "choropleth": [
           {
            "colorbar": {
             "outlinewidth": 0,
             "ticks": ""
            },
            "type": "choropleth"
           }
          ],
          "contour": [
           {
            "colorbar": {
             "outlinewidth": 0,
             "ticks": ""
            },
            "colorscale": [
             [
              0,
              "#0d0887"
             ],
             [
              0.1111111111111111,
              "#46039f"
             ],
             [
              0.2222222222222222,
              "#7201a8"
             ],
             [
              0.3333333333333333,
              "#9c179e"
             ],
             [
              0.4444444444444444,
              "#bd3786"
             ],
             [
              0.5555555555555556,
              "#d8576b"
             ],
             [
              0.6666666666666666,
              "#ed7953"
             ],
             [
              0.7777777777777778,
              "#fb9f3a"
             ],
             [
              0.8888888888888888,
              "#fdca26"
             ],
             [
              1,
              "#f0f921"
             ]
            ],
            "type": "contour"
           }
          ],
          "contourcarpet": [
           {
            "colorbar": {
             "outlinewidth": 0,
             "ticks": ""
            },
            "type": "contourcarpet"
           }
          ],
          "heatmap": [
           {
            "colorbar": {
             "outlinewidth": 0,
             "ticks": ""
            },
            "colorscale": [
             [
              0,
              "#0d0887"
             ],
             [
              0.1111111111111111,
              "#46039f"
             ],
             [
              0.2222222222222222,
              "#7201a8"
             ],
             [
              0.3333333333333333,
              "#9c179e"
             ],
             [
              0.4444444444444444,
              "#bd3786"
             ],
             [
              0.5555555555555556,
              "#d8576b"
             ],
             [
              0.6666666666666666,
              "#ed7953"
             ],
             [
              0.7777777777777778,
              "#fb9f3a"
             ],
             [
              0.8888888888888888,
              "#fdca26"
             ],
             [
              1,
              "#f0f921"
             ]
            ],
            "type": "heatmap"
           }
          ],
          "heatmapgl": [
           {
            "colorbar": {
             "outlinewidth": 0,
             "ticks": ""
            },
            "colorscale": [
             [
              0,
              "#0d0887"
             ],
             [
              0.1111111111111111,
              "#46039f"
             ],
             [
              0.2222222222222222,
              "#7201a8"
             ],
             [
              0.3333333333333333,
              "#9c179e"
             ],
             [
              0.4444444444444444,
              "#bd3786"
             ],
             [
              0.5555555555555556,
              "#d8576b"
             ],
             [
              0.6666666666666666,
              "#ed7953"
             ],
             [
              0.7777777777777778,
              "#fb9f3a"
             ],
             [
              0.8888888888888888,
              "#fdca26"
             ],
             [
              1,
              "#f0f921"
             ]
            ],
            "type": "heatmapgl"
           }
          ],
          "histogram": [
           {
            "marker": {
             "colorbar": {
              "outlinewidth": 0,
              "ticks": ""
             }
            },
            "type": "histogram"
           }
          ],
          "histogram2d": [
           {
            "colorbar": {
             "outlinewidth": 0,
             "ticks": ""
            },
            "colorscale": [
             [
              0,
              "#0d0887"
             ],
             [
              0.1111111111111111,
              "#46039f"
             ],
             [
              0.2222222222222222,
              "#7201a8"
             ],
             [
              0.3333333333333333,
              "#9c179e"
             ],
             [
              0.4444444444444444,
              "#bd3786"
             ],
             [
              0.5555555555555556,
              "#d8576b"
             ],
             [
              0.6666666666666666,
              "#ed7953"
             ],
             [
              0.7777777777777778,
              "#fb9f3a"
             ],
             [
              0.8888888888888888,
              "#fdca26"
             ],
             [
              1,
              "#f0f921"
             ]
            ],
            "type": "histogram2d"
           }
          ],
          "histogram2dcontour": [
           {
            "colorbar": {
             "outlinewidth": 0,
             "ticks": ""
            },
            "colorscale": [
             [
              0,
              "#0d0887"
             ],
             [
              0.1111111111111111,
              "#46039f"
             ],
             [
              0.2222222222222222,
              "#7201a8"
             ],
             [
              0.3333333333333333,
              "#9c179e"
             ],
             [
              0.4444444444444444,
              "#bd3786"
             ],
             [
              0.5555555555555556,
              "#d8576b"
             ],
             [
              0.6666666666666666,
              "#ed7953"
             ],
             [
              0.7777777777777778,
              "#fb9f3a"
             ],
             [
              0.8888888888888888,
              "#fdca26"
             ],
             [
              1,
              "#f0f921"
             ]
            ],
            "type": "histogram2dcontour"
           }
          ],
          "mesh3d": [
           {
            "colorbar": {
             "outlinewidth": 0,
             "ticks": ""
            },
            "type": "mesh3d"
           }
          ],
          "parcoords": [
           {
            "line": {
             "colorbar": {
              "outlinewidth": 0,
              "ticks": ""
             }
            },
            "type": "parcoords"
           }
          ],
          "pie": [
           {
            "automargin": true,
            "type": "pie"
           }
          ],
          "scatter": [
           {
            "marker": {
             "colorbar": {
              "outlinewidth": 0,
              "ticks": ""
             }
            },
            "type": "scatter"
           }
          ],
          "scatter3d": [
           {
            "line": {
             "colorbar": {
              "outlinewidth": 0,
              "ticks": ""
             }
            },
            "marker": {
             "colorbar": {
              "outlinewidth": 0,
              "ticks": ""
             }
            },
            "type": "scatter3d"
           }
          ],
          "scattercarpet": [
           {
            "marker": {
             "colorbar": {
              "outlinewidth": 0,
              "ticks": ""
             }
            },
            "type": "scattercarpet"
           }
          ],
          "scattergeo": [
           {
            "marker": {
             "colorbar": {
              "outlinewidth": 0,
              "ticks": ""
             }
            },
            "type": "scattergeo"
           }
          ],
          "scattergl": [
           {
            "marker": {
             "colorbar": {
              "outlinewidth": 0,
              "ticks": ""
             }
            },
            "type": "scattergl"
           }
          ],
          "scattermapbox": [
           {
            "marker": {
             "colorbar": {
              "outlinewidth": 0,
              "ticks": ""
             }
            },
            "type": "scattermapbox"
           }
          ],
          "scatterpolar": [
           {
            "marker": {
             "colorbar": {
              "outlinewidth": 0,
              "ticks": ""
             }
            },
            "type": "scatterpolar"
           }
          ],
          "scatterpolargl": [
           {
            "marker": {
             "colorbar": {
              "outlinewidth": 0,
              "ticks": ""
             }
            },
            "type": "scatterpolargl"
           }
          ],
          "scatterternary": [
           {
            "marker": {
             "colorbar": {
              "outlinewidth": 0,
              "ticks": ""
             }
            },
            "type": "scatterternary"
           }
          ],
          "surface": [
           {
            "colorbar": {
             "outlinewidth": 0,
             "ticks": ""
            },
            "colorscale": [
             [
              0,
              "#0d0887"
             ],
             [
              0.1111111111111111,
              "#46039f"
             ],
             [
              0.2222222222222222,
              "#7201a8"
             ],
             [
              0.3333333333333333,
              "#9c179e"
             ],
             [
              0.4444444444444444,
              "#bd3786"
             ],
             [
              0.5555555555555556,
              "#d8576b"
             ],
             [
              0.6666666666666666,
              "#ed7953"
             ],
             [
              0.7777777777777778,
              "#fb9f3a"
             ],
             [
              0.8888888888888888,
              "#fdca26"
             ],
             [
              1,
              "#f0f921"
             ]
            ],
            "type": "surface"
           }
          ],
          "table": [
           {
            "cells": {
             "fill": {
              "color": "#EBF0F8"
             },
             "line": {
              "color": "white"
             }
            },
            "header": {
             "fill": {
              "color": "#C8D4E3"
             },
             "line": {
              "color": "white"
             }
            },
            "type": "table"
           }
          ]
         },
         "layout": {
          "annotationdefaults": {
           "arrowcolor": "#2a3f5f",
           "arrowhead": 0,
           "arrowwidth": 1
          },
          "autotypenumbers": "strict",
          "coloraxis": {
           "colorbar": {
            "outlinewidth": 0,
            "ticks": ""
           }
          },
          "colorscale": {
           "diverging": [
            [
             0,
             "#8e0152"
            ],
            [
             0.1,
             "#c51b7d"
            ],
            [
             0.2,
             "#de77ae"
            ],
            [
             0.3,
             "#f1b6da"
            ],
            [
             0.4,
             "#fde0ef"
            ],
            [
             0.5,
             "#f7f7f7"
            ],
            [
             0.6,
             "#e6f5d0"
            ],
            [
             0.7,
             "#b8e186"
            ],
            [
             0.8,
             "#7fbc41"
            ],
            [
             0.9,
             "#4d9221"
            ],
            [
             1,
             "#276419"
            ]
           ],
           "sequential": [
            [
             0,
             "#0d0887"
            ],
            [
             0.1111111111111111,
             "#46039f"
            ],
            [
             0.2222222222222222,
             "#7201a8"
            ],
            [
             0.3333333333333333,
             "#9c179e"
            ],
            [
             0.4444444444444444,
             "#bd3786"
            ],
            [
             0.5555555555555556,
             "#d8576b"
            ],
            [
             0.6666666666666666,
             "#ed7953"
            ],
            [
             0.7777777777777778,
             "#fb9f3a"
            ],
            [
             0.8888888888888888,
             "#fdca26"
            ],
            [
             1,
             "#f0f921"
            ]
           ],
           "sequentialminus": [
            [
             0,
             "#0d0887"
            ],
            [
             0.1111111111111111,
             "#46039f"
            ],
            [
             0.2222222222222222,
             "#7201a8"
            ],
            [
             0.3333333333333333,
             "#9c179e"
            ],
            [
             0.4444444444444444,
             "#bd3786"
            ],
            [
             0.5555555555555556,
             "#d8576b"
            ],
            [
             0.6666666666666666,
             "#ed7953"
            ],
            [
             0.7777777777777778,
             "#fb9f3a"
            ],
            [
             0.8888888888888888,
             "#fdca26"
            ],
            [
             1,
             "#f0f921"
            ]
           ]
          },
          "colorway": [
           "#636efa",
           "#EF553B",
           "#00cc96",
           "#ab63fa",
           "#FFA15A",
           "#19d3f3",
           "#FF6692",
           "#B6E880",
           "#FF97FF",
           "#FECB52"
          ],
          "font": {
           "color": "#2a3f5f"
          },
          "geo": {
           "bgcolor": "white",
           "lakecolor": "white",
           "landcolor": "#E5ECF6",
           "showlakes": true,
           "showland": true,
           "subunitcolor": "white"
          },
          "hoverlabel": {
           "align": "left"
          },
          "hovermode": "closest",
          "mapbox": {
           "style": "light"
          },
          "paper_bgcolor": "white",
          "plot_bgcolor": "#E5ECF6",
          "polar": {
           "angularaxis": {
            "gridcolor": "white",
            "linecolor": "white",
            "ticks": ""
           },
           "bgcolor": "#E5ECF6",
           "radialaxis": {
            "gridcolor": "white",
            "linecolor": "white",
            "ticks": ""
           }
          },
          "scene": {
           "xaxis": {
            "backgroundcolor": "#E5ECF6",
            "gridcolor": "white",
            "gridwidth": 2,
            "linecolor": "white",
            "showbackground": true,
            "ticks": "",
            "zerolinecolor": "white"
           },
           "yaxis": {
            "backgroundcolor": "#E5ECF6",
            "gridcolor": "white",
            "gridwidth": 2,
            "linecolor": "white",
            "showbackground": true,
            "ticks": "",
            "zerolinecolor": "white"
           },
           "zaxis": {
            "backgroundcolor": "#E5ECF6",
            "gridcolor": "white",
            "gridwidth": 2,
            "linecolor": "white",
            "showbackground": true,
            "ticks": "",
            "zerolinecolor": "white"
           }
          },
          "shapedefaults": {
           "line": {
            "color": "#2a3f5f"
           }
          },
          "ternary": {
           "aaxis": {
            "gridcolor": "white",
            "linecolor": "white",
            "ticks": ""
           },
           "baxis": {
            "gridcolor": "white",
            "linecolor": "white",
            "ticks": ""
           },
           "bgcolor": "#E5ECF6",
           "caxis": {
            "gridcolor": "white",
            "linecolor": "white",
            "ticks": ""
           }
          },
          "title": {
           "x": 0.05
          },
          "xaxis": {
           "automargin": true,
           "gridcolor": "white",
           "linecolor": "white",
           "ticks": "",
           "title": {
            "standoff": 15
           },
           "zerolinecolor": "white",
           "zerolinewidth": 2
          },
          "yaxis": {
           "automargin": true,
           "gridcolor": "white",
           "linecolor": "white",
           "ticks": "",
           "title": {
            "standoff": 15
           },
           "zerolinecolor": "white",
           "zerolinewidth": 2
          }
         }
        },
        "title": {
         "font": {
          "size": 26
         },
         "text": "Countries with the Most Reviews\n"
        },
        "xaxis": {
         "anchor": "y",
         "domain": [
          0,
          1
         ],
         "title": {
          "font": {
           "size": 20
          },
          "text": "\nCountry"
         }
        },
        "yaxis": {
         "anchor": "x",
         "domain": [
          0,
          1
         ],
         "title": {
          "font": {
           "size": 20
          },
          "text": "Total Number of Reviews\n"
         }
        }
       }
      },
      "text/html": [
       "<div>                            <div id=\"1eea6d38-f3c5-477e-b577-ba7339c247c3\" class=\"plotly-graph-div\" style=\"height:525px; width:100%;\"></div>            <script type=\"text/javascript\">                require([\"plotly\"], function(Plotly) {                    window.PLOTLYENV=window.PLOTLYENV || {};                                    if (document.getElementById(\"1eea6d38-f3c5-477e-b577-ba7339c247c3\")) {                    Plotly.newPlot(                        \"1eea6d38-f3c5-477e-b577-ba7339c247c3\",                        [{\"alignmentgroup\": \"True\", \"hovertemplate\": \"variable=Stars<br>Country=%{x}<br>value=%{y}<extra></extra>\", \"legendgroup\": \"Stars\", \"marker\": {\"color\": \"aqua\", \"line\": {\"color\": \"cornflowerblue\", \"width\": 1.5}}, \"name\": \"Stars\", \"offsetgroup\": \"Stars\", \"opacity\": 0.6, \"orientation\": \"v\", \"showlegend\": true, \"textposition\": \"auto\", \"type\": \"bar\", \"x\": [\"Japan\", \"USA\", \"South Korea\", \"Taiwan\", \"Thailand\", \"China\", \"Malaysia\", \"Hong Kong\", \"Indonesia\", \"Singapore\"], \"xaxis\": \"x\", \"y\": [352, 323, 309, 224, 191, 169, 156, 137, 126, 109], \"yaxis\": \"y\"}],                        {\"barmode\": \"relative\", \"hoverlabel\": {\"bgcolor\": \"white\"}, \"legend\": {\"title\": {\"text\": \"variable\"}, \"tracegroupgap\": 0}, \"margin\": {\"t\": 60}, \"showlegend\": false, \"template\": {\"data\": {\"bar\": [{\"error_x\": {\"color\": \"#2a3f5f\"}, \"error_y\": {\"color\": \"#2a3f5f\"}, \"marker\": {\"line\": {\"color\": \"#E5ECF6\", \"width\": 0.5}}, \"type\": \"bar\"}], \"barpolar\": [{\"marker\": {\"line\": {\"color\": \"#E5ECF6\", \"width\": 0.5}}, \"type\": \"barpolar\"}], \"carpet\": [{\"aaxis\": {\"endlinecolor\": \"#2a3f5f\", \"gridcolor\": \"white\", \"linecolor\": \"white\", \"minorgridcolor\": \"white\", \"startlinecolor\": \"#2a3f5f\"}, \"baxis\": {\"endlinecolor\": \"#2a3f5f\", \"gridcolor\": \"white\", \"linecolor\": \"white\", \"minorgridcolor\": \"white\", \"startlinecolor\": \"#2a3f5f\"}, \"type\": \"carpet\"}], \"choropleth\": [{\"colorbar\": {\"outlinewidth\": 0, \"ticks\": \"\"}, \"type\": \"choropleth\"}], \"contour\": [{\"colorbar\": {\"outlinewidth\": 0, \"ticks\": \"\"}, \"colorscale\": [[0.0, \"#0d0887\"], [0.1111111111111111, \"#46039f\"], [0.2222222222222222, \"#7201a8\"], [0.3333333333333333, \"#9c179e\"], [0.4444444444444444, \"#bd3786\"], [0.5555555555555556, \"#d8576b\"], [0.6666666666666666, \"#ed7953\"], [0.7777777777777778, \"#fb9f3a\"], [0.8888888888888888, \"#fdca26\"], [1.0, \"#f0f921\"]], \"type\": \"contour\"}], \"contourcarpet\": [{\"colorbar\": {\"outlinewidth\": 0, \"ticks\": \"\"}, \"type\": \"contourcarpet\"}], \"heatmap\": [{\"colorbar\": {\"outlinewidth\": 0, \"ticks\": \"\"}, \"colorscale\": [[0.0, \"#0d0887\"], [0.1111111111111111, \"#46039f\"], [0.2222222222222222, \"#7201a8\"], [0.3333333333333333, \"#9c179e\"], [0.4444444444444444, \"#bd3786\"], [0.5555555555555556, \"#d8576b\"], [0.6666666666666666, \"#ed7953\"], [0.7777777777777778, \"#fb9f3a\"], [0.8888888888888888, \"#fdca26\"], [1.0, \"#f0f921\"]], \"type\": \"heatmap\"}], \"heatmapgl\": [{\"colorbar\": {\"outlinewidth\": 0, \"ticks\": \"\"}, \"colorscale\": [[0.0, \"#0d0887\"], [0.1111111111111111, \"#46039f\"], [0.2222222222222222, \"#7201a8\"], [0.3333333333333333, \"#9c179e\"], [0.4444444444444444, \"#bd3786\"], [0.5555555555555556, \"#d8576b\"], [0.6666666666666666, \"#ed7953\"], [0.7777777777777778, \"#fb9f3a\"], [0.8888888888888888, \"#fdca26\"], [1.0, \"#f0f921\"]], \"type\": \"heatmapgl\"}], \"histogram\": [{\"marker\": {\"colorbar\": {\"outlinewidth\": 0, \"ticks\": \"\"}}, \"type\": \"histogram\"}], \"histogram2d\": [{\"colorbar\": {\"outlinewidth\": 0, \"ticks\": \"\"}, \"colorscale\": [[0.0, \"#0d0887\"], [0.1111111111111111, \"#46039f\"], [0.2222222222222222, \"#7201a8\"], [0.3333333333333333, \"#9c179e\"], [0.4444444444444444, \"#bd3786\"], [0.5555555555555556, \"#d8576b\"], [0.6666666666666666, \"#ed7953\"], [0.7777777777777778, \"#fb9f3a\"], [0.8888888888888888, \"#fdca26\"], [1.0, \"#f0f921\"]], \"type\": \"histogram2d\"}], \"histogram2dcontour\": [{\"colorbar\": {\"outlinewidth\": 0, \"ticks\": \"\"}, \"colorscale\": [[0.0, \"#0d0887\"], [0.1111111111111111, \"#46039f\"], [0.2222222222222222, \"#7201a8\"], [0.3333333333333333, \"#9c179e\"], [0.4444444444444444, \"#bd3786\"], [0.5555555555555556, \"#d8576b\"], [0.6666666666666666, \"#ed7953\"], [0.7777777777777778, \"#fb9f3a\"], [0.8888888888888888, \"#fdca26\"], [1.0, \"#f0f921\"]], \"type\": \"histogram2dcontour\"}], \"mesh3d\": [{\"colorbar\": {\"outlinewidth\": 0, \"ticks\": \"\"}, \"type\": \"mesh3d\"}], \"parcoords\": [{\"line\": {\"colorbar\": {\"outlinewidth\": 0, \"ticks\": \"\"}}, \"type\": \"parcoords\"}], \"pie\": [{\"automargin\": true, \"type\": \"pie\"}], \"scatter\": [{\"marker\": {\"colorbar\": {\"outlinewidth\": 0, \"ticks\": \"\"}}, \"type\": \"scatter\"}], \"scatter3d\": [{\"line\": {\"colorbar\": {\"outlinewidth\": 0, \"ticks\": \"\"}}, \"marker\": {\"colorbar\": {\"outlinewidth\": 0, \"ticks\": \"\"}}, \"type\": \"scatter3d\"}], \"scattercarpet\": [{\"marker\": {\"colorbar\": {\"outlinewidth\": 0, \"ticks\": \"\"}}, \"type\": \"scattercarpet\"}], \"scattergeo\": [{\"marker\": {\"colorbar\": {\"outlinewidth\": 0, \"ticks\": \"\"}}, \"type\": \"scattergeo\"}], \"scattergl\": [{\"marker\": {\"colorbar\": {\"outlinewidth\": 0, \"ticks\": \"\"}}, \"type\": \"scattergl\"}], \"scattermapbox\": [{\"marker\": {\"colorbar\": {\"outlinewidth\": 0, \"ticks\": \"\"}}, \"type\": \"scattermapbox\"}], \"scatterpolar\": [{\"marker\": {\"colorbar\": {\"outlinewidth\": 0, \"ticks\": \"\"}}, \"type\": \"scatterpolar\"}], \"scatterpolargl\": [{\"marker\": {\"colorbar\": {\"outlinewidth\": 0, \"ticks\": \"\"}}, \"type\": \"scatterpolargl\"}], \"scatterternary\": [{\"marker\": {\"colorbar\": {\"outlinewidth\": 0, \"ticks\": \"\"}}, \"type\": \"scatterternary\"}], \"surface\": [{\"colorbar\": {\"outlinewidth\": 0, \"ticks\": \"\"}, \"colorscale\": [[0.0, \"#0d0887\"], [0.1111111111111111, \"#46039f\"], [0.2222222222222222, \"#7201a8\"], [0.3333333333333333, \"#9c179e\"], [0.4444444444444444, \"#bd3786\"], [0.5555555555555556, \"#d8576b\"], [0.6666666666666666, \"#ed7953\"], [0.7777777777777778, \"#fb9f3a\"], [0.8888888888888888, \"#fdca26\"], [1.0, \"#f0f921\"]], \"type\": \"surface\"}], \"table\": [{\"cells\": {\"fill\": {\"color\": \"#EBF0F8\"}, \"line\": {\"color\": \"white\"}}, \"header\": {\"fill\": {\"color\": \"#C8D4E3\"}, \"line\": {\"color\": \"white\"}}, \"type\": \"table\"}]}, \"layout\": {\"annotationdefaults\": {\"arrowcolor\": \"#2a3f5f\", \"arrowhead\": 0, \"arrowwidth\": 1}, \"autotypenumbers\": \"strict\", \"coloraxis\": {\"colorbar\": {\"outlinewidth\": 0, \"ticks\": \"\"}}, \"colorscale\": {\"diverging\": [[0, \"#8e0152\"], [0.1, \"#c51b7d\"], [0.2, \"#de77ae\"], [0.3, \"#f1b6da\"], [0.4, \"#fde0ef\"], [0.5, \"#f7f7f7\"], [0.6, \"#e6f5d0\"], [0.7, \"#b8e186\"], [0.8, \"#7fbc41\"], [0.9, \"#4d9221\"], [1, \"#276419\"]], \"sequential\": [[0.0, \"#0d0887\"], [0.1111111111111111, \"#46039f\"], [0.2222222222222222, \"#7201a8\"], [0.3333333333333333, \"#9c179e\"], [0.4444444444444444, \"#bd3786\"], [0.5555555555555556, \"#d8576b\"], [0.6666666666666666, \"#ed7953\"], [0.7777777777777778, \"#fb9f3a\"], [0.8888888888888888, \"#fdca26\"], [1.0, \"#f0f921\"]], \"sequentialminus\": [[0.0, \"#0d0887\"], [0.1111111111111111, \"#46039f\"], [0.2222222222222222, \"#7201a8\"], [0.3333333333333333, \"#9c179e\"], [0.4444444444444444, \"#bd3786\"], [0.5555555555555556, \"#d8576b\"], [0.6666666666666666, \"#ed7953\"], [0.7777777777777778, \"#fb9f3a\"], [0.8888888888888888, \"#fdca26\"], [1.0, \"#f0f921\"]]}, \"colorway\": [\"#636efa\", \"#EF553B\", \"#00cc96\", \"#ab63fa\", \"#FFA15A\", \"#19d3f3\", \"#FF6692\", \"#B6E880\", \"#FF97FF\", \"#FECB52\"], \"font\": {\"color\": \"#2a3f5f\"}, \"geo\": {\"bgcolor\": \"white\", \"lakecolor\": \"white\", \"landcolor\": \"#E5ECF6\", \"showlakes\": true, \"showland\": true, \"subunitcolor\": \"white\"}, \"hoverlabel\": {\"align\": \"left\"}, \"hovermode\": \"closest\", \"mapbox\": {\"style\": \"light\"}, \"paper_bgcolor\": \"white\", \"plot_bgcolor\": \"#E5ECF6\", \"polar\": {\"angularaxis\": {\"gridcolor\": \"white\", \"linecolor\": \"white\", \"ticks\": \"\"}, \"bgcolor\": \"#E5ECF6\", \"radialaxis\": {\"gridcolor\": \"white\", \"linecolor\": \"white\", \"ticks\": \"\"}}, \"scene\": {\"xaxis\": {\"backgroundcolor\": \"#E5ECF6\", \"gridcolor\": \"white\", \"gridwidth\": 2, \"linecolor\": \"white\", \"showbackground\": true, \"ticks\": \"\", \"zerolinecolor\": \"white\"}, \"yaxis\": {\"backgroundcolor\": \"#E5ECF6\", \"gridcolor\": \"white\", \"gridwidth\": 2, \"linecolor\": \"white\", \"showbackground\": true, \"ticks\": \"\", \"zerolinecolor\": \"white\"}, \"zaxis\": {\"backgroundcolor\": \"#E5ECF6\", \"gridcolor\": \"white\", \"gridwidth\": 2, \"linecolor\": \"white\", \"showbackground\": true, \"ticks\": \"\", \"zerolinecolor\": \"white\"}}, \"shapedefaults\": {\"line\": {\"color\": \"#2a3f5f\"}}, \"ternary\": {\"aaxis\": {\"gridcolor\": \"white\", \"linecolor\": \"white\", \"ticks\": \"\"}, \"baxis\": {\"gridcolor\": \"white\", \"linecolor\": \"white\", \"ticks\": \"\"}, \"bgcolor\": \"#E5ECF6\", \"caxis\": {\"gridcolor\": \"white\", \"linecolor\": \"white\", \"ticks\": \"\"}}, \"title\": {\"x\": 0.05}, \"xaxis\": {\"automargin\": true, \"gridcolor\": \"white\", \"linecolor\": \"white\", \"ticks\": \"\", \"title\": {\"standoff\": 15}, \"zerolinecolor\": \"white\", \"zerolinewidth\": 2}, \"yaxis\": {\"automargin\": true, \"gridcolor\": \"white\", \"linecolor\": \"white\", \"ticks\": \"\", \"title\": {\"standoff\": 15}, \"zerolinecolor\": \"white\", \"zerolinewidth\": 2}}}, \"title\": {\"font\": {\"size\": 26}, \"text\": \"Countries with the Most Reviews\\n\"}, \"xaxis\": {\"anchor\": \"y\", \"domain\": [0.0, 1.0], \"title\": {\"font\": {\"size\": 20}, \"text\": \"\\nCountry\"}}, \"yaxis\": {\"anchor\": \"x\", \"domain\": [0.0, 1.0], \"title\": {\"font\": {\"size\": 20}, \"text\": \"Total Number of Reviews\\n\"}}},                        {\"responsive\": true}                    ).then(function(){\n",
       "                            \n",
       "var gd = document.getElementById('1eea6d38-f3c5-477e-b577-ba7339c247c3');\n",
       "var x = new MutationObserver(function (mutations, observer) {{\n",
       "        var display = window.getComputedStyle(gd).display;\n",
       "        if (!display || display === 'none') {{\n",
       "            console.log([gd, 'removed!']);\n",
       "            Plotly.purge(gd);\n",
       "            observer.disconnect();\n",
       "        }}\n",
       "}});\n",
       "\n",
       "// Listen for the removal of the full notebook cells\n",
       "var notebookContainer = gd.closest('#notebook-container');\n",
       "if (notebookContainer) {{\n",
       "    x.observe(notebookContainer, {childList: true});\n",
       "}}\n",
       "\n",
       "// Listen for the clearing of the current output cell\n",
       "var outputEl = gd.closest('.output');\n",
       "if (outputEl) {{\n",
       "    x.observe(outputEl, {childList: true});\n",
       "}}\n",
       "\n",
       "                        })                };                });            </script>        </div>"
      ]
     },
     "metadata": {},
     "output_type": "display_data"
    }
   ],
   "source": [
    "top_bar = px.bar(top_10_reviews['Stars'])\n",
    "top_bar.update_layout(title='Countries with the Most Reviews\\n',\n",
    "                      title_font_size=26,\n",
    "                      xaxis_title='\\nCountry',\n",
    "                      yaxis_title='Total Number of Reviews\\n',\n",
    "                      xaxis_title_font_size=20,\n",
    "                      yaxis_title_font_size=20,\n",
    "                      hoverlabel=dict(bgcolor='white'),\n",
    "                      showlegend=False\n",
    "                     )\n",
    "top_bar.update_traces(marker_color='aqua', marker_line_color='cornflowerblue',marker_line_width=1.5, opacity=0.6)\n",
    "\n",
    "\n",
    "top_bar.show()\n",
    "top_bar.write_image('visualizations/countries_most_reviews.png')"
   ]
  },
  {
   "cell_type": "code",
   "execution_count": 233,
   "metadata": {},
   "outputs": [
    {
     "data": {
      "text/html": [
       "<div>\n",
       "<style scoped>\n",
       "    .dataframe tbody tr th:only-of-type {\n",
       "        vertical-align: middle;\n",
       "    }\n",
       "\n",
       "    .dataframe tbody tr th {\n",
       "        vertical-align: top;\n",
       "    }\n",
       "\n",
       "    .dataframe thead th {\n",
       "        text-align: right;\n",
       "    }\n",
       "</style>\n",
       "<table border=\"1\" class=\"dataframe\">\n",
       "  <thead>\n",
       "    <tr style=\"text-align: right;\">\n",
       "      <th></th>\n",
       "      <th>Brand</th>\n",
       "      <th>Variety</th>\n",
       "      <th>Style</th>\n",
       "      <th>Country</th>\n",
       "      <th>Stars</th>\n",
       "      <th>Top Ten</th>\n",
       "    </tr>\n",
       "    <tr>\n",
       "      <th>Review #</th>\n",
       "      <th></th>\n",
       "      <th></th>\n",
       "      <th></th>\n",
       "      <th></th>\n",
       "      <th></th>\n",
       "      <th></th>\n",
       "    </tr>\n",
       "  </thead>\n",
       "  <tbody>\n",
       "    <tr>\n",
       "      <th>2580</th>\n",
       "      <td>New Touch</td>\n",
       "      <td>T's Restaurant Tantanmen</td>\n",
       "      <td>Cup</td>\n",
       "      <td>Japan</td>\n",
       "      <td>3.75</td>\n",
       "      <td></td>\n",
       "    </tr>\n",
       "    <tr>\n",
       "      <th>2579</th>\n",
       "      <td>Just Way</td>\n",
       "      <td>Noodles Spicy Hot Sesame Spicy Hot Sesame Guan...</td>\n",
       "      <td>Pack</td>\n",
       "      <td>Taiwan</td>\n",
       "      <td>1.00</td>\n",
       "      <td></td>\n",
       "    </tr>\n",
       "    <tr>\n",
       "      <th>2578</th>\n",
       "      <td>Nissin</td>\n",
       "      <td>Cup Noodles Chicken Vegetable</td>\n",
       "      <td>Cup</td>\n",
       "      <td>USA</td>\n",
       "      <td>2.25</td>\n",
       "      <td></td>\n",
       "    </tr>\n",
       "    <tr>\n",
       "      <th>2577</th>\n",
       "      <td>Wei Lih</td>\n",
       "      <td>GGE Ramen Snack Tomato Flavor</td>\n",
       "      <td>Pack</td>\n",
       "      <td>Taiwan</td>\n",
       "      <td>2.75</td>\n",
       "      <td></td>\n",
       "    </tr>\n",
       "    <tr>\n",
       "      <th>2575</th>\n",
       "      <td>Samyang Foods</td>\n",
       "      <td>Kimchi song Song Ramen</td>\n",
       "      <td>Pack</td>\n",
       "      <td>South Korea</td>\n",
       "      <td>4.75</td>\n",
       "      <td></td>\n",
       "    </tr>\n",
       "    <tr>\n",
       "      <th>...</th>\n",
       "      <td>...</td>\n",
       "      <td>...</td>\n",
       "      <td>...</td>\n",
       "      <td>...</td>\n",
       "      <td>...</td>\n",
       "      <td>...</td>\n",
       "    </tr>\n",
       "    <tr>\n",
       "      <th>8</th>\n",
       "      <td>Tung-I</td>\n",
       "      <td>Chinese Beef Instant Rice Noodle</td>\n",
       "      <td>Pack</td>\n",
       "      <td>Taiwan</td>\n",
       "      <td>3.00</td>\n",
       "      <td></td>\n",
       "    </tr>\n",
       "    <tr>\n",
       "      <th>4</th>\n",
       "      <td>Wai Wai</td>\n",
       "      <td>Oriental Style Instant Noodles</td>\n",
       "      <td>Pack</td>\n",
       "      <td>Thailand</td>\n",
       "      <td>1.00</td>\n",
       "      <td></td>\n",
       "    </tr>\n",
       "    <tr>\n",
       "      <th>3</th>\n",
       "      <td>Wai Wai</td>\n",
       "      <td>Tom Yum Shrimp</td>\n",
       "      <td>Pack</td>\n",
       "      <td>Thailand</td>\n",
       "      <td>2.00</td>\n",
       "      <td></td>\n",
       "    </tr>\n",
       "    <tr>\n",
       "      <th>2</th>\n",
       "      <td>Wai Wai</td>\n",
       "      <td>Tom Yum Chili Flavor</td>\n",
       "      <td>Pack</td>\n",
       "      <td>Thailand</td>\n",
       "      <td>2.00</td>\n",
       "      <td></td>\n",
       "    </tr>\n",
       "    <tr>\n",
       "      <th>1</th>\n",
       "      <td>Westbrae</td>\n",
       "      <td>Miso Ramen</td>\n",
       "      <td>Pack</td>\n",
       "      <td>USA</td>\n",
       "      <td>0.50</td>\n",
       "      <td></td>\n",
       "    </tr>\n",
       "  </tbody>\n",
       "</table>\n",
       "<p>2096 rows × 6 columns</p>\n",
       "</div>"
      ],
      "text/plain": [
       "                  Brand                                            Variety  \\\n",
       "Review #                                                                     \n",
       "2580          New Touch                          T's Restaurant Tantanmen    \n",
       "2579           Just Way  Noodles Spicy Hot Sesame Spicy Hot Sesame Guan...   \n",
       "2578             Nissin                      Cup Noodles Chicken Vegetable   \n",
       "2577            Wei Lih                      GGE Ramen Snack Tomato Flavor   \n",
       "2575      Samyang Foods                             Kimchi song Song Ramen   \n",
       "...                 ...                                                ...   \n",
       "8                Tung-I                   Chinese Beef Instant Rice Noodle   \n",
       "4               Wai Wai                     Oriental Style Instant Noodles   \n",
       "3               Wai Wai                                     Tom Yum Shrimp   \n",
       "2               Wai Wai                               Tom Yum Chili Flavor   \n",
       "1              Westbrae                                         Miso Ramen   \n",
       "\n",
       "         Style      Country  Stars Top Ten  \n",
       "Review #                                    \n",
       "2580       Cup        Japan   3.75          \n",
       "2579      Pack       Taiwan   1.00          \n",
       "2578       Cup          USA   2.25          \n",
       "2577      Pack       Taiwan   2.75          \n",
       "2575      Pack  South Korea   4.75          \n",
       "...        ...          ...    ...     ...  \n",
       "8         Pack       Taiwan   3.00          \n",
       "4         Pack     Thailand   1.00          \n",
       "3         Pack     Thailand   2.00          \n",
       "2         Pack     Thailand   2.00          \n",
       "1         Pack          USA   0.50          \n",
       "\n",
       "[2096 rows x 6 columns]"
      ]
     },
     "execution_count": 233,
     "metadata": {},
     "output_type": "execute_result"
    }
   ],
   "source": [
    "some_new_df = ramen_df.loc[ramen_df['Country'].isin(countries)]\n",
    "some_new_df"
   ]
  },
  {
   "cell_type": "code",
   "execution_count": 234,
   "metadata": {},
   "outputs": [
    {
     "data": {
      "application/vnd.plotly.v1+json": {
       "config": {
        "plotlyServerURL": "https://plot.ly"
       },
       "data": [
        {
         "hovertemplate": "<b>%{hovertext}</b><br><br>Brand=New Touch<br>Country=%{x}<br>Stars=%{y}<extra></extra>",
         "hovertext": [
          "T's Restaurant Tantanmen ",
          "Sugo-Men Kyoto Backfat Shoyu Ramen",
          "T's Restaurant Sura Tanmen",
          "Sugomen Sano Ramen",
          "Sugomen Niigata Seabura Shoyu Ramen",
          "Negi Miso No Ippin Ramen",
          "Homestyle Tonjiru",
          "Kimchi Noodle",
          "Yakisoba Noodle"
         ],
         "legendgroup": "New Touch",
         "line": {
          "color": "#636efa"
         },
         "mode": "lines",
         "name": "New Touch",
         "orientation": "v",
         "showlegend": true,
         "stackgroup": "1",
         "type": "scatter",
         "x": [
          "Japan",
          "Japan",
          "Japan",
          "Japan",
          "Japan",
          "Japan",
          "Japan",
          "Japan",
          "Japan"
         ],
         "xaxis": "x",
         "y": [
          3.75,
          3.75,
          4,
          5,
          5,
          5,
          4.5,
          3.5,
          4
         ],
         "yaxis": "y"
        },
        {
         "hovertemplate": "<b>%{hovertext}</b><br><br>Brand=Just Way<br>Country=%{x}<br>Stars=%{y}<extra></extra>",
         "hovertext": [
          "Noodles Spicy Hot Sesame Spicy Hot Sesame Guan-miao Noodles",
          "Chuan Wei Spicy Guan-miao Noodles"
         ],
         "legendgroup": "Just Way",
         "line": {
          "color": "#EF553B"
         },
         "mode": "lines",
         "name": "Just Way",
         "orientation": "v",
         "showlegend": true,
         "stackgroup": "1",
         "type": "scatter",
         "x": [
          "Taiwan",
          "Taiwan"
         ],
         "xaxis": "x",
         "y": [
          1,
          4.5
         ],
         "yaxis": "y"
        },
        {
         "hovertemplate": "<b>%{hovertext}</b><br><br>Brand=Nissin<br>Country=%{x}<br>Stars=%{y}<extra></extra>",
         "hovertext": [
          "Cup Noodles Chicken Vegetable",
          "Deka Buto Kimchi Pork Flavor",
          "Demae Ramen Bar Noodle Aka Tonkotsu Flavour Instant Noodle",
          "Cup Noodles Laksa Flavour",
          "Hakata Ramen Noodle White Tonkotsu",
          "Gekikara Ramen Extra Hot Ramen Goreng",
          "Cup Noodles Very Veggie Spicy Chicken Flavor Ramen Noodle Soup",
          "Demae Iccho Tonkotsu Flavour Instant Noodle",
          "Cup Noodles Very Veggie Beef Flavor Ramen Noodle Soup",
          "Cup NoodlesTom Yam Seafood (More Shrimptacular)",
          "Cup Noodles Very Veggie Chicken Flavor Ramen Noodle Soup",
          "Nippon Onomichi Ramen",
          "Straits Reborn Laksa",
          "Cup Noodles Potato Chips Black Pepper Crab Flavour",
          "Cup Noodles Blacl Pepper Crab Flavour (More Angry Crab)",
          "Cup Noodles Mini Seafood Flavour",
          "Cup Noodles XO Sauce Seafood",
          "Gekikara Ramen Rasa Pedas",
          "Cup Noodles MUG Shoyu & Seafood",
          "Raoh Nojyuku Toro Tonkotsu Ramen",
          "Cup Noodles Indonesia Mie Goreng",
          "Seafood Flavour Rice Vermicelli",
          "Cup Noodles Spicy Seafood Flavor",
          "Kitsune Udon Donbei (West)",
          "Cup Noodles Beef Flavour",
          "Cup Noodles Mini Spicy Seafood",
          "Cup Noodles Tom Yam Seafood Flavour",
          "Cup Noodles Prawn Flavour",
          "Rice Vermicelli Pickled Vegetable Pork Flavour",
          "Demae Iccho Sesame Oil Flavour Instant Noodle",
          "Cup Noodles Beef Flavor Ramen Noodle Soup (New Recipe)",
          "Demae Iccho Seafood Flavour Instant Noodle",
          "Cup Noodles Hot & Spicy Shrimp Flavor Ramen Noodle Soup (New Recipe)",
          "Disney Cuties Instant Chicken With Corn Flavour",
          "Demae Iccho Chicken Flavour Instant Noodle (Bowl Noodle)",
          "Cup Noodles Rich Garlic, Egg Yolk & Oxtail",
          "Cup Noodles BIG XO Sauce Seafood Flavour",
          "Demae Iccho Tonkotsu Flavour Instant Noodle (Bowl Noodle)",
          "Cup Noodles Spicy Lime Flavor Ramen Noodle Soup (New Recipe)",
          "Demae Iccho Tokyo Shoru Tonkotsu Instant Noodle",
          "Nupasta Bolognese Flavour Instant Noodle",
          "Cup Noodle Spicy Curry Chicken",
          "Cup Noodles Spicy Beef Flavour",
          "Cup Noodles Big Seafood Flavour",
          "Demae Iccho Black Garlic Oil Tonkotsu Flavour Instant Noodles",
          "Yakisoba",
          "Demae Ramen Spicy Xo Sauce Seafood Flavour Instant Noodle",
          "Cup Noodles Spicy Chile Chicken (New Recipe)",
          "Cup Noodles Seafood",
          "Nupasta Bacon In Carbonara Sauce Flavour Instant Noodle",
          "Demae Ramen Straight Noodle Black Garlic Oil Tonkotsu Flavour Instant Noodle",
          "Cup Noodles Tom Yum Goong Flavour",
          "Korean Kimchi Flavour Vermicelli",
          "Raoh Pork Bone Soy Soup Noodle",
          "Demae Iccho Red Hot Seafood Flavour Instant Noodle",
          "Demae Iccho Spicy Tonkotsu Flavour Instant Noodle (Bowl Noodle)",
          "Raoh Tantanmen",
          "Cup Noodles With Shrimp Ramen Noodle Soup (New Recipe)",
          "Demae Iccho Spicy Kimchi Pot Flavour Instant Noodle (Bowl Noodle)",
          "Nupasta Neapolitan Flavour Instant Noodle",
          "Disney Cuties Instant Noodle Crab Flavour",
          "Cup Noodles Rich Soft Shelled Turle Soup",
          "Disney Cuties Instant Noodle Seaweed Flavour",
          "Demae Iccho Spicy XO Sauce Seafood Flavour",
          "Sapporo Noukou Miso Ramen",
          "Vietnamese Chicken Coriander Flavour Vermicelli",
          "Cup Noodles Black Pepper Crab Flavour",
          "Cup Noodles Chicken Flavor Ramen Noodle Soup (New Recipe)",
          "Cup Noodle Light+ Bagna Cauda",
          "Cup Noodles Milk Seafood Flavour",
          "Spicy Chikin Donburi",
          "Raoh Shoyu Ramen",
          "Cup Noodle Seafood",
          "Demae Ramen Spicy Seafood Flavour Instant Noodle",
          "Disney Cuties Instant Noodle Roast Pork Flavour",
          "Demae Ramen Spicy Hot tonkotsu Flavour Instant Noodle",
          "Big Cup Noodles Tonkotsu Flavour",
          "Deka Buto Kuro M-yu Tonkotsu",
          "Nupasta Vongole Flavour Instant Noodle",
          "Gyorai Inaniwa Chuka Soba",
          "Demae Ramen Sesame Oil Flavour Cup",
          "Raoh Hot & Sour Ramen",
          "Piritto Karakuchi Tantan Udon",
          "Men Shokunin Kaoruyasai Shio",
          "Demae Ramen Spicy Curry Flavour Instant Noodles",
          "Demae Ramen Roast Beef Flavour Instant Noodles",
          "Kimchi Chikin Ramen Donburi",
          "Mennippon Oumi Chanpon",
          "Cup Noodles Tom Yum Shrimp Sabb Flavour",
          "Chilli Noodles Stir Fried Holy Basil Flavour",
          "Instant Noodles Moo Manao Flavour",
          "Super Tom Yum Shrimp",
          "Cup Noodles Minced Pork Flavour",
          "Chilli Noodles Tom Yum Shrimp Creamy Soup Flavour",
          "Instant Noodles Tom Yum Shrimp Saab Flavour",
          "Cup Noodles Moo Manao Flavour",
          "Instant Noodles Minced Pork Flavour",
          "Cup Noodles Seafood Creamy Flavour",
          "Chilli Noodles Spicy Tom Yum Flavour",
          "Cup Noodles Chilli Crab Flavour",
          "Cup Noodles Singapore Laksa",
          "Straits Kitchen Laksa",
          "Nupasta Salmon In White Sauce Flavour Instant Noodle",
          "Big Cup Noodles Seafood Curry Flavour",
          "Demae Iccho Beef Flavour Instant Noodle",
          "Mie Goreng Indonesia Stir Noodle Original Flavour",
          "Demae Ramen Sesame Flavour Instant Noodles",
          "Demae Ramen Straight Noodle Kyushu Tonkotsu Instant Noodle",
          "Taisho Fried Noodle Sesame Paste Flavour Instant Noodle",
          "Cup Noodles Pork Chowder Flavour",
          "Cup Mifun Spicy Beef Flavour",
          "Nupasta Carbonara Flavour Instant Noodle",
          "Demae Iccho Curry Beef Flavour",
          "Cup Noodles Big Spicy Seafood Flavour",
          "Demae Iccho Black Garlic Oil Tonkotsu",
          "Cup Noodle Light+ Cheese Fondue",
          "Tokyo Tokunou Gyokai Tonkotsu",
          "Shinshu Miso Ramen",
          "Donbei Dashi Shoyu Yakiudon",
          "Raoh Rich Miso Flavor",
          "Cup Noodles Tom Yum Goong",
          "Cup Noodle Big Seafood Clam Chowder",
          "Chikin Ramen Donburi",
          "Curry Udon",
          "Men Shokunin Shoyu",
          "Cup Noodle Vegeta Buta-kyabetsu Tonkotsu",
          "Cup Noodle Pasta Style Tarako Spaghetti",
          "Cup Noodle Big Cheese Mexican Chilli",
          "Gyoretsu-no-Dekiru-Mise-no-Ramen (Shrimp Tantanmen)",
          "Raoh Tonkotsu",
          "Cup Noodle Light Plus Ratatouille",
          "Cup Noodle Milk Chikin Ramen",
          "Cup Noodle",
          "Yokohama Walker Iekei Ramen",
          "Chinese Tan Tan Vermicelli",
          "BIG Cup Noodle Ajillo",
          "Top Ramen Chicken Flavor Ramen Noodle Soup (New Packaging)",
          "Raoh Ramen Noodle Soup Umami Soy Sauce Flavor",
          "Cup Noodles Ramen Noodle Soup Hearty Chicken Flavor [New Package]",
          "Raoh Shio Ramen",
          "Cup Noodle Pasta Style Bolognese",
          "Donbei Kamodashi Soba",
          "Bowl Noodles Hot & Spicy Chicken Flavor Less Sodium Ramen Noodle Soup",
          "Cup Noodles Ramen Noodle Soup Chicken Flavor [New Package]",
          "Emergency Chikin Ramen Cup Noodle",
          "Chow Mein Pad Thai",
          "Kuroma-yu Tonkotsu Kumamoto Ramen",
          "Cup Noodle Massaman Curry",
          "Cup Noodle Sio",
          "Cup Noodles Homestyle Chicken",
          "Cup Noodles Kyushu White Flavour",
          "Cup Noodles Minced Pork Flavour",
          "Raoh Ramen Noodle Soup Umami Tonkotsu Flavor",
          "Cupo Noodle Pasta Style Vongole",
          "Raoh Ramen Noodle Soup Umami Miso Flavor",
          "Chow Mein Savory Sauce And Restayrant Quality Noodles Roast Chicken Flavor ",
          "Cup Noodles Ramen Noodles Ramen Noodle Soup Beef Flavor (New Package) ",
          "Chow Mein Premium Savory Sauce And Restaurant Quality Noodles Sriracha Flavor",
          "Cup Noodles Ramen Noodles With Shrimp (New Package) ",
          "Cup Noodles Moo Manao Flavour",
          "Raoh Tanrei Koku Shio Ramen",
          "Donbei Tempura Soba Mini",
          "Gonbuto Kistune Udon",
          "Chu Qian Yi Ding Tom Yum Instant Noodles With Soup Base",
          "Demae Iccho Mushroom With Vegetables Flavour Macaroni",
          "Original Chow Mein Premium Spicy Chicken Flavor",
          "Gonbuto Tempura Udon",
          "Emergency Cup Noodle",
          "Demae Rice Vermicelli Beef Flavour",
          "Chu Qian Yi Ding Spicy Sesame Flavour Instant Noodles With Soup Base",
          "Donbei Kitsune Udon Mini",
          "Chu Qian Yi Ding Prawn Flavour Instant Noodles With Soup Base",
          "Easy Fideos Picante Lime Shrimp Flavor Ramen Noodle Soup",
          "Cup Noodles Easy Fideos Tomato Chicken Flavor Ramen Noodle Soup",
          "Cup Noodles Black Pepper Crab Flavour",
          "Premium Instant Noodles Spicy Beef Flavour",
          "Cup Noodles Tom Yam Veg Flavour",
          "Premium Instant Noodles Roasted Beef Flavour",
          "Chu Qian Yi Ding Sesame Oil Flavour",
          "Cup Noodles Chicken Flavour",
          "Premium Instant Noodles XO Sauce Seafood Flavour",
          "Cup Noodles Chilli Crab Flavour",
          "Japanese Ramen Kyushu Black Instant Noodles With Soup Base",
          "Premium Instant Noodles Spicy Beef Flavour",
          "Cup Noodles Tom Yam Seafood Flavour",
          "Japanese Ramen Tokyo Shoyu Instant Noodles With Soup Base",
          "Cup Noodles Seafood Curry Flavour",
          "Premium Instant Noodles Roasted Beef Flavour",
          "Cup Noodles Cream Of Chicken Flavour",
          "Souper Meal Chili Picante Chicken With Lime Flavor Ramen Noodle Soup",
          "Pan Asian Kitchen Spicy Szechuan Chicken Flavor Ramen Noodles",
          "Fried Noodle Specialist Tom Yam Mee Goreng Flavour",
          "Spa Oh Tarako Spaghetti",
          "Cup Noodle Cheese Curry",
          "Demae Ramen Shoyu Tonkotsu Artificial Pork Flavour",
          "Cup Noodle Curry X Gunpla RX-78-2 Gundam",
          "Chow Mein Teriyaki Chicken Flavor Chow Mein Noodles",
          "Demae Rice Vermicelli Chicken Flavour Instant Rice Vermicelli With Soup Base",
          "Donbei Kansai Soy Sauce Flavor Udon",
          "Demae Ramen Miso Tonkotsu Artificial Pork Flavor Ramen Noodle",
          "Pan Asian Kitchen Sweet & Sour Chicken Flavor Ramen Noodles",
          "Ultraman Instant Noodle Pork Flavour",
          "Demae Iccho Instant Noodle With Soup Base Artificial Chicken Flavour",
          "UFO Yakisoba With Wasabi Mayonnaise",
          "Cup Noodle Chilli Tomato",
          "Bowl Noodles Chicken Flavor",
          "Donbei Curry Udon (West Japanese)",
          "Chow Mein With Shrimp Chow Mein Noodles",
          "Chanpon Ramen",
          "Demae Iccho XO Sauce Seafood Flavour",
          "Yakisoba",
          "Big Cup Noodles Habanero Lime Shrimp Flavor Ramen Noodle Soup",
          "Pan Asian Kitchen Sukiyaki Beef Flavor Savory Soy Sauce Ramen Noodles",
          "Demae Ramen Kimchi Flavour Instant Noodle With Soup Base",
          "Raoh Rich Soy Sauce With Roast Pork (2 Slices)",
          "GooTa Demi Hamburg-Men",
          "Raoh Soy Sauce Taste",
          "Raoh Rich Miso Flavor",
          "Cup Noodle Red Shock",
          "Chow Mein Chicken",
          "King Cup Noodle BBQ Chicken & Onion",
          "Big Cup Noodles Habanero Lime Chicken Flavor Ramen Noodle Soup",
          "King Spa Oh Peperoncino Spaghetti (日清生タイプSpa王 ペペロンチーノ)",
          "Demae Ramen Sesame Oil Flavour Noodles With Soup Base",
          "Chow Mein Spicy Teriyaki Beef",
          "Pan Asian Kitchen Spicy Pad Thai",
          "Donbei Tensoba",
          "Raoh Backfat Rich Soy Sauce Flavor",
          "Bowl Noodles Hot & Spicy Super Picante",
          "Ramen Shop Sapporo Miso",
          "Top Ramen Cucharealo Habanero Shrimp",
          "Top Ramen Short Cuts Lime Chili",
          "Top Ramen Short Cuts Roast Chicken",
          "Top Ramen Short Cuts Chicken",
          "Top Ramen Cucharealo Tomato Chicken",
          "Top Ramen Short Cuts Beef",
          "Top Ramen Cucharealo Picante Chicken",
          "Cup Noodles Salsa Picante Chicken",
          "Cup Noodles Shrimp Picante Style",
          "Big Cup Noodles Roast Chicken",
          "Spoon-it Chicken",
          "U.F.O. Yakiosoba",
          "Spoon-it Beef",
          "Ramen Bowl Spicy Chicken",
          "Spoon-it Creamy Chicken",
          "Chow Mein Spicy Chicken",
          "Chow Mein Chinese Chicken Vegetable",
          "Spoon-it Rich Hearty Beef Stew",
          "Demae Ramen Black Garlic Oil Tonkotsu",
          "Big Cup Noodles Lime Chili Shrimp",
          "Chikin Ramen (Local)",
          "Cup Noodles Salsa Picante Shrimp",
          "Chow Mein Orange Chicken",
          "Spoon-it Rich Hearty Savory Chicken",
          "Big Cup Noodles Spicy Chicken",
          "Cup Noodles Xo Sauce Seafood",
          "Gozen Tempura",
          "Ramen Bowl Kimchi",
          "Ramen Bowl Spicy Shrimp",
          "Ramen Bowl Hot & Spicy",
          "Gozen Kitsune Udon",
          "Demae Iccho Sesame Oil Chicken Macaroni",
          "Taisho Fried Noodle Yakisoba",
          "Top Ramen Chicken",
          "Demae Ramen Chicken",
          "Cup Noodles Spicy Seafood",
          "Demae Iccho Seafood & Abalone Macaroni",
          "Souper Meal Picante Shrimp Hot Spicy",
          "Top Ramen Shrimp",
          "Cup Noodles Seafood Curry",
          "Yakisoba Noodles Karashi",
          "Bowl Noodles Rich & Savory Beef",
          "Demae Iccho Tom Yam Goong Macaroni",
          "Chow Mein Thai Peanut",
          "Cup Noodles Chicken Vegetable",
          "Chow Noodles Alfredo",
          "Cup Noodles Prawn",
          "Demae Iccho Tonkotsu Macaroni",
          "Cup Noodles Hearty Chicken",
          "Bowl Noodles Hot & Spicy Beef",
          "Top Ramen Chili",
          "Top Ramen Picante Beef",
          "Souper Meal Tomato Garlic Shrimp",
          "Big Cup Noodles Chicken",
          "Big Cup Noodles Beef",
          "Big Cup Noodles Shrimp",
          "Cup Noodles Crab",
          "Cup Noodles Seafood",
          "Cup Noodles Spicy Chile Chicken",
          "Cup Noodles Chicken",
          "Chow Mein Kung Pao Chicken",
          "Bowl Noodles Hot & Spicy Shrimp",
          "Cup Noodles Beef",
          "Cup Noodles Shrimp",
          "Karashi Mayo Yakisoba",
          "Chow Noodles Tomato Basil",
          "Chow Noodles Cheddar Cheese",
          "Top Ramen Beef",
          "Souper Meal Beef Flavor Minestrone",
          "Bowl Noodles Hot & Spicy Chicken",
          "Creamy Chicken",
          "Chow Mein Teriyaki Beef",
          "Bowl Noodles Rich & Savory Chicken",
          "Yakisoba With Mayonnaise/Mustard Packet",
          "Demae Ramen Sesame",
          "Demae Ramen Spicy Flavor",
          "Demae Ramen Miso",
          "Demae Ramen Seafood",
          "Demae Ramen Prawn",
          "Demae Ramen Shoyu",
          "Demae Ramen Five Spices Artificial Beef",
          "Demae Ramen Tonkatsu Artificial Pork",
          "Demae Ramen Satay",
          "Demae Ramen XO Sauce Seafood",
          "Top Ramen Oriental",
          "Souper Meal Chicken Flavor With Vegetable Medley",
          "Chikin Ramen",
          "Demae Ramen Curry Flavor",
          "Soba Noodles With Mayo Mustard Squirt",
          "Demae Ramen Spicy Flavor",
          "Demae Ramen Spicy Seafood With Chili Pepper",
          "Top Ramen Creamy Chicken"
         ],
         "legendgroup": "Nissin",
         "line": {
          "color": "#00cc96"
         },
         "mode": "lines",
         "name": "Nissin",
         "orientation": "v",
         "showlegend": true,
         "stackgroup": "1",
         "type": "scatter",
         "x": [
          "USA",
          "Japan",
          "Hong Kong",
          "Hong Kong",
          "Japan",
          "Indonesia",
          "USA",
          "Hong Kong",
          "USA",
          "Singapore",
          "USA",
          "Japan",
          "Singapore",
          "Singapore",
          "Singapore",
          "Hong Kong",
          "China",
          "Indonesia",
          "Japan",
          "Japan",
          "Japan",
          "Hong Kong",
          "China",
          "Japan",
          "Hong Kong",
          "Hong Kong",
          "Singapore",
          "Hong Kong",
          "Hong Kong",
          "Hong Kong",
          "USA",
          "Hong Kong",
          "USA",
          "Thailand",
          "Hong Kong",
          "Japan",
          "Hong Kong",
          "Hong Kong",
          "USA",
          "Hong Kong",
          "Japan",
          "Japan",
          "Hong Kong",
          "Hong Kong",
          "Hong Kong",
          "Japan",
          "Hong Kong",
          "USA",
          "China",
          "Hong Kong",
          "Hong Kong",
          "Hong Kong",
          "Hong Kong",
          "Japan",
          "Hong Kong",
          "Hong Kong",
          "Japan",
          "USA",
          "Hong Kong",
          "Hong Kong",
          "Thailand",
          "Japan",
          "Thailand",
          "Hong Kong",
          "Japan",
          "Hong Kong",
          "Hong Kong",
          "USA",
          "Japan",
          "Hong Kong",
          "Japan",
          "Japan",
          "Japan",
          "Hong Kong",
          "Thailand",
          "Hong Kong",
          "Hong Kong",
          "Japan",
          "Hong Kong",
          "Japan",
          "Hong Kong",
          "Japan",
          "Japan",
          "Japan",
          "Hong Kong",
          "Hong Kong",
          "Japan",
          "Japan",
          "Thailand",
          "Thailand",
          "Thailand",
          "Thailand",
          "Thailand",
          "Thailand",
          "Thailand",
          "Thailand",
          "Thailand",
          "Thailand",
          "Thailand",
          "Hong Kong",
          "Japan",
          "Singapore",
          "Hong Kong",
          "Hong Kong",
          "Hong Kong",
          "Hong Kong",
          "Hong Kong",
          "Hong Kong",
          "Hong Kong",
          "Hong Kong",
          "Hong Kong",
          "Hong Kong",
          "Hong Kong",
          "Hong Kong",
          "Hong Kong",
          "Japan",
          "Japan",
          "Japan",
          "Japan",
          "Japan",
          "Japan",
          "Japan",
          "Japan",
          "Japan",
          "Japan",
          "Japan",
          "Japan",
          "Japan",
          "Japan",
          "Japan",
          "Japan",
          "Japan",
          "Japan",
          "Japan",
          "Hong Kong",
          "Japan",
          "USA",
          "USA",
          "USA",
          "Japan",
          "Japan",
          "Japan",
          "USA",
          "USA",
          "Japan",
          "USA",
          "Japan",
          "Japan",
          "Japan",
          "USA",
          "Singapore",
          "Thailand",
          "USA",
          "Japan",
          "USA",
          "USA",
          "USA",
          "USA",
          "USA",
          "Thailand",
          "Japan",
          "Japan",
          "Japan",
          "Singapore",
          "Hong Kong",
          "USA",
          "Japan",
          "Japan",
          "Hong Kong",
          "Singapore",
          "Japan",
          "Singapore",
          "USA",
          "USA",
          "Singapore",
          "Singapore",
          "Singapore",
          "Singapore",
          "Singapore",
          "Singapore",
          "Singapore",
          "Singapore",
          "Singapore",
          "Singapore",
          "Singapore",
          "Singapore",
          "Singapore",
          "Singapore",
          "Singapore",
          "USA",
          "USA",
          "Singapore",
          "Japan",
          "Japan",
          "Hong Kong",
          "Japan",
          "USA",
          "Hong Kong",
          "Japan",
          "Hong Kong",
          "USA",
          "Japan",
          "Hong Kong",
          "Japan",
          "Japan",
          "USA",
          "Japan",
          "USA",
          "Japan",
          "Hong Kong",
          "Japan",
          "USA",
          "USA",
          "Hong Kong",
          "Japan",
          "Japan",
          "Japan",
          "Japan",
          "Japan",
          "USA",
          "Japan",
          "USA",
          "Japan",
          "Hong Kong",
          "USA",
          "USA",
          "Japan",
          "Japan",
          "USA",
          "Japan",
          "USA",
          "USA",
          "USA",
          "USA",
          "USA",
          "USA",
          "USA",
          "USA",
          "USA",
          "USA",
          "USA",
          "Japan",
          "USA",
          "USA",
          "USA",
          "USA",
          "USA",
          "USA",
          "Japan",
          "USA",
          "Japan",
          "USA",
          "USA",
          "USA",
          "USA",
          "Hong Kong",
          "Japan",
          "USA",
          "USA",
          "USA",
          "Japan",
          "Japan",
          "Japan",
          "USA",
          "Japan",
          "Hong Kong",
          "Japan",
          "USA",
          "USA",
          "Hong Kong",
          "Japan",
          "USA",
          "Japan",
          "USA",
          "USA",
          "USA",
          "Singapore",
          "Japan",
          "USA",
          "USA",
          "USA",
          "USA",
          "USA",
          "USA",
          "USA",
          "USA",
          "Hong Kong",
          "Hong Kong",
          "USA",
          "USA",
          "USA",
          "USA",
          "USA",
          "USA",
          "Japan",
          "USA",
          "USA",
          "USA",
          "USA",
          "USA",
          "USA",
          "USA",
          "USA",
          "Japan",
          "Japan",
          "Japan",
          "Japan",
          "Japan",
          "Japan",
          "Japan",
          "Japan",
          "Japan",
          "Japan",
          "Japan",
          "USA",
          "Japan",
          "Japan",
          "Japan",
          "Japan",
          "Japan",
          "Japan",
          "USA"
         ],
         "xaxis": "x",
         "y": [
          2.25,
          4.5,
          5,
          4.25,
          4.75,
          4.5,
          5,
          3.75,
          5,
          5,
          5,
          4.75,
          5,
          4.5,
          5,
          5,
          3.75,
          3.25,
          3.5,
          4.5,
          3.75,
          5,
          3.75,
          5,
          2.5,
          4,
          5,
          3.75,
          3.75,
          3.5,
          3.5,
          4.75,
          2.5,
          3.25,
          5,
          4,
          4,
          3,
          4,
          4,
          4,
          5,
          4,
          4,
          4,
          5,
          4,
          4,
          4,
          5,
          5,
          4,
          4,
          5,
          4,
          5,
          5,
          3,
          4,
          5,
          4,
          3,
          3,
          4,
          5,
          4,
          4,
          4,
          5,
          4,
          5,
          5,
          5,
          5,
          3,
          5,
          3,
          5,
          4,
          5,
          4,
          5,
          4,
          5,
          4,
          4,
          5,
          5,
          5,
          5,
          4,
          3.5,
          3.5,
          3.25,
          4,
          4,
          3.5,
          4,
          4,
          3.75,
          5,
          5,
          5,
          5,
          4,
          4,
          5,
          5,
          5,
          4,
          4,
          5,
          4,
          5,
          3.75,
          5,
          5,
          5,
          3.75,
          5,
          3.8,
          4,
          5,
          5,
          5,
          4.3,
          4,
          5,
          5,
          5,
          4.5,
          5,
          5,
          4.5,
          5,
          3,
          3.5,
          4.75,
          4.25,
          4.75,
          5,
          5,
          4,
          3.5,
          5,
          3,
          4.75,
          3.5,
          5,
          3.5,
          3.5,
          3.75,
          5,
          2.75,
          4.5,
          4.5,
          3.5,
          4.25,
          3.5,
          4,
          4.5,
          4,
          2.75,
          3.75,
          3.5,
          4,
          4,
          4.25,
          3.5,
          3.5,
          3.5,
          3.5,
          3.5,
          3.5,
          4,
          3.75,
          4,
          3.75,
          3.75,
          3.5,
          3.75,
          4,
          5,
          3.75,
          4,
          5,
          4,
          4.25,
          4,
          3.5,
          3,
          3,
          4,
          3.75,
          4.75,
          4.25,
          3.75,
          1.75,
          3.75,
          3.75,
          3.75,
          3,
          3,
          5,
          4.5,
          3.5,
          3.25,
          3.75,
          4.75,
          4,
          5,
          3.5,
          3.75,
          3.5,
          4.5,
          4.75,
          4,
          5,
          3.75,
          3.5,
          3.75,
          3.5,
          4.25,
          4.5,
          4.5,
          2.75,
          4,
          5,
          3.25,
          4,
          3.75,
          3.75,
          4.25,
          4,
          3.5,
          3.5,
          4.5,
          3,
          3.25,
          3.25,
          3.5,
          3.75,
          3.25,
          3.25,
          4,
          3.25,
          4,
          3.5,
          4.5,
          4,
          5,
          3.5,
          4,
          3.25,
          3.5,
          3.75,
          4,
          3,
          3,
          3.75,
          5,
          3.75,
          4.25,
          3.25,
          3,
          3.75,
          4,
          2.75,
          3.5,
          4.25,
          5,
          3.75,
          4,
          2.5,
          2.75,
          3.75,
          3.25,
          3.5,
          2.5,
          3.75,
          3.25,
          3,
          3.5,
          2.25,
          2.125,
          2.25,
          3.25,
          4.5,
          3.5,
          3.5,
          1.5,
          3.5,
          3.5,
          3.5,
          4.75,
          4,
          4,
          3.75,
          3,
          2,
          1.75,
          4.5,
          1.75,
          5,
          3.75,
          2,
          2.75,
          2.5,
          3.25,
          4,
          3.5,
          3.5,
          2.5,
          4,
          2.5,
          3,
          5,
          4,
          4,
          3,
          2,
          4.5
         ],
         "yaxis": "y"
        },
        {
         "hovertemplate": "<b>%{hovertext}</b><br><br>Brand=Wei Lih<br>Country=%{x}<br>Stars=%{y}<extra></extra>",
         "hovertext": [
          "GGE Ramen Snack Tomato Flavor",
          "GGE Noodle Snack Wheat Crackers Mexican Spicy",
          "GGE Noodle Snack Wheat Crackers Soy Sauce Ramen",
          "GGE Noodle Snack Wheat Crackers Hot Spicy",
          "Jah Jan Men",
          "Instant Noodles With Onion Flavour",
          "Steam Instant Noodles Korean Salt & Rib Soup Flavour",
          "What’s That? Leisure Meatballs Spicy Chicken Flavor",
          "What’s That? Leisure Meatballs Chicken Flavor",
          "Spicy Sichuan Flavor Instant Noodle",
          "Good Good Eat Super Ramen Vegetable",
          "Goog Good Eat Super Ramen Hot Chili",
          "Good Good Eat Super Ramen Original",
          "Artificial Beef Flavor",
          "Jah Jan Mien Instant Noodle With Fried Soybean Paste"
         ],
         "legendgroup": "Wei Lih",
         "line": {
          "color": "#ab63fa"
         },
         "mode": "lines",
         "name": "Wei Lih",
         "orientation": "v",
         "showlegend": true,
         "stackgroup": "1",
         "type": "scatter",
         "x": [
          "Taiwan",
          "Taiwan",
          "Taiwan",
          "Taiwan",
          "Taiwan",
          "Taiwan",
          "Taiwan",
          "Taiwan",
          "Taiwan",
          "Taiwan",
          "Taiwan",
          "Taiwan",
          "Taiwan",
          "Taiwan",
          "Taiwan"
         ],
         "xaxis": "x",
         "y": [
          2.75,
          3.25,
          3.75,
          5,
          5,
          4.25,
          2.25,
          3.75,
          3.75,
          3.5,
          2.75,
          3.75,
          3,
          1,
          4
         ],
         "yaxis": "y"
        },
        {
         "hovertemplate": "<b>%{hovertext}</b><br><br>Brand=Samyang Foods<br>Country=%{x}<br>Stars=%{y}<extra></extra>",
         "hovertext": [
          "Kimchi song Song Ramen",
          "Song Song Kimchi Big Bowl",
          "Paegaejang Ramen",
          "Jjamppong Big Bowl",
          "Samyang Ramen Classic Edition",
          "Mala Buldak Bokkeummyun",
          "Buldak Bokkeummyun",
          "Kimchi Stew Ramyun",
          "Sari Ramen",
          "Cheese Type Buldak Bokkeummyun (Black Pkg)",
          "Cheese Buldak Bokkeummyun (Black)",
          "Zzaldduck Buldak Bokkeummyun Snack",
          "Curry Buldak Bokkeummyun",
          "Cool/Ice Buldak Bokkeummyun",
          "2x Spicy Haek Buldak Bokkeummyun",
          "Buldak Bokkeummyun Snack",
          "Stew Buldak Bokkeumtangmyun",
          "Cheese Buldak Bokkeummyun",
          "Buldak Bokkeummyun (New Packaging)",
          "Buldak Bokkummyun Cheese Flavor",
          "Gold Jjamppong Fried Noodle",
          "Fresh Bibimmyun Fried Noodle",
          "Pojangmacha Udon",
          "Fresh Jjajang",
          "Honey & Cheese Big Bowl",
          "Cheese Curry Ramyun",
          "Seafood Noodle",
          "Shoyu Noodle",
          "Curry Noodle",
          "Sogokimyun Hot Flavor Noodle Soup",
          "Buldak Bokkummyeon",
          "Nagasaki Jjamppong",
          "Red Nagasaki Jjampong",
          "Baked Noodle Spicy Grilled Beef Ramyun",
          "三養라면 (Samyang Ramyun) (South Korean Version)",
          "Maesaengyitangmyun Baked Noodle",
          "Star Popeye Ramyun Snack",
          "Chacharoni",
          "Ganjjampong",
          "Samyang Ramyun (SK Version)",
          "60 Ingredients Assorted Vegetable SK Version",
          "Nagasaki Crab Jjampong",
          "Buldalk Bokkeummyeon (Hot Fried Chicken Ramyun)",
          "Yukgaejang Beef Ramyun",
          "Bajirak Kalgugsu",
          "Hot Chacharoni",
          "Samyang Ramyun",
          "Beef Flavor Ramyun (SK Version)",
          "Nagasaki Jjampong",
          "Kimchi Ramyun (SK Version)",
          "Ganjjampong",
          "Sutah (SK Version)"
         ],
         "legendgroup": "Samyang Foods",
         "line": {
          "color": "#FFA15A"
         },
         "mode": "lines",
         "name": "Samyang Foods",
         "orientation": "v",
         "showlegend": true,
         "stackgroup": "1",
         "type": "scatter",
         "x": [
          "South Korea",
          "South Korea",
          "South Korea",
          "South Korea",
          "South Korea",
          "South Korea",
          "South Korea",
          "South Korea",
          "South Korea",
          "South Korea",
          "South Korea",
          "South Korea",
          "South Korea",
          "South Korea",
          "South Korea",
          "South Korea",
          "South Korea",
          "South Korea",
          "South Korea",
          "South Korea",
          "South Korea",
          "South Korea",
          "South Korea",
          "South Korea",
          "South Korea",
          "South Korea",
          "Japan",
          "South Korea",
          "Japan",
          "South Korea",
          "South Korea",
          "South Korea",
          "South Korea",
          "South Korea",
          "South Korea",
          "South Korea",
          "South Korea",
          "South Korea",
          "South Korea",
          "South Korea",
          "South Korea",
          "South Korea",
          "South Korea",
          "South Korea",
          "South Korea",
          "South Korea",
          "South Korea",
          "South Korea",
          "South Korea",
          "South Korea",
          "South Korea",
          "South Korea"
         ],
         "xaxis": "x",
         "y": [
          4.75,
          4.25,
          5,
          4.5,
          5,
          3.75,
          3.75,
          4,
          0,
          3.75,
          4,
          4.5,
          4.25,
          3.75,
          4,
          5,
          5,
          4,
          4,
          4,
          5,
          4,
          4,
          4.5,
          0,
          5,
          2.75,
          3.5,
          3.75,
          3.5,
          4,
          3.75,
          5,
          3.5,
          3.75,
          5,
          4,
          3.75,
          4.25,
          3.5,
          3.75,
          5,
          4,
          4,
          3.75,
          3.75,
          4.5,
          4.25,
          4.75,
          4,
          4.25,
          3.75
         ],
         "yaxis": "y"
        },
        {
         "hovertemplate": "<b>%{hovertext}</b><br><br>Brand=Acecook<br>Country=%{x}<br>Stars=%{y}<extra></extra>",
         "hovertext": [
          "Spice Deli Tantan Men With Cilantro",
          "Super Cup Yochan Ika Yakisoba",
          "Super Cup Torigawa Shoyu",
          "Pork Wantan Men",
          "Dossari Yasai Chanpon",
          "Kadomen Koikoku Tonkotsu",
          "Maru Uma Curry Udon",
          "Seabura Tonkotsu Ramen",
          "Jan Jan Dashi Shoyu Yakisoba",
          "Ohmori Chukafu Yakisoba",
          "Comet Mori Yukino Tan-tan men",
          "Jan Jan Yakisoba",
          "Super Big Ramen Soy Sauce",
          "Super Big Ramen Tonkotsu"
         ],
         "legendgroup": "Acecook",
         "line": {
          "color": "#19d3f3"
         },
         "mode": "lines",
         "name": "Acecook",
         "orientation": "v",
         "showlegend": true,
         "stackgroup": "1",
         "type": "scatter",
         "x": [
          "Japan",
          "Japan",
          "Japan",
          "Japan",
          "Japan",
          "Japan",
          "Japan",
          "Japan",
          "Japan",
          "Japan",
          "Japan",
          "Japan",
          "Japan",
          "Japan"
         ],
         "xaxis": "x",
         "y": [
          4,
          1.5,
          3.5,
          4.25,
          4.25,
          3.8,
          3.5,
          3.75,
          2.25,
          3.25,
          5,
          3.75,
          1.25,
          1
         ],
         "yaxis": "y"
        },
        {
         "hovertemplate": "<b>%{hovertext}</b><br><br>Brand=Ikeda Shoku<br>Country=%{x}<br>Stars=%{y}<extra></extra>",
         "hovertext": [
          "Nabeyaki Kitsune Udon",
          "Nabeyaki Tempura Udoin"
         ],
         "legendgroup": "Ikeda Shoku",
         "line": {
          "color": "#FF6692"
         },
         "mode": "lines",
         "name": "Ikeda Shoku",
         "orientation": "v",
         "showlegend": true,
         "stackgroup": "1",
         "type": "scatter",
         "x": [
          "Japan",
          "Japan"
         ],
         "xaxis": "x",
         "y": [
          3.75,
          4.5
         ],
         "yaxis": "y"
        },
        {
         "hovertemplate": "<b>%{hovertext}</b><br><br>Brand=Ripe'n'Dry<br>Country=%{x}<br>Stars=%{y}<extra></extra>",
         "hovertext": [
          "Hokkaido Soy Sauce Ramen",
          "Hokkaido Miso Ramen",
          "Hokkaido Salt Ramen"
         ],
         "legendgroup": "Ripe'n'Dry",
         "line": {
          "color": "#B6E880"
         },
         "mode": "lines",
         "name": "Ripe'n'Dry",
         "orientation": "v",
         "showlegend": true,
         "stackgroup": "1",
         "type": "scatter",
         "x": [
          "Japan",
          "Japan",
          "Japan"
         ],
         "xaxis": "x",
         "y": [
          0.25,
          3,
          3
         ],
         "yaxis": "y"
        },
        {
         "hovertemplate": "<b>%{hovertext}</b><br><br>Brand=KOKA<br>Country=%{x}<br>Stars=%{y}<extra></extra>",
         "hovertext": [
          "The Original Spicy Stir-Fried Noodles",
          "Mushroom Flavour Instant Noodles",
          "Creamy Soup With Crushed Noodles Hot & Sour Fish Flavor",
          "Signature Tom Yum Flavor Instant Noodles",
          "Instant Noodles Laksa Singapura Flavour",
          "Curry Flavour Instant Noodles",
          "Delight Chicken Flavor Instant Non-Fried Noodles",
          "Creamy Soup With Crushed Noodles Chicken Flavor",
          "Signature Curry Flavor Instant Noodles",
          "Instant Noodles Chicken Satay Flavour",
          "Signature Spicy Singapore Fried Noodles Instant Noodles",
          "Creamy Soup With Crushed Noodles Sweet Corn Flavor",
          "Silk Beef Pho Flavor Instant Rice Fettuccine",
          "Delight Spicy Sesame Flavor Instant Non-Fried Noodles",
          "Signature Laksa Singapura Instant Noodles",
          "Delight Spicy Black Pepper Flavor Instant Non-Fried Noodles",
          "Purple Wheat Noodles Chili & Lime Flavor",
          "Delight Tomato Flavor Instant Non-Fried Noodles",
          "Seafood Flavor Instant Noodles",
          "Signature Stir-Fry Original Flavor Instant Noodles",
          "Creamy Soup Witrh Crushed Noodles Curry Flavor",
          "Delight Laksa Singapura Flavor Instant Non-Fried Noodles",
          "Silk Spicy Marinara Instant Rice Fettuccine",
          "Signature Chicken Flavor Instant Noodles",
          "Rice Noodles Fragrant Chicken Pho Ga Flavour"
         ],
         "legendgroup": "KOKA",
         "line": {
          "color": "#FF97FF"
         },
         "mode": "lines",
         "name": "KOKA",
         "orientation": "v",
         "showlegend": true,
         "stackgroup": "1",
         "type": "scatter",
         "x": [
          "Singapore",
          "Singapore",
          "Singapore",
          "Singapore",
          "Singapore",
          "Singapore",
          "Singapore",
          "Singapore",
          "Singapore",
          "Singapore",
          "Singapore",
          "Singapore",
          "Singapore",
          "Singapore",
          "Singapore",
          "Singapore",
          "Singapore",
          "Singapore",
          "Singapore",
          "Singapore",
          "Singapore",
          "Singapore",
          "Singapore",
          "Singapore",
          "Singapore"
         ],
         "xaxis": "x",
         "y": [
          2.5,
          3.5,
          5,
          4,
          5,
          5,
          3.75,
          5,
          3.5,
          3.5,
          4.25,
          5,
          3.25,
          4.5,
          5,
          5,
          4,
          5,
          3.5,
          3,
          5,
          4.25,
          5,
          3.75,
          4
         ],
         "yaxis": "y"
        },
        {
         "hovertemplate": "<b>%{hovertext}</b><br><br>Brand=Tao Kae Noi<br>Country=%{x}<br>Stars=%{y}<extra></extra>",
         "hovertext": [
          "Creamy tom Yum Kung Flavour"
         ],
         "legendgroup": "Tao Kae Noi",
         "line": {
          "color": "#FECB52"
         },
         "mode": "lines",
         "name": "Tao Kae Noi",
         "orientation": "v",
         "showlegend": true,
         "stackgroup": "1",
         "type": "scatter",
         "x": [
          "Thailand"
         ],
         "xaxis": "x",
         "y": [
          5
         ],
         "yaxis": "y"
        },
        {
         "hovertemplate": "<b>%{hovertext}</b><br><br>Brand=Yamachan<br>Country=%{x}<br>Stars=%{y}<extra></extra>",
         "hovertext": [
          "Yokohama Tonkotsu Shoyu",
          "Tokyo Shoyu Ramen",
          "Sapporo Miso Ramen",
          "Mild Tonkotsu",
          "Rich Shoyu Ramen",
          "Nagasaki Sara Udon Chicken ",
          "Cold Noodles With Lemon Soy Dressing",
          "Tonkotsu-Shoyu Rich Pork Flavor Ramen",
          "Miso Ramen Rich Sapporo Miso",
          "Miso Ramen - Mild",
          "Shio Ramen Seafood Mild"
         ],
         "legendgroup": "Yamachan",
         "line": {
          "color": "#636efa"
         },
         "mode": "lines",
         "name": "Yamachan",
         "orientation": "v",
         "showlegend": true,
         "stackgroup": "1",
         "type": "scatter",
         "x": [
          "USA",
          "USA",
          "USA",
          "USA",
          "USA",
          "USA",
          "USA",
          "USA",
          "USA",
          "USA",
          "USA"
         ],
         "xaxis": "x",
         "y": [
          5,
          5,
          4.75,
          5,
          4,
          4.25,
          4,
          4.75,
          5,
          4,
          4.5
         ],
         "yaxis": "y"
        },
        {
         "hovertemplate": "<b>%{hovertext}</b><br><br>Brand=Nongshim<br>Country=%{x}<br>Stars=%{y}<extra></extra>",
         "hovertext": [
          "Mr. Bibim Stir-Fried Kimchi Flavor",
          "Shin Ramyun Black",
          "Budae Jjigae Noodle Soup",
          "Shin Ramyun",
          "Seaweed Instant Noodle",
          "Spicy Shrimp Cup Noodle",
          "Saeutang Sabalmyeon",
          "Shin Noodle Soup",
          "Bowl Noodle Soup Independence Day Limited Edition Spicy Chicken Flavor",
          "Chal Bibim Myun",
          "Kimchi Flavor Noodle Soup",
          "Champong Noodle Soup Spicy Seafood Flavor",
          "Arrabiata Rice Bucatini",
          "Noodle Soup Seasoned With Real Kimchi",
          "Zha Wang ((Jjawang) Noodles With Chajang Sauce",
          "Soon Veggie Noodle Soup",
          "Shin Black Spicy Po-Au-Feu Flavor (Mew Edition)",
          "Korean Clay Pot Ramyun",
          "Quick2 Hot & Spicy Noodle Soup With Habanero & Lime",
          "Jinjja Jinjja (New)",
          "Tteokgukmyun",
          "Shin Ramyun Noodle Soup (New Edition)",
          "Neoguri Udon Seafood & Mild",
          "Bowl Noodle Soup Shrimp Habanero Lime Flavor",
          "Spicy Tonkotsu Noodle Soup",
          "Harmony Korean Spicy Noodle Dish With Chipotle",
          "Korean Clay Pot Ramyun Noodle",
          "Sir Long Tang Creamy Beef Noodle Soup",
          "Soon Veggie Noodle Soup",
          "Sain Sain Garlic Teriyaki Fresh Cooked Udon Pasta",
          "Oolongmen Kimchi Cup Noodle Soup Mix",
          "Shin Ramyun Cup",
          "Shin Black Spicy Pot-au-feu Flavor Premium Noodle Soup",
          "Doong Ji Authentic Korean Cold Noodles With Chili Sauce",
          "Shin Ramyun Noodle Spicy Mushroom",
          "Potato Pork Ramyun",
          "Shin Ramyun Black Spicy Beef",
          "Bowl Noodle Soup Spicy Seafood Flavor (New Version)",
          "Jinjja Jinjja Flamin' Hot & Nutty",
          "Tempura Udon Flavor Cup Ramyun",
          "Spicy Shrimp Cup Ramyun",
          "Neoguri Spicy Seafood",
          "Shin Bowl (New)",
          "Chapagetti",
          "Doong Ji Cold Noodle Chilled Broth",
          "Chapagetti (South Korean)",
          "Neoguri Mild (South Korea)",
          "Bowl Noodle Savory Chicken (New)",
          "Bowl Noodle Spicy Chicken (New)",
          "Bowl Noodle Savory Shrimp (New)",
          "Bowl Noodle Hot & Spicy Beef (New)",
          "Bowl Noodle Savory Lobster (New)",
          "Udon ",
          "Ansungtangmyun (US Version)",
          "Soba",
          "Bowl Noodle Savory Tempura Udon",
          "Shin Ramyun Black Onion",
          "Bowl Noodle Spicy Kimchi (New)",
          "Jinjja Jinjja",
          "Bowl Noodle Savory Beef",
          "Hearty Rice Noodle Beef",
          "Udon Garlic Teriyaki",
          "Hearty Rice Noodle Black Bean Vegetable",
          "Shin Ramyun Shrimp",
          "Seafood Ramyun",
          "Oolongmen Artificial Chicken",
          "Oolongmen Artificial Seafood",
          "Chapagetti Chajang",
          "Shin Ramyun Black",
          "Oolongmen Beef",
          "Neoguri Mild",
          "Potato Noodle Soup",
          "Bowl Noodle Savory Chicken",
          "Kalguksoo",
          "Big Bowl Spicy Kimchi",
          "Noodle Lite 275 Udon Mushroom",
          "Shin Big Bowl",
          "Champong Oriental Noodles",
          "Big Bowl Udon",
          "Big Bowl Spicy Shrimp",
          "Hearty Rice Noodle Spicy Veggie Consomme",
          "Shin Bowl",
          "Bowl Noodle Spicy Seafood",
          "Bowl Noodle Spicy Artificial Lobster",
          "Bowl Noodle Spicy Shrimp",
          "Bowl Noodle Hot & Spicy",
          "Bowl Noodle Cabbage Kimchi",
          "Bowl Noodle Beef Ginger",
          "Bowl Noodle Spicy Chicken",
          "Udon",
          "Kimchi Ramyun",
          "Mupama Tang Myun",
          "Hooroorook ",
          "Ansungtangmyun Noodle Soup",
          "Champong Oriental Noodles",
          "Neoguri (Seafood'n'Spicy)",
          "Shin Ramyun"
         ],
         "legendgroup": "Nongshim",
         "line": {
          "color": "#EF553B"
         },
         "mode": "lines",
         "name": "Nongshim",
         "orientation": "v",
         "showlegend": true,
         "stackgroup": "1",
         "type": "scatter",
         "x": [
          "South Korea",
          "South Korea",
          "South Korea",
          "South Korea",
          "South Korea",
          "South Korea",
          "South Korea",
          "USA",
          "USA",
          "South Korea",
          "USA",
          "South Korea",
          "USA",
          "USA",
          "South Korea",
          "USA",
          "USA",
          "China",
          "USA",
          "South Korea",
          "South Korea",
          "USA",
          "South Korea",
          "USA",
          "USA",
          "USA",
          "China",
          "USA",
          "South Korea",
          "South Korea",
          "South Korea",
          "South Korea",
          "USA",
          "South Korea",
          "China",
          "China",
          "South Korea",
          "USA",
          "USA",
          "South Korea",
          "South Korea",
          "South Korea",
          "USA",
          "USA",
          "South Korea",
          "South Korea",
          "South Korea",
          "USA",
          "USA",
          "USA",
          "USA",
          "USA",
          "South Korea",
          "USA",
          "South Korea",
          "USA",
          "South Korea",
          "USA",
          "South Korea",
          "USA",
          "South Korea",
          "South Korea",
          "South Korea",
          "China",
          "South Korea",
          "South Korea",
          "South Korea",
          "South Korea",
          "South Korea",
          "South Korea",
          "South Korea",
          "South Korea",
          "USA",
          "South Korea",
          "South Korea",
          "South Korea",
          "South Korea",
          "South Korea",
          "South Korea",
          "South Korea",
          "South Korea",
          "South Korea",
          "USA",
          "USA",
          "USA",
          "USA",
          "USA",
          "USA",
          "USA",
          "South Korea",
          "South Korea",
          "South Korea",
          "South Korea",
          "South Korea",
          "South Korea",
          "South Korea",
          "South Korea"
         ],
         "xaxis": "x",
         "y": [
          4.25,
          5,
          4.5,
          3,
          0.5,
          4,
          3.5,
          5,
          4,
          5,
          5,
          5,
          5,
          4.75,
          5,
          5,
          5,
          2.5,
          4,
          5,
          4.25,
          4.25,
          4,
          3.25,
          5,
          4.25,
          2.75,
          4.25,
          5,
          4.5,
          4,
          3.5,
          5,
          5,
          3.25,
          5,
          4.5,
          4.25,
          5,
          4.5,
          4.25,
          4,
          4.25,
          5,
          4.25,
          4,
          4,
          4.25,
          4.5,
          3.25,
          3.5,
          3.75,
          4.25,
          3.75,
          4.25,
          3.5,
          5,
          3.75,
          5,
          4,
          4.25,
          4.75,
          3.75,
          4.5,
          3.75,
          3.75,
          3.5,
          4,
          4.75,
          2.5,
          3.25,
          3.75,
          3.25,
          4.5,
          3.25,
          2.5,
          3.5,
          3.75,
          4.5,
          3.5,
          2.75,
          3,
          4.25,
          4,
          2.5,
          2,
          3.25,
          3.5,
          4.5,
          4,
          3.5,
          3.5,
          4,
          3.75,
          4,
          3.5,
          4
         ],
         "yaxis": "y"
        },
        {
         "hovertemplate": "<b>%{hovertext}</b><br><br>Brand=Paldo<br>Country=%{x}<br>Stars=%{y}<extra></extra>",
         "hovertext": [
          "Premium Gomtang",
          "Bul Jjamppong",
          "Volcano Curry Kkokkomyun",
          "Bul Jjajangmyeon",
          "Bibim Men",
          "Budae Jjigae",
          "Bul Jjamppong",
          "Bulnak Boeummyun King Noodle",
          "King Bowl Super Spicy Pan Stirfried Noodle",
          "Raobokki Noodle (Export Version)",
          "Jjajangmen Chajang Noodle King Bowl",
          "Jjamppong Seafood Noodle King Bowl",
          "Jjol Bibim Men",
          "Cheese Ramyun (for US market)",
          "Mild Kokomen (Prototype)",
          "Barbecue Ramyun (Prototype)",
          "Bulnak Bokkummyun Spicy Fried Octopus Ramyun",
          "Korean Traditional Beef Gomtangmen",
          "Namja Ramyun (US Version)",
          "Cheese Noodle",
          "ДОШИРАК (Dosirac) Beef Flavor",
          "Jong-Gah-Jip Kimchi Ramen",
          "Kokomen Spicy Chicken",
          "Namja Ramen (USA version)",
          "Kokomen Spicy Chicken",
          "Namja Ramyun",
          "Bowl Noodle Shrimp Flavor",
          "Kko Kko Myun King Cup",
          "Seolleongtangmyeon",
          "Rabokki",
          "Namja",
          "Shoyu",
          "Bibim Men Cucumber",
          "Kokomen Spicy Chicken",
          "Speed King Bowl (Prototype)",
          "Kko Kko Myun",
          "Jjajangmen Black Bean",
          "Hwa King Cup",
          "Gomtang",
          "Gomtang",
          "Big Bowl Noodle",
          "Snack Noodle slightly Hot",
          "Spicy Seafood",
          "Bowl Noodle Beef With Vegetables",
          "Hwa Cup Hot Spicy",
          "Bowl Noodle Kimchi",
          "Bowl Noodle Spicy Artificial Chicken",
          "Stirfried Kimchi",
          "Dosirac Mushroom",
          "Dosirac Shrimp",
          "Dosirac Beef",
          "Dosirac Artificial Chicken",
          "South Korean Seafood",
          "South Korean U Dong",
          "South Korean Broad Noodle",
          "King Cup Lobster",
          "King Cup Kimchi Pot Stew",
          "South Korean Noodle Kimchi Flavor",
          "Spicy Shrimp Bowl",
          "Soy Flavor Noodle",
          "Hwa Ramyun Soy Peptide",
          "Teumsae Ramyun",
          "Dosirac Pork",
          "Green Tea Chlorella",
          "Bibim Men",
          "South Korean Noodle Chicken"
         ],
         "legendgroup": "Paldo",
         "line": {
          "color": "#00cc96"
         },
         "mode": "lines",
         "name": "Paldo",
         "orientation": "v",
         "showlegend": true,
         "stackgroup": "1",
         "type": "scatter",
         "x": [
          "South Korea",
          "South Korea",
          "South Korea",
          "South Korea",
          "South Korea",
          "South Korea",
          "South Korea",
          "South Korea",
          "South Korea",
          "South Korea",
          "South Korea",
          "South Korea",
          "South Korea",
          "South Korea",
          "South Korea",
          "South Korea",
          "South Korea",
          "South Korea",
          "South Korea",
          "South Korea",
          "South Korea",
          "South Korea",
          "South Korea",
          "South Korea",
          "South Korea",
          "South Korea",
          "South Korea",
          "South Korea",
          "South Korea",
          "South Korea",
          "South Korea",
          "Japan",
          "South Korea",
          "South Korea",
          "South Korea",
          "South Korea",
          "South Korea",
          "South Korea",
          "South Korea",
          "South Korea",
          "South Korea",
          "South Korea",
          "South Korea",
          "South Korea",
          "South Korea",
          "South Korea",
          "South Korea",
          "South Korea",
          "South Korea",
          "South Korea",
          "South Korea",
          "South Korea",
          "South Korea",
          "South Korea",
          "South Korea",
          "South Korea",
          "South Korea",
          "South Korea",
          "South Korea",
          "South Korea",
          "South Korea",
          "South Korea",
          "South Korea",
          "South Korea",
          "South Korea",
          "South Korea"
         ],
         "xaxis": "x",
         "y": [
          4,
          5,
          3.5,
          5,
          5,
          5,
          4,
          3.5,
          5,
          5,
          5,
          5,
          4,
          5,
          4.5,
          3.75,
          4,
          5,
          4,
          5,
          3.5,
          4,
          4.5,
          5,
          4.75,
          4.25,
          3.25,
          4.75,
          3.5,
          4.75,
          5,
          3.25,
          5,
          5,
          3.5,
          5,
          4,
          3.5,
          4,
          4.75,
          3.75,
          3.75,
          3.75,
          3.75,
          3.5,
          3.5,
          3.125,
          3.75,
          2.5,
          4.25,
          3.75,
          3.25,
          3.75,
          3.75,
          2,
          3.75,
          4,
          3.5,
          3.5,
          4.25,
          4,
          3.5,
          4.125,
          0,
          3.75,
          3.25
         ],
         "yaxis": "y"
        },
        {
         "hovertemplate": "<b>%{hovertext}</b><br><br>Brand=Jackpot Teriyaki<br>Country=%{x}<br>Stars=%{y}<extra></extra>",
         "hovertext": [
          "Beef Ramen"
         ],
         "legendgroup": "Jackpot Teriyaki",
         "line": {
          "color": "#ab63fa"
         },
         "mode": "lines",
         "name": "Jackpot Teriyaki",
         "orientation": "v",
         "showlegend": true,
         "stackgroup": "1",
         "type": "scatter",
         "x": [
          "USA"
         ],
         "xaxis": "x",
         "y": [
          5
         ],
         "yaxis": "y"
        },
        {
         "hovertemplate": "<b>%{hovertext}</b><br><br>Brand=MyKuali<br>Country=%{x}<br>Stars=%{y}<extra></extra>",
         "hovertext": [
          "Penang White Curry Rice Vermicelli Soup",
          "Penang Red Tom Yum Goong Noodle",
          "Penang Hokkien Prawn Flavor Noodle",
          "MeeKuali Bihun Sup Rempah Perisa Daging",
          "Penang Red Tom Yum Goong",
          "Penang Hokkien Prawn Noodle Soup",
          "Penang Red Tom Yum Goong Rice Vermicelli Soup",
          "Penang White Curry Instant Noodle (Japan Version)",
          "Penang Hokkien Prawn Noodle Authentic Taste",
          "Penang Red Tom Yum Goong Noodle Authentic Taste",
          "Penang White Curry Authentic Taste Cup",
          "Penang White curry Noodle Authentic Taste",
          "Penang Red tom Yum Goong Noodle Authentic Taste",
          "Penang Spicy Prawn Soup Noodle Authentic Taste",
          "Penang Spicy Prawn Soup Noodle",
          "Penang Red tom Yum Goong Noodle (New Version)",
          "MeeKuali spicy Fried Noodle",
          "Penang White Curry Noodle (New Version)",
          "Penang Hokkien Prawn Soup Rice Vermicelli (Bihun)",
          "Penang White Curry Noodle (New Improved Tatse)",
          "Penang Hokkien Prawn Noodle (New Improved Taste)",
          "Penang Red Tom Yum Goong Noodle",
          "Penang Hokkien Prawn Noodle",
          "Penang White Curry Noodle"
         ],
         "legendgroup": "MyKuali",
         "line": {
          "color": "#FFA15A"
         },
         "mode": "lines",
         "name": "MyKuali",
         "orientation": "v",
         "showlegend": true,
         "stackgroup": "1",
         "type": "scatter",
         "x": [
          "Malaysia",
          "Malaysia",
          "Japan",
          "Malaysia",
          "Japan",
          "Singapore",
          "Malaysia",
          "Malaysia",
          "Malaysia",
          "Malaysia",
          "Malaysia",
          "Malaysia",
          "Malaysia",
          "Malaysia",
          "Malaysia",
          "Malaysia",
          "Malaysia",
          "Malaysia",
          "Malaysia",
          "Malaysia",
          "Malaysia",
          "Malaysia",
          "Malaysia",
          "Malaysia"
         ],
         "xaxis": "x",
         "y": [
          5,
          5,
          5,
          5,
          5,
          5,
          5,
          5,
          5,
          5,
          4.75,
          5,
          5,
          5,
          5,
          5,
          4,
          5,
          5,
          5,
          5,
          5,
          5,
          5
         ],
         "yaxis": "y"
        },
        {
         "hovertemplate": "<b>%{hovertext}</b><br><br>Brand=Ottogi<br>Country=%{x}<br>Stars=%{y}<extra></extra>",
         "hovertext": [
          "Plain Instant Noodle No Soup Included",
          "Ppushu Ppushu Noodle Snack Honey Butter ",
          "Ppushu Ppushu Noodle Snack Chilli Cheese Flavor",
          "Jin Jjambbong Spicy Seafood Ramyun",
          "Cheese Ramen",
          "Sesame Flavor Ramen Korean Style Instant Noodle",
          "Potato Ramen",
          "Cheese Bokki",
          "Ppushu Ppushu Grilled Chicken Flavor",
          "Japchae Vermicelli Noodle",
          "Ppushu Ppushu Noodle Snack Bulgogi Flavor",
          "Cheese Bokki",
          "Sesame Flavor Noodle Bowl",
          "Spaghetti Ramen",
          "Kiss Myon",
          "Jjajang Bokki",
          "Jin Ramen (Mild) (Import)",
          "Odongtong Myon Seafood",
          "Kiss Myon",
          "Buckwheat Bibim Ramyon",
          "Yeul Hot Taste",
          "Jin Ramen Big Bowl (Hot)",
          "Yeul Ramyun",
          "Jin Ramen (Mild)",
          "Hot & Spicy Ramen",
          "Bekse Curry Myon",
          "Ppushu Ppushu Barbecue",
          "Ppushu Ppushu Tteobokki",
          "Spice Seafood",
          "Snack Ramyon",
          "Jin Ramen (Mild)",
          "Ramen Bokki",
          "Jin Ramen (Hot)",
          "Ppushu Ppushu Sweet & Sour",
          "Snack Ramyon",
          "Bekse Curry",
          "Ramyonsari",
          "Miso Ramyun",
          "Jiajang Noodle",
          "Odongtongmyon Seafood Spicy",
          "Pow Crunch Teriyaki",
          "Jin Ramen (Hot Taste)"
         ],
         "legendgroup": "Ottogi",
         "line": {
          "color": "#19d3f3"
         },
         "mode": "lines",
         "name": "Ottogi",
         "orientation": "v",
         "showlegend": true,
         "stackgroup": "1",
         "type": "scatter",
         "x": [
          "South Korea",
          "South Korea",
          "South Korea",
          "South Korea",
          "South Korea",
          "South Korea",
          "South Korea",
          "South Korea",
          "South Korea",
          "South Korea",
          "South Korea",
          "South Korea",
          "South Korea",
          "South Korea",
          "South Korea",
          "South Korea",
          "South Korea",
          "South Korea",
          "South Korea",
          "South Korea",
          "South Korea",
          "South Korea",
          "South Korea",
          "South Korea",
          "South Korea",
          "South Korea",
          "South Korea",
          "South Korea",
          "South Korea",
          "South Korea",
          "South Korea",
          "South Korea",
          "South Korea",
          "South Korea",
          "South Korea",
          "South Korea",
          "South Korea",
          "South Korea",
          "South Korea",
          "South Korea",
          "South Korea",
          "South Korea"
         ],
         "xaxis": "x",
         "y": [
          0,
          2,
          4.25,
          5,
          4,
          4.25,
          3.75,
          4,
          1,
          2.75,
          3.25,
          3.5,
          3.5,
          4.5,
          3.75,
          3.5,
          3.5,
          2.75,
          3.75,
          1.1,
          3.5,
          3.5,
          4.25,
          3.25,
          3,
          4.25,
          3,
          3.25,
          3.75,
          3.5,
          3,
          3.25,
          3.5,
          1.75,
          3.75,
          4,
          4,
          2.8,
          3.75,
          3.25,
          1.1,
          3.5
         ],
         "yaxis": "y"
        },
        {
         "hovertemplate": "<b>%{hovertext}</b><br><br>Brand=Sichuan Guangyou<br>Country=%{x}<br>Stars=%{y}<extra></extra>",
         "hovertext": [
          "Chongqing Spicy Hot Noodles",
          "Sweet Potato Instant Noodle Sout-Hot Flavor",
          "Sweet Potato Instant Noodle Braised Spicy Chitterling Flavor",
          "9999 Chongqing Artificial Beef Flavor Instant Noodle"
         ],
         "legendgroup": "Sichuan Guangyou",
         "line": {
          "color": "#FF6692"
         },
         "mode": "lines",
         "name": "Sichuan Guangyou",
         "orientation": "v",
         "showlegend": true,
         "stackgroup": "1",
         "type": "scatter",
         "x": [
          "China",
          "China",
          "China",
          "China"
         ],
         "xaxis": "x",
         "y": [
          4,
          0,
          0.25,
          4.25
         ],
         "yaxis": "y"
        },
        {
         "hovertemplate": "<b>%{hovertext}</b><br><br>Brand=Lipton<br>Country=%{x}<br>Stars=%{y}<extra></extra>",
         "hovertext": [
          "Cup-A-Soup Chicken Noodle With White Meat Instant Soup"
         ],
         "legendgroup": "Lipton",
         "line": {
          "color": "#B6E880"
         },
         "mode": "lines",
         "name": "Lipton",
         "orientation": "v",
         "showlegend": true,
         "stackgroup": "1",
         "type": "scatter",
         "x": [
          "USA"
         ],
         "xaxis": "x",
         "y": [
          1.5
         ],
         "yaxis": "y"
        },
        {
         "hovertemplate": "<b>%{hovertext}</b><br><br>Brand=Fujiwara<br>Country=%{x}<br>Stars=%{y}<extra></extra>",
         "hovertext": [
          "Hokkaido Hakodate Shoyu Ramen",
          "Hokkaido Hakodate Miso Ramen",
          "Hokkaido Hakodate Shio Ramen",
          "Horse Crab Flavour Ramen",
          "Red King Crab Flavour Ramen",
          "Snow Crab Flavour Shio Ramen",
          "Salty Taste Chanko Noodle"
         ],
         "legendgroup": "Fujiwara",
         "line": {
          "color": "#FF97FF"
         },
         "mode": "lines",
         "name": "Fujiwara",
         "orientation": "v",
         "showlegend": true,
         "stackgroup": "1",
         "type": "scatter",
         "x": [
          "Japan",
          "Japan",
          "Japan",
          "Japan",
          "Japan",
          "Japan",
          "Japan"
         ],
         "xaxis": "x",
         "y": [
          4,
          3.5,
          4.5,
          3.5,
          4,
          3.5,
          4.75
         ],
         "yaxis": "y"
        },
        {
         "hovertemplate": "<b>%{hovertext}</b><br><br>Brand=Uni-President<br>Country=%{x}<br>Stars=%{y}<extra></extra>",
         "hovertext": [
          "Pickled Cabbage Beef",
          "Man Han Feast Spicy Beef Flavor Instant Noodles",
          "Man Han Feast Super Hot Pot Beef Flavor Instant Noodles",
          "Baseball Snack Noodle",
          "Man Han Feast Chilli Beef Flavor Instant Noodles",
          "Man Han Feast Braised Pork Flavor Instant Noodles",
          "Minced Pork Flavor Instant Noodles",
          "A Q Bucket Noodle Korean Kimchi Flavor",
          "Science Noodle (X'Mas Edition)",
          "100 Beef With Sauerkraut",
          "One More Cup Kimchi"
         ],
         "legendgroup": "Uni-President",
         "line": {
          "color": "#FECB52"
         },
         "mode": "lines",
         "name": "Uni-President",
         "orientation": "v",
         "showlegend": true,
         "stackgroup": "1",
         "type": "scatter",
         "x": [
          "China",
          "Taiwan",
          "Taiwan",
          "Taiwan",
          "Taiwan",
          "Taiwan",
          "Taiwan",
          "Taiwan",
          "Taiwan",
          "Taiwan",
          "Taiwan"
         ],
         "xaxis": "x",
         "y": [
          4.25,
          5,
          5,
          5,
          4.75,
          5,
          1,
          4,
          5,
          4.75,
          3.75
         ],
         "yaxis": "y"
        },
        {
         "hovertemplate": "<b>%{hovertext}</b><br><br>Brand=Maruchan<br>Country=%{x}<br>Stars=%{y}<extra></extra>",
         "hovertext": [
          "Gotsumori Chanpon Ramen",
          "Seimen Red Spicy Dandan Men",
          "Gotsumori Koku Tonkotsu Ramen",
          "Ramen Noodle Soup Sriracha Chicken Flavor",
          "Bowl Taste Of Asia Hearty Pork Flavor Tonkotsu Ramen",
          "Ramen Noodle soup Mushroom Flavor",
          "Instant Lunch Pork Flavor Ramen Noodles With Vegetables",
          "Bowl Taste Of Asia Miso Chicken Flavor Spicy Miso Ramen",
          "Instant Lunch Chipotle Chicken Flavor Ramen Noodle Soup",
          "Ramen Noodle Soup Chicken Tortilla Flavor",
          "Seimen Noukou Toro Tonkotsu",
          "Bowl Taste Of Asia Beef Flavor Sukiyaki Ramen",
          "Instant Lunch Sriracha Chicken Flavor Ramen Noodle Soup",
          "Spicy Tomato Salsa Ramen",
          "Shiroi Chikara Mochi Udon",
          "Seimen Houjyun Koku Shoyu",
          "Instant Lunch Chicken Tortilla Flavor Ramen Noodles With Vegetables",
          "Kaoru Maitake Tempura Udon",
          "Big Cup Ramen Corn, Salt & Butter Flavor",
          "Gotsumori Sauce Yakisoba",
          "Magomi-an Kitsune Udon (Eastern Japan Flavor)",
          "I Want To Eat Ramen' Shoyu Flavor",
          "Instant Lunch California Vegetable Ramen Noodles With Vegetables",
          "Instant Lunch Jalapeno Cheddar Flavor Ramen Noodles",
          "Old Style Miso Ramen",
          "I Want To Eat Ramen Shio",
          "I Want To Eat Ramen Miso Flavor",
          "I Want To Eat Ramen Pork Tonkotsu Flavor",
          "Seimen Japanese Instant Ramen Noodles Shio Aji",
          "Old Style Shio Ramen",
          "Fresh Yaki-Soba Stir Fry Noodles With Seasoning Sauce Base",
          "Seimen Japanese Instant Ramen Noodles Soy Sauce Taste",
          "Bowl Hot & Spicy Shrimp Flavor Ramen Noodles With Vegetables",
          "Bowl Hot & Spicy Chicken Flavor Ramen Noodles With Vegetables",
          "Yakisoba Beef Taco Flavor",
          "Bowl Chicken Flavor",
          "Yakisoba Jalapeno Cheddar",
          "Yakisoba Four Cheese",
          "Beef",
          "35% Less Sodium Beef",
          "35% Less Sodium Chicken",
          "35% Less Sodium Beef",
          "Instant Lunch Shrimp",
          "Instant Lunch Chicken",
          "Tempura Soba",
          "Yakisoba Spicy Vegetable",
          "Yakisoba Savory Soy Sauce",
          "Yakisoba Spicy Chicken",
          "Ramen Noodle Soup Beef",
          "Yakisoba Tomato Basil",
          "Yakisoba Shrimp",
          "Ramen Noodle Soup Chicken Mushroom",
          "Instant Lunch Hot spicy Beef",
          "Midori No Tanuki",
          "Instant Lunch Lime Flavor with Shrimp",
          "Instant Lunch Cheddar Cheese",
          "Ramen Noodle Soup Roast Beef",
          "Instant Lunch Chicken 35% Less Sodium",
          "Ramen Noodle Soup Chili",
          "Ramen Noodle Soup Creamy Chicken",
          "Ramen Noodle Soup Spicy Picante Chicken",
          "Ramen Noodle Soup Oriental",
          "Yakisoba Cheddar Cheese",
          "Yakisoba Sweet & Sour Chicken",
          "Instant Lunch Roast Chicken Flavor",
          "Yakisoba Chicken",
          "Yakisoba Teriyaki Beef",
          "Yakisoba Roast chicken",
          "Instant Lunch Cajun Style With chili Piquin Shrimp",
          "Akai Kitsune Udon",
          "Ramen Noodle Soup Chicken",
          "Ramen Noodle Soup Lime Chili Shrimp",
          "Ramen Noodle Soup Pork",
          "Ramen Noodle Soup Shrimp"
         ],
         "legendgroup": "Maruchan",
         "line": {
          "color": "#636efa"
         },
         "mode": "lines",
         "name": "Maruchan",
         "orientation": "v",
         "showlegend": true,
         "stackgroup": "1",
         "type": "scatter",
         "x": [
          "Japan",
          "Japan",
          "Japan",
          "USA",
          "USA",
          "USA",
          "USA",
          "USA",
          "USA",
          "USA",
          "Japan",
          "USA",
          "USA",
          "Japan",
          "Japan",
          "Japan",
          "USA",
          "Japan",
          "Japan",
          "Japan",
          "Japan",
          "Japan",
          "USA",
          "USA",
          "Japan",
          "Japan",
          "Japan",
          "Japan",
          "Japan",
          "Japan",
          "Japan",
          "Japan",
          "USA",
          "USA",
          "USA",
          "USA",
          "USA",
          "USA",
          "USA",
          "USA",
          "USA",
          "USA",
          "USA",
          "USA",
          "Japan",
          "USA",
          "USA",
          "USA",
          "USA",
          "USA",
          "USA",
          "USA",
          "USA",
          "Japan",
          "USA",
          "USA",
          "USA",
          "USA",
          "USA",
          "USA",
          "USA",
          "USA",
          "USA",
          "USA",
          "USA",
          "USA",
          "USA",
          "USA",
          "USA",
          "Japan",
          "USA",
          "USA",
          "USA",
          "USA"
         ],
         "xaxis": "x",
         "y": [
          4.5,
          4.75,
          4,
          4,
          4,
          4,
          3,
          4,
          5,
          3,
          4,
          5,
          3.75,
          0,
          4.5,
          5,
          4,
          3.25,
          5,
          5,
          4.25,
          4,
          3.5,
          3.5,
          3.5,
          3.75,
          3.75,
          4,
          3.75,
          3.5,
          4.25,
          3.75,
          4.25,
          4,
          4.25,
          4,
          4,
          3.75,
          3.5,
          3.5,
          3.75,
          3.5,
          3.75,
          3.5,
          4,
          3.25,
          3.75,
          1.75,
          3.25,
          3,
          2.75,
          3.25,
          2.75,
          4.125,
          2.25,
          2.75,
          2.75,
          3,
          2.75,
          5,
          4,
          3.75,
          4,
          3,
          2.75,
          2,
          2,
          3.75,
          3,
          4,
          2,
          2,
          4,
          2
         ],
         "yaxis": "y"
        },
        {
         "hovertemplate": "<b>%{hovertext}</b><br><br>Brand=Prima<br>Country=%{x}<br>Stars=%{y}<extra></extra>",
         "hovertext": [
          "Juzz's Mee Creamy Chicken Flavour (Export Version)",
          "Juzz's Mee Creamy Chicken Flavour",
          "Juzz's Mee Curry Flavour",
          "Juzz's Mee Original Spicy Flavour"
         ],
         "legendgroup": "Prima",
         "line": {
          "color": "#EF553B"
         },
         "mode": "lines",
         "name": "Prima",
         "orientation": "v",
         "showlegend": true,
         "stackgroup": "1",
         "type": "scatter",
         "x": [
          "Singapore",
          "Singapore",
          "Singapore",
          "Singapore"
         ],
         "xaxis": "x",
         "y": [
          5,
          5,
          5,
          5
         ],
         "yaxis": "y"
        },
        {
         "hovertemplate": "<b>%{hovertext}</b><br><br>Brand=Sokensha<br>Country=%{x}<br>Stars=%{y}<extra></extra>",
         "hovertext": [
          "Curry Udon"
         ],
         "legendgroup": "Sokensha",
         "line": {
          "color": "#00cc96"
         },
         "mode": "lines",
         "name": "Sokensha",
         "orientation": "v",
         "showlegend": true,
         "stackgroup": "1",
         "type": "scatter",
         "x": [
          "Japan"
         ],
         "xaxis": "x",
         "y": [
          3.5
         ],
         "yaxis": "y"
        },
        {
         "hovertemplate": "<b>%{hovertext}</b><br><br>Brand=Takamori<br>Country=%{x}<br>Stars=%{y}<extra></extra>",
         "hovertext": [
          "Hearty Japanese Style Curry Udon"
         ],
         "legendgroup": "Takamori",
         "line": {
          "color": "#ab63fa"
         },
         "mode": "lines",
         "name": "Takamori",
         "orientation": "v",
         "showlegend": true,
         "stackgroup": "1",
         "type": "scatter",
         "x": [
          "Japan"
         ],
         "xaxis": "x",
         "y": [
          5
         ],
         "yaxis": "y"
        },
        {
         "hovertemplate": "<b>%{hovertext}</b><br><br>Brand=Guava Story<br>Country=%{x}<br>Stars=%{y}<extra></extra>",
         "hovertext": [
          "Anchovy Flavor Guava Rice Noodles"
         ],
         "legendgroup": "Guava Story",
         "line": {
          "color": "#FFA15A"
         },
         "mode": "lines",
         "name": "Guava Story",
         "orientation": "v",
         "showlegend": true,
         "stackgroup": "1",
         "type": "scatter",
         "x": [
          "South Korea"
         ],
         "xaxis": "x",
         "y": [
          1
         ],
         "yaxis": "y"
        },
        {
         "hovertemplate": "<b>%{hovertext}</b><br><br>Brand=Samurai Ramen<br>Country=%{x}<br>Stars=%{y}<extra></extra>",
         "hovertext": [
          "Umami Ramen"
         ],
         "legendgroup": "Samurai Ramen",
         "line": {
          "color": "#19d3f3"
         },
         "mode": "lines",
         "name": "Samurai Ramen",
         "orientation": "v",
         "showlegend": true,
         "stackgroup": "1",
         "type": "scatter",
         "x": [
          "Japan"
         ],
         "xaxis": "x",
         "y": [
          4
         ],
         "yaxis": "y"
        },
        {
         "hovertemplate": "<b>%{hovertext}</b><br><br>Brand=Ogasawara<br>Country=%{x}<br>Stars=%{y}<extra></extra>",
         "hovertext": [
          "Kirin Giraffe Shoyu Ramen",
          "Kirin Giraffe Shio Ramen"
         ],
         "legendgroup": "Ogasawara",
         "line": {
          "color": "#FF6692"
         },
         "mode": "lines",
         "name": "Ogasawara",
         "orientation": "v",
         "showlegend": true,
         "stackgroup": "1",
         "type": "scatter",
         "x": [
          "Japan",
          "Japan"
         ],
         "xaxis": "x",
         "y": [
          4.5,
          5
         ],
         "yaxis": "y"
        },
        {
         "hovertemplate": "<b>%{hovertext}</b><br><br>Brand=Pringles<br>Country=%{x}<br>Stars=%{y}<extra></extra>",
         "hovertext": [
          "Nissin Top Ramen Chicken Flavor Potato Crisps "
         ],
         "legendgroup": "Pringles",
         "line": {
          "color": "#B6E880"
         },
         "mode": "lines",
         "name": "Pringles",
         "orientation": "v",
         "showlegend": true,
         "stackgroup": "1",
         "type": "scatter",
         "x": [
          "USA"
         ],
         "xaxis": "x",
         "y": [
          3.5
         ],
         "yaxis": "y"
        },
        {
         "hovertemplate": "<b>%{hovertext}</b><br><br>Brand=Mom's Dry Noodle<br>Country=%{x}<br>Stars=%{y}<extra></extra>",
         "hovertext": [
          "Dan Dan Noodle",
          "Sesame & Pepper",
          "Spicy & Sour Flavor",
          "Vegan Chilli With Sesame Sauce",
          "Sichuan Spicy Flavor",
          "Onion Oil & Shrimp Flavor"
         ],
         "legendgroup": "Mom's Dry Noodle",
         "line": {
          "color": "#FF97FF"
         },
         "mode": "lines",
         "name": "Mom's Dry Noodle",
         "orientation": "v",
         "showlegend": true,
         "stackgroup": "1",
         "type": "scatter",
         "x": [
          "Taiwan",
          "Taiwan",
          "Taiwan",
          "Taiwan",
          "Taiwan",
          "Taiwan"
         ],
         "xaxis": "x",
         "y": [
          5,
          4,
          5,
          5,
          5,
          5
         ],
         "yaxis": "y"
        },
        {
         "hovertemplate": "<b>%{hovertext}</b><br><br>Brand=Indomie<br>Country=%{x}<br>Stars=%{y}<extra></extra>",
         "hovertext": [
          "RMy Noodlez Rumput Laut",
          "My Noodles Mi Goreng Pizza Cheese",
          "Pop Mie Mi Instan Cup Rasa Ayam",
          "Instant Cup Noodles Mi Goreng Fried Noodles",
          "Pop Mie Chicken Flavour Cup Noodles",
          "Mi Goreng Rasa Iga Penyet",
          "Taste Of Asia Mi Goreng Rasa Bulgogi Ala Korea",
          "Taste Of Asia Mi Kuah Rasa Tom Yum Ala Thailand",
          "Instant Noodle Beef & Lime Flavour",
          "Mi Goreng Cabe Ijo",
          "Kriuuk Bawang",
          "Rasa Coto Makassar",
          "Special Fried Curly Noodle (Local)",
          "Rasa Mi Cakalang",
          "Mi Goreng Kriuuk Pedas",
          "Beef",
          "Mi Goreng Kriuuk Ayam",
          "Rasa Sup Sayuran Vegan",
          "Mi Goreng Vegan",
          "Mi Goreng Sate (Local)",
          "Mi Goreng Rasa Ayam Panggang Jumbo (Local)",
          "Rasa Soto Betawi",
          "Curly Noodle With Chicken Chilli Paddi",
          "Rasa Mi Kocok Bandung",
          "Rasa Soto Banjar Limau Kulit",
          "Mi Goreng Jumbo Beef",
          "Rasa Kari Ayam Medan",
          "Rasa Empal Gentong",
          "Mi Goreng Cakalang",
          "Mi Goreng Instant Cup Noodles",
          "Curly Noodle With Laksa Chilli",
          "Mi Goreng Barbecue Chicken",
          "Mi Goreng Rendang (Import)",
          "Rasa Sup Buntut Oxtail Soup",
          "Instant Cup Noodles Mi Goreng Satay",
          "Spicy Coconut Shrimp",
          "Mi Goreng Jumbo Beef",
          "Onion Chicken",
          "Special Fried Curly Noodle",
          "Soto Mie",
          "Meatball Flavor",
          "Mi Goreng Rendang",
          "Chicken",
          "Chicken Curry",
          "Curly Noodles With Grilled Chicken",
          "Mi Goreng",
          "Mi Goreng Pedas Hot",
          "Shrimp Flavor",
          "Mi Goreng Jumbo Barbecue Chicken",
          "Mi Goreng Jumbo Meatball",
          "Mi Goreng Sate",
          "Special Chicken"
         ],
         "legendgroup": "Indomie",
         "line": {
          "color": "#FECB52"
         },
         "mode": "lines",
         "name": "Indomie",
         "orientation": "v",
         "showlegend": true,
         "stackgroup": "1",
         "type": "scatter",
         "x": [
          "Indonesia",
          "Indonesia",
          "Indonesia",
          "Indonesia",
          "Indonesia",
          "Indonesia",
          "Indonesia",
          "Indonesia",
          "Indonesia",
          "Indonesia",
          "Indonesia",
          "Indonesia",
          "Indonesia",
          "Indonesia",
          "Indonesia",
          "Indonesia",
          "Indonesia",
          "Indonesia",
          "Indonesia",
          "Indonesia",
          "Indonesia",
          "Indonesia",
          "Indonesia",
          "Indonesia",
          "Indonesia",
          "Indonesia",
          "Indonesia",
          "Indonesia",
          "Indonesia",
          "Indonesia",
          "Indonesia",
          "Indonesia",
          "Indonesia",
          "Indonesia",
          "Indonesia",
          "Indonesia",
          "Indonesia",
          "Indonesia",
          "Indonesia",
          "Indonesia",
          "Indonesia",
          "Indonesia",
          "Indonesia",
          "Indonesia",
          "Indonesia",
          "Indonesia",
          "Indonesia",
          "Indonesia",
          "Indonesia",
          "Indonesia",
          "Indonesia",
          "Indonesia"
         ],
         "xaxis": "x",
         "y": [
          4,
          4,
          3.5,
          5,
          3.5,
          4.75,
          2.75,
          3.75,
          4.25,
          4.5,
          4.25,
          4,
          5,
          4.5,
          3.75,
          3.5,
          3.75,
          2.25,
          4.25,
          5,
          5,
          4.5,
          4.25,
          3.25,
          5,
          5,
          5,
          4,
          4,
          5,
          3.5,
          5,
          5,
          2.75,
          4.25,
          4.75,
          5,
          4.5,
          5,
          1.5,
          2.5,
          4.5,
          2,
          4,
          5,
          5,
          4.5,
          3,
          5,
          3,
          5,
          4.25
         ],
         "yaxis": "y"
        },
        {
         "hovertemplate": "<b>%{hovertext}</b><br><br>Brand=Happy Cook<br>Country=%{x}<br>Stars=%{y}<extra></extra>",
         "hovertext": [
          "Toona Paste Noodle",
          "Old Beijing Fried Bean Sauce Noodle",
          "Sichuan Spicy Flavor"
         ],
         "legendgroup": "Happy Cook",
         "line": {
          "color": "#636efa"
         },
         "mode": "lines",
         "name": "Happy Cook",
         "orientation": "v",
         "showlegend": true,
         "stackgroup": "1",
         "type": "scatter",
         "x": [
          "Taiwan",
          "Taiwan",
          "Taiwan"
         ],
         "xaxis": "x",
         "y": [
          4,
          4.25,
          5
         ],
         "yaxis": "y"
        },
        {
         "hovertemplate": "<b>%{hovertext}</b><br><br>Brand=The Ramen Rater Select<br>Country=%{x}<br>Stars=%{y}<extra></extra>",
         "hovertext": [
          "Supreme Creamy Tom Yum Noodle"
         ],
         "legendgroup": "The Ramen Rater Select",
         "line": {
          "color": "#EF553B"
         },
         "mode": "lines",
         "name": "The Ramen Rater Select",
         "orientation": "v",
         "showlegend": true,
         "stackgroup": "1",
         "type": "scatter",
         "x": [
          "Malaysia"
         ],
         "xaxis": "x",
         "y": [
          5
         ],
         "yaxis": "y"
        },
        {
         "hovertemplate": "<b>%{hovertext}</b><br><br>Brand=TTL<br>Country=%{x}<br>Stars=%{y}<extra></extra>",
         "hovertext": [
          "Chicken With Chinese Shaoxing Wine",
          "Sesame Oil Chicken Noodle With Rice Wine",
          "Sesame Oil Chicken With Rice Wine Noodle"
         ],
         "legendgroup": "TTL",
         "line": {
          "color": "#00cc96"
         },
         "mode": "lines",
         "name": "TTL",
         "orientation": "v",
         "showlegend": true,
         "stackgroup": "1",
         "type": "scatter",
         "x": [
          "Taiwan",
          "Taiwan",
          "Taiwan"
         ],
         "xaxis": "x",
         "y": [
          4.75,
          5,
          5
         ],
         "yaxis": "y"
        },
        {
         "hovertemplate": "<b>%{hovertext}</b><br><br>Brand=E-Zee<br>Country=%{x}<br>Stars=%{y}<extra></extra>",
         "hovertext": [
          "Instant Noodles Chicken Flavour",
          "Perisa Asam Pedas Mi Segera",
          "Perisa Kari Mi Segera (Improved Taste)"
         ],
         "legendgroup": "E-Zee",
         "line": {
          "color": "#ab63fa"
         },
         "mode": "lines",
         "name": "E-Zee",
         "orientation": "v",
         "showlegend": true,
         "stackgroup": "1",
         "type": "scatter",
         "x": [
          "Malaysia",
          "Malaysia",
          "Malaysia"
         ],
         "xaxis": "x",
         "y": [
          4,
          4,
          5
         ],
         "yaxis": "y"
        },
        {
         "hovertemplate": "<b>%{hovertext}</b><br><br>Brand=Kiki Noodle<br>Country=%{x}<br>Stars=%{y}<extra></extra>",
         "hovertext": [
          "Scallion Oil & Soy Sauce Noodle",
          "Sichuan Spices Flavor Noodle"
         ],
         "legendgroup": "Kiki Noodle",
         "line": {
          "color": "#FFA15A"
         },
         "mode": "lines",
         "name": "Kiki Noodle",
         "orientation": "v",
         "showlegend": true,
         "stackgroup": "1",
         "type": "scatter",
         "x": [
          "Taiwan",
          "Taiwan"
         ],
         "xaxis": "x",
         "y": [
          5,
          5
         ],
         "yaxis": "y"
        },
        {
         "hovertemplate": "<b>%{hovertext}</b><br><br>Brand=Tokyo Noodle<br>Country=%{x}<br>Stars=%{y}<extra></extra>",
         "hovertext": [
          "Mini Instant Noodle Mild Curry Flavor",
          "Spicy Garlic Ramen",
          "Mini Instant Noodle Spicy Flavor",
          "Mini Instant Noodles Artificial Chicken Flavor"
         ],
         "legendgroup": "Tokyo Noodle",
         "line": {
          "color": "#19d3f3"
         },
         "mode": "lines",
         "name": "Tokyo Noodle",
         "orientation": "v",
         "showlegend": true,
         "stackgroup": "1",
         "type": "scatter",
         "x": [
          "Japan",
          "Japan",
          "Japan",
          "Japan"
         ],
         "xaxis": "x",
         "y": [
          2,
          3.25,
          3.5,
          5
         ],
         "yaxis": "y"
        },
        {
         "hovertemplate": "<b>%{hovertext}</b><br><br>Brand=GGE<br>Country=%{x}<br>Stars=%{y}<extra></extra>",
         "hovertext": [
          "Noodle Snack Wheat Cracks Seaweed Flavor"
         ],
         "legendgroup": "GGE",
         "line": {
          "color": "#FF6692"
         },
         "mode": "lines",
         "name": "GGE",
         "orientation": "v",
         "showlegend": true,
         "stackgroup": "1",
         "type": "scatter",
         "x": [
          "Taiwan"
         ],
         "xaxis": "x",
         "y": [
          3.5
         ],
         "yaxis": "y"
        },
        {
         "hovertemplate": "<b>%{hovertext}</b><br><br>Brand=Myojo<br>Country=%{x}<br>Stars=%{y}<extra></extra>",
         "hovertext": [
          "Udon Japanese Style Noodles With Soup Base Hot & Sour Flavor",
          "Yomise No Yakisoba Karashi Mentaiko Flavor",
          "Shin Toyama Black Ramen",
          "Mee Goreng Spicy Flavour",
          "Barikata Noukou Tonkotsu Shoyu",
          "Mee Goreng Thai Tom Yum Flavour",
          "Mee Goreng Original Flavour",
          "Charumera Atyificial Tonkotsu Shouyu Flavor",
          "Charumera Shoyu Ramen",
          "Mee Poh Dry",
          "Chicken Abalone Flavour",
          "Ramen Char Mee 100",
          "La Ramen Spicy Mushroom Flavour Big Bowl",
          "Mee Goreng",
          "La Ramen Spicy Lobster Hot Pot Flavour Big Bowl",
          "Chicken Abalone Flavour",
          "Thai Tom Yam Flavour",
          "Chicken Tanmen Flavour",
          "Extra Spicy Singapore Curry Big Bowl",
          "La Ramen Spicy Mushroom Flavour",
          "Chicken Flavour",
          "Wantan Men",
          "Udon Japanese Style Precooked Noodles With Soup Hot & Spicy Flavor",
          "Udon Japanese Style Pre-Cooked Noodles With Soup Beef Flavor",
          "Udon Japanese Style Pre-Cooked Noodles With Soup Chicken Flavor",
          "MenWhite Creamy Tonkotsu",
          "Nyumen Desse Shoyu",
          "Men Black Seafood Tonkotsu",
          "Ippei-Chan Jumbo Night Market Style Yakisoba",
          "Chukazanmai Beijing Style Salt Ramen",
          "Chukazanmai Szechuan Style Miso",
          "Yomise No Yakisoba Shiodare Flavor With Black Pepper Mayonnaise",
          "Prawn Noodles",
          "Chukazanmai Guangdong Style Ramen",
          "Japanese Style Noodles Shio Flavor",
          "Ippei-chan Yomise No Yakisoba Teriyaki Mayo Flavor",
          "Stir Fry Noodles Japanese Style Noodles With Sauce",
          "Ippei-chan Yomise-No Yakisoba Oriental",
          "Ippeichan Soy Sauce",
          "Ramen-Desse Miso Soybean Paste",
          "Hyoubanya No Chukasoba Soy Sauce",
          "Ippeichan Soybean Paste",
          "Kakesoba Desse Soy Sauce",
          "Ramen Desse Shio",
          "Suudon Desse Soy Sauce",
          "Hyoubanya No Chukasoba Oriental",
          "Charumera Shoyu",
          "Hyoubanya No Yakisoba Oriental",
          "Udon Mushroom",
          "Udon Hot & Spicy",
          "Udon Shrimp",
          "Udon Chicken",
          "Udon Crab",
          "Chukazanmai Served Cool Sesame Flavored Rice Vinegar Sesame",
          "Chukazanmai Soy Sauce",
          "Chukazanmai Soy Sauce chili Oil",
          "Hyobanya No Yakisoba Sauce Flavor",
          "Chukazanmai Soybean Paste",
          "Chukazanmai Oriental",
          "Ramen Desse Soy Sauce",
          "Okinawa Soba",
          "Ippeichan Yakisoba",
          "Special Duck"
         ],
         "legendgroup": "Myojo",
         "line": {
          "color": "#B6E880"
         },
         "mode": "lines",
         "name": "Myojo",
         "orientation": "v",
         "showlegend": true,
         "stackgroup": "1",
         "type": "scatter",
         "x": [
          "USA",
          "Japan",
          "Japan",
          "Singapore",
          "Japan",
          "Singapore",
          "Singapore",
          "Japan",
          "Japan",
          "Singapore",
          "Singapore",
          "Singapore",
          "Singapore",
          "Singapore",
          "Singapore",
          "Singapore",
          "Singapore",
          "Singapore",
          "Singapore",
          "Singapore",
          "Singapore",
          "Japan",
          "USA",
          "USA",
          "USA",
          "Japan",
          "Japan",
          "Japan",
          "Japan",
          "Japan",
          "Japan",
          "Japan",
          "Singapore",
          "Japan",
          "USA",
          "Japan",
          "USA",
          "Japan",
          "Japan",
          "Japan",
          "Japan",
          "Japan",
          "Japan",
          "Japan",
          "Japan",
          "Japan",
          "Japan",
          "Japan",
          "Japan",
          "Japan",
          "Japan",
          "Japan",
          "Japan",
          "Japan",
          "Japan",
          "Japan",
          "Japan",
          "Japan",
          "Japan",
          "Japan",
          "Japan",
          "Japan",
          "Japan"
         ],
         "xaxis": "x",
         "y": [
          3.75,
          4.5,
          4,
          5,
          4.75,
          4,
          4,
          3.75,
          4,
          4.25,
          3.75,
          3,
          4.5,
          4,
          4.75,
          3.5,
          3.75,
          3.5,
          5,
          4.5,
          3.75,
          5,
          3.25,
          3.25,
          2.5,
          3,
          2.75,
          3.5,
          4.5,
          3,
          2,
          3.75,
          4.25,
          4.25,
          5,
          5,
          4,
          4.75,
          4,
          4.5,
          4,
          4,
          2.75,
          4.25,
          4.25,
          4.25,
          3.5,
          4,
          3,
          4.5,
          3.75,
          3.75,
          3,
          3,
          3.75,
          3.25,
          4.75,
          3.5,
          3.75,
          1.5,
          3.75,
          4,
          1
         ],
         "yaxis": "y"
        },
        {
         "hovertemplate": "<b>%{hovertext}</b><br><br>Brand=Sau Tao<br>Country=%{x}<br>Stars=%{y}<extra></extra>",
         "hovertext": [
          "Instant Noodle King Pepper Duck Flavour Soup",
          "Non-Fried Mix Noodle Black Pepper XO Sauce Flavoured",
          "Black Pepper XO Sauce Flavour",
          "Ho Fan Wonton Soup Flavored",
          "Oat Noodle Tomato Soup Flavored",
          "Oat Noodle Pork Rib Flavored",
          "Oat Noodle Abalone Flavored",
          "Instant Noodle King Won Ton Flavor",
          "QQ Scallop Seafood Vermicelli",
          "Instant Noodle King Abalone & Chicken Flavoured",
          "Ho Fan Beef Soup Flavored",
          "Oat Noodle Sesame Oil Flavored",
          "Ho Fan Abalone Chicken",
          "Noodle King Lobster Thick"
         ],
         "legendgroup": "Sau Tao",
         "line": {
          "color": "#FF97FF"
         },
         "mode": "lines",
         "name": "Sau Tao",
         "orientation": "v",
         "showlegend": true,
         "stackgroup": "1",
         "type": "scatter",
         "x": [
          "Hong Kong",
          "Hong Kong",
          "Hong Kong",
          "Hong Kong",
          "Hong Kong",
          "Hong Kong",
          "Taiwan",
          "Hong Kong",
          "Hong Kong",
          "Hong Kong",
          "China",
          "China",
          "Hong Kong",
          "Hong Kong"
         ],
         "xaxis": "x",
         "y": [
          4,
          4.5,
          5,
          3,
          4.5,
          3.5,
          1.75,
          2.75,
          3.75,
          3.5,
          3.75,
          3.75,
          4,
          2.75
         ],
         "yaxis": "y"
        },
        {
         "hovertemplate": "<b>%{hovertext}</b><br><br>Brand=Wang<br>Country=%{x}<br>Stars=%{y}<extra></extra>",
         "hovertext": [
          "Extreme Spicy Hot Chicken Flavor Udon",
          "Rice Noodle Anchovy Flavor",
          "Rice Noodle Seafood Flavour",
          "Rice Noodle Kimchi Flavor",
          "Kitsune Udon",
          "Champong Spicy Seafood"
         ],
         "legendgroup": "Wang",
         "line": {
          "color": "#FECB52"
         },
         "mode": "lines",
         "name": "Wang",
         "orientation": "v",
         "showlegend": true,
         "stackgroup": "1",
         "type": "scatter",
         "x": [
          "South Korea",
          "South Korea",
          "South Korea",
          "South Korea",
          "South Korea",
          "South Korea"
         ],
         "xaxis": "x",
         "y": [
          2,
          3,
          5,
          4,
          4,
          3.5
         ],
         "yaxis": "y"
        },
        {
         "hovertemplate": "<b>%{hovertext}</b><br><br>Brand=Daifuku<br>Country=%{x}<br>Stars=%{y}<extra></extra>",
         "hovertext": [
          "Katsuo Bowl Udon"
         ],
         "legendgroup": "Daifuku",
         "line": {
          "color": "#636efa"
         },
         "mode": "lines",
         "name": "Daifuku",
         "orientation": "v",
         "showlegend": true,
         "stackgroup": "1",
         "type": "scatter",
         "x": [
          "USA"
         ],
         "xaxis": "x",
         "y": [
          5
         ],
         "yaxis": "y"
        },
        {
         "hovertemplate": "<b>%{hovertext}</b><br><br>Brand=Master Kong<br>Country=%{x}<br>Stars=%{y}<extra></extra>",
         "hovertext": [
          "Roasted Pork Noodle",
          "Chicken Flavor Instant Noolde",
          "Artificial Abalone Crab Flavor Instant Noodle",
          "Assorted Seafood Noodles",
          "Artificial Mushroom Chicken Flavor Instant Noodle",
          "Artificial Pork Ribs Flavour Instant Noodle",
          "Tomato Sauce Instant Noodle",
          "Assorted Pork Bone Noodle",
          "Spicy Fish Noodle",
          "Mushroom Instant Noodle",
          "Braised Beef Noodle",
          "Tomato Sauce Instant Noodle",
          "Sichuan Hot Spicy Fish",
          "Seafood Flavour Instant Cooking Noodles",
          "Artificial Seafood Flavor Instant Noodle",
          "Spicy Beef Flavor Instant Noodle",
          "Stewed Beef Flavor Cooking Noodle",
          "Mianba Pork Ribs Flavor Instant Noodles",
          "Mushroom Stew Chicken Ramen",
          "Artificial Braised Beef Flavor Instant Noodle",
          "Mianba",
          "Potatoes & Stewed Beef",
          "Spicy Beef",
          "Premium Taste Roasted Beef",
          "Red Oil Dan Dan",
          "Artificial Spicy Beef",
          "Artificial Braised Beef",
          "Artificial Pork"
         ],
         "legendgroup": "Master Kong",
         "line": {
          "color": "#EF553B"
         },
         "mode": "lines",
         "name": "Master Kong",
         "orientation": "v",
         "showlegend": true,
         "stackgroup": "1",
         "type": "scatter",
         "x": [
          "China",
          "China",
          "China",
          "China",
          "China",
          "China",
          "China",
          "China",
          "China",
          "China",
          "China",
          "China",
          "China",
          "China",
          "China",
          "China",
          "China",
          "China",
          "China",
          "China",
          "China",
          "China",
          "China",
          "China",
          "China",
          "China",
          "China",
          "China"
         ],
         "xaxis": "x",
         "y": [
          4.5,
          4.25,
          0,
          4,
          4,
          3.5,
          4.5,
          4,
          3,
          4.25,
          4.25,
          4,
          3.75,
          4.25,
          3.75,
          4,
          4.25,
          4.5,
          3.5,
          3.75,
          4,
          5,
          3.75,
          4,
          2.75,
          4.25,
          4.25,
          3.75
         ],
         "yaxis": "y"
        },
        {
         "hovertemplate": "<b>%{hovertext}</b><br><br>Brand=World O' Noodle<br>Country=%{x}<br>Stars=%{y}<extra></extra>",
         "hovertext": [
          "Mi Goreng Original Flavour Fried Noodles",
          "Mi Goreng Garlic Flavour Fried Noodles"
         ],
         "legendgroup": "World O' Noodle",
         "line": {
          "color": "#00cc96"
         },
         "mode": "lines",
         "name": "World O' Noodle",
         "orientation": "v",
         "showlegend": true,
         "stackgroup": "1",
         "type": "scatter",
         "x": [
          "Indonesia",
          "Indonesia"
         ],
         "xaxis": "x",
         "y": [
          5,
          4.5
         ],
         "yaxis": "y"
        },
        {
         "hovertemplate": "<b>%{hovertext}</b><br><br>Brand=Kang Shi Fu<br>Country=%{x}<br>Stars=%{y}<extra></extra>",
         "hovertext": [
          "Artificial Dongpo's Braised Pork Flavour",
          "Artificial Spicy Beef Flavour",
          "Artificial Beef With Sauerkraut Flavour",
          "Artificial Salted Beef With Mushrooms Flavour",
          "Artificial Roasted Beef"
         ],
         "legendgroup": "Kang Shi Fu",
         "line": {
          "color": "#ab63fa"
         },
         "mode": "lines",
         "name": "Kang Shi Fu",
         "orientation": "v",
         "showlegend": true,
         "stackgroup": "1",
         "type": "scatter",
         "x": [
          "Hong Kong",
          "Hong Kong",
          "Hong Kong",
          "Hong Kong",
          "China"
         ],
         "xaxis": "x",
         "y": [
          4.75,
          4,
          4,
          4,
          3.5
         ],
         "yaxis": "y"
        },
        {
         "hovertemplate": "<b>%{hovertext}</b><br><br>Brand=Fashion Food<br>Country=%{x}<br>Stars=%{y}<extra></extra>",
         "hovertext": [
          "Yummy Spicy Rice Soup With Seafood",
          "Tom Yum Shrimp Creamy Flavour Instant Noodles",
          "Tom Yum Seafood Creamy"
         ],
         "legendgroup": "Fashion Food",
         "line": {
          "color": "#FFA15A"
         },
         "mode": "lines",
         "name": "Fashion Food",
         "orientation": "v",
         "showlegend": true,
         "stackgroup": "1",
         "type": "scatter",
         "x": [
          "Thailand",
          "Thailand",
          "Thailand"
         ],
         "xaxis": "x",
         "y": [
          3.5,
          4,
          2
         ],
         "yaxis": "y"
        },
        {
         "hovertemplate": "<b>%{hovertext}</b><br><br>Brand=Dream Kitchen<br>Country=%{x}<br>Stars=%{y}<extra></extra>",
         "hovertext": [
          "Udon Japanese Style Fresh Noodle",
          "Curry Flavour Instant Noodles",
          "Soy Sauce",
          "Tonkotsu"
         ],
         "legendgroup": "Dream Kitchen",
         "line": {
          "color": "#19d3f3"
         },
         "mode": "lines",
         "name": "Dream Kitchen",
         "orientation": "v",
         "showlegend": true,
         "stackgroup": "1",
         "type": "scatter",
         "x": [
          "USA",
          "USA",
          "USA",
          "USA"
         ],
         "xaxis": "x",
         "y": [
          3.75,
          5,
          4,
          3
         ],
         "yaxis": "y"
        },
        {
         "hovertemplate": "<b>%{hovertext}</b><br><br>Brand=Ajinatori<br>Country=%{x}<br>Stars=%{y}<extra></extra>",
         "hovertext": [
          "HALAL Chicken Shoyu Sauce Ramen",
          "Chicken Flavor Ramen"
         ],
         "legendgroup": "Ajinatori",
         "line": {
          "color": "#FF6692"
         },
         "mode": "lines",
         "name": "Ajinatori",
         "orientation": "v",
         "showlegend": true,
         "stackgroup": "1",
         "type": "scatter",
         "x": [
          "Japan",
          "Japan"
         ],
         "xaxis": "x",
         "y": [
          2.5,
          4
         ],
         "yaxis": "y"
        },
        {
         "hovertemplate": "<b>%{hovertext}</b><br><br>Brand=Dr. McDougall's<br>Country=%{x}<br>Stars=%{y}<extra></extra>",
         "hovertext": [
          "Vegan Pad Thai Noodle Soup"
         ],
         "legendgroup": "Dr. McDougall's",
         "line": {
          "color": "#B6E880"
         },
         "mode": "lines",
         "name": "Dr. McDougall's",
         "orientation": "v",
         "showlegend": true,
         "stackgroup": "1",
         "type": "scatter",
         "x": [
          "USA"
         ],
         "xaxis": "x",
         "y": [
          0
         ],
         "yaxis": "y"
        },
        {
         "hovertemplate": "<b>%{hovertext}</b><br><br>Brand=Ve Wong<br>Country=%{x}<br>Stars=%{y}<extra></extra>",
         "hovertext": [
          "Kung-Fu Instant Oriental Noodles Soup Artificial Onion Flavor",
          "Little Prince(ss) Brand Snack Noodles Artificial Mexican Pizza Flavor",
          "Kung-Fu Brand Instant Oriental Noodle Soup Artificial Beef Flavor",
          "Little Prince Brand Snack Noodles Original Flavor",
          "Kung Fu Artificial Mushroom Pork",
          "Artificial Onion Flavor Bean Thread",
          "Kung Fu Shrimp",
          "Kung Fu Artificial Beef Rice Noodle",
          "Kung Fu Artificial Szechuan Pork",
          "Kung Fu Artificial Sesame Chicken",
          "Instant Bean Thread Seafood",
          "Artificial Classic Beef",
          "Hot Of Hots Artificial Black Peppered Beef",
          "Hot Of Hots Artificial Satay Beef",
          "Kung Fu Artificial Soybean Paste",
          "Artificial Peppered Beef",
          "Artificial Pork & Chicken",
          "Vegetarian Flavor",
          "Artificial Sesame Chicken",
          "Kung Fu Artificial Onion",
          "A-One Bun Tom Shrimp"
         ],
         "legendgroup": "Ve Wong",
         "line": {
          "color": "#FF97FF"
         },
         "mode": "lines",
         "name": "Ve Wong",
         "orientation": "v",
         "showlegend": true,
         "stackgroup": "1",
         "type": "scatter",
         "x": [
          "Taiwan",
          "Taiwan",
          "Taiwan",
          "Taiwan",
          "Taiwan",
          "Taiwan",
          "Taiwan",
          "Taiwan",
          "Taiwan",
          "Taiwan",
          "Taiwan",
          "Taiwan",
          "Taiwan",
          "Taiwan",
          "Taiwan",
          "Taiwan",
          "Taiwan",
          "Taiwan",
          "Taiwan",
          "Taiwan",
          "Taiwan"
         ],
         "xaxis": "x",
         "y": [
          3.5,
          4,
          3.75,
          2.5,
          1.25,
          1.5,
          4,
          3.75,
          3.75,
          3.75,
          2.5,
          3.75,
          1.25,
          3.75,
          4,
          3.5,
          3.4,
          3,
          4.25,
          2.75,
          3
         ],
         "yaxis": "y"
        },
        {
         "hovertemplate": "<b>%{hovertext}</b><br><br>Brand=Super Bihun<br>Country=%{x}<br>Stars=%{y}<extra></extra>",
         "hovertext": [
          "Bihun Kuah Rasa Baso Sapi",
          "Kuah Rice Noodles",
          "Kuah Rasa Baso Sapi Rice Noodles",
          "Goreng Rice Noodles"
         ],
         "legendgroup": "Super Bihun",
         "line": {
          "color": "#FECB52"
         },
         "mode": "lines",
         "name": "Super Bihun",
         "orientation": "v",
         "showlegend": true,
         "stackgroup": "1",
         "type": "scatter",
         "x": [
          "Indonesia",
          "Indonesia",
          "Indonesia",
          "Indonesia"
         ],
         "xaxis": "x",
         "y": [
          3.75,
          4.5,
          3,
          4.5
         ],
         "yaxis": "y"
        },
        {
         "hovertemplate": "<b>%{hovertext}</b><br><br>Brand=Xiuhe<br>Country=%{x}<br>Stars=%{y}<extra></extra>",
         "hovertext": [
          "Hot & Sour Beef Noodles"
         ],
         "legendgroup": "Xiuhe",
         "line": {
          "color": "#636efa"
         },
         "mode": "lines",
         "name": "Xiuhe",
         "orientation": "v",
         "showlegend": true,
         "stackgroup": "1",
         "type": "scatter",
         "x": [
          "China"
         ],
         "xaxis": "x",
         "y": [
          4.25
         ],
         "yaxis": "y"
        },
        {
         "hovertemplate": "<b>%{hovertext}</b><br><br>Brand=Little Cook<br>Country=%{x}<br>Stars=%{y}<extra></extra>",
         "hovertext": [
          "Thailand Green Curry Instant Noodle",
          "Instant Noodles Shrimp Tom Yum Flavour",
          "Stewed Duck",
          "Mushroom Vegetarian",
          "Abalone Chicken",
          "TVP Stewed Pork",
          "Spicy Beef",
          "Artificial Onion",
          "Vegetarian",
          "Wheat Gluten Stewed Duck Flavoured",
          "Tom Yum Seafood Creamy",
          "TVP Curry Chicken",
          "TVP Spicy Beef",
          "Pork Mustard Stem"
         ],
         "legendgroup": "Little Cook",
         "line": {
          "color": "#EF553B"
         },
         "mode": "lines",
         "name": "Little Cook",
         "orientation": "v",
         "showlegend": true,
         "stackgroup": "1",
         "type": "scatter",
         "x": [
          "Taiwan",
          "Thailand",
          "Thailand",
          "Thailand",
          "Thailand",
          "Thailand",
          "Thailand",
          "Thailand",
          "Thailand",
          "Thailand",
          "Thailand",
          "Thailand",
          "Thailand",
          "Thailand"
         ],
         "xaxis": "x",
         "y": [
          5,
          4.25,
          3,
          4.75,
          1.75,
          3.5,
          2.75,
          3.5,
          3.25,
          2.75,
          3,
          4,
          4.75,
          0.5
         ],
         "yaxis": "y"
        },
        {
         "hovertemplate": "<b>%{hovertext}</b><br><br>Brand=Shirakiku<br>Country=%{x}<br>Stars=%{y}<extra></extra>",
         "hovertext": [
          "Sanukiya Udon Shrimp Flavor",
          "Karami Ramen Spicy Chili Flavour Japanese Style Noodle With Soup Base",
          "Fresh Chow Mein Noodles With Seasoning",
          "Hot & Spicy Udon",
          "Japanese Style Tokusen Sio",
          "Sanukiya Fresh Spicy Ramen",
          "Japanese Style Tokusen Shoyu",
          "Sanukiya Somen",
          "Sanukiya Udon",
          "Japanese Style Tokusen Miso",
          "Japanese Style Tokusen Karami"
         ],
         "legendgroup": "Shirakiku",
         "line": {
          "color": "#00cc96"
         },
         "mode": "lines",
         "name": "Shirakiku",
         "orientation": "v",
         "showlegend": true,
         "stackgroup": "1",
         "type": "scatter",
         "x": [
          "USA",
          "USA",
          "USA",
          "USA",
          "Japan",
          "Japan",
          "Japan",
          "Japan",
          "Japan",
          "Japan",
          "Japan"
         ],
         "xaxis": "x",
         "y": [
          3.25,
          2,
          3.75,
          3,
          3.25,
          3,
          4,
          4.25,
          3.75,
          3,
          3
         ],
         "yaxis": "y"
        },
        {
         "hovertemplate": "<b>%{hovertext}</b><br><br>Brand=Mama Pat's<br>Country=%{x}<br>Stars=%{y}<extra></extra>",
         "hovertext": [
          "Chicken Fajita Flavor Instant Ramen Noodles",
          "Lamb Stew Flavor Instant Ramen Noodles",
          "Seafood Gumbo Flavor Instant Ramen Noodles",
          "Chicken Taco Flavor Instant Ramen Noodles"
         ],
         "legendgroup": "Mama Pat's",
         "line": {
          "color": "#ab63fa"
         },
         "mode": "lines",
         "name": "Mama Pat's",
         "orientation": "v",
         "showlegend": true,
         "stackgroup": "1",
         "type": "scatter",
         "x": [
          "USA",
          "USA",
          "USA",
          "USA"
         ],
         "xaxis": "x",
         "y": [
          3.75,
          3.75,
          3.5,
          3.75
         ],
         "yaxis": "y"
        },
        {
         "hovertemplate": "<b>%{hovertext}</b><br><br>Brand=Goku-Uma<br>Country=%{x}<br>Stars=%{y}<extra></extra>",
         "hovertext": [
          "Yakisoba Japanese Style Noodle",
          "Ramen Noodles Miso Flavor",
          "Ramen Noodles Soy Sauce Flavor",
          "Ramen Noodles Artificially Flavored Tonkotsu"
         ],
         "legendgroup": "Goku-Uma",
         "line": {
          "color": "#FFA15A"
         },
         "mode": "lines",
         "name": "Goku-Uma",
         "orientation": "v",
         "showlegend": true,
         "stackgroup": "1",
         "type": "scatter",
         "x": [
          "USA",
          "USA",
          "USA",
          "USA"
         ],
         "xaxis": "x",
         "y": [
          4.75,
          3,
          3,
          3
         ],
         "yaxis": "y"
        },
        {
         "hovertemplate": "<b>%{hovertext}</b><br><br>Brand=Sichuan Baijia<br>Country=%{x}<br>Stars=%{y}<extra></extra>",
         "hovertext": [
          "Chongqing Noodles Burning Dry Noodles",
          "Pickled Cabbage Flavor Instant Vermicelli",
          "Chongqing Noodles Spicy Hot Flavor",
          "Chongqing Noodles Hot & Sour Flavor",
          "Chongqing Noodles Burning Dry Noodles",
          "Broad Noodle Artificial Beef Flavor Hot Pot",
          "Hot spicy Flavor Instant Vermicelli",
          "Artificial Pickled Cabbage Fish Flavor Instant Vermicelli",
          "Broad Noodle Artificial Beef Flavor",
          "Broad Noodle Chilli Oil Flavor"
         ],
         "legendgroup": "Sichuan Baijia",
         "line": {
          "color": "#19d3f3"
         },
         "mode": "lines",
         "name": "Sichuan Baijia",
         "orientation": "v",
         "showlegend": true,
         "stackgroup": "1",
         "type": "scatter",
         "x": [
          "China",
          "China",
          "China",
          "China",
          "China",
          "China",
          "China",
          "China",
          "China",
          "China"
         ],
         "xaxis": "x",
         "y": [
          5,
          4,
          5,
          4,
          5,
          4,
          3.5,
          1.5,
          3.5,
          4.5
         ],
         "yaxis": "y"
        },
        {
         "hovertemplate": "<b>%{hovertext}</b><br><br>Brand=Liang Cheng Mai<br>Country=%{x}<br>Stars=%{y}<extra></extra>",
         "hovertext": [
          "Shaanxi Cold Noodle: Mustard Spicy"
         ],
         "legendgroup": "Liang Cheng Mai",
         "line": {
          "color": "#FF6692"
         },
         "mode": "lines",
         "name": "Liang Cheng Mai",
         "orientation": "v",
         "showlegend": true,
         "stackgroup": "1",
         "type": "scatter",
         "x": [
          "China"
         ],
         "xaxis": "x",
         "y": [
          1
         ],
         "yaxis": "y"
        },
        {
         "hovertemplate": "<b>%{hovertext}</b><br><br>Brand=Gefen<br>Country=%{x}<br>Stars=%{y}<extra></extra>",
         "hovertext": [
          "Imitation Chicken Flavor",
          "Vegetable",
          "Chicken",
          "Imitation Chicken Vegetarian"
         ],
         "legendgroup": "Gefen",
         "line": {
          "color": "#B6E880"
         },
         "mode": "lines",
         "name": "Gefen",
         "orientation": "v",
         "showlegend": true,
         "stackgroup": "1",
         "type": "scatter",
         "x": [
          "USA",
          "USA",
          "USA",
          "USA"
         ],
         "xaxis": "x",
         "y": [
          4,
          3.25,
          3.5,
          3
         ],
         "yaxis": "y"
        },
        {
         "hovertemplate": "<b>%{hovertext}</b><br><br>Brand=Hua Feng<br>Country=%{x}<br>Stars=%{y}<extra></extra>",
         "hovertext": [
          "Three Fresh Delicacies Instant Noodle"
         ],
         "legendgroup": "Hua Feng",
         "line": {
          "color": "#FF97FF"
         },
         "mode": "lines",
         "name": "Hua Feng",
         "orientation": "v",
         "showlegend": true,
         "stackgroup": "1",
         "type": "scatter",
         "x": [
          "China"
         ],
         "xaxis": "x",
         "y": [
          4.25
         ],
         "yaxis": "y"
        },
        {
         "hovertemplate": "<b>%{hovertext}</b><br><br>Brand=Pulmuone<br>Country=%{x}<br>Stars=%{y}<extra></extra>",
         "hovertext": [
          "Non-Fried Ramyun With Spicy Beef Broth",
          "Non-Fried Ramyun Noodle (Crab Flavor)",
          "Noodle With Spicy Oyster Soup",
          "Non-Fried Noodle Blackbean Sauce Noodle With Squid",
          "Nature Is Delicious Non-Fried Ramyun (Spicy Flavor) (New Version)",
          "Nature Is Delicious Spicy",
          "Cold Noodles By Dad",
          "Fresh Ramen Spicy"
         ],
         "legendgroup": "Pulmuone",
         "line": {
          "color": "#FECB52"
         },
         "mode": "lines",
         "name": "Pulmuone",
         "orientation": "v",
         "showlegend": true,
         "stackgroup": "1",
         "type": "scatter",
         "x": [
          "South Korea",
          "South Korea",
          "South Korea",
          "South Korea",
          "South Korea",
          "South Korea",
          "South Korea",
          "South Korea"
         ],
         "xaxis": "x",
         "y": [
          3.75,
          5,
          4,
          4.5,
          3.75,
          3.75,
          2.75,
          3
         ],
         "yaxis": "y"
        },
        {
         "hovertemplate": "<b>%{hovertext}</b><br><br>Brand=Liu Quan<br>Country=%{x}<br>Stars=%{y}<extra></extra>",
         "hovertext": [
          "Instant Spicy Rice Noodle"
         ],
         "legendgroup": "Liu Quan",
         "line": {
          "color": "#636efa"
         },
         "mode": "lines",
         "name": "Liu Quan",
         "orientation": "v",
         "showlegend": true,
         "stackgroup": "1",
         "type": "scatter",
         "x": [
          "China"
         ],
         "xaxis": "x",
         "y": [
          4
         ],
         "yaxis": "y"
        },
        {
         "hovertemplate": "<b>%{hovertext}</b><br><br>Brand=Daikoku<br>Country=%{x}<br>Stars=%{y}<extra></extra>",
         "hovertext": [
          "Tanuki Soba",
          "Kitsune Udon",
          "Hiroshima Flavor Yakisoba",
          "Bikkuchigekara Big Chige",
          "Shokuh Kitsune Udon",
          "My Friend Vic Tanuki Udon"
         ],
         "legendgroup": "Daikoku",
         "line": {
          "color": "#EF553B"
         },
         "mode": "lines",
         "name": "Daikoku",
         "orientation": "v",
         "showlegend": true,
         "stackgroup": "1",
         "type": "scatter",
         "x": [
          "Japan",
          "Japan",
          "Japan",
          "Japan",
          "Japan",
          "Japan"
         ],
         "xaxis": "x",
         "y": [
          3.5,
          2,
          5,
          3.75,
          4.25,
          4.75
         ],
         "yaxis": "y"
        },
        {
         "hovertemplate": "<b>%{hovertext}</b><br><br>Brand=Chuan Wei Wang<br>Country=%{x}<br>Stars=%{y}<extra></extra>",
         "hovertext": [
          "Bowl Instant Noodles Artificial Spicy Beef Flavor",
          "Bowl Instant Noodles Artificial Beef With Sauerkraut Flavor"
         ],
         "legendgroup": "Chuan Wei Wang",
         "line": {
          "color": "#00cc96"
         },
         "mode": "lines",
         "name": "Chuan Wei Wang",
         "orientation": "v",
         "showlegend": true,
         "stackgroup": "1",
         "type": "scatter",
         "x": [
          "China",
          "China"
         ],
         "xaxis": "x",
         "y": [
          4,
          3
         ],
         "yaxis": "y"
        },
        {
         "hovertemplate": "<b>%{hovertext}</b><br><br>Brand=Kamfen<br>Country=%{x}<br>Stars=%{y}<extra></extra>",
         "hovertext": [
          "Noodle King Artificial Wonton Soup Flavored",
          "Noodle King Artificial Abalone And Chicken Soup Flavored",
          "Instant Wonton Noodles Scallop Lobster Soup Flavour",
          "Dried Mix Noodles Scallop Seafood Flavoured",
          "Noodle King Artificial Beef Soup Flavored",
          "Wonton Noodles Beef Flavour",
          "E-Men Noodles Abalone Soup Flavor",
          "E-men Lobster Soup",
          "dried Mix Noodles Soya Bean Paste",
          "Dried Mix Noodles Artificial Spicy Pork",
          "Japanese U-Don Lobster Scallop",
          "E Menm Chicken",
          "Dried Mix Noodles XO Sauce",
          "Noodle King Thin Wonton",
          "Noodle King Beef"
         ],
         "legendgroup": "Kamfen",
         "line": {
          "color": "#ab63fa"
         },
         "mode": "lines",
         "name": "Kamfen",
         "orientation": "v",
         "showlegend": true,
         "stackgroup": "1",
         "type": "scatter",
         "x": [
          "Hong Kong",
          "Hong Kong",
          "Hong Kong",
          "Hong Kong",
          "Hong Kong",
          "Hong Kong",
          "Hong Kong",
          "China",
          "China",
          "China",
          "China",
          "China",
          "China",
          "China",
          "China"
         ],
         "xaxis": "x",
         "y": [
          5,
          4,
          4.3,
          4.25,
          3.75,
          3.75,
          3.75,
          3.25,
          3.75,
          4,
          3,
          3.75,
          2,
          2,
          1.75
         ],
         "yaxis": "y"
        },
        {
         "hovertemplate": "<b>%{hovertext}</b><br><br>Brand=Marutai<br>Country=%{x}<br>Stars=%{y}<extra></extra>",
         "hovertext": [
          "Nagasaki Agodashi Shoyu Ramen",
          "Kuroma-Yu Tonkotsu Kumamoto Ramen",
          "Hakata Tonkotsu Ramen",
          "Kogashi Megiiri Tonkotsu Kagoshima Ramen",
          "Kuroma-yu Tonkotsu Kumamoto Ramen",
          "Nagahama Hakata Tonkotsu Ramen",
          "Ramen Shoyu Taste"
         ],
         "legendgroup": "Marutai",
         "line": {
          "color": "#FFA15A"
         },
         "mode": "lines",
         "name": "Marutai",
         "orientation": "v",
         "showlegend": true,
         "stackgroup": "1",
         "type": "scatter",
         "x": [
          "Japan",
          "Japan",
          "Japan",
          "Japan",
          "Japan",
          "Japan",
          "Japan"
         ],
         "xaxis": "x",
         "y": [
          4,
          4,
          5,
          3.5,
          4,
          4.75,
          4.25
         ],
         "yaxis": "y"
        },
        {
         "hovertemplate": "<b>%{hovertext}</b><br><br>Brand=Sempio<br>Country=%{x}<br>Stars=%{y}<extra></extra>",
         "hovertext": [
          "Clam Flavor Soup Kal-guksu",
          "Seafood Vermicelli Anchovy",
          "Seafood Noodle Cup"
         ],
         "legendgroup": "Sempio",
         "line": {
          "color": "#19d3f3"
         },
         "mode": "lines",
         "name": "Sempio",
         "orientation": "v",
         "showlegend": true,
         "stackgroup": "1",
         "type": "scatter",
         "x": [
          "South Korea",
          "South Korea",
          "South Korea"
         ],
         "xaxis": "x",
         "y": [
          5,
          4.25,
          3.5
         ],
         "yaxis": "y"
        },
        {
         "hovertemplate": "<b>%{hovertext}</b><br><br>Brand=Qin Zong<br>Country=%{x}<br>Stars=%{y}<extra></extra>",
         "hovertext": [
          "Shaanxi Cold Noot Hot & Sour Flavor"
         ],
         "legendgroup": "Qin Zong",
         "line": {
          "color": "#FF6692"
         },
         "mode": "lines",
         "name": "Qin Zong",
         "orientation": "v",
         "showlegend": true,
         "stackgroup": "1",
         "type": "scatter",
         "x": [
          "China"
         ],
         "xaxis": "x",
         "y": [
          3
         ],
         "yaxis": "y"
        },
        {
         "hovertemplate": "<b>%{hovertext}</b><br><br>Brand=Sapporo Ichiban<br>Country=%{x}<br>Stars=%{y}<extra></extra>",
         "hovertext": [
          "Mie Kamayama Ramen Gyukotsu Misoaji",
          "Tabimen AizuKitakata Gyokai Shoyu Ramen",
          "Tabimen Nagasaki Chanpon",
          "Kun Ramen Sumo-kuchikin (Smoked Chicken)",
          "Taimeiken Yousyoku Yasangatsukutta Omumen",
          "Tonkotsu Ramen Artificially Flavored Tonkotsu White Chicken Broth",
          "Otafuku Okonomi Sauce Yakisoba",
          "Sesame Ramen",
          "Pokemon Shoyu Ramen",
          "Tomato & Basil Shio Ramen",
          "Original Flavor",
          "Chow Mein (New)",
          "Shio",
          "Hot Spicy Chicken",
          "Beef Flavorc",
          "Chicken Flavor",
          "Original Flavor",
          "Beef Flavor",
          "Shrimp Flavor",
          "Miso Soybean Paste",
          "Kitsune Udon",
          "Chicken Flavor",
          "Chow Mein",
          "Shrimp Flavor"
         ],
         "legendgroup": "Sapporo Ichiban",
         "line": {
          "color": "#B6E880"
         },
         "mode": "lines",
         "name": "Sapporo Ichiban",
         "orientation": "v",
         "showlegend": true,
         "stackgroup": "1",
         "type": "scatter",
         "x": [
          "Japan",
          "Japan",
          "Japan",
          "Japan",
          "Japan",
          "USA",
          "Japan",
          "Japan",
          "Japan",
          "Japan",
          "USA",
          "USA",
          "Japan",
          "USA",
          "USA",
          "USA",
          "USA",
          "USA",
          "USA",
          "Japan",
          "Japan",
          "USA",
          "Japan",
          "Japan"
         ],
         "xaxis": "x",
         "y": [
          3,
          4,
          4,
          3,
          4,
          5,
          5,
          5,
          3.5,
          4,
          3.5,
          5,
          5,
          2,
          3.5,
          3.75,
          3.5,
          4.5,
          1.75,
          3.5,
          3.25,
          3.5,
          5,
          2.5
         ],
         "yaxis": "y"
        },
        {
         "hovertemplate": "<b>%{hovertext}</b><br><br>Brand=MAMA<br>Country=%{x}<br>Stars=%{y}<extra></extra>",
         "hovertext": [
          "Instant Bowl Noodles Shrimp (Tom Yum) Flavor Base",
          "Instant Rice Noodles Moo Nam Tok Flavour",
          "Instant Rice Vermicelli Clear Soup",
          "Instant Rice Noodles Chicken Flavour",
          "Pho Ga Rice Noodles With Artificial Chicken Flavour",
          "Oriental Kitchen Instant Rice Vermicelli In Gravy",
          "Instant Tom Yam Rice Noodles",
          "Instant Rice Noodles Vegetable Flavour",
          "Instant Rice Vermicelli Yentafo Tom Yam Mohfai",
          "Instant Flat Noodles Clear Soup",
          "Cup Rice Noodles Tom Saab Flavour",
          "Instant Rice Noodles Stew Beef Flavour",
          "Instant Rice Noodles Phnom Penh Style",
          "Instant Flat Noodles Tom Yam Flavour",
          "Vegetarian Instant Noodles Shiitake Flavour",
          "Cup Vegetarian Instant Noodles Tom Yum Flavour"
         ],
         "legendgroup": "MAMA",
         "line": {
          "color": "#FF97FF"
         },
         "mode": "lines",
         "name": "MAMA",
         "orientation": "v",
         "showlegend": true,
         "stackgroup": "1",
         "type": "scatter",
         "x": [
          "Thailand",
          "Thailand",
          "Thailand",
          "Thailand",
          "Thailand",
          "Thailand",
          "Thailand",
          "Thailand",
          "Thailand",
          "Thailand",
          "Thailand",
          "Thailand",
          "Thailand",
          "Thailand",
          "Thailand",
          "Thailand"
         ],
         "xaxis": "x",
         "y": [
          4,
          3.5,
          3.5,
          4,
          3,
          5,
          4,
          4,
          5,
          4,
          5,
          4,
          4,
          4,
          2,
          4
         ],
         "yaxis": "y"
        },
        {
         "hovertemplate": "<b>%{hovertext}</b><br><br>Brand=Xiao Ban Mian<br>Country=%{x}<br>Stars=%{y}<extra></extra>",
         "hovertext": [
          "Sesame Oil With Garlic Flavor Thin Noodle",
          "Traditional Shallot & Onion Oil Noodle",
          "Sesame Sauce Matcha Noodle"
         ],
         "legendgroup": "Xiao Ban Mian",
         "line": {
          "color": "#FECB52"
         },
         "mode": "lines",
         "name": "Xiao Ban Mian",
         "orientation": "v",
         "showlegend": true,
         "stackgroup": "1",
         "type": "scatter",
         "x": [
          "Taiwan",
          "Taiwan",
          "Taiwan"
         ],
         "xaxis": "x",
         "y": [
          3.5,
          5,
          3.8
         ],
         "yaxis": "y"
        },
        {
         "hovertemplate": "<b>%{hovertext}</b><br><br>Brand=Cintan<br>Country=%{x}<br>Stars=%{y}<extra></extra>",
         "hovertext": [
          "Mi Segera Mmm... Original",
          "Mi Segera Mmm... Perisa Goreng Ala Indonesia",
          "Mi Segera Mmm... Perisa Asam Laksa",
          "Mi Segera Mmm... Perisa Ayam Cendawan",
          "Mi Segera Mmm... Perisa Kari"
         ],
         "legendgroup": "Cintan",
         "line": {
          "color": "#636efa"
         },
         "mode": "lines",
         "name": "Cintan",
         "orientation": "v",
         "showlegend": true,
         "stackgroup": "1",
         "type": "scatter",
         "x": [
          "Malaysia",
          "Malaysia",
          "Malaysia",
          "Malaysia",
          "Malaysia"
         ],
         "xaxis": "x",
         "y": [
          3,
          3.5,
          3.5,
          3.5,
          3
         ],
         "yaxis": "y"
        },
        {
         "hovertemplate": "<b>%{hovertext}</b><br><br>Brand=JML<br>Country=%{x}<br>Stars=%{y}<extra></extra>",
         "hovertext": [
          "Hot & Sour Beef Noodles",
          "Instant Noodle Artificial Beef Flavor 7 sour Pickled Cabbage",
          "Spicy King Spicy Chicken",
          "Supereme Bowl Noodles With Stewed Egg Spicy Flavour",
          "Spicy King Bowl Noodle Spicy Chicken",
          "Spicy King Bowl Noodle Spicy Beef",
          "Spicy King Spicy Pork",
          "Supreme Bowl Noodles With Stewed Egg Sour Beans With Pork Flavour",
          "Spicy King Spicy Beef",
          "Supreme Bowl Noodles With Stewed Egg Braised Beef Flavour",
          "Spicy King Bowl Noodle Spicy Pork",
          "Emporer Instant Noodles Spicy Chicken",
          "Artificial Pork Flavor Noodles",
          "Braised Beef Noodles",
          "Artificial Stew Beef",
          "Seafood",
          "Artificial Stew Pork",
          "Artificial Mushroom Chicken",
          "Artificial Spicy Beef",
          "Artificial Spicy Hot Beef",
          "Artificial Spicy Beef",
          "Artificial Stew Beef",
          "Stew Pork"
         ],
         "legendgroup": "JML",
         "line": {
          "color": "#EF553B"
         },
         "mode": "lines",
         "name": "JML",
         "orientation": "v",
         "showlegend": true,
         "stackgroup": "1",
         "type": "scatter",
         "x": [
          "China",
          "China",
          "China",
          "China",
          "China",
          "China",
          "China",
          "China",
          "China",
          "China",
          "China",
          "China",
          "China",
          "China",
          "China",
          "China",
          "China",
          "China",
          "China",
          "China",
          "China",
          "China",
          "China"
         ],
         "xaxis": "x",
         "y": [
          4,
          4,
          5,
          3.5,
          5,
          4.25,
          5,
          4,
          5,
          3.5,
          4.5,
          5,
          4,
          4,
          3.75,
          3,
          3.25,
          1.25,
          3.5,
          3.75,
          3.5,
          3.75,
          3.25
         ],
         "yaxis": "y"
        },
        {
         "hovertemplate": "<b>%{hovertext}</b><br><br>Brand=Unif Tung-I<br>Country=%{x}<br>Stars=%{y}<extra></extra>",
         "hovertext": [
          "Instant Vegetarian Beehoon Rice Vermicelli"
         ],
         "legendgroup": "Unif Tung-I",
         "line": {
          "color": "#00cc96"
         },
         "mode": "lines",
         "name": "Unif Tung-I",
         "orientation": "v",
         "showlegend": true,
         "stackgroup": "1",
         "type": "scatter",
         "x": [
          "Taiwan"
         ],
         "xaxis": "x",
         "y": [
          1
         ],
         "yaxis": "y"
        },
        {
         "hovertemplate": "<b>%{hovertext}</b><br><br>Brand=Tablemark<br>Country=%{x}<br>Stars=%{y}<extra></extra>",
         "hovertext": [
          "Tohokuno Aji Yonezawa Ramen",
          "Downtown Ramen Shop Shoyu",
          "Soybean Paste"
         ],
         "legendgroup": "Tablemark",
         "line": {
          "color": "#ab63fa"
         },
         "mode": "lines",
         "name": "Tablemark",
         "orientation": "v",
         "showlegend": true,
         "stackgroup": "1",
         "type": "scatter",
         "x": [
          "Japan",
          "Japan",
          "Japan"
         ],
         "xaxis": "x",
         "y": [
          4,
          4.75,
          4.5
         ],
         "yaxis": "y"
        },
        {
         "hovertemplate": "<b>%{hovertext}</b><br><br>Brand=Farmer's Heart<br>Country=%{x}<br>Stars=%{y}<extra></extra>",
         "hovertext": [
          "Pho Beef Flavor Vietnamese Rice Noodle Soup"
         ],
         "legendgroup": "Farmer's Heart",
         "line": {
          "color": "#FFA15A"
         },
         "mode": "lines",
         "name": "Farmer's Heart",
         "orientation": "v",
         "showlegend": true,
         "stackgroup": "1",
         "type": "scatter",
         "x": [
          "USA"
         ],
         "xaxis": "x",
         "y": [
          3.75
         ],
         "yaxis": "y"
        },
        {
         "hovertemplate": "<b>%{hovertext}</b><br><br>Brand=Fuku<br>Country=%{x}<br>Stars=%{y}<extra></extra>",
         "hovertext": [
          "Tom Yam Soup Instant Noodle",
          "Spicy Soup Instant Noodle Beef Flavour",
          "Bowl Chicken Flavour Instant Rice Vermicelli",
          "Chicken Flavour Instant Noodle",
          "Superior Soup Instant Noodles (Mfg in Thailand)",
          "Superior Soup Instant Noodles (Mfg in Vietnam)",
          "Superior Soup Instant Rice Vermicelli",
          "Non-Fried Superior Soup Noodle",
          "Superior Soup Rice Noodle",
          "Superior Soup"
         ],
         "legendgroup": "Fuku",
         "line": {
          "color": "#19d3f3"
         },
         "mode": "lines",
         "name": "Fuku",
         "orientation": "v",
         "showlegend": true,
         "stackgroup": "1",
         "type": "scatter",
         "x": [
          "Hong Kong",
          "Hong Kong",
          "Hong Kong",
          "Hong Kong",
          "Hong Kong",
          "Hong Kong",
          "Hong Kong",
          "Hong Kong",
          "Hong Kong",
          "Hong Kong"
         ],
         "xaxis": "x",
         "y": [
          2.3,
          4,
          4,
          4,
          4,
          4,
          5,
          4,
          2.5,
          5
         ],
         "yaxis": "y"
        },
        {
         "hovertemplate": "<b>%{hovertext}</b><br><br>Brand=Love Cook<br>Country=%{x}<br>Stars=%{y}<extra></extra>",
         "hovertext": [
          "Sun Dried Noodle - Fruity Soy Bean Paste",
          "Guanmiao Dried Noodles With Oleum Sesami",
          "Guanmiao Dried Noodles With Spicy Sauce",
          "Guanmiao Dried Noodles With Authentic Sauce",
          "Guanmiao Dried Noodles With Shallot Flavor"
         ],
         "legendgroup": "Love Cook",
         "line": {
          "color": "#FF6692"
         },
         "mode": "lines",
         "name": "Love Cook",
         "orientation": "v",
         "showlegend": true,
         "stackgroup": "1",
         "type": "scatter",
         "x": [
          "Taiwan",
          "Taiwan",
          "Taiwan",
          "Taiwan",
          "Taiwan"
         ],
         "xaxis": "x",
         "y": [
          4,
          3.75,
          5,
          4.5,
          3.75
         ],
         "yaxis": "y"
        },
        {
         "hovertemplate": "<b>%{hovertext}</b><br><br>Brand=Nagatanien<br>Country=%{x}<br>Stars=%{y}<extra></extra>",
         "hovertext": [
          "Hiyashi Soba Taidashi Goma"
         ],
         "legendgroup": "Nagatanien",
         "line": {
          "color": "#B6E880"
         },
         "mode": "lines",
         "name": "Nagatanien",
         "orientation": "v",
         "showlegend": true,
         "stackgroup": "1",
         "type": "scatter",
         "x": [
          "Japan"
         ],
         "xaxis": "x",
         "y": [
          3
         ],
         "yaxis": "y"
        },
        {
         "hovertemplate": "<b>%{hovertext}</b><br><br>Brand=Nyor Nyar<br>Country=%{x}<br>Stars=%{y}<extra></extra>",
         "hovertext": [
          "Vegetarian Penang White Curry",
          "Penang White Curry Instant Noodle"
         ],
         "legendgroup": "Nyor Nyar",
         "line": {
          "color": "#FF97FF"
         },
         "mode": "lines",
         "name": "Nyor Nyar",
         "orientation": "v",
         "showlegend": true,
         "stackgroup": "1",
         "type": "scatter",
         "x": [
          "Malaysia",
          "Malaysia"
         ],
         "xaxis": "x",
         "y": [
          5,
          5
         ],
         "yaxis": "y"
        },
        {
         "hovertemplate": "<b>%{hovertext}</b><br><br>Brand=Tseng Noodles<br>Country=%{x}<br>Stars=%{y}<extra></extra>",
         "hovertext": [
          "Spicy Braised Pork Flavor",
          "Rice Noodle Shallot With Braised Pork Flavor",
          "Rice Noodle Chinese Mushroom With Soybean Vegetarian Braised Pork Flavor",
          "Rice Noodle Seafood Laksa Flavour",
          "Sichuan Pepper Flavor",
          "Hu Sesame Flavor",
          "Scallion With Sichuan Pepper  Flavor"
         ],
         "legendgroup": "Tseng Noodles",
         "line": {
          "color": "#FECB52"
         },
         "mode": "lines",
         "name": "Tseng Noodles",
         "orientation": "v",
         "showlegend": true,
         "stackgroup": "1",
         "type": "scatter",
         "x": [
          "Taiwan",
          "Taiwan",
          "Taiwan",
          "Taiwan",
          "Taiwan",
          "Taiwan",
          "Taiwan"
         ],
         "xaxis": "x",
         "y": [
          4,
          5,
          5,
          5,
          4.75,
          5,
          5
         ],
         "yaxis": "y"
        },
        {
         "hovertemplate": "<b>%{hovertext}</b><br><br>Brand=A-Sha Dry Noodle<br>Country=%{x}<br>Stars=%{y}<extra></extra>",
         "hovertext": [
          "Chow Mein Spicy Flavor",
          "Chow Mein Original Flavor",
          "Chow Mein Oyster Sauce BBQ Flavor",
          "Tainan Noodle Original Sauce",
          "Hakka BBQ Sauce Noodle",
          "Hakka Spicy Barbeque Sauce",
          "Quinoa Noodle With Oyster Sauce And Vegetables",
          "Veggie Noodle Carrot Noodle With Original Sauce",
          "Veggie Noodle Baby Grass Noodle With Toona Sauce",
          "Veggie Noodle Black Sesame Noodle",
          "Hakka Flat Noodle With Za Jiang Sauce",
          "Veggie Noodle Tomato Noodle With Vine Ripened Tomato Sauce",
          "Prince Katsu Snack Noodles",
          "Hello Kitty Za Jiang (Soybean Sauce)",
          "Hello Kitty La Wei (Spicy Flavor)",
          "Instant Noodle Original Flavor",
          "Instant Noodle Shallot Flavor",
          "Hell Spicy Mala",
          "Instant Noodle Curry Flavour",
          "Dry Noodle Mandarin Noodle - Original Sauce",
          "Dry Noodle Hakka Noodle - Spicy Sesame Oil Sauce",
          "Dry Noodle Mandarin Noodle - Onion Oil Sauce",
          "Dry Noodle QQ Thin Noodle - BBQ Sauce",
          "No. 10 Mandarin Noodle - Black Pepper Sauce",
          "Dry Noodle Tainan Noodle - Sesame Sauce",
          "Dry Noodle Hakka Noodle - Chili Sauce"
         ],
         "legendgroup": "A-Sha Dry Noodle",
         "line": {
          "color": "#636efa"
         },
         "mode": "lines",
         "name": "A-Sha Dry Noodle",
         "orientation": "v",
         "showlegend": true,
         "stackgroup": "1",
         "type": "scatter",
         "x": [
          "Taiwan",
          "Taiwan",
          "Taiwan",
          "Taiwan",
          "Taiwan",
          "Taiwan",
          "Taiwan",
          "Taiwan",
          "Taiwan",
          "Taiwan",
          "Taiwan",
          "Taiwan",
          "Taiwan",
          "Taiwan",
          "Taiwan",
          "Taiwan",
          "Taiwan",
          "Taiwan",
          "Taiwan",
          "Taiwan",
          "Taiwan",
          "Taiwan",
          "Taiwan",
          "Taiwan",
          "Taiwan",
          "Taiwan"
         ],
         "xaxis": "x",
         "y": [
          3,
          5,
          2,
          5,
          4.25,
          4.5,
          4.25,
          4.25,
          5,
          3.25,
          4,
          5,
          4,
          3.25,
          3.75,
          3.75,
          3.75,
          4,
          4.25,
          4,
          3.5,
          5,
          5,
          3.75,
          4,
          4.25
         ],
         "yaxis": "y"
        },
        {
         "hovertemplate": "<b>%{hovertext}</b><br><br>Brand=Roland<br>Country=%{x}<br>Stars=%{y}<extra></extra>",
         "hovertext": [
          "Ramen Japanese Style Quick-Cooking Alimentary Paste With Chicken Artificially Flavored Soup Base",
          "Ramen Japanese Style Quick-Cooking Alimentary Paste With Beef Artificially Flavored Soup Base"
         ],
         "legendgroup": "Roland",
         "line": {
          "color": "#EF553B"
         },
         "mode": "lines",
         "name": "Roland",
         "orientation": "v",
         "showlegend": true,
         "stackgroup": "1",
         "type": "scatter",
         "x": [
          "USA",
          "USA"
         ],
         "xaxis": "x",
         "y": [
          0,
          0
         ],
         "yaxis": "y"
        },
        {
         "hovertemplate": "<b>%{hovertext}</b><br><br>Brand=Choumama<br>Country=%{x}<br>Stars=%{y}<extra></extra>",
         "hovertext": [
          "XO Scallops Sauce Dry Noodles"
         ],
         "legendgroup": "Choumama",
         "line": {
          "color": "#00cc96"
         },
         "mode": "lines",
         "name": "Choumama",
         "orientation": "v",
         "showlegend": true,
         "stackgroup": "1",
         "type": "scatter",
         "x": [
          "Taiwan"
         ],
         "xaxis": "x",
         "y": [
          4
         ],
         "yaxis": "y"
        },
        {
         "hovertemplate": "<b>%{hovertext}</b><br><br>Brand=President Rice<br>Country=%{x}<br>Stars=%{y}<extra></extra>",
         "hovertext": [
          "Coriander Instant Rice Noodles"
         ],
         "legendgroup": "President Rice",
         "line": {
          "color": "#ab63fa"
         },
         "mode": "lines",
         "name": "President Rice",
         "orientation": "v",
         "showlegend": true,
         "stackgroup": "1",
         "type": "scatter",
         "x": [
          "Thailand"
         ],
         "xaxis": "x",
         "y": [
          2.75
         ],
         "yaxis": "y"
        },
        {
         "hovertemplate": "<b>%{hovertext}</b><br><br>Brand=Happy Family<br>Country=%{x}<br>Stars=%{y}<extra></extra>",
         "hovertext": [
          "Vegetable Flavour Instant Noodles",
          "Curry Flavour Instant Noodles"
         ],
         "legendgroup": "Happy Family",
         "line": {
          "color": "#FFA15A"
         },
         "mode": "lines",
         "name": "Happy Family",
         "orientation": "v",
         "showlegend": true,
         "stackgroup": "1",
         "type": "scatter",
         "x": [
          "Singapore",
          "Singapore"
         ],
         "xaxis": "x",
         "y": [
          4,
          4
         ],
         "yaxis": "y"
        },
        {
         "hovertemplate": "<b>%{hovertext}</b><br><br>Brand=Menraku<br>Country=%{x}<br>Stars=%{y}<extra></extra>",
         "hovertext": [
          "Japanese Yakisoba Umami Sauce",
          "Tempura Soba",
          "Curry Udon",
          "Soy Sauce",
          "Miso",
          "Shio",
          "Tempura Udon",
          "Curry Soba"
         ],
         "legendgroup": "Menraku",
         "line": {
          "color": "#19d3f3"
         },
         "mode": "lines",
         "name": "Menraku",
         "orientation": "v",
         "showlegend": true,
         "stackgroup": "1",
         "type": "scatter",
         "x": [
          "Japan",
          "Japan",
          "Japan",
          "Japan",
          "Japan",
          "Japan",
          "Japan",
          "Japan"
         ],
         "xaxis": "x",
         "y": [
          5,
          3.75,
          4.75,
          4.25,
          2.75,
          4.5,
          5,
          4
         ],
         "yaxis": "y"
        },
        {
         "hovertemplate": "<b>%{hovertext}</b><br><br>Brand=Jingqi<br>Country=%{x}<br>Stars=%{y}<extra></extra>",
         "hovertext": [
          "Aloe Vera Guan Mian Purple Sweet Potato Noodle With Spicy Miso Sauce",
          "Black Eyes Bean Original Noodle With Sesame Sauce",
          "Aloe Vera Guan Mian Pumpkin Noodle With Basil Sauce",
          "Black Eyes Bean Cyanobacteria Noodle With Ginger Oil Sauce",
          "Aloe Vera Guan Mian Original Noodle With Sesame Sauce",
          "Black Eyes Bean Purple Sweet Potato Noodle With Spicy Miso Sauce",
          "Aloe Vera Guan Mian Cyanobacteria Noodle With Ginger Oil Sauce",
          "Black Eyes Bean Pumpkin Noodles With Basil Sauce"
         ],
         "legendgroup": "Jingqi",
         "line": {
          "color": "#FF6692"
         },
         "mode": "lines",
         "name": "Jingqi",
         "orientation": "v",
         "showlegend": true,
         "stackgroup": "1",
         "type": "scatter",
         "x": [
          "Taiwan",
          "Taiwan",
          "Taiwan",
          "Taiwan",
          "Taiwan",
          "Taiwan",
          "Taiwan",
          "Taiwan"
         ],
         "xaxis": "x",
         "y": [
          4,
          4,
          4,
          5,
          5,
          3,
          5,
          5
         ],
         "yaxis": "y"
        },
        {
         "hovertemplate": "<b>%{hovertext}</b><br><br>Brand=Doll<br>Country=%{x}<br>Stars=%{y}<extra></extra>",
         "hovertext": [
          "Instant Noodle Supreme Abalone And Chicken Flavour",
          "Instant Noodle Preserved Vegetable Flavour",
          "Instant Noodle Vegetarian Flavour",
          "Hello Kitty Dim Sum Noodle Japanese Soy Sauce Flavour",
          "Spicy Flavour Instant Mifun",
          "Hello Kitty Dim Sum Noodle Japanese Curry Flavour",
          "Spicy Tomkotsu",
          "Artificial Beef Flavor",
          "Spicy Artificial Pork",
          "Spicy Artificial Beef",
          "Artificial Chicken",
          "Pickled Vegetable",
          "Sesame Oil",
          "Shrimp Wonton",
          "Instant Fried Noodles With Chili Sauce",
          "Instant Noodles With Sesame Oil & Soup Base"
         ],
         "legendgroup": "Doll",
         "line": {
          "color": "#B6E880"
         },
         "mode": "lines",
         "name": "Doll",
         "orientation": "v",
         "showlegend": true,
         "stackgroup": "1",
         "type": "scatter",
         "x": [
          "Hong Kong",
          "Hong Kong",
          "Hong Kong",
          "Hong Kong",
          "Hong Kong",
          "Hong Kong",
          "Hong Kong",
          "Hong Kong",
          "Hong Kong",
          "Hong Kong",
          "Hong Kong",
          "Hong Kong",
          "Hong Kong",
          "Hong Kong",
          "Hong Kong",
          "Hong Kong"
         ],
         "xaxis": "x",
         "y": [
          2,
          4,
          3.75,
          3,
          2.75,
          3.5,
          4.25,
          2.5,
          3.75,
          3,
          4.5,
          4.25,
          3.5,
          4,
          3,
          1
         ],
         "yaxis": "y"
        },
        {
         "hovertemplate": "<b>%{hovertext}</b><br><br>Brand=Four Seas<br>Country=%{x}<br>Stars=%{y}<extra></extra>",
         "hovertext": [
          "Chicken Flavour Instant Noodle",
          "Kung Tak Lam Vegetarian Noodle (Mushroom)",
          "Beef And Radish Flavour Instant Noodle",
          "Hot & Spicy Instant Noodle (Mushroom & Beef Flavour)",
          "Seaweed Hot & Spicy Instant Noodle Mushroom & Beef Flavour",
          "Sesame Oil Chicken Flavour Instant Noodle",
          "Chicken Flavour",
          "Seaweed"
         ],
         "legendgroup": "Four Seas",
         "line": {
          "color": "#FF97FF"
         },
         "mode": "lines",
         "name": "Four Seas",
         "orientation": "v",
         "showlegend": true,
         "stackgroup": "1",
         "type": "scatter",
         "x": [
          "Hong Kong",
          "Hong Kong",
          "Hong Kong",
          "Hong Kong",
          "Hong Kong",
          "Hong Kong",
          "China",
          "Hong Kong"
         ],
         "xaxis": "x",
         "y": [
          4,
          3,
          2.5,
          4,
          3.5,
          2.75,
          2.75,
          3.25
         ],
         "yaxis": "y"
        },
        {
         "hovertemplate": "<b>%{hovertext}</b><br><br>Brand=CarJEN<br>Country=%{x}<br>Stars=%{y}<extra></extra>",
         "hovertext": [
          "Hot & Spicy Dry Curry With Chives Soup",
          "Otentiq Cheezy Mushroom Instant Noodles (Improved Taste)",
          "Otentiq Cheezy Curry Instant Noodles (Improved Taste)",
          "Nyonya Curry Laksa (Improved Taste)",
          "Otentiq Cheezy Curry Instant Noodles",
          "Otentiq Cheezy Mushroom Instant Noodles",
          "Nyonya Curry Laksa"
         ],
         "legendgroup": "CarJEN",
         "line": {
          "color": "#FECB52"
         },
         "mode": "lines",
         "name": "CarJEN",
         "orientation": "v",
         "showlegend": true,
         "stackgroup": "1",
         "type": "scatter",
         "x": [
          "Malaysia",
          "Malaysia",
          "Malaysia",
          "Malaysia",
          "Malaysia",
          "Malaysia",
          "Malaysia"
         ],
         "xaxis": "x",
         "y": [
          5,
          5,
          5,
          5,
          4.5,
          5,
          5
         ],
         "yaxis": "y"
        },
        {
         "hovertemplate": "<b>%{hovertext}</b><br><br>Brand=7 Select<br>Country=%{x}<br>Stars=%{y}<extra></extra>",
         "hovertext": [
          "Nissin Instant Noodles Tom Yum Seafood Creamy Flavour King Cup",
          "Nissin Instant Noodles Shrimp Ma Nao Lui Suan Flavour King Cup"
         ],
         "legendgroup": "7 Select",
         "line": {
          "color": "#636efa"
         },
         "mode": "lines",
         "name": "7 Select",
         "orientation": "v",
         "showlegend": true,
         "stackgroup": "1",
         "type": "scatter",
         "x": [
          "Thailand",
          "Thailand"
         ],
         "xaxis": "x",
         "y": [
          3.5,
          4
         ],
         "yaxis": "y"
        },
        {
         "hovertemplate": "<b>%{hovertext}</b><br><br>Brand=Oni Hot Pot<br>Country=%{x}<br>Stars=%{y}<extra></extra>",
         "hovertext": [
          "Tuna With Shallot Flavor Noodle",
          "Seaweed Flavour Noodle",
          "XO Sauce Noodle",
          "Ghost Pepper Noodle"
         ],
         "legendgroup": "Oni Hot Pot",
         "line": {
          "color": "#EF553B"
         },
         "mode": "lines",
         "name": "Oni Hot Pot",
         "orientation": "v",
         "showlegend": true,
         "stackgroup": "1",
         "type": "scatter",
         "x": [
          "Taiwan",
          "Taiwan",
          "Taiwan",
          "Taiwan"
         ],
         "xaxis": "x",
         "y": [
          4.3,
          2,
          5,
          4.5
         ],
         "yaxis": "y"
        },
        {
         "hovertemplate": "<b>%{hovertext}</b><br><br>Brand=Weh Lih<br>Country=%{x}<br>Stars=%{y}<extra></extra>",
         "hovertext": [
          "GGE Noodle Snack Wheat Crackers Original Ramen"
         ],
         "legendgroup": "Weh Lih",
         "line": {
          "color": "#00cc96"
         },
         "mode": "lines",
         "name": "Weh Lih",
         "orientation": "v",
         "showlegend": true,
         "stackgroup": "1",
         "type": "scatter",
         "x": [
          "Taiwan"
         ],
         "xaxis": "x",
         "y": [
          1
         ],
         "yaxis": "y"
        },
        {
         "hovertemplate": "<b>%{hovertext}</b><br><br>Brand=Itomen<br>Country=%{x}<br>Stars=%{y}<extra></extra>",
         "hovertext": [
          "Onion Flavor Shoyu Ramen",
          "Crab Flavor Instant Ramen",
          "Chanponmen",
          "Sansai Soba Edible Wld Plant",
          "Yellow Buckwheat"
         ],
         "legendgroup": "Itomen",
         "line": {
          "color": "#ab63fa"
         },
         "mode": "lines",
         "name": "Itomen",
         "orientation": "v",
         "showlegend": true,
         "stackgroup": "1",
         "type": "scatter",
         "x": [
          "Japan",
          "Japan",
          "Japan",
          "Japan",
          "Japan"
         ],
         "xaxis": "x",
         "y": [
          3.5,
          4,
          4.25,
          3.25,
          4.5
         ],
         "yaxis": "y"
        },
        {
         "hovertemplate": "<b>%{hovertext}</b><br><br>Brand=Sanpo<br>Country=%{x}<br>Stars=%{y}<extra></extra>",
         "hovertext": [
          "Yakibuta Ramen"
         ],
         "legendgroup": "Sanpo",
         "line": {
          "color": "#FFA15A"
         },
         "mode": "lines",
         "name": "Sanpo",
         "orientation": "v",
         "showlegend": true,
         "stackgroup": "1",
         "type": "scatter",
         "x": [
          "Japan"
         ],
         "xaxis": "x",
         "y": [
          4
         ],
         "yaxis": "y"
        },
        {
         "hovertemplate": "<b>%{hovertext}</b><br><br>Brand=Mi Sedaap<br>Country=%{x}<br>Stars=%{y}<extra></extra>",
         "hovertext": [
          "Mi Segera Mi Goreng Ayam Krispi",
          "Mi Kuah Rasa Baso Spesial",
          "Instant Cup Mi Kuah Rasa Soto",
          "Instant Cup Mi Goreng",
          "Mi Kuah Rasa Ayam Bawang",
          "Mi Segera Mi Goreng Perisa Sambal Goreng",
          "Mi Segera Mi Sup Perisa Kari Ayam",
          "Mi Goreng Perisa Asli",
          "Supreme Soto",
          "Mi SupArtificial Chicken Special",
          "Mie Sambal Goreng",
          "Kari Spesial"
         ],
         "legendgroup": "Mi Sedaap",
         "line": {
          "color": "#19d3f3"
         },
         "mode": "lines",
         "name": "Mi Sedaap",
         "orientation": "v",
         "showlegend": true,
         "stackgroup": "1",
         "type": "scatter",
         "x": [
          "Indonesia",
          "Indonesia",
          "Indonesia",
          "Indonesia",
          "Indonesia",
          "Indonesia",
          "Indonesia",
          "Indonesia",
          "Indonesia",
          "Indonesia",
          "Indonesia",
          "Indonesia"
         ],
         "xaxis": "x",
         "y": [
          4.5,
          3.5,
          5,
          3.75,
          4,
          4.5,
          4,
          4.75,
          4,
          3,
          4.25,
          4.5
         ],
         "yaxis": "y"
        },
        {
         "hovertemplate": "<b>%{hovertext}</b><br><br>Brand=Tokushima Seifun<br>Country=%{x}<br>Stars=%{y}<extra></extra>",
         "hovertext": [
          "Negi Ramen",
          "Yakibuta Ramen",
          "Tokushima Ramen",
          "Kinchan Ramen"
         ],
         "legendgroup": "Tokushima Seifun",
         "line": {
          "color": "#FF6692"
         },
         "mode": "lines",
         "name": "Tokushima Seifun",
         "orientation": "v",
         "showlegend": true,
         "stackgroup": "1",
         "type": "scatter",
         "x": [
          "Japan",
          "Japan",
          "Japan",
          "Japan"
         ],
         "xaxis": "x",
         "y": [
          1.75,
          5,
          4,
          4.5
         ],
         "yaxis": "y"
        },
        {
         "hovertemplate": "<b>%{hovertext}</b><br><br>Brand=Mamee<br>Country=%{x}<br>Stars=%{y}<extra></extra>",
         "hovertext": [
          "Pepper Noodles Vegetarian",
          "Chef Lontong Flavour",
          "Monster Snek Mi Pedas",
          "Chef Lontong Flavour",
          "Oriental Noodles Prawn Flavor",
          "Mi Segera Perisa Itik",
          "Chef Gold Recipe Bihun Kari Seribu Rasa",
          "Chef Gold Recipe Mi Kari Seribu Rasa",
          "Instant Noodles Curry Flavour",
          "Chef Creamy Tom Yam Flavour",
          "Monster BBQ Flavour Snack Noodles",
          "Chef Curry Laksa Flavour",
          "SLLRRRP! Asam Laksa",
          "Mie Goreng Indonesia Spicy Sambal",
          "Chef Spicy Chicken Shiitake Flavour",
          "Instant Vermicelli Chicken Flavour",
          "Chef Creamy Tom Yam Flavour",
          "Instant Noodles Vegetarian Flavour",
          "SLLRRRP! Kari Berapi",
          "Monster Chicken Flavour Snack Noodles",
          "Chef Curry Laksa Flavour",
          "Mie Goreng Indonesia Original Flavour",
          "Instant Vermicelli Tom Yam Flavour",
          "Mi Segera SLLRRRP! Perencah Kari Xtra Pedas",
          "Oriental Noodles Curry Flavour",
          "Express Cup Curry",
          "Express Cup Tom Yum",
          "Express Cup Vegetarian",
          "Express Cup Fried Onion Chicken"
         ],
         "legendgroup": "Mamee",
         "line": {
          "color": "#B6E880"
         },
         "mode": "lines",
         "name": "Mamee",
         "orientation": "v",
         "showlegend": true,
         "stackgroup": "1",
         "type": "scatter",
         "x": [
          "Hong Kong",
          "Malaysia",
          "Malaysia",
          "Malaysia",
          "Malaysia",
          "Malaysia",
          "Malaysia",
          "Malaysia",
          "Malaysia",
          "Malaysia",
          "Malaysia",
          "Malaysia",
          "Malaysia",
          "Malaysia",
          "Malaysia",
          "Malaysia",
          "Malaysia",
          "Malaysia",
          "Malaysia",
          "Malaysia",
          "Malaysia",
          "Malaysia",
          "Malaysia",
          "Malaysia",
          "Malaysia",
          "Malaysia",
          "Malaysia",
          "Malaysia",
          "Malaysia"
         ],
         "xaxis": "x",
         "y": [
          3.25,
          5,
          5,
          5,
          2,
          3.75,
          4.5,
          5,
          3.5,
          5,
          3.75,
          5,
          4,
          5,
          3.25,
          3.25,
          4.75,
          3.75,
          3.75,
          4,
          5,
          4.5,
          3.75,
          3.75,
          3.25,
          2.5,
          3.75,
          2,
          3.25
         ],
         "yaxis": "y"
        },
        {
         "hovertemplate": "<b>%{hovertext}</b><br><br>Brand=Zow Zow<br>Country=%{x}<br>Stars=%{y}<extra></extra>",
         "hovertext": [
          "Instant Noodle Shrimp Tom Yam Flavoured"
         ],
         "legendgroup": "Zow Zow",
         "line": {
          "color": "#FF97FF"
         },
         "mode": "lines",
         "name": "Zow Zow",
         "orientation": "v",
         "showlegend": true,
         "stackgroup": "1",
         "type": "scatter",
         "x": [
          "Thailand"
         ],
         "xaxis": "x",
         "y": [
          3.75
         ],
         "yaxis": "y"
        },
        {
         "hovertemplate": "<b>%{hovertext}</b><br><br>Brand=Koyo<br>Country=%{x}<br>Stars=%{y}<extra></extra>",
         "hovertext": [
          "Garlic Pepper Reduced Sodium Ramen",
          "Seaweed Ramen Made With Organic Noodles",
          "Tofu & Miso",
          "Mushroom",
          "Lemongrass ginger",
          "Asian Vegetable",
          "Garlic Pepper"
         ],
         "legendgroup": "Koyo",
         "line": {
          "color": "#FECB52"
         },
         "mode": "lines",
         "name": "Koyo",
         "orientation": "v",
         "showlegend": true,
         "stackgroup": "1",
         "type": "scatter",
         "x": [
          "USA",
          "USA",
          "USA",
          "USA",
          "USA",
          "USA",
          "USA"
         ],
         "xaxis": "x",
         "y": [
          0,
          2.75,
          2.5,
          2.75,
          1.5,
          1.5,
          3.25
         ],
         "yaxis": "y"
        },
        {
         "hovertemplate": "<b>%{hovertext}</b><br><br>Brand=ORee Garden<br>Country=%{x}<br>Stars=%{y}<extra></extra>",
         "hovertext": [
          "Malaysia Green Curry Noodle"
         ],
         "legendgroup": "ORee Garden",
         "line": {
          "color": "#636efa"
         },
         "mode": "lines",
         "name": "ORee Garden",
         "orientation": "v",
         "showlegend": true,
         "stackgroup": "1",
         "type": "scatter",
         "x": [
          "Malaysia"
         ],
         "xaxis": "x",
         "y": [
          5
         ],
         "yaxis": "y"
        },
        {
         "hovertemplate": "<b>%{hovertext}</b><br><br>Brand=A1<br>Country=%{x}<br>Stars=%{y}<extra></extra>",
         "hovertext": [
          "Vegetarian Herbal Noodle",
          "Soup Spices Noodle Mee Rempahan Sup",
          "Emporer Herbs Chicken Noodle"
         ],
         "legendgroup": "A1",
         "line": {
          "color": "#EF553B"
         },
         "mode": "lines",
         "name": "A1",
         "orientation": "v",
         "showlegend": true,
         "stackgroup": "1",
         "type": "scatter",
         "x": [
          "Malaysia",
          "Malaysia",
          "Malaysia"
         ],
         "xaxis": "x",
         "y": [
          1.5,
          3.5,
          4.25
         ],
         "yaxis": "y"
        },
        {
         "hovertemplate": "<b>%{hovertext}</b><br><br>Brand=Migawon<br>Country=%{x}<br>Stars=%{y}<extra></extra>",
         "hovertext": [
          "Hovenia Ramen Vegetable Flavor"
         ],
         "legendgroup": "Migawon",
         "line": {
          "color": "#00cc96"
         },
         "mode": "lines",
         "name": "Migawon",
         "orientation": "v",
         "showlegend": true,
         "stackgroup": "1",
         "type": "scatter",
         "x": [
          "South Korea"
         ],
         "xaxis": "x",
         "y": [
          3.5
         ],
         "yaxis": "y"
        },
        {
         "hovertemplate": "<b>%{hovertext}</b><br><br>Brand=Prima Taste<br>Country=%{x}<br>Stars=%{y}<extra></extra>",
         "hovertext": [
          "Singapore Prawn Soup La Mian",
          "Singapore Fish Soup La Mian",
          "Singapore Laksa Wholegrain La Mian",
          "Singapore Curry Wholegrain La Mian",
          "Singapore Chilli Crab La Mian",
          "Singapore Laksa La Mian",
          "Singapore Curry La Mian"
         ],
         "legendgroup": "Prima Taste",
         "line": {
          "color": "#ab63fa"
         },
         "mode": "lines",
         "name": "Prima Taste",
         "orientation": "v",
         "showlegend": true,
         "stackgroup": "1",
         "type": "scatter",
         "x": [
          "Singapore",
          "Singapore",
          "Singapore",
          "Singapore",
          "Singapore",
          "Singapore",
          "Singapore"
         ],
         "xaxis": "x",
         "y": [
          5,
          5,
          5,
          5,
          5,
          5,
          5
         ],
         "yaxis": "y"
        },
        {
         "hovertemplate": "<b>%{hovertext}</b><br><br>Brand=MyOri<br>Country=%{x}<br>Stars=%{y}<extra></extra>",
         "hovertext": [
          "Malaysia Penang Green Curry Vermicelli (New Package)",
          "Malaysia Penang Red Curry Noodle",
          "Malaysia Penang White Curry Noodle Super Spicy",
          "Malaysia Penang Green Curry Rice Vermicelli",
          "Malaysia Penang White Curry Noodle Original"
         ],
         "legendgroup": "MyOri",
         "line": {
          "color": "#FFA15A"
         },
         "mode": "lines",
         "name": "MyOri",
         "orientation": "v",
         "showlegend": true,
         "stackgroup": "1",
         "type": "scatter",
         "x": [
          "Malaysia",
          "Malaysia",
          "Malaysia",
          "Malaysia",
          "Malaysia"
         ],
         "xaxis": "x",
         "y": [
          5,
          5,
          5,
          5,
          5
         ],
         "yaxis": "y"
        },
        {
         "hovertemplate": "<b>%{hovertext}</b><br><br>Brand=Itsuki<br>Country=%{x}<br>Stars=%{y}<extra></extra>",
         "hovertext": [
          "Kumamoto Spicy Ramen",
          "Ramen Tonkotudou Kumamoto Noodles",
          "Yuzu Sesame Sauce Udon",
          "Hakata Ossyoi"
         ],
         "legendgroup": "Itsuki",
         "line": {
          "color": "#19d3f3"
         },
         "mode": "lines",
         "name": "Itsuki",
         "orientation": "v",
         "showlegend": true,
         "stackgroup": "1",
         "type": "scatter",
         "x": [
          "Japan",
          "Japan",
          "Japan",
          "Japan"
         ],
         "xaxis": "x",
         "y": [
          4.25,
          0.75,
          4.5,
          5
         ],
         "yaxis": "y"
        },
        {
         "hovertemplate": "<b>%{hovertext}</b><br><br>Brand=IbuRamen<br>Country=%{x}<br>Stars=%{y}<extra></extra>",
         "hovertext": [
          "Mi Goreng Bento Noodles In A Box Curry Masala Flavour",
          "Mi Goreng Bento Noodles In A Box Hot Sweet & Sour Flavor",
          "Mi Goreng Bento Noodles In A Box Shallot Teriyaki Flavor"
         ],
         "legendgroup": "IbuRamen",
         "line": {
          "color": "#FF6692"
         },
         "mode": "lines",
         "name": "IbuRamen",
         "orientation": "v",
         "showlegend": true,
         "stackgroup": "1",
         "type": "scatter",
         "x": [
          "USA",
          "USA",
          "USA"
         ],
         "xaxis": "x",
         "y": [
          4,
          0.25,
          3.25
         ],
         "yaxis": "y"
        },
        {
         "hovertemplate": "<b>%{hovertext}</b><br><br>Brand=Bamee<br>Country=%{x}<br>Stars=%{y}<extra></extra>",
         "hovertext": [
          "Oriental Style Instant Noodles Shrimp Flavour (Tom Yum)",
          "Instant Noodles Oriental Style Chicken Flavour",
          "Oriental Style Instant Noodles Pa-Lo Duck Flavour",
          "Cup Oriental Style Instant Noodles Chicken Flavour"
         ],
         "legendgroup": "Bamee",
         "line": {
          "color": "#B6E880"
         },
         "mode": "lines",
         "name": "Bamee",
         "orientation": "v",
         "showlegend": true,
         "stackgroup": "1",
         "type": "scatter",
         "x": [
          "Thailand",
          "Thailand",
          "Thailand",
          "Thailand"
         ],
         "xaxis": "x",
         "y": [
          3.5,
          3,
          3.5,
          3.25
         ],
         "yaxis": "y"
        },
        {
         "hovertemplate": "<b>%{hovertext}</b><br><br>Brand=Ibumie<br>Country=%{x}<br>Stars=%{y}<extra></extra>",
         "hovertext": [
          "Always Mi Goreng Perisa Sambal Udang",
          "Always Mi Goreng Perisa Kari Kapitan",
          "Always Mi Goreng Perisa Thai Tom Yam",
          "Always Mi Goreng Perisa Asli",
          "Penang White CurryMee",
          "Mee Baa..Gus Mi Goreng Spicier Original Flavour",
          "VegeMee Vegetarian Flavour",
          "LadMee Hot Pepper",
          "Harmee Mee goreng Prawn",
          "Harmee Prawn"
         ],
         "legendgroup": "Ibumie",
         "line": {
          "color": "#FF97FF"
         },
         "mode": "lines",
         "name": "Ibumie",
         "orientation": "v",
         "showlegend": true,
         "stackgroup": "1",
         "type": "scatter",
         "x": [
          "Malaysia",
          "Malaysia",
          "Malaysia",
          "Malaysia",
          "Malaysia",
          "Malaysia",
          "Malaysia",
          "Malaysia",
          "Malaysia",
          "Malaysia"
         ],
         "xaxis": "x",
         "y": [
          3.5,
          5,
          2.5,
          3.75,
          5,
          3.75,
          2.75,
          3.5,
          4.5,
          3.25
         ],
         "yaxis": "y"
        },
        {
         "hovertemplate": "<b>%{hovertext}</b><br><br>Brand=Fortune<br>Country=%{x}<br>Stars=%{y}<extra></extra>",
         "hovertext": [
          "Rice Noodle Coconut Curry",
          "Udon Mushroom",
          "Udon Chicken",
          "Udon Beef"
         ],
         "legendgroup": "Fortune",
         "line": {
          "color": "#FECB52"
         },
         "mode": "lines",
         "name": "Fortune",
         "orientation": "v",
         "showlegend": true,
         "stackgroup": "1",
         "type": "scatter",
         "x": [
          "USA",
          "USA",
          "USA",
          "USA"
         ],
         "xaxis": "x",
         "y": [
          1,
          3,
          3.25,
          3.5
         ],
         "yaxis": "y"
        },
        {
         "hovertemplate": "<b>%{hovertext}</b><br><br>Brand=Mie Sedaap<br>Country=%{x}<br>Stars=%{y}<extra></extra>",
         "hovertext": [
          "Instant Cup Mi Kuah Rasa Baso Spesial"
         ],
         "legendgroup": "Mie Sedaap",
         "line": {
          "color": "#636efa"
         },
         "mode": "lines",
         "name": "Mie Sedaap",
         "orientation": "v",
         "showlegend": true,
         "stackgroup": "1",
         "type": "scatter",
         "x": [
          "Indonesia"
         ],
         "xaxis": "x",
         "y": [
          1.5
         ],
         "yaxis": "y"
        },
        {
         "hovertemplate": "<b>%{hovertext}</b><br><br>Brand=Thai Smile<br>Country=%{x}<br>Stars=%{y}<extra></extra>",
         "hovertext": [
          "Mushroom Rice Noodle Soup Bowl",
          "Spring Onion Rice Noodle Soup Bowl",
          "Garlic Rice Noodle Soup Bowl"
         ],
         "legendgroup": "Thai Smile",
         "line": {
          "color": "#EF553B"
         },
         "mode": "lines",
         "name": "Thai Smile",
         "orientation": "v",
         "showlegend": true,
         "stackgroup": "1",
         "type": "scatter",
         "x": [
          "USA",
          "USA",
          "USA"
         ],
         "xaxis": "x",
         "y": [
          0,
          2.5,
          3.5
         ],
         "yaxis": "y"
        },
        {
         "hovertemplate": "<b>%{hovertext}</b><br><br>Brand=Higashimaru<br>Country=%{x}<br>Stars=%{y}<extra></extra>",
         "hovertext": [
          "Tonkotsu Ramen"
         ],
         "legendgroup": "Higashimaru",
         "line": {
          "color": "#00cc96"
         },
         "mode": "lines",
         "name": "Higashimaru",
         "orientation": "v",
         "showlegend": true,
         "stackgroup": "1",
         "type": "scatter",
         "x": [
          "Japan"
         ],
         "xaxis": "x",
         "y": [
          4.5
         ],
         "yaxis": "y"
        },
        {
         "hovertemplate": "<b>%{hovertext}</b><br><br>Brand=Kuriki<br>Country=%{x}<br>Stars=%{y}<extra></extra>",
         "hovertext": [
          "Beef Tongue Shio Mayo Ramen",
          "Plum Mayo Ramen",
          "Mayo Ramen"
         ],
         "legendgroup": "Kuriki",
         "line": {
          "color": "#ab63fa"
         },
         "mode": "lines",
         "name": "Kuriki",
         "orientation": "v",
         "showlegend": true,
         "stackgroup": "1",
         "type": "scatter",
         "x": [
          "Japan",
          "Japan",
          "Japan"
         ],
         "xaxis": "x",
         "y": [
          4.5,
          4,
          4.75
         ],
         "yaxis": "y"
        },
        {
         "hovertemplate": "<b>%{hovertext}</b><br><br>Brand=Vedan<br>Country=%{x}<br>Stars=%{y}<extra></extra>",
         "hovertext": [
          "Wei Wei A Instant Noodles Chicken Flavor",
          "Zan Vegetarian Instant Noodle Series Shiitake Mushroom Flavour",
          "Wei Wei A Instant Noodles Hot Beef Flavour",
          "Volcano Spicy Pork Noodle",
          "Bah Kut Tea Noodle For Vegetarians",
          "Mushroom & Artificial Cuttlefish"
         ],
         "legendgroup": "Vedan",
         "line": {
          "color": "#FFA15A"
         },
         "mode": "lines",
         "name": "Vedan",
         "orientation": "v",
         "showlegend": true,
         "stackgroup": "1",
         "type": "scatter",
         "x": [
          "Taiwan",
          "Taiwan",
          "Taiwan",
          "Taiwan",
          "Taiwan",
          "Taiwan"
         ],
         "xaxis": "x",
         "y": [
          0,
          2.75,
          2.5,
          4.25,
          3.25,
          1.75
         ],
         "yaxis": "y"
        },
        {
         "hovertemplate": "<b>%{hovertext}</b><br><br>Brand=Yum Yum<br>Country=%{x}<br>Stars=%{y}<extra></extra>",
         "hovertext": [
          "Premier Bowl Instant Noodles Stewed Pork Flavour",
          "Instant Flat Shaped Noodles Boat Noodles Nam Tok Flavour",
          "Premier Bowl Instant Noodles Suki Flavour",
          "Jumbo Instant Noodles Tom Yum Kung Creamy Flavour",
          "Instant Noodles Minced Pork Flavor",
          "Oriental Style Instant Noodles Wasabi Flavour",
          "Oriental Style Instant Noodles Seafood Flavour",
          "Duck",
          "Shrimp Tom Yum Flavor",
          "Vegetable",
          "Chicken",
          "Beef"
         ],
         "legendgroup": "Yum Yum",
         "line": {
          "color": "#19d3f3"
         },
         "mode": "lines",
         "name": "Yum Yum",
         "orientation": "v",
         "showlegend": true,
         "stackgroup": "1",
         "type": "scatter",
         "x": [
          "Thailand",
          "Thailand",
          "Thailand",
          "Thailand",
          "Thailand",
          "Thailand",
          "Thailand",
          "Thailand",
          "Thailand",
          "Thailand",
          "Thailand",
          "Thailand"
         ],
         "xaxis": "x",
         "y": [
          4,
          3.5,
          5,
          5,
          3.75,
          3,
          3.75,
          3.25,
          3.5,
          3.5,
          3.5,
          3.25
         ],
         "yaxis": "y"
        },
        {
         "hovertemplate": "<b>%{hovertext}</b><br><br>Brand=Baijia<br>Country=%{x}<br>Stars=%{y}<extra></extra>",
         "hovertext": [
          "Broad Noodle Pickled Vegetable Artificial Beef Flavor",
          "Spicy Artificial Fei Chang Instant Vermicelli (New Recipe)",
          "Artificial Pickled Vegetable Beef Flavor",
          "Artificial Pickled Cabbage Fish",
          "Sichuan Hot Pot Sweet Potato Thread",
          "Single Noble Black Bone Chicken Sweet Potato Thread",
          "Hot & Sour Casserole Stewed Rice Noodle",
          "Sichuan Pickled Sweet Potato Thread",
          "Single Noble Pickled Radish & Duck",
          "Hot & Sour Rice Noodle",
          "Spicy Fei- Chang Sweet Potato Noodle"
         ],
         "legendgroup": "Baijia",
         "line": {
          "color": "#FF6692"
         },
         "mode": "lines",
         "name": "Baijia",
         "orientation": "v",
         "showlegend": true,
         "stackgroup": "1",
         "type": "scatter",
         "x": [
          "China",
          "China",
          "China",
          "China",
          "China",
          "China",
          "China",
          "China",
          "China",
          "China",
          "China"
         ],
         "xaxis": "x",
         "y": [
          0,
          3.75,
          3,
          2.75,
          0.5,
          0,
          0,
          1.75,
          0.25,
          0,
          1.75
         ],
         "yaxis": "y"
        },
        {
         "hovertemplate": "<b>%{hovertext}</b><br><br>Brand=Daraz<br>Country=%{x}<br>Stars=%{y}<extra></extra>",
         "hovertext": [
          "Negi Man Ramen"
         ],
         "legendgroup": "Daraz",
         "line": {
          "color": "#B6E880"
         },
         "mode": "lines",
         "name": "Daraz",
         "orientation": "v",
         "showlegend": true,
         "stackgroup": "1",
         "type": "scatter",
         "x": [
          "Japan"
         ],
         "xaxis": "x",
         "y": [
          3
         ],
         "yaxis": "y"
        },
        {
         "hovertemplate": "<b>%{hovertext}</b><br><br>Brand=Pama<br>Country=%{x}<br>Stars=%{y}<extra></extra>",
         "hovertext": [
          "Instant Rice Vermicelli Clear Soup Flavour",
          "Kua Teaw Segera",
          "Bihun Creamy Tom Yam Flavour",
          "Instant Kua Teow Tom Yam"
         ],
         "legendgroup": "Pama",
         "line": {
          "color": "#FF97FF"
         },
         "mode": "lines",
         "name": "Pama",
         "orientation": "v",
         "showlegend": true,
         "stackgroup": "1",
         "type": "scatter",
         "x": [
          "Malaysia",
          "Malaysia",
          "Malaysia",
          "Malaysia"
         ],
         "xaxis": "x",
         "y": [
          3.5,
          4,
          3.75,
          3.75
         ],
         "yaxis": "y"
        },
        {
         "hovertemplate": "<b>%{hovertext}</b><br><br>Brand=Seven & I<br>Country=%{x}<br>Stars=%{y}<extra></extra>",
         "hovertext": [
          "Gold Sumire Ramen"
         ],
         "legendgroup": "Seven & I",
         "line": {
          "color": "#FECB52"
         },
         "mode": "lines",
         "name": "Seven & I",
         "orientation": "v",
         "showlegend": true,
         "stackgroup": "1",
         "type": "scatter",
         "x": [
          "Japan"
         ],
         "xaxis": "x",
         "y": [
          5
         ],
         "yaxis": "y"
        },
        {
         "hovertemplate": "<b>%{hovertext}</b><br><br>Brand=Forest Noodles<br>Country=%{x}<br>Stars=%{y}<extra></extra>",
         "hovertext": [
          "Sunbaked Noodles With Sesame Sauce",
          "Purple Sweet Potato Noodles With Taiwanese Sauce",
          "Sunbaked Noodles With Spicy Sauce",
          "Sweet Potato Noodles With Sesame Paste Sauce"
         ],
         "legendgroup": "Forest Noodles",
         "line": {
          "color": "#636efa"
         },
         "mode": "lines",
         "name": "Forest Noodles",
         "orientation": "v",
         "showlegend": true,
         "stackgroup": "1",
         "type": "scatter",
         "x": [
          "Taiwan",
          "Taiwan",
          "Taiwan",
          "Taiwan"
         ],
         "xaxis": "x",
         "y": [
          4.5,
          5,
          4,
          3.25
         ],
         "yaxis": "y"
        },
        {
         "hovertemplate": "<b>%{hovertext}</b><br><br>Brand=Vit's<br>Country=%{x}<br>Stars=%{y}<extra></extra>",
         "hovertext": [
          "Taste Of Malaysia Penang White Curry Ramen",
          "Taste Of Malaysia Penang Asam Laksa Fried Instant Noodle",
          "Taste Of Malaysia Penang Hokkien Mee Ramen",
          "Taste Of Malaysia Penang White Curry Fried Instant Noodle",
          "Taste Of Malaysia Penang Asam Laksa Ramen",
          "Taste Of Malaysia Penang Hokkien Mee Fried Instant Noodle",
          "Instant Noodles With Chicken Flavour",
          "Shallot Chicken Instant Noodles",
          "Tom Yam Instant Noodles",
          "Duck Instant Noodles",
          "Curry Instant Noodles",
          "Mi goreng Pedas Chewy & springy",
          "Seafood Instant Noodles"
         ],
         "legendgroup": "Vit's",
         "line": {
          "color": "#EF553B"
         },
         "mode": "lines",
         "name": "Vit's",
         "orientation": "v",
         "showlegend": true,
         "stackgroup": "1",
         "type": "scatter",
         "x": [
          "Malaysia",
          "Malaysia",
          "Malaysia",
          "Malaysia",
          "Malaysia",
          "Malaysia",
          "Malaysia",
          "Malaysia",
          "Malaysia",
          "Malaysia",
          "Malaysia",
          "Malaysia",
          "Malaysia"
         ],
         "xaxis": "x",
         "y": [
          5,
          4.5,
          5,
          5,
          5,
          5,
          3.75,
          3,
          4.25,
          3.5,
          3.5,
          3.5,
          3.75
         ],
         "yaxis": "y"
        },
        {
         "hovertemplate": "<b>%{hovertext}</b><br><br>Brand=Ten-In<br>Country=%{x}<br>Stars=%{y}<extra></extra>",
         "hovertext": [
          "Veggie King Buddha Jump Instant Noodles",
          "Veggie World Vegetarian Braised Beef Instant Noodles"
         ],
         "legendgroup": "Ten-In",
         "line": {
          "color": "#00cc96"
         },
         "mode": "lines",
         "name": "Ten-In",
         "orientation": "v",
         "showlegend": true,
         "stackgroup": "1",
         "type": "scatter",
         "x": [
          "Taiwan",
          "Taiwan"
         ],
         "xaxis": "x",
         "y": [
          1.5,
          3.5
         ],
         "yaxis": "y"
        },
        {
         "hovertemplate": "<b>%{hovertext}</b><br><br>Brand=Sugakiya Foods<br>Country=%{x}<br>Stars=%{y}<extra></extra>",
         "hovertext": [
          "Nara Tenri Shoyu Ramen",
          "Udon Miso Stew"
         ],
         "legendgroup": "Sugakiya Foods",
         "line": {
          "color": "#ab63fa"
         },
         "mode": "lines",
         "name": "Sugakiya Foods",
         "orientation": "v",
         "showlegend": true,
         "stackgroup": "1",
         "type": "scatter",
         "x": [
          "Japan",
          "Japan"
         ],
         "xaxis": "x",
         "y": [
          4.5,
          3.25
         ],
         "yaxis": "y"
        },
        {
         "hovertemplate": "<b>%{hovertext}</b><br><br>Brand=Hao Way<br>Country=%{x}<br>Stars=%{y}<extra></extra>",
         "hovertext": [
          "Penang Vegetarian Prawn Instant Bowl Noodles",
          "Vegetarian Penang Laksa",
          "Vegetarian Penang Laksa Instant Bowl Noodles",
          "Penang Laksa Instant Bowl Noodles",
          "Penang Vegetarian Prawn Instant Noodles",
          "Penang White Curry Instant Bowl Noodles",
          "Penang Laksa ",
          "Instant Penang White Curry Noodles"
         ],
         "legendgroup": "Hao Way",
         "line": {
          "color": "#FFA15A"
         },
         "mode": "lines",
         "name": "Hao Way",
         "orientation": "v",
         "showlegend": true,
         "stackgroup": "1",
         "type": "scatter",
         "x": [
          "Malaysia",
          "Malaysia",
          "Malaysia",
          "Malaysia",
          "Malaysia",
          "Malaysia",
          "Malaysia",
          "Malaysia"
         ],
         "xaxis": "x",
         "y": [
          4,
          4,
          2,
          3.5,
          4.5,
          4.75,
          3.5,
          4.5
         ],
         "yaxis": "y"
        },
        {
         "hovertemplate": "<b>%{hovertext}</b><br><br>Brand=Nakaya Shouten<br>Country=%{x}<br>Stars=%{y}<extra></extra>",
         "hovertext": [
          "Hingya no Shio Ramen"
         ],
         "legendgroup": "Nakaya Shouten",
         "line": {
          "color": "#19d3f3"
         },
         "mode": "lines",
         "name": "Nakaya Shouten",
         "orientation": "v",
         "showlegend": true,
         "stackgroup": "1",
         "type": "scatter",
         "x": [
          "Japan"
         ],
         "xaxis": "x",
         "y": [
          4
         ],
         "yaxis": "y"
        },
        {
         "hovertemplate": "<b>%{hovertext}</b><br><br>Brand=Mama<br>Country=%{x}<br>Stars=%{y}<extra></extra>",
         "hovertext": [
          "Vegetarian Instant Cup Noodle Tofu & Shiitake Flavour",
          "Vegetarian Instant Noodles Tom Yum Flavour",
          "Cup Yentafo Tom Yum Mohfai",
          "Cup Shrimp Creamy Tom Yum",
          "Instant Rice Vermicelli Bihun Goreng Original Flavour",
          "Instant Cup Noodles Minced Prok Flavor",
          "Cup Rice Vermicelli With Clear Soup",
          "Non-Fried Instant Noodles Ramen Tonkotsu Flavor",
          "JokCup Instant Porridge Soup Seafood Flavour",
          "Instant Rice Noodle Soup Spicy Shrimp Flavour",
          "Cup Rice Vermicelli Shrimp Creamy Tom Yum",
          "Pork Flavour Whole Wheat Noodle",
          "Instant Noodles Cup Beef Flavour",
          "Instant Noodles Tom Yum Pork Flavour",
          "Instant Noodles Moo Nam Tok Flavour",
          "Instant Noodle Shrimp Tom Yum Flavour Jumbo Pack",
          "Instant Cup Noodles Shrimp Tom Yum Flavour (Extreme)",
          "Instant Noodles Shrimp Creamy Tom Yum Flavour Jumbo Pack",
          "Instant Cup Noodles Spicy Cheese Flavour",
          "Instant Cup Noodles Seafood Pad Kee Mao Flavour",
          "Oriental Style Instant Noodles Green Curry Flavour Jumbo Pack",
          "Instant Noodles Cup Seafood Flavour",
          "Instant Noodles Yentafo Tom Yum Mohfai Flavour",
          "Instant Noodles Tom Saab Flavour",
          "Instant Noodles Creamy Tom Yum Minced Pork Flavour",
          "Instant Noodles Pork Flavour With Black Pepper",
          "Instant Noodles Chicken Green Curry Flavour",
          "Oriental Style Instant Kua-Chap Clear Soup",
          "Authentic Thai Cuisine Pad Thai",
          "Shrimp (TOM YUM)",
          "Moo Nam Tok Rice Vermicelli",
          "Chand Clear Soup",
          "Pad Kee Mao Drunken",
          "Pho Ga",
          "Vegetable",
          "Vegetarian Tom Yum",
          "Pho Bo Rice Noodle Artificial Beef",
          "Oriental Kitchen Hot Spicy",
          "Cup Shrimp Tom Yum Flavor",
          "Pork",
          "Oriental Kitchen Spicy Seafood",
          "Artificial Pork Jumbo",
          "Instant Bowl Noodles Artificial Pork",
          "Kimchi",
          "Oriental Style Clear Soup",
          "Flat Noodle Tom Yum",
          "Hot & Spicy",
          "Jok Cup Porridge Artificial Pork",
          "Pho Bo",
          "Mamy Chand Clear Soup",
          "Mi Goreng",
          "Shrimp Creamy Tom Yum",
          "Artificial PA-LO Duck",
          "Tom Yam Koong Rice Vermicelli",
          "Nam Vang",
          "Pad Thai",
          "Artificial Chicken",
          "Chand Clear Soup"
         ],
         "legendgroup": "Mama",
         "line": {
          "color": "#FF6692"
         },
         "mode": "lines",
         "name": "Mama",
         "orientation": "v",
         "showlegend": true,
         "stackgroup": "1",
         "type": "scatter",
         "x": [
          "Thailand",
          "Thailand",
          "Thailand",
          "Thailand",
          "Thailand",
          "Thailand",
          "Thailand",
          "Thailand",
          "Thailand",
          "Thailand",
          "Thailand",
          "Thailand",
          "Thailand",
          "Thailand",
          "Thailand",
          "Thailand",
          "Thailand",
          "Thailand",
          "Thailand",
          "Thailand",
          "Thailand",
          "Thailand",
          "Thailand",
          "Thailand",
          "Thailand",
          "Thailand",
          "Thailand",
          "Thailand",
          "Thailand",
          "Thailand",
          "Thailand",
          "Thailand",
          "Thailand",
          "Thailand",
          "Thailand",
          "Thailand",
          "Thailand",
          "Thailand",
          "Thailand",
          "Thailand",
          "Thailand",
          "Thailand",
          "Thailand",
          "Thailand",
          "Thailand",
          "Thailand",
          "Thailand",
          "Thailand",
          "Thailand",
          "Thailand",
          "Thailand",
          "Thailand",
          "Thailand",
          "Thailand",
          "Thailand",
          "Thailand",
          "Thailand",
          "Thailand"
         ],
         "xaxis": "x",
         "y": [
          3.5,
          4,
          5,
          5,
          4.75,
          3.5,
          3.5,
          5,
          3.5,
          5,
          4,
          3.75,
          3.5,
          4,
          4,
          4,
          5,
          5,
          3.5,
          5,
          5,
          3.75,
          5,
          3.5,
          3.5,
          3.5,
          3.75,
          3.75,
          4,
          3.75,
          3.25,
          3.5,
          2,
          3.1,
          3.25,
          2.75,
          3.5,
          3,
          3.75,
          2,
          3.75,
          3,
          2.75,
          3,
          2,
          3.75,
          1.75,
          2.5,
          2.5,
          2.75,
          5,
          5,
          0.1,
          1.5,
          3.6,
          3.1,
          2.5,
          3
         ],
         "yaxis": "y"
        },
        {
         "hovertemplate": "<b>%{hovertext}</b><br><br>Brand=Wai Wai<br>Country=%{x}<br>Stars=%{y}<extra></extra>",
         "hovertext": [
          "Tom Yum Goong Flavour Instant Noodle",
          "Instant Rice Vermicelli Crab Flavour",
          "Grilled Pork Flavour Instant Noodles",
          "Quick Zabb Tom Klong Flavour Instant Noodles",
          "Quick Zabb Chili Paste Tom Yum Flavour Instant Noodles",
          "Quick Zabb Tom Yum Shrimp Flavour Instant Noodles",
          "Artificial Pork Flavour",
          "Tom Yum Shrimp Flavour",
          "Oriental Style Instant Noodles (Dry method)",
          "Sour Soup Flavor",
          "Casserole Beef Flavour",
          "Vegetarian",
          "Quick Tom Yum Shrimp",
          "Chicken Flavor",
          "Chili Paste Tom Yum",
          "Minced Pork Tom Yum",
          "Crab Instant Rice Vermicelli",
          "Minced Pork Soeng Kreung",
          "Tom Yum Shrimp Cream Soup",
          "Oriental Style Instant Noodles",
          "Tom Yum Shrimp",
          "Tom Yum Chili Flavor"
         ],
         "legendgroup": "Wai Wai",
         "line": {
          "color": "#B6E880"
         },
         "mode": "lines",
         "name": "Wai Wai",
         "orientation": "v",
         "showlegend": true,
         "stackgroup": "1",
         "type": "scatter",
         "x": [
          "Thailand",
          "Thailand",
          "Thailand",
          "Thailand",
          "Thailand",
          "Thailand",
          "Thailand",
          "Thailand",
          "Thailand",
          "Thailand",
          "Thailand",
          "Thailand",
          "Thailand",
          "Thailand",
          "Thailand",
          "Thailand",
          "Thailand",
          "Thailand",
          "Thailand",
          "Thailand",
          "Thailand",
          "Thailand"
         ],
         "xaxis": "x",
         "y": [
          3.5,
          3.5,
          2.5,
          2.75,
          3.75,
          4,
          3,
          3.25,
          3,
          3.5,
          3.5,
          3.5,
          3,
          0.9,
          3.25,
          2.5,
          2.5,
          3.7,
          2.75,
          1,
          2,
          2
         ],
         "yaxis": "y"
        },
        {
         "hovertemplate": "<b>%{hovertext}</b><br><br>Brand=Crystal Noodle<br>Country=%{x}<br>Stars=%{y}<extra></extra>",
         "hovertext": [
          "Soup All Natural Hot & Sour"
         ],
         "legendgroup": "Crystal Noodle",
         "line": {
          "color": "#FF97FF"
         },
         "mode": "lines",
         "name": "Crystal Noodle",
         "orientation": "v",
         "showlegend": true,
         "stackgroup": "1",
         "type": "scatter",
         "x": [
          "USA"
         ],
         "xaxis": "x",
         "y": [
          0.25
         ],
         "yaxis": "y"
        },
        {
         "hovertemplate": "<b>%{hovertext}</b><br><br>Brand=Super<br>Country=%{x}<br>Stars=%{y}<extra></extra>",
         "hovertext": [
          "Kimchi",
          "Curry Flavour Noodles",
          "Instant Noodles Black Pepper Crab Mi Goreng",
          "Seafood Flavour Noodles",
          "Instant Noodles Mee Goreng"
         ],
         "legendgroup": "Super",
         "line": {
          "color": "#FECB52"
         },
         "mode": "lines",
         "name": "Super",
         "orientation": "v",
         "showlegend": true,
         "stackgroup": "1",
         "type": "scatter",
         "x": [
          "Malaysia",
          "Malaysia",
          "Malaysia",
          "Malaysia",
          "Malaysia"
         ],
         "xaxis": "x",
         "y": [
          4.5,
          3,
          3.5,
          3.25,
          3.75
         ],
         "yaxis": "y"
        },
        {
         "hovertemplate": "<b>%{hovertext}</b><br><br>Brand=Torishi<br>Country=%{x}<br>Stars=%{y}<extra></extra>",
         "hovertext": [
          "Hakata Tonkotsu Ramen"
         ],
         "legendgroup": "Torishi",
         "line": {
          "color": "#636efa"
         },
         "mode": "lines",
         "name": "Torishi",
         "orientation": "v",
         "showlegend": true,
         "stackgroup": "1",
         "type": "scatter",
         "x": [
          "Japan"
         ],
         "xaxis": "x",
         "y": [
          5
         ],
         "yaxis": "y"
        },
        {
         "hovertemplate": "<b>%{hovertext}</b><br><br>Brand=Chering Chang<br>Country=%{x}<br>Stars=%{y}<extra></extra>",
         "hovertext": [
          "Instant Non-Fried Noodles Tomato Flavour",
          "Instant Non-Fried Noodles Vegetable Curry Flavor",
          "Instant Non-Fried Noodles Shallot Pork Flavour",
          "Steam Vegetarian Flavor Noodles",
          "Curry La-Men"
         ],
         "legendgroup": "Chering Chang",
         "line": {
          "color": "#EF553B"
         },
         "mode": "lines",
         "name": "Chering Chang",
         "orientation": "v",
         "showlegend": true,
         "stackgroup": "1",
         "type": "scatter",
         "x": [
          "Taiwan",
          "Taiwan",
          "Taiwan",
          "Taiwan",
          "Taiwan"
         ],
         "xaxis": "x",
         "y": [
          3.25,
          5,
          5,
          3.5,
          5
         ],
         "yaxis": "y"
        },
        {
         "hovertemplate": "<b>%{hovertext}</b><br><br>Brand=Ishimaru<br>Country=%{x}<br>Stars=%{y}<extra></extra>",
         "hovertext": [
          "Tuna Flavor Ramen"
         ],
         "legendgroup": "Ishimaru",
         "line": {
          "color": "#00cc96"
         },
         "mode": "lines",
         "name": "Ishimaru",
         "orientation": "v",
         "showlegend": true,
         "stackgroup": "1",
         "type": "scatter",
         "x": [
          "Japan"
         ],
         "xaxis": "x",
         "y": [
          4.5
         ],
         "yaxis": "y"
        },
        {
         "hovertemplate": "<b>%{hovertext}</b><br><br>Brand=Authentically Asian<br>Country=%{x}<br>Stars=%{y}<extra></extra>",
         "hovertext": [
          "Natural Quality Foods Pad Thai Noodle Bowl"
         ],
         "legendgroup": "Authentically Asian",
         "line": {
          "color": "#ab63fa"
         },
         "mode": "lines",
         "name": "Authentically Asian",
         "orientation": "v",
         "showlegend": true,
         "stackgroup": "1",
         "type": "scatter",
         "x": [
          "USA"
         ],
         "xaxis": "x",
         "y": [
          1
         ],
         "yaxis": "y"
        },
        {
         "hovertemplate": "<b>%{hovertext}</b><br><br>Brand=Aroi<br>Country=%{x}<br>Stars=%{y}<extra></extra>",
         "hovertext": [
          "Curry Me! Penang White Curry Stir-fry Noodle",
          "Curry Me! Penang White Curry Soup Noodle"
         ],
         "legendgroup": "Aroi",
         "line": {
          "color": "#FFA15A"
         },
         "mode": "lines",
         "name": "Aroi",
         "orientation": "v",
         "showlegend": true,
         "stackgroup": "1",
         "type": "scatter",
         "x": [
          "Malaysia",
          "Malaysia"
         ],
         "xaxis": "x",
         "y": [
          4.5,
          4.5
         ],
         "yaxis": "y"
        },
        {
         "hovertemplate": "<b>%{hovertext}</b><br><br>Brand=Koka<br>Country=%{x}<br>Stars=%{y}<extra></extra>",
         "hovertext": [
          "Laksa Singapura",
          "Purple Wheat Noodles Soy & Vinegar Flavor",
          "Noodles Beef Flavour",
          "Spicy Shrimp Tom Yam Flavour",
          "Oriental Style Instant Noodles Tom Yam Flavour",
          "Purple Wheat Noodles Aglio Olio",
          "Oriental Style Instant Noodles Crab Flavour",
          "Oriental Instant Noodles Stir Fried Noodles",
          "Spicy Black Pepper",
          "Mi Hai Cua Crab Flavor",
          "Tomato",
          "Spicy Seafood Marinara",
          "Spicy Sesame",
          "Curry",
          "Tom Yum Rice Noodles",
          "Laksa Singapura",
          "Mi Hai Tom Prawn",
          "Mi Hai Cua Crab Flavor"
         ],
         "legendgroup": "Koka",
         "line": {
          "color": "#19d3f3"
         },
         "mode": "lines",
         "name": "Koka",
         "orientation": "v",
         "showlegend": true,
         "stackgroup": "1",
         "type": "scatter",
         "x": [
          "Singapore",
          "Singapore",
          "Singapore",
          "Singapore",
          "Singapore",
          "Singapore",
          "Singapore",
          "Singapore",
          "Singapore",
          "Singapore",
          "Singapore",
          "Singapore",
          "Singapore",
          "Singapore",
          "Singapore",
          "Singapore",
          "Singapore",
          "Singapore"
         ],
         "xaxis": "x",
         "y": [
          4.25,
          2.75,
          2.5,
          3.25,
          2.5,
          2.75,
          3.75,
          3.75,
          5,
          5,
          4.75,
          3,
          5,
          4.25,
          3.5,
          4.25,
          3.75,
          3.5
         ],
         "yaxis": "y"
        },
        {
         "hovertemplate": "<b>%{hovertext}</b><br><br>Brand=Wu-Mu<br>Country=%{x}<br>Stars=%{y}<extra></extra>",
         "hovertext": [
          "BBQ Pork Flavor Chow Mein",
          "Steam Pork Flavour",
          "Dried Noodle With Beef Flavor Sauce",
          "Steam Seafood Flavor Ramen",
          "Ramen With Pickled Mustard Flavor",
          "Steam Mushroom Flavor Ramen",
          "Ramen With Stewed Pork Flavor",
          "Shiitake Flavor Spinach Ramen",
          "Dried Noodle With Jah Jan Sauce",
          "Beef Flavour Tomato Ramen",
          "Ramen With Simmered Pork Flavor",
          "Spicy Flavor Tomato Ramen"
         ],
         "legendgroup": "Wu-Mu",
         "line": {
          "color": "#FF6692"
         },
         "mode": "lines",
         "name": "Wu-Mu",
         "orientation": "v",
         "showlegend": true,
         "stackgroup": "1",
         "type": "scatter",
         "x": [
          "Taiwan",
          "Taiwan",
          "Taiwan",
          "Taiwan",
          "Taiwan",
          "Taiwan",
          "Taiwan",
          "Taiwan",
          "Taiwan",
          "Taiwan",
          "Taiwan",
          "Taiwan"
         ],
         "xaxis": "x",
         "y": [
          4.5,
          3.75,
          3,
          4,
          3.5,
          3.25,
          4.5,
          3.75,
          3.25,
          4,
          3.75,
          4
         ],
         "yaxis": "y"
        },
        {
         "hovertemplate": "<b>%{hovertext}</b><br><br>Brand=Yamadai<br>Country=%{x}<br>Stars=%{y}<extra></extra>",
         "hovertext": [
          "Tenobe Somen"
         ],
         "legendgroup": "Yamadai",
         "line": {
          "color": "#B6E880"
         },
         "mode": "lines",
         "name": "Yamadai",
         "orientation": "v",
         "showlegend": true,
         "stackgroup": "1",
         "type": "scatter",
         "x": [
          "Japan"
         ],
         "xaxis": "x",
         "y": [
          3.25
         ],
         "yaxis": "y"
        },
        {
         "hovertemplate": "<b>%{hovertext}</b><br><br>Brand=Baixiang Noodles<br>Country=%{x}<br>Stars=%{y}<extra></extra>",
         "hovertext": [
          "Artificial Beef Instant Noodles With Soup Base",
          "Sour & Spicy Flavour",
          "Sauerkraut Flavor",
          "Artificial Pork Flavour",
          "Spicy Artificial Beef Flavour Instant Noodles With Soup Base"
         ],
         "legendgroup": "Baixiang Noodles",
         "line": {
          "color": "#FF97FF"
         },
         "mode": "lines",
         "name": "Baixiang Noodles",
         "orientation": "v",
         "showlegend": true,
         "stackgroup": "1",
         "type": "scatter",
         "x": [
          "China",
          "China",
          "China",
          "China",
          "China"
         ],
         "xaxis": "x",
         "y": [
          3.75,
          3.75,
          4.5,
          3,
          3.5
         ],
         "yaxis": "y"
        },
        {
         "hovertemplate": "<b>%{hovertext}</b><br><br>Brand=Salam Mie<br>Country=%{x}<br>Stars=%{y}<extra></extra>",
         "hovertext": [
          "Mi Goreng Dengan Abon",
          "Mi Goreng Ala Jawa Dengan Sambal Cabe Asli"
         ],
         "legendgroup": "Salam Mie",
         "line": {
          "color": "#FECB52"
         },
         "mode": "lines",
         "name": "Salam Mie",
         "orientation": "v",
         "showlegend": true,
         "stackgroup": "1",
         "type": "scatter",
         "x": [
          "Indonesia",
          "Indonesia"
         ],
         "xaxis": "x",
         "y": [
          4.25,
          5
         ],
         "yaxis": "y"
        },
        {
         "hovertemplate": "<b>%{hovertext}</b><br><br>Brand=Sakurai Foods<br>Country=%{x}<br>Stars=%{y}<extra></extra>",
         "hovertext": [
          "Organic Miso Ramen",
          "Organic Shoyu Ramen",
          "Miso Stew Instant Udon (Winter)",
          "ARCHE Naturküche Ramen Mit Ingwer",
          "Soy Sauce Ramen",
          "100% Vegetarian Soy Sauce Flavor",
          "Sesame Noodles",
          "Miso Ramen",
          "ARCHE Naturküche Japanische Nudelsuppe",
          "Soy Sauce Ramen"
         ],
         "legendgroup": "Sakurai Foods",
         "line": {
          "color": "#636efa"
         },
         "mode": "lines",
         "name": "Sakurai Foods",
         "orientation": "v",
         "showlegend": true,
         "stackgroup": "1",
         "type": "scatter",
         "x": [
          "Japan",
          "Japan",
          "Japan",
          "Japan",
          "Japan",
          "Japan",
          "Japan",
          "Japan",
          "Japan",
          "Japan"
         ],
         "xaxis": "x",
         "y": [
          4.5,
          4.25,
          4.25,
          3.25,
          4.25,
          4.25,
          5,
          4,
          3.25,
          4.75
         ],
         "yaxis": "y"
        },
        {
         "hovertemplate": "<b>%{hovertext}</b><br><br>Brand=Maggi<br>Country=%{x}<br>Stars=%{y}<extra></extra>",
         "hovertext": [
          "Hot Cup Goreng Perencah Cili Fiesta",
          "Perencah Kari Letup Mi Segera",
          "Mi Goreng Perencah Kari Ori",
          "Royale Penang Seafood Curry",
          "2 Minute Noodles Tom Yam Flavour",
          "2 Minute Noodles Assam Laksa Flavour",
          "Hot Cup Perisa Kari",
          "2 Minute Noodles Curry Flavour",
          "Senses Laksa Instant Noodles",
          "Extra Spicy Curry Instant Noodles",
          "Big Kari Perencah (Big Curry Flavor) 2 Minute Noodles",
          "2 Minute Noodles Perencah Asam Laksa",
          "Perencah Tom Yam"
         ],
         "legendgroup": "Maggi",
         "line": {
          "color": "#EF553B"
         },
         "mode": "lines",
         "name": "Maggi",
         "orientation": "v",
         "showlegend": true,
         "stackgroup": "1",
         "type": "scatter",
         "x": [
          "Malaysia",
          "Malaysia",
          "Malaysia",
          "Malaysia",
          "Singapore",
          "Singapore",
          "Malaysia",
          "Singapore",
          "Singapore",
          "Singapore",
          "Malaysia",
          "Malaysia",
          "Malaysia"
         ],
         "xaxis": "x",
         "y": [
          4.75,
          4,
          4,
          4.5,
          3.5,
          4,
          3.5,
          3.75,
          5,
          5,
          4,
          4,
          2.9
         ],
         "yaxis": "y"
        },
        {
         "hovertemplate": "<b>%{hovertext}</b><br><br>Brand=Premiere<br>Country=%{x}<br>Stars=%{y}<extra></extra>",
         "hovertext": [
          "Gold Bihun Kari Heritage Instant Rice Vermicelli",
          "Gold Penang Asam Laksa Bihun"
         ],
         "legendgroup": "Premiere",
         "line": {
          "color": "#00cc96"
         },
         "mode": "lines",
         "name": "Premiere",
         "orientation": "v",
         "showlegend": true,
         "stackgroup": "1",
         "type": "scatter",
         "x": [
          "Malaysia",
          "Malaysia"
         ],
         "xaxis": "x",
         "y": [
          4.5,
          3.25
         ],
         "yaxis": "y"
        },
        {
         "hovertemplate": "<b>%{hovertext}</b><br><br>Brand=7 Select/Nissin<br>Country=%{x}<br>Stars=%{y}<extra></extra>",
         "hovertext": [
          "Super Tom Yum Shrimp"
         ],
         "legendgroup": "7 Select/Nissin",
         "line": {
          "color": "#ab63fa"
         },
         "mode": "lines",
         "name": "7 Select/Nissin",
         "orientation": "v",
         "showlegend": true,
         "stackgroup": "1",
         "type": "scatter",
         "x": [
          "Thailand"
         ],
         "xaxis": "x",
         "y": [
          3.5
         ],
         "yaxis": "y"
        },
        {
         "hovertemplate": "<b>%{hovertext}</b><br><br>Brand=Wugudaochang<br>Country=%{x}<br>Stars=%{y}<extra></extra>",
         "hovertext": [
          "Sour Bamboo Shoot & Beef If Hot Pot Flavor Noodles",
          "Tomato Beef Brisket Flavor Purple Potato Noodle",
          "Sea Tangle & Sparerins Flavor Noodles",
          "Chef's Grains Millet Noodle",
          "Chef's Grains Buckwheat Noodle",
          "Chef's Grains Pea Noodle",
          "Sichuan Pepper & Chicken Flavor Noodle",
          "Sour Soup & Minced Meat Flavor Chef's Grain Naked Oat Noodles",
          "Sour Bamboo Shoot & Beef If Hot Pot Flavor Noodles",
          "Sea Tangle & Sparerins Flavor Noodles"
         ],
         "legendgroup": "Wugudaochang",
         "line": {
          "color": "#FFA15A"
         },
         "mode": "lines",
         "name": "Wugudaochang",
         "orientation": "v",
         "showlegend": true,
         "stackgroup": "1",
         "type": "scatter",
         "x": [
          "China",
          "China",
          "China",
          "China",
          "China",
          "China",
          "China",
          "China",
          "China",
          "China"
         ],
         "xaxis": "x",
         "y": [
          4,
          5,
          3.75,
          3.75,
          3.5,
          4,
          4.5,
          5,
          4,
          3.75
         ],
         "yaxis": "y"
        },
        {
         "hovertemplate": "<b>%{hovertext}</b><br><br>Brand=Emart<br>Country=%{x}<br>Stars=%{y}<extra></extra>",
         "hovertext": [
          "Dare You! Habanero Ramen (New Edition)",
          "Dare You! Habanero Jjajang Ramen",
          "Dare You! Habanero Ramen (New Edition)",
          "Dare You Habanero Ramyun",
          "Dare You Habanero Jjamppong",
          "Dare You! Habanero Ramen",
          "Ramen E Ramen White Broth"
         ],
         "legendgroup": "Emart",
         "line": {
          "color": "#19d3f3"
         },
         "mode": "lines",
         "name": "Emart",
         "orientation": "v",
         "showlegend": true,
         "stackgroup": "1",
         "type": "scatter",
         "x": [
          "South Korea",
          "South Korea",
          "South Korea",
          "South Korea",
          "South Korea",
          "South Korea",
          "South Korea"
         ],
         "xaxis": "x",
         "y": [
          3.5,
          3.5,
          3.75,
          3.25,
          4,
          3.75,
          5
         ],
         "yaxis": "y"
        },
        {
         "hovertemplate": "<b>%{hovertext}</b><br><br>Brand=Lishan Food Manufacturing<br>Country=%{x}<br>Stars=%{y}<extra></extra>",
         "hovertext": [
          "Black Cock Brand Vegetarian Chicken Noodle"
         ],
         "legendgroup": "Lishan Food Manufacturing",
         "line": {
          "color": "#FF6692"
         },
         "mode": "lines",
         "name": "Lishan Food Manufacturing",
         "orientation": "v",
         "showlegend": true,
         "stackgroup": "1",
         "type": "scatter",
         "x": [
          "Taiwan"
         ],
         "xaxis": "x",
         "y": [
          3.5
         ],
         "yaxis": "y"
        },
        {
         "hovertemplate": "<b>%{hovertext}</b><br><br>Brand=Ah Lai<br>Country=%{x}<br>Stars=%{y}<extra></extra>",
         "hovertext": [
          "Penang Favourite White Curry Rice Vermicelli",
          "White Curry Noodle"
         ],
         "legendgroup": "Ah Lai",
         "line": {
          "color": "#B6E880"
         },
         "mode": "lines",
         "name": "Ah Lai",
         "orientation": "v",
         "showlegend": true,
         "stackgroup": "1",
         "type": "scatter",
         "x": [
          "Malaysia",
          "Malaysia"
         ],
         "xaxis": "x",
         "y": [
          5,
          4.5
         ],
         "yaxis": "y"
        },
        {
         "hovertemplate": "<b>%{hovertext}</b><br><br>Brand=Tropicana Slim<br>Country=%{x}<br>Stars=%{y}<extra></extra>",
         "hovertext": [
          "Less Fat Noodles Grilled Chicken",
          "Low Fat Noodles Hainan Chicken"
         ],
         "legendgroup": "Tropicana Slim",
         "line": {
          "color": "#FF97FF"
         },
         "mode": "lines",
         "name": "Tropicana Slim",
         "orientation": "v",
         "showlegend": true,
         "stackgroup": "1",
         "type": "scatter",
         "x": [
          "Indonesia",
          "Indonesia"
         ],
         "xaxis": "x",
         "y": [
          3.75,
          3.75
         ],
         "yaxis": "y"
        },
        {
         "hovertemplate": "<b>%{hovertext}</b><br><br>Brand=Deshome<br>Country=%{x}<br>Stars=%{y}<extra></extra>",
         "hovertext": [
          "Aloe Thin Noodles With Camelia Oil Vegetable Sauce Flavor",
          "Aloe This Noodles With Camellia Oil Spicy Bean Sauce Flavor",
          "Sun Dried Noodle Chlorella Powder Noodle With Curry Sauce",
          "Aloe Noodle Sesame Sauce",
          "Black Eyed Beans Noodle Basil Sauce & Sesame Sauce",
          "Aloe Noodle Vegetable Sauce",
          "Black Eyed Beans Noodle Spicy Soybean Sauce & Sesame Sauce",
          "Aloe Noodle Red Onion & Sesame Sauce",
          "Black Eyed Beans Noodle Vegetable Sauce & Sesame Sauce",
          "Aloe Noodle With Basil Sauce",
          "Pollen Noodles Sesame Sauce & Soy Sauce",
          "Black Eyed Bean Noodle Red Onion Sauce & Sesame Sauce",
          "Aloe Noodle With Spicy Soybean Sauce"
         ],
         "legendgroup": "Deshome",
         "line": {
          "color": "#FECB52"
         },
         "mode": "lines",
         "name": "Deshome",
         "orientation": "v",
         "showlegend": true,
         "stackgroup": "1",
         "type": "scatter",
         "x": [
          "Taiwan",
          "Taiwan",
          "Taiwan",
          "Taiwan",
          "Taiwan",
          "Taiwan",
          "Taiwan",
          "Taiwan",
          "Taiwan",
          "Taiwan",
          "Taiwan",
          "Taiwan",
          "Taiwan"
         ],
         "xaxis": "x",
         "y": [
          5,
          2.5,
          5,
          3.25,
          3.5,
          5,
          3.75,
          5,
          3.75,
          5,
          4.25,
          3.75,
          4
         ],
         "yaxis": "y"
        },
        {
         "hovertemplate": "<b>%{hovertext}</b><br><br>Brand=Chencun<br>Country=%{x}<br>Stars=%{y}<extra></extra>",
         "hovertext": [
          "Senior Food Rice Noodle Fragrant Peppery Beef",
          "Rice Noodle Beef With Brown Sauce",
          "Braised Pork Ribs",
          "Spicy Beef",
          "Stewde Chicken Of Mushroom"
         ],
         "legendgroup": "Chencun",
         "line": {
          "color": "#636efa"
         },
         "mode": "lines",
         "name": "Chencun",
         "orientation": "v",
         "showlegend": true,
         "stackgroup": "1",
         "type": "scatter",
         "x": [
          "China",
          "China",
          "China",
          "China",
          "China"
         ],
         "xaxis": "x",
         "y": [
          3.75,
          3.5,
          3,
          3.5,
          3.25
         ],
         "yaxis": "y"
        },
        {
         "hovertemplate": "<b>%{hovertext}</b><br><br>Brand=ChoripDong<br>Country=%{x}<br>Stars=%{y}<extra></extra>",
         "hovertext": [
          "Hurricane Rice Cake (Topokki)"
         ],
         "legendgroup": "ChoripDong",
         "line": {
          "color": "#EF553B"
         },
         "mode": "lines",
         "name": "ChoripDong",
         "orientation": "v",
         "showlegend": true,
         "stackgroup": "1",
         "type": "scatter",
         "x": [
          "South Korea"
         ],
         "xaxis": "x",
         "y": [
          5
         ],
         "yaxis": "y"
        },
        {
         "hovertemplate": "<b>%{hovertext}</b><br><br>Brand=Ruski<br>Country=%{x}<br>Stars=%{y}<extra></extra>",
         "hovertext": [
          "Chicken Flavour Instant Noodles",
          "Tom Yam Flavour Instant Noodles",
          "Chicken Masala Flavour Instant Fried Noodles",
          "Creamy Tom Yam Instant Noodles",
          "Instant Noodles Stewed Beef Flavour",
          "Instant Noodles Tom Yum Flavour"
         ],
         "legendgroup": "Ruski",
         "line": {
          "color": "#00cc96"
         },
         "mode": "lines",
         "name": "Ruski",
         "orientation": "v",
         "showlegend": true,
         "stackgroup": "1",
         "type": "scatter",
         "x": [
          "Malaysia",
          "Thailand",
          "Thailand",
          "Thailand",
          "Thailand",
          "Thailand"
         ],
         "xaxis": "x",
         "y": [
          3.75,
          4,
          3.75,
          4.5,
          3.5,
          3.5
         ],
         "yaxis": "y"
        },
        {
         "hovertemplate": "<b>%{hovertext}</b><br><br>Brand=One Dish Asia<br>Country=%{x}<br>Stars=%{y}<extra></extra>",
         "hovertext": [
          "Japanese Ramen Noodle"
         ],
         "legendgroup": "One Dish Asia",
         "line": {
          "color": "#ab63fa"
         },
         "mode": "lines",
         "name": "One Dish Asia",
         "orientation": "v",
         "showlegend": true,
         "stackgroup": "1",
         "type": "scatter",
         "x": [
          "USA"
         ],
         "xaxis": "x",
         "y": [
          0
         ],
         "yaxis": "y"
        },
        {
         "hovertemplate": "<b>%{hovertext}</b><br><br>Brand=Long Jun Hang<br>Country=%{x}<br>Stars=%{y}<extra></extra>",
         "hovertext": [
          "Taiwan Dried Noodles With Onion Oil Sauce",
          "Tainan Yi Mien With Sesame Oil Sauce"
         ],
         "legendgroup": "Long Jun Hang",
         "line": {
          "color": "#FFA15A"
         },
         "mode": "lines",
         "name": "Long Jun Hang",
         "orientation": "v",
         "showlegend": true,
         "stackgroup": "1",
         "type": "scatter",
         "x": [
          "Taiwan",
          "Taiwan"
         ],
         "xaxis": "x",
         "y": [
          2,
          3.25
         ],
         "yaxis": "y"
        },
        {
         "hovertemplate": "<b>%{hovertext}</b><br><br>Brand=Unif-100<br>Country=%{x}<br>Stars=%{y}<extra></extra>",
         "hovertext": [
          "Instant Noodles Artificial Spicy Beef Flavor (New Package)",
          "Instant Noodles Artificial Shallot Beef Flavour"
         ],
         "legendgroup": "Unif-100",
         "line": {
          "color": "#19d3f3"
         },
         "mode": "lines",
         "name": "Unif-100",
         "orientation": "v",
         "showlegend": true,
         "stackgroup": "1",
         "type": "scatter",
         "x": [
          "China",
          "China"
         ],
         "xaxis": "x",
         "y": [
          3.5,
          4.25
         ],
         "yaxis": "y"
        },
        {
         "hovertemplate": "<b>%{hovertext}</b><br><br>Brand=Hankow<br>Country=%{x}<br>Stars=%{y}<extra></extra>",
         "hovertext": [
          "Shanghai Kaiyang Noodle",
          "Cai Lin Ji Dry Noodles"
         ],
         "legendgroup": "Hankow",
         "line": {
          "color": "#FF6692"
         },
         "mode": "lines",
         "name": "Hankow",
         "orientation": "v",
         "showlegend": true,
         "stackgroup": "1",
         "type": "scatter",
         "x": [
          "China",
          "China"
         ],
         "xaxis": "x",
         "y": [
          4,
          3.25
         ],
         "yaxis": "y"
        },
        {
         "hovertemplate": "<b>%{hovertext}</b><br><br>Brand=The Bridge<br>Country=%{x}<br>Stars=%{y}<extra></extra>",
         "hovertext": [
          "Penang White Curry Noodle"
         ],
         "legendgroup": "The Bridge",
         "line": {
          "color": "#B6E880"
         },
         "mode": "lines",
         "name": "The Bridge",
         "orientation": "v",
         "showlegend": true,
         "stackgroup": "1",
         "type": "scatter",
         "x": [
          "Malaysia"
         ],
         "xaxis": "x",
         "y": [
          5
         ],
         "yaxis": "y"
        },
        {
         "hovertemplate": "<b>%{hovertext}</b><br><br>Brand=Mitoku<br>Country=%{x}<br>Stars=%{y}<extra></extra>",
         "hovertext": [
          "Brown Rice Ramen"
         ],
         "legendgroup": "Mitoku",
         "line": {
          "color": "#FF97FF"
         },
         "mode": "lines",
         "name": "Mitoku",
         "orientation": "v",
         "showlegend": true,
         "stackgroup": "1",
         "type": "scatter",
         "x": [
          "Japan"
         ],
         "xaxis": "x",
         "y": [
          0.25
         ],
         "yaxis": "y"
        },
        {
         "hovertemplate": "<b>%{hovertext}</b><br><br>Brand=Unzen<br>Country=%{x}<br>Stars=%{y}<extra></extra>",
         "hovertext": [
          "Mushroom Honpo Shiitake Nutritious Noodle"
         ],
         "legendgroup": "Unzen",
         "line": {
          "color": "#FECB52"
         },
         "mode": "lines",
         "name": "Unzen",
         "orientation": "v",
         "showlegend": true,
         "stackgroup": "1",
         "type": "scatter",
         "x": [
          "Japan"
         ],
         "xaxis": "x",
         "y": [
          1
         ],
         "yaxis": "y"
        },
        {
         "hovertemplate": "<b>%{hovertext}</b><br><br>Brand=Uncle Sun<br>Country=%{x}<br>Stars=%{y}<extra></extra>",
         "hovertext": [
          "White Curry Noodle More Spicy",
          "White Curry Noodle"
         ],
         "legendgroup": "Uncle Sun",
         "line": {
          "color": "#636efa"
         },
         "mode": "lines",
         "name": "Uncle Sun",
         "orientation": "v",
         "showlegend": true,
         "stackgroup": "1",
         "type": "scatter",
         "x": [
          "Malaysia",
          "Malaysia"
         ],
         "xaxis": "x",
         "y": [
          3,
          4.5
         ],
         "yaxis": "y"
        },
        {
         "hovertemplate": "<b>%{hovertext}</b><br><br>Brand=Mi E-Zee<br>Country=%{x}<br>Stars=%{y}<extra></extra>",
         "hovertext": [
          "Perisa Sayuran",
          "Perisa Kari Sayuran",
          "Perisa Bayam",
          "Plain Noodles",
          "Perisa Kari / Curry Flavour"
         ],
         "legendgroup": "Mi E-Zee",
         "line": {
          "color": "#EF553B"
         },
         "mode": "lines",
         "name": "Mi E-Zee",
         "orientation": "v",
         "showlegend": true,
         "stackgroup": "1",
         "type": "scatter",
         "x": [
          "Malaysia",
          "Malaysia",
          "Malaysia",
          "Malaysia",
          "Malaysia"
         ],
         "xaxis": "x",
         "y": [
          3.5,
          3.75,
          3.5,
          0,
          4
         ],
         "yaxis": "y"
        },
        {
         "hovertemplate": "<b>%{hovertext}</b><br><br>Brand=E-mi<br>Country=%{x}<br>Stars=%{y}<extra></extra>",
         "hovertext": [
          "Mi Perencah Ayam Jagung",
          "Mi Perencah Asam Pedas"
         ],
         "legendgroup": "E-mi",
         "line": {
          "color": "#00cc96"
         },
         "mode": "lines",
         "name": "E-mi",
         "orientation": "v",
         "showlegend": true,
         "stackgroup": "1",
         "type": "scatter",
         "x": [
          "Malaysia",
          "Malaysia"
         ],
         "xaxis": "x",
         "y": [
          3.75,
          3.75
         ],
         "yaxis": "y"
        },
        {
         "hovertemplate": "<b>%{hovertext}</b><br><br>Brand=J.J.<br>Country=%{x}<br>Stars=%{y}<extra></extra>",
         "hovertext": [
          "Snek Mi Perisa Ayam",
          "Snek Mi Perisa BBQ"
         ],
         "legendgroup": "J.J.",
         "line": {
          "color": "#ab63fa"
         },
         "mode": "lines",
         "name": "J.J.",
         "orientation": "v",
         "showlegend": true,
         "stackgroup": "1",
         "type": "scatter",
         "x": [
          "Malaysia",
          "Malaysia"
         ],
         "xaxis": "x",
         "y": [
          3.75,
          4
         ],
         "yaxis": "y"
        },
        {
         "hovertemplate": "<b>%{hovertext}</b><br><br>Brand=Curry Prince<br>Country=%{x}<br>Stars=%{y}<extra></extra>",
         "hovertext": [
          "Penang Authentic White Curry Noodle"
         ],
         "legendgroup": "Curry Prince",
         "line": {
          "color": "#FFA15A"
         },
         "mode": "lines",
         "name": "Curry Prince",
         "orientation": "v",
         "showlegend": true,
         "stackgroup": "1",
         "type": "scatter",
         "x": [
          "Malaysia"
         ],
         "xaxis": "x",
         "y": [
          4
         ],
         "yaxis": "y"
        },
        {
         "hovertemplate": "<b>%{hovertext}</b><br><br>Brand=Econsave<br>Country=%{x}<br>Stars=%{y}<extra></extra>",
         "hovertext": [
          "Choice Instant Noodles Curry Flavour"
         ],
         "legendgroup": "Econsave",
         "line": {
          "color": "#19d3f3"
         },
         "mode": "lines",
         "name": "Econsave",
         "orientation": "v",
         "showlegend": true,
         "stackgroup": "1",
         "type": "scatter",
         "x": [
          "Malaysia"
         ],
         "xaxis": "x",
         "y": [
          3.5
         ],
         "yaxis": "y"
        },
        {
         "hovertemplate": "<b>%{hovertext}</b><br><br>Brand=Oyatsu<br>Country=%{x}<br>Stars=%{y}<extra></extra>",
         "hovertext": [
          "Baby Star Snack Noodle Chicken Flavour",
          "Baby Star Snack Noodle Yakisoba Flavor",
          "Baby Star Ramen Round Consomme Mini",
          "Baby Star Ramen Round Chikinmini"
         ],
         "legendgroup": "Oyatsu",
         "line": {
          "color": "#FF6692"
         },
         "mode": "lines",
         "name": "Oyatsu",
         "orientation": "v",
         "showlegend": true,
         "stackgroup": "1",
         "type": "scatter",
         "x": [
          "Japan",
          "Japan",
          "Japan",
          "Japan"
         ],
         "xaxis": "x",
         "y": [
          2.5,
          4.75,
          3.75,
          3.5
         ],
         "yaxis": "y"
        },
        {
         "hovertemplate": "<b>%{hovertext}</b><br><br>Brand=Kin-Dee<br>Country=%{x}<br>Stars=%{y}<extra></extra>",
         "hovertext": [
          "Instant Rice Noodle Spicy Seafood",
          "Instant Rice Noodle Pad Thai"
         ],
         "legendgroup": "Kin-Dee",
         "line": {
          "color": "#B6E880"
         },
         "mode": "lines",
         "name": "Kin-Dee",
         "orientation": "v",
         "showlegend": true,
         "stackgroup": "1",
         "type": "scatter",
         "x": [
          "Thailand",
          "Thailand"
         ],
         "xaxis": "x",
         "y": [
          3.75,
          3.75
         ],
         "yaxis": "y"
        },
        {
         "hovertemplate": "<b>%{hovertext}</b><br><br>Brand=Nanyang Chef<br>Country=%{x}<br>Stars=%{y}<extra></extra>",
         "hovertext": [
          "Penang Asam Pedas Hot & Sour Noodle",
          "Penang White curry Noodle With Nanyang Chilli Paste"
         ],
         "legendgroup": "Nanyang Chef",
         "line": {
          "color": "#FF97FF"
         },
         "mode": "lines",
         "name": "Nanyang Chef",
         "orientation": "v",
         "showlegend": true,
         "stackgroup": "1",
         "type": "scatter",
         "x": [
          "Malaysia",
          "Malaysia"
         ],
         "xaxis": "x",
         "y": [
          5,
          4.75
         ],
         "yaxis": "y"
        },
        {
         "hovertemplate": "<b>%{hovertext}</b><br><br>Brand=Thai Pavilion<br>Country=%{x}<br>Stars=%{y}<extra></extra>",
         "hovertext": [
          "Pad Thai Instant rice Noodles & Sauce",
          "Garlic Chili Instant Rice Noodles & Sauce",
          "spicy Pad Thai Instant Noodles & Sauce"
         ],
         "legendgroup": "Thai Pavilion",
         "line": {
          "color": "#FECB52"
         },
         "mode": "lines",
         "name": "Thai Pavilion",
         "orientation": "v",
         "showlegend": true,
         "stackgroup": "1",
         "type": "scatter",
         "x": [
          "USA",
          "USA",
          "USA"
         ],
         "xaxis": "x",
         "y": [
          1.5,
          4,
          4.25
         ],
         "yaxis": "y"
        },
        {
         "hovertemplate": "<b>%{hovertext}</b><br><br>Brand=Men-Sunaoshi<br>Country=%{x}<br>Stars=%{y}<extra></extra>",
         "hovertext": [
          "Miso Ramen",
          "Tonkotsu Ramen"
         ],
         "legendgroup": "Men-Sunaoshi",
         "line": {
          "color": "#636efa"
         },
         "mode": "lines",
         "name": "Men-Sunaoshi",
         "orientation": "v",
         "showlegend": true,
         "stackgroup": "1",
         "type": "scatter",
         "x": [
          "Japan",
          "Japan"
         ],
         "xaxis": "x",
         "y": [
          3.75,
          3.75
         ],
         "yaxis": "y"
        },
        {
         "hovertemplate": "<b>%{hovertext}</b><br><br>Brand=Chewy<br>Country=%{x}<br>Stars=%{y}<extra></extra>",
         "hovertext": [
          "Japanese Fried Ramen Noodles Kyoto Barbecue Sauce Flavour",
          "Instant Rice Vermicelli Original Flavour",
          "Non-Fried Ramen Noodles Taiwan Roast Pork Flavour",
          "Rice Vermicelli Scallop With XO Sauce Flavour",
          "Rice Vermicelli Spicy Beef With Chilli Flavour",
          "Rice Vermicelli Satay Chicken",
          "Stir Rice Vermicelli Singaporean Laksa",
          "Stir Rice Vermicelli Indonesian Gado Gado"
         ],
         "legendgroup": "Chewy",
         "line": {
          "color": "#EF553B"
         },
         "mode": "lines",
         "name": "Chewy",
         "orientation": "v",
         "showlegend": true,
         "stackgroup": "1",
         "type": "scatter",
         "x": [
          "Hong Kong",
          "Hong Kong",
          "Hong Kong",
          "Hong Kong",
          "China",
          "China",
          "China",
          "China"
         ],
         "xaxis": "x",
         "y": [
          1.75,
          0.5,
          4,
          2.5,
          3.25,
          3,
          3.75,
          2.25
         ],
         "yaxis": "y"
        },
        {
         "hovertemplate": "<b>%{hovertext}</b><br><br>Brand=Knorr<br>Country=%{x}<br>Stars=%{y}<extra></extra>",
         "hovertext": [
          "Quick Serve Macaroni Wonton Broth",
          "Quick Serve Macaroni Abalone & Chicken Flavour",
          "Quick Serve Macaroni Shrimp Broth",
          "Japanese Pork Bone Flavour Quick Serve Macaroni",
          "Chili Pork"
         ],
         "legendgroup": "Knorr",
         "line": {
          "color": "#00cc96"
         },
         "mode": "lines",
         "name": "Knorr",
         "orientation": "v",
         "showlegend": true,
         "stackgroup": "1",
         "type": "scatter",
         "x": [
          "Hong Kong",
          "Hong Kong",
          "Hong Kong",
          "Hong Kong",
          "Thailand"
         ],
         "xaxis": "x",
         "y": [
          3.25,
          3,
          3.25,
          3,
          3.5
         ],
         "yaxis": "y"
        },
        {
         "hovertemplate": "<b>%{hovertext}</b><br><br>Brand=Adabi<br>Country=%{x}<br>Stars=%{y}<extra></extra>",
         "hovertext": [
          "Mi Segera Mi Goreng Pedas Instant Noodles",
          "Mi Segera Tom Yam Instant Noodles",
          "Mi Segera Kari Ayam Instant Noodles",
          "Mi Bandung Prawn Mee"
         ],
         "legendgroup": "Adabi",
         "line": {
          "color": "#ab63fa"
         },
         "mode": "lines",
         "name": "Adabi",
         "orientation": "v",
         "showlegend": true,
         "stackgroup": "1",
         "type": "scatter",
         "x": [
          "Malaysia",
          "Malaysia",
          "Malaysia",
          "Malaysia"
         ],
         "xaxis": "x",
         "y": [
          3.5,
          3.25,
          4.25,
          4.25
         ],
         "yaxis": "y"
        },
        {
         "hovertemplate": "<b>%{hovertext}</b><br><br>Brand=Osaka Ramen<br>Country=%{x}<br>Stars=%{y}<extra></extra>",
         "hovertext": [
          "Miso Ramen"
         ],
         "legendgroup": "Osaka Ramen",
         "line": {
          "color": "#FFA15A"
         },
         "mode": "lines",
         "name": "Osaka Ramen",
         "orientation": "v",
         "showlegend": true,
         "stackgroup": "1",
         "type": "scatter",
         "x": [
          "USA"
         ],
         "xaxis": "x",
         "y": [
          3.75
         ],
         "yaxis": "y"
        },
        {
         "hovertemplate": "<b>%{hovertext}</b><br><br>Brand=Annie Chun's<br>Country=%{x}<br>Stars=%{y}<extra></extra>",
         "hovertext": [
          "Ramen House Thai Coconut Ramen",
          "Ramen House Chicken Vegetable Flavored Ramen",
          "Ramen House Spicy Chicken Ramen",
          "Soup Bowl Chinese Chicken",
          "Noodle Express Spicy Szechuan",
          "Soup Bowl Vietnamese Pho",
          "Noodle Express Teriyaki",
          "Soup Bowl South Korean Kimchi",
          "Ramen House Spring Vegetable Ramen",
          "Noodle Express Chinese Chow Mein",
          "Soy Ginger Ramen",
          "Teriyaki Noodle"
         ],
         "legendgroup": "Annie Chun's",
         "line": {
          "color": "#19d3f3"
         },
         "mode": "lines",
         "name": "Annie Chun's",
         "orientation": "v",
         "showlegend": true,
         "stackgroup": "1",
         "type": "scatter",
         "x": [
          "USA",
          "USA",
          "USA",
          "USA",
          "USA",
          "USA",
          "USA",
          "USA",
          "USA",
          "USA",
          "USA",
          "USA"
         ],
         "xaxis": "x",
         "y": [
          5,
          4,
          4,
          4.25,
          2,
          4,
          3,
          4.5,
          4,
          3.75,
          1.5,
          1.75
         ],
         "yaxis": "y"
        },
        {
         "hovertemplate": "<b>%{hovertext}</b><br><br>Brand=La Fonte<br>Country=%{x}<br>Stars=%{y}<extra></extra>",
         "hovertext": [
          "Spaghetti With Mushroom Sauce",
          "Spaghetti With Bolognese Sauce"
         ],
         "legendgroup": "La Fonte",
         "line": {
          "color": "#FF6692"
         },
         "mode": "lines",
         "name": "La Fonte",
         "orientation": "v",
         "showlegend": true,
         "stackgroup": "1",
         "type": "scatter",
         "x": [
          "Indonesia",
          "Indonesia"
         ],
         "xaxis": "x",
         "y": [
          3.75,
          4.25
         ],
         "yaxis": "y"
        },
        {
         "hovertemplate": "<b>%{hovertext}</b><br><br>Brand=Thai Choice<br>Country=%{x}<br>Stars=%{y}<extra></extra>",
         "hovertext": [
          "Instant Noodles Seafood Flavour",
          "Instant Noodles Chicken Flavour",
          "Instant Noodles Shrimp Flavour"
         ],
         "legendgroup": "Thai Choice",
         "line": {
          "color": "#B6E880"
         },
         "mode": "lines",
         "name": "Thai Choice",
         "orientation": "v",
         "showlegend": true,
         "stackgroup": "1",
         "type": "scatter",
         "x": [
          "Thailand",
          "Thailand",
          "Thailand"
         ],
         "xaxis": "x",
         "y": [
          4,
          3,
          3.25
         ],
         "yaxis": "y"
        },
        {
         "hovertemplate": "<b>%{hovertext}</b><br><br>Brand=Pop Bihun<br>Country=%{x}<br>Stars=%{y}<extra></extra>",
         "hovertext": [
          "Spesial Rasa Kari Ayam Pedas",
          "Spesial Rasa Soto Ayam",
          "Spesial Goreng Special"
         ],
         "legendgroup": "Pop Bihun",
         "line": {
          "color": "#FF97FF"
         },
         "mode": "lines",
         "name": "Pop Bihun",
         "orientation": "v",
         "showlegend": true,
         "stackgroup": "1",
         "type": "scatter",
         "x": [
          "Indonesia",
          "Indonesia",
          "Indonesia"
         ],
         "xaxis": "x",
         "y": [
          3.75,
          4,
          3.5
         ],
         "yaxis": "y"
        },
        {
         "hovertemplate": "<b>%{hovertext}</b><br><br>Brand=Snapdragon<br>Country=%{x}<br>Stars=%{y}<extra></extra>",
         "hovertext": [
          "Singapore Laksa Curry Soup Bowl",
          "Chinese Mushroom Rice Noodle",
          "Beijing Vegetable Rice Noodle",
          "South Korean Kimchi Rice Noodle",
          "Tomato Seafood Rice Noodle"
         ],
         "legendgroup": "Snapdragon",
         "line": {
          "color": "#FECB52"
         },
         "mode": "lines",
         "name": "Snapdragon",
         "orientation": "v",
         "showlegend": true,
         "stackgroup": "1",
         "type": "scatter",
         "x": [
          "USA",
          "Singapore",
          "Singapore",
          "Singapore",
          "Singapore"
         ],
         "xaxis": "x",
         "y": [
          4.25,
          2.5,
          2,
          3.75,
          3.5
         ],
         "yaxis": "y"
        },
        {
         "hovertemplate": "<b>%{hovertext}</b><br><br>Brand=Saji<br>Country=%{x}<br>Stars=%{y}<extra></extra>",
         "hovertext": [
          "Sajimee Curry Soup Flavour",
          "Sajimee Original Soto Soup Flavor"
         ],
         "legendgroup": "Saji",
         "line": {
          "color": "#636efa"
         },
         "mode": "lines",
         "name": "Saji",
         "orientation": "v",
         "showlegend": true,
         "stackgroup": "1",
         "type": "scatter",
         "x": [
          "Malaysia",
          "Malaysia"
         ],
         "xaxis": "x",
         "y": [
          4.25,
          4
         ],
         "yaxis": "y"
        },
        {
         "hovertemplate": "<b>%{hovertext}</b><br><br>Brand=Miracle Noodle<br>Country=%{x}<br>Stars=%{y}<extra></extra>",
         "hovertext": [
          "Miso Marvellous Soup"
         ],
         "legendgroup": "Miracle Noodle",
         "line": {
          "color": "#EF553B"
         },
         "mode": "lines",
         "name": "Miracle Noodle",
         "orientation": "v",
         "showlegend": true,
         "stackgroup": "1",
         "type": "scatter",
         "x": [
          "USA"
         ],
         "xaxis": "x",
         "y": [
          4
         ],
         "yaxis": "y"
        },
        {
         "hovertemplate": "<b>%{hovertext}</b><br><br>Brand=Takamori Kosan<br>Country=%{x}<br>Stars=%{y}<extra></extra>",
         "hovertext": [
          "Red Pepper 7 Garlic Peperoncino",
          "Sukiyaki Style Noodle Stew",
          "Yaki-Udon Roast Soy Sauce",
          "Hiyashi Udon Bonito Sauce",
          "Futomen Yakisoba",
          "Hiyashi Chuka Lemon Sauce",
          "Curry Udon",
          "Chanpon",
          "Shio Yakisoba",
          "Yakisoba",
          "Yaki-Udon Mild Spicy Sauce",
          "Katsuo Dashi Udon",
          "Spaghetti Napolitan",
          "Fresh Chow Mein Noodles With Seasoning"
         ],
         "legendgroup": "Takamori Kosan",
         "line": {
          "color": "#00cc96"
         },
         "mode": "lines",
         "name": "Takamori Kosan",
         "orientation": "v",
         "showlegend": true,
         "stackgroup": "1",
         "type": "scatter",
         "x": [
          "Japan",
          "Japan",
          "Japan",
          "Japan",
          "Japan",
          "Japan",
          "Japan",
          "Japan",
          "Japan",
          "Japan",
          "Japan",
          "Japan",
          "Japan",
          "Japan"
         ],
         "xaxis": "x",
         "y": [
          4,
          4.5,
          3.75,
          3,
          4.75,
          4.75,
          5,
          3.75,
          4,
          5,
          4.25,
          3.75,
          4,
          3.75
         ],
         "yaxis": "y"
        },
        {
         "hovertemplate": "<b>%{hovertext}</b><br><br>Brand=Papa<br>Country=%{x}<br>Stars=%{y}<extra></extra>",
         "hovertext": [
          "Oriental Style Instant 'Kua-Chap'"
         ],
         "legendgroup": "Papa",
         "line": {
          "color": "#ab63fa"
         },
         "mode": "lines",
         "name": "Papa",
         "orientation": "v",
         "showlegend": true,
         "stackgroup": "1",
         "type": "scatter",
         "x": [
          "Thailand"
         ],
         "xaxis": "x",
         "y": [
          3.25
         ],
         "yaxis": "y"
        },
        {
         "hovertemplate": "<b>%{hovertext}</b><br><br>Brand=Golden Wheat<br>Country=%{x}<br>Stars=%{y}<extra></extra>",
         "hovertext": [
          "Korean Style Stew Pork Flavour Noodle Soup",
          "Korean Style Mushroom Chicken Flavour Cooking Noodle",
          "Korean Style Stew Prok Flavour Cooking Noodle",
          "Korean Style Shrimp Flavour Cooking Noodle",
          "Korean Style Stew Beef Cooking Noodle",
          "Korean Style Spicy Shrimp Noodle Soup",
          "Korean Style Spicy Beef Noodle Soup",
          "South Korean Style Seafood",
          "South Korean Style Spicy Pork",
          "South Korean Style Pork",
          "South Korean Style Beef",
          "South Korean Style Spicy Beef"
         ],
         "legendgroup": "Golden Wheat",
         "line": {
          "color": "#FFA15A"
         },
         "mode": "lines",
         "name": "Golden Wheat",
         "orientation": "v",
         "showlegend": true,
         "stackgroup": "1",
         "type": "scatter",
         "x": [
          "China",
          "China",
          "China",
          "China",
          "China",
          "China",
          "China",
          "China",
          "China",
          "China",
          "China",
          "China"
         ],
         "xaxis": "x",
         "y": [
          1.75,
          2,
          3.5,
          3.5,
          3.25,
          3.5,
          3.75,
          2.75,
          3.5,
          3,
          3.5,
          3.5
         ],
         "yaxis": "y"
        },
        {
         "hovertemplate": "<b>%{hovertext}</b><br><br>Brand=Lotus Foods<br>Country=%{x}<br>Stars=%{y}<extra></extra>",
         "hovertext": [
          "Forbidden Rice Ramen",
          "Millet & Brown Rice Ramen",
          "Jade Pearl Rice Ramen"
         ],
         "legendgroup": "Lotus Foods",
         "line": {
          "color": "#19d3f3"
         },
         "mode": "lines",
         "name": "Lotus Foods",
         "orientation": "v",
         "showlegend": true,
         "stackgroup": "1",
         "type": "scatter",
         "x": [
          "USA",
          "USA",
          "USA"
         ],
         "xaxis": "x",
         "y": [
          2.25,
          4,
          3.25
         ],
         "yaxis": "y"
        },
        {
         "hovertemplate": "<b>%{hovertext}</b><br><br>Brand=Sakura Noodle<br>Country=%{x}<br>Stars=%{y}<extra></extra>",
         "hovertext": [
          "Chikara Brand Udon Beef Flavor",
          "Chikara Brand Udon Hot & Spicy Flavor",
          "Chikara Brand Udon Mushroom Flavor",
          "Chikara Brand Udon Oriental Flavor",
          "Chikara Brand Udon Chicken Flavor"
         ],
         "legendgroup": "Sakura Noodle",
         "line": {
          "color": "#FF6692"
         },
         "mode": "lines",
         "name": "Sakura Noodle",
         "orientation": "v",
         "showlegend": true,
         "stackgroup": "1",
         "type": "scatter",
         "x": [
          "USA",
          "USA",
          "USA",
          "USA",
          "USA"
         ],
         "xaxis": "x",
         "y": [
          4.25,
          4,
          3.75,
          3.75,
          3.75
         ],
         "yaxis": "y"
        },
        {
         "hovertemplate": "<b>%{hovertext}</b><br><br>Brand=Unif<br>Country=%{x}<br>Stars=%{y}<extra></extra>",
         "hovertext": [
          "Unif-100 Instant Noodles Artificial Tart Beef Flavor",
          "Unif-100 Pickled Cayenne Flavor Beef Ramen",
          "Man Han Feast Sichuan Chilli Eel Flavor",
          "Man Han Feast Spring Onion Eel",
          "Artificial Beef With Sauerkraut",
          "Shrimp Fish",
          "Super Bowl Artificial Pickled Chilli Beef",
          "Super Bowl Artificial Stewed Pork Chop",
          "Super Bowl Artificial Spicy Beef",
          "100 Artificial Spicy Beef",
          "100 Furong Shrimp",
          "100 Artificial Shallot Chicken",
          "100 Artificial Stewed Pork Chop"
         ],
         "legendgroup": "Unif",
         "line": {
          "color": "#B6E880"
         },
         "mode": "lines",
         "name": "Unif",
         "orientation": "v",
         "showlegend": true,
         "stackgroup": "1",
         "type": "scatter",
         "x": [
          "China",
          "China",
          "Taiwan",
          "Taiwan",
          "Taiwan",
          "Taiwan",
          "Taiwan",
          "Taiwan",
          "Taiwan",
          "Taiwan",
          "Taiwan",
          "Taiwan",
          "Taiwan"
         ],
         "xaxis": "x",
         "y": [
          3,
          3.75,
          5,
          4.25,
          3.75,
          3.75,
          3.25,
          3.5,
          2.75,
          3.75,
          3,
          3.25,
          3.2
         ],
         "yaxis": "y"
        },
        {
         "hovertemplate": "<b>%{hovertext}</b><br><br>Brand=Hi-Myon<br>Country=%{x}<br>Stars=%{y}<extra></extra>",
         "hovertext": [
          "Instant Noodle Udon Hot & Spicy",
          "Katsuo Udon"
         ],
         "legendgroup": "Hi-Myon",
         "line": {
          "color": "#FF97FF"
         },
         "mode": "lines",
         "name": "Hi-Myon",
         "orientation": "v",
         "showlegend": true,
         "stackgroup": "1",
         "type": "scatter",
         "x": [
          "South Korea",
          "South Korea"
         ],
         "xaxis": "x",
         "y": [
          4,
          4
         ],
         "yaxis": "y"
        },
        {
         "hovertemplate": "<b>%{hovertext}</b><br><br>Brand=Healtimie<br>Country=%{x}<br>Stars=%{y}<extra></extra>",
         "hovertext": [
          "Green Barley Noodle Vegetable Soup",
          "Green Barley Noodle Milk Chicken Soup"
         ],
         "legendgroup": "Healtimie",
         "line": {
          "color": "#FECB52"
         },
         "mode": "lines",
         "name": "Healtimie",
         "orientation": "v",
         "showlegend": true,
         "stackgroup": "1",
         "type": "scatter",
         "x": [
          "Indonesia",
          "Indonesia"
         ],
         "xaxis": "x",
         "y": [
          3.25,
          4.25
         ],
         "yaxis": "y"
        },
        {
         "hovertemplate": "<b>%{hovertext}</b><br><br>Brand=Thai Kitchen<br>Country=%{x}<br>Stars=%{y}<extra></extra>",
         "hovertext": [
          "Rice Noodle Cart Thai Peanut",
          "Rice Noodle Cart Sweet Citrus Ginger",
          "Garlic Vegetable Rice Noodle",
          "Bangkok Curry Rice Noodle",
          "Lemongrass Chili Rice Noodle",
          "Spring Onion Rice Noodle",
          "Thai Ginger Rice Noodle",
          "Roasted Garlic Rice Noodle",
          "Mushroom Rice Noodle",
          "Spring Onion Rice Noodle"
         ],
         "legendgroup": "Thai Kitchen",
         "line": {
          "color": "#636efa"
         },
         "mode": "lines",
         "name": "Thai Kitchen",
         "orientation": "v",
         "showlegend": true,
         "stackgroup": "1",
         "type": "scatter",
         "x": [
          "USA",
          "USA",
          "USA",
          "USA",
          "USA",
          "USA",
          "USA",
          "USA",
          "USA",
          "USA"
         ],
         "xaxis": "x",
         "y": [
          3,
          4.25,
          3.5,
          2.75,
          1.5,
          3.75,
          4.25,
          3.75,
          3.25,
          3.75
         ],
         "yaxis": "y"
        },
        {
         "hovertemplate": "<b>%{hovertext}</b><br><br>Brand=Good Tto Leu Foods<br>Country=%{x}<br>Stars=%{y}<extra></extra>",
         "hovertext": [
          "Lightning Beef Bone Tteokguk Rice Cake Soup"
         ],
         "legendgroup": "Good Tto Leu Foods",
         "line": {
          "color": "#EF553B"
         },
         "mode": "lines",
         "name": "Good Tto Leu Foods",
         "orientation": "v",
         "showlegend": true,
         "stackgroup": "1",
         "type": "scatter",
         "x": [
          "South Korea"
         ],
         "xaxis": "x",
         "y": [
          4
         ],
         "yaxis": "y"
        },
        {
         "hovertemplate": "<b>%{hovertext}</b><br><br>Brand=GaGa<br>Country=%{x}<br>Stars=%{y}<extra></extra>",
         "hovertext": [
          "Mie Gepeng Kuah Rasa Ayam Lada Hitam",
          "Mie Gepeng Kuah Rasa Ayam Bawang Pedas",
          "Mi Instan Cup Milk Chicken Soup",
          "Mie Gepeng Kuah Rasa Soto Cabe Hijau",
          "Seribu 1000 Goreng Spesial",
          "100 Green Chilli Soto Flavour",
          "Mie Jepeng Goreng Rasa Ayam Lada Hitam"
         ],
         "legendgroup": "GaGa",
         "line": {
          "color": "#00cc96"
         },
         "mode": "lines",
         "name": "GaGa",
         "orientation": "v",
         "showlegend": true,
         "stackgroup": "1",
         "type": "scatter",
         "x": [
          "Indonesia",
          "Indonesia",
          "Indonesia",
          "Indonesia",
          "Indonesia",
          "Indonesia",
          "Indonesia"
         ],
         "xaxis": "x",
         "y": [
          3.25,
          3.25,
          4.75,
          3.5,
          4,
          3.75,
          4
         ],
         "yaxis": "y"
        },
        {
         "hovertemplate": "<b>%{hovertext}</b><br><br>Brand=Kimura<br>Country=%{x}<br>Stars=%{y}<extra></extra>",
         "hovertext": [
          "Kumamoto Tonkotsu Ramen"
         ],
         "legendgroup": "Kimura",
         "line": {
          "color": "#ab63fa"
         },
         "mode": "lines",
         "name": "Kimura",
         "orientation": "v",
         "showlegend": true,
         "stackgroup": "1",
         "type": "scatter",
         "x": [
          "Japan"
         ],
         "xaxis": "x",
         "y": [
          5
         ],
         "yaxis": "y"
        },
        {
         "hovertemplate": "<b>%{hovertext}</b><br><br>Brand=Tokachimen Koubou<br>Country=%{x}<br>Stars=%{y}<extra></extra>",
         "hovertext": [
          "Jet Black Sesame Oil Pork Tonkotsu"
         ],
         "legendgroup": "Tokachimen Koubou",
         "line": {
          "color": "#FFA15A"
         },
         "mode": "lines",
         "name": "Tokachimen Koubou",
         "orientation": "v",
         "showlegend": true,
         "stackgroup": "1",
         "type": "scatter",
         "x": [
          "Japan"
         ],
         "xaxis": "x",
         "y": [
          2.25
         ],
         "yaxis": "y"
        },
        {
         "hovertemplate": "<b>%{hovertext}</b><br><br>Brand=ABC<br>Country=%{x}<br>Stars=%{y}<extra></extra>",
         "hovertext": [
          "Mi Cup Rasa Soto Ayam Chicken Soto Flavour",
          "Selera Pedas Mi Goreng Cup Rasa Gulai Ayam Pedas Hot Gulai Chicken",
          "Rasa Ayam Bawang Chicken Onion Flavour",
          "Selera Pedas Mi Goreng Cup Rasa Ayam Pedas Limau Hot Chicken Lemon Flavour",
          "Mi Cup Rasa Kari Ayam Chicken Curry Flavour",
          "Mi Goreng Pangsit Fried Noodle With Dumpling",
          "Mi Goreng Spesial Special Fried Noodle",
          "Selera Pedas Hot Semur Chicken Flavour",
          "Mi ABC Rasa Ayam Bawang (Onion Chicken)",
          "Selera Pedas Mi Rebus Hot Gulai Flavor",
          "Selera Pedas Hot Tomato Soup Flavor",
          "Selera Pedas Mi Goreng Hot Chicken Lemon"
         ],
         "legendgroup": "ABC",
         "line": {
          "color": "#19d3f3"
         },
         "mode": "lines",
         "name": "ABC",
         "orientation": "v",
         "showlegend": true,
         "stackgroup": "1",
         "type": "scatter",
         "x": [
          "Indonesia",
          "Indonesia",
          "Indonesia",
          "Indonesia",
          "Indonesia",
          "Indonesia",
          "Indonesia",
          "Indonesia",
          "Indonesia",
          "Indonesia",
          "Indonesia",
          "Indonesia"
         ],
         "xaxis": "x",
         "y": [
          3.75,
          4,
          3.75,
          4.25,
          3.75,
          5,
          4,
          4.5,
          4,
          4.75,
          4.5,
          4.25
         ],
         "yaxis": "y"
        },
        {
         "hovertemplate": "<b>%{hovertext}</b><br><br>Brand=Eat & Go<br>Country=%{x}<br>Stars=%{y}<extra></extra>",
         "hovertext": [
          "Rasa Baso Sapi Meat Ball Mi Instan Cup",
          "Chicken Onion Mi Instan Cup",
          "Curry Chicken Mi Instan Cup",
          "Rendang Beef Flavour Fried Instant Noodle",
          "Spicy Chicken Mi Instan Cup"
         ],
         "legendgroup": "Eat & Go",
         "line": {
          "color": "#FF6692"
         },
         "mode": "lines",
         "name": "Eat & Go",
         "orientation": "v",
         "showlegend": true,
         "stackgroup": "1",
         "type": "scatter",
         "x": [
          "Indonesia",
          "Indonesia",
          "Indonesia",
          "Indonesia",
          "Indonesia"
         ],
         "xaxis": "x",
         "y": [
          3.75,
          3.75,
          4.25,
          5,
          4.25
         ],
         "yaxis": "y"
        },
        {
         "hovertemplate": "<b>%{hovertext}</b><br><br>Brand=President<br>Country=%{x}<br>Stars=%{y}<extra></extra>",
         "hovertext": [
          "Mi Goreng Rasa Ayam Chicken Flavoured Fried Noodle"
         ],
         "legendgroup": "President",
         "line": {
          "color": "#B6E880"
         },
         "mode": "lines",
         "name": "President",
         "orientation": "v",
         "showlegend": true,
         "stackgroup": "1",
         "type": "scatter",
         "x": [
          "Indonesia"
         ],
         "xaxis": "x",
         "y": [
          4.5
         ],
         "yaxis": "y"
        },
        {
         "hovertemplate": "<b>%{hovertext}</b><br><br>Brand=SuperMi<br>Country=%{x}<br>Stars=%{y}<extra></extra>",
         "hovertext": [
          "Rasa Ayam Spesial",
          "Sedaaap Mi Goreng",
          "GoBang",
          "Mi Keriting Rasa Ayam Bawang",
          "Sedaaap Mi Kuah Rasa Kari Ayam",
          "Sedaaap Mi Kuah Rasa Soto",
          "Super Rasa Ayam Bawang",
          "GoKar"
         ],
         "legendgroup": "SuperMi",
         "line": {
          "color": "#FF97FF"
         },
         "mode": "lines",
         "name": "SuperMi",
         "orientation": "v",
         "showlegend": true,
         "stackgroup": "1",
         "type": "scatter",
         "x": [
          "Indonesia",
          "Indonesia",
          "Indonesia",
          "Indonesia",
          "Indonesia",
          "Indonesia",
          "Indonesia",
          "Indonesia"
         ],
         "xaxis": "x",
         "y": [
          4,
          5,
          5,
          3.75,
          4,
          4,
          4,
          4
         ],
         "yaxis": "y"
        },
        {
         "hovertemplate": "<b>%{hovertext}</b><br><br>Brand=Kumamoto<br>Country=%{x}<br>Stars=%{y}<extra></extra>",
         "hovertext": [
          "Tonkotsu Ramen MEGA Dragon"
         ],
         "legendgroup": "Kumamoto",
         "line": {
          "color": "#FECB52"
         },
         "mode": "lines",
         "name": "Kumamoto",
         "orientation": "v",
         "showlegend": true,
         "stackgroup": "1",
         "type": "scatter",
         "x": [
          "Japan"
         ],
         "xaxis": "x",
         "y": [
          2.5
         ],
         "yaxis": "y"
        },
        {
         "hovertemplate": "<b>%{hovertext}</b><br><br>Brand=HoMyeonDang<br>Country=%{x}<br>Stars=%{y}<extra></extra>",
         "hovertext": [
          "Premium Noodle House Seafood Ramyun",
          "Premium Noodle House Pork & Seafood Flavor",
          "Premium Noodle House Don Ramyun",
          "Premium Noodle House Tofu Fried Noodle",
          "Premuim Noodle House Crab Jjampong"
         ],
         "legendgroup": "HoMyeonDang",
         "line": {
          "color": "#636efa"
         },
         "mode": "lines",
         "name": "HoMyeonDang",
         "orientation": "v",
         "showlegend": true,
         "stackgroup": "1",
         "type": "scatter",
         "x": [
          "South Korea",
          "South Korea",
          "South Korea",
          "South Korea",
          "South Korea"
         ],
         "xaxis": "x",
         "y": [
          4,
          4,
          4,
          3.5,
          5
         ],
         "yaxis": "y"
        },
        {
         "hovertemplate": "<b>%{hovertext}</b><br><br>Brand=Sawadee<br>Country=%{x}<br>Stars=%{y}<extra></extra>",
         "hovertext": [
          "Instant Noodles Prawn Oriental Flavour",
          "Instant Noodles Spicy Tomato Flavour"
         ],
         "legendgroup": "Sawadee",
         "line": {
          "color": "#EF553B"
         },
         "mode": "lines",
         "name": "Sawadee",
         "orientation": "v",
         "showlegend": true,
         "stackgroup": "1",
         "type": "scatter",
         "x": [
          "Malaysia",
          "Malaysia"
         ],
         "xaxis": "x",
         "y": [
          2.5,
          2.5
         ],
         "yaxis": "y"
        },
        {
         "hovertemplate": "<b>%{hovertext}</b><br><br>Brand=Nan Jie Cun<br>Country=%{x}<br>Stars=%{y}<extra></extra>",
         "hovertext": [
          "Hot -Dry Instant Noodles Chilli Flavour"
         ],
         "legendgroup": "Nan Jie Cun",
         "line": {
          "color": "#00cc96"
         },
         "mode": "lines",
         "name": "Nan Jie Cun",
         "orientation": "v",
         "showlegend": true,
         "stackgroup": "1",
         "type": "scatter",
         "x": [
          "China"
         ],
         "xaxis": "x",
         "y": [
          0.5
         ],
         "yaxis": "y"
        },
        {
         "hovertemplate": "<b>%{hovertext}</b><br><br>Brand=China Best<br>Country=%{x}<br>Stars=%{y}<extra></extra>",
         "hovertext": [
          "Frozen Satay Sauce Noodle"
         ],
         "legendgroup": "China Best",
         "line": {
          "color": "#ab63fa"
         },
         "mode": "lines",
         "name": "China Best",
         "orientation": "v",
         "showlegend": true,
         "stackgroup": "1",
         "type": "scatter",
         "x": [
          "Taiwan"
         ],
         "xaxis": "x",
         "y": [
          1
         ],
         "yaxis": "y"
        },
        {
         "hovertemplate": "<b>%{hovertext}</b><br><br>Brand=Sanrio<br>Country=%{x}<br>Stars=%{y}<extra></extra>",
         "hovertext": [
          "Hello Kitty Hakata Shoyutonkotsu Ramen"
         ],
         "legendgroup": "Sanrio",
         "line": {
          "color": "#FFA15A"
         },
         "mode": "lines",
         "name": "Sanrio",
         "orientation": "v",
         "showlegend": true,
         "stackgroup": "1",
         "type": "scatter",
         "x": [
          "Japan"
         ],
         "xaxis": "x",
         "y": [
          3.75
         ],
         "yaxis": "y"
        },
        {
         "hovertemplate": "<b>%{hovertext}</b><br><br>Brand=Peyang<br>Country=%{x}<br>Stars=%{y}<extra></extra>",
         "hovertext": [
          "Yakisoba"
         ],
         "legendgroup": "Peyang",
         "line": {
          "color": "#19d3f3"
         },
         "mode": "lines",
         "name": "Peyang",
         "orientation": "v",
         "showlegend": true,
         "stackgroup": "1",
         "type": "scatter",
         "x": [
          "Japan"
         ],
         "xaxis": "x",
         "y": [
          5
         ],
         "yaxis": "y"
        },
        {
         "hovertemplate": "<b>%{hovertext}</b><br><br>Brand=Komforte Chockolates<br>Country=%{x}<br>Stars=%{y}<extra></extra>",
         "hovertext": [
          "Savory Ramen "
         ],
         "legendgroup": "Komforte Chockolates",
         "line": {
          "color": "#FF6692"
         },
         "mode": "lines",
         "name": "Komforte Chockolates",
         "orientation": "v",
         "showlegend": true,
         "stackgroup": "1",
         "type": "scatter",
         "x": [
          "USA"
         ],
         "xaxis": "x",
         "y": [
          5
         ],
         "yaxis": "y"
        },
        {
         "hovertemplate": "<b>%{hovertext}</b><br><br>Brand=Nagao Noodle<br>Country=%{x}<br>Stars=%{y}<extra></extra>",
         "hovertext": [
          "Ramen Kamen Thasos Galle Pork Bone"
         ],
         "legendgroup": "Nagao Noodle",
         "line": {
          "color": "#B6E880"
         },
         "mode": "lines",
         "name": "Nagao Noodle",
         "orientation": "v",
         "showlegend": true,
         "stackgroup": "1",
         "type": "scatter",
         "x": [
          "Japan"
         ],
         "xaxis": "x",
         "y": [
          4.25
         ],
         "yaxis": "y"
        },
        {
         "hovertemplate": "<b>%{hovertext}</b><br><br>Brand=Maitri<br>Country=%{x}<br>Stars=%{y}<extra></extra>",
         "hovertext": [
          "Vegetarian Fried Noodles (Mie Goreng)"
         ],
         "legendgroup": "Maitri",
         "line": {
          "color": "#FF97FF"
         },
         "mode": "lines",
         "name": "Maitri",
         "orientation": "v",
         "showlegend": true,
         "stackgroup": "1",
         "type": "scatter",
         "x": [
          "Indonesia"
         ],
         "xaxis": "x",
         "y": [
          4
         ],
         "yaxis": "y"
        },
        {
         "hovertemplate": "<b>%{hovertext}</b><br><br>Brand=GS25<br>Country=%{x}<br>Stars=%{y}<extra></extra>",
         "hovertext": [
          "Gonghwachun Jjajangmyun",
          "Gonghwachun Jjamppong"
         ],
         "legendgroup": "GS25",
         "line": {
          "color": "#FECB52"
         },
         "mode": "lines",
         "name": "GS25",
         "orientation": "v",
         "showlegend": true,
         "stackgroup": "1",
         "type": "scatter",
         "x": [
          "South Korea",
          "South Korea"
         ],
         "xaxis": "x",
         "y": [
          4.5,
          4
         ],
         "yaxis": "y"
        },
        {
         "hovertemplate": "<b>%{hovertext}</b><br><br>Brand=Amianda<br>Country=%{x}<br>Stars=%{y}<extra></extra>",
         "hovertext": [
          "Homely Dried Noodles - Sesame Pate",
          "Tachia Noodles - Hot & Spicy Sauce",
          "Tachia Dried Noodles - Fried Shallot",
          "Thin Noodles - Sesame Oil",
          "Hakka Flat Noodles - Satay Sauce",
          "Tachia Dried Noodles - Rou Zhou Meat Sauce",
          "Homely Dried Noodles - Original Flavor ",
          "Dried Noodles - Spicy Sauerkraut",
          "Hakka Flat Noodles - Fried Bean Sauce",
          "Tachia Dried Noodles - Peppery"
         ],
         "legendgroup": "Amianda",
         "line": {
          "color": "#636efa"
         },
         "mode": "lines",
         "name": "Amianda",
         "orientation": "v",
         "showlegend": true,
         "stackgroup": "1",
         "type": "scatter",
         "x": [
          "Taiwan",
          "Taiwan",
          "Taiwan",
          "Taiwan",
          "Taiwan",
          "Taiwan",
          "Taiwan",
          "Taiwan",
          "Taiwan",
          "Taiwan"
         ],
         "xaxis": "x",
         "y": [
          3.75,
          3.5,
          3.25,
          4.25,
          4.5,
          5,
          4,
          3.25,
          4.25,
          3.75
         ],
         "yaxis": "y"
        },
        {
         "hovertemplate": "<b>%{hovertext}</b><br><br>Brand=Tasty Bite<br>Country=%{x}<br>Stars=%{y}<extra></extra>",
         "hovertext": [
          "1 Step-1 Minute Asian Noodles Pad Thai",
          "1 Step-1 Minute Asian Noodles Kung Pao",
          "1 Step-1 Minute Asian Noodles Mushroom Lo Mein",
          "1 Step-1 Minute Asian Noodles Thai Basil",
          "1 Step-1 Minute Asian Noodles Lemongrass Ginger",
          "1 Step-1 Minute Asian Noodles Toasted Sesame"
         ],
         "legendgroup": "Tasty Bite",
         "line": {
          "color": "#EF553B"
         },
         "mode": "lines",
         "name": "Tasty Bite",
         "orientation": "v",
         "showlegend": true,
         "stackgroup": "1",
         "type": "scatter",
         "x": [
          "USA",
          "USA",
          "USA",
          "USA",
          "USA",
          "USA"
         ],
         "xaxis": "x",
         "y": [
          3.5,
          4.25,
          4,
          3.75,
          3.75,
          4
         ],
         "yaxis": "y"
        },
        {
         "hovertemplate": "<b>%{hovertext}</b><br><br>Brand=Star Anise Foods<br>Country=%{x}<br>Stars=%{y}<extra></extra>",
         "hovertext": [
          "Happy Pho Vietnamese Brown Rice Noodle Soup Garlic Goodness"
         ],
         "legendgroup": "Star Anise Foods",
         "line": {
          "color": "#00cc96"
         },
         "mode": "lines",
         "name": "Star Anise Foods",
         "orientation": "v",
         "showlegend": true,
         "stackgroup": "1",
         "type": "scatter",
         "x": [
          "USA"
         ],
         "xaxis": "x",
         "y": [
          3.75
         ],
         "yaxis": "y"
        },
        {
         "hovertemplate": "<b>%{hovertext}</b><br><br>Brand=Tradition<br>Country=%{x}<br>Stars=%{y}<extra></extra>",
         "hovertext": [
          "Oriental Style Ramen Noodle Soup",
          "Vegetable Instant Noodle soup",
          "Imitation Chicken Vegetarian",
          "Imitation Beef",
          "Imitation Chicken Vegetarian"
         ],
         "legendgroup": "Tradition",
         "line": {
          "color": "#ab63fa"
         },
         "mode": "lines",
         "name": "Tradition",
         "orientation": "v",
         "showlegend": true,
         "stackgroup": "1",
         "type": "scatter",
         "x": [
          "USA",
          "USA",
          "USA",
          "USA",
          "USA"
         ],
         "xaxis": "x",
         "y": [
          2.75,
          3.25,
          3.75,
          2.5,
          3.75
         ],
         "yaxis": "y"
        },
        {
         "hovertemplate": "<b>%{hovertext}</b><br><br>Brand=Sun Noodle<br>Country=%{x}<br>Stars=%{y}<extra></extra>",
         "hovertext": [
          "Ramen Shoyu Flavor",
          "Tantanmen Spicy Sesame (Mild)",
          "Ramen Miso Flavor",
          "Cold Ramen Soy Sauce Vinaigrette",
          "Nama Soba Buckwheat Noodle",
          "Ramen Pork Flavor",
          "Yakisoba"
         ],
         "legendgroup": "Sun Noodle",
         "line": {
          "color": "#FFA15A"
         },
         "mode": "lines",
         "name": "Sun Noodle",
         "orientation": "v",
         "showlegend": true,
         "stackgroup": "1",
         "type": "scatter",
         "x": [
          "USA",
          "USA",
          "USA",
          "USA",
          "USA",
          "USA",
          "USA"
         ],
         "xaxis": "x",
         "y": [
          5,
          3.75,
          5,
          4,
          4,
          5,
          4.5
         ],
         "yaxis": "y"
        },
        {
         "hovertemplate": "<b>%{hovertext}</b><br><br>Brand=S&S<br>Country=%{x}<br>Stars=%{y}<extra></extra>",
         "hovertext": [
          "Saimin"
         ],
         "legendgroup": "S&S",
         "line": {
          "color": "#19d3f3"
         },
         "mode": "lines",
         "name": "S&S",
         "orientation": "v",
         "showlegend": true,
         "stackgroup": "1",
         "type": "scatter",
         "x": [
          "USA"
         ],
         "xaxis": "x",
         "y": [
          4
         ],
         "yaxis": "y"
        },
        {
         "hovertemplate": "<b>%{hovertext}</b><br><br>Brand=Springlife<br>Country=%{x}<br>Stars=%{y}<extra></extra>",
         "hovertext": [
          "Spinach With Organic Noodles"
         ],
         "legendgroup": "Springlife",
         "line": {
          "color": "#FF6692"
         },
         "mode": "lines",
         "name": "Springlife",
         "orientation": "v",
         "showlegend": true,
         "stackgroup": "1",
         "type": "scatter",
         "x": [
          "China"
         ],
         "xaxis": "x",
         "y": [
          3
         ],
         "yaxis": "y"
        },
        {
         "hovertemplate": "<b>%{hovertext}</b><br><br>Brand=Right Foods<br>Country=%{x}<br>Stars=%{y}<extra></extra>",
         "hovertext": [
          "Dr. McDougall's Vegan Chicken Ramen"
         ],
         "legendgroup": "Right Foods",
         "line": {
          "color": "#B6E880"
         },
         "mode": "lines",
         "name": "Right Foods",
         "orientation": "v",
         "showlegend": true,
         "stackgroup": "1",
         "type": "scatter",
         "x": [
          "USA"
         ],
         "xaxis": "x",
         "y": [
          1.75
         ],
         "yaxis": "y"
        },
        {
         "hovertemplate": "<b>%{hovertext}</b><br><br>Brand=Sunlee<br>Country=%{x}<br>Stars=%{y}<extra></extra>",
         "hovertext": [
          "Shitake Mushroom Vernicalli",
          "Pho Bo Beef Flavour Rice Stick",
          "Artificial Chicken Rice Vermicelli",
          "Tom Yum Shrimp Rice Stick",
          "Tom Yum Shrimp Noodle",
          "Beef Rice Stick",
          "Crab Vermicelli",
          "Crab Noodle"
         ],
         "legendgroup": "Sunlee",
         "line": {
          "color": "#FF97FF"
         },
         "mode": "lines",
         "name": "Sunlee",
         "orientation": "v",
         "showlegend": true,
         "stackgroup": "1",
         "type": "scatter",
         "x": [
          "Thailand",
          "Thailand",
          "Thailand",
          "Thailand",
          "Thailand",
          "Thailand",
          "Thailand",
          "Thailand"
         ],
         "xaxis": "x",
         "y": [
          1.25,
          3.25,
          2.5,
          3.75,
          3.5,
          2,
          3.25,
          4.5
         ],
         "yaxis": "y"
        },
        {
         "hovertemplate": "<b>%{hovertext}</b><br><br>Brand=Goku Uma<br>Country=%{x}<br>Stars=%{y}<extra></extra>",
         "hovertext": [
          "Seafood Flavor Japanese Noodles",
          "Soy Sauce",
          "Hot & Spicy Beef"
         ],
         "legendgroup": "Goku Uma",
         "line": {
          "color": "#FECB52"
         },
         "mode": "lines",
         "name": "Goku Uma",
         "orientation": "v",
         "showlegend": true,
         "stackgroup": "1",
         "type": "scatter",
         "x": [
          "Japan",
          "Japan",
          "Japan"
         ],
         "xaxis": "x",
         "y": [
          4.25,
          3.5,
          3.5
         ],
         "yaxis": "y"
        },
        {
         "hovertemplate": "<b>%{hovertext}</b><br><br>Brand=Daddy<br>Country=%{x}<br>Stars=%{y}<extra></extra>",
         "hovertext": [
          "Kari 365 Curry Flavour"
         ],
         "legendgroup": "Daddy",
         "line": {
          "color": "#636efa"
         },
         "mode": "lines",
         "name": "Daddy",
         "orientation": "v",
         "showlegend": true,
         "stackgroup": "1",
         "type": "scatter",
         "x": [
          "Malaysia"
         ],
         "xaxis": "x",
         "y": [
          5
         ],
         "yaxis": "y"
        },
        {
         "hovertemplate": "<b>%{hovertext}</b><br><br>Brand=Han's South Korea<br>Country=%{x}<br>Stars=%{y}<extra></extra>",
         "hovertext": [
          "Rice Noodle With Seafood Flavored Soup",
          "Rice Noodle With Kimchi Flavored Soup",
          "Rice Noodle With Hot & Spicy"
         ],
         "legendgroup": "Han's South Korea",
         "line": {
          "color": "#EF553B"
         },
         "mode": "lines",
         "name": "Han's South Korea",
         "orientation": "v",
         "showlegend": true,
         "stackgroup": "1",
         "type": "scatter",
         "x": [
          "South Korea",
          "South Korea",
          "South Korea"
         ],
         "xaxis": "x",
         "y": [
          3.5,
          3,
          3.25
         ],
         "yaxis": "y"
        },
        {
         "hovertemplate": "<b>%{hovertext}</b><br><br>Brand=Sarimi<br>Country=%{x}<br>Stars=%{y}<extra></extra>",
         "hovertext": [
          "Rasa Ayam Bawang",
          "Soto Koya Pedasss",
          "Soto Koya Gurih",
          "Isi 2 Mi Goreng Rasa Ayam Kecap",
          "Soto Koya Jeruk Nipis",
          "Isi 2 Rasa Soto",
          "Isi 2 Rasa Kari spesial"
         ],
         "legendgroup": "Sarimi",
         "line": {
          "color": "#00cc96"
         },
         "mode": "lines",
         "name": "Sarimi",
         "orientation": "v",
         "showlegend": true,
         "stackgroup": "1",
         "type": "scatter",
         "x": [
          "Indonesia",
          "Indonesia",
          "Indonesia",
          "Indonesia",
          "Indonesia",
          "Indonesia",
          "Indonesia"
         ],
         "xaxis": "x",
         "y": [
          3.5,
          3.25,
          4,
          4.5,
          4.75,
          3.5,
          3.75
         ],
         "yaxis": "y"
        },
        {
         "hovertemplate": "<b>%{hovertext}</b><br><br>Brand=Long Kow<br>Country=%{x}<br>Stars=%{y}<extra></extra>",
         "hovertext": [
          "Crystal Noodles Savory Shoyu",
          "Crystal Noodles Hot & Sour",
          "Kimchi Pickle Bean Vermicelli",
          "Crystal Noodles Vegetables",
          "Crystal Noodle Six Kinds Of Mushrooms"
         ],
         "legendgroup": "Long Kow",
         "line": {
          "color": "#ab63fa"
         },
         "mode": "lines",
         "name": "Long Kow",
         "orientation": "v",
         "showlegend": true,
         "stackgroup": "1",
         "type": "scatter",
         "x": [
          "China",
          "China",
          "Taiwan",
          "China",
          "China"
         ],
         "xaxis": "x",
         "y": [
          1.5,
          3.5,
          1.5,
          1.5,
          2.3
         ],
         "yaxis": "y"
        },
        {
         "hovertemplate": "<b>%{hovertext}</b><br><br>Brand=Song Hak<br>Country=%{x}<br>Stars=%{y}<extra></extra>",
         "hovertext": [
          "Rice Topokki"
         ],
         "legendgroup": "Song Hak",
         "line": {
          "color": "#FFA15A"
         },
         "mode": "lines",
         "name": "Song Hak",
         "orientation": "v",
         "showlegend": true,
         "stackgroup": "1",
         "type": "scatter",
         "x": [
          "South Korea"
         ],
         "xaxis": "x",
         "y": [
          5
         ],
         "yaxis": "y"
        },
        {
         "hovertemplate": "<b>%{hovertext}</b><br><br>Brand=Fuji Mengyo<br>Country=%{x}<br>Stars=%{y}<extra></extra>",
         "hovertext": [
          "Nabeyaki Udon"
         ],
         "legendgroup": "Fuji Mengyo",
         "line": {
          "color": "#19d3f3"
         },
         "mode": "lines",
         "name": "Fuji Mengyo",
         "orientation": "v",
         "showlegend": true,
         "stackgroup": "1",
         "type": "scatter",
         "x": [
          "Japan"
         ],
         "xaxis": "x",
         "y": [
          3.5
         ],
         "yaxis": "y"
        },
        {
         "hovertemplate": "<b>%{hovertext}</b><br><br>Brand=Dragonfly<br>Country=%{x}<br>Stars=%{y}<extra></extra>",
         "hovertext": [
          "Artificial Hot & Sour Shrimp",
          "Artificial Pork Ribs",
          "Mee Goreng Dry Ramen Noodles",
          "Artificial Seafood",
          "Onion",
          "Artificial Pork Ribs",
          "Artificial Chicken",
          "Artificial Hot & Sour Shrimp",
          "Artificial Chicken",
          "Artificial Onion",
          "Artificial Seafood",
          "Artificial Beef",
          "Guilin Style Rice Vermicelli"
         ],
         "legendgroup": "Dragonfly",
         "line": {
          "color": "#FF6692"
         },
         "mode": "lines",
         "name": "Dragonfly",
         "orientation": "v",
         "showlegend": true,
         "stackgroup": "1",
         "type": "scatter",
         "x": [
          "China",
          "China",
          "China",
          "China",
          "China",
          "China",
          "China",
          "China",
          "China",
          "China",
          "China",
          "China",
          "China"
         ],
         "xaxis": "x",
         "y": [
          4,
          3.5,
          3.75,
          3.75,
          3.75,
          4,
          4,
          4.5,
          4.5,
          4,
          3.75,
          4.75,
          4.5
         ],
         "yaxis": "y"
        },
        {
         "hovertemplate": "<b>%{hovertext}</b><br><br>Brand=CJ CheilJedang<br>Country=%{x}<br>Stars=%{y}<extra></extra>",
         "hovertext": [
          "Katsuobushi Udon",
          "Mild Bean Curd Stew"
         ],
         "legendgroup": "CJ CheilJedang",
         "line": {
          "color": "#B6E880"
         },
         "mode": "lines",
         "name": "CJ CheilJedang",
         "orientation": "v",
         "showlegend": true,
         "stackgroup": "1",
         "type": "scatter",
         "x": [
          "South Korea",
          "South Korea"
         ],
         "xaxis": "x",
         "y": [
          3.75,
          2
         ],
         "yaxis": "y"
        },
        {
         "hovertemplate": "<b>%{hovertext}</b><br><br>Brand=Unif / Tung-I<br>Country=%{x}<br>Stars=%{y}<extra></extra>",
         "hovertext": [
          "Chinese Spices Tong Tsai Bean Vermicelli",
          "Chinese Onion Rice Noodle",
          "Instant Bean Vermicelli Shrimp",
          "Artificial Beef Flavor",
          "Fresh Shrimp",
          "Artificial Chinese Beef",
          "Chah Chiang",
          "Onion Flavor",
          "Artificial Spicy Beef",
          "Artificial Chicken"
         ],
         "legendgroup": "Unif / Tung-I",
         "line": {
          "color": "#FF97FF"
         },
         "mode": "lines",
         "name": "Unif / Tung-I",
         "orientation": "v",
         "showlegend": true,
         "stackgroup": "1",
         "type": "scatter",
         "x": [
          "Taiwan",
          "Taiwan",
          "Taiwan",
          "Taiwan",
          "Taiwan",
          "Taiwan",
          "Taiwan",
          "Taiwan",
          "Taiwan",
          "Taiwan"
         ],
         "xaxis": "x",
         "y": [
          3.5,
          2.75,
          1.5,
          3.75,
          3.25,
          2.85,
          2.5,
          3.65,
          3.5,
          3.5
         ],
         "yaxis": "y"
        },
        {
         "hovertemplate": "<b>%{hovertext}</b><br><br>Brand=Dongwon<br>Country=%{x}<br>Stars=%{y}<extra></extra>",
         "hovertext": [
          "RaUdong Unfried Noodle With Kimchi"
         ],
         "legendgroup": "Dongwon",
         "line": {
          "color": "#FECB52"
         },
         "mode": "lines",
         "name": "Dongwon",
         "orientation": "v",
         "showlegend": true,
         "stackgroup": "1",
         "type": "scatter",
         "x": [
          "South Korea"
         ],
         "xaxis": "x",
         "y": [
          4.5
         ],
         "yaxis": "y"
        },
        {
         "hovertemplate": "<b>%{hovertext}</b><br><br>Brand=Seven-Eleven<br>Country=%{x}<br>Stars=%{y}<extra></extra>",
         "hovertext": [
          "Seven & I Shoyu"
         ],
         "legendgroup": "Seven-Eleven",
         "line": {
          "color": "#636efa"
         },
         "mode": "lines",
         "name": "Seven-Eleven",
         "orientation": "v",
         "showlegend": true,
         "stackgroup": "1",
         "type": "scatter",
         "x": [
          "Japan"
         ],
         "xaxis": "x",
         "y": [
          4.5
         ],
         "yaxis": "y"
        },
        {
         "hovertemplate": "<b>%{hovertext}</b><br><br>Brand=Souper<br>Country=%{x}<br>Stars=%{y}<extra></extra>",
         "hovertext": [
          "Bowl Ramen Shrimp",
          "Alimentary Paste Chow Mein"
         ],
         "legendgroup": "Souper",
         "line": {
          "color": "#EF553B"
         },
         "mode": "lines",
         "name": "Souper",
         "orientation": "v",
         "showlegend": true,
         "stackgroup": "1",
         "type": "scatter",
         "x": [
          "Taiwan",
          "Taiwan"
         ],
         "xaxis": "x",
         "y": [
          3.75,
          4.25
         ],
         "yaxis": "y"
        },
        {
         "hovertemplate": "<b>%{hovertext}</b><br><br>Brand=Kim's Bowl<br>Country=%{x}<br>Stars=%{y}<extra></extra>",
         "hovertext": [
          "Vegetarian Tom Yum"
         ],
         "legendgroup": "Kim's Bowl",
         "line": {
          "color": "#00cc96"
         },
         "mode": "lines",
         "name": "Kim's Bowl",
         "orientation": "v",
         "showlegend": true,
         "stackgroup": "1",
         "type": "scatter",
         "x": [
          "Thailand"
         ],
         "xaxis": "x",
         "y": [
          3.5
         ],
         "yaxis": "y"
        },
        {
         "hovertemplate": "<b>%{hovertext}</b><br><br>Brand=Ohsung<br>Country=%{x}<br>Stars=%{y}<extra></extra>",
         "hovertext": [
          "Hot Spicy Bowl With Soy Peptide",
          "Hong Ramyun Soy Peptide Hot Spicy",
          "Hong Ramyun Soup Soy Peptide Mild"
         ],
         "legendgroup": "Ohsung",
         "line": {
          "color": "#ab63fa"
         },
         "mode": "lines",
         "name": "Ohsung",
         "orientation": "v",
         "showlegend": true,
         "stackgroup": "1",
         "type": "scatter",
         "x": [
          "South Korea",
          "South Korea",
          "South Korea"
         ],
         "xaxis": "x",
         "y": [
          3.5,
          3.75,
          3.25
         ],
         "yaxis": "y"
        },
        {
         "hovertemplate": "<b>%{hovertext}</b><br><br>Brand=GreeNoodle<br>Country=%{x}<br>Stars=%{y}<extra></extra>",
         "hovertext": [
          "Shiitake & Soy Sauce",
          "Yakisoba",
          "Miso",
          "Tom Yum"
         ],
         "legendgroup": "GreeNoodle",
         "line": {
          "color": "#FFA15A"
         },
         "mode": "lines",
         "name": "GreeNoodle",
         "orientation": "v",
         "showlegend": true,
         "stackgroup": "1",
         "type": "scatter",
         "x": [
          "Thailand",
          "Thailand",
          "Thailand",
          "Thailand"
         ],
         "xaxis": "x",
         "y": [
          1.5,
          3,
          1,
          0.5
         ],
         "yaxis": "y"
        },
        {
         "hovertemplate": "<b>%{hovertext}</b><br><br>Brand=Kailo<br>Country=%{x}<br>Stars=%{y}<extra></extra>",
         "hovertext": [
          "Chicken",
          "Big Bowl Crab ",
          "Big Bowl Artificial Chicken"
         ],
         "legendgroup": "Kailo",
         "line": {
          "color": "#19d3f3"
         },
         "mode": "lines",
         "name": "Kailo",
         "orientation": "v",
         "showlegend": true,
         "stackgroup": "1",
         "type": "scatter",
         "x": [
          "Hong Kong",
          "Hong Kong",
          "Hong Kong"
         ],
         "xaxis": "x",
         "y": [
          3.5,
          3.5,
          2.75
         ],
         "yaxis": "y"
        },
        {
         "hovertemplate": "<b>%{hovertext}</b><br><br>Brand=Fashion Foods<br>Country=%{x}<br>Stars=%{y}<extra></extra>",
         "hovertext": [
          "Oriental",
          "Mushroom Vegetarian",
          "Beef Pho",
          "XO Sauce",
          "Tom Klong"
         ],
         "legendgroup": "Fashion Foods",
         "line": {
          "color": "#FF6692"
         },
         "mode": "lines",
         "name": "Fashion Foods",
         "orientation": "v",
         "showlegend": true,
         "stackgroup": "1",
         "type": "scatter",
         "x": [
          "Thailand",
          "Thailand",
          "Thailand",
          "Thailand",
          "Thailand"
         ],
         "xaxis": "x",
         "y": [
          0.25,
          1.75,
          3.75,
          1.25,
          2
         ],
         "yaxis": "y"
        },
        {
         "hovertemplate": "<b>%{hovertext}</b><br><br>Brand=Hosoonyi<br>Country=%{x}<br>Stars=%{y}<extra></extra>",
         "hovertext": [
          "Naengmyeon Combo"
         ],
         "legendgroup": "Hosoonyi",
         "line": {
          "color": "#B6E880"
         },
         "mode": "lines",
         "name": "Hosoonyi",
         "orientation": "v",
         "showlegend": true,
         "stackgroup": "1",
         "type": "scatter",
         "x": [
          "USA"
         ],
         "xaxis": "x",
         "y": [
          3.75
         ],
         "yaxis": "y"
        },
        {
         "hovertemplate": "<b>%{hovertext}</b><br><br>Brand=Yamamoto<br>Country=%{x}<br>Stars=%{y}<extra></extra>",
         "hovertext": [
          "Seafood Ramen",
          "Ponpoko Tempura Soba",
          "Shoyu",
          "Ponpoko Tempura Udon"
         ],
         "legendgroup": "Yamamoto",
         "line": {
          "color": "#FF97FF"
         },
         "mode": "lines",
         "name": "Yamamoto",
         "orientation": "v",
         "showlegend": true,
         "stackgroup": "1",
         "type": "scatter",
         "x": [
          "Japan",
          "Japan",
          "Japan",
          "Japan"
         ],
         "xaxis": "x",
         "y": [
          3.5,
          4.25,
          4.25,
          4.75
         ],
         "yaxis": "y"
        },
        {
         "hovertemplate": "<b>%{hovertext}</b><br><br>Brand=Wu Mu<br>Country=%{x}<br>Stars=%{y}<extra></extra>",
         "hovertext": [
          "Pork Flavor Ramen",
          "Beef Flavor Ramen",
          "Steam Spinach Ramen With Onion",
          "Dried Noodle With BBQ Pork",
          "Steamed Noodle Sesame Oil",
          "Steamed Noodle Chinese Herbs",
          "Steamed Noodle Garlic & Sesame Oil"
         ],
         "legendgroup": "Wu Mu",
         "line": {
          "color": "#FECB52"
         },
         "mode": "lines",
         "name": "Wu Mu",
         "orientation": "v",
         "showlegend": true,
         "stackgroup": "1",
         "type": "scatter",
         "x": [
          "Taiwan",
          "Taiwan",
          "Taiwan",
          "Taiwan",
          "Taiwan",
          "Taiwan",
          "Taiwan"
         ],
         "xaxis": "x",
         "y": [
          2.75,
          4.25,
          5,
          2,
          3.75,
          3.25,
          4.5
         ],
         "yaxis": "y"
        },
        {
         "hovertemplate": "<b>%{hovertext}</b><br><br>Brand=Mee Jang<br>Country=%{x}<br>Stars=%{y}<extra></extra>",
         "hovertext": [
          "Noodle Soup Spicy Beef Garlic Onion",
          "Noodle Soup Sour Spicy Shrimp Tom Yum",
          "Sour Spicy Chicken Tom Yum",
          "Artificial Shrimp Tom yum",
          "Artificial Beef Flavor",
          "Artificial Pork",
          "Tom Yum Shrimp"
         ],
         "legendgroup": "Mee Jang",
         "line": {
          "color": "#636efa"
         },
         "mode": "lines",
         "name": "Mee Jang",
         "orientation": "v",
         "showlegend": true,
         "stackgroup": "1",
         "type": "scatter",
         "x": [
          "Thailand",
          "Thailand",
          "Thailand",
          "Thailand",
          "Thailand",
          "Thailand",
          "Thailand"
         ],
         "xaxis": "x",
         "y": [
          3.25,
          2.5,
          3.25,
          3.5,
          3.5,
          3.5,
          3.5
         ],
         "yaxis": "y"
        },
        {
         "hovertemplate": "<b>%{hovertext}</b><br><br>Brand=JFC<br>Country=%{x}<br>Stars=%{y}<extra></extra>",
         "hovertext": [
          "Japanese Style Noodle Curry",
          "Japanese Style Noodle Fresh Udon"
         ],
         "legendgroup": "JFC",
         "line": {
          "color": "#EF553B"
         },
         "mode": "lines",
         "name": "JFC",
         "orientation": "v",
         "showlegend": true,
         "stackgroup": "1",
         "type": "scatter",
         "x": [
          "Japan",
          "Japan"
         ],
         "xaxis": "x",
         "y": [
          4.5,
          3.75
         ],
         "yaxis": "y"
        },
        {
         "hovertemplate": "<b>%{hovertext}</b><br><br>Brand=Samyang<br>Country=%{x}<br>Stars=%{y}<extra></extra>",
         "hovertext": [
          "Assorted Vegetable Ramen",
          "Nagasaki Jjampong",
          "60 Ingredients",
          "Hot Beef",
          "Beef",
          "Sutah Hot Spicy Beef",
          "Beef",
          "Bowl Noodle Picante Beef",
          "Bowl Noodle Kimchi",
          "Chinese Soybean Paste",
          "Cold Ramen With Ponytail Radish",
          "Japanese Seafood Flavor Udon",
          "Seafood Party",
          "Beef",
          "Kimchi",
          "Kalgug-Su Assorted Clam",
          "Kalgug-Su (Spicy)",
          "Pojangmacha U-dong",
          "Hot"
         ],
         "legendgroup": "Samyang",
         "line": {
          "color": "#00cc96"
         },
         "mode": "lines",
         "name": "Samyang",
         "orientation": "v",
         "showlegend": true,
         "stackgroup": "1",
         "type": "scatter",
         "x": [
          "South Korea",
          "South Korea",
          "South Korea",
          "South Korea",
          "South Korea",
          "South Korea",
          "South Korea",
          "South Korea",
          "South Korea",
          "South Korea",
          "South Korea",
          "South Korea",
          "South Korea",
          "South Korea",
          "South Korea",
          "South Korea",
          "South Korea",
          "South Korea",
          "South Korea"
         ],
         "xaxis": "x",
         "y": [
          3.75,
          4.75,
          2.75,
          4.25,
          3.75,
          3.5,
          3.75,
          3.75,
          4,
          2,
          3,
          3.75,
          2.25,
          4,
          2.9,
          1.8,
          3.5,
          2.5,
          3.5
         ],
         "yaxis": "y"
        },
        {
         "hovertemplate": "<b>%{hovertext}</b><br><br>Brand=Lishan<br>Country=%{x}<br>Stars=%{y}<extra></extra>",
         "hovertext": [
          "Black Rooster Chicken"
         ],
         "legendgroup": "Lishan",
         "line": {
          "color": "#ab63fa"
         },
         "mode": "lines",
         "name": "Lishan",
         "orientation": "v",
         "showlegend": true,
         "stackgroup": "1",
         "type": "scatter",
         "x": [
          "Taiwan"
         ],
         "xaxis": "x",
         "y": [
          1.5
         ],
         "yaxis": "y"
        },
        {
         "hovertemplate": "<b>%{hovertext}</b><br><br>Brand=Cap Atoom Bulan<br>Country=%{x}<br>Stars=%{y}<extra></extra>",
         "hovertext": [
          "Mie Telor Asli"
         ],
         "legendgroup": "Cap Atoom Bulan",
         "line": {
          "color": "#FFA15A"
         },
         "mode": "lines",
         "name": "Cap Atoom Bulan",
         "orientation": "v",
         "showlegend": true,
         "stackgroup": "1",
         "type": "scatter",
         "x": [
          "Indonesia"
         ],
         "xaxis": "x",
         "y": [
          3
         ],
         "yaxis": "y"
        },
        {
         "hovertemplate": "<b>%{hovertext}</b><br><br>Brand=Sura<br>Country=%{x}<br>Stars=%{y}<extra></extra>",
         "hovertext": [
          "Knife Cut Rice Noodle"
         ],
         "legendgroup": "Sura",
         "line": {
          "color": "#19d3f3"
         },
         "mode": "lines",
         "name": "Sura",
         "orientation": "v",
         "showlegend": true,
         "stackgroup": "1",
         "type": "scatter",
         "x": [
          "South Korea"
         ],
         "xaxis": "x",
         "y": [
          3.75
         ],
         "yaxis": "y"
        },
        {
         "hovertemplate": "<b>%{hovertext}</b><br><br>Brand=Wei Chuan<br>Country=%{x}<br>Stars=%{y}<extra></extra>",
         "hovertext": [
          "Miso Vegetables",
          "Tomato Vegetables"
         ],
         "legendgroup": "Wei Chuan",
         "line": {
          "color": "#FF6692"
         },
         "mode": "lines",
         "name": "Wei Chuan",
         "orientation": "v",
         "showlegend": true,
         "stackgroup": "1",
         "type": "scatter",
         "x": [
          "Taiwan",
          "Taiwan"
         ],
         "xaxis": "x",
         "y": [
          3.25,
          4
         ],
         "yaxis": "y"
        },
        {
         "hovertemplate": "<b>%{hovertext}</b><br><br>Brand=Yamamori<br>Country=%{x}<br>Stars=%{y}<extra></extra>",
         "hovertext": [
          "Tom Yam Ramen Pork",
          "Tom Yam Prawn"
         ],
         "legendgroup": "Yamamori",
         "line": {
          "color": "#B6E880"
         },
         "mode": "lines",
         "name": "Yamamori",
         "orientation": "v",
         "showlegend": true,
         "stackgroup": "1",
         "type": "scatter",
         "x": [
          "Japan",
          "Japan"
         ],
         "xaxis": "x",
         "y": [
          4.75,
          4.5
         ],
         "yaxis": "y"
        },
        {
         "hovertemplate": "<b>%{hovertext}</b><br><br>Brand=Mr. Udon<br>Country=%{x}<br>Stars=%{y}<extra></extra>",
         "hovertext": [
          "Seafood Selection",
          "Japanese Miso",
          "Malaysian Beef Udon",
          "Chicken"
         ],
         "legendgroup": "Mr. Udon",
         "line": {
          "color": "#FF97FF"
         },
         "mode": "lines",
         "name": "Mr. Udon",
         "orientation": "v",
         "showlegend": true,
         "stackgroup": "1",
         "type": "scatter",
         "x": [
          "South Korea",
          "South Korea",
          "South Korea",
          "South Korea"
         ],
         "xaxis": "x",
         "y": [
          3.5,
          2.75,
          3,
          3.25
         ],
         "yaxis": "y"
        },
        {
         "hovertemplate": "<b>%{hovertext}</b><br><br>Brand=Wei Wei<br>Country=%{x}<br>Stars=%{y}<extra></extra>",
         "hovertext": [
          "\"A\" Series Vegetarian",
          "\"A\" Series Artificial Chicken",
          "\"A\" Series Artificial Hot Beef"
         ],
         "legendgroup": "Wei Wei",
         "line": {
          "color": "#FECB52"
         },
         "mode": "lines",
         "name": "Wei Wei",
         "orientation": "v",
         "showlegend": true,
         "stackgroup": "1",
         "type": "scatter",
         "x": [
          "Taiwan",
          "Taiwan",
          "Taiwan"
         ],
         "xaxis": "x",
         "y": [
          3.25,
          3.25,
          3.75
         ],
         "yaxis": "y"
        },
        {
         "hovertemplate": "<b>%{hovertext}</b><br><br>Brand=Six Fortune<br>Country=%{x}<br>Stars=%{y}<extra></extra>",
         "hovertext": [
          "U-Dong",
          "Instant Noodles With Soup",
          "Broad Noodles",
          "Tom Yam Instant soup Noodle",
          "Seafood Flavor",
          "Chicken Flavor Instant Soup Noodle"
         ],
         "legendgroup": "Six Fortune",
         "line": {
          "color": "#636efa"
         },
         "mode": "lines",
         "name": "Six Fortune",
         "orientation": "v",
         "showlegend": true,
         "stackgroup": "1",
         "type": "scatter",
         "x": [
          "South Korea",
          "South Korea",
          "South Korea",
          "South Korea",
          "South Korea",
          "South Korea"
         ],
         "xaxis": "x",
         "y": [
          4,
          3.5,
          3.75,
          2.75,
          2.5,
          2
         ],
         "yaxis": "y"
        },
        {
         "hovertemplate": "<b>%{hovertext}</b><br><br>Brand=Haioreum<br>Country=%{x}<br>Stars=%{y}<extra></extra>",
         "hovertext": [
          "Asian Style Noodles Seafood"
         ],
         "legendgroup": "Haioreum",
         "line": {
          "color": "#EF553B"
         },
         "mode": "lines",
         "name": "Haioreum",
         "orientation": "v",
         "showlegend": true,
         "stackgroup": "1",
         "type": "scatter",
         "x": [
          "South Korea"
         ],
         "xaxis": "x",
         "y": [
          3.5
         ],
         "yaxis": "y"
        },
        {
         "hovertemplate": "<b>%{hovertext}</b><br><br>Brand=Sunlight<br>Country=%{x}<br>Stars=%{y}<extra></extra>",
         "hovertext": [
          "Steam Vermicelli"
         ],
         "legendgroup": "Sunlight",
         "line": {
          "color": "#00cc96"
         },
         "mode": "lines",
         "name": "Sunlight",
         "orientation": "v",
         "showlegend": true,
         "stackgroup": "1",
         "type": "scatter",
         "x": [
          "Taiwan"
         ],
         "xaxis": "x",
         "y": [
          2.1
         ],
         "yaxis": "y"
        },
        {
         "hovertemplate": "<b>%{hovertext}</b><br><br>Brand=O Sung<br>Country=%{x}<br>Stars=%{y}<extra></extra>",
         "hovertext": [
          "Keopnurungji Rice Snack"
         ],
         "legendgroup": "O Sung",
         "line": {
          "color": "#ab63fa"
         },
         "mode": "lines",
         "name": "O Sung",
         "orientation": "v",
         "showlegend": true,
         "stackgroup": "1",
         "type": "scatter",
         "x": [
          "South Korea"
         ],
         "xaxis": "x",
         "y": [
          2.5
         ],
         "yaxis": "y"
        },
        {
         "hovertemplate": "<b>%{hovertext}</b><br><br>Brand=Foodmon<br>Country=%{x}<br>Stars=%{y}<extra></extra>",
         "hovertext": [
          "DJ DOC Jjolmyeon",
          "DJ DOC Instant rice Ramen Topokki"
         ],
         "legendgroup": "Foodmon",
         "line": {
          "color": "#FFA15A"
         },
         "mode": "lines",
         "name": "Foodmon",
         "orientation": "v",
         "showlegend": true,
         "stackgroup": "1",
         "type": "scatter",
         "x": [
          "South Korea",
          "South Korea"
         ],
         "xaxis": "x",
         "y": [
          5,
          5
         ],
         "yaxis": "y"
        },
        {
         "hovertemplate": "<b>%{hovertext}</b><br><br>Brand=Sahmyook<br>Country=%{x}<br>Stars=%{y}<extra></extra>",
         "hovertext": [
          "Vegetable"
         ],
         "legendgroup": "Sahmyook",
         "line": {
          "color": "#19d3f3"
         },
         "mode": "lines",
         "name": "Sahmyook",
         "orientation": "v",
         "showlegend": true,
         "stackgroup": "1",
         "type": "scatter",
         "x": [
          "South Korea"
         ],
         "xaxis": "x",
         "y": [
          3.25
         ],
         "yaxis": "y"
        },
        {
         "hovertemplate": "<b>%{hovertext}</b><br><br>Brand=Nan Hsing<br>Country=%{x}<br>Stars=%{y}<extra></extra>",
         "hovertext": [
          "Vegetarian Rice Noodles"
         ],
         "legendgroup": "Nan Hsing",
         "line": {
          "color": "#FF6692"
         },
         "mode": "lines",
         "name": "Nan Hsing",
         "orientation": "v",
         "showlegend": true,
         "stackgroup": "1",
         "type": "scatter",
         "x": [
          "Taiwan"
         ],
         "xaxis": "x",
         "y": [
          0.25
         ],
         "yaxis": "y"
        },
        {
         "hovertemplate": "<b>%{hovertext}</b><br><br>Brand=Mexi-Ramen<br>Country=%{x}<br>Stars=%{y}<extra></extra>",
         "hovertext": [
          "Soupless Ramen Shallot Teriyaki"
         ],
         "legendgroup": "Mexi-Ramen",
         "line": {
          "color": "#B6E880"
         },
         "mode": "lines",
         "name": "Mexi-Ramen",
         "orientation": "v",
         "showlegend": true,
         "stackgroup": "1",
         "type": "scatter",
         "x": [
          "USA"
         ],
         "xaxis": "x",
         "y": [
          2.5
         ],
         "yaxis": "y"
        },
        {
         "hovertemplate": "<b>%{hovertext}</b><br><br>Brand=Hsin Tung Yang<br>Country=%{x}<br>Stars=%{y}<extra></extra>",
         "hovertext": [
          "Tiny Noodle With Oyster Flavor"
         ],
         "legendgroup": "Hsin Tung Yang",
         "line": {
          "color": "#FF97FF"
         },
         "mode": "lines",
         "name": "Hsin Tung Yang",
         "orientation": "v",
         "showlegend": true,
         "stackgroup": "1",
         "type": "scatter",
         "x": [
          "Taiwan"
         ],
         "xaxis": "x",
         "y": [
          0
         ],
         "yaxis": "y"
        },
        {
         "hovertemplate": "<b>%{hovertext}</b><br><br>Brand=Sao Tao<br>Country=%{x}<br>Stars=%{y}<extra></extra>",
         "hovertext": [
          "Noodle King Hong Koing Style Wonton",
          "Noodle King Scallop Thick",
          "Noodle King Beef Hong Kong Style",
          "Ramen King Scallop Seafood"
         ],
         "legendgroup": "Sao Tao",
         "line": {
          "color": "#FECB52"
         },
         "mode": "lines",
         "name": "Sao Tao",
         "orientation": "v",
         "showlegend": true,
         "stackgroup": "1",
         "type": "scatter",
         "x": [
          "Hong Kong",
          "Hong Kong",
          "Hong Kong",
          "China"
         ],
         "xaxis": "x",
         "y": [
          2.25,
          3,
          2.5,
          4.25
         ],
         "yaxis": "y"
        },
        {
         "hovertemplate": "<b>%{hovertext}</b><br><br>Brand=iNoodle<br>Country=%{x}<br>Stars=%{y}<extra></extra>",
         "hovertext": [
          "Taiwan Style Chow Mein",
          "Udon Noodle Soup Oriental"
         ],
         "legendgroup": "iNoodle",
         "line": {
          "color": "#636efa"
         },
         "mode": "lines",
         "name": "iNoodle",
         "orientation": "v",
         "showlegend": true,
         "stackgroup": "1",
         "type": "scatter",
         "x": [
          "Taiwan",
          "Taiwan"
         ],
         "xaxis": "x",
         "y": [
          2.25,
          3.75
         ],
         "yaxis": "y"
        },
        {
         "hovertemplate": "<b>%{hovertext}</b><br><br>Brand=Chikara<br>Country=%{x}<br>Stars=%{y}<extra></extra>",
         "hovertext": [
          "Shrimp Udon"
         ],
         "legendgroup": "Chikara",
         "line": {
          "color": "#EF553B"
         },
         "mode": "lines",
         "name": "Chikara",
         "orientation": "v",
         "showlegend": true,
         "stackgroup": "1",
         "type": "scatter",
         "x": [
          "USA"
         ],
         "xaxis": "x",
         "y": [
          4.5
         ],
         "yaxis": "y"
        },
        {
         "hovertemplate": "<b>%{hovertext}</b><br><br>Brand=Q<br>Country=%{x}<br>Stars=%{y}<extra></extra>",
         "hovertext": [
          "Noodle With Sesame Sauce"
         ],
         "legendgroup": "Q",
         "line": {
          "color": "#00cc96"
         },
         "mode": "lines",
         "name": "Q",
         "orientation": "v",
         "showlegend": true,
         "stackgroup": "1",
         "type": "scatter",
         "x": [
          "Taiwan"
         ],
         "xaxis": "x",
         "y": [
          3.25
         ],
         "yaxis": "y"
        },
        {
         "hovertemplate": "<b>%{hovertext}</b><br><br>Brand=Noodle Time<br>Country=%{x}<br>Stars=%{y}<extra></extra>",
         "hovertext": [
          "Shin Cup"
         ],
         "legendgroup": "Noodle Time",
         "line": {
          "color": "#ab63fa"
         },
         "mode": "lines",
         "name": "Noodle Time",
         "orientation": "v",
         "showlegend": true,
         "stackgroup": "1",
         "type": "scatter",
         "x": [
          "South Korea"
         ],
         "xaxis": "x",
         "y": [
          3
         ],
         "yaxis": "y"
        },
        {
         "hovertemplate": "<b>%{hovertext}</b><br><br>Brand=US Canning<br>Country=%{x}<br>Stars=%{y}<extra></extra>",
         "hovertext": [
          "Fu Chang Chinese Noodle Company Pork Seafood"
         ],
         "legendgroup": "US Canning",
         "line": {
          "color": "#FFA15A"
         },
         "mode": "lines",
         "name": "US Canning",
         "orientation": "v",
         "showlegend": true,
         "stackgroup": "1",
         "type": "scatter",
         "x": [
          "USA"
         ],
         "xaxis": "x",
         "y": [
          0
         ],
         "yaxis": "y"
        },
        {
         "hovertemplate": "<b>%{hovertext}</b><br><br>Brand=Rhee Bros Assi<br>Country=%{x}<br>Stars=%{y}<extra></extra>",
         "hovertext": [
          "Pho Vietnamese Noodle Soup",
          "Rice Noodle Anchovy Flavor",
          "Rice Noodle Hot & Spicy Kimchi",
          "Rice Noodle Katsuo",
          "Rice Noodles Seafood",
          "Rice Noodle With Spicy Flavored Soup"
         ],
         "legendgroup": "Rhee Bros Assi",
         "line": {
          "color": "#19d3f3"
         },
         "mode": "lines",
         "name": "Rhee Bros Assi",
         "orientation": "v",
         "showlegend": true,
         "stackgroup": "1",
         "type": "scatter",
         "x": [
          "South Korea",
          "South Korea",
          "South Korea",
          "South Korea",
          "South Korea",
          "South Korea"
         ],
         "xaxis": "x",
         "y": [
          3.75,
          3.75,
          3.25,
          4,
          3.75,
          2.25
         ],
         "yaxis": "y"
        },
        {
         "hovertemplate": "<b>%{hovertext}</b><br><br>Brand=Bon Go Jang<br>Country=%{x}<br>Stars=%{y}<extra></extra>",
         "hovertext": [
          "Tofu Udon Dosirak",
          "Deuchi Udon"
         ],
         "legendgroup": "Bon Go Jang",
         "line": {
          "color": "#FF6692"
         },
         "mode": "lines",
         "name": "Bon Go Jang",
         "orientation": "v",
         "showlegend": true,
         "stackgroup": "1",
         "type": "scatter",
         "x": [
          "South Korea",
          "South Korea"
         ],
         "xaxis": "x",
         "y": [
          3.75,
          3
         ],
         "yaxis": "y"
        },
        {
         "hovertemplate": "<b>%{hovertext}</b><br><br>Brand=Tayho<br>Country=%{x}<br>Stars=%{y}<extra></extra>",
         "hovertext": [
          "Vermicelli With Pork"
         ],
         "legendgroup": "Tayho",
         "line": {
          "color": "#B6E880"
         },
         "mode": "lines",
         "name": "Tayho",
         "orientation": "v",
         "showlegend": true,
         "stackgroup": "1",
         "type": "scatter",
         "x": [
          "USA"
         ],
         "xaxis": "x",
         "y": [
          1.25
         ],
         "yaxis": "y"
        },
        {
         "hovertemplate": "<b>%{hovertext}</b><br><br>Brand=Sunny Maid<br>Country=%{x}<br>Stars=%{y}<extra></extra>",
         "hovertext": [
          "Mi Chay Vegetarian"
         ],
         "legendgroup": "Sunny Maid",
         "line": {
          "color": "#FF97FF"
         },
         "mode": "lines",
         "name": "Sunny Maid",
         "orientation": "v",
         "showlegend": true,
         "stackgroup": "1",
         "type": "scatter",
         "x": [
          "Taiwan"
         ],
         "xaxis": "x",
         "y": [
          1.75
         ],
         "yaxis": "y"
        },
        {
         "hovertemplate": "<b>%{hovertext}</b><br><br>Brand=Royal Umbrella<br>Country=%{x}<br>Stars=%{y}<extra></extra>",
         "hovertext": [
          "Vegetarian Tom Yum",
          "Tom Yum Shrimp"
         ],
         "legendgroup": "Royal Umbrella",
         "line": {
          "color": "#FECB52"
         },
         "mode": "lines",
         "name": "Royal Umbrella",
         "orientation": "v",
         "showlegend": true,
         "stackgroup": "1",
         "type": "scatter",
         "x": [
          "Thailand",
          "Thailand"
         ],
         "xaxis": "x",
         "y": [
          2.75,
          3.25
         ],
         "yaxis": "y"
        },
        {
         "hovertemplate": "<b>%{hovertext}</b><br><br>Brand=Tiger<br>Country=%{x}<br>Stars=%{y}<extra></extra>",
         "hovertext": [
          "Onion Flaver Rice Noodle"
         ],
         "legendgroup": "Tiger",
         "line": {
          "color": "#636efa"
         },
         "mode": "lines",
         "name": "Tiger",
         "orientation": "v",
         "showlegend": true,
         "stackgroup": "1",
         "type": "scatter",
         "x": [
          "Taiwan"
         ],
         "xaxis": "x",
         "y": [
          0
         ],
         "yaxis": "y"
        },
        {
         "hovertemplate": "<b>%{hovertext}</b><br><br>Brand=Saigon Ve Wong<br>Country=%{x}<br>Stars=%{y}<extra></extra>",
         "hovertext": [
          "Kung Fu Artificial Beef Rice Noodle"
         ],
         "legendgroup": "Saigon Ve Wong",
         "line": {
          "color": "#EF553B"
         },
         "mode": "lines",
         "name": "Saigon Ve Wong",
         "orientation": "v",
         "showlegend": true,
         "stackgroup": "1",
         "type": "scatter",
         "x": [
          "South Korea"
         ],
         "xaxis": "x",
         "y": [
          3.25
         ],
         "yaxis": "y"
        },
        {
         "hovertemplate": "<b>%{hovertext}</b><br><br>Brand=Fu Chang Chinese Noodle Company<br>Country=%{x}<br>Stars=%{y}<extra></extra>",
         "hovertext": [
          "Hot & Spicy Beef"
         ],
         "legendgroup": "Fu Chang Chinese Noodle Company",
         "line": {
          "color": "#00cc96"
         },
         "mode": "lines",
         "name": "Fu Chang Chinese Noodle Company",
         "orientation": "v",
         "showlegend": true,
         "stackgroup": "1",
         "type": "scatter",
         "x": [
          "USA"
         ],
         "xaxis": "x",
         "y": [
          4
         ],
         "yaxis": "y"
        },
        {
         "hovertemplate": "<b>%{hovertext}</b><br><br>Brand=Sanyo Foods<br>Country=%{x}<br>Stars=%{y}<extra></extra>",
         "hovertext": [
          "Aunt Mentaiko Durum Spaghetti"
         ],
         "legendgroup": "Sanyo Foods",
         "line": {
          "color": "#ab63fa"
         },
         "mode": "lines",
         "name": "Sanyo Foods",
         "orientation": "v",
         "showlegend": true,
         "stackgroup": "1",
         "type": "scatter",
         "x": [
          "Japan"
         ],
         "xaxis": "x",
         "y": [
          4.5
         ],
         "yaxis": "y"
        },
        {
         "hovertemplate": "<b>%{hovertext}</b><br><br>Brand=Rocket Brand<br>Country=%{x}<br>Stars=%{y}<extra></extra>",
         "hovertext": [
          "Satoimo Noodles"
         ],
         "legendgroup": "Rocket Brand",
         "line": {
          "color": "#FFA15A"
         },
         "mode": "lines",
         "name": "Rocket Brand",
         "orientation": "v",
         "showlegend": true,
         "stackgroup": "1",
         "type": "scatter",
         "x": [
          "China"
         ],
         "xaxis": "x",
         "y": [
          2.5
         ],
         "yaxis": "y"
        },
        {
         "hovertemplate": "<b>%{hovertext}</b><br><br>Brand=Boss<br>Country=%{x}<br>Stars=%{y}<extra></extra>",
         "hovertext": [
          "Shrimp Tom Yum Flavor"
         ],
         "legendgroup": "Boss",
         "line": {
          "color": "#19d3f3"
         },
         "mode": "lines",
         "name": "Boss",
         "orientation": "v",
         "showlegend": true,
         "stackgroup": "1",
         "type": "scatter",
         "x": [
          "Thailand"
         ],
         "xaxis": "x",
         "y": [
          2.5
         ],
         "yaxis": "y"
        },
        {
         "hovertemplate": "<b>%{hovertext}</b><br><br>Brand=Chorip Dong<br>Country=%{x}<br>Stars=%{y}<extra></extra>",
         "hovertext": [
          "Jjambbong Hot Spicy Seafood"
         ],
         "legendgroup": "Chorip Dong",
         "line": {
          "color": "#FF6692"
         },
         "mode": "lines",
         "name": "Chorip Dong",
         "orientation": "v",
         "showlegend": true,
         "stackgroup": "1",
         "type": "scatter",
         "x": [
          "South Korea"
         ],
         "xaxis": "x",
         "y": [
          4.25
         ],
         "yaxis": "y"
        },
        {
         "hovertemplate": "<b>%{hovertext}</b><br><br>Brand=Higashi<br>Country=%{x}<br>Stars=%{y}<extra></extra>",
         "hovertext": [
          "Nagasaki Sara Udon"
         ],
         "legendgroup": "Higashi",
         "line": {
          "color": "#B6E880"
         },
         "mode": "lines",
         "name": "Higashi",
         "orientation": "v",
         "showlegend": true,
         "stackgroup": "1",
         "type": "scatter",
         "x": [
          "Japan"
         ],
         "xaxis": "x",
         "y": [
          5
         ],
         "yaxis": "y"
        },
        {
         "hovertemplate": "<b>%{hovertext}</b><br><br>Brand=Sakurai<br>Country=%{x}<br>Stars=%{y}<extra></extra>",
         "hovertext": [
          "Vegetarian Flavor"
         ],
         "legendgroup": "Sakurai",
         "line": {
          "color": "#FF97FF"
         },
         "mode": "lines",
         "name": "Sakurai",
         "orientation": "v",
         "showlegend": true,
         "stackgroup": "1",
         "type": "scatter",
         "x": [
          "Japan"
         ],
         "xaxis": "x",
         "y": [
          3.5
         ],
         "yaxis": "y"
        },
        {
         "hovertemplate": "<b>%{hovertext}</b><br><br>Brand=Global Inspiration<br>Country=%{x}<br>Stars=%{y}<extra></extra>",
         "hovertext": [
          "Gyeong-Gi-Do Rice"
         ],
         "legendgroup": "Global Inspiration",
         "line": {
          "color": "#FECB52"
         },
         "mode": "lines",
         "name": "Global Inspiration",
         "orientation": "v",
         "showlegend": true,
         "stackgroup": "1",
         "type": "scatter",
         "x": [
          "South Korea"
         ],
         "xaxis": "x",
         "y": [
          2.25
         ],
         "yaxis": "y"
        },
        {
         "hovertemplate": "<b>%{hovertext}</b><br><br>Brand=Teriyaki Time<br>Country=%{x}<br>Stars=%{y}<extra></extra>",
         "hovertext": [
          "Ramen"
         ],
         "legendgroup": "Teriyaki Time",
         "line": {
          "color": "#636efa"
         },
         "mode": "lines",
         "name": "Teriyaki Time",
         "orientation": "v",
         "showlegend": true,
         "stackgroup": "1",
         "type": "scatter",
         "x": [
          "USA"
         ],
         "xaxis": "x",
         "y": [
          2
         ],
         "yaxis": "y"
        },
        {
         "hovertemplate": "<b>%{hovertext}</b><br><br>Brand=Hua Feng Noodle Expert<br>Country=%{x}<br>Stars=%{y}<extra></extra>",
         "hovertext": [
          "Favoury Pork Flavor",
          "Spicy Seafood Flavor"
         ],
         "legendgroup": "Hua Feng Noodle Expert",
         "line": {
          "color": "#EF553B"
         },
         "mode": "lines",
         "name": "Hua Feng Noodle Expert",
         "orientation": "v",
         "showlegend": true,
         "stackgroup": "1",
         "type": "scatter",
         "x": [
          "China",
          "China"
         ],
         "xaxis": "x",
         "y": [
          1,
          3
         ],
         "yaxis": "y"
        },
        {
         "hovertemplate": "<b>%{hovertext}</b><br><br>Brand=Kim Ve Wong<br>Country=%{x}<br>Stars=%{y}<extra></extra>",
         "hovertext": [
          "Jaopai Series: Vegetarian Instant Noodles"
         ],
         "legendgroup": "Kim Ve Wong",
         "line": {
          "color": "#00cc96"
         },
         "mode": "lines",
         "name": "Kim Ve Wong",
         "orientation": "v",
         "showlegend": true,
         "stackgroup": "1",
         "type": "scatter",
         "x": [
          "Taiwan"
         ],
         "xaxis": "x",
         "y": [
          0
         ],
         "yaxis": "y"
        },
        {
         "hovertemplate": "<b>%{hovertext}</b><br><br>Brand=Smack<br>Country=%{x}<br>Stars=%{y}<extra></extra>",
         "hovertext": [
          "Vegetable Beef"
         ],
         "legendgroup": "Smack",
         "line": {
          "color": "#ab63fa"
         },
         "mode": "lines",
         "name": "Smack",
         "orientation": "v",
         "showlegend": true,
         "stackgroup": "1",
         "type": "scatter",
         "x": [
          "USA"
         ],
         "xaxis": "x",
         "y": [
          1.5
         ],
         "yaxis": "y"
        },
        {
         "hovertemplate": "<b>%{hovertext}</b><br><br>Brand=Sutah<br>Country=%{x}<br>Stars=%{y}<extra></extra>",
         "hovertext": [
          "Cup Noodle"
         ],
         "legendgroup": "Sutah",
         "line": {
          "color": "#FFA15A"
         },
         "mode": "lines",
         "name": "Sutah",
         "orientation": "v",
         "showlegend": true,
         "stackgroup": "1",
         "type": "scatter",
         "x": [
          "South Korea"
         ],
         "xaxis": "x",
         "y": [
          2
         ],
         "yaxis": "y"
        },
        {
         "hovertemplate": "<b>%{hovertext}</b><br><br>Brand=Tung-I<br>Country=%{x}<br>Stars=%{y}<extra></extra>",
         "hovertext": [
          "Chinese Beef Instant Rice Noodle"
         ],
         "legendgroup": "Tung-I",
         "line": {
          "color": "#19d3f3"
         },
         "mode": "lines",
         "name": "Tung-I",
         "orientation": "v",
         "showlegend": true,
         "stackgroup": "1",
         "type": "scatter",
         "x": [
          "Taiwan"
         ],
         "xaxis": "x",
         "y": [
          3
         ],
         "yaxis": "y"
        },
        {
         "hovertemplate": "<b>%{hovertext}</b><br><br>Brand=Westbrae<br>Country=%{x}<br>Stars=%{y}<extra></extra>",
         "hovertext": [
          "Miso Ramen"
         ],
         "legendgroup": "Westbrae",
         "line": {
          "color": "#FF6692"
         },
         "mode": "lines",
         "name": "Westbrae",
         "orientation": "v",
         "showlegend": true,
         "stackgroup": "1",
         "type": "scatter",
         "x": [
          "USA"
         ],
         "xaxis": "x",
         "y": [
          0.5
         ],
         "yaxis": "y"
        }
       ],
       "layout": {
        "legend": {
         "title": {
          "text": "Brand"
         },
         "tracegroupgap": 0
        },
        "margin": {
         "t": 60
        },
        "template": {
         "data": {
          "bar": [
           {
            "error_x": {
             "color": "#2a3f5f"
            },
            "error_y": {
             "color": "#2a3f5f"
            },
            "marker": {
             "line": {
              "color": "#E5ECF6",
              "width": 0.5
             }
            },
            "type": "bar"
           }
          ],
          "barpolar": [
           {
            "marker": {
             "line": {
              "color": "#E5ECF6",
              "width": 0.5
             }
            },
            "type": "barpolar"
           }
          ],
          "carpet": [
           {
            "aaxis": {
             "endlinecolor": "#2a3f5f",
             "gridcolor": "white",
             "linecolor": "white",
             "minorgridcolor": "white",
             "startlinecolor": "#2a3f5f"
            },
            "baxis": {
             "endlinecolor": "#2a3f5f",
             "gridcolor": "white",
             "linecolor": "white",
             "minorgridcolor": "white",
             "startlinecolor": "#2a3f5f"
            },
            "type": "carpet"
           }
          ],
          "choropleth": [
           {
            "colorbar": {
             "outlinewidth": 0,
             "ticks": ""
            },
            "type": "choropleth"
           }
          ],
          "contour": [
           {
            "colorbar": {
             "outlinewidth": 0,
             "ticks": ""
            },
            "colorscale": [
             [
              0,
              "#0d0887"
             ],
             [
              0.1111111111111111,
              "#46039f"
             ],
             [
              0.2222222222222222,
              "#7201a8"
             ],
             [
              0.3333333333333333,
              "#9c179e"
             ],
             [
              0.4444444444444444,
              "#bd3786"
             ],
             [
              0.5555555555555556,
              "#d8576b"
             ],
             [
              0.6666666666666666,
              "#ed7953"
             ],
             [
              0.7777777777777778,
              "#fb9f3a"
             ],
             [
              0.8888888888888888,
              "#fdca26"
             ],
             [
              1,
              "#f0f921"
             ]
            ],
            "type": "contour"
           }
          ],
          "contourcarpet": [
           {
            "colorbar": {
             "outlinewidth": 0,
             "ticks": ""
            },
            "type": "contourcarpet"
           }
          ],
          "heatmap": [
           {
            "colorbar": {
             "outlinewidth": 0,
             "ticks": ""
            },
            "colorscale": [
             [
              0,
              "#0d0887"
             ],
             [
              0.1111111111111111,
              "#46039f"
             ],
             [
              0.2222222222222222,
              "#7201a8"
             ],
             [
              0.3333333333333333,
              "#9c179e"
             ],
             [
              0.4444444444444444,
              "#bd3786"
             ],
             [
              0.5555555555555556,
              "#d8576b"
             ],
             [
              0.6666666666666666,
              "#ed7953"
             ],
             [
              0.7777777777777778,
              "#fb9f3a"
             ],
             [
              0.8888888888888888,
              "#fdca26"
             ],
             [
              1,
              "#f0f921"
             ]
            ],
            "type": "heatmap"
           }
          ],
          "heatmapgl": [
           {
            "colorbar": {
             "outlinewidth": 0,
             "ticks": ""
            },
            "colorscale": [
             [
              0,
              "#0d0887"
             ],
             [
              0.1111111111111111,
              "#46039f"
             ],
             [
              0.2222222222222222,
              "#7201a8"
             ],
             [
              0.3333333333333333,
              "#9c179e"
             ],
             [
              0.4444444444444444,
              "#bd3786"
             ],
             [
              0.5555555555555556,
              "#d8576b"
             ],
             [
              0.6666666666666666,
              "#ed7953"
             ],
             [
              0.7777777777777778,
              "#fb9f3a"
             ],
             [
              0.8888888888888888,
              "#fdca26"
             ],
             [
              1,
              "#f0f921"
             ]
            ],
            "type": "heatmapgl"
           }
          ],
          "histogram": [
           {
            "marker": {
             "colorbar": {
              "outlinewidth": 0,
              "ticks": ""
             }
            },
            "type": "histogram"
           }
          ],
          "histogram2d": [
           {
            "colorbar": {
             "outlinewidth": 0,
             "ticks": ""
            },
            "colorscale": [
             [
              0,
              "#0d0887"
             ],
             [
              0.1111111111111111,
              "#46039f"
             ],
             [
              0.2222222222222222,
              "#7201a8"
             ],
             [
              0.3333333333333333,
              "#9c179e"
             ],
             [
              0.4444444444444444,
              "#bd3786"
             ],
             [
              0.5555555555555556,
              "#d8576b"
             ],
             [
              0.6666666666666666,
              "#ed7953"
             ],
             [
              0.7777777777777778,
              "#fb9f3a"
             ],
             [
              0.8888888888888888,
              "#fdca26"
             ],
             [
              1,
              "#f0f921"
             ]
            ],
            "type": "histogram2d"
           }
          ],
          "histogram2dcontour": [
           {
            "colorbar": {
             "outlinewidth": 0,
             "ticks": ""
            },
            "colorscale": [
             [
              0,
              "#0d0887"
             ],
             [
              0.1111111111111111,
              "#46039f"
             ],
             [
              0.2222222222222222,
              "#7201a8"
             ],
             [
              0.3333333333333333,
              "#9c179e"
             ],
             [
              0.4444444444444444,
              "#bd3786"
             ],
             [
              0.5555555555555556,
              "#d8576b"
             ],
             [
              0.6666666666666666,
              "#ed7953"
             ],
             [
              0.7777777777777778,
              "#fb9f3a"
             ],
             [
              0.8888888888888888,
              "#fdca26"
             ],
             [
              1,
              "#f0f921"
             ]
            ],
            "type": "histogram2dcontour"
           }
          ],
          "mesh3d": [
           {
            "colorbar": {
             "outlinewidth": 0,
             "ticks": ""
            },
            "type": "mesh3d"
           }
          ],
          "parcoords": [
           {
            "line": {
             "colorbar": {
              "outlinewidth": 0,
              "ticks": ""
             }
            },
            "type": "parcoords"
           }
          ],
          "pie": [
           {
            "automargin": true,
            "type": "pie"
           }
          ],
          "scatter": [
           {
            "marker": {
             "colorbar": {
              "outlinewidth": 0,
              "ticks": ""
             }
            },
            "type": "scatter"
           }
          ],
          "scatter3d": [
           {
            "line": {
             "colorbar": {
              "outlinewidth": 0,
              "ticks": ""
             }
            },
            "marker": {
             "colorbar": {
              "outlinewidth": 0,
              "ticks": ""
             }
            },
            "type": "scatter3d"
           }
          ],
          "scattercarpet": [
           {
            "marker": {
             "colorbar": {
              "outlinewidth": 0,
              "ticks": ""
             }
            },
            "type": "scattercarpet"
           }
          ],
          "scattergeo": [
           {
            "marker": {
             "colorbar": {
              "outlinewidth": 0,
              "ticks": ""
             }
            },
            "type": "scattergeo"
           }
          ],
          "scattergl": [
           {
            "marker": {
             "colorbar": {
              "outlinewidth": 0,
              "ticks": ""
             }
            },
            "type": "scattergl"
           }
          ],
          "scattermapbox": [
           {
            "marker": {
             "colorbar": {
              "outlinewidth": 0,
              "ticks": ""
             }
            },
            "type": "scattermapbox"
           }
          ],
          "scatterpolar": [
           {
            "marker": {
             "colorbar": {
              "outlinewidth": 0,
              "ticks": ""
             }
            },
            "type": "scatterpolar"
           }
          ],
          "scatterpolargl": [
           {
            "marker": {
             "colorbar": {
              "outlinewidth": 0,
              "ticks": ""
             }
            },
            "type": "scatterpolargl"
           }
          ],
          "scatterternary": [
           {
            "marker": {
             "colorbar": {
              "outlinewidth": 0,
              "ticks": ""
             }
            },
            "type": "scatterternary"
           }
          ],
          "surface": [
           {
            "colorbar": {
             "outlinewidth": 0,
             "ticks": ""
            },
            "colorscale": [
             [
              0,
              "#0d0887"
             ],
             [
              0.1111111111111111,
              "#46039f"
             ],
             [
              0.2222222222222222,
              "#7201a8"
             ],
             [
              0.3333333333333333,
              "#9c179e"
             ],
             [
              0.4444444444444444,
              "#bd3786"
             ],
             [
              0.5555555555555556,
              "#d8576b"
             ],
             [
              0.6666666666666666,
              "#ed7953"
             ],
             [
              0.7777777777777778,
              "#fb9f3a"
             ],
             [
              0.8888888888888888,
              "#fdca26"
             ],
             [
              1,
              "#f0f921"
             ]
            ],
            "type": "surface"
           }
          ],
          "table": [
           {
            "cells": {
             "fill": {
              "color": "#EBF0F8"
             },
             "line": {
              "color": "white"
             }
            },
            "header": {
             "fill": {
              "color": "#C8D4E3"
             },
             "line": {
              "color": "white"
             }
            },
            "type": "table"
           }
          ]
         },
         "layout": {
          "annotationdefaults": {
           "arrowcolor": "#2a3f5f",
           "arrowhead": 0,
           "arrowwidth": 1
          },
          "autotypenumbers": "strict",
          "coloraxis": {
           "colorbar": {
            "outlinewidth": 0,
            "ticks": ""
           }
          },
          "colorscale": {
           "diverging": [
            [
             0,
             "#8e0152"
            ],
            [
             0.1,
             "#c51b7d"
            ],
            [
             0.2,
             "#de77ae"
            ],
            [
             0.3,
             "#f1b6da"
            ],
            [
             0.4,
             "#fde0ef"
            ],
            [
             0.5,
             "#f7f7f7"
            ],
            [
             0.6,
             "#e6f5d0"
            ],
            [
             0.7,
             "#b8e186"
            ],
            [
             0.8,
             "#7fbc41"
            ],
            [
             0.9,
             "#4d9221"
            ],
            [
             1,
             "#276419"
            ]
           ],
           "sequential": [
            [
             0,
             "#0d0887"
            ],
            [
             0.1111111111111111,
             "#46039f"
            ],
            [
             0.2222222222222222,
             "#7201a8"
            ],
            [
             0.3333333333333333,
             "#9c179e"
            ],
            [
             0.4444444444444444,
             "#bd3786"
            ],
            [
             0.5555555555555556,
             "#d8576b"
            ],
            [
             0.6666666666666666,
             "#ed7953"
            ],
            [
             0.7777777777777778,
             "#fb9f3a"
            ],
            [
             0.8888888888888888,
             "#fdca26"
            ],
            [
             1,
             "#f0f921"
            ]
           ],
           "sequentialminus": [
            [
             0,
             "#0d0887"
            ],
            [
             0.1111111111111111,
             "#46039f"
            ],
            [
             0.2222222222222222,
             "#7201a8"
            ],
            [
             0.3333333333333333,
             "#9c179e"
            ],
            [
             0.4444444444444444,
             "#bd3786"
            ],
            [
             0.5555555555555556,
             "#d8576b"
            ],
            [
             0.6666666666666666,
             "#ed7953"
            ],
            [
             0.7777777777777778,
             "#fb9f3a"
            ],
            [
             0.8888888888888888,
             "#fdca26"
            ],
            [
             1,
             "#f0f921"
            ]
           ]
          },
          "colorway": [
           "#636efa",
           "#EF553B",
           "#00cc96",
           "#ab63fa",
           "#FFA15A",
           "#19d3f3",
           "#FF6692",
           "#B6E880",
           "#FF97FF",
           "#FECB52"
          ],
          "font": {
           "color": "#2a3f5f"
          },
          "geo": {
           "bgcolor": "white",
           "lakecolor": "white",
           "landcolor": "#E5ECF6",
           "showlakes": true,
           "showland": true,
           "subunitcolor": "white"
          },
          "hoverlabel": {
           "align": "left"
          },
          "hovermode": "closest",
          "mapbox": {
           "style": "light"
          },
          "paper_bgcolor": "white",
          "plot_bgcolor": "#E5ECF6",
          "polar": {
           "angularaxis": {
            "gridcolor": "white",
            "linecolor": "white",
            "ticks": ""
           },
           "bgcolor": "#E5ECF6",
           "radialaxis": {
            "gridcolor": "white",
            "linecolor": "white",
            "ticks": ""
           }
          },
          "scene": {
           "xaxis": {
            "backgroundcolor": "#E5ECF6",
            "gridcolor": "white",
            "gridwidth": 2,
            "linecolor": "white",
            "showbackground": true,
            "ticks": "",
            "zerolinecolor": "white"
           },
           "yaxis": {
            "backgroundcolor": "#E5ECF6",
            "gridcolor": "white",
            "gridwidth": 2,
            "linecolor": "white",
            "showbackground": true,
            "ticks": "",
            "zerolinecolor": "white"
           },
           "zaxis": {
            "backgroundcolor": "#E5ECF6",
            "gridcolor": "white",
            "gridwidth": 2,
            "linecolor": "white",
            "showbackground": true,
            "ticks": "",
            "zerolinecolor": "white"
           }
          },
          "shapedefaults": {
           "line": {
            "color": "#2a3f5f"
           }
          },
          "ternary": {
           "aaxis": {
            "gridcolor": "white",
            "linecolor": "white",
            "ticks": ""
           },
           "baxis": {
            "gridcolor": "white",
            "linecolor": "white",
            "ticks": ""
           },
           "bgcolor": "#E5ECF6",
           "caxis": {
            "gridcolor": "white",
            "linecolor": "white",
            "ticks": ""
           }
          },
          "title": {
           "x": 0.05
          },
          "xaxis": {
           "automargin": true,
           "gridcolor": "white",
           "linecolor": "white",
           "ticks": "",
           "title": {
            "standoff": 15
           },
           "zerolinecolor": "white",
           "zerolinewidth": 2
          },
          "yaxis": {
           "automargin": true,
           "gridcolor": "white",
           "linecolor": "white",
           "ticks": "",
           "title": {
            "standoff": 15
           },
           "zerolinecolor": "white",
           "zerolinewidth": 2
          }
         }
        },
        "xaxis": {
         "anchor": "y",
         "domain": [
          0,
          1
         ],
         "title": {
          "text": "Country"
         }
        },
        "yaxis": {
         "anchor": "x",
         "domain": [
          0,
          1
         ],
         "title": {
          "text": "Stars"
         }
        }
       }
      },
      "text/html": [
       "<div>                            <div id=\"02140f3a-d264-4857-bf46-534e7828f342\" class=\"plotly-graph-div\" style=\"height:525px; width:100%;\"></div>            <script type=\"text/javascript\">                require([\"plotly\"], function(Plotly) {                    window.PLOTLYENV=window.PLOTLYENV || {};                                    if (document.getElementById(\"02140f3a-d264-4857-bf46-534e7828f342\")) {                    Plotly.newPlot(                        \"02140f3a-d264-4857-bf46-534e7828f342\",                        [{\"hovertemplate\": \"<b>%{hovertext}</b><br><br>Brand=New Touch<br>Country=%{x}<br>Stars=%{y}<extra></extra>\", \"hovertext\": [\"T's Restaurant Tantanmen \", \"Sugo-Men Kyoto Backfat Shoyu Ramen\", \"T's Restaurant Sura Tanmen\", \"Sugomen Sano Ramen\", \"Sugomen Niigata Seabura Shoyu Ramen\", \"Negi Miso No Ippin Ramen\", \"Homestyle Tonjiru\", \"Kimchi Noodle\", \"Yakisoba Noodle\"], \"legendgroup\": \"New Touch\", \"line\": {\"color\": \"#636efa\"}, \"mode\": \"lines\", \"name\": \"New Touch\", \"orientation\": \"v\", \"showlegend\": true, \"stackgroup\": \"1\", \"type\": \"scatter\", \"x\": [\"Japan\", \"Japan\", \"Japan\", \"Japan\", \"Japan\", \"Japan\", \"Japan\", \"Japan\", \"Japan\"], \"xaxis\": \"x\", \"y\": [3.75, 3.75, 4.0, 5.0, 5.0, 5.0, 4.5, 3.5, 4.0], \"yaxis\": \"y\"}, {\"hovertemplate\": \"<b>%{hovertext}</b><br><br>Brand=Just Way<br>Country=%{x}<br>Stars=%{y}<extra></extra>\", \"hovertext\": [\"Noodles Spicy Hot Sesame Spicy Hot Sesame Guan-miao Noodles\", \"Chuan Wei Spicy Guan-miao Noodles\"], \"legendgroup\": \"Just Way\", \"line\": {\"color\": \"#EF553B\"}, \"mode\": \"lines\", \"name\": \"Just Way\", \"orientation\": \"v\", \"showlegend\": true, \"stackgroup\": \"1\", \"type\": \"scatter\", \"x\": [\"Taiwan\", \"Taiwan\"], \"xaxis\": \"x\", \"y\": [1.0, 4.5], \"yaxis\": \"y\"}, {\"hovertemplate\": \"<b>%{hovertext}</b><br><br>Brand=Nissin<br>Country=%{x}<br>Stars=%{y}<extra></extra>\", \"hovertext\": [\"Cup Noodles Chicken Vegetable\", \"Deka Buto Kimchi Pork Flavor\", \"Demae Ramen Bar Noodle Aka Tonkotsu Flavour Instant Noodle\", \"Cup Noodles Laksa Flavour\", \"Hakata Ramen Noodle White Tonkotsu\", \"Gekikara Ramen Extra Hot Ramen Goreng\", \"Cup Noodles Very Veggie Spicy Chicken Flavor Ramen Noodle Soup\", \"Demae Iccho Tonkotsu Flavour Instant Noodle\", \"Cup Noodles Very Veggie Beef Flavor Ramen Noodle Soup\", \"Cup NoodlesTom Yam Seafood (More Shrimptacular)\", \"Cup Noodles Very Veggie Chicken Flavor Ramen Noodle Soup\", \"Nippon Onomichi Ramen\", \"Straits Reborn Laksa\", \"Cup Noodles Potato Chips Black Pepper Crab Flavour\", \"Cup Noodles Blacl Pepper Crab Flavour (More Angry Crab)\", \"Cup Noodles Mini Seafood Flavour\", \"Cup Noodles XO Sauce Seafood\", \"Gekikara Ramen Rasa Pedas\", \"Cup Noodles MUG Shoyu & Seafood\", \"Raoh Nojyuku Toro Tonkotsu Ramen\", \"Cup Noodles Indonesia Mie Goreng\", \"Seafood Flavour Rice Vermicelli\", \"Cup Noodles Spicy Seafood Flavor\", \"Kitsune Udon Donbei (West)\", \"Cup Noodles Beef Flavour\", \"Cup Noodles Mini Spicy Seafood\", \"Cup Noodles Tom Yam Seafood Flavour\", \"Cup Noodles Prawn Flavour\", \"Rice Vermicelli Pickled Vegetable Pork Flavour\", \"Demae Iccho Sesame Oil Flavour Instant Noodle\", \"Cup Noodles Beef Flavor Ramen Noodle Soup (New Recipe)\", \"Demae Iccho Seafood Flavour Instant Noodle\", \"Cup Noodles Hot & Spicy Shrimp Flavor Ramen Noodle Soup (New Recipe)\", \"Disney Cuties Instant Chicken With Corn Flavour\", \"Demae Iccho Chicken Flavour Instant Noodle (Bowl Noodle)\", \"Cup Noodles Rich Garlic, Egg Yolk & Oxtail\", \"Cup Noodles BIG XO Sauce Seafood Flavour\", \"Demae Iccho Tonkotsu Flavour Instant Noodle (Bowl Noodle)\", \"Cup Noodles Spicy Lime Flavor Ramen Noodle Soup (New Recipe)\", \"Demae Iccho Tokyo Shoru Tonkotsu Instant Noodle\", \"Nupasta Bolognese Flavour Instant Noodle\", \"Cup Noodle Spicy Curry Chicken\", \"Cup Noodles Spicy Beef Flavour\", \"Cup Noodles Big Seafood Flavour\", \"Demae Iccho Black Garlic Oil Tonkotsu Flavour Instant Noodles\", \"Yakisoba\", \"Demae Ramen Spicy Xo Sauce Seafood Flavour Instant Noodle\", \"Cup Noodles Spicy Chile Chicken (New Recipe)\", \"Cup Noodles Seafood\", \"Nupasta Bacon In Carbonara Sauce Flavour Instant Noodle\", \"Demae Ramen Straight Noodle Black Garlic Oil Tonkotsu Flavour Instant Noodle\", \"Cup Noodles Tom Yum Goong Flavour\", \"Korean Kimchi Flavour Vermicelli\", \"Raoh Pork Bone Soy Soup Noodle\", \"Demae Iccho Red Hot Seafood Flavour Instant Noodle\", \"Demae Iccho Spicy Tonkotsu Flavour Instant Noodle (Bowl Noodle)\", \"Raoh Tantanmen\", \"Cup Noodles With Shrimp Ramen Noodle Soup (New Recipe)\", \"Demae Iccho Spicy Kimchi Pot Flavour Instant Noodle (Bowl Noodle)\", \"Nupasta Neapolitan Flavour Instant Noodle\", \"Disney Cuties Instant Noodle Crab Flavour\", \"Cup Noodles Rich Soft Shelled Turle Soup\", \"Disney Cuties Instant Noodle Seaweed Flavour\", \"Demae Iccho Spicy XO Sauce Seafood Flavour\", \"Sapporo Noukou Miso Ramen\", \"Vietnamese Chicken Coriander Flavour Vermicelli\", \"Cup Noodles Black Pepper Crab Flavour\", \"Cup Noodles Chicken Flavor Ramen Noodle Soup (New Recipe)\", \"Cup Noodle Light+ Bagna Cauda\", \"Cup Noodles Milk Seafood Flavour\", \"Spicy Chikin Donburi\", \"Raoh Shoyu Ramen\", \"Cup Noodle Seafood\", \"Demae Ramen Spicy Seafood Flavour Instant Noodle\", \"Disney Cuties Instant Noodle Roast Pork Flavour\", \"Demae Ramen Spicy Hot tonkotsu Flavour Instant Noodle\", \"Big Cup Noodles Tonkotsu Flavour\", \"Deka Buto Kuro M-yu Tonkotsu\", \"Nupasta Vongole Flavour Instant Noodle\", \"Gyorai Inaniwa Chuka Soba\", \"Demae Ramen Sesame Oil Flavour Cup\", \"Raoh Hot & Sour Ramen\", \"Piritto Karakuchi Tantan Udon\", \"Men Shokunin Kaoruyasai Shio\", \"Demae Ramen Spicy Curry Flavour Instant Noodles\", \"Demae Ramen Roast Beef Flavour Instant Noodles\", \"Kimchi Chikin Ramen Donburi\", \"Mennippon Oumi Chanpon\", \"Cup Noodles Tom Yum Shrimp Sabb Flavour\", \"Chilli Noodles Stir Fried Holy Basil Flavour\", \"Instant Noodles Moo Manao Flavour\", \"Super Tom Yum Shrimp\", \"Cup Noodles Minced Pork Flavour\", \"Chilli Noodles Tom Yum Shrimp Creamy Soup Flavour\", \"Instant Noodles Tom Yum Shrimp Saab Flavour\", \"Cup Noodles Moo Manao Flavour\", \"Instant Noodles Minced Pork Flavour\", \"Cup Noodles Seafood Creamy Flavour\", \"Chilli Noodles Spicy Tom Yum Flavour\", \"Cup Noodles Chilli Crab Flavour\", \"Cup Noodles Singapore Laksa\", \"Straits Kitchen Laksa\", \"Nupasta Salmon In White Sauce Flavour Instant Noodle\", \"Big Cup Noodles Seafood Curry Flavour\", \"Demae Iccho Beef Flavour Instant Noodle\", \"Mie Goreng Indonesia Stir Noodle Original Flavour\", \"Demae Ramen Sesame Flavour Instant Noodles\", \"Demae Ramen Straight Noodle Kyushu Tonkotsu Instant Noodle\", \"Taisho Fried Noodle Sesame Paste Flavour Instant Noodle\", \"Cup Noodles Pork Chowder Flavour\", \"Cup Mifun Spicy Beef Flavour\", \"Nupasta Carbonara Flavour Instant Noodle\", \"Demae Iccho Curry Beef Flavour\", \"Cup Noodles Big Spicy Seafood Flavour\", \"Demae Iccho Black Garlic Oil Tonkotsu\", \"Cup Noodle Light+ Cheese Fondue\", \"Tokyo Tokunou Gyokai Tonkotsu\", \"Shinshu Miso Ramen\", \"Donbei Dashi Shoyu Yakiudon\", \"Raoh Rich Miso Flavor\", \"Cup Noodles Tom Yum Goong\", \"Cup Noodle Big Seafood Clam Chowder\", \"Chikin Ramen Donburi\", \"Curry Udon\", \"Men Shokunin Shoyu\", \"Cup Noodle Vegeta Buta-kyabetsu Tonkotsu\", \"Cup Noodle Pasta Style Tarako Spaghetti\", \"Cup Noodle Big Cheese Mexican Chilli\", \"Gyoretsu-no-Dekiru-Mise-no-Ramen (Shrimp Tantanmen)\", \"Raoh Tonkotsu\", \"Cup Noodle Light Plus Ratatouille\", \"Cup Noodle Milk Chikin Ramen\", \"Cup Noodle\", \"Yokohama Walker Iekei Ramen\", \"Chinese Tan Tan Vermicelli\", \"BIG Cup Noodle Ajillo\", \"Top Ramen Chicken Flavor Ramen Noodle Soup (New Packaging)\", \"Raoh Ramen Noodle Soup Umami Soy Sauce Flavor\", \"Cup Noodles Ramen Noodle Soup Hearty Chicken Flavor [New Package]\", \"Raoh Shio Ramen\", \"Cup Noodle Pasta Style Bolognese\", \"Donbei Kamodashi Soba\", \"Bowl Noodles Hot & Spicy Chicken Flavor Less Sodium Ramen Noodle Soup\", \"Cup Noodles Ramen Noodle Soup Chicken Flavor [New Package]\", \"Emergency Chikin Ramen Cup Noodle\", \"Chow Mein Pad Thai\", \"Kuroma-yu Tonkotsu Kumamoto Ramen\", \"Cup Noodle Massaman Curry\", \"Cup Noodle Sio\", \"Cup Noodles Homestyle Chicken\", \"Cup Noodles Kyushu White Flavour\", \"Cup Noodles Minced Pork Flavour\", \"Raoh Ramen Noodle Soup Umami Tonkotsu Flavor\", \"Cupo Noodle Pasta Style Vongole\", \"Raoh Ramen Noodle Soup Umami Miso Flavor\", \"Chow Mein Savory Sauce And Restayrant Quality Noodles Roast Chicken Flavor \", \"Cup Noodles Ramen Noodles Ramen Noodle Soup Beef Flavor (New Package) \", \"Chow Mein Premium Savory Sauce And Restaurant Quality Noodles Sriracha Flavor\", \"Cup Noodles Ramen Noodles With Shrimp (New Package) \", \"Cup Noodles Moo Manao Flavour\", \"Raoh Tanrei Koku Shio Ramen\", \"Donbei Tempura Soba Mini\", \"Gonbuto Kistune Udon\", \"Chu Qian Yi Ding Tom Yum Instant Noodles With Soup Base\", \"Demae Iccho Mushroom With Vegetables Flavour Macaroni\", \"Original Chow Mein Premium Spicy Chicken Flavor\", \"Gonbuto Tempura Udon\", \"Emergency Cup Noodle\", \"Demae Rice Vermicelli Beef Flavour\", \"Chu Qian Yi Ding Spicy Sesame Flavour Instant Noodles With Soup Base\", \"Donbei Kitsune Udon Mini\", \"Chu Qian Yi Ding Prawn Flavour Instant Noodles With Soup Base\", \"Easy Fideos Picante Lime Shrimp Flavor Ramen Noodle Soup\", \"Cup Noodles Easy Fideos Tomato Chicken Flavor Ramen Noodle Soup\", \"Cup Noodles Black Pepper Crab Flavour\", \"Premium Instant Noodles Spicy Beef Flavour\", \"Cup Noodles Tom Yam Veg Flavour\", \"Premium Instant Noodles Roasted Beef Flavour\", \"Chu Qian Yi Ding Sesame Oil Flavour\", \"Cup Noodles Chicken Flavour\", \"Premium Instant Noodles XO Sauce Seafood Flavour\", \"Cup Noodles Chilli Crab Flavour\", \"Japanese Ramen Kyushu Black Instant Noodles With Soup Base\", \"Premium Instant Noodles Spicy Beef Flavour\", \"Cup Noodles Tom Yam Seafood Flavour\", \"Japanese Ramen Tokyo Shoyu Instant Noodles With Soup Base\", \"Cup Noodles Seafood Curry Flavour\", \"Premium Instant Noodles Roasted Beef Flavour\", \"Cup Noodles Cream Of Chicken Flavour\", \"Souper Meal Chili Picante Chicken With Lime Flavor Ramen Noodle Soup\", \"Pan Asian Kitchen Spicy Szechuan Chicken Flavor Ramen Noodles\", \"Fried Noodle Specialist Tom Yam Mee Goreng Flavour\", \"Spa Oh Tarako Spaghetti\", \"Cup Noodle Cheese Curry\", \"Demae Ramen Shoyu Tonkotsu Artificial Pork Flavour\", \"Cup Noodle Curry X Gunpla RX-78-2 Gundam\", \"Chow Mein Teriyaki Chicken Flavor Chow Mein Noodles\", \"Demae Rice Vermicelli Chicken Flavour Instant Rice Vermicelli With Soup Base\", \"Donbei Kansai Soy Sauce Flavor Udon\", \"Demae Ramen Miso Tonkotsu Artificial Pork Flavor Ramen Noodle\", \"Pan Asian Kitchen Sweet & Sour Chicken Flavor Ramen Noodles\", \"Ultraman Instant Noodle Pork Flavour\", \"Demae Iccho Instant Noodle With Soup Base Artificial Chicken Flavour\", \"UFO Yakisoba With Wasabi Mayonnaise\", \"Cup Noodle Chilli Tomato\", \"Bowl Noodles Chicken Flavor\", \"Donbei Curry Udon (West Japanese)\", \"Chow Mein With Shrimp Chow Mein Noodles\", \"Chanpon Ramen\", \"Demae Iccho XO Sauce Seafood Flavour\", \"Yakisoba\", \"Big Cup Noodles Habanero Lime Shrimp Flavor Ramen Noodle Soup\", \"Pan Asian Kitchen Sukiyaki Beef Flavor Savory Soy Sauce Ramen Noodles\", \"Demae Ramen Kimchi Flavour Instant Noodle With Soup Base\", \"Raoh Rich Soy Sauce With Roast Pork (2 Slices)\", \"GooTa Demi Hamburg-Men\", \"Raoh Soy Sauce Taste\", \"Raoh Rich Miso Flavor\", \"Cup Noodle Red Shock\", \"Chow Mein Chicken\", \"King Cup Noodle BBQ Chicken & Onion\", \"Big Cup Noodles Habanero Lime Chicken Flavor Ramen Noodle Soup\", \"King Spa Oh Peperoncino Spaghetti (\\u65e5\\u6e05\\u751f\\u30bf\\u30a4\\u30d7Spa\\u738b \\u30da\\u30da\\u30ed\\u30f3\\u30c1\\u30fc\\u30ce)\", \"Demae Ramen Sesame Oil Flavour Noodles With Soup Base\", \"Chow Mein Spicy Teriyaki Beef\", \"Pan Asian Kitchen Spicy Pad Thai\", \"Donbei Tensoba\", \"Raoh Backfat Rich Soy Sauce Flavor\", \"Bowl Noodles Hot & Spicy Super Picante\", \"Ramen Shop Sapporo Miso\", \"Top Ramen Cucharealo Habanero Shrimp\", \"Top Ramen Short Cuts Lime Chili\", \"Top Ramen Short Cuts Roast Chicken\", \"Top Ramen Short Cuts Chicken\", \"Top Ramen Cucharealo Tomato Chicken\", \"Top Ramen Short Cuts Beef\", \"Top Ramen Cucharealo Picante Chicken\", \"Cup Noodles Salsa Picante Chicken\", \"Cup Noodles Shrimp Picante Style\", \"Big Cup Noodles Roast Chicken\", \"Spoon-it Chicken\", \"U.F.O. Yakiosoba\", \"Spoon-it Beef\", \"Ramen Bowl Spicy Chicken\", \"Spoon-it Creamy Chicken\", \"Chow Mein Spicy Chicken\", \"Chow Mein Chinese Chicken Vegetable\", \"Spoon-it Rich Hearty Beef Stew\", \"Demae Ramen Black Garlic Oil Tonkotsu\", \"Big Cup Noodles Lime Chili Shrimp\", \"Chikin Ramen (Local)\", \"Cup Noodles Salsa Picante Shrimp\", \"Chow Mein Orange Chicken\", \"Spoon-it Rich Hearty Savory Chicken\", \"Big Cup Noodles Spicy Chicken\", \"Cup Noodles Xo Sauce Seafood\", \"Gozen Tempura\", \"Ramen Bowl Kimchi\", \"Ramen Bowl Spicy Shrimp\", \"Ramen Bowl Hot & Spicy\", \"Gozen Kitsune Udon\", \"Demae Iccho Sesame Oil Chicken Macaroni\", \"Taisho Fried Noodle Yakisoba\", \"Top Ramen Chicken\", \"Demae Ramen Chicken\", \"Cup Noodles Spicy Seafood\", \"Demae Iccho Seafood & Abalone Macaroni\", \"Souper Meal Picante Shrimp Hot Spicy\", \"Top Ramen Shrimp\", \"Cup Noodles Seafood Curry\", \"Yakisoba Noodles Karashi\", \"Bowl Noodles Rich & Savory Beef\", \"Demae Iccho Tom Yam Goong Macaroni\", \"Chow Mein Thai Peanut\", \"Cup Noodles Chicken Vegetable\", \"Chow Noodles Alfredo\", \"Cup Noodles Prawn\", \"Demae Iccho Tonkotsu Macaroni\", \"Cup Noodles Hearty Chicken\", \"Bowl Noodles Hot & Spicy Beef\", \"Top Ramen Chili\", \"Top Ramen Picante Beef\", \"Souper Meal Tomato Garlic Shrimp\", \"Big Cup Noodles Chicken\", \"Big Cup Noodles Beef\", \"Big Cup Noodles Shrimp\", \"Cup Noodles Crab\", \"Cup Noodles Seafood\", \"Cup Noodles Spicy Chile Chicken\", \"Cup Noodles Chicken\", \"Chow Mein Kung Pao Chicken\", \"Bowl Noodles Hot & Spicy Shrimp\", \"Cup Noodles Beef\", \"Cup Noodles Shrimp\", \"Karashi Mayo Yakisoba\", \"Chow Noodles Tomato Basil\", \"Chow Noodles Cheddar Cheese\", \"Top Ramen Beef\", \"Souper Meal Beef Flavor Minestrone\", \"Bowl Noodles Hot & Spicy Chicken\", \"Creamy Chicken\", \"Chow Mein Teriyaki Beef\", \"Bowl Noodles Rich & Savory Chicken\", \"Yakisoba With Mayonnaise/Mustard Packet\", \"Demae Ramen Sesame\", \"Demae Ramen Spicy Flavor\", \"Demae Ramen Miso\", \"Demae Ramen Seafood\", \"Demae Ramen Prawn\", \"Demae Ramen Shoyu\", \"Demae Ramen Five Spices Artificial Beef\", \"Demae Ramen Tonkatsu Artificial Pork\", \"Demae Ramen Satay\", \"Demae Ramen XO Sauce Seafood\", \"Top Ramen Oriental\", \"Souper Meal Chicken Flavor With Vegetable Medley\", \"Chikin Ramen\", \"Demae Ramen Curry Flavor\", \"Soba Noodles With Mayo Mustard Squirt\", \"Demae Ramen Spicy Flavor\", \"Demae Ramen Spicy Seafood With Chili Pepper\", \"Top Ramen Creamy Chicken\"], \"legendgroup\": \"Nissin\", \"line\": {\"color\": \"#00cc96\"}, \"mode\": \"lines\", \"name\": \"Nissin\", \"orientation\": \"v\", \"showlegend\": true, \"stackgroup\": \"1\", \"type\": \"scatter\", \"x\": [\"USA\", \"Japan\", \"Hong Kong\", \"Hong Kong\", \"Japan\", \"Indonesia\", \"USA\", \"Hong Kong\", \"USA\", \"Singapore\", \"USA\", \"Japan\", \"Singapore\", \"Singapore\", \"Singapore\", \"Hong Kong\", \"China\", \"Indonesia\", \"Japan\", \"Japan\", \"Japan\", \"Hong Kong\", \"China\", \"Japan\", \"Hong Kong\", \"Hong Kong\", \"Singapore\", \"Hong Kong\", \"Hong Kong\", \"Hong Kong\", \"USA\", \"Hong Kong\", \"USA\", \"Thailand\", \"Hong Kong\", \"Japan\", \"Hong Kong\", \"Hong Kong\", \"USA\", \"Hong Kong\", \"Japan\", \"Japan\", \"Hong Kong\", \"Hong Kong\", \"Hong Kong\", \"Japan\", \"Hong Kong\", \"USA\", \"China\", \"Hong Kong\", \"Hong Kong\", \"Hong Kong\", \"Hong Kong\", \"Japan\", \"Hong Kong\", \"Hong Kong\", \"Japan\", \"USA\", \"Hong Kong\", \"Hong Kong\", \"Thailand\", \"Japan\", \"Thailand\", \"Hong Kong\", \"Japan\", \"Hong Kong\", \"Hong Kong\", \"USA\", \"Japan\", \"Hong Kong\", \"Japan\", \"Japan\", \"Japan\", \"Hong Kong\", \"Thailand\", \"Hong Kong\", \"Hong Kong\", \"Japan\", \"Hong Kong\", \"Japan\", \"Hong Kong\", \"Japan\", \"Japan\", \"Japan\", \"Hong Kong\", \"Hong Kong\", \"Japan\", \"Japan\", \"Thailand\", \"Thailand\", \"Thailand\", \"Thailand\", \"Thailand\", \"Thailand\", \"Thailand\", \"Thailand\", \"Thailand\", \"Thailand\", \"Thailand\", \"Hong Kong\", \"Japan\", \"Singapore\", \"Hong Kong\", \"Hong Kong\", \"Hong Kong\", \"Hong Kong\", \"Hong Kong\", \"Hong Kong\", \"Hong Kong\", \"Hong Kong\", \"Hong Kong\", \"Hong Kong\", \"Hong Kong\", \"Hong Kong\", \"Hong Kong\", \"Japan\", \"Japan\", \"Japan\", \"Japan\", \"Japan\", \"Japan\", \"Japan\", \"Japan\", \"Japan\", \"Japan\", \"Japan\", \"Japan\", \"Japan\", \"Japan\", \"Japan\", \"Japan\", \"Japan\", \"Japan\", \"Japan\", \"Hong Kong\", \"Japan\", \"USA\", \"USA\", \"USA\", \"Japan\", \"Japan\", \"Japan\", \"USA\", \"USA\", \"Japan\", \"USA\", \"Japan\", \"Japan\", \"Japan\", \"USA\", \"Singapore\", \"Thailand\", \"USA\", \"Japan\", \"USA\", \"USA\", \"USA\", \"USA\", \"USA\", \"Thailand\", \"Japan\", \"Japan\", \"Japan\", \"Singapore\", \"Hong Kong\", \"USA\", \"Japan\", \"Japan\", \"Hong Kong\", \"Singapore\", \"Japan\", \"Singapore\", \"USA\", \"USA\", \"Singapore\", \"Singapore\", \"Singapore\", \"Singapore\", \"Singapore\", \"Singapore\", \"Singapore\", \"Singapore\", \"Singapore\", \"Singapore\", \"Singapore\", \"Singapore\", \"Singapore\", \"Singapore\", \"Singapore\", \"USA\", \"USA\", \"Singapore\", \"Japan\", \"Japan\", \"Hong Kong\", \"Japan\", \"USA\", \"Hong Kong\", \"Japan\", \"Hong Kong\", \"USA\", \"Japan\", \"Hong Kong\", \"Japan\", \"Japan\", \"USA\", \"Japan\", \"USA\", \"Japan\", \"Hong Kong\", \"Japan\", \"USA\", \"USA\", \"Hong Kong\", \"Japan\", \"Japan\", \"Japan\", \"Japan\", \"Japan\", \"USA\", \"Japan\", \"USA\", \"Japan\", \"Hong Kong\", \"USA\", \"USA\", \"Japan\", \"Japan\", \"USA\", \"Japan\", \"USA\", \"USA\", \"USA\", \"USA\", \"USA\", \"USA\", \"USA\", \"USA\", \"USA\", \"USA\", \"USA\", \"Japan\", \"USA\", \"USA\", \"USA\", \"USA\", \"USA\", \"USA\", \"Japan\", \"USA\", \"Japan\", \"USA\", \"USA\", \"USA\", \"USA\", \"Hong Kong\", \"Japan\", \"USA\", \"USA\", \"USA\", \"Japan\", \"Japan\", \"Japan\", \"USA\", \"Japan\", \"Hong Kong\", \"Japan\", \"USA\", \"USA\", \"Hong Kong\", \"Japan\", \"USA\", \"Japan\", \"USA\", \"USA\", \"USA\", \"Singapore\", \"Japan\", \"USA\", \"USA\", \"USA\", \"USA\", \"USA\", \"USA\", \"USA\", \"USA\", \"Hong Kong\", \"Hong Kong\", \"USA\", \"USA\", \"USA\", \"USA\", \"USA\", \"USA\", \"Japan\", \"USA\", \"USA\", \"USA\", \"USA\", \"USA\", \"USA\", \"USA\", \"USA\", \"Japan\", \"Japan\", \"Japan\", \"Japan\", \"Japan\", \"Japan\", \"Japan\", \"Japan\", \"Japan\", \"Japan\", \"Japan\", \"USA\", \"Japan\", \"Japan\", \"Japan\", \"Japan\", \"Japan\", \"Japan\", \"USA\"], \"xaxis\": \"x\", \"y\": [2.25, 4.5, 5.0, 4.25, 4.75, 4.5, 5.0, 3.75, 5.0, 5.0, 5.0, 4.75, 5.0, 4.5, 5.0, 5.0, 3.75, 3.25, 3.5, 4.5, 3.75, 5.0, 3.75, 5.0, 2.5, 4.0, 5.0, 3.75, 3.75, 3.5, 3.5, 4.75, 2.5, 3.25, 5.0, 4.0, 4.0, 3.0, 4.0, 4.0, 4.0, 5.0, 4.0, 4.0, 4.0, 5.0, 4.0, 4.0, 4.0, 5.0, 5.0, 4.0, 4.0, 5.0, 4.0, 5.0, 5.0, 3.0, 4.0, 5.0, 4.0, 3.0, 3.0, 4.0, 5.0, 4.0, 4.0, 4.0, 5.0, 4.0, 5.0, 5.0, 5.0, 5.0, 3.0, 5.0, 3.0, 5.0, 4.0, 5.0, 4.0, 5.0, 4.0, 5.0, 4.0, 4.0, 5.0, 5.0, 5.0, 5.0, 4.0, 3.5, 3.5, 3.25, 4.0, 4.0, 3.5, 4.0, 4.0, 3.75, 5.0, 5.0, 5.0, 5.0, 4.0, 4.0, 5.0, 5.0, 5.0, 4.0, 4.0, 5.0, 4.0, 5.0, 3.75, 5.0, 5.0, 5.0, 3.75, 5.0, 3.8, 4.0, 5.0, 5.0, 5.0, 4.3, 4.0, 5.0, 5.0, 5.0, 4.5, 5.0, 5.0, 4.5, 5.0, 3.0, 3.5, 4.75, 4.25, 4.75, 5.0, 5.0, 4.0, 3.5, 5.0, 3.0, 4.75, 3.5, 5.0, 3.5, 3.5, 3.75, 5.0, 2.75, 4.5, 4.5, 3.5, 4.25, 3.5, 4.0, 4.5, 4.0, 2.75, 3.75, 3.5, 4.0, 4.0, 4.25, 3.5, 3.5, 3.5, 3.5, 3.5, 3.5, 4.0, 3.75, 4.0, 3.75, 3.75, 3.5, 3.75, 4.0, 5.0, 3.75, 4.0, 5.0, 4.0, 4.25, 4.0, 3.5, 3.0, 3.0, 4.0, 3.75, 4.75, 4.25, 3.75, 1.75, 3.75, 3.75, 3.75, 3.0, 3.0, 5.0, 4.5, 3.5, 3.25, 3.75, 4.75, 4.0, 5.0, 3.5, 3.75, 3.5, 4.5, 4.75, 4.0, 5.0, 3.75, 3.5, 3.75, 3.5, 4.25, 4.5, 4.5, 2.75, 4.0, 5.0, 3.25, 4.0, 3.75, 3.75, 4.25, 4.0, 3.5, 3.5, 4.5, 3.0, 3.25, 3.25, 3.5, 3.75, 3.25, 3.25, 4.0, 3.25, 4.0, 3.5, 4.5, 4.0, 5.0, 3.5, 4.0, 3.25, 3.5, 3.75, 4.0, 3.0, 3.0, 3.75, 5.0, 3.75, 4.25, 3.25, 3.0, 3.75, 4.0, 2.75, 3.5, 4.25, 5.0, 3.75, 4.0, 2.5, 2.75, 3.75, 3.25, 3.5, 2.5, 3.75, 3.25, 3.0, 3.5, 2.25, 2.125, 2.25, 3.25, 4.5, 3.5, 3.5, 1.5, 3.5, 3.5, 3.5, 4.75, 4.0, 4.0, 3.75, 3.0, 2.0, 1.75, 4.5, 1.75, 5.0, 3.75, 2.0, 2.75, 2.5, 3.25, 4.0, 3.5, 3.5, 2.5, 4.0, 2.5, 3.0, 5.0, 4.0, 4.0, 3.0, 2.0, 4.5], \"yaxis\": \"y\"}, {\"hovertemplate\": \"<b>%{hovertext}</b><br><br>Brand=Wei Lih<br>Country=%{x}<br>Stars=%{y}<extra></extra>\", \"hovertext\": [\"GGE Ramen Snack Tomato Flavor\", \"GGE Noodle Snack Wheat Crackers Mexican Spicy\", \"GGE Noodle Snack Wheat Crackers Soy Sauce Ramen\", \"GGE Noodle Snack Wheat Crackers Hot Spicy\", \"Jah Jan Men\", \"Instant Noodles With Onion Flavour\", \"Steam Instant Noodles Korean Salt & Rib Soup Flavour\", \"What\\u2019s That? Leisure Meatballs Spicy Chicken Flavor\", \"What\\u2019s That? Leisure Meatballs Chicken Flavor\", \"Spicy Sichuan Flavor Instant Noodle\", \"Good Good Eat Super Ramen Vegetable\", \"Goog Good Eat Super Ramen Hot Chili\", \"Good Good Eat Super Ramen Original\", \"Artificial Beef Flavor\", \"Jah Jan Mien Instant Noodle With Fried Soybean Paste\"], \"legendgroup\": \"Wei Lih\", \"line\": {\"color\": \"#ab63fa\"}, \"mode\": \"lines\", \"name\": \"Wei Lih\", \"orientation\": \"v\", \"showlegend\": true, \"stackgroup\": \"1\", \"type\": \"scatter\", \"x\": [\"Taiwan\", \"Taiwan\", \"Taiwan\", \"Taiwan\", \"Taiwan\", \"Taiwan\", \"Taiwan\", \"Taiwan\", \"Taiwan\", \"Taiwan\", \"Taiwan\", \"Taiwan\", \"Taiwan\", \"Taiwan\", \"Taiwan\"], \"xaxis\": \"x\", \"y\": [2.75, 3.25, 3.75, 5.0, 5.0, 4.25, 2.25, 3.75, 3.75, 3.5, 2.75, 3.75, 3.0, 1.0, 4.0], \"yaxis\": \"y\"}, {\"hovertemplate\": \"<b>%{hovertext}</b><br><br>Brand=Samyang Foods<br>Country=%{x}<br>Stars=%{y}<extra></extra>\", \"hovertext\": [\"Kimchi song Song Ramen\", \"Song Song Kimchi Big Bowl\", \"Paegaejang Ramen\", \"Jjamppong Big Bowl\", \"Samyang Ramen Classic Edition\", \"Mala Buldak Bokkeummyun\", \"Buldak Bokkeummyun\", \"Kimchi Stew Ramyun\", \"Sari Ramen\", \"Cheese Type Buldak Bokkeummyun (Black Pkg)\", \"Cheese Buldak Bokkeummyun (Black)\", \"Zzaldduck Buldak Bokkeummyun Snack\", \"Curry Buldak Bokkeummyun\", \"Cool/Ice Buldak Bokkeummyun\", \"2x Spicy Haek Buldak Bokkeummyun\", \"Buldak Bokkeummyun Snack\", \"Stew Buldak Bokkeumtangmyun\", \"Cheese Buldak Bokkeummyun\", \"Buldak Bokkeummyun (New Packaging)\", \"Buldak Bokkummyun Cheese Flavor\", \"Gold Jjamppong Fried Noodle\", \"Fresh Bibimmyun Fried Noodle\", \"Pojangmacha Udon\", \"Fresh Jjajang\", \"Honey & Cheese Big Bowl\", \"Cheese Curry Ramyun\", \"Seafood Noodle\", \"Shoyu Noodle\", \"Curry Noodle\", \"Sogokimyun Hot Flavor Noodle Soup\", \"Buldak Bokkummyeon\", \"Nagasaki Jjamppong\", \"Red Nagasaki Jjampong\", \"Baked Noodle Spicy Grilled Beef Ramyun\", \"\\u4e09\\u990a\\ub77c\\uba74 (Samyang Ramyun) (South Korean Version)\", \"Maesaengyitangmyun Baked Noodle\", \"Star Popeye Ramyun Snack\", \"Chacharoni\", \"Ganjjampong\", \"Samyang Ramyun (SK Version)\", \"60 Ingredients Assorted Vegetable SK Version\", \"Nagasaki Crab Jjampong\", \"Buldalk Bokkeummyeon (Hot Fried Chicken Ramyun)\", \"Yukgaejang Beef Ramyun\", \"Bajirak Kalgugsu\", \"Hot Chacharoni\", \"Samyang Ramyun\", \"Beef Flavor Ramyun (SK Version)\", \"Nagasaki Jjampong\", \"Kimchi Ramyun (SK Version)\", \"Ganjjampong\", \"Sutah (SK Version)\"], \"legendgroup\": \"Samyang Foods\", \"line\": {\"color\": \"#FFA15A\"}, \"mode\": \"lines\", \"name\": \"Samyang Foods\", \"orientation\": \"v\", \"showlegend\": true, \"stackgroup\": \"1\", \"type\": \"scatter\", \"x\": [\"South Korea\", \"South Korea\", \"South Korea\", \"South Korea\", \"South Korea\", \"South Korea\", \"South Korea\", \"South Korea\", \"South Korea\", \"South Korea\", \"South Korea\", \"South Korea\", \"South Korea\", \"South Korea\", \"South Korea\", \"South Korea\", \"South Korea\", \"South Korea\", \"South Korea\", \"South Korea\", \"South Korea\", \"South Korea\", \"South Korea\", \"South Korea\", \"South Korea\", \"South Korea\", \"Japan\", \"South Korea\", \"Japan\", \"South Korea\", \"South Korea\", \"South Korea\", \"South Korea\", \"South Korea\", \"South Korea\", \"South Korea\", \"South Korea\", \"South Korea\", \"South Korea\", \"South Korea\", \"South Korea\", \"South Korea\", \"South Korea\", \"South Korea\", \"South Korea\", \"South Korea\", \"South Korea\", \"South Korea\", \"South Korea\", \"South Korea\", \"South Korea\", \"South Korea\"], \"xaxis\": \"x\", \"y\": [4.75, 4.25, 5.0, 4.5, 5.0, 3.75, 3.75, 4.0, 0.0, 3.75, 4.0, 4.5, 4.25, 3.75, 4.0, 5.0, 5.0, 4.0, 4.0, 4.0, 5.0, 4.0, 4.0, 4.5, 0.0, 5.0, 2.75, 3.5, 3.75, 3.5, 4.0, 3.75, 5.0, 3.5, 3.75, 5.0, 4.0, 3.75, 4.25, 3.5, 3.75, 5.0, 4.0, 4.0, 3.75, 3.75, 4.5, 4.25, 4.75, 4.0, 4.25, 3.75], \"yaxis\": \"y\"}, {\"hovertemplate\": \"<b>%{hovertext}</b><br><br>Brand=Acecook<br>Country=%{x}<br>Stars=%{y}<extra></extra>\", \"hovertext\": [\"Spice Deli Tantan Men With Cilantro\", \"Super Cup Yochan Ika Yakisoba\", \"Super Cup Torigawa Shoyu\", \"Pork Wantan Men\", \"Dossari Yasai Chanpon\", \"Kadomen Koikoku Tonkotsu\", \"Maru Uma Curry Udon\", \"Seabura Tonkotsu Ramen\", \"Jan Jan Dashi Shoyu Yakisoba\", \"Ohmori Chukafu Yakisoba\", \"Comet Mori Yukino Tan-tan men\", \"Jan Jan Yakisoba\", \"Super Big Ramen Soy Sauce\", \"Super Big Ramen Tonkotsu\"], \"legendgroup\": \"Acecook\", \"line\": {\"color\": \"#19d3f3\"}, \"mode\": \"lines\", \"name\": \"Acecook\", \"orientation\": \"v\", \"showlegend\": true, \"stackgroup\": \"1\", \"type\": \"scatter\", \"x\": [\"Japan\", \"Japan\", \"Japan\", \"Japan\", \"Japan\", \"Japan\", \"Japan\", \"Japan\", \"Japan\", \"Japan\", \"Japan\", \"Japan\", \"Japan\", \"Japan\"], \"xaxis\": \"x\", \"y\": [4.0, 1.5, 3.5, 4.25, 4.25, 3.8, 3.5, 3.75, 2.25, 3.25, 5.0, 3.75, 1.25, 1.0], \"yaxis\": \"y\"}, {\"hovertemplate\": \"<b>%{hovertext}</b><br><br>Brand=Ikeda Shoku<br>Country=%{x}<br>Stars=%{y}<extra></extra>\", \"hovertext\": [\"Nabeyaki Kitsune Udon\", \"Nabeyaki Tempura Udoin\"], \"legendgroup\": \"Ikeda Shoku\", \"line\": {\"color\": \"#FF6692\"}, \"mode\": \"lines\", \"name\": \"Ikeda Shoku\", \"orientation\": \"v\", \"showlegend\": true, \"stackgroup\": \"1\", \"type\": \"scatter\", \"x\": [\"Japan\", \"Japan\"], \"xaxis\": \"x\", \"y\": [3.75, 4.5], \"yaxis\": \"y\"}, {\"hovertemplate\": \"<b>%{hovertext}</b><br><br>Brand=Ripe'n'Dry<br>Country=%{x}<br>Stars=%{y}<extra></extra>\", \"hovertext\": [\"Hokkaido Soy Sauce Ramen\", \"Hokkaido Miso Ramen\", \"Hokkaido Salt Ramen\"], \"legendgroup\": \"Ripe'n'Dry\", \"line\": {\"color\": \"#B6E880\"}, \"mode\": \"lines\", \"name\": \"Ripe'n'Dry\", \"orientation\": \"v\", \"showlegend\": true, \"stackgroup\": \"1\", \"type\": \"scatter\", \"x\": [\"Japan\", \"Japan\", \"Japan\"], \"xaxis\": \"x\", \"y\": [0.25, 3.0, 3.0], \"yaxis\": \"y\"}, {\"hovertemplate\": \"<b>%{hovertext}</b><br><br>Brand=KOKA<br>Country=%{x}<br>Stars=%{y}<extra></extra>\", \"hovertext\": [\"The Original Spicy Stir-Fried Noodles\", \"Mushroom Flavour Instant Noodles\", \"Creamy Soup With Crushed Noodles Hot & Sour Fish Flavor\", \"Signature Tom Yum Flavor Instant Noodles\", \"Instant Noodles Laksa Singapura Flavour\", \"Curry Flavour Instant Noodles\", \"Delight Chicken Flavor Instant Non-Fried Noodles\", \"Creamy Soup With Crushed Noodles Chicken Flavor\", \"Signature Curry Flavor Instant Noodles\", \"Instant Noodles Chicken Satay Flavour\", \"Signature Spicy Singapore Fried Noodles Instant Noodles\", \"Creamy Soup With Crushed Noodles Sweet Corn Flavor\", \"Silk Beef Pho Flavor Instant Rice Fettuccine\", \"Delight Spicy Sesame Flavor Instant Non-Fried Noodles\", \"Signature Laksa Singapura Instant Noodles\", \"Delight Spicy Black Pepper Flavor Instant Non-Fried Noodles\", \"Purple Wheat Noodles Chili & Lime Flavor\", \"Delight Tomato Flavor Instant Non-Fried Noodles\", \"Seafood Flavor Instant Noodles\", \"Signature Stir-Fry Original Flavor Instant Noodles\", \"Creamy Soup Witrh Crushed Noodles Curry Flavor\", \"Delight Laksa Singapura Flavor Instant Non-Fried Noodles\", \"Silk Spicy Marinara Instant Rice Fettuccine\", \"Signature Chicken Flavor Instant Noodles\", \"Rice Noodles Fragrant Chicken Pho Ga Flavour\"], \"legendgroup\": \"KOKA\", \"line\": {\"color\": \"#FF97FF\"}, \"mode\": \"lines\", \"name\": \"KOKA\", \"orientation\": \"v\", \"showlegend\": true, \"stackgroup\": \"1\", \"type\": \"scatter\", \"x\": [\"Singapore\", \"Singapore\", \"Singapore\", \"Singapore\", \"Singapore\", \"Singapore\", \"Singapore\", \"Singapore\", \"Singapore\", \"Singapore\", \"Singapore\", \"Singapore\", \"Singapore\", \"Singapore\", \"Singapore\", \"Singapore\", \"Singapore\", \"Singapore\", \"Singapore\", \"Singapore\", \"Singapore\", \"Singapore\", \"Singapore\", \"Singapore\", \"Singapore\"], \"xaxis\": \"x\", \"y\": [2.5, 3.5, 5.0, 4.0, 5.0, 5.0, 3.75, 5.0, 3.5, 3.5, 4.25, 5.0, 3.25, 4.5, 5.0, 5.0, 4.0, 5.0, 3.5, 3.0, 5.0, 4.25, 5.0, 3.75, 4.0], \"yaxis\": \"y\"}, {\"hovertemplate\": \"<b>%{hovertext}</b><br><br>Brand=Tao Kae Noi<br>Country=%{x}<br>Stars=%{y}<extra></extra>\", \"hovertext\": [\"Creamy tom Yum Kung Flavour\"], \"legendgroup\": \"Tao Kae Noi\", \"line\": {\"color\": \"#FECB52\"}, \"mode\": \"lines\", \"name\": \"Tao Kae Noi\", \"orientation\": \"v\", \"showlegend\": true, \"stackgroup\": \"1\", \"type\": \"scatter\", \"x\": [\"Thailand\"], \"xaxis\": \"x\", \"y\": [5.0], \"yaxis\": \"y\"}, {\"hovertemplate\": \"<b>%{hovertext}</b><br><br>Brand=Yamachan<br>Country=%{x}<br>Stars=%{y}<extra></extra>\", \"hovertext\": [\"Yokohama Tonkotsu Shoyu\", \"Tokyo Shoyu Ramen\", \"Sapporo Miso Ramen\", \"Mild Tonkotsu\", \"Rich Shoyu Ramen\", \"Nagasaki Sara Udon Chicken \", \"Cold Noodles With Lemon Soy\\u00a0Dressing\", \"Tonkotsu-Shoyu Rich Pork Flavor\\u00a0Ramen\", \"Miso Ramen Rich Sapporo Miso\", \"Miso Ramen - Mild\", \"Shio Ramen Seafood Mild\"], \"legendgroup\": \"Yamachan\", \"line\": {\"color\": \"#636efa\"}, \"mode\": \"lines\", \"name\": \"Yamachan\", \"orientation\": \"v\", \"showlegend\": true, \"stackgroup\": \"1\", \"type\": \"scatter\", \"x\": [\"USA\", \"USA\", \"USA\", \"USA\", \"USA\", \"USA\", \"USA\", \"USA\", \"USA\", \"USA\", \"USA\"], \"xaxis\": \"x\", \"y\": [5.0, 5.0, 4.75, 5.0, 4.0, 4.25, 4.0, 4.75, 5.0, 4.0, 4.5], \"yaxis\": \"y\"}, {\"hovertemplate\": \"<b>%{hovertext}</b><br><br>Brand=Nongshim<br>Country=%{x}<br>Stars=%{y}<extra></extra>\", \"hovertext\": [\"Mr. Bibim Stir-Fried Kimchi Flavor\", \"Shin Ramyun Black\", \"Budae Jjigae Noodle Soup\", \"Shin Ramyun\", \"Seaweed Instant Noodle\", \"Spicy Shrimp Cup Noodle\", \"Saeutang Sabalmyeon\", \"Shin Noodle Soup\", \"Bowl Noodle Soup Independence Day Limited Edition Spicy Chicken Flavor\", \"Chal Bibim Myun\", \"Kimchi Flavor Noodle Soup\", \"Champong Noodle Soup Spicy Seafood Flavor\", \"Arrabiata Rice Bucatini\", \"Noodle Soup Seasoned With Real Kimchi\", \"Zha Wang ((Jjawang) Noodles With Chajang Sauce\", \"Soon Veggie Noodle Soup\", \"Shin Black Spicy Po-Au-Feu Flavor (Mew Edition)\", \"Korean Clay Pot Ramyun\", \"Quick2 Hot & Spicy Noodle Soup With Habanero & Lime\", \"Jinjja Jinjja (New)\", \"Tteokgukmyun\", \"Shin Ramyun Noodle Soup (New Edition)\", \"Neoguri Udon Seafood & Mild\", \"Bowl Noodle Soup Shrimp Habanero Lime Flavor\", \"Spicy Tonkotsu Noodle Soup\", \"Harmony Korean Spicy Noodle Dish With Chipotle\", \"Korean Clay Pot Ramyun Noodle\", \"Sir Long Tang Creamy Beef Noodle Soup\", \"Soon Veggie Noodle Soup\", \"Sain Sain Garlic Teriyaki Fresh Cooked Udon Pasta\", \"Oolongmen Kimchi Cup Noodle Soup Mix\", \"Shin Ramyun Cup\", \"Shin Black Spicy Pot-au-feu Flavor Premium Noodle Soup\", \"Doong Ji Authentic Korean Cold Noodles With Chili Sauce\", \"Shin Ramyun Noodle Spicy Mushroom\", \"Potato Pork Ramyun\", \"Shin Ramyun Black Spicy Beef\", \"Bowl Noodle Soup Spicy Seafood Flavor (New Version)\", \"Jinjja Jinjja Flamin' Hot & Nutty\", \"Tempura Udon Flavor Cup Ramyun\", \"Spicy Shrimp Cup Ramyun\", \"Neoguri Spicy Seafood\", \"Shin Bowl (New)\", \"Chapagetti\", \"Doong Ji Cold Noodle Chilled Broth\", \"Chapagetti (South Korean)\", \"Neoguri Mild (South Korea)\", \"Bowl Noodle Savory Chicken (New)\", \"Bowl Noodle Spicy Chicken (New)\", \"Bowl Noodle Savory Shrimp (New)\", \"Bowl Noodle Hot & Spicy Beef (New)\", \"Bowl Noodle Savory Lobster (New)\", \"Udon \", \"Ansungtangmyun (US Version)\", \"Soba\", \"Bowl Noodle Savory Tempura Udon\", \"Shin Ramyun Black Onion\", \"Bowl Noodle Spicy Kimchi (New)\", \"Jinjja Jinjja\", \"Bowl Noodle Savory Beef\", \"Hearty Rice Noodle Beef\", \"Udon Garlic Teriyaki\", \"Hearty Rice Noodle Black Bean Vegetable\", \"Shin Ramyun Shrimp\", \"Seafood Ramyun\", \"Oolongmen Artificial Chicken\", \"Oolongmen Artificial Seafood\", \"Chapagetti Chajang\", \"Shin Ramyun Black\", \"Oolongmen Beef\", \"Neoguri Mild\", \"Potato Noodle Soup\", \"Bowl Noodle Savory Chicken\", \"Kalguksoo\", \"Big Bowl Spicy Kimchi\", \"Noodle Lite 275 Udon Mushroom\", \"Shin Big Bowl\", \"Champong Oriental Noodles\", \"Big Bowl Udon\", \"Big Bowl Spicy Shrimp\", \"Hearty Rice Noodle Spicy Veggie Consomme\", \"Shin Bowl\", \"Bowl Noodle Spicy Seafood\", \"Bowl Noodle Spicy Artificial Lobster\", \"Bowl Noodle Spicy Shrimp\", \"Bowl Noodle Hot & Spicy\", \"Bowl Noodle Cabbage Kimchi\", \"Bowl Noodle Beef Ginger\", \"Bowl Noodle Spicy Chicken\", \"Udon\", \"Kimchi Ramyun\", \"Mupama Tang Myun\", \"Hooroorook \", \"Ansungtangmyun Noodle Soup\", \"Champong Oriental Noodles\", \"Neoguri (Seafood'n'Spicy)\", \"Shin Ramyun\"], \"legendgroup\": \"Nongshim\", \"line\": {\"color\": \"#EF553B\"}, \"mode\": \"lines\", \"name\": \"Nongshim\", \"orientation\": \"v\", \"showlegend\": true, \"stackgroup\": \"1\", \"type\": \"scatter\", \"x\": [\"South Korea\", \"South Korea\", \"South Korea\", \"South Korea\", \"South Korea\", \"South Korea\", \"South Korea\", \"USA\", \"USA\", \"South Korea\", \"USA\", \"South Korea\", \"USA\", \"USA\", \"South Korea\", \"USA\", \"USA\", \"China\", \"USA\", \"South Korea\", \"South Korea\", \"USA\", \"South Korea\", \"USA\", \"USA\", \"USA\", \"China\", \"USA\", \"South Korea\", \"South Korea\", \"South Korea\", \"South Korea\", \"USA\", \"South Korea\", \"China\", \"China\", \"South Korea\", \"USA\", \"USA\", \"South Korea\", \"South Korea\", \"South Korea\", \"USA\", \"USA\", \"South Korea\", \"South Korea\", \"South Korea\", \"USA\", \"USA\", \"USA\", \"USA\", \"USA\", \"South Korea\", \"USA\", \"South Korea\", \"USA\", \"South Korea\", \"USA\", \"South Korea\", \"USA\", \"South Korea\", \"South Korea\", \"South Korea\", \"China\", \"South Korea\", \"South Korea\", \"South Korea\", \"South Korea\", \"South Korea\", \"South Korea\", \"South Korea\", \"South Korea\", \"USA\", \"South Korea\", \"South Korea\", \"South Korea\", \"South Korea\", \"South Korea\", \"South Korea\", \"South Korea\", \"South Korea\", \"South Korea\", \"USA\", \"USA\", \"USA\", \"USA\", \"USA\", \"USA\", \"USA\", \"South Korea\", \"South Korea\", \"South Korea\", \"South Korea\", \"South Korea\", \"South Korea\", \"South Korea\", \"South Korea\"], \"xaxis\": \"x\", \"y\": [4.25, 5.0, 4.5, 3.0, 0.5, 4.0, 3.5, 5.0, 4.0, 5.0, 5.0, 5.0, 5.0, 4.75, 5.0, 5.0, 5.0, 2.5, 4.0, 5.0, 4.25, 4.25, 4.0, 3.25, 5.0, 4.25, 2.75, 4.25, 5.0, 4.5, 4.0, 3.5, 5.0, 5.0, 3.25, 5.0, 4.5, 4.25, 5.0, 4.5, 4.25, 4.0, 4.25, 5.0, 4.25, 4.0, 4.0, 4.25, 4.5, 3.25, 3.5, 3.75, 4.25, 3.75, 4.25, 3.5, 5.0, 3.75, 5.0, 4.0, 4.25, 4.75, 3.75, 4.5, 3.75, 3.75, 3.5, 4.0, 4.75, 2.5, 3.25, 3.75, 3.25, 4.5, 3.25, 2.5, 3.5, 3.75, 4.5, 3.5, 2.75, 3.0, 4.25, 4.0, 2.5, 2.0, 3.25, 3.5, 4.5, 4.0, 3.5, 3.5, 4.0, 3.75, 4.0, 3.5, 4.0], \"yaxis\": \"y\"}, {\"hovertemplate\": \"<b>%{hovertext}</b><br><br>Brand=Paldo<br>Country=%{x}<br>Stars=%{y}<extra></extra>\", \"hovertext\": [\"Premium Gomtang\", \"Bul Jjamppong\", \"Volcano Curry Kkokkomyun\", \"Bul Jjajangmyeon\", \"Bibim Men\", \"Budae Jjigae\", \"Bul Jjamppong\", \"Bulnak Boeummyun King Noodle\", \"King Bowl Super Spicy Pan Stirfried Noodle\", \"Raobokki Noodle (Export Version)\", \"Jjajangmen Chajang Noodle King Bowl\", \"Jjamppong Seafood Noodle King Bowl\", \"Jjol Bibim Men\", \"Cheese Ramyun (for US market)\", \"Mild Kokomen (Prototype)\", \"Barbecue Ramyun (Prototype)\", \"Bulnak Bokkummyun Spicy Fried Octopus Ramyun\", \"Korean Traditional Beef Gomtangmen\", \"Namja Ramyun (US Version)\", \"Cheese Noodle\", \"\\u0414\\u041e\\u0428\\u0418\\u0420\\u0410\\u041a (Dosirac) Beef Flavor\", \"Jong-Gah-Jip Kimchi Ramen\", \"Kokomen Spicy Chicken\", \"Namja Ramen (USA version)\", \"Kokomen Spicy Chicken\", \"Namja Ramyun\", \"Bowl Noodle Shrimp Flavor\", \"Kko Kko Myun King Cup\", \"Seolleongtangmyeon\", \"Rabokki\", \"Namja\", \"Shoyu\", \"Bibim Men Cucumber\", \"Kokomen Spicy Chicken\", \"Speed King Bowl (Prototype)\", \"Kko Kko Myun\", \"Jjajangmen Black Bean\", \"Hwa King Cup\", \"Gomtang\", \"Gomtang\", \"Big Bowl Noodle\", \"Snack Noodle slightly Hot\", \"Spicy Seafood\", \"Bowl Noodle Beef With Vegetables\", \"Hwa Cup Hot Spicy\", \"Bowl Noodle Kimchi\", \"Bowl Noodle Spicy Artificial Chicken\", \"Stirfried Kimchi\", \"Dosirac Mushroom\", \"Dosirac Shrimp\", \"Dosirac Beef\", \"Dosirac Artificial Chicken\", \"South Korean Seafood\", \"South Korean U Dong\", \"South Korean Broad Noodle\", \"King Cup Lobster\", \"King Cup Kimchi Pot Stew\", \"South Korean Noodle Kimchi Flavor\", \"Spicy Shrimp Bowl\", \"Soy Flavor Noodle\", \"Hwa Ramyun Soy Peptide\", \"Teumsae Ramyun\", \"Dosirac Pork\", \"Green Tea Chlorella\", \"Bibim Men\", \"South Korean Noodle Chicken\"], \"legendgroup\": \"Paldo\", \"line\": {\"color\": \"#00cc96\"}, \"mode\": \"lines\", \"name\": \"Paldo\", \"orientation\": \"v\", \"showlegend\": true, \"stackgroup\": \"1\", \"type\": \"scatter\", \"x\": [\"South Korea\", \"South Korea\", \"South Korea\", \"South Korea\", \"South Korea\", \"South Korea\", \"South Korea\", \"South Korea\", \"South Korea\", \"South Korea\", \"South Korea\", \"South Korea\", \"South Korea\", \"South Korea\", \"South Korea\", \"South Korea\", \"South Korea\", \"South Korea\", \"South Korea\", \"South Korea\", \"South Korea\", \"South Korea\", \"South Korea\", \"South Korea\", \"South Korea\", \"South Korea\", \"South Korea\", \"South Korea\", \"South Korea\", \"South Korea\", \"South Korea\", \"Japan\", \"South Korea\", \"South Korea\", \"South Korea\", \"South Korea\", \"South Korea\", \"South Korea\", \"South Korea\", \"South Korea\", \"South Korea\", \"South Korea\", \"South Korea\", \"South Korea\", \"South Korea\", \"South Korea\", \"South Korea\", \"South Korea\", \"South Korea\", \"South Korea\", \"South Korea\", \"South Korea\", \"South Korea\", \"South Korea\", \"South Korea\", \"South Korea\", \"South Korea\", \"South Korea\", \"South Korea\", \"South Korea\", \"South Korea\", \"South Korea\", \"South Korea\", \"South Korea\", \"South Korea\", \"South Korea\"], \"xaxis\": \"x\", \"y\": [4.0, 5.0, 3.5, 5.0, 5.0, 5.0, 4.0, 3.5, 5.0, 5.0, 5.0, 5.0, 4.0, 5.0, 4.5, 3.75, 4.0, 5.0, 4.0, 5.0, 3.5, 4.0, 4.5, 5.0, 4.75, 4.25, 3.25, 4.75, 3.5, 4.75, 5.0, 3.25, 5.0, 5.0, 3.5, 5.0, 4.0, 3.5, 4.0, 4.75, 3.75, 3.75, 3.75, 3.75, 3.5, 3.5, 3.125, 3.75, 2.5, 4.25, 3.75, 3.25, 3.75, 3.75, 2.0, 3.75, 4.0, 3.5, 3.5, 4.25, 4.0, 3.5, 4.125, 0.0, 3.75, 3.25], \"yaxis\": \"y\"}, {\"hovertemplate\": \"<b>%{hovertext}</b><br><br>Brand=Jackpot Teriyaki<br>Country=%{x}<br>Stars=%{y}<extra></extra>\", \"hovertext\": [\"Beef Ramen\"], \"legendgroup\": \"Jackpot Teriyaki\", \"line\": {\"color\": \"#ab63fa\"}, \"mode\": \"lines\", \"name\": \"Jackpot Teriyaki\", \"orientation\": \"v\", \"showlegend\": true, \"stackgroup\": \"1\", \"type\": \"scatter\", \"x\": [\"USA\"], \"xaxis\": \"x\", \"y\": [5.0], \"yaxis\": \"y\"}, {\"hovertemplate\": \"<b>%{hovertext}</b><br><br>Brand=MyKuali<br>Country=%{x}<br>Stars=%{y}<extra></extra>\", \"hovertext\": [\"Penang White Curry Rice Vermicelli Soup\", \"Penang Red Tom Yum Goong Noodle\", \"Penang Hokkien Prawn Flavor Noodle\", \"MeeKuali Bihun Sup Rempah Perisa Daging\", \"Penang Red Tom Yum Goong\", \"Penang Hokkien Prawn Noodle Soup\", \"Penang Red Tom Yum Goong Rice Vermicelli Soup\", \"Penang White Curry Instant Noodle (Japan Version)\", \"Penang Hokkien Prawn Noodle Authentic Taste\", \"Penang Red Tom Yum Goong Noodle Authentic Taste\", \"Penang White Curry Authentic Taste Cup\", \"Penang White curry Noodle Authentic Taste\", \"Penang Red tom Yum Goong Noodle Authentic Taste\", \"Penang Spicy Prawn Soup Noodle Authentic Taste\", \"Penang Spicy Prawn Soup Noodle\", \"Penang Red tom Yum Goong Noodle (New Version)\", \"MeeKuali spicy Fried Noodle\", \"Penang White Curry Noodle (New Version)\", \"Penang Hokkien Prawn Soup Rice Vermicelli (Bihun)\", \"Penang White Curry Noodle (New Improved Tatse)\", \"Penang Hokkien Prawn Noodle (New Improved Taste)\", \"Penang Red Tom Yum Goong Noodle\", \"Penang Hokkien Prawn Noodle\", \"Penang White Curry Noodle\"], \"legendgroup\": \"MyKuali\", \"line\": {\"color\": \"#FFA15A\"}, \"mode\": \"lines\", \"name\": \"MyKuali\", \"orientation\": \"v\", \"showlegend\": true, \"stackgroup\": \"1\", \"type\": \"scatter\", \"x\": [\"Malaysia\", \"Malaysia\", \"Japan\", \"Malaysia\", \"Japan\", \"Singapore\", \"Malaysia\", \"Malaysia\", \"Malaysia\", \"Malaysia\", \"Malaysia\", \"Malaysia\", \"Malaysia\", \"Malaysia\", \"Malaysia\", \"Malaysia\", \"Malaysia\", \"Malaysia\", \"Malaysia\", \"Malaysia\", \"Malaysia\", \"Malaysia\", \"Malaysia\", \"Malaysia\"], \"xaxis\": \"x\", \"y\": [5.0, 5.0, 5.0, 5.0, 5.0, 5.0, 5.0, 5.0, 5.0, 5.0, 4.75, 5.0, 5.0, 5.0, 5.0, 5.0, 4.0, 5.0, 5.0, 5.0, 5.0, 5.0, 5.0, 5.0], \"yaxis\": \"y\"}, {\"hovertemplate\": \"<b>%{hovertext}</b><br><br>Brand=Ottogi<br>Country=%{x}<br>Stars=%{y}<extra></extra>\", \"hovertext\": [\"Plain Instant Noodle No Soup Included\", \"Ppushu Ppushu Noodle Snack Honey Butter \", \"Ppushu Ppushu Noodle Snack Chilli Cheese Flavor\", \"Jin Jjambbong Spicy Seafood Ramyun\", \"Cheese Ramen\", \"Sesame Flavor Ramen Korean Style Instant Noodle\", \"Potato Ramen\", \"Cheese Bokki\", \"Ppushu Ppushu Grilled Chicken Flavor\", \"Japchae Vermicelli Noodle\", \"Ppushu Ppushu Noodle Snack Bulgogi Flavor\", \"Cheese Bokki\", \"Sesame Flavor Noodle Bowl\", \"Spaghetti Ramen\", \"Kiss Myon\", \"Jjajang Bokki\", \"Jin Ramen (Mild) (Import)\", \"Odongtong Myon Seafood\", \"Kiss Myon\", \"Buckwheat Bibim Ramyon\", \"Yeul Hot Taste\", \"Jin Ramen Big Bowl (Hot)\", \"Yeul Ramyun\", \"Jin Ramen (Mild)\", \"Hot & Spicy Ramen\", \"Bekse Curry Myon\", \"Ppushu Ppushu Barbecue\", \"Ppushu Ppushu Tteobokki\", \"Spice Seafood\", \"Snack Ramyon\", \"Jin Ramen (Mild)\", \"Ramen Bokki\", \"Jin Ramen (Hot)\", \"Ppushu Ppushu Sweet & Sour\", \"Snack Ramyon\", \"Bekse Curry\", \"Ramyonsari\", \"Miso Ramyun\", \"Jiajang Noodle\", \"Odongtongmyon Seafood Spicy\", \"Pow Crunch Teriyaki\", \"Jin Ramen (Hot Taste)\"], \"legendgroup\": \"Ottogi\", \"line\": {\"color\": \"#19d3f3\"}, \"mode\": \"lines\", \"name\": \"Ottogi\", \"orientation\": \"v\", \"showlegend\": true, \"stackgroup\": \"1\", \"type\": \"scatter\", \"x\": [\"South Korea\", \"South Korea\", \"South Korea\", \"South Korea\", \"South Korea\", \"South Korea\", \"South Korea\", \"South Korea\", \"South Korea\", \"South Korea\", \"South Korea\", \"South Korea\", \"South Korea\", \"South Korea\", \"South Korea\", \"South Korea\", \"South Korea\", \"South Korea\", \"South Korea\", \"South Korea\", \"South Korea\", \"South Korea\", \"South Korea\", \"South Korea\", \"South Korea\", \"South Korea\", \"South Korea\", \"South Korea\", \"South Korea\", \"South Korea\", \"South Korea\", \"South Korea\", \"South Korea\", \"South Korea\", \"South Korea\", \"South Korea\", \"South Korea\", \"South Korea\", \"South Korea\", \"South Korea\", \"South Korea\", \"South Korea\"], \"xaxis\": \"x\", \"y\": [0.0, 2.0, 4.25, 5.0, 4.0, 4.25, 3.75, 4.0, 1.0, 2.75, 3.25, 3.5, 3.5, 4.5, 3.75, 3.5, 3.5, 2.75, 3.75, 1.1, 3.5, 3.5, 4.25, 3.25, 3.0, 4.25, 3.0, 3.25, 3.75, 3.5, 3.0, 3.25, 3.5, 1.75, 3.75, 4.0, 4.0, 2.8, 3.75, 3.25, 1.1, 3.5], \"yaxis\": \"y\"}, {\"hovertemplate\": \"<b>%{hovertext}</b><br><br>Brand=Sichuan Guangyou<br>Country=%{x}<br>Stars=%{y}<extra></extra>\", \"hovertext\": [\"Chongqing Spicy Hot Noodles\", \"Sweet Potato Instant Noodle Sout-Hot Flavor\", \"Sweet Potato Instant Noodle Braised Spicy Chitterling Flavor\", \"9999 Chongqing Artificial Beef Flavor Instant Noodle\"], \"legendgroup\": \"Sichuan Guangyou\", \"line\": {\"color\": \"#FF6692\"}, \"mode\": \"lines\", \"name\": \"Sichuan Guangyou\", \"orientation\": \"v\", \"showlegend\": true, \"stackgroup\": \"1\", \"type\": \"scatter\", \"x\": [\"China\", \"China\", \"China\", \"China\"], \"xaxis\": \"x\", \"y\": [4.0, 0.0, 0.25, 4.25], \"yaxis\": \"y\"}, {\"hovertemplate\": \"<b>%{hovertext}</b><br><br>Brand=Lipton<br>Country=%{x}<br>Stars=%{y}<extra></extra>\", \"hovertext\": [\"Cup-A-Soup Chicken Noodle With White Meat Instant Soup\"], \"legendgroup\": \"Lipton\", \"line\": {\"color\": \"#B6E880\"}, \"mode\": \"lines\", \"name\": \"Lipton\", \"orientation\": \"v\", \"showlegend\": true, \"stackgroup\": \"1\", \"type\": \"scatter\", \"x\": [\"USA\"], \"xaxis\": \"x\", \"y\": [1.5], \"yaxis\": \"y\"}, {\"hovertemplate\": \"<b>%{hovertext}</b><br><br>Brand=Fujiwara<br>Country=%{x}<br>Stars=%{y}<extra></extra>\", \"hovertext\": [\"Hokkaido Hakodate Shoyu Ramen\", \"Hokkaido Hakodate Miso Ramen\", \"Hokkaido Hakodate Shio Ramen\", \"Horse Crab Flavour Ramen\", \"Red King Crab Flavour Ramen\", \"Snow Crab Flavour Shio Ramen\", \"Salty Taste Chanko Noodle\"], \"legendgroup\": \"Fujiwara\", \"line\": {\"color\": \"#FF97FF\"}, \"mode\": \"lines\", \"name\": \"Fujiwara\", \"orientation\": \"v\", \"showlegend\": true, \"stackgroup\": \"1\", \"type\": \"scatter\", \"x\": [\"Japan\", \"Japan\", \"Japan\", \"Japan\", \"Japan\", \"Japan\", \"Japan\"], \"xaxis\": \"x\", \"y\": [4.0, 3.5, 4.5, 3.5, 4.0, 3.5, 4.75], \"yaxis\": \"y\"}, {\"hovertemplate\": \"<b>%{hovertext}</b><br><br>Brand=Uni-President<br>Country=%{x}<br>Stars=%{y}<extra></extra>\", \"hovertext\": [\"Pickled Cabbage Beef\", \"Man Han Feast Spicy Beef Flavor Instant Noodles\", \"Man Han Feast Super Hot Pot Beef Flavor Instant Noodles\", \"Baseball Snack Noodle\", \"Man Han Feast Chilli Beef Flavor Instant Noodles\", \"Man Han Feast Braised Pork Flavor Instant Noodles\", \"Minced Pork Flavor Instant Noodles\", \"A Q Bucket Noodle Korean Kimchi Flavor\", \"Science Noodle (X'Mas Edition)\", \"100 Beef With Sauerkraut\", \"One More Cup Kimchi\"], \"legendgroup\": \"Uni-President\", \"line\": {\"color\": \"#FECB52\"}, \"mode\": \"lines\", \"name\": \"Uni-President\", \"orientation\": \"v\", \"showlegend\": true, \"stackgroup\": \"1\", \"type\": \"scatter\", \"x\": [\"China\", \"Taiwan\", \"Taiwan\", \"Taiwan\", \"Taiwan\", \"Taiwan\", \"Taiwan\", \"Taiwan\", \"Taiwan\", \"Taiwan\", \"Taiwan\"], \"xaxis\": \"x\", \"y\": [4.25, 5.0, 5.0, 5.0, 4.75, 5.0, 1.0, 4.0, 5.0, 4.75, 3.75], \"yaxis\": \"y\"}, {\"hovertemplate\": \"<b>%{hovertext}</b><br><br>Brand=Maruchan<br>Country=%{x}<br>Stars=%{y}<extra></extra>\", \"hovertext\": [\"Gotsumori Chanpon Ramen\", \"Seimen Red Spicy Dandan Men\", \"Gotsumori Koku Tonkotsu Ramen\", \"Ramen Noodle Soup Sriracha Chicken Flavor\", \"Bowl Taste Of Asia Hearty Pork Flavor Tonkotsu Ramen\", \"Ramen Noodle soup Mushroom Flavor\", \"Instant Lunch Pork Flavor Ramen Noodles With Vegetables\", \"Bowl Taste Of Asia Miso Chicken Flavor Spicy Miso Ramen\", \"Instant Lunch Chipotle Chicken Flavor Ramen Noodle Soup\", \"Ramen Noodle Soup Chicken Tortilla Flavor\", \"Seimen Noukou Toro Tonkotsu\", \"Bowl Taste Of Asia Beef Flavor Sukiyaki Ramen\", \"Instant Lunch Sriracha Chicken Flavor Ramen Noodle Soup\", \"Spicy Tomato Salsa Ramen\", \"Shiroi Chikara Mochi Udon\", \"Seimen Houjyun Koku Shoyu\", \"Instant Lunch Chicken Tortilla Flavor Ramen Noodles With Vegetables\", \"Kaoru Maitake Tempura Udon\", \"Big Cup Ramen Corn, Salt & Butter Flavor\", \"Gotsumori Sauce Yakisoba\", \"Magomi-an Kitsune Udon (Eastern Japan Flavor)\", \"I Want To Eat Ramen' Shoyu Flavor\", \"Instant Lunch California Vegetable Ramen Noodles With Vegetables\", \"Instant Lunch Jalapeno Cheddar Flavor Ramen Noodles\", \"Old Style Miso Ramen\", \"I Want To Eat Ramen Shio\", \"I Want To Eat Ramen Miso Flavor\", \"I Want To Eat Ramen Pork Tonkotsu Flavor\", \"Seimen Japanese Instant Ramen Noodles Shio Aji\", \"Old Style Shio Ramen\", \"Fresh Yaki-Soba Stir Fry Noodles With Seasoning Sauce Base\", \"Seimen Japanese Instant Ramen Noodles Soy Sauce Taste\", \"Bowl Hot & Spicy Shrimp Flavor Ramen Noodles With Vegetables\", \"Bowl Hot & Spicy Chicken Flavor Ramen Noodles With Vegetables\", \"Yakisoba Beef Taco Flavor\", \"Bowl Chicken Flavor\", \"Yakisoba Jalapeno Cheddar\", \"Yakisoba Four Cheese\", \"Beef\", \"35% Less Sodium Beef\", \"35% Less Sodium Chicken\", \"35% Less Sodium Beef\", \"Instant Lunch Shrimp\", \"Instant Lunch Chicken\", \"Tempura Soba\", \"Yakisoba Spicy Vegetable\", \"Yakisoba Savory Soy Sauce\", \"Yakisoba Spicy Chicken\", \"Ramen Noodle Soup Beef\", \"Yakisoba Tomato Basil\", \"Yakisoba Shrimp\", \"Ramen Noodle Soup Chicken Mushroom\", \"Instant Lunch Hot spicy Beef\", \"Midori No Tanuki\", \"Instant Lunch Lime Flavor with Shrimp\", \"Instant Lunch Cheddar Cheese\", \"Ramen Noodle Soup Roast Beef\", \"Instant Lunch Chicken 35% Less Sodium\", \"Ramen Noodle Soup Chili\", \"Ramen Noodle Soup Creamy Chicken\", \"Ramen Noodle Soup Spicy Picante Chicken\", \"Ramen Noodle Soup Oriental\", \"Yakisoba Cheddar Cheese\", \"Yakisoba Sweet & Sour Chicken\", \"Instant Lunch Roast Chicken Flavor\", \"Yakisoba Chicken\", \"Yakisoba Teriyaki Beef\", \"Yakisoba Roast chicken\", \"Instant Lunch Cajun Style With chili Piquin Shrimp\", \"Akai Kitsune Udon\", \"Ramen Noodle Soup Chicken\", \"Ramen Noodle Soup Lime Chili Shrimp\", \"Ramen Noodle Soup Pork\", \"Ramen Noodle Soup Shrimp\"], \"legendgroup\": \"Maruchan\", \"line\": {\"color\": \"#636efa\"}, \"mode\": \"lines\", \"name\": \"Maruchan\", \"orientation\": \"v\", \"showlegend\": true, \"stackgroup\": \"1\", \"type\": \"scatter\", \"x\": [\"Japan\", \"Japan\", \"Japan\", \"USA\", \"USA\", \"USA\", \"USA\", \"USA\", \"USA\", \"USA\", \"Japan\", \"USA\", \"USA\", \"Japan\", \"Japan\", \"Japan\", \"USA\", \"Japan\", \"Japan\", \"Japan\", \"Japan\", \"Japan\", \"USA\", \"USA\", \"Japan\", \"Japan\", \"Japan\", \"Japan\", \"Japan\", \"Japan\", \"Japan\", \"Japan\", \"USA\", \"USA\", \"USA\", \"USA\", \"USA\", \"USA\", \"USA\", \"USA\", \"USA\", \"USA\", \"USA\", \"USA\", \"Japan\", \"USA\", \"USA\", \"USA\", \"USA\", \"USA\", \"USA\", \"USA\", \"USA\", \"Japan\", \"USA\", \"USA\", \"USA\", \"USA\", \"USA\", \"USA\", \"USA\", \"USA\", \"USA\", \"USA\", \"USA\", \"USA\", \"USA\", \"USA\", \"USA\", \"Japan\", \"USA\", \"USA\", \"USA\", \"USA\"], \"xaxis\": \"x\", \"y\": [4.5, 4.75, 4.0, 4.0, 4.0, 4.0, 3.0, 4.0, 5.0, 3.0, 4.0, 5.0, 3.75, 0.0, 4.5, 5.0, 4.0, 3.25, 5.0, 5.0, 4.25, 4.0, 3.5, 3.5, 3.5, 3.75, 3.75, 4.0, 3.75, 3.5, 4.25, 3.75, 4.25, 4.0, 4.25, 4.0, 4.0, 3.75, 3.5, 3.5, 3.75, 3.5, 3.75, 3.5, 4.0, 3.25, 3.75, 1.75, 3.25, 3.0, 2.75, 3.25, 2.75, 4.125, 2.25, 2.75, 2.75, 3.0, 2.75, 5.0, 4.0, 3.75, 4.0, 3.0, 2.75, 2.0, 2.0, 3.75, 3.0, 4.0, 2.0, 2.0, 4.0, 2.0], \"yaxis\": \"y\"}, {\"hovertemplate\": \"<b>%{hovertext}</b><br><br>Brand=Prima<br>Country=%{x}<br>Stars=%{y}<extra></extra>\", \"hovertext\": [\"Juzz's Mee Creamy Chicken Flavour (Export Version)\", \"Juzz's Mee Creamy Chicken Flavour\", \"Juzz's Mee Curry Flavour\", \"Juzz's Mee Original Spicy Flavour\"], \"legendgroup\": \"Prima\", \"line\": {\"color\": \"#EF553B\"}, \"mode\": \"lines\", \"name\": \"Prima\", \"orientation\": \"v\", \"showlegend\": true, \"stackgroup\": \"1\", \"type\": \"scatter\", \"x\": [\"Singapore\", \"Singapore\", \"Singapore\", \"Singapore\"], \"xaxis\": \"x\", \"y\": [5.0, 5.0, 5.0, 5.0], \"yaxis\": \"y\"}, {\"hovertemplate\": \"<b>%{hovertext}</b><br><br>Brand=Sokensha<br>Country=%{x}<br>Stars=%{y}<extra></extra>\", \"hovertext\": [\"Curry Udon\"], \"legendgroup\": \"Sokensha\", \"line\": {\"color\": \"#00cc96\"}, \"mode\": \"lines\", \"name\": \"Sokensha\", \"orientation\": \"v\", \"showlegend\": true, \"stackgroup\": \"1\", \"type\": \"scatter\", \"x\": [\"Japan\"], \"xaxis\": \"x\", \"y\": [3.5], \"yaxis\": \"y\"}, {\"hovertemplate\": \"<b>%{hovertext}</b><br><br>Brand=Takamori<br>Country=%{x}<br>Stars=%{y}<extra></extra>\", \"hovertext\": [\"Hearty Japanese Style Curry Udon\"], \"legendgroup\": \"Takamori\", \"line\": {\"color\": \"#ab63fa\"}, \"mode\": \"lines\", \"name\": \"Takamori\", \"orientation\": \"v\", \"showlegend\": true, \"stackgroup\": \"1\", \"type\": \"scatter\", \"x\": [\"Japan\"], \"xaxis\": \"x\", \"y\": [5.0], \"yaxis\": \"y\"}, {\"hovertemplate\": \"<b>%{hovertext}</b><br><br>Brand=Guava Story<br>Country=%{x}<br>Stars=%{y}<extra></extra>\", \"hovertext\": [\"Anchovy Flavor Guava Rice Noodles\"], \"legendgroup\": \"Guava Story\", \"line\": {\"color\": \"#FFA15A\"}, \"mode\": \"lines\", \"name\": \"Guava Story\", \"orientation\": \"v\", \"showlegend\": true, \"stackgroup\": \"1\", \"type\": \"scatter\", \"x\": [\"South Korea\"], \"xaxis\": \"x\", \"y\": [1.0], \"yaxis\": \"y\"}, {\"hovertemplate\": \"<b>%{hovertext}</b><br><br>Brand=Samurai Ramen<br>Country=%{x}<br>Stars=%{y}<extra></extra>\", \"hovertext\": [\"Umami Ramen\"], \"legendgroup\": \"Samurai Ramen\", \"line\": {\"color\": \"#19d3f3\"}, \"mode\": \"lines\", \"name\": \"Samurai Ramen\", \"orientation\": \"v\", \"showlegend\": true, \"stackgroup\": \"1\", \"type\": \"scatter\", \"x\": [\"Japan\"], \"xaxis\": \"x\", \"y\": [4.0], \"yaxis\": \"y\"}, {\"hovertemplate\": \"<b>%{hovertext}</b><br><br>Brand=Ogasawara<br>Country=%{x}<br>Stars=%{y}<extra></extra>\", \"hovertext\": [\"Kirin Giraffe Shoyu Ramen\", \"Kirin Giraffe Shio Ramen\"], \"legendgroup\": \"Ogasawara\", \"line\": {\"color\": \"#FF6692\"}, \"mode\": \"lines\", \"name\": \"Ogasawara\", \"orientation\": \"v\", \"showlegend\": true, \"stackgroup\": \"1\", \"type\": \"scatter\", \"x\": [\"Japan\", \"Japan\"], \"xaxis\": \"x\", \"y\": [4.5, 5.0], \"yaxis\": \"y\"}, {\"hovertemplate\": \"<b>%{hovertext}</b><br><br>Brand=Pringles<br>Country=%{x}<br>Stars=%{y}<extra></extra>\", \"hovertext\": [\"Nissin Top Ramen Chicken Flavor Potato Crisps \"], \"legendgroup\": \"Pringles\", \"line\": {\"color\": \"#B6E880\"}, \"mode\": \"lines\", \"name\": \"Pringles\", \"orientation\": \"v\", \"showlegend\": true, \"stackgroup\": \"1\", \"type\": \"scatter\", \"x\": [\"USA\"], \"xaxis\": \"x\", \"y\": [3.5], \"yaxis\": \"y\"}, {\"hovertemplate\": \"<b>%{hovertext}</b><br><br>Brand=Mom's Dry Noodle<br>Country=%{x}<br>Stars=%{y}<extra></extra>\", \"hovertext\": [\"Dan Dan Noodle\", \"Sesame & Pepper\", \"Spicy & Sour Flavor\", \"Vegan Chilli With Sesame Sauce\", \"Sichuan Spicy Flavor\", \"Onion Oil & Shrimp Flavor\"], \"legendgroup\": \"Mom's Dry Noodle\", \"line\": {\"color\": \"#FF97FF\"}, \"mode\": \"lines\", \"name\": \"Mom's Dry Noodle\", \"orientation\": \"v\", \"showlegend\": true, \"stackgroup\": \"1\", \"type\": \"scatter\", \"x\": [\"Taiwan\", \"Taiwan\", \"Taiwan\", \"Taiwan\", \"Taiwan\", \"Taiwan\"], \"xaxis\": \"x\", \"y\": [5.0, 4.0, 5.0, 5.0, 5.0, 5.0], \"yaxis\": \"y\"}, {\"hovertemplate\": \"<b>%{hovertext}</b><br><br>Brand=Indomie<br>Country=%{x}<br>Stars=%{y}<extra></extra>\", \"hovertext\": [\"RMy Noodlez Rumput Laut\", \"My Noodles Mi Goreng Pizza Cheese\", \"Pop Mie Mi Instan Cup Rasa Ayam\", \"Instant Cup Noodles Mi Goreng Fried Noodles\", \"Pop Mie Chicken Flavour Cup Noodles\", \"Mi Goreng Rasa Iga Penyet\", \"Taste Of Asia Mi Goreng Rasa Bulgogi Ala Korea\", \"Taste Of Asia Mi Kuah Rasa Tom Yum Ala Thailand\", \"Instant Noodle Beef & Lime Flavour\", \"Mi Goreng Cabe Ijo\", \"Kriuuk Bawang\", \"Rasa Coto Makassar\", \"Special Fried Curly Noodle (Local)\", \"Rasa Mi Cakalang\", \"Mi Goreng Kriuuk Pedas\", \"Beef\", \"Mi Goreng Kriuuk Ayam\", \"Rasa Sup Sayuran Vegan\", \"Mi Goreng Vegan\", \"Mi Goreng Sate (Local)\", \"Mi Goreng Rasa Ayam Panggang Jumbo (Local)\", \"Rasa Soto Betawi\", \"Curly Noodle With Chicken Chilli Paddi\", \"Rasa Mi Kocok Bandung\", \"Rasa Soto Banjar Limau Kulit\", \"Mi Goreng Jumbo Beef\", \"Rasa Kari Ayam Medan\", \"Rasa Empal Gentong\", \"Mi Goreng Cakalang\", \"Mi Goreng Instant Cup Noodles\", \"Curly Noodle With Laksa Chilli\", \"Mi Goreng Barbecue Chicken\", \"Mi Goreng Rendang (Import)\", \"Rasa Sup Buntut Oxtail Soup\", \"Instant Cup Noodles Mi Goreng Satay\", \"Spicy Coconut Shrimp\", \"Mi Goreng Jumbo Beef\", \"Onion Chicken\", \"Special Fried Curly Noodle\", \"Soto Mie\", \"Meatball Flavor\", \"Mi Goreng Rendang\", \"Chicken\", \"Chicken Curry\", \"Curly Noodles With Grilled Chicken\", \"Mi Goreng\", \"Mi Goreng Pedas Hot\", \"Shrimp Flavor\", \"Mi Goreng Jumbo Barbecue Chicken\", \"Mi Goreng Jumbo Meatball\", \"Mi Goreng Sate\", \"Special Chicken\"], \"legendgroup\": \"Indomie\", \"line\": {\"color\": \"#FECB52\"}, \"mode\": \"lines\", \"name\": \"Indomie\", \"orientation\": \"v\", \"showlegend\": true, \"stackgroup\": \"1\", \"type\": \"scatter\", \"x\": [\"Indonesia\", \"Indonesia\", \"Indonesia\", \"Indonesia\", \"Indonesia\", \"Indonesia\", \"Indonesia\", \"Indonesia\", \"Indonesia\", \"Indonesia\", \"Indonesia\", \"Indonesia\", \"Indonesia\", \"Indonesia\", \"Indonesia\", \"Indonesia\", \"Indonesia\", \"Indonesia\", \"Indonesia\", \"Indonesia\", \"Indonesia\", \"Indonesia\", \"Indonesia\", \"Indonesia\", \"Indonesia\", \"Indonesia\", \"Indonesia\", \"Indonesia\", \"Indonesia\", \"Indonesia\", \"Indonesia\", \"Indonesia\", \"Indonesia\", \"Indonesia\", \"Indonesia\", \"Indonesia\", \"Indonesia\", \"Indonesia\", \"Indonesia\", \"Indonesia\", \"Indonesia\", \"Indonesia\", \"Indonesia\", \"Indonesia\", \"Indonesia\", \"Indonesia\", \"Indonesia\", \"Indonesia\", \"Indonesia\", \"Indonesia\", \"Indonesia\", \"Indonesia\"], \"xaxis\": \"x\", \"y\": [4.0, 4.0, 3.5, 5.0, 3.5, 4.75, 2.75, 3.75, 4.25, 4.5, 4.25, 4.0, 5.0, 4.5, 3.75, 3.5, 3.75, 2.25, 4.25, 5.0, 5.0, 4.5, 4.25, 3.25, 5.0, 5.0, 5.0, 4.0, 4.0, 5.0, 3.5, 5.0, 5.0, 2.75, 4.25, 4.75, 5.0, 4.5, 5.0, 1.5, 2.5, 4.5, 2.0, 4.0, 5.0, 5.0, 4.5, 3.0, 5.0, 3.0, 5.0, 4.25], \"yaxis\": \"y\"}, {\"hovertemplate\": \"<b>%{hovertext}</b><br><br>Brand=Happy Cook<br>Country=%{x}<br>Stars=%{y}<extra></extra>\", \"hovertext\": [\"Toona Paste Noodle\", \"Old Beijing Fried Bean Sauce Noodle\", \"Sichuan Spicy Flavor\"], \"legendgroup\": \"Happy Cook\", \"line\": {\"color\": \"#636efa\"}, \"mode\": \"lines\", \"name\": \"Happy Cook\", \"orientation\": \"v\", \"showlegend\": true, \"stackgroup\": \"1\", \"type\": \"scatter\", \"x\": [\"Taiwan\", \"Taiwan\", \"Taiwan\"], \"xaxis\": \"x\", \"y\": [4.0, 4.25, 5.0], \"yaxis\": \"y\"}, {\"hovertemplate\": \"<b>%{hovertext}</b><br><br>Brand=The Ramen Rater Select<br>Country=%{x}<br>Stars=%{y}<extra></extra>\", \"hovertext\": [\"Supreme Creamy Tom Yum Noodle\"], \"legendgroup\": \"The Ramen Rater Select\", \"line\": {\"color\": \"#EF553B\"}, \"mode\": \"lines\", \"name\": \"The Ramen Rater Select\", \"orientation\": \"v\", \"showlegend\": true, \"stackgroup\": \"1\", \"type\": \"scatter\", \"x\": [\"Malaysia\"], \"xaxis\": \"x\", \"y\": [5.0], \"yaxis\": \"y\"}, {\"hovertemplate\": \"<b>%{hovertext}</b><br><br>Brand=TTL<br>Country=%{x}<br>Stars=%{y}<extra></extra>\", \"hovertext\": [\"Chicken With Chinese Shaoxing Wine\", \"Sesame Oil Chicken Noodle With Rice Wine\", \"Sesame Oil Chicken With Rice Wine Noodle\"], \"legendgroup\": \"TTL\", \"line\": {\"color\": \"#00cc96\"}, \"mode\": \"lines\", \"name\": \"TTL\", \"orientation\": \"v\", \"showlegend\": true, \"stackgroup\": \"1\", \"type\": \"scatter\", \"x\": [\"Taiwan\", \"Taiwan\", \"Taiwan\"], \"xaxis\": \"x\", \"y\": [4.75, 5.0, 5.0], \"yaxis\": \"y\"}, {\"hovertemplate\": \"<b>%{hovertext}</b><br><br>Brand=E-Zee<br>Country=%{x}<br>Stars=%{y}<extra></extra>\", \"hovertext\": [\"Instant Noodles Chicken Flavour\", \"Perisa Asam Pedas Mi Segera\", \"Perisa Kari Mi Segera (Improved Taste)\"], \"legendgroup\": \"E-Zee\", \"line\": {\"color\": \"#ab63fa\"}, \"mode\": \"lines\", \"name\": \"E-Zee\", \"orientation\": \"v\", \"showlegend\": true, \"stackgroup\": \"1\", \"type\": \"scatter\", \"x\": [\"Malaysia\", \"Malaysia\", \"Malaysia\"], \"xaxis\": \"x\", \"y\": [4.0, 4.0, 5.0], \"yaxis\": \"y\"}, {\"hovertemplate\": \"<b>%{hovertext}</b><br><br>Brand=Kiki Noodle<br>Country=%{x}<br>Stars=%{y}<extra></extra>\", \"hovertext\": [\"Scallion Oil & Soy Sauce Noodle\", \"Sichuan Spices Flavor Noodle\"], \"legendgroup\": \"Kiki Noodle\", \"line\": {\"color\": \"#FFA15A\"}, \"mode\": \"lines\", \"name\": \"Kiki Noodle\", \"orientation\": \"v\", \"showlegend\": true, \"stackgroup\": \"1\", \"type\": \"scatter\", \"x\": [\"Taiwan\", \"Taiwan\"], \"xaxis\": \"x\", \"y\": [5.0, 5.0], \"yaxis\": \"y\"}, {\"hovertemplate\": \"<b>%{hovertext}</b><br><br>Brand=Tokyo Noodle<br>Country=%{x}<br>Stars=%{y}<extra></extra>\", \"hovertext\": [\"Mini Instant Noodle Mild Curry Flavor\", \"Spicy Garlic Ramen\", \"Mini Instant Noodle Spicy Flavor\", \"Mini Instant Noodles Artificial Chicken Flavor\"], \"legendgroup\": \"Tokyo Noodle\", \"line\": {\"color\": \"#19d3f3\"}, \"mode\": \"lines\", \"name\": \"Tokyo Noodle\", \"orientation\": \"v\", \"showlegend\": true, \"stackgroup\": \"1\", \"type\": \"scatter\", \"x\": [\"Japan\", \"Japan\", \"Japan\", \"Japan\"], \"xaxis\": \"x\", \"y\": [2.0, 3.25, 3.5, 5.0], \"yaxis\": \"y\"}, {\"hovertemplate\": \"<b>%{hovertext}</b><br><br>Brand=GGE<br>Country=%{x}<br>Stars=%{y}<extra></extra>\", \"hovertext\": [\"Noodle Snack Wheat Cracks Seaweed Flavor\"], \"legendgroup\": \"GGE\", \"line\": {\"color\": \"#FF6692\"}, \"mode\": \"lines\", \"name\": \"GGE\", \"orientation\": \"v\", \"showlegend\": true, \"stackgroup\": \"1\", \"type\": \"scatter\", \"x\": [\"Taiwan\"], \"xaxis\": \"x\", \"y\": [3.5], \"yaxis\": \"y\"}, {\"hovertemplate\": \"<b>%{hovertext}</b><br><br>Brand=Myojo<br>Country=%{x}<br>Stars=%{y}<extra></extra>\", \"hovertext\": [\"Udon Japanese Style Noodles With Soup Base Hot & Sour Flavor\", \"Yomise No Yakisoba Karashi Mentaiko Flavor\", \"Shin Toyama Black Ramen\", \"Mee Goreng Spicy Flavour\", \"Barikata Noukou Tonkotsu Shoyu\", \"Mee Goreng Thai Tom Yum Flavour\", \"Mee Goreng Original Flavour\", \"Charumera Atyificial Tonkotsu Shouyu Flavor\", \"Charumera Shoyu Ramen\", \"Mee Poh Dry\", \"Chicken Abalone Flavour\", \"Ramen Char Mee 100\", \"La Ramen Spicy Mushroom Flavour Big Bowl\", \"Mee Goreng\", \"La Ramen Spicy Lobster Hot Pot Flavour Big Bowl\", \"Chicken Abalone Flavour\", \"Thai Tom Yam Flavour\", \"Chicken Tanmen Flavour\", \"Extra Spicy Singapore Curry Big Bowl\", \"La Ramen Spicy Mushroom Flavour\", \"Chicken Flavour\", \"Wantan Men\", \"Udon Japanese Style Precooked Noodles With Soup Hot & Spicy Flavor\", \"Udon Japanese Style Pre-Cooked Noodles With Soup Beef Flavor\", \"Udon Japanese Style Pre-Cooked Noodles With Soup Chicken Flavor\", \"MenWhite Creamy Tonkotsu\", \"Nyumen Desse Shoyu\", \"Men Black Seafood Tonkotsu\", \"Ippei-Chan Jumbo Night Market Style Yakisoba\", \"Chukazanmai Beijing Style Salt Ramen\", \"Chukazanmai Szechuan Style Miso\", \"Yomise No Yakisoba Shiodare Flavor With Black Pepper Mayonnaise\", \"Prawn Noodles\", \"Chukazanmai Guangdong Style Ramen\", \"Japanese Style Noodles Shio Flavor\", \"Ippei-chan Yomise No Yakisoba Teriyaki Mayo Flavor\", \"Stir Fry Noodles Japanese Style Noodles With Sauce\", \"Ippei-chan Yomise-No Yakisoba Oriental\", \"Ippeichan Soy Sauce\", \"Ramen-Desse Miso Soybean Paste\", \"Hyoubanya No Chukasoba Soy Sauce\", \"Ippeichan Soybean Paste\", \"Kakesoba Desse Soy Sauce\", \"Ramen Desse Shio\", \"Suudon Desse Soy Sauce\", \"Hyoubanya No Chukasoba Oriental\", \"Charumera Shoyu\", \"Hyoubanya No Yakisoba Oriental\", \"Udon Mushroom\", \"Udon Hot & Spicy\", \"Udon Shrimp\", \"Udon Chicken\", \"Udon Crab\", \"Chukazanmai Served Cool Sesame Flavored Rice Vinegar Sesame\", \"Chukazanmai Soy Sauce\", \"Chukazanmai Soy Sauce chili Oil\", \"Hyobanya No Yakisoba Sauce Flavor\", \"Chukazanmai Soybean Paste\", \"Chukazanmai Oriental\", \"Ramen Desse Soy Sauce\", \"Okinawa Soba\", \"Ippeichan Yakisoba\", \"Special Duck\"], \"legendgroup\": \"Myojo\", \"line\": {\"color\": \"#B6E880\"}, \"mode\": \"lines\", \"name\": \"Myojo\", \"orientation\": \"v\", \"showlegend\": true, \"stackgroup\": \"1\", \"type\": \"scatter\", \"x\": [\"USA\", \"Japan\", \"Japan\", \"Singapore\", \"Japan\", \"Singapore\", \"Singapore\", \"Japan\", \"Japan\", \"Singapore\", \"Singapore\", \"Singapore\", \"Singapore\", \"Singapore\", \"Singapore\", \"Singapore\", \"Singapore\", \"Singapore\", \"Singapore\", \"Singapore\", \"Singapore\", \"Japan\", \"USA\", \"USA\", \"USA\", \"Japan\", \"Japan\", \"Japan\", \"Japan\", \"Japan\", \"Japan\", \"Japan\", \"Singapore\", \"Japan\", \"USA\", \"Japan\", \"USA\", \"Japan\", \"Japan\", \"Japan\", \"Japan\", \"Japan\", \"Japan\", \"Japan\", \"Japan\", \"Japan\", \"Japan\", \"Japan\", \"Japan\", \"Japan\", \"Japan\", \"Japan\", \"Japan\", \"Japan\", \"Japan\", \"Japan\", \"Japan\", \"Japan\", \"Japan\", \"Japan\", \"Japan\", \"Japan\", \"Japan\"], \"xaxis\": \"x\", \"y\": [3.75, 4.5, 4.0, 5.0, 4.75, 4.0, 4.0, 3.75, 4.0, 4.25, 3.75, 3.0, 4.5, 4.0, 4.75, 3.5, 3.75, 3.5, 5.0, 4.5, 3.75, 5.0, 3.25, 3.25, 2.5, 3.0, 2.75, 3.5, 4.5, 3.0, 2.0, 3.75, 4.25, 4.25, 5.0, 5.0, 4.0, 4.75, 4.0, 4.5, 4.0, 4.0, 2.75, 4.25, 4.25, 4.25, 3.5, 4.0, 3.0, 4.5, 3.75, 3.75, 3.0, 3.0, 3.75, 3.25, 4.75, 3.5, 3.75, 1.5, 3.75, 4.0, 1.0], \"yaxis\": \"y\"}, {\"hovertemplate\": \"<b>%{hovertext}</b><br><br>Brand=Sau Tao<br>Country=%{x}<br>Stars=%{y}<extra></extra>\", \"hovertext\": [\"Instant Noodle King Pepper Duck Flavour Soup\", \"Non-Fried Mix Noodle Black Pepper XO Sauce Flavoured\", \"Black Pepper XO Sauce Flavour\", \"Ho Fan Wonton Soup Flavored\", \"Oat Noodle Tomato Soup Flavored\", \"Oat Noodle Pork Rib Flavored\", \"Oat Noodle Abalone Flavored\", \"Instant Noodle King Won Ton Flavor\", \"QQ Scallop Seafood Vermicelli\", \"Instant Noodle King Abalone & Chicken Flavoured\", \"Ho Fan Beef Soup Flavored\", \"Oat Noodle Sesame Oil Flavored\", \"Ho Fan Abalone Chicken\", \"Noodle King Lobster Thick\"], \"legendgroup\": \"Sau Tao\", \"line\": {\"color\": \"#FF97FF\"}, \"mode\": \"lines\", \"name\": \"Sau Tao\", \"orientation\": \"v\", \"showlegend\": true, \"stackgroup\": \"1\", \"type\": \"scatter\", \"x\": [\"Hong Kong\", \"Hong Kong\", \"Hong Kong\", \"Hong Kong\", \"Hong Kong\", \"Hong Kong\", \"Taiwan\", \"Hong Kong\", \"Hong Kong\", \"Hong Kong\", \"China\", \"China\", \"Hong Kong\", \"Hong Kong\"], \"xaxis\": \"x\", \"y\": [4.0, 4.5, 5.0, 3.0, 4.5, 3.5, 1.75, 2.75, 3.75, 3.5, 3.75, 3.75, 4.0, 2.75], \"yaxis\": \"y\"}, {\"hovertemplate\": \"<b>%{hovertext}</b><br><br>Brand=Wang<br>Country=%{x}<br>Stars=%{y}<extra></extra>\", \"hovertext\": [\"Extreme Spicy Hot Chicken Flavor Udon\", \"Rice Noodle Anchovy Flavor\", \"Rice Noodle Seafood Flavour\", \"Rice Noodle Kimchi Flavor\", \"Kitsune Udon\", \"Champong Spicy Seafood\"], \"legendgroup\": \"Wang\", \"line\": {\"color\": \"#FECB52\"}, \"mode\": \"lines\", \"name\": \"Wang\", \"orientation\": \"v\", \"showlegend\": true, \"stackgroup\": \"1\", \"type\": \"scatter\", \"x\": [\"South Korea\", \"South Korea\", \"South Korea\", \"South Korea\", \"South Korea\", \"South Korea\"], \"xaxis\": \"x\", \"y\": [2.0, 3.0, 5.0, 4.0, 4.0, 3.5], \"yaxis\": \"y\"}, {\"hovertemplate\": \"<b>%{hovertext}</b><br><br>Brand=Daifuku<br>Country=%{x}<br>Stars=%{y}<extra></extra>\", \"hovertext\": [\"Katsuo Bowl Udon\"], \"legendgroup\": \"Daifuku\", \"line\": {\"color\": \"#636efa\"}, \"mode\": \"lines\", \"name\": \"Daifuku\", \"orientation\": \"v\", \"showlegend\": true, \"stackgroup\": \"1\", \"type\": \"scatter\", \"x\": [\"USA\"], \"xaxis\": \"x\", \"y\": [5.0], \"yaxis\": \"y\"}, {\"hovertemplate\": \"<b>%{hovertext}</b><br><br>Brand=Master Kong<br>Country=%{x}<br>Stars=%{y}<extra></extra>\", \"hovertext\": [\"Roasted Pork Noodle\", \"Chicken Flavor Instant Noolde\", \"Artificial Abalone Crab Flavor Instant Noodle\", \"Assorted Seafood Noodles\", \"Artificial Mushroom Chicken Flavor Instant Noodle\", \"Artificial Pork Ribs Flavour Instant Noodle\", \"Tomato Sauce Instant Noodle\", \"Assorted Pork Bone Noodle\", \"Spicy Fish Noodle\", \"Mushroom Instant Noodle\", \"Braised Beef Noodle\", \"Tomato Sauce Instant Noodle\", \"Sichuan Hot Spicy Fish\", \"Seafood Flavour Instant Cooking Noodles\", \"Artificial Seafood Flavor Instant Noodle\", \"Spicy Beef Flavor Instant Noodle\", \"Stewed Beef Flavor Cooking Noodle\", \"Mianba Pork Ribs Flavor Instant Noodles\", \"Mushroom Stew Chicken Ramen\", \"Artificial Braised Beef Flavor Instant Noodle\", \"Mianba\", \"Potatoes & Stewed Beef\", \"Spicy Beef\", \"Premium Taste Roasted Beef\", \"Red Oil Dan Dan\", \"Artificial Spicy Beef\", \"Artificial Braised Beef\", \"Artificial Pork\"], \"legendgroup\": \"Master Kong\", \"line\": {\"color\": \"#EF553B\"}, \"mode\": \"lines\", \"name\": \"Master Kong\", \"orientation\": \"v\", \"showlegend\": true, \"stackgroup\": \"1\", \"type\": \"scatter\", \"x\": [\"China\", \"China\", \"China\", \"China\", \"China\", \"China\", \"China\", \"China\", \"China\", \"China\", \"China\", \"China\", \"China\", \"China\", \"China\", \"China\", \"China\", \"China\", \"China\", \"China\", \"China\", \"China\", \"China\", \"China\", \"China\", \"China\", \"China\", \"China\"], \"xaxis\": \"x\", \"y\": [4.5, 4.25, 0.0, 4.0, 4.0, 3.5, 4.5, 4.0, 3.0, 4.25, 4.25, 4.0, 3.75, 4.25, 3.75, 4.0, 4.25, 4.5, 3.5, 3.75, 4.0, 5.0, 3.75, 4.0, 2.75, 4.25, 4.25, 3.75], \"yaxis\": \"y\"}, {\"hovertemplate\": \"<b>%{hovertext}</b><br><br>Brand=World O' Noodle<br>Country=%{x}<br>Stars=%{y}<extra></extra>\", \"hovertext\": [\"Mi Goreng Original Flavour Fried Noodles\", \"Mi Goreng Garlic Flavour Fried Noodles\"], \"legendgroup\": \"World O' Noodle\", \"line\": {\"color\": \"#00cc96\"}, \"mode\": \"lines\", \"name\": \"World O' Noodle\", \"orientation\": \"v\", \"showlegend\": true, \"stackgroup\": \"1\", \"type\": \"scatter\", \"x\": [\"Indonesia\", \"Indonesia\"], \"xaxis\": \"x\", \"y\": [5.0, 4.5], \"yaxis\": \"y\"}, {\"hovertemplate\": \"<b>%{hovertext}</b><br><br>Brand=Kang Shi Fu<br>Country=%{x}<br>Stars=%{y}<extra></extra>\", \"hovertext\": [\"Artificial Dongpo's Braised Pork Flavour\", \"Artificial Spicy Beef Flavour\", \"Artificial Beef With Sauerkraut Flavour\", \"Artificial Salted Beef With Mushrooms Flavour\", \"Artificial Roasted Beef\"], \"legendgroup\": \"Kang Shi Fu\", \"line\": {\"color\": \"#ab63fa\"}, \"mode\": \"lines\", \"name\": \"Kang Shi Fu\", \"orientation\": \"v\", \"showlegend\": true, \"stackgroup\": \"1\", \"type\": \"scatter\", \"x\": [\"Hong Kong\", \"Hong Kong\", \"Hong Kong\", \"Hong Kong\", \"China\"], \"xaxis\": \"x\", \"y\": [4.75, 4.0, 4.0, 4.0, 3.5], \"yaxis\": \"y\"}, {\"hovertemplate\": \"<b>%{hovertext}</b><br><br>Brand=Fashion Food<br>Country=%{x}<br>Stars=%{y}<extra></extra>\", \"hovertext\": [\"Yummy Spicy Rice Soup With Seafood\", \"Tom Yum Shrimp Creamy Flavour Instant Noodles\", \"Tom Yum Seafood Creamy\"], \"legendgroup\": \"Fashion Food\", \"line\": {\"color\": \"#FFA15A\"}, \"mode\": \"lines\", \"name\": \"Fashion Food\", \"orientation\": \"v\", \"showlegend\": true, \"stackgroup\": \"1\", \"type\": \"scatter\", \"x\": [\"Thailand\", \"Thailand\", \"Thailand\"], \"xaxis\": \"x\", \"y\": [3.5, 4.0, 2.0], \"yaxis\": \"y\"}, {\"hovertemplate\": \"<b>%{hovertext}</b><br><br>Brand=Dream Kitchen<br>Country=%{x}<br>Stars=%{y}<extra></extra>\", \"hovertext\": [\"Udon Japanese Style Fresh Noodle\", \"Curry Flavour Instant Noodles\", \"Soy Sauce\", \"Tonkotsu\"], \"legendgroup\": \"Dream Kitchen\", \"line\": {\"color\": \"#19d3f3\"}, \"mode\": \"lines\", \"name\": \"Dream Kitchen\", \"orientation\": \"v\", \"showlegend\": true, \"stackgroup\": \"1\", \"type\": \"scatter\", \"x\": [\"USA\", \"USA\", \"USA\", \"USA\"], \"xaxis\": \"x\", \"y\": [3.75, 5.0, 4.0, 3.0], \"yaxis\": \"y\"}, {\"hovertemplate\": \"<b>%{hovertext}</b><br><br>Brand=Ajinatori<br>Country=%{x}<br>Stars=%{y}<extra></extra>\", \"hovertext\": [\"HALAL Chicken Shoyu Sauce Ramen\", \"Chicken Flavor Ramen\"], \"legendgroup\": \"Ajinatori\", \"line\": {\"color\": \"#FF6692\"}, \"mode\": \"lines\", \"name\": \"Ajinatori\", \"orientation\": \"v\", \"showlegend\": true, \"stackgroup\": \"1\", \"type\": \"scatter\", \"x\": [\"Japan\", \"Japan\"], \"xaxis\": \"x\", \"y\": [2.5, 4.0], \"yaxis\": \"y\"}, {\"hovertemplate\": \"<b>%{hovertext}</b><br><br>Brand=Dr. McDougall's<br>Country=%{x}<br>Stars=%{y}<extra></extra>\", \"hovertext\": [\"Vegan Pad Thai Noodle Soup\"], \"legendgroup\": \"Dr. McDougall's\", \"line\": {\"color\": \"#B6E880\"}, \"mode\": \"lines\", \"name\": \"Dr. McDougall's\", \"orientation\": \"v\", \"showlegend\": true, \"stackgroup\": \"1\", \"type\": \"scatter\", \"x\": [\"USA\"], \"xaxis\": \"x\", \"y\": [0.0], \"yaxis\": \"y\"}, {\"hovertemplate\": \"<b>%{hovertext}</b><br><br>Brand=Ve Wong<br>Country=%{x}<br>Stars=%{y}<extra></extra>\", \"hovertext\": [\"Kung-Fu Instant Oriental Noodles Soup Artificial Onion Flavor\", \"Little Prince(ss) Brand Snack Noodles Artificial Mexican Pizza Flavor\", \"Kung-Fu Brand Instant Oriental Noodle Soup Artificial Beef Flavor\", \"Little Prince Brand Snack Noodles Original Flavor\", \"Kung Fu Artificial Mushroom Pork\", \"Artificial Onion Flavor Bean Thread\", \"Kung Fu Shrimp\", \"Kung Fu Artificial Beef Rice Noodle\", \"Kung Fu Artificial Szechuan Pork\", \"Kung Fu Artificial Sesame Chicken\", \"Instant Bean Thread Seafood\", \"Artificial Classic Beef\", \"Hot Of Hots Artificial Black Peppered Beef\", \"Hot Of Hots Artificial Satay Beef\", \"Kung Fu Artificial Soybean Paste\", \"Artificial Peppered Beef\", \"Artificial Pork & Chicken\", \"Vegetarian Flavor\", \"Artificial Sesame Chicken\", \"Kung Fu Artificial Onion\", \"A-One Bun Tom Shrimp\"], \"legendgroup\": \"Ve Wong\", \"line\": {\"color\": \"#FF97FF\"}, \"mode\": \"lines\", \"name\": \"Ve Wong\", \"orientation\": \"v\", \"showlegend\": true, \"stackgroup\": \"1\", \"type\": \"scatter\", \"x\": [\"Taiwan\", \"Taiwan\", \"Taiwan\", \"Taiwan\", \"Taiwan\", \"Taiwan\", \"Taiwan\", \"Taiwan\", \"Taiwan\", \"Taiwan\", \"Taiwan\", \"Taiwan\", \"Taiwan\", \"Taiwan\", \"Taiwan\", \"Taiwan\", \"Taiwan\", \"Taiwan\", \"Taiwan\", \"Taiwan\", \"Taiwan\"], \"xaxis\": \"x\", \"y\": [3.5, 4.0, 3.75, 2.5, 1.25, 1.5, 4.0, 3.75, 3.75, 3.75, 2.5, 3.75, 1.25, 3.75, 4.0, 3.5, 3.4, 3.0, 4.25, 2.75, 3.0], \"yaxis\": \"y\"}, {\"hovertemplate\": \"<b>%{hovertext}</b><br><br>Brand=Super Bihun<br>Country=%{x}<br>Stars=%{y}<extra></extra>\", \"hovertext\": [\"Bihun Kuah Rasa Baso Sapi\", \"Kuah Rice Noodles\", \"Kuah Rasa Baso Sapi Rice Noodles\", \"Goreng Rice Noodles\"], \"legendgroup\": \"Super Bihun\", \"line\": {\"color\": \"#FECB52\"}, \"mode\": \"lines\", \"name\": \"Super Bihun\", \"orientation\": \"v\", \"showlegend\": true, \"stackgroup\": \"1\", \"type\": \"scatter\", \"x\": [\"Indonesia\", \"Indonesia\", \"Indonesia\", \"Indonesia\"], \"xaxis\": \"x\", \"y\": [3.75, 4.5, 3.0, 4.5], \"yaxis\": \"y\"}, {\"hovertemplate\": \"<b>%{hovertext}</b><br><br>Brand=Xiuhe<br>Country=%{x}<br>Stars=%{y}<extra></extra>\", \"hovertext\": [\"Hot & Sour Beef Noodles\"], \"legendgroup\": \"Xiuhe\", \"line\": {\"color\": \"#636efa\"}, \"mode\": \"lines\", \"name\": \"Xiuhe\", \"orientation\": \"v\", \"showlegend\": true, \"stackgroup\": \"1\", \"type\": \"scatter\", \"x\": [\"China\"], \"xaxis\": \"x\", \"y\": [4.25], \"yaxis\": \"y\"}, {\"hovertemplate\": \"<b>%{hovertext}</b><br><br>Brand=Little Cook<br>Country=%{x}<br>Stars=%{y}<extra></extra>\", \"hovertext\": [\"Thailand Green Curry Instant Noodle\", \"Instant Noodles Shrimp Tom Yum Flavour\", \"Stewed Duck\", \"Mushroom Vegetarian\", \"Abalone Chicken\", \"TVP Stewed Pork\", \"Spicy Beef\", \"Artificial Onion\", \"Vegetarian\", \"Wheat Gluten Stewed Duck Flavoured\", \"Tom Yum Seafood Creamy\", \"TVP Curry Chicken\", \"TVP Spicy Beef\", \"Pork Mustard Stem\"], \"legendgroup\": \"Little Cook\", \"line\": {\"color\": \"#EF553B\"}, \"mode\": \"lines\", \"name\": \"Little Cook\", \"orientation\": \"v\", \"showlegend\": true, \"stackgroup\": \"1\", \"type\": \"scatter\", \"x\": [\"Taiwan\", \"Thailand\", \"Thailand\", \"Thailand\", \"Thailand\", \"Thailand\", \"Thailand\", \"Thailand\", \"Thailand\", \"Thailand\", \"Thailand\", \"Thailand\", \"Thailand\", \"Thailand\"], \"xaxis\": \"x\", \"y\": [5.0, 4.25, 3.0, 4.75, 1.75, 3.5, 2.75, 3.5, 3.25, 2.75, 3.0, 4.0, 4.75, 0.5], \"yaxis\": \"y\"}, {\"hovertemplate\": \"<b>%{hovertext}</b><br><br>Brand=Shirakiku<br>Country=%{x}<br>Stars=%{y}<extra></extra>\", \"hovertext\": [\"Sanukiya Udon Shrimp Flavor\", \"Karami Ramen Spicy Chili Flavour Japanese Style Noodle With Soup Base\", \"Fresh Chow Mein Noodles With Seasoning\", \"Hot & Spicy Udon\", \"Japanese Style Tokusen Sio\", \"Sanukiya Fresh Spicy Ramen\", \"Japanese Style Tokusen Shoyu\", \"Sanukiya Somen\", \"Sanukiya Udon\", \"Japanese Style Tokusen Miso\", \"Japanese Style Tokusen Karami\"], \"legendgroup\": \"Shirakiku\", \"line\": {\"color\": \"#00cc96\"}, \"mode\": \"lines\", \"name\": \"Shirakiku\", \"orientation\": \"v\", \"showlegend\": true, \"stackgroup\": \"1\", \"type\": \"scatter\", \"x\": [\"USA\", \"USA\", \"USA\", \"USA\", \"Japan\", \"Japan\", \"Japan\", \"Japan\", \"Japan\", \"Japan\", \"Japan\"], \"xaxis\": \"x\", \"y\": [3.25, 2.0, 3.75, 3.0, 3.25, 3.0, 4.0, 4.25, 3.75, 3.0, 3.0], \"yaxis\": \"y\"}, {\"hovertemplate\": \"<b>%{hovertext}</b><br><br>Brand=Mama Pat's<br>Country=%{x}<br>Stars=%{y}<extra></extra>\", \"hovertext\": [\"Chicken Fajita Flavor Instant Ramen Noodles\", \"Lamb Stew Flavor Instant Ramen Noodles\", \"Seafood Gumbo Flavor Instant Ramen Noodles\", \"Chicken Taco Flavor Instant Ramen Noodles\"], \"legendgroup\": \"Mama Pat's\", \"line\": {\"color\": \"#ab63fa\"}, \"mode\": \"lines\", \"name\": \"Mama Pat's\", \"orientation\": \"v\", \"showlegend\": true, \"stackgroup\": \"1\", \"type\": \"scatter\", \"x\": [\"USA\", \"USA\", \"USA\", \"USA\"], \"xaxis\": \"x\", \"y\": [3.75, 3.75, 3.5, 3.75], \"yaxis\": \"y\"}, {\"hovertemplate\": \"<b>%{hovertext}</b><br><br>Brand=Goku-Uma<br>Country=%{x}<br>Stars=%{y}<extra></extra>\", \"hovertext\": [\"Yakisoba Japanese Style Noodle\", \"Ramen Noodles Miso Flavor\", \"Ramen Noodles Soy Sauce Flavor\", \"Ramen Noodles Artificially Flavored Tonkotsu\"], \"legendgroup\": \"Goku-Uma\", \"line\": {\"color\": \"#FFA15A\"}, \"mode\": \"lines\", \"name\": \"Goku-Uma\", \"orientation\": \"v\", \"showlegend\": true, \"stackgroup\": \"1\", \"type\": \"scatter\", \"x\": [\"USA\", \"USA\", \"USA\", \"USA\"], \"xaxis\": \"x\", \"y\": [4.75, 3.0, 3.0, 3.0], \"yaxis\": \"y\"}, {\"hovertemplate\": \"<b>%{hovertext}</b><br><br>Brand=Sichuan Baijia<br>Country=%{x}<br>Stars=%{y}<extra></extra>\", \"hovertext\": [\"Chongqing Noodles Burning Dry Noodles\", \"Pickled Cabbage Flavor Instant Vermicelli\", \"Chongqing Noodles Spicy Hot Flavor\", \"Chongqing Noodles Hot & Sour Flavor\", \"Chongqing Noodles Burning Dry Noodles\", \"Broad Noodle Artificial Beef Flavor Hot Pot\", \"Hot spicy Flavor Instant Vermicelli\", \"Artificial Pickled Cabbage Fish Flavor Instant Vermicelli\", \"Broad Noodle Artificial Beef Flavor\", \"Broad Noodle Chilli Oil Flavor\"], \"legendgroup\": \"Sichuan Baijia\", \"line\": {\"color\": \"#19d3f3\"}, \"mode\": \"lines\", \"name\": \"Sichuan Baijia\", \"orientation\": \"v\", \"showlegend\": true, \"stackgroup\": \"1\", \"type\": \"scatter\", \"x\": [\"China\", \"China\", \"China\", \"China\", \"China\", \"China\", \"China\", \"China\", \"China\", \"China\"], \"xaxis\": \"x\", \"y\": [5.0, 4.0, 5.0, 4.0, 5.0, 4.0, 3.5, 1.5, 3.5, 4.5], \"yaxis\": \"y\"}, {\"hovertemplate\": \"<b>%{hovertext}</b><br><br>Brand=Liang Cheng Mai<br>Country=%{x}<br>Stars=%{y}<extra></extra>\", \"hovertext\": [\"Shaanxi Cold Noodle: Mustard Spicy\"], \"legendgroup\": \"Liang Cheng Mai\", \"line\": {\"color\": \"#FF6692\"}, \"mode\": \"lines\", \"name\": \"Liang Cheng Mai\", \"orientation\": \"v\", \"showlegend\": true, \"stackgroup\": \"1\", \"type\": \"scatter\", \"x\": [\"China\"], \"xaxis\": \"x\", \"y\": [1.0], \"yaxis\": \"y\"}, {\"hovertemplate\": \"<b>%{hovertext}</b><br><br>Brand=Gefen<br>Country=%{x}<br>Stars=%{y}<extra></extra>\", \"hovertext\": [\"Imitation Chicken Flavor\", \"Vegetable\", \"Chicken\", \"Imitation Chicken Vegetarian\"], \"legendgroup\": \"Gefen\", \"line\": {\"color\": \"#B6E880\"}, \"mode\": \"lines\", \"name\": \"Gefen\", \"orientation\": \"v\", \"showlegend\": true, \"stackgroup\": \"1\", \"type\": \"scatter\", \"x\": [\"USA\", \"USA\", \"USA\", \"USA\"], \"xaxis\": \"x\", \"y\": [4.0, 3.25, 3.5, 3.0], \"yaxis\": \"y\"}, {\"hovertemplate\": \"<b>%{hovertext}</b><br><br>Brand=Hua Feng<br>Country=%{x}<br>Stars=%{y}<extra></extra>\", \"hovertext\": [\"Three Fresh Delicacies Instant Noodle\"], \"legendgroup\": \"Hua Feng\", \"line\": {\"color\": \"#FF97FF\"}, \"mode\": \"lines\", \"name\": \"Hua Feng\", \"orientation\": \"v\", \"showlegend\": true, \"stackgroup\": \"1\", \"type\": \"scatter\", \"x\": [\"China\"], \"xaxis\": \"x\", \"y\": [4.25], \"yaxis\": \"y\"}, {\"hovertemplate\": \"<b>%{hovertext}</b><br><br>Brand=Pulmuone<br>Country=%{x}<br>Stars=%{y}<extra></extra>\", \"hovertext\": [\"Non-Fried Ramyun With Spicy Beef Broth\", \"Non-Fried Ramyun Noodle (Crab Flavor)\", \"Noodle With Spicy Oyster Soup\", \"Non-Fried Noodle Blackbean Sauce Noodle With Squid\", \"Nature Is Delicious Non-Fried Ramyun (Spicy Flavor) (New Version)\", \"Nature Is Delicious Spicy\", \"Cold Noodles By Dad\", \"Fresh Ramen Spicy\"], \"legendgroup\": \"Pulmuone\", \"line\": {\"color\": \"#FECB52\"}, \"mode\": \"lines\", \"name\": \"Pulmuone\", \"orientation\": \"v\", \"showlegend\": true, \"stackgroup\": \"1\", \"type\": \"scatter\", \"x\": [\"South Korea\", \"South Korea\", \"South Korea\", \"South Korea\", \"South Korea\", \"South Korea\", \"South Korea\", \"South Korea\"], \"xaxis\": \"x\", \"y\": [3.75, 5.0, 4.0, 4.5, 3.75, 3.75, 2.75, 3.0], \"yaxis\": \"y\"}, {\"hovertemplate\": \"<b>%{hovertext}</b><br><br>Brand=Liu Quan<br>Country=%{x}<br>Stars=%{y}<extra></extra>\", \"hovertext\": [\"Instant Spicy Rice Noodle\"], \"legendgroup\": \"Liu Quan\", \"line\": {\"color\": \"#636efa\"}, \"mode\": \"lines\", \"name\": \"Liu Quan\", \"orientation\": \"v\", \"showlegend\": true, \"stackgroup\": \"1\", \"type\": \"scatter\", \"x\": [\"China\"], \"xaxis\": \"x\", \"y\": [4.0], \"yaxis\": \"y\"}, {\"hovertemplate\": \"<b>%{hovertext}</b><br><br>Brand=Daikoku<br>Country=%{x}<br>Stars=%{y}<extra></extra>\", \"hovertext\": [\"Tanuki Soba\", \"Kitsune Udon\", \"Hiroshima Flavor Yakisoba\", \"Bikkuchigekara Big Chige\", \"Shokuh Kitsune Udon\", \"My Friend Vic Tanuki Udon\"], \"legendgroup\": \"Daikoku\", \"line\": {\"color\": \"#EF553B\"}, \"mode\": \"lines\", \"name\": \"Daikoku\", \"orientation\": \"v\", \"showlegend\": true, \"stackgroup\": \"1\", \"type\": \"scatter\", \"x\": [\"Japan\", \"Japan\", \"Japan\", \"Japan\", \"Japan\", \"Japan\"], \"xaxis\": \"x\", \"y\": [3.5, 2.0, 5.0, 3.75, 4.25, 4.75], \"yaxis\": \"y\"}, {\"hovertemplate\": \"<b>%{hovertext}</b><br><br>Brand=Chuan Wei Wang<br>Country=%{x}<br>Stars=%{y}<extra></extra>\", \"hovertext\": [\"Bowl Instant Noodles Artificial Spicy Beef Flavor\", \"Bowl Instant Noodles Artificial Beef With Sauerkraut Flavor\"], \"legendgroup\": \"Chuan Wei Wang\", \"line\": {\"color\": \"#00cc96\"}, \"mode\": \"lines\", \"name\": \"Chuan Wei Wang\", \"orientation\": \"v\", \"showlegend\": true, \"stackgroup\": \"1\", \"type\": \"scatter\", \"x\": [\"China\", \"China\"], \"xaxis\": \"x\", \"y\": [4.0, 3.0], \"yaxis\": \"y\"}, {\"hovertemplate\": \"<b>%{hovertext}</b><br><br>Brand=Kamfen<br>Country=%{x}<br>Stars=%{y}<extra></extra>\", \"hovertext\": [\"Noodle King Artificial Wonton Soup Flavored\", \"Noodle King Artificial Abalone And Chicken Soup Flavored\", \"Instant Wonton Noodles Scallop Lobster Soup Flavour\", \"Dried Mix Noodles Scallop Seafood Flavoured\", \"Noodle King Artificial Beef Soup Flavored\", \"Wonton Noodles Beef Flavour\", \"E-Men Noodles Abalone Soup Flavor\", \"E-men Lobster Soup\", \"dried Mix Noodles Soya Bean Paste\", \"Dried Mix Noodles Artificial Spicy Pork\", \"Japanese U-Don Lobster Scallop\", \"E Menm Chicken\", \"Dried Mix Noodles XO Sauce\", \"Noodle King Thin Wonton\", \"Noodle King Beef\"], \"legendgroup\": \"Kamfen\", \"line\": {\"color\": \"#ab63fa\"}, \"mode\": \"lines\", \"name\": \"Kamfen\", \"orientation\": \"v\", \"showlegend\": true, \"stackgroup\": \"1\", \"type\": \"scatter\", \"x\": [\"Hong Kong\", \"Hong Kong\", \"Hong Kong\", \"Hong Kong\", \"Hong Kong\", \"Hong Kong\", \"Hong Kong\", \"China\", \"China\", \"China\", \"China\", \"China\", \"China\", \"China\", \"China\"], \"xaxis\": \"x\", \"y\": [5.0, 4.0, 4.3, 4.25, 3.75, 3.75, 3.75, 3.25, 3.75, 4.0, 3.0, 3.75, 2.0, 2.0, 1.75], \"yaxis\": \"y\"}, {\"hovertemplate\": \"<b>%{hovertext}</b><br><br>Brand=Marutai<br>Country=%{x}<br>Stars=%{y}<extra></extra>\", \"hovertext\": [\"Nagasaki Agodashi Shoyu Ramen\", \"Kuroma-Yu Tonkotsu Kumamoto Ramen\", \"Hakata Tonkotsu Ramen\", \"Kogashi Megiiri Tonkotsu Kagoshima Ramen\", \"Kuroma-yu Tonkotsu Kumamoto Ramen\", \"Nagahama Hakata Tonkotsu Ramen\", \"Ramen Shoyu Taste\"], \"legendgroup\": \"Marutai\", \"line\": {\"color\": \"#FFA15A\"}, \"mode\": \"lines\", \"name\": \"Marutai\", \"orientation\": \"v\", \"showlegend\": true, \"stackgroup\": \"1\", \"type\": \"scatter\", \"x\": [\"Japan\", \"Japan\", \"Japan\", \"Japan\", \"Japan\", \"Japan\", \"Japan\"], \"xaxis\": \"x\", \"y\": [4.0, 4.0, 5.0, 3.5, 4.0, 4.75, 4.25], \"yaxis\": \"y\"}, {\"hovertemplate\": \"<b>%{hovertext}</b><br><br>Brand=Sempio<br>Country=%{x}<br>Stars=%{y}<extra></extra>\", \"hovertext\": [\"Clam Flavor Soup Kal-guksu\", \"Seafood Vermicelli Anchovy\", \"Seafood Noodle Cup\"], \"legendgroup\": \"Sempio\", \"line\": {\"color\": \"#19d3f3\"}, \"mode\": \"lines\", \"name\": \"Sempio\", \"orientation\": \"v\", \"showlegend\": true, \"stackgroup\": \"1\", \"type\": \"scatter\", \"x\": [\"South Korea\", \"South Korea\", \"South Korea\"], \"xaxis\": \"x\", \"y\": [5.0, 4.25, 3.5], \"yaxis\": \"y\"}, {\"hovertemplate\": \"<b>%{hovertext}</b><br><br>Brand=Qin Zong<br>Country=%{x}<br>Stars=%{y}<extra></extra>\", \"hovertext\": [\"Shaanxi Cold Noot Hot & Sour Flavor\"], \"legendgroup\": \"Qin Zong\", \"line\": {\"color\": \"#FF6692\"}, \"mode\": \"lines\", \"name\": \"Qin Zong\", \"orientation\": \"v\", \"showlegend\": true, \"stackgroup\": \"1\", \"type\": \"scatter\", \"x\": [\"China\"], \"xaxis\": \"x\", \"y\": [3.0], \"yaxis\": \"y\"}, {\"hovertemplate\": \"<b>%{hovertext}</b><br><br>Brand=Sapporo Ichiban<br>Country=%{x}<br>Stars=%{y}<extra></extra>\", \"hovertext\": [\"Mie Kamayama Ramen Gyukotsu Misoaji\", \"Tabimen AizuKitakata Gyokai Shoyu Ramen\", \"Tabimen Nagasaki Chanpon\", \"Kun Ramen Sumo-kuchikin (Smoked Chicken)\", \"Taimeiken Yousyoku Yasangatsukutta Omumen\", \"Tonkotsu Ramen Artificially Flavored Tonkotsu White Chicken Broth\", \"Otafuku Okonomi Sauce Yakisoba\", \"Sesame Ramen\", \"Pokemon Shoyu Ramen\", \"Tomato & Basil Shio Ramen\", \"Original Flavor\", \"Chow Mein (New)\", \"Shio\", \"Hot Spicy Chicken\", \"Beef Flavorc\", \"Chicken Flavor\", \"Original Flavor\", \"Beef Flavor\", \"Shrimp Flavor\", \"Miso Soybean Paste\", \"Kitsune Udon\", \"Chicken Flavor\", \"Chow Mein\", \"Shrimp Flavor\"], \"legendgroup\": \"Sapporo Ichiban\", \"line\": {\"color\": \"#B6E880\"}, \"mode\": \"lines\", \"name\": \"Sapporo Ichiban\", \"orientation\": \"v\", \"showlegend\": true, \"stackgroup\": \"1\", \"type\": \"scatter\", \"x\": [\"Japan\", \"Japan\", \"Japan\", \"Japan\", \"Japan\", \"USA\", \"Japan\", \"Japan\", \"Japan\", \"Japan\", \"USA\", \"USA\", \"Japan\", \"USA\", \"USA\", \"USA\", \"USA\", \"USA\", \"USA\", \"Japan\", \"Japan\", \"USA\", \"Japan\", \"Japan\"], \"xaxis\": \"x\", \"y\": [3.0, 4.0, 4.0, 3.0, 4.0, 5.0, 5.0, 5.0, 3.5, 4.0, 3.5, 5.0, 5.0, 2.0, 3.5, 3.75, 3.5, 4.5, 1.75, 3.5, 3.25, 3.5, 5.0, 2.5], \"yaxis\": \"y\"}, {\"hovertemplate\": \"<b>%{hovertext}</b><br><br>Brand=MAMA<br>Country=%{x}<br>Stars=%{y}<extra></extra>\", \"hovertext\": [\"Instant Bowl Noodles Shrimp (Tom Yum) Flavor Base\", \"Instant Rice Noodles Moo Nam Tok Flavour\", \"Instant Rice Vermicelli Clear Soup\", \"Instant Rice Noodles Chicken Flavour\", \"Pho Ga Rice Noodles With Artificial Chicken Flavour\", \"Oriental Kitchen Instant Rice Vermicelli In Gravy\", \"Instant Tom Yam Rice Noodles\", \"Instant Rice Noodles Vegetable Flavour\", \"Instant Rice Vermicelli Yentafo Tom Yam Mohfai\", \"Instant Flat Noodles Clear Soup\", \"Cup Rice Noodles Tom Saab Flavour\", \"Instant Rice Noodles Stew Beef Flavour\", \"Instant Rice Noodles Phnom Penh Style\", \"Instant Flat Noodles Tom Yam Flavour\", \"Vegetarian Instant Noodles Shiitake Flavour\", \"Cup Vegetarian Instant Noodles Tom Yum Flavour\"], \"legendgroup\": \"MAMA\", \"line\": {\"color\": \"#FF97FF\"}, \"mode\": \"lines\", \"name\": \"MAMA\", \"orientation\": \"v\", \"showlegend\": true, \"stackgroup\": \"1\", \"type\": \"scatter\", \"x\": [\"Thailand\", \"Thailand\", \"Thailand\", \"Thailand\", \"Thailand\", \"Thailand\", \"Thailand\", \"Thailand\", \"Thailand\", \"Thailand\", \"Thailand\", \"Thailand\", \"Thailand\", \"Thailand\", \"Thailand\", \"Thailand\"], \"xaxis\": \"x\", \"y\": [4.0, 3.5, 3.5, 4.0, 3.0, 5.0, 4.0, 4.0, 5.0, 4.0, 5.0, 4.0, 4.0, 4.0, 2.0, 4.0], \"yaxis\": \"y\"}, {\"hovertemplate\": \"<b>%{hovertext}</b><br><br>Brand=Xiao Ban Mian<br>Country=%{x}<br>Stars=%{y}<extra></extra>\", \"hovertext\": [\"Sesame Oil With Garlic Flavor Thin Noodle\", \"Traditional Shallot & Onion Oil Noodle\", \"Sesame Sauce Matcha Noodle\"], \"legendgroup\": \"Xiao Ban Mian\", \"line\": {\"color\": \"#FECB52\"}, \"mode\": \"lines\", \"name\": \"Xiao Ban Mian\", \"orientation\": \"v\", \"showlegend\": true, \"stackgroup\": \"1\", \"type\": \"scatter\", \"x\": [\"Taiwan\", \"Taiwan\", \"Taiwan\"], \"xaxis\": \"x\", \"y\": [3.5, 5.0, 3.8], \"yaxis\": \"y\"}, {\"hovertemplate\": \"<b>%{hovertext}</b><br><br>Brand=Cintan<br>Country=%{x}<br>Stars=%{y}<extra></extra>\", \"hovertext\": [\"Mi Segera Mmm... Original\", \"Mi Segera Mmm... Perisa Goreng Ala Indonesia\", \"Mi Segera Mmm... Perisa Asam Laksa\", \"Mi Segera Mmm... Perisa Ayam Cendawan\", \"Mi Segera Mmm... Perisa Kari\"], \"legendgroup\": \"Cintan\", \"line\": {\"color\": \"#636efa\"}, \"mode\": \"lines\", \"name\": \"Cintan\", \"orientation\": \"v\", \"showlegend\": true, \"stackgroup\": \"1\", \"type\": \"scatter\", \"x\": [\"Malaysia\", \"Malaysia\", \"Malaysia\", \"Malaysia\", \"Malaysia\"], \"xaxis\": \"x\", \"y\": [3.0, 3.5, 3.5, 3.5, 3.0], \"yaxis\": \"y\"}, {\"hovertemplate\": \"<b>%{hovertext}</b><br><br>Brand=JML<br>Country=%{x}<br>Stars=%{y}<extra></extra>\", \"hovertext\": [\"Hot & Sour Beef Noodles\", \"Instant Noodle Artificial Beef Flavor 7 sour Pickled Cabbage\", \"Spicy King Spicy Chicken\", \"Supereme Bowl Noodles With Stewed Egg Spicy Flavour\", \"Spicy King Bowl Noodle Spicy Chicken\", \"Spicy King Bowl Noodle Spicy Beef\", \"Spicy King Spicy Pork\", \"Supreme Bowl Noodles With Stewed Egg Sour Beans With Pork Flavour\", \"Spicy King Spicy Beef\", \"Supreme Bowl Noodles With Stewed Egg Braised Beef Flavour\", \"Spicy King Bowl Noodle Spicy Pork\", \"Emporer Instant Noodles Spicy Chicken\", \"Artificial Pork Flavor Noodles\", \"Braised Beef Noodles\", \"Artificial Stew Beef\", \"Seafood\", \"Artificial Stew Pork\", \"Artificial Mushroom Chicken\", \"Artificial Spicy Beef\", \"Artificial Spicy Hot Beef\", \"Artificial Spicy Beef\", \"Artificial Stew Beef\", \"Stew Pork\"], \"legendgroup\": \"JML\", \"line\": {\"color\": \"#EF553B\"}, \"mode\": \"lines\", \"name\": \"JML\", \"orientation\": \"v\", \"showlegend\": true, \"stackgroup\": \"1\", \"type\": \"scatter\", \"x\": [\"China\", \"China\", \"China\", \"China\", \"China\", \"China\", \"China\", \"China\", \"China\", \"China\", \"China\", \"China\", \"China\", \"China\", \"China\", \"China\", \"China\", \"China\", \"China\", \"China\", \"China\", \"China\", \"China\"], \"xaxis\": \"x\", \"y\": [4.0, 4.0, 5.0, 3.5, 5.0, 4.25, 5.0, 4.0, 5.0, 3.5, 4.5, 5.0, 4.0, 4.0, 3.75, 3.0, 3.25, 1.25, 3.5, 3.75, 3.5, 3.75, 3.25], \"yaxis\": \"y\"}, {\"hovertemplate\": \"<b>%{hovertext}</b><br><br>Brand=Unif Tung-I<br>Country=%{x}<br>Stars=%{y}<extra></extra>\", \"hovertext\": [\"Instant Vegetarian Beehoon Rice Vermicelli\"], \"legendgroup\": \"Unif Tung-I\", \"line\": {\"color\": \"#00cc96\"}, \"mode\": \"lines\", \"name\": \"Unif Tung-I\", \"orientation\": \"v\", \"showlegend\": true, \"stackgroup\": \"1\", \"type\": \"scatter\", \"x\": [\"Taiwan\"], \"xaxis\": \"x\", \"y\": [1.0], \"yaxis\": \"y\"}, {\"hovertemplate\": \"<b>%{hovertext}</b><br><br>Brand=Tablemark<br>Country=%{x}<br>Stars=%{y}<extra></extra>\", \"hovertext\": [\"Tohokuno Aji Yonezawa Ramen\", \"Downtown Ramen Shop Shoyu\", \"Soybean Paste\"], \"legendgroup\": \"Tablemark\", \"line\": {\"color\": \"#ab63fa\"}, \"mode\": \"lines\", \"name\": \"Tablemark\", \"orientation\": \"v\", \"showlegend\": true, \"stackgroup\": \"1\", \"type\": \"scatter\", \"x\": [\"Japan\", \"Japan\", \"Japan\"], \"xaxis\": \"x\", \"y\": [4.0, 4.75, 4.5], \"yaxis\": \"y\"}, {\"hovertemplate\": \"<b>%{hovertext}</b><br><br>Brand=Farmer's Heart<br>Country=%{x}<br>Stars=%{y}<extra></extra>\", \"hovertext\": [\"Pho Beef Flavor Vietnamese Rice Noodle Soup\"], \"legendgroup\": \"Farmer's Heart\", \"line\": {\"color\": \"#FFA15A\"}, \"mode\": \"lines\", \"name\": \"Farmer's Heart\", \"orientation\": \"v\", \"showlegend\": true, \"stackgroup\": \"1\", \"type\": \"scatter\", \"x\": [\"USA\"], \"xaxis\": \"x\", \"y\": [3.75], \"yaxis\": \"y\"}, {\"hovertemplate\": \"<b>%{hovertext}</b><br><br>Brand=Fuku<br>Country=%{x}<br>Stars=%{y}<extra></extra>\", \"hovertext\": [\"Tom Yam Soup Instant Noodle\", \"Spicy Soup Instant Noodle Beef Flavour\", \"Bowl Chicken Flavour Instant Rice Vermicelli\", \"Chicken Flavour Instant Noodle\", \"Superior Soup Instant Noodles (Mfg in Thailand)\", \"Superior Soup Instant Noodles (Mfg in Vietnam)\", \"Superior Soup Instant Rice Vermicelli\", \"Non-Fried Superior Soup Noodle\", \"Superior Soup Rice Noodle\", \"Superior Soup\"], \"legendgroup\": \"Fuku\", \"line\": {\"color\": \"#19d3f3\"}, \"mode\": \"lines\", \"name\": \"Fuku\", \"orientation\": \"v\", \"showlegend\": true, \"stackgroup\": \"1\", \"type\": \"scatter\", \"x\": [\"Hong Kong\", \"Hong Kong\", \"Hong Kong\", \"Hong Kong\", \"Hong Kong\", \"Hong Kong\", \"Hong Kong\", \"Hong Kong\", \"Hong Kong\", \"Hong Kong\"], \"xaxis\": \"x\", \"y\": [2.3, 4.0, 4.0, 4.0, 4.0, 4.0, 5.0, 4.0, 2.5, 5.0], \"yaxis\": \"y\"}, {\"hovertemplate\": \"<b>%{hovertext}</b><br><br>Brand=Love Cook<br>Country=%{x}<br>Stars=%{y}<extra></extra>\", \"hovertext\": [\"Sun Dried Noodle - Fruity Soy Bean Paste\", \"Guanmiao Dried Noodles With Oleum Sesami\", \"Guanmiao Dried Noodles With Spicy Sauce\", \"Guanmiao Dried Noodles With Authentic Sauce\", \"Guanmiao Dried Noodles With Shallot Flavor\"], \"legendgroup\": \"Love Cook\", \"line\": {\"color\": \"#FF6692\"}, \"mode\": \"lines\", \"name\": \"Love Cook\", \"orientation\": \"v\", \"showlegend\": true, \"stackgroup\": \"1\", \"type\": \"scatter\", \"x\": [\"Taiwan\", \"Taiwan\", \"Taiwan\", \"Taiwan\", \"Taiwan\"], \"xaxis\": \"x\", \"y\": [4.0, 3.75, 5.0, 4.5, 3.75], \"yaxis\": \"y\"}, {\"hovertemplate\": \"<b>%{hovertext}</b><br><br>Brand=Nagatanien<br>Country=%{x}<br>Stars=%{y}<extra></extra>\", \"hovertext\": [\"Hiyashi Soba Taidashi Goma\"], \"legendgroup\": \"Nagatanien\", \"line\": {\"color\": \"#B6E880\"}, \"mode\": \"lines\", \"name\": \"Nagatanien\", \"orientation\": \"v\", \"showlegend\": true, \"stackgroup\": \"1\", \"type\": \"scatter\", \"x\": [\"Japan\"], \"xaxis\": \"x\", \"y\": [3.0], \"yaxis\": \"y\"}, {\"hovertemplate\": \"<b>%{hovertext}</b><br><br>Brand=Nyor Nyar<br>Country=%{x}<br>Stars=%{y}<extra></extra>\", \"hovertext\": [\"Vegetarian Penang White Curry\", \"Penang White Curry Instant Noodle\"], \"legendgroup\": \"Nyor Nyar\", \"line\": {\"color\": \"#FF97FF\"}, \"mode\": \"lines\", \"name\": \"Nyor Nyar\", \"orientation\": \"v\", \"showlegend\": true, \"stackgroup\": \"1\", \"type\": \"scatter\", \"x\": [\"Malaysia\", \"Malaysia\"], \"xaxis\": \"x\", \"y\": [5.0, 5.0], \"yaxis\": \"y\"}, {\"hovertemplate\": \"<b>%{hovertext}</b><br><br>Brand=Tseng Noodles<br>Country=%{x}<br>Stars=%{y}<extra></extra>\", \"hovertext\": [\"Spicy Braised Pork Flavor\", \"Rice Noodle Shallot With Braised Pork Flavor\", \"Rice Noodle Chinese Mushroom With Soybean Vegetarian Braised Pork Flavor\", \"Rice Noodle Seafood Laksa Flavour\", \"Sichuan Pepper Flavor\", \"Hu Sesame Flavor\", \"Scallion With Sichuan Pepper  Flavor\"], \"legendgroup\": \"Tseng Noodles\", \"line\": {\"color\": \"#FECB52\"}, \"mode\": \"lines\", \"name\": \"Tseng Noodles\", \"orientation\": \"v\", \"showlegend\": true, \"stackgroup\": \"1\", \"type\": \"scatter\", \"x\": [\"Taiwan\", \"Taiwan\", \"Taiwan\", \"Taiwan\", \"Taiwan\", \"Taiwan\", \"Taiwan\"], \"xaxis\": \"x\", \"y\": [4.0, 5.0, 5.0, 5.0, 4.75, 5.0, 5.0], \"yaxis\": \"y\"}, {\"hovertemplate\": \"<b>%{hovertext}</b><br><br>Brand=A-Sha Dry Noodle<br>Country=%{x}<br>Stars=%{y}<extra></extra>\", \"hovertext\": [\"Chow Mein Spicy Flavor\", \"Chow Mein Original Flavor\", \"Chow Mein Oyster Sauce BBQ Flavor\", \"Tainan Noodle Original Sauce\", \"Hakka BBQ Sauce Noodle\", \"Hakka Spicy Barbeque Sauce\", \"Quinoa Noodle With Oyster Sauce And Vegetables\", \"Veggie Noodle Carrot Noodle With Original Sauce\", \"Veggie Noodle Baby Grass Noodle With Toona Sauce\", \"Veggie Noodle Black Sesame Noodle\", \"Hakka Flat Noodle With Za Jiang Sauce\", \"Veggie Noodle Tomato Noodle With Vine Ripened Tomato Sauce\", \"Prince Katsu Snack Noodles\", \"Hello Kitty Za Jiang (Soybean Sauce)\", \"Hello Kitty La Wei (Spicy Flavor)\", \"Instant Noodle Original Flavor\", \"Instant Noodle Shallot Flavor\", \"Hell Spicy Mala\", \"Instant Noodle Curry Flavour\", \"Dry Noodle Mandarin Noodle - Original Sauce\", \"Dry Noodle Hakka Noodle - Spicy Sesame Oil Sauce\", \"Dry Noodle Mandarin Noodle - Onion Oil Sauce\", \"Dry Noodle QQ Thin Noodle - BBQ Sauce\", \"No. 10 Mandarin Noodle - Black Pepper Sauce\", \"Dry Noodle Tainan Noodle - Sesame Sauce\", \"Dry Noodle Hakka Noodle - Chili Sauce\"], \"legendgroup\": \"A-Sha Dry Noodle\", \"line\": {\"color\": \"#636efa\"}, \"mode\": \"lines\", \"name\": \"A-Sha Dry Noodle\", \"orientation\": \"v\", \"showlegend\": true, \"stackgroup\": \"1\", \"type\": \"scatter\", \"x\": [\"Taiwan\", \"Taiwan\", \"Taiwan\", \"Taiwan\", \"Taiwan\", \"Taiwan\", \"Taiwan\", \"Taiwan\", \"Taiwan\", \"Taiwan\", \"Taiwan\", \"Taiwan\", \"Taiwan\", \"Taiwan\", \"Taiwan\", \"Taiwan\", \"Taiwan\", \"Taiwan\", \"Taiwan\", \"Taiwan\", \"Taiwan\", \"Taiwan\", \"Taiwan\", \"Taiwan\", \"Taiwan\", \"Taiwan\"], \"xaxis\": \"x\", \"y\": [3.0, 5.0, 2.0, 5.0, 4.25, 4.5, 4.25, 4.25, 5.0, 3.25, 4.0, 5.0, 4.0, 3.25, 3.75, 3.75, 3.75, 4.0, 4.25, 4.0, 3.5, 5.0, 5.0, 3.75, 4.0, 4.25], \"yaxis\": \"y\"}, {\"hovertemplate\": \"<b>%{hovertext}</b><br><br>Brand=Roland<br>Country=%{x}<br>Stars=%{y}<extra></extra>\", \"hovertext\": [\"Ramen Japanese Style Quick-Cooking Alimentary Paste With Chicken Artificially Flavored Soup Base\", \"Ramen Japanese Style Quick-Cooking Alimentary Paste With Beef Artificially Flavored Soup Base\"], \"legendgroup\": \"Roland\", \"line\": {\"color\": \"#EF553B\"}, \"mode\": \"lines\", \"name\": \"Roland\", \"orientation\": \"v\", \"showlegend\": true, \"stackgroup\": \"1\", \"type\": \"scatter\", \"x\": [\"USA\", \"USA\"], \"xaxis\": \"x\", \"y\": [0.0, 0.0], \"yaxis\": \"y\"}, {\"hovertemplate\": \"<b>%{hovertext}</b><br><br>Brand=Choumama<br>Country=%{x}<br>Stars=%{y}<extra></extra>\", \"hovertext\": [\"XO Scallops Sauce Dry Noodles\"], \"legendgroup\": \"Choumama\", \"line\": {\"color\": \"#00cc96\"}, \"mode\": \"lines\", \"name\": \"Choumama\", \"orientation\": \"v\", \"showlegend\": true, \"stackgroup\": \"1\", \"type\": \"scatter\", \"x\": [\"Taiwan\"], \"xaxis\": \"x\", \"y\": [4.0], \"yaxis\": \"y\"}, {\"hovertemplate\": \"<b>%{hovertext}</b><br><br>Brand=President Rice<br>Country=%{x}<br>Stars=%{y}<extra></extra>\", \"hovertext\": [\"Coriander Instant Rice Noodles\"], \"legendgroup\": \"President Rice\", \"line\": {\"color\": \"#ab63fa\"}, \"mode\": \"lines\", \"name\": \"President Rice\", \"orientation\": \"v\", \"showlegend\": true, \"stackgroup\": \"1\", \"type\": \"scatter\", \"x\": [\"Thailand\"], \"xaxis\": \"x\", \"y\": [2.75], \"yaxis\": \"y\"}, {\"hovertemplate\": \"<b>%{hovertext}</b><br><br>Brand=Happy Family<br>Country=%{x}<br>Stars=%{y}<extra></extra>\", \"hovertext\": [\"Vegetable Flavour Instant Noodles\", \"Curry Flavour Instant Noodles\"], \"legendgroup\": \"Happy Family\", \"line\": {\"color\": \"#FFA15A\"}, \"mode\": \"lines\", \"name\": \"Happy Family\", \"orientation\": \"v\", \"showlegend\": true, \"stackgroup\": \"1\", \"type\": \"scatter\", \"x\": [\"Singapore\", \"Singapore\"], \"xaxis\": \"x\", \"y\": [4.0, 4.0], \"yaxis\": \"y\"}, {\"hovertemplate\": \"<b>%{hovertext}</b><br><br>Brand=Menraku<br>Country=%{x}<br>Stars=%{y}<extra></extra>\", \"hovertext\": [\"Japanese Yakisoba Umami Sauce\", \"Tempura Soba\", \"Curry Udon\", \"Soy Sauce\", \"Miso\", \"Shio\", \"Tempura Udon\", \"Curry Soba\"], \"legendgroup\": \"Menraku\", \"line\": {\"color\": \"#19d3f3\"}, \"mode\": \"lines\", \"name\": \"Menraku\", \"orientation\": \"v\", \"showlegend\": true, \"stackgroup\": \"1\", \"type\": \"scatter\", \"x\": [\"Japan\", \"Japan\", \"Japan\", \"Japan\", \"Japan\", \"Japan\", \"Japan\", \"Japan\"], \"xaxis\": \"x\", \"y\": [5.0, 3.75, 4.75, 4.25, 2.75, 4.5, 5.0, 4.0], \"yaxis\": \"y\"}, {\"hovertemplate\": \"<b>%{hovertext}</b><br><br>Brand=Jingqi<br>Country=%{x}<br>Stars=%{y}<extra></extra>\", \"hovertext\": [\"Aloe Vera Guan Mian Purple Sweet Potato Noodle With Spicy Miso Sauce\", \"Black Eyes Bean Original Noodle With Sesame Sauce\", \"Aloe Vera Guan Mian Pumpkin Noodle With Basil Sauce\", \"Black Eyes Bean Cyanobacteria Noodle With Ginger Oil Sauce\", \"Aloe Vera Guan Mian Original Noodle With Sesame Sauce\", \"Black Eyes Bean Purple Sweet Potato Noodle With Spicy Miso Sauce\", \"Aloe Vera Guan Mian Cyanobacteria Noodle With Ginger Oil Sauce\", \"Black Eyes Bean Pumpkin Noodles With Basil Sauce\"], \"legendgroup\": \"Jingqi\", \"line\": {\"color\": \"#FF6692\"}, \"mode\": \"lines\", \"name\": \"Jingqi\", \"orientation\": \"v\", \"showlegend\": true, \"stackgroup\": \"1\", \"type\": \"scatter\", \"x\": [\"Taiwan\", \"Taiwan\", \"Taiwan\", \"Taiwan\", \"Taiwan\", \"Taiwan\", \"Taiwan\", \"Taiwan\"], \"xaxis\": \"x\", \"y\": [4.0, 4.0, 4.0, 5.0, 5.0, 3.0, 5.0, 5.0], \"yaxis\": \"y\"}, {\"hovertemplate\": \"<b>%{hovertext}</b><br><br>Brand=Doll<br>Country=%{x}<br>Stars=%{y}<extra></extra>\", \"hovertext\": [\"Instant Noodle Supreme Abalone And Chicken Flavour\", \"Instant Noodle Preserved Vegetable Flavour\", \"Instant Noodle Vegetarian Flavour\", \"Hello Kitty Dim Sum Noodle Japanese Soy Sauce Flavour\", \"Spicy Flavour Instant Mifun\", \"Hello Kitty Dim Sum Noodle Japanese Curry Flavour\", \"Spicy Tomkotsu\", \"Artificial Beef Flavor\", \"Spicy Artificial Pork\", \"Spicy Artificial Beef\", \"Artificial Chicken\", \"Pickled Vegetable\", \"Sesame Oil\", \"Shrimp Wonton\", \"Instant Fried Noodles With Chili Sauce\", \"Instant Noodles With Sesame Oil & Soup Base\"], \"legendgroup\": \"Doll\", \"line\": {\"color\": \"#B6E880\"}, \"mode\": \"lines\", \"name\": \"Doll\", \"orientation\": \"v\", \"showlegend\": true, \"stackgroup\": \"1\", \"type\": \"scatter\", \"x\": [\"Hong Kong\", \"Hong Kong\", \"Hong Kong\", \"Hong Kong\", \"Hong Kong\", \"Hong Kong\", \"Hong Kong\", \"Hong Kong\", \"Hong Kong\", \"Hong Kong\", \"Hong Kong\", \"Hong Kong\", \"Hong Kong\", \"Hong Kong\", \"Hong Kong\", \"Hong Kong\"], \"xaxis\": \"x\", \"y\": [2.0, 4.0, 3.75, 3.0, 2.75, 3.5, 4.25, 2.5, 3.75, 3.0, 4.5, 4.25, 3.5, 4.0, 3.0, 1.0], \"yaxis\": \"y\"}, {\"hovertemplate\": \"<b>%{hovertext}</b><br><br>Brand=Four Seas<br>Country=%{x}<br>Stars=%{y}<extra></extra>\", \"hovertext\": [\"Chicken Flavour Instant Noodle\", \"Kung Tak Lam Vegetarian Noodle (Mushroom)\", \"Beef And Radish Flavour Instant Noodle\", \"Hot & Spicy Instant Noodle (Mushroom & Beef Flavour)\", \"Seaweed Hot & Spicy Instant Noodle Mushroom & Beef Flavour\", \"Sesame Oil Chicken Flavour Instant Noodle\", \"Chicken Flavour\", \"Seaweed\"], \"legendgroup\": \"Four Seas\", \"line\": {\"color\": \"#FF97FF\"}, \"mode\": \"lines\", \"name\": \"Four Seas\", \"orientation\": \"v\", \"showlegend\": true, \"stackgroup\": \"1\", \"type\": \"scatter\", \"x\": [\"Hong Kong\", \"Hong Kong\", \"Hong Kong\", \"Hong Kong\", \"Hong Kong\", \"Hong Kong\", \"China\", \"Hong Kong\"], \"xaxis\": \"x\", \"y\": [4.0, 3.0, 2.5, 4.0, 3.5, 2.75, 2.75, 3.25], \"yaxis\": \"y\"}, {\"hovertemplate\": \"<b>%{hovertext}</b><br><br>Brand=CarJEN<br>Country=%{x}<br>Stars=%{y}<extra></extra>\", \"hovertext\": [\"Hot & Spicy Dry Curry With Chives Soup\", \"Otentiq Cheezy Mushroom Instant Noodles (Improved Taste)\", \"Otentiq Cheezy Curry Instant Noodles (Improved Taste)\", \"Nyonya Curry Laksa (Improved Taste)\", \"Otentiq Cheezy Curry Instant Noodles\", \"Otentiq Cheezy Mushroom Instant Noodles\", \"Nyonya Curry Laksa\"], \"legendgroup\": \"CarJEN\", \"line\": {\"color\": \"#FECB52\"}, \"mode\": \"lines\", \"name\": \"CarJEN\", \"orientation\": \"v\", \"showlegend\": true, \"stackgroup\": \"1\", \"type\": \"scatter\", \"x\": [\"Malaysia\", \"Malaysia\", \"Malaysia\", \"Malaysia\", \"Malaysia\", \"Malaysia\", \"Malaysia\"], \"xaxis\": \"x\", \"y\": [5.0, 5.0, 5.0, 5.0, 4.5, 5.0, 5.0], \"yaxis\": \"y\"}, {\"hovertemplate\": \"<b>%{hovertext}</b><br><br>Brand=7 Select<br>Country=%{x}<br>Stars=%{y}<extra></extra>\", \"hovertext\": [\"Nissin Instant Noodles Tom Yum Seafood Creamy Flavour King Cup\", \"Nissin Instant Noodles Shrimp Ma Nao Lui Suan Flavour King Cup\"], \"legendgroup\": \"7 Select\", \"line\": {\"color\": \"#636efa\"}, \"mode\": \"lines\", \"name\": \"7 Select\", \"orientation\": \"v\", \"showlegend\": true, \"stackgroup\": \"1\", \"type\": \"scatter\", \"x\": [\"Thailand\", \"Thailand\"], \"xaxis\": \"x\", \"y\": [3.5, 4.0], \"yaxis\": \"y\"}, {\"hovertemplate\": \"<b>%{hovertext}</b><br><br>Brand=Oni Hot Pot<br>Country=%{x}<br>Stars=%{y}<extra></extra>\", \"hovertext\": [\"Tuna With Shallot Flavor Noodle\", \"Seaweed Flavour Noodle\", \"XO Sauce Noodle\", \"Ghost Pepper Noodle\"], \"legendgroup\": \"Oni Hot Pot\", \"line\": {\"color\": \"#EF553B\"}, \"mode\": \"lines\", \"name\": \"Oni Hot Pot\", \"orientation\": \"v\", \"showlegend\": true, \"stackgroup\": \"1\", \"type\": \"scatter\", \"x\": [\"Taiwan\", \"Taiwan\", \"Taiwan\", \"Taiwan\"], \"xaxis\": \"x\", \"y\": [4.3, 2.0, 5.0, 4.5], \"yaxis\": \"y\"}, {\"hovertemplate\": \"<b>%{hovertext}</b><br><br>Brand=Weh Lih<br>Country=%{x}<br>Stars=%{y}<extra></extra>\", \"hovertext\": [\"GGE Noodle Snack Wheat Crackers Original Ramen\"], \"legendgroup\": \"Weh Lih\", \"line\": {\"color\": \"#00cc96\"}, \"mode\": \"lines\", \"name\": \"Weh Lih\", \"orientation\": \"v\", \"showlegend\": true, \"stackgroup\": \"1\", \"type\": \"scatter\", \"x\": [\"Taiwan\"], \"xaxis\": \"x\", \"y\": [1.0], \"yaxis\": \"y\"}, {\"hovertemplate\": \"<b>%{hovertext}</b><br><br>Brand=Itomen<br>Country=%{x}<br>Stars=%{y}<extra></extra>\", \"hovertext\": [\"Onion Flavor Shoyu Ramen\", \"Crab Flavor Instant Ramen\", \"Chanponmen\", \"Sansai Soba Edible Wld Plant\", \"Yellow Buckwheat\"], \"legendgroup\": \"Itomen\", \"line\": {\"color\": \"#ab63fa\"}, \"mode\": \"lines\", \"name\": \"Itomen\", \"orientation\": \"v\", \"showlegend\": true, \"stackgroup\": \"1\", \"type\": \"scatter\", \"x\": [\"Japan\", \"Japan\", \"Japan\", \"Japan\", \"Japan\"], \"xaxis\": \"x\", \"y\": [3.5, 4.0, 4.25, 3.25, 4.5], \"yaxis\": \"y\"}, {\"hovertemplate\": \"<b>%{hovertext}</b><br><br>Brand=Sanpo<br>Country=%{x}<br>Stars=%{y}<extra></extra>\", \"hovertext\": [\"Yakibuta Ramen\"], \"legendgroup\": \"Sanpo\", \"line\": {\"color\": \"#FFA15A\"}, \"mode\": \"lines\", \"name\": \"Sanpo\", \"orientation\": \"v\", \"showlegend\": true, \"stackgroup\": \"1\", \"type\": \"scatter\", \"x\": [\"Japan\"], \"xaxis\": \"x\", \"y\": [4.0], \"yaxis\": \"y\"}, {\"hovertemplate\": \"<b>%{hovertext}</b><br><br>Brand=Mi Sedaap<br>Country=%{x}<br>Stars=%{y}<extra></extra>\", \"hovertext\": [\"Mi Segera Mi Goreng Ayam Krispi\", \"Mi Kuah Rasa Baso Spesial\", \"Instant Cup Mi Kuah Rasa Soto\", \"Instant Cup Mi Goreng\", \"Mi Kuah Rasa Ayam Bawang\", \"Mi Segera Mi Goreng Perisa Sambal Goreng\", \"Mi Segera Mi Sup Perisa Kari Ayam\", \"Mi Goreng Perisa Asli\", \"Supreme Soto\", \"Mi SupArtificial Chicken Special\", \"Mie Sambal Goreng\", \"Kari Spesial\"], \"legendgroup\": \"Mi Sedaap\", \"line\": {\"color\": \"#19d3f3\"}, \"mode\": \"lines\", \"name\": \"Mi Sedaap\", \"orientation\": \"v\", \"showlegend\": true, \"stackgroup\": \"1\", \"type\": \"scatter\", \"x\": [\"Indonesia\", \"Indonesia\", \"Indonesia\", \"Indonesia\", \"Indonesia\", \"Indonesia\", \"Indonesia\", \"Indonesia\", \"Indonesia\", \"Indonesia\", \"Indonesia\", \"Indonesia\"], \"xaxis\": \"x\", \"y\": [4.5, 3.5, 5.0, 3.75, 4.0, 4.5, 4.0, 4.75, 4.0, 3.0, 4.25, 4.5], \"yaxis\": \"y\"}, {\"hovertemplate\": \"<b>%{hovertext}</b><br><br>Brand=Tokushima Seifun<br>Country=%{x}<br>Stars=%{y}<extra></extra>\", \"hovertext\": [\"Negi Ramen\", \"Yakibuta Ramen\", \"Tokushima Ramen\", \"Kinchan Ramen\"], \"legendgroup\": \"Tokushima Seifun\", \"line\": {\"color\": \"#FF6692\"}, \"mode\": \"lines\", \"name\": \"Tokushima Seifun\", \"orientation\": \"v\", \"showlegend\": true, \"stackgroup\": \"1\", \"type\": \"scatter\", \"x\": [\"Japan\", \"Japan\", \"Japan\", \"Japan\"], \"xaxis\": \"x\", \"y\": [1.75, 5.0, 4.0, 4.5], \"yaxis\": \"y\"}, {\"hovertemplate\": \"<b>%{hovertext}</b><br><br>Brand=Mamee<br>Country=%{x}<br>Stars=%{y}<extra></extra>\", \"hovertext\": [\"Pepper Noodles Vegetarian\", \"Chef Lontong Flavour\", \"Monster Snek Mi Pedas\", \"Chef Lontong Flavour\", \"Oriental Noodles Prawn Flavor\", \"Mi Segera Perisa Itik\", \"Chef Gold Recipe Bihun Kari Seribu Rasa\", \"Chef Gold Recipe Mi Kari Seribu Rasa\", \"Instant Noodles Curry Flavour\", \"Chef Creamy Tom Yam Flavour\", \"Monster BBQ Flavour Snack Noodles\", \"Chef Curry Laksa Flavour\", \"SLLRRRP! Asam Laksa\", \"Mie Goreng Indonesia Spicy Sambal\", \"Chef Spicy Chicken Shiitake Flavour\", \"Instant Vermicelli Chicken Flavour\", \"Chef Creamy Tom Yam Flavour\", \"Instant Noodles Vegetarian Flavour\", \"SLLRRRP! Kari Berapi\", \"Monster Chicken Flavour Snack Noodles\", \"Chef Curry Laksa Flavour\", \"Mie Goreng Indonesia Original Flavour\", \"Instant Vermicelli Tom Yam Flavour\", \"Mi Segera SLLRRRP! Perencah Kari Xtra Pedas\", \"Oriental Noodles Curry Flavour\", \"Express Cup Curry\", \"Express Cup Tom Yum\", \"Express Cup Vegetarian\", \"Express Cup Fried Onion Chicken\"], \"legendgroup\": \"Mamee\", \"line\": {\"color\": \"#B6E880\"}, \"mode\": \"lines\", \"name\": \"Mamee\", \"orientation\": \"v\", \"showlegend\": true, \"stackgroup\": \"1\", \"type\": \"scatter\", \"x\": [\"Hong Kong\", \"Malaysia\", \"Malaysia\", \"Malaysia\", \"Malaysia\", \"Malaysia\", \"Malaysia\", \"Malaysia\", \"Malaysia\", \"Malaysia\", \"Malaysia\", \"Malaysia\", \"Malaysia\", \"Malaysia\", \"Malaysia\", \"Malaysia\", \"Malaysia\", \"Malaysia\", \"Malaysia\", \"Malaysia\", \"Malaysia\", \"Malaysia\", \"Malaysia\", \"Malaysia\", \"Malaysia\", \"Malaysia\", \"Malaysia\", \"Malaysia\", \"Malaysia\"], \"xaxis\": \"x\", \"y\": [3.25, 5.0, 5.0, 5.0, 2.0, 3.75, 4.5, 5.0, 3.5, 5.0, 3.75, 5.0, 4.0, 5.0, 3.25, 3.25, 4.75, 3.75, 3.75, 4.0, 5.0, 4.5, 3.75, 3.75, 3.25, 2.5, 3.75, 2.0, 3.25], \"yaxis\": \"y\"}, {\"hovertemplate\": \"<b>%{hovertext}</b><br><br>Brand=Zow Zow<br>Country=%{x}<br>Stars=%{y}<extra></extra>\", \"hovertext\": [\"Instant Noodle Shrimp Tom Yam Flavoured\"], \"legendgroup\": \"Zow Zow\", \"line\": {\"color\": \"#FF97FF\"}, \"mode\": \"lines\", \"name\": \"Zow Zow\", \"orientation\": \"v\", \"showlegend\": true, \"stackgroup\": \"1\", \"type\": \"scatter\", \"x\": [\"Thailand\"], \"xaxis\": \"x\", \"y\": [3.75], \"yaxis\": \"y\"}, {\"hovertemplate\": \"<b>%{hovertext}</b><br><br>Brand=Koyo<br>Country=%{x}<br>Stars=%{y}<extra></extra>\", \"hovertext\": [\"Garlic Pepper Reduced Sodium Ramen\", \"Seaweed Ramen Made With Organic Noodles\", \"Tofu & Miso\", \"Mushroom\", \"Lemongrass ginger\", \"Asian Vegetable\", \"Garlic Pepper\"], \"legendgroup\": \"Koyo\", \"line\": {\"color\": \"#FECB52\"}, \"mode\": \"lines\", \"name\": \"Koyo\", \"orientation\": \"v\", \"showlegend\": true, \"stackgroup\": \"1\", \"type\": \"scatter\", \"x\": [\"USA\", \"USA\", \"USA\", \"USA\", \"USA\", \"USA\", \"USA\"], \"xaxis\": \"x\", \"y\": [0.0, 2.75, 2.5, 2.75, 1.5, 1.5, 3.25], \"yaxis\": \"y\"}, {\"hovertemplate\": \"<b>%{hovertext}</b><br><br>Brand=ORee Garden<br>Country=%{x}<br>Stars=%{y}<extra></extra>\", \"hovertext\": [\"Malaysia Green Curry Noodle\"], \"legendgroup\": \"ORee Garden\", \"line\": {\"color\": \"#636efa\"}, \"mode\": \"lines\", \"name\": \"ORee Garden\", \"orientation\": \"v\", \"showlegend\": true, \"stackgroup\": \"1\", \"type\": \"scatter\", \"x\": [\"Malaysia\"], \"xaxis\": \"x\", \"y\": [5.0], \"yaxis\": \"y\"}, {\"hovertemplate\": \"<b>%{hovertext}</b><br><br>Brand=A1<br>Country=%{x}<br>Stars=%{y}<extra></extra>\", \"hovertext\": [\"Vegetarian Herbal Noodle\", \"Soup Spices Noodle Mee Rempahan Sup\", \"Emporer Herbs Chicken Noodle\"], \"legendgroup\": \"A1\", \"line\": {\"color\": \"#EF553B\"}, \"mode\": \"lines\", \"name\": \"A1\", \"orientation\": \"v\", \"showlegend\": true, \"stackgroup\": \"1\", \"type\": \"scatter\", \"x\": [\"Malaysia\", \"Malaysia\", \"Malaysia\"], \"xaxis\": \"x\", \"y\": [1.5, 3.5, 4.25], \"yaxis\": \"y\"}, {\"hovertemplate\": \"<b>%{hovertext}</b><br><br>Brand=Migawon<br>Country=%{x}<br>Stars=%{y}<extra></extra>\", \"hovertext\": [\"Hovenia Ramen Vegetable Flavor\"], \"legendgroup\": \"Migawon\", \"line\": {\"color\": \"#00cc96\"}, \"mode\": \"lines\", \"name\": \"Migawon\", \"orientation\": \"v\", \"showlegend\": true, \"stackgroup\": \"1\", \"type\": \"scatter\", \"x\": [\"South Korea\"], \"xaxis\": \"x\", \"y\": [3.5], \"yaxis\": \"y\"}, {\"hovertemplate\": \"<b>%{hovertext}</b><br><br>Brand=Prima Taste<br>Country=%{x}<br>Stars=%{y}<extra></extra>\", \"hovertext\": [\"Singapore Prawn Soup La Mian\", \"Singapore Fish Soup La Mian\", \"Singapore Laksa Wholegrain La Mian\", \"Singapore Curry Wholegrain La Mian\", \"Singapore Chilli Crab La Mian\", \"Singapore Laksa La Mian\", \"Singapore Curry La Mian\"], \"legendgroup\": \"Prima Taste\", \"line\": {\"color\": \"#ab63fa\"}, \"mode\": \"lines\", \"name\": \"Prima Taste\", \"orientation\": \"v\", \"showlegend\": true, \"stackgroup\": \"1\", \"type\": \"scatter\", \"x\": [\"Singapore\", \"Singapore\", \"Singapore\", \"Singapore\", \"Singapore\", \"Singapore\", \"Singapore\"], \"xaxis\": \"x\", \"y\": [5.0, 5.0, 5.0, 5.0, 5.0, 5.0, 5.0], \"yaxis\": \"y\"}, {\"hovertemplate\": \"<b>%{hovertext}</b><br><br>Brand=MyOri<br>Country=%{x}<br>Stars=%{y}<extra></extra>\", \"hovertext\": [\"Malaysia Penang Green Curry Vermicelli (New Package)\", \"Malaysia Penang Red Curry Noodle\", \"Malaysia Penang White Curry Noodle Super Spicy\", \"Malaysia Penang Green Curry Rice Vermicelli\", \"Malaysia Penang White Curry Noodle Original\"], \"legendgroup\": \"MyOri\", \"line\": {\"color\": \"#FFA15A\"}, \"mode\": \"lines\", \"name\": \"MyOri\", \"orientation\": \"v\", \"showlegend\": true, \"stackgroup\": \"1\", \"type\": \"scatter\", \"x\": [\"Malaysia\", \"Malaysia\", \"Malaysia\", \"Malaysia\", \"Malaysia\"], \"xaxis\": \"x\", \"y\": [5.0, 5.0, 5.0, 5.0, 5.0], \"yaxis\": \"y\"}, {\"hovertemplate\": \"<b>%{hovertext}</b><br><br>Brand=Itsuki<br>Country=%{x}<br>Stars=%{y}<extra></extra>\", \"hovertext\": [\"Kumamoto Spicy Ramen\", \"Ramen Tonkotudou Kumamoto Noodles\", \"Yuzu Sesame Sauce Udon\", \"Hakata Ossyoi\"], \"legendgroup\": \"Itsuki\", \"line\": {\"color\": \"#19d3f3\"}, \"mode\": \"lines\", \"name\": \"Itsuki\", \"orientation\": \"v\", \"showlegend\": true, \"stackgroup\": \"1\", \"type\": \"scatter\", \"x\": [\"Japan\", \"Japan\", \"Japan\", \"Japan\"], \"xaxis\": \"x\", \"y\": [4.25, 0.75, 4.5, 5.0], \"yaxis\": \"y\"}, {\"hovertemplate\": \"<b>%{hovertext}</b><br><br>Brand=IbuRamen<br>Country=%{x}<br>Stars=%{y}<extra></extra>\", \"hovertext\": [\"Mi Goreng Bento Noodles In A Box Curry Masala Flavour\", \"Mi Goreng Bento Noodles In A Box Hot Sweet & Sour Flavor\", \"Mi Goreng Bento Noodles In A Box Shallot Teriyaki Flavor\"], \"legendgroup\": \"IbuRamen\", \"line\": {\"color\": \"#FF6692\"}, \"mode\": \"lines\", \"name\": \"IbuRamen\", \"orientation\": \"v\", \"showlegend\": true, \"stackgroup\": \"1\", \"type\": \"scatter\", \"x\": [\"USA\", \"USA\", \"USA\"], \"xaxis\": \"x\", \"y\": [4.0, 0.25, 3.25], \"yaxis\": \"y\"}, {\"hovertemplate\": \"<b>%{hovertext}</b><br><br>Brand=Bamee<br>Country=%{x}<br>Stars=%{y}<extra></extra>\", \"hovertext\": [\"Oriental Style Instant Noodles Shrimp Flavour (Tom Yum)\", \"Instant Noodles Oriental Style Chicken Flavour\", \"Oriental Style Instant Noodles Pa-Lo Duck Flavour\", \"Cup Oriental Style Instant Noodles Chicken Flavour\"], \"legendgroup\": \"Bamee\", \"line\": {\"color\": \"#B6E880\"}, \"mode\": \"lines\", \"name\": \"Bamee\", \"orientation\": \"v\", \"showlegend\": true, \"stackgroup\": \"1\", \"type\": \"scatter\", \"x\": [\"Thailand\", \"Thailand\", \"Thailand\", \"Thailand\"], \"xaxis\": \"x\", \"y\": [3.5, 3.0, 3.5, 3.25], \"yaxis\": \"y\"}, {\"hovertemplate\": \"<b>%{hovertext}</b><br><br>Brand=Ibumie<br>Country=%{x}<br>Stars=%{y}<extra></extra>\", \"hovertext\": [\"Always Mi Goreng Perisa Sambal Udang\", \"Always Mi Goreng Perisa Kari Kapitan\", \"Always Mi Goreng Perisa Thai Tom Yam\", \"Always Mi Goreng Perisa Asli\", \"Penang White CurryMee\", \"Mee Baa..Gus Mi Goreng Spicier Original Flavour\", \"VegeMee Vegetarian Flavour\", \"LadMee Hot Pepper\", \"Harmee Mee goreng Prawn\", \"Harmee Prawn\"], \"legendgroup\": \"Ibumie\", \"line\": {\"color\": \"#FF97FF\"}, \"mode\": \"lines\", \"name\": \"Ibumie\", \"orientation\": \"v\", \"showlegend\": true, \"stackgroup\": \"1\", \"type\": \"scatter\", \"x\": [\"Malaysia\", \"Malaysia\", \"Malaysia\", \"Malaysia\", \"Malaysia\", \"Malaysia\", \"Malaysia\", \"Malaysia\", \"Malaysia\", \"Malaysia\"], \"xaxis\": \"x\", \"y\": [3.5, 5.0, 2.5, 3.75, 5.0, 3.75, 2.75, 3.5, 4.5, 3.25], \"yaxis\": \"y\"}, {\"hovertemplate\": \"<b>%{hovertext}</b><br><br>Brand=Fortune<br>Country=%{x}<br>Stars=%{y}<extra></extra>\", \"hovertext\": [\"Rice Noodle Coconut Curry\", \"Udon Mushroom\", \"Udon Chicken\", \"Udon Beef\"], \"legendgroup\": \"Fortune\", \"line\": {\"color\": \"#FECB52\"}, \"mode\": \"lines\", \"name\": \"Fortune\", \"orientation\": \"v\", \"showlegend\": true, \"stackgroup\": \"1\", \"type\": \"scatter\", \"x\": [\"USA\", \"USA\", \"USA\", \"USA\"], \"xaxis\": \"x\", \"y\": [1.0, 3.0, 3.25, 3.5], \"yaxis\": \"y\"}, {\"hovertemplate\": \"<b>%{hovertext}</b><br><br>Brand=Mie Sedaap<br>Country=%{x}<br>Stars=%{y}<extra></extra>\", \"hovertext\": [\"Instant Cup Mi Kuah Rasa Baso Spesial\"], \"legendgroup\": \"Mie Sedaap\", \"line\": {\"color\": \"#636efa\"}, \"mode\": \"lines\", \"name\": \"Mie Sedaap\", \"orientation\": \"v\", \"showlegend\": true, \"stackgroup\": \"1\", \"type\": \"scatter\", \"x\": [\"Indonesia\"], \"xaxis\": \"x\", \"y\": [1.5], \"yaxis\": \"y\"}, {\"hovertemplate\": \"<b>%{hovertext}</b><br><br>Brand=Thai Smile<br>Country=%{x}<br>Stars=%{y}<extra></extra>\", \"hovertext\": [\"Mushroom Rice Noodle Soup Bowl\", \"Spring Onion Rice Noodle Soup Bowl\", \"Garlic Rice Noodle Soup Bowl\"], \"legendgroup\": \"Thai Smile\", \"line\": {\"color\": \"#EF553B\"}, \"mode\": \"lines\", \"name\": \"Thai Smile\", \"orientation\": \"v\", \"showlegend\": true, \"stackgroup\": \"1\", \"type\": \"scatter\", \"x\": [\"USA\", \"USA\", \"USA\"], \"xaxis\": \"x\", \"y\": [0.0, 2.5, 3.5], \"yaxis\": \"y\"}, {\"hovertemplate\": \"<b>%{hovertext}</b><br><br>Brand=Higashimaru<br>Country=%{x}<br>Stars=%{y}<extra></extra>\", \"hovertext\": [\"Tonkotsu Ramen\"], \"legendgroup\": \"Higashimaru\", \"line\": {\"color\": \"#00cc96\"}, \"mode\": \"lines\", \"name\": \"Higashimaru\", \"orientation\": \"v\", \"showlegend\": true, \"stackgroup\": \"1\", \"type\": \"scatter\", \"x\": [\"Japan\"], \"xaxis\": \"x\", \"y\": [4.5], \"yaxis\": \"y\"}, {\"hovertemplate\": \"<b>%{hovertext}</b><br><br>Brand=Kuriki<br>Country=%{x}<br>Stars=%{y}<extra></extra>\", \"hovertext\": [\"Beef Tongue Shio Mayo Ramen\", \"Plum Mayo Ramen\", \"Mayo Ramen\"], \"legendgroup\": \"Kuriki\", \"line\": {\"color\": \"#ab63fa\"}, \"mode\": \"lines\", \"name\": \"Kuriki\", \"orientation\": \"v\", \"showlegend\": true, \"stackgroup\": \"1\", \"type\": \"scatter\", \"x\": [\"Japan\", \"Japan\", \"Japan\"], \"xaxis\": \"x\", \"y\": [4.5, 4.0, 4.75], \"yaxis\": \"y\"}, {\"hovertemplate\": \"<b>%{hovertext}</b><br><br>Brand=Vedan<br>Country=%{x}<br>Stars=%{y}<extra></extra>\", \"hovertext\": [\"Wei Wei A Instant Noodles Chicken Flavor\", \"Zan Vegetarian Instant Noodle Series Shiitake Mushroom Flavour\", \"Wei Wei A Instant Noodles Hot Beef Flavour\", \"Volcano Spicy Pork Noodle\", \"Bah Kut Tea Noodle For Vegetarians\", \"Mushroom & Artificial Cuttlefish\"], \"legendgroup\": \"Vedan\", \"line\": {\"color\": \"#FFA15A\"}, \"mode\": \"lines\", \"name\": \"Vedan\", \"orientation\": \"v\", \"showlegend\": true, \"stackgroup\": \"1\", \"type\": \"scatter\", \"x\": [\"Taiwan\", \"Taiwan\", \"Taiwan\", \"Taiwan\", \"Taiwan\", \"Taiwan\"], \"xaxis\": \"x\", \"y\": [0.0, 2.75, 2.5, 4.25, 3.25, 1.75], \"yaxis\": \"y\"}, {\"hovertemplate\": \"<b>%{hovertext}</b><br><br>Brand=Yum Yum<br>Country=%{x}<br>Stars=%{y}<extra></extra>\", \"hovertext\": [\"Premier Bowl Instant Noodles Stewed Pork Flavour\", \"Instant Flat Shaped Noodles Boat Noodles Nam Tok Flavour\", \"Premier Bowl Instant Noodles Suki Flavour\", \"Jumbo Instant Noodles Tom Yum Kung Creamy Flavour\", \"Instant Noodles Minced Pork Flavor\", \"Oriental Style Instant Noodles Wasabi Flavour\", \"Oriental Style Instant Noodles Seafood Flavour\", \"Duck\", \"Shrimp Tom Yum Flavor\", \"Vegetable\", \"Chicken\", \"Beef\"], \"legendgroup\": \"Yum Yum\", \"line\": {\"color\": \"#19d3f3\"}, \"mode\": \"lines\", \"name\": \"Yum Yum\", \"orientation\": \"v\", \"showlegend\": true, \"stackgroup\": \"1\", \"type\": \"scatter\", \"x\": [\"Thailand\", \"Thailand\", \"Thailand\", \"Thailand\", \"Thailand\", \"Thailand\", \"Thailand\", \"Thailand\", \"Thailand\", \"Thailand\", \"Thailand\", \"Thailand\"], \"xaxis\": \"x\", \"y\": [4.0, 3.5, 5.0, 5.0, 3.75, 3.0, 3.75, 3.25, 3.5, 3.5, 3.5, 3.25], \"yaxis\": \"y\"}, {\"hovertemplate\": \"<b>%{hovertext}</b><br><br>Brand=Baijia<br>Country=%{x}<br>Stars=%{y}<extra></extra>\", \"hovertext\": [\"Broad Noodle Pickled Vegetable Artificial Beef Flavor\", \"Spicy Artificial Fei Chang Instant Vermicelli (New Recipe)\", \"Artificial Pickled Vegetable Beef Flavor\", \"Artificial Pickled Cabbage Fish\", \"Sichuan Hot Pot Sweet Potato Thread\", \"Single Noble Black Bone Chicken Sweet Potato Thread\", \"Hot & Sour Casserole Stewed Rice Noodle\", \"Sichuan Pickled Sweet Potato Thread\", \"Single Noble Pickled Radish & Duck\", \"Hot & Sour Rice Noodle\", \"Spicy Fei- Chang Sweet Potato Noodle\"], \"legendgroup\": \"Baijia\", \"line\": {\"color\": \"#FF6692\"}, \"mode\": \"lines\", \"name\": \"Baijia\", \"orientation\": \"v\", \"showlegend\": true, \"stackgroup\": \"1\", \"type\": \"scatter\", \"x\": [\"China\", \"China\", \"China\", \"China\", \"China\", \"China\", \"China\", \"China\", \"China\", \"China\", \"China\"], \"xaxis\": \"x\", \"y\": [0.0, 3.75, 3.0, 2.75, 0.5, 0.0, 0.0, 1.75, 0.25, 0.0, 1.75], \"yaxis\": \"y\"}, {\"hovertemplate\": \"<b>%{hovertext}</b><br><br>Brand=Daraz<br>Country=%{x}<br>Stars=%{y}<extra></extra>\", \"hovertext\": [\"Negi Man Ramen\"], \"legendgroup\": \"Daraz\", \"line\": {\"color\": \"#B6E880\"}, \"mode\": \"lines\", \"name\": \"Daraz\", \"orientation\": \"v\", \"showlegend\": true, \"stackgroup\": \"1\", \"type\": \"scatter\", \"x\": [\"Japan\"], \"xaxis\": \"x\", \"y\": [3.0], \"yaxis\": \"y\"}, {\"hovertemplate\": \"<b>%{hovertext}</b><br><br>Brand=Pama<br>Country=%{x}<br>Stars=%{y}<extra></extra>\", \"hovertext\": [\"Instant Rice Vermicelli Clear Soup Flavour\", \"Kua Teaw Segera\", \"Bihun Creamy Tom Yam Flavour\", \"Instant Kua Teow Tom Yam\"], \"legendgroup\": \"Pama\", \"line\": {\"color\": \"#FF97FF\"}, \"mode\": \"lines\", \"name\": \"Pama\", \"orientation\": \"v\", \"showlegend\": true, \"stackgroup\": \"1\", \"type\": \"scatter\", \"x\": [\"Malaysia\", \"Malaysia\", \"Malaysia\", \"Malaysia\"], \"xaxis\": \"x\", \"y\": [3.5, 4.0, 3.75, 3.75], \"yaxis\": \"y\"}, {\"hovertemplate\": \"<b>%{hovertext}</b><br><br>Brand=Seven & I<br>Country=%{x}<br>Stars=%{y}<extra></extra>\", \"hovertext\": [\"Gold Sumire Ramen\"], \"legendgroup\": \"Seven & I\", \"line\": {\"color\": \"#FECB52\"}, \"mode\": \"lines\", \"name\": \"Seven & I\", \"orientation\": \"v\", \"showlegend\": true, \"stackgroup\": \"1\", \"type\": \"scatter\", \"x\": [\"Japan\"], \"xaxis\": \"x\", \"y\": [5.0], \"yaxis\": \"y\"}, {\"hovertemplate\": \"<b>%{hovertext}</b><br><br>Brand=Forest Noodles<br>Country=%{x}<br>Stars=%{y}<extra></extra>\", \"hovertext\": [\"Sunbaked Noodles With Sesame Sauce\", \"Purple Sweet Potato Noodles With Taiwanese Sauce\", \"Sunbaked Noodles With Spicy Sauce\", \"Sweet Potato Noodles With Sesame Paste Sauce\"], \"legendgroup\": \"Forest Noodles\", \"line\": {\"color\": \"#636efa\"}, \"mode\": \"lines\", \"name\": \"Forest Noodles\", \"orientation\": \"v\", \"showlegend\": true, \"stackgroup\": \"1\", \"type\": \"scatter\", \"x\": [\"Taiwan\", \"Taiwan\", \"Taiwan\", \"Taiwan\"], \"xaxis\": \"x\", \"y\": [4.5, 5.0, 4.0, 3.25], \"yaxis\": \"y\"}, {\"hovertemplate\": \"<b>%{hovertext}</b><br><br>Brand=Vit's<br>Country=%{x}<br>Stars=%{y}<extra></extra>\", \"hovertext\": [\"Taste Of Malaysia Penang White Curry Ramen\", \"Taste Of Malaysia Penang Asam Laksa Fried Instant Noodle\", \"Taste Of Malaysia Penang Hokkien Mee Ramen\", \"Taste Of Malaysia Penang White Curry Fried Instant Noodle\", \"Taste Of Malaysia Penang Asam Laksa Ramen\", \"Taste Of Malaysia Penang Hokkien Mee Fried Instant Noodle\", \"Instant Noodles With Chicken Flavour\", \"Shallot Chicken Instant Noodles\", \"Tom Yam Instant Noodles\", \"Duck Instant Noodles\", \"Curry Instant Noodles\", \"Mi goreng Pedas Chewy & springy\", \"Seafood Instant Noodles\"], \"legendgroup\": \"Vit's\", \"line\": {\"color\": \"#EF553B\"}, \"mode\": \"lines\", \"name\": \"Vit's\", \"orientation\": \"v\", \"showlegend\": true, \"stackgroup\": \"1\", \"type\": \"scatter\", \"x\": [\"Malaysia\", \"Malaysia\", \"Malaysia\", \"Malaysia\", \"Malaysia\", \"Malaysia\", \"Malaysia\", \"Malaysia\", \"Malaysia\", \"Malaysia\", \"Malaysia\", \"Malaysia\", \"Malaysia\"], \"xaxis\": \"x\", \"y\": [5.0, 4.5, 5.0, 5.0, 5.0, 5.0, 3.75, 3.0, 4.25, 3.5, 3.5, 3.5, 3.75], \"yaxis\": \"y\"}, {\"hovertemplate\": \"<b>%{hovertext}</b><br><br>Brand=Ten-In<br>Country=%{x}<br>Stars=%{y}<extra></extra>\", \"hovertext\": [\"Veggie King Buddha Jump Instant Noodles\", \"Veggie World Vegetarian Braised Beef Instant Noodles\"], \"legendgroup\": \"Ten-In\", \"line\": {\"color\": \"#00cc96\"}, \"mode\": \"lines\", \"name\": \"Ten-In\", \"orientation\": \"v\", \"showlegend\": true, \"stackgroup\": \"1\", \"type\": \"scatter\", \"x\": [\"Taiwan\", \"Taiwan\"], \"xaxis\": \"x\", \"y\": [1.5, 3.5], \"yaxis\": \"y\"}, {\"hovertemplate\": \"<b>%{hovertext}</b><br><br>Brand=Sugakiya Foods<br>Country=%{x}<br>Stars=%{y}<extra></extra>\", \"hovertext\": [\"Nara Tenri Shoyu Ramen\", \"Udon Miso Stew\"], \"legendgroup\": \"Sugakiya Foods\", \"line\": {\"color\": \"#ab63fa\"}, \"mode\": \"lines\", \"name\": \"Sugakiya Foods\", \"orientation\": \"v\", \"showlegend\": true, \"stackgroup\": \"1\", \"type\": \"scatter\", \"x\": [\"Japan\", \"Japan\"], \"xaxis\": \"x\", \"y\": [4.5, 3.25], \"yaxis\": \"y\"}, {\"hovertemplate\": \"<b>%{hovertext}</b><br><br>Brand=Hao Way<br>Country=%{x}<br>Stars=%{y}<extra></extra>\", \"hovertext\": [\"Penang Vegetarian Prawn Instant Bowl Noodles\", \"Vegetarian Penang Laksa\", \"Vegetarian Penang Laksa Instant Bowl Noodles\", \"Penang Laksa Instant Bowl Noodles\", \"Penang Vegetarian Prawn Instant Noodles\", \"Penang White Curry Instant Bowl Noodles\", \"Penang Laksa \", \"Instant Penang White Curry Noodles\"], \"legendgroup\": \"Hao Way\", \"line\": {\"color\": \"#FFA15A\"}, \"mode\": \"lines\", \"name\": \"Hao Way\", \"orientation\": \"v\", \"showlegend\": true, \"stackgroup\": \"1\", \"type\": \"scatter\", \"x\": [\"Malaysia\", \"Malaysia\", \"Malaysia\", \"Malaysia\", \"Malaysia\", \"Malaysia\", \"Malaysia\", \"Malaysia\"], \"xaxis\": \"x\", \"y\": [4.0, 4.0, 2.0, 3.5, 4.5, 4.75, 3.5, 4.5], \"yaxis\": \"y\"}, {\"hovertemplate\": \"<b>%{hovertext}</b><br><br>Brand=Nakaya Shouten<br>Country=%{x}<br>Stars=%{y}<extra></extra>\", \"hovertext\": [\"Hingya no Shio Ramen\"], \"legendgroup\": \"Nakaya Shouten\", \"line\": {\"color\": \"#19d3f3\"}, \"mode\": \"lines\", \"name\": \"Nakaya Shouten\", \"orientation\": \"v\", \"showlegend\": true, \"stackgroup\": \"1\", \"type\": \"scatter\", \"x\": [\"Japan\"], \"xaxis\": \"x\", \"y\": [4.0], \"yaxis\": \"y\"}, {\"hovertemplate\": \"<b>%{hovertext}</b><br><br>Brand=Mama<br>Country=%{x}<br>Stars=%{y}<extra></extra>\", \"hovertext\": [\"Vegetarian Instant Cup Noodle Tofu & Shiitake Flavour\", \"Vegetarian Instant Noodles Tom Yum Flavour\", \"Cup Yentafo Tom Yum Mohfai\", \"Cup Shrimp Creamy Tom Yum\", \"Instant Rice Vermicelli Bihun Goreng Original Flavour\", \"Instant Cup Noodles Minced Prok Flavor\", \"Cup Rice Vermicelli With Clear Soup\", \"Non-Fried Instant Noodles Ramen Tonkotsu Flavor\", \"JokCup Instant Porridge Soup Seafood Flavour\", \"Instant Rice Noodle Soup Spicy Shrimp Flavour\", \"Cup Rice Vermicelli Shrimp Creamy Tom Yum\", \"Pork Flavour Whole Wheat Noodle\", \"Instant Noodles Cup Beef Flavour\", \"Instant Noodles Tom Yum Pork Flavour\", \"Instant Noodles Moo Nam Tok Flavour\", \"Instant Noodle Shrimp Tom Yum Flavour Jumbo Pack\", \"Instant Cup Noodles Shrimp Tom Yum Flavour (Extreme)\", \"Instant Noodles Shrimp Creamy Tom Yum Flavour Jumbo Pack\", \"Instant Cup Noodles Spicy Cheese Flavour\", \"Instant Cup Noodles Seafood Pad Kee Mao Flavour\", \"Oriental Style Instant Noodles Green Curry Flavour Jumbo Pack\", \"Instant Noodles Cup Seafood Flavour\", \"Instant Noodles Yentafo Tom Yum Mohfai Flavour\", \"Instant Noodles Tom Saab Flavour\", \"Instant Noodles Creamy Tom Yum Minced Pork Flavour\", \"Instant Noodles Pork Flavour With Black Pepper\", \"Instant Noodles Chicken Green Curry Flavour\", \"Oriental Style Instant Kua-Chap Clear Soup\", \"Authentic Thai Cuisine Pad Thai\", \"Shrimp (TOM YUM)\", \"Moo Nam Tok Rice Vermicelli\", \"Chand Clear Soup\", \"Pad Kee Mao Drunken\", \"Pho Ga\", \"Vegetable\", \"Vegetarian Tom Yum\", \"Pho Bo Rice Noodle Artificial Beef\", \"Oriental Kitchen Hot Spicy\", \"Cup Shrimp Tom Yum Flavor\", \"Pork\", \"Oriental Kitchen Spicy Seafood\", \"Artificial Pork Jumbo\", \"Instant Bowl Noodles Artificial Pork\", \"Kimchi\", \"Oriental Style Clear Soup\", \"Flat Noodle Tom Yum\", \"Hot & Spicy\", \"Jok Cup Porridge Artificial Pork\", \"Pho Bo\", \"Mamy Chand Clear Soup\", \"Mi Goreng\", \"Shrimp Creamy Tom Yum\", \"Artificial PA-LO Duck\", \"Tom Yam Koong Rice Vermicelli\", \"Nam Vang\", \"Pad Thai\", \"Artificial Chicken\", \"Chand Clear Soup\"], \"legendgroup\": \"Mama\", \"line\": {\"color\": \"#FF6692\"}, \"mode\": \"lines\", \"name\": \"Mama\", \"orientation\": \"v\", \"showlegend\": true, \"stackgroup\": \"1\", \"type\": \"scatter\", \"x\": [\"Thailand\", \"Thailand\", \"Thailand\", \"Thailand\", \"Thailand\", \"Thailand\", \"Thailand\", \"Thailand\", \"Thailand\", \"Thailand\", \"Thailand\", \"Thailand\", \"Thailand\", \"Thailand\", \"Thailand\", \"Thailand\", \"Thailand\", \"Thailand\", \"Thailand\", \"Thailand\", \"Thailand\", \"Thailand\", \"Thailand\", \"Thailand\", \"Thailand\", \"Thailand\", \"Thailand\", \"Thailand\", \"Thailand\", \"Thailand\", \"Thailand\", \"Thailand\", \"Thailand\", \"Thailand\", \"Thailand\", \"Thailand\", \"Thailand\", \"Thailand\", \"Thailand\", \"Thailand\", \"Thailand\", \"Thailand\", \"Thailand\", \"Thailand\", \"Thailand\", \"Thailand\", \"Thailand\", \"Thailand\", \"Thailand\", \"Thailand\", \"Thailand\", \"Thailand\", \"Thailand\", \"Thailand\", \"Thailand\", \"Thailand\", \"Thailand\", \"Thailand\"], \"xaxis\": \"x\", \"y\": [3.5, 4.0, 5.0, 5.0, 4.75, 3.5, 3.5, 5.0, 3.5, 5.0, 4.0, 3.75, 3.5, 4.0, 4.0, 4.0, 5.0, 5.0, 3.5, 5.0, 5.0, 3.75, 5.0, 3.5, 3.5, 3.5, 3.75, 3.75, 4.0, 3.75, 3.25, 3.5, 2.0, 3.1, 3.25, 2.75, 3.5, 3.0, 3.75, 2.0, 3.75, 3.0, 2.75, 3.0, 2.0, 3.75, 1.75, 2.5, 2.5, 2.75, 5.0, 5.0, 0.1, 1.5, 3.6, 3.1, 2.5, 3.0], \"yaxis\": \"y\"}, {\"hovertemplate\": \"<b>%{hovertext}</b><br><br>Brand=Wai Wai<br>Country=%{x}<br>Stars=%{y}<extra></extra>\", \"hovertext\": [\"Tom Yum Goong Flavour Instant Noodle\", \"Instant Rice Vermicelli Crab Flavour\", \"Grilled Pork Flavour Instant Noodles\", \"Quick Zabb Tom Klong Flavour Instant Noodles\", \"Quick Zabb Chili Paste Tom Yum Flavour Instant Noodles\", \"Quick Zabb Tom Yum Shrimp Flavour Instant Noodles\", \"Artificial Pork Flavour\", \"Tom Yum Shrimp Flavour\", \"Oriental Style Instant Noodles (Dry method)\", \"Sour Soup Flavor\", \"Casserole Beef Flavour\", \"Vegetarian\", \"Quick Tom Yum Shrimp\", \"Chicken Flavor\", \"Chili Paste Tom Yum\", \"Minced Pork Tom Yum\", \"Crab Instant Rice Vermicelli\", \"Minced Pork Soeng Kreung\", \"Tom Yum Shrimp Cream Soup\", \"Oriental Style Instant Noodles\", \"Tom Yum Shrimp\", \"Tom Yum Chili Flavor\"], \"legendgroup\": \"Wai Wai\", \"line\": {\"color\": \"#B6E880\"}, \"mode\": \"lines\", \"name\": \"Wai Wai\", \"orientation\": \"v\", \"showlegend\": true, \"stackgroup\": \"1\", \"type\": \"scatter\", \"x\": [\"Thailand\", \"Thailand\", \"Thailand\", \"Thailand\", \"Thailand\", \"Thailand\", \"Thailand\", \"Thailand\", \"Thailand\", \"Thailand\", \"Thailand\", \"Thailand\", \"Thailand\", \"Thailand\", \"Thailand\", \"Thailand\", \"Thailand\", \"Thailand\", \"Thailand\", \"Thailand\", \"Thailand\", \"Thailand\"], \"xaxis\": \"x\", \"y\": [3.5, 3.5, 2.5, 2.75, 3.75, 4.0, 3.0, 3.25, 3.0, 3.5, 3.5, 3.5, 3.0, 0.9, 3.25, 2.5, 2.5, 3.7, 2.75, 1.0, 2.0, 2.0], \"yaxis\": \"y\"}, {\"hovertemplate\": \"<b>%{hovertext}</b><br><br>Brand=Crystal Noodle<br>Country=%{x}<br>Stars=%{y}<extra></extra>\", \"hovertext\": [\"Soup All Natural Hot & Sour\"], \"legendgroup\": \"Crystal Noodle\", \"line\": {\"color\": \"#FF97FF\"}, \"mode\": \"lines\", \"name\": \"Crystal Noodle\", \"orientation\": \"v\", \"showlegend\": true, \"stackgroup\": \"1\", \"type\": \"scatter\", \"x\": [\"USA\"], \"xaxis\": \"x\", \"y\": [0.25], \"yaxis\": \"y\"}, {\"hovertemplate\": \"<b>%{hovertext}</b><br><br>Brand=Super<br>Country=%{x}<br>Stars=%{y}<extra></extra>\", \"hovertext\": [\"Kimchi\", \"Curry Flavour Noodles\", \"Instant Noodles Black Pepper Crab Mi Goreng\", \"Seafood Flavour Noodles\", \"Instant Noodles Mee Goreng\"], \"legendgroup\": \"Super\", \"line\": {\"color\": \"#FECB52\"}, \"mode\": \"lines\", \"name\": \"Super\", \"orientation\": \"v\", \"showlegend\": true, \"stackgroup\": \"1\", \"type\": \"scatter\", \"x\": [\"Malaysia\", \"Malaysia\", \"Malaysia\", \"Malaysia\", \"Malaysia\"], \"xaxis\": \"x\", \"y\": [4.5, 3.0, 3.5, 3.25, 3.75], \"yaxis\": \"y\"}, {\"hovertemplate\": \"<b>%{hovertext}</b><br><br>Brand=Torishi<br>Country=%{x}<br>Stars=%{y}<extra></extra>\", \"hovertext\": [\"Hakata Tonkotsu Ramen\"], \"legendgroup\": \"Torishi\", \"line\": {\"color\": \"#636efa\"}, \"mode\": \"lines\", \"name\": \"Torishi\", \"orientation\": \"v\", \"showlegend\": true, \"stackgroup\": \"1\", \"type\": \"scatter\", \"x\": [\"Japan\"], \"xaxis\": \"x\", \"y\": [5.0], \"yaxis\": \"y\"}, {\"hovertemplate\": \"<b>%{hovertext}</b><br><br>Brand=Chering Chang<br>Country=%{x}<br>Stars=%{y}<extra></extra>\", \"hovertext\": [\"Instant Non-Fried Noodles Tomato Flavour\", \"Instant Non-Fried Noodles Vegetable Curry Flavor\", \"Instant Non-Fried Noodles Shallot Pork Flavour\", \"Steam Vegetarian Flavor Noodles\", \"Curry La-Men\"], \"legendgroup\": \"Chering Chang\", \"line\": {\"color\": \"#EF553B\"}, \"mode\": \"lines\", \"name\": \"Chering Chang\", \"orientation\": \"v\", \"showlegend\": true, \"stackgroup\": \"1\", \"type\": \"scatter\", \"x\": [\"Taiwan\", \"Taiwan\", \"Taiwan\", \"Taiwan\", \"Taiwan\"], \"xaxis\": \"x\", \"y\": [3.25, 5.0, 5.0, 3.5, 5.0], \"yaxis\": \"y\"}, {\"hovertemplate\": \"<b>%{hovertext}</b><br><br>Brand=Ishimaru<br>Country=%{x}<br>Stars=%{y}<extra></extra>\", \"hovertext\": [\"Tuna Flavor Ramen\"], \"legendgroup\": \"Ishimaru\", \"line\": {\"color\": \"#00cc96\"}, \"mode\": \"lines\", \"name\": \"Ishimaru\", \"orientation\": \"v\", \"showlegend\": true, \"stackgroup\": \"1\", \"type\": \"scatter\", \"x\": [\"Japan\"], \"xaxis\": \"x\", \"y\": [4.5], \"yaxis\": \"y\"}, {\"hovertemplate\": \"<b>%{hovertext}</b><br><br>Brand=Authentically Asian<br>Country=%{x}<br>Stars=%{y}<extra></extra>\", \"hovertext\": [\"Natural Quality Foods Pad Thai Noodle Bowl\"], \"legendgroup\": \"Authentically Asian\", \"line\": {\"color\": \"#ab63fa\"}, \"mode\": \"lines\", \"name\": \"Authentically Asian\", \"orientation\": \"v\", \"showlegend\": true, \"stackgroup\": \"1\", \"type\": \"scatter\", \"x\": [\"USA\"], \"xaxis\": \"x\", \"y\": [1.0], \"yaxis\": \"y\"}, {\"hovertemplate\": \"<b>%{hovertext}</b><br><br>Brand=Aroi<br>Country=%{x}<br>Stars=%{y}<extra></extra>\", \"hovertext\": [\"Curry Me! Penang White Curry Stir-fry Noodle\", \"Curry Me! Penang White Curry Soup Noodle\"], \"legendgroup\": \"Aroi\", \"line\": {\"color\": \"#FFA15A\"}, \"mode\": \"lines\", \"name\": \"Aroi\", \"orientation\": \"v\", \"showlegend\": true, \"stackgroup\": \"1\", \"type\": \"scatter\", \"x\": [\"Malaysia\", \"Malaysia\"], \"xaxis\": \"x\", \"y\": [4.5, 4.5], \"yaxis\": \"y\"}, {\"hovertemplate\": \"<b>%{hovertext}</b><br><br>Brand=Koka<br>Country=%{x}<br>Stars=%{y}<extra></extra>\", \"hovertext\": [\"Laksa Singapura\", \"Purple Wheat Noodles Soy & Vinegar Flavor\", \"Noodles Beef Flavour\", \"Spicy Shrimp Tom Yam Flavour\", \"Oriental Style Instant Noodles Tom Yam Flavour\", \"Purple Wheat Noodles Aglio Olio\", \"Oriental Style Instant Noodles Crab Flavour\", \"Oriental Instant Noodles Stir Fried Noodles\", \"Spicy Black Pepper\", \"Mi Hai Cua Crab Flavor\", \"Tomato\", \"Spicy Seafood Marinara\", \"Spicy Sesame\", \"Curry\", \"Tom Yum Rice Noodles\", \"Laksa Singapura\", \"Mi Hai Tom Prawn\", \"Mi Hai Cua Crab Flavor\"], \"legendgroup\": \"Koka\", \"line\": {\"color\": \"#19d3f3\"}, \"mode\": \"lines\", \"name\": \"Koka\", \"orientation\": \"v\", \"showlegend\": true, \"stackgroup\": \"1\", \"type\": \"scatter\", \"x\": [\"Singapore\", \"Singapore\", \"Singapore\", \"Singapore\", \"Singapore\", \"Singapore\", \"Singapore\", \"Singapore\", \"Singapore\", \"Singapore\", \"Singapore\", \"Singapore\", \"Singapore\", \"Singapore\", \"Singapore\", \"Singapore\", \"Singapore\", \"Singapore\"], \"xaxis\": \"x\", \"y\": [4.25, 2.75, 2.5, 3.25, 2.5, 2.75, 3.75, 3.75, 5.0, 5.0, 4.75, 3.0, 5.0, 4.25, 3.5, 4.25, 3.75, 3.5], \"yaxis\": \"y\"}, {\"hovertemplate\": \"<b>%{hovertext}</b><br><br>Brand=Wu-Mu<br>Country=%{x}<br>Stars=%{y}<extra></extra>\", \"hovertext\": [\"BBQ Pork Flavor Chow Mein\", \"Steam Pork Flavour\", \"Dried Noodle With Beef Flavor Sauce\", \"Steam Seafood Flavor Ramen\", \"Ramen With Pickled Mustard Flavor\", \"Steam Mushroom Flavor Ramen\", \"Ramen With Stewed Pork Flavor\", \"Shiitake Flavor Spinach Ramen\", \"Dried Noodle With Jah Jan Sauce\", \"Beef Flavour Tomato Ramen\", \"Ramen With Simmered Pork Flavor\", \"Spicy Flavor Tomato Ramen\"], \"legendgroup\": \"Wu-Mu\", \"line\": {\"color\": \"#FF6692\"}, \"mode\": \"lines\", \"name\": \"Wu-Mu\", \"orientation\": \"v\", \"showlegend\": true, \"stackgroup\": \"1\", \"type\": \"scatter\", \"x\": [\"Taiwan\", \"Taiwan\", \"Taiwan\", \"Taiwan\", \"Taiwan\", \"Taiwan\", \"Taiwan\", \"Taiwan\", \"Taiwan\", \"Taiwan\", \"Taiwan\", \"Taiwan\"], \"xaxis\": \"x\", \"y\": [4.5, 3.75, 3.0, 4.0, 3.5, 3.25, 4.5, 3.75, 3.25, 4.0, 3.75, 4.0], \"yaxis\": \"y\"}, {\"hovertemplate\": \"<b>%{hovertext}</b><br><br>Brand=Yamadai<br>Country=%{x}<br>Stars=%{y}<extra></extra>\", \"hovertext\": [\"Tenobe Somen\"], \"legendgroup\": \"Yamadai\", \"line\": {\"color\": \"#B6E880\"}, \"mode\": \"lines\", \"name\": \"Yamadai\", \"orientation\": \"v\", \"showlegend\": true, \"stackgroup\": \"1\", \"type\": \"scatter\", \"x\": [\"Japan\"], \"xaxis\": \"x\", \"y\": [3.25], \"yaxis\": \"y\"}, {\"hovertemplate\": \"<b>%{hovertext}</b><br><br>Brand=Baixiang Noodles<br>Country=%{x}<br>Stars=%{y}<extra></extra>\", \"hovertext\": [\"Artificial Beef Instant Noodles With Soup Base\", \"Sour & Spicy Flavour\", \"Sauerkraut Flavor\", \"Artificial Pork Flavour\", \"Spicy Artificial Beef Flavour Instant Noodles With Soup Base\"], \"legendgroup\": \"Baixiang Noodles\", \"line\": {\"color\": \"#FF97FF\"}, \"mode\": \"lines\", \"name\": \"Baixiang Noodles\", \"orientation\": \"v\", \"showlegend\": true, \"stackgroup\": \"1\", \"type\": \"scatter\", \"x\": [\"China\", \"China\", \"China\", \"China\", \"China\"], \"xaxis\": \"x\", \"y\": [3.75, 3.75, 4.5, 3.0, 3.5], \"yaxis\": \"y\"}, {\"hovertemplate\": \"<b>%{hovertext}</b><br><br>Brand=Salam Mie<br>Country=%{x}<br>Stars=%{y}<extra></extra>\", \"hovertext\": [\"Mi Goreng Dengan Abon\", \"Mi Goreng Ala Jawa Dengan Sambal Cabe Asli\"], \"legendgroup\": \"Salam Mie\", \"line\": {\"color\": \"#FECB52\"}, \"mode\": \"lines\", \"name\": \"Salam Mie\", \"orientation\": \"v\", \"showlegend\": true, \"stackgroup\": \"1\", \"type\": \"scatter\", \"x\": [\"Indonesia\", \"Indonesia\"], \"xaxis\": \"x\", \"y\": [4.25, 5.0], \"yaxis\": \"y\"}, {\"hovertemplate\": \"<b>%{hovertext}</b><br><br>Brand=Sakurai Foods<br>Country=%{x}<br>Stars=%{y}<extra></extra>\", \"hovertext\": [\"Organic Miso Ramen\", \"Organic Shoyu Ramen\", \"Miso Stew Instant Udon (Winter)\", \"ARCHE Naturk\\u00fcche Ramen Mit Ingwer\", \"Soy Sauce Ramen\", \"100% Vegetarian Soy Sauce Flavor\", \"Sesame Noodles\", \"Miso Ramen\", \"ARCHE Naturk\\u00fcche Japanische Nudelsuppe\", \"Soy Sauce Ramen\"], \"legendgroup\": \"Sakurai Foods\", \"line\": {\"color\": \"#636efa\"}, \"mode\": \"lines\", \"name\": \"Sakurai Foods\", \"orientation\": \"v\", \"showlegend\": true, \"stackgroup\": \"1\", \"type\": \"scatter\", \"x\": [\"Japan\", \"Japan\", \"Japan\", \"Japan\", \"Japan\", \"Japan\", \"Japan\", \"Japan\", \"Japan\", \"Japan\"], \"xaxis\": \"x\", \"y\": [4.5, 4.25, 4.25, 3.25, 4.25, 4.25, 5.0, 4.0, 3.25, 4.75], \"yaxis\": \"y\"}, {\"hovertemplate\": \"<b>%{hovertext}</b><br><br>Brand=Maggi<br>Country=%{x}<br>Stars=%{y}<extra></extra>\", \"hovertext\": [\"Hot Cup Goreng Perencah Cili Fiesta\", \"Perencah Kari Letup Mi Segera\", \"Mi Goreng Perencah Kari Ori\", \"Royale Penang Seafood Curry\", \"2 Minute Noodles Tom Yam Flavour\", \"2 Minute Noodles Assam Laksa Flavour\", \"Hot Cup Perisa Kari\", \"2 Minute Noodles Curry Flavour\", \"Senses Laksa Instant Noodles\", \"Extra Spicy Curry Instant Noodles\", \"Big Kari Perencah (Big Curry Flavor) 2 Minute Noodles\", \"2 Minute Noodles Perencah Asam Laksa\", \"Perencah Tom Yam\"], \"legendgroup\": \"Maggi\", \"line\": {\"color\": \"#EF553B\"}, \"mode\": \"lines\", \"name\": \"Maggi\", \"orientation\": \"v\", \"showlegend\": true, \"stackgroup\": \"1\", \"type\": \"scatter\", \"x\": [\"Malaysia\", \"Malaysia\", \"Malaysia\", \"Malaysia\", \"Singapore\", \"Singapore\", \"Malaysia\", \"Singapore\", \"Singapore\", \"Singapore\", \"Malaysia\", \"Malaysia\", \"Malaysia\"], \"xaxis\": \"x\", \"y\": [4.75, 4.0, 4.0, 4.5, 3.5, 4.0, 3.5, 3.75, 5.0, 5.0, 4.0, 4.0, 2.9], \"yaxis\": \"y\"}, {\"hovertemplate\": \"<b>%{hovertext}</b><br><br>Brand=Premiere<br>Country=%{x}<br>Stars=%{y}<extra></extra>\", \"hovertext\": [\"Gold Bihun Kari Heritage Instant Rice Vermicelli\", \"Gold Penang Asam Laksa Bihun\"], \"legendgroup\": \"Premiere\", \"line\": {\"color\": \"#00cc96\"}, \"mode\": \"lines\", \"name\": \"Premiere\", \"orientation\": \"v\", \"showlegend\": true, \"stackgroup\": \"1\", \"type\": \"scatter\", \"x\": [\"Malaysia\", \"Malaysia\"], \"xaxis\": \"x\", \"y\": [4.5, 3.25], \"yaxis\": \"y\"}, {\"hovertemplate\": \"<b>%{hovertext}</b><br><br>Brand=7 Select/Nissin<br>Country=%{x}<br>Stars=%{y}<extra></extra>\", \"hovertext\": [\"Super Tom Yum Shrimp\"], \"legendgroup\": \"7 Select/Nissin\", \"line\": {\"color\": \"#ab63fa\"}, \"mode\": \"lines\", \"name\": \"7 Select/Nissin\", \"orientation\": \"v\", \"showlegend\": true, \"stackgroup\": \"1\", \"type\": \"scatter\", \"x\": [\"Thailand\"], \"xaxis\": \"x\", \"y\": [3.5], \"yaxis\": \"y\"}, {\"hovertemplate\": \"<b>%{hovertext}</b><br><br>Brand=Wugudaochang<br>Country=%{x}<br>Stars=%{y}<extra></extra>\", \"hovertext\": [\"Sour Bamboo Shoot & Beef If Hot Pot Flavor Noodles\", \"Tomato Beef Brisket Flavor Purple Potato Noodle\", \"Sea Tangle & Sparerins Flavor Noodles\", \"Chef's Grains Millet Noodle\", \"Chef's Grains Buckwheat Noodle\", \"Chef's Grains Pea Noodle\", \"Sichuan Pepper & Chicken Flavor Noodle\", \"Sour Soup & Minced Meat Flavor Chef's Grain Naked Oat Noodles\", \"Sour Bamboo Shoot & Beef If Hot Pot Flavor Noodles\", \"Sea Tangle & Sparerins Flavor Noodles\"], \"legendgroup\": \"Wugudaochang\", \"line\": {\"color\": \"#FFA15A\"}, \"mode\": \"lines\", \"name\": \"Wugudaochang\", \"orientation\": \"v\", \"showlegend\": true, \"stackgroup\": \"1\", \"type\": \"scatter\", \"x\": [\"China\", \"China\", \"China\", \"China\", \"China\", \"China\", \"China\", \"China\", \"China\", \"China\"], \"xaxis\": \"x\", \"y\": [4.0, 5.0, 3.75, 3.75, 3.5, 4.0, 4.5, 5.0, 4.0, 3.75], \"yaxis\": \"y\"}, {\"hovertemplate\": \"<b>%{hovertext}</b><br><br>Brand=Emart<br>Country=%{x}<br>Stars=%{y}<extra></extra>\", \"hovertext\": [\"Dare You! Habanero Ramen (New Edition)\", \"Dare You! Habanero Jjajang Ramen\", \"Dare You! Habanero Ramen (New Edition)\", \"Dare You Habanero Ramyun\", \"Dare You Habanero Jjamppong\", \"Dare You! Habanero Ramen\", \"Ramen E Ramen White Broth\"], \"legendgroup\": \"Emart\", \"line\": {\"color\": \"#19d3f3\"}, \"mode\": \"lines\", \"name\": \"Emart\", \"orientation\": \"v\", \"showlegend\": true, \"stackgroup\": \"1\", \"type\": \"scatter\", \"x\": [\"South Korea\", \"South Korea\", \"South Korea\", \"South Korea\", \"South Korea\", \"South Korea\", \"South Korea\"], \"xaxis\": \"x\", \"y\": [3.5, 3.5, 3.75, 3.25, 4.0, 3.75, 5.0], \"yaxis\": \"y\"}, {\"hovertemplate\": \"<b>%{hovertext}</b><br><br>Brand=Lishan Food Manufacturing<br>Country=%{x}<br>Stars=%{y}<extra></extra>\", \"hovertext\": [\"Black Cock Brand Vegetarian Chicken Noodle\"], \"legendgroup\": \"Lishan Food Manufacturing\", \"line\": {\"color\": \"#FF6692\"}, \"mode\": \"lines\", \"name\": \"Lishan Food Manufacturing\", \"orientation\": \"v\", \"showlegend\": true, \"stackgroup\": \"1\", \"type\": \"scatter\", \"x\": [\"Taiwan\"], \"xaxis\": \"x\", \"y\": [3.5], \"yaxis\": \"y\"}, {\"hovertemplate\": \"<b>%{hovertext}</b><br><br>Brand=Ah Lai<br>Country=%{x}<br>Stars=%{y}<extra></extra>\", \"hovertext\": [\"Penang Favourite White Curry Rice Vermicelli\", \"White Curry Noodle\"], \"legendgroup\": \"Ah Lai\", \"line\": {\"color\": \"#B6E880\"}, \"mode\": \"lines\", \"name\": \"Ah Lai\", \"orientation\": \"v\", \"showlegend\": true, \"stackgroup\": \"1\", \"type\": \"scatter\", \"x\": [\"Malaysia\", \"Malaysia\"], \"xaxis\": \"x\", \"y\": [5.0, 4.5], \"yaxis\": \"y\"}, {\"hovertemplate\": \"<b>%{hovertext}</b><br><br>Brand=Tropicana Slim<br>Country=%{x}<br>Stars=%{y}<extra></extra>\", \"hovertext\": [\"Less Fat Noodles Grilled Chicken\", \"Low Fat Noodles Hainan Chicken\"], \"legendgroup\": \"Tropicana Slim\", \"line\": {\"color\": \"#FF97FF\"}, \"mode\": \"lines\", \"name\": \"Tropicana Slim\", \"orientation\": \"v\", \"showlegend\": true, \"stackgroup\": \"1\", \"type\": \"scatter\", \"x\": [\"Indonesia\", \"Indonesia\"], \"xaxis\": \"x\", \"y\": [3.75, 3.75], \"yaxis\": \"y\"}, {\"hovertemplate\": \"<b>%{hovertext}</b><br><br>Brand=Deshome<br>Country=%{x}<br>Stars=%{y}<extra></extra>\", \"hovertext\": [\"Aloe Thin Noodles With Camelia Oil Vegetable Sauce Flavor\", \"Aloe This Noodles With Camellia Oil Spicy Bean Sauce Flavor\", \"Sun Dried Noodle Chlorella Powder Noodle With Curry Sauce\", \"Aloe Noodle Sesame Sauce\", \"Black Eyed Beans Noodle Basil Sauce & Sesame Sauce\", \"Aloe Noodle Vegetable Sauce\", \"Black Eyed Beans Noodle Spicy Soybean Sauce & Sesame Sauce\", \"Aloe Noodle Red Onion & Sesame Sauce\", \"Black Eyed Beans Noodle Vegetable Sauce & Sesame Sauce\", \"Aloe Noodle With Basil Sauce\", \"Pollen Noodles Sesame Sauce & Soy Sauce\", \"Black Eyed Bean Noodle Red Onion Sauce & Sesame Sauce\", \"Aloe Noodle With Spicy Soybean Sauce\"], \"legendgroup\": \"Deshome\", \"line\": {\"color\": \"#FECB52\"}, \"mode\": \"lines\", \"name\": \"Deshome\", \"orientation\": \"v\", \"showlegend\": true, \"stackgroup\": \"1\", \"type\": \"scatter\", \"x\": [\"Taiwan\", \"Taiwan\", \"Taiwan\", \"Taiwan\", \"Taiwan\", \"Taiwan\", \"Taiwan\", \"Taiwan\", \"Taiwan\", \"Taiwan\", \"Taiwan\", \"Taiwan\", \"Taiwan\"], \"xaxis\": \"x\", \"y\": [5.0, 2.5, 5.0, 3.25, 3.5, 5.0, 3.75, 5.0, 3.75, 5.0, 4.25, 3.75, 4.0], \"yaxis\": \"y\"}, {\"hovertemplate\": \"<b>%{hovertext}</b><br><br>Brand=Chencun<br>Country=%{x}<br>Stars=%{y}<extra></extra>\", \"hovertext\": [\"Senior Food Rice Noodle Fragrant Peppery Beef\", \"Rice Noodle Beef With Brown Sauce\", \"Braised Pork Ribs\", \"Spicy Beef\", \"Stewde Chicken Of Mushroom\"], \"legendgroup\": \"Chencun\", \"line\": {\"color\": \"#636efa\"}, \"mode\": \"lines\", \"name\": \"Chencun\", \"orientation\": \"v\", \"showlegend\": true, \"stackgroup\": \"1\", \"type\": \"scatter\", \"x\": [\"China\", \"China\", \"China\", \"China\", \"China\"], \"xaxis\": \"x\", \"y\": [3.75, 3.5, 3.0, 3.5, 3.25], \"yaxis\": \"y\"}, {\"hovertemplate\": \"<b>%{hovertext}</b><br><br>Brand=ChoripDong<br>Country=%{x}<br>Stars=%{y}<extra></extra>\", \"hovertext\": [\"Hurricane Rice Cake (Topokki)\"], \"legendgroup\": \"ChoripDong\", \"line\": {\"color\": \"#EF553B\"}, \"mode\": \"lines\", \"name\": \"ChoripDong\", \"orientation\": \"v\", \"showlegend\": true, \"stackgroup\": \"1\", \"type\": \"scatter\", \"x\": [\"South Korea\"], \"xaxis\": \"x\", \"y\": [5.0], \"yaxis\": \"y\"}, {\"hovertemplate\": \"<b>%{hovertext}</b><br><br>Brand=Ruski<br>Country=%{x}<br>Stars=%{y}<extra></extra>\", \"hovertext\": [\"Chicken Flavour Instant Noodles\", \"Tom Yam Flavour Instant Noodles\", \"Chicken Masala Flavour Instant Fried Noodles\", \"Creamy Tom Yam Instant Noodles\", \"Instant Noodles Stewed Beef Flavour\", \"Instant Noodles Tom Yum Flavour\"], \"legendgroup\": \"Ruski\", \"line\": {\"color\": \"#00cc96\"}, \"mode\": \"lines\", \"name\": \"Ruski\", \"orientation\": \"v\", \"showlegend\": true, \"stackgroup\": \"1\", \"type\": \"scatter\", \"x\": [\"Malaysia\", \"Thailand\", \"Thailand\", \"Thailand\", \"Thailand\", \"Thailand\"], \"xaxis\": \"x\", \"y\": [3.75, 4.0, 3.75, 4.5, 3.5, 3.5], \"yaxis\": \"y\"}, {\"hovertemplate\": \"<b>%{hovertext}</b><br><br>Brand=One Dish Asia<br>Country=%{x}<br>Stars=%{y}<extra></extra>\", \"hovertext\": [\"Japanese Ramen Noodle\"], \"legendgroup\": \"One Dish Asia\", \"line\": {\"color\": \"#ab63fa\"}, \"mode\": \"lines\", \"name\": \"One Dish Asia\", \"orientation\": \"v\", \"showlegend\": true, \"stackgroup\": \"1\", \"type\": \"scatter\", \"x\": [\"USA\"], \"xaxis\": \"x\", \"y\": [0.0], \"yaxis\": \"y\"}, {\"hovertemplate\": \"<b>%{hovertext}</b><br><br>Brand=Long Jun Hang<br>Country=%{x}<br>Stars=%{y}<extra></extra>\", \"hovertext\": [\"Taiwan Dried Noodles With Onion Oil Sauce\", \"Tainan Yi Mien With Sesame Oil Sauce\"], \"legendgroup\": \"Long Jun Hang\", \"line\": {\"color\": \"#FFA15A\"}, \"mode\": \"lines\", \"name\": \"Long Jun Hang\", \"orientation\": \"v\", \"showlegend\": true, \"stackgroup\": \"1\", \"type\": \"scatter\", \"x\": [\"Taiwan\", \"Taiwan\"], \"xaxis\": \"x\", \"y\": [2.0, 3.25], \"yaxis\": \"y\"}, {\"hovertemplate\": \"<b>%{hovertext}</b><br><br>Brand=Unif-100<br>Country=%{x}<br>Stars=%{y}<extra></extra>\", \"hovertext\": [\"Instant Noodles Artificial Spicy Beef Flavor (New Package)\", \"Instant Noodles Artificial Shallot Beef Flavour\"], \"legendgroup\": \"Unif-100\", \"line\": {\"color\": \"#19d3f3\"}, \"mode\": \"lines\", \"name\": \"Unif-100\", \"orientation\": \"v\", \"showlegend\": true, \"stackgroup\": \"1\", \"type\": \"scatter\", \"x\": [\"China\", \"China\"], \"xaxis\": \"x\", \"y\": [3.5, 4.25], \"yaxis\": \"y\"}, {\"hovertemplate\": \"<b>%{hovertext}</b><br><br>Brand=Hankow<br>Country=%{x}<br>Stars=%{y}<extra></extra>\", \"hovertext\": [\"Shanghai Kaiyang Noodle\", \"Cai Lin Ji Dry Noodles\"], \"legendgroup\": \"Hankow\", \"line\": {\"color\": \"#FF6692\"}, \"mode\": \"lines\", \"name\": \"Hankow\", \"orientation\": \"v\", \"showlegend\": true, \"stackgroup\": \"1\", \"type\": \"scatter\", \"x\": [\"China\", \"China\"], \"xaxis\": \"x\", \"y\": [4.0, 3.25], \"yaxis\": \"y\"}, {\"hovertemplate\": \"<b>%{hovertext}</b><br><br>Brand=The Bridge<br>Country=%{x}<br>Stars=%{y}<extra></extra>\", \"hovertext\": [\"Penang White Curry Noodle\"], \"legendgroup\": \"The Bridge\", \"line\": {\"color\": \"#B6E880\"}, \"mode\": \"lines\", \"name\": \"The Bridge\", \"orientation\": \"v\", \"showlegend\": true, \"stackgroup\": \"1\", \"type\": \"scatter\", \"x\": [\"Malaysia\"], \"xaxis\": \"x\", \"y\": [5.0], \"yaxis\": \"y\"}, {\"hovertemplate\": \"<b>%{hovertext}</b><br><br>Brand=Mitoku<br>Country=%{x}<br>Stars=%{y}<extra></extra>\", \"hovertext\": [\"Brown Rice Ramen\"], \"legendgroup\": \"Mitoku\", \"line\": {\"color\": \"#FF97FF\"}, \"mode\": \"lines\", \"name\": \"Mitoku\", \"orientation\": \"v\", \"showlegend\": true, \"stackgroup\": \"1\", \"type\": \"scatter\", \"x\": [\"Japan\"], \"xaxis\": \"x\", \"y\": [0.25], \"yaxis\": \"y\"}, {\"hovertemplate\": \"<b>%{hovertext}</b><br><br>Brand=Unzen<br>Country=%{x}<br>Stars=%{y}<extra></extra>\", \"hovertext\": [\"Mushroom Honpo Shiitake Nutritious Noodle\"], \"legendgroup\": \"Unzen\", \"line\": {\"color\": \"#FECB52\"}, \"mode\": \"lines\", \"name\": \"Unzen\", \"orientation\": \"v\", \"showlegend\": true, \"stackgroup\": \"1\", \"type\": \"scatter\", \"x\": [\"Japan\"], \"xaxis\": \"x\", \"y\": [1.0], \"yaxis\": \"y\"}, {\"hovertemplate\": \"<b>%{hovertext}</b><br><br>Brand=Uncle Sun<br>Country=%{x}<br>Stars=%{y}<extra></extra>\", \"hovertext\": [\"White Curry Noodle More Spicy\", \"White Curry Noodle\"], \"legendgroup\": \"Uncle Sun\", \"line\": {\"color\": \"#636efa\"}, \"mode\": \"lines\", \"name\": \"Uncle Sun\", \"orientation\": \"v\", \"showlegend\": true, \"stackgroup\": \"1\", \"type\": \"scatter\", \"x\": [\"Malaysia\", \"Malaysia\"], \"xaxis\": \"x\", \"y\": [3.0, 4.5], \"yaxis\": \"y\"}, {\"hovertemplate\": \"<b>%{hovertext}</b><br><br>Brand=Mi E-Zee<br>Country=%{x}<br>Stars=%{y}<extra></extra>\", \"hovertext\": [\"Perisa Sayuran\", \"Perisa Kari Sayuran\", \"Perisa Bayam\", \"Plain Noodles\", \"Perisa Kari / Curry Flavour\"], \"legendgroup\": \"Mi E-Zee\", \"line\": {\"color\": \"#EF553B\"}, \"mode\": \"lines\", \"name\": \"Mi E-Zee\", \"orientation\": \"v\", \"showlegend\": true, \"stackgroup\": \"1\", \"type\": \"scatter\", \"x\": [\"Malaysia\", \"Malaysia\", \"Malaysia\", \"Malaysia\", \"Malaysia\"], \"xaxis\": \"x\", \"y\": [3.5, 3.75, 3.5, 0.0, 4.0], \"yaxis\": \"y\"}, {\"hovertemplate\": \"<b>%{hovertext}</b><br><br>Brand=E-mi<br>Country=%{x}<br>Stars=%{y}<extra></extra>\", \"hovertext\": [\"Mi Perencah Ayam Jagung\", \"Mi Perencah Asam Pedas\"], \"legendgroup\": \"E-mi\", \"line\": {\"color\": \"#00cc96\"}, \"mode\": \"lines\", \"name\": \"E-mi\", \"orientation\": \"v\", \"showlegend\": true, \"stackgroup\": \"1\", \"type\": \"scatter\", \"x\": [\"Malaysia\", \"Malaysia\"], \"xaxis\": \"x\", \"y\": [3.75, 3.75], \"yaxis\": \"y\"}, {\"hovertemplate\": \"<b>%{hovertext}</b><br><br>Brand=J.J.<br>Country=%{x}<br>Stars=%{y}<extra></extra>\", \"hovertext\": [\"Snek Mi Perisa Ayam\", \"Snek Mi Perisa BBQ\"], \"legendgroup\": \"J.J.\", \"line\": {\"color\": \"#ab63fa\"}, \"mode\": \"lines\", \"name\": \"J.J.\", \"orientation\": \"v\", \"showlegend\": true, \"stackgroup\": \"1\", \"type\": \"scatter\", \"x\": [\"Malaysia\", \"Malaysia\"], \"xaxis\": \"x\", \"y\": [3.75, 4.0], \"yaxis\": \"y\"}, {\"hovertemplate\": \"<b>%{hovertext}</b><br><br>Brand=Curry Prince<br>Country=%{x}<br>Stars=%{y}<extra></extra>\", \"hovertext\": [\"Penang Authentic White Curry Noodle\"], \"legendgroup\": \"Curry Prince\", \"line\": {\"color\": \"#FFA15A\"}, \"mode\": \"lines\", \"name\": \"Curry Prince\", \"orientation\": \"v\", \"showlegend\": true, \"stackgroup\": \"1\", \"type\": \"scatter\", \"x\": [\"Malaysia\"], \"xaxis\": \"x\", \"y\": [4.0], \"yaxis\": \"y\"}, {\"hovertemplate\": \"<b>%{hovertext}</b><br><br>Brand=Econsave<br>Country=%{x}<br>Stars=%{y}<extra></extra>\", \"hovertext\": [\"Choice Instant Noodles Curry Flavour\"], \"legendgroup\": \"Econsave\", \"line\": {\"color\": \"#19d3f3\"}, \"mode\": \"lines\", \"name\": \"Econsave\", \"orientation\": \"v\", \"showlegend\": true, \"stackgroup\": \"1\", \"type\": \"scatter\", \"x\": [\"Malaysia\"], \"xaxis\": \"x\", \"y\": [3.5], \"yaxis\": \"y\"}, {\"hovertemplate\": \"<b>%{hovertext}</b><br><br>Brand=Oyatsu<br>Country=%{x}<br>Stars=%{y}<extra></extra>\", \"hovertext\": [\"Baby Star Snack Noodle Chicken Flavour\", \"Baby Star Snack Noodle Yakisoba Flavor\", \"Baby Star Ramen Round Consomme Mini\", \"Baby Star Ramen Round Chikinmini\"], \"legendgroup\": \"Oyatsu\", \"line\": {\"color\": \"#FF6692\"}, \"mode\": \"lines\", \"name\": \"Oyatsu\", \"orientation\": \"v\", \"showlegend\": true, \"stackgroup\": \"1\", \"type\": \"scatter\", \"x\": [\"Japan\", \"Japan\", \"Japan\", \"Japan\"], \"xaxis\": \"x\", \"y\": [2.5, 4.75, 3.75, 3.5], \"yaxis\": \"y\"}, {\"hovertemplate\": \"<b>%{hovertext}</b><br><br>Brand=Kin-Dee<br>Country=%{x}<br>Stars=%{y}<extra></extra>\", \"hovertext\": [\"Instant Rice Noodle Spicy Seafood\", \"Instant Rice Noodle Pad Thai\"], \"legendgroup\": \"Kin-Dee\", \"line\": {\"color\": \"#B6E880\"}, \"mode\": \"lines\", \"name\": \"Kin-Dee\", \"orientation\": \"v\", \"showlegend\": true, \"stackgroup\": \"1\", \"type\": \"scatter\", \"x\": [\"Thailand\", \"Thailand\"], \"xaxis\": \"x\", \"y\": [3.75, 3.75], \"yaxis\": \"y\"}, {\"hovertemplate\": \"<b>%{hovertext}</b><br><br>Brand=Nanyang Chef<br>Country=%{x}<br>Stars=%{y}<extra></extra>\", \"hovertext\": [\"Penang Asam Pedas Hot & Sour Noodle\", \"Penang White curry Noodle With Nanyang Chilli Paste\"], \"legendgroup\": \"Nanyang Chef\", \"line\": {\"color\": \"#FF97FF\"}, \"mode\": \"lines\", \"name\": \"Nanyang Chef\", \"orientation\": \"v\", \"showlegend\": true, \"stackgroup\": \"1\", \"type\": \"scatter\", \"x\": [\"Malaysia\", \"Malaysia\"], \"xaxis\": \"x\", \"y\": [5.0, 4.75], \"yaxis\": \"y\"}, {\"hovertemplate\": \"<b>%{hovertext}</b><br><br>Brand=Thai Pavilion<br>Country=%{x}<br>Stars=%{y}<extra></extra>\", \"hovertext\": [\"Pad Thai Instant rice Noodles & Sauce\", \"Garlic Chili Instant Rice Noodles & Sauce\", \"spicy Pad Thai Instant Noodles & Sauce\"], \"legendgroup\": \"Thai Pavilion\", \"line\": {\"color\": \"#FECB52\"}, \"mode\": \"lines\", \"name\": \"Thai Pavilion\", \"orientation\": \"v\", \"showlegend\": true, \"stackgroup\": \"1\", \"type\": \"scatter\", \"x\": [\"USA\", \"USA\", \"USA\"], \"xaxis\": \"x\", \"y\": [1.5, 4.0, 4.25], \"yaxis\": \"y\"}, {\"hovertemplate\": \"<b>%{hovertext}</b><br><br>Brand=Men-Sunaoshi<br>Country=%{x}<br>Stars=%{y}<extra></extra>\", \"hovertext\": [\"Miso Ramen\", \"Tonkotsu Ramen\"], \"legendgroup\": \"Men-Sunaoshi\", \"line\": {\"color\": \"#636efa\"}, \"mode\": \"lines\", \"name\": \"Men-Sunaoshi\", \"orientation\": \"v\", \"showlegend\": true, \"stackgroup\": \"1\", \"type\": \"scatter\", \"x\": [\"Japan\", \"Japan\"], \"xaxis\": \"x\", \"y\": [3.75, 3.75], \"yaxis\": \"y\"}, {\"hovertemplate\": \"<b>%{hovertext}</b><br><br>Brand=Chewy<br>Country=%{x}<br>Stars=%{y}<extra></extra>\", \"hovertext\": [\"Japanese Fried Ramen Noodles Kyoto Barbecue Sauce Flavour\", \"Instant Rice Vermicelli Original Flavour\", \"Non-Fried Ramen Noodles Taiwan Roast Pork Flavour\", \"Rice Vermicelli Scallop With XO Sauce Flavour\", \"Rice Vermicelli Spicy Beef With Chilli Flavour\", \"Rice Vermicelli Satay Chicken\", \"Stir Rice Vermicelli Singaporean Laksa\", \"Stir Rice Vermicelli Indonesian Gado Gado\"], \"legendgroup\": \"Chewy\", \"line\": {\"color\": \"#EF553B\"}, \"mode\": \"lines\", \"name\": \"Chewy\", \"orientation\": \"v\", \"showlegend\": true, \"stackgroup\": \"1\", \"type\": \"scatter\", \"x\": [\"Hong Kong\", \"Hong Kong\", \"Hong Kong\", \"Hong Kong\", \"China\", \"China\", \"China\", \"China\"], \"xaxis\": \"x\", \"y\": [1.75, 0.5, 4.0, 2.5, 3.25, 3.0, 3.75, 2.25], \"yaxis\": \"y\"}, {\"hovertemplate\": \"<b>%{hovertext}</b><br><br>Brand=Knorr<br>Country=%{x}<br>Stars=%{y}<extra></extra>\", \"hovertext\": [\"Quick Serve Macaroni Wonton Broth\", \"Quick Serve Macaroni Abalone & Chicken Flavour\", \"Quick Serve Macaroni Shrimp Broth\", \"Japanese Pork Bone Flavour Quick Serve Macaroni\", \"Chili Pork\"], \"legendgroup\": \"Knorr\", \"line\": {\"color\": \"#00cc96\"}, \"mode\": \"lines\", \"name\": \"Knorr\", \"orientation\": \"v\", \"showlegend\": true, \"stackgroup\": \"1\", \"type\": \"scatter\", \"x\": [\"Hong Kong\", \"Hong Kong\", \"Hong Kong\", \"Hong Kong\", \"Thailand\"], \"xaxis\": \"x\", \"y\": [3.25, 3.0, 3.25, 3.0, 3.5], \"yaxis\": \"y\"}, {\"hovertemplate\": \"<b>%{hovertext}</b><br><br>Brand=Adabi<br>Country=%{x}<br>Stars=%{y}<extra></extra>\", \"hovertext\": [\"Mi Segera Mi Goreng Pedas Instant Noodles\", \"Mi Segera Tom Yam Instant Noodles\", \"Mi Segera Kari Ayam Instant Noodles\", \"Mi Bandung Prawn Mee\"], \"legendgroup\": \"Adabi\", \"line\": {\"color\": \"#ab63fa\"}, \"mode\": \"lines\", \"name\": \"Adabi\", \"orientation\": \"v\", \"showlegend\": true, \"stackgroup\": \"1\", \"type\": \"scatter\", \"x\": [\"Malaysia\", \"Malaysia\", \"Malaysia\", \"Malaysia\"], \"xaxis\": \"x\", \"y\": [3.5, 3.25, 4.25, 4.25], \"yaxis\": \"y\"}, {\"hovertemplate\": \"<b>%{hovertext}</b><br><br>Brand=Osaka Ramen<br>Country=%{x}<br>Stars=%{y}<extra></extra>\", \"hovertext\": [\"Miso Ramen\"], \"legendgroup\": \"Osaka Ramen\", \"line\": {\"color\": \"#FFA15A\"}, \"mode\": \"lines\", \"name\": \"Osaka Ramen\", \"orientation\": \"v\", \"showlegend\": true, \"stackgroup\": \"1\", \"type\": \"scatter\", \"x\": [\"USA\"], \"xaxis\": \"x\", \"y\": [3.75], \"yaxis\": \"y\"}, {\"hovertemplate\": \"<b>%{hovertext}</b><br><br>Brand=Annie Chun's<br>Country=%{x}<br>Stars=%{y}<extra></extra>\", \"hovertext\": [\"Ramen House Thai Coconut Ramen\", \"Ramen House Chicken Vegetable Flavored Ramen\", \"Ramen House Spicy Chicken Ramen\", \"Soup Bowl Chinese Chicken\", \"Noodle Express Spicy Szechuan\", \"Soup Bowl Vietnamese Pho\", \"Noodle Express Teriyaki\", \"Soup Bowl South Korean Kimchi\", \"Ramen House Spring Vegetable Ramen\", \"Noodle Express Chinese Chow Mein\", \"Soy Ginger Ramen\", \"Teriyaki Noodle\"], \"legendgroup\": \"Annie Chun's\", \"line\": {\"color\": \"#19d3f3\"}, \"mode\": \"lines\", \"name\": \"Annie Chun's\", \"orientation\": \"v\", \"showlegend\": true, \"stackgroup\": \"1\", \"type\": \"scatter\", \"x\": [\"USA\", \"USA\", \"USA\", \"USA\", \"USA\", \"USA\", \"USA\", \"USA\", \"USA\", \"USA\", \"USA\", \"USA\"], \"xaxis\": \"x\", \"y\": [5.0, 4.0, 4.0, 4.25, 2.0, 4.0, 3.0, 4.5, 4.0, 3.75, 1.5, 1.75], \"yaxis\": \"y\"}, {\"hovertemplate\": \"<b>%{hovertext}</b><br><br>Brand=La Fonte<br>Country=%{x}<br>Stars=%{y}<extra></extra>\", \"hovertext\": [\"Spaghetti With Mushroom Sauce\", \"Spaghetti With Bolognese Sauce\"], \"legendgroup\": \"La Fonte\", \"line\": {\"color\": \"#FF6692\"}, \"mode\": \"lines\", \"name\": \"La Fonte\", \"orientation\": \"v\", \"showlegend\": true, \"stackgroup\": \"1\", \"type\": \"scatter\", \"x\": [\"Indonesia\", \"Indonesia\"], \"xaxis\": \"x\", \"y\": [3.75, 4.25], \"yaxis\": \"y\"}, {\"hovertemplate\": \"<b>%{hovertext}</b><br><br>Brand=Thai Choice<br>Country=%{x}<br>Stars=%{y}<extra></extra>\", \"hovertext\": [\"Instant Noodles Seafood Flavour\", \"Instant Noodles Chicken Flavour\", \"Instant Noodles Shrimp Flavour\"], \"legendgroup\": \"Thai Choice\", \"line\": {\"color\": \"#B6E880\"}, \"mode\": \"lines\", \"name\": \"Thai Choice\", \"orientation\": \"v\", \"showlegend\": true, \"stackgroup\": \"1\", \"type\": \"scatter\", \"x\": [\"Thailand\", \"Thailand\", \"Thailand\"], \"xaxis\": \"x\", \"y\": [4.0, 3.0, 3.25], \"yaxis\": \"y\"}, {\"hovertemplate\": \"<b>%{hovertext}</b><br><br>Brand=Pop Bihun<br>Country=%{x}<br>Stars=%{y}<extra></extra>\", \"hovertext\": [\"Spesial Rasa Kari Ayam Pedas\", \"Spesial Rasa Soto Ayam\", \"Spesial Goreng Special\"], \"legendgroup\": \"Pop Bihun\", \"line\": {\"color\": \"#FF97FF\"}, \"mode\": \"lines\", \"name\": \"Pop Bihun\", \"orientation\": \"v\", \"showlegend\": true, \"stackgroup\": \"1\", \"type\": \"scatter\", \"x\": [\"Indonesia\", \"Indonesia\", \"Indonesia\"], \"xaxis\": \"x\", \"y\": [3.75, 4.0, 3.5], \"yaxis\": \"y\"}, {\"hovertemplate\": \"<b>%{hovertext}</b><br><br>Brand=Snapdragon<br>Country=%{x}<br>Stars=%{y}<extra></extra>\", \"hovertext\": [\"Singapore Laksa Curry Soup Bowl\", \"Chinese Mushroom Rice Noodle\", \"Beijing Vegetable Rice Noodle\", \"South Korean Kimchi Rice Noodle\", \"Tomato Seafood Rice Noodle\"], \"legendgroup\": \"Snapdragon\", \"line\": {\"color\": \"#FECB52\"}, \"mode\": \"lines\", \"name\": \"Snapdragon\", \"orientation\": \"v\", \"showlegend\": true, \"stackgroup\": \"1\", \"type\": \"scatter\", \"x\": [\"USA\", \"Singapore\", \"Singapore\", \"Singapore\", \"Singapore\"], \"xaxis\": \"x\", \"y\": [4.25, 2.5, 2.0, 3.75, 3.5], \"yaxis\": \"y\"}, {\"hovertemplate\": \"<b>%{hovertext}</b><br><br>Brand=Saji<br>Country=%{x}<br>Stars=%{y}<extra></extra>\", \"hovertext\": [\"Sajimee Curry Soup Flavour\", \"Sajimee Original Soto Soup Flavor\"], \"legendgroup\": \"Saji\", \"line\": {\"color\": \"#636efa\"}, \"mode\": \"lines\", \"name\": \"Saji\", \"orientation\": \"v\", \"showlegend\": true, \"stackgroup\": \"1\", \"type\": \"scatter\", \"x\": [\"Malaysia\", \"Malaysia\"], \"xaxis\": \"x\", \"y\": [4.25, 4.0], \"yaxis\": \"y\"}, {\"hovertemplate\": \"<b>%{hovertext}</b><br><br>Brand=Miracle Noodle<br>Country=%{x}<br>Stars=%{y}<extra></extra>\", \"hovertext\": [\"Miso Marvellous Soup\"], \"legendgroup\": \"Miracle Noodle\", \"line\": {\"color\": \"#EF553B\"}, \"mode\": \"lines\", \"name\": \"Miracle Noodle\", \"orientation\": \"v\", \"showlegend\": true, \"stackgroup\": \"1\", \"type\": \"scatter\", \"x\": [\"USA\"], \"xaxis\": \"x\", \"y\": [4.0], \"yaxis\": \"y\"}, {\"hovertemplate\": \"<b>%{hovertext}</b><br><br>Brand=Takamori Kosan<br>Country=%{x}<br>Stars=%{y}<extra></extra>\", \"hovertext\": [\"Red Pepper 7 Garlic Peperoncino\", \"Sukiyaki Style Noodle Stew\", \"Yaki-Udon Roast Soy Sauce\", \"Hiyashi Udon Bonito Sauce\", \"Futomen Yakisoba\", \"Hiyashi Chuka Lemon Sauce\", \"Curry Udon\", \"Chanpon\", \"Shio Yakisoba\", \"Yakisoba\", \"Yaki-Udon Mild Spicy Sauce\", \"Katsuo Dashi Udon\", \"Spaghetti Napolitan\", \"Fresh Chow Mein Noodles With Seasoning\"], \"legendgroup\": \"Takamori Kosan\", \"line\": {\"color\": \"#00cc96\"}, \"mode\": \"lines\", \"name\": \"Takamori Kosan\", \"orientation\": \"v\", \"showlegend\": true, \"stackgroup\": \"1\", \"type\": \"scatter\", \"x\": [\"Japan\", \"Japan\", \"Japan\", \"Japan\", \"Japan\", \"Japan\", \"Japan\", \"Japan\", \"Japan\", \"Japan\", \"Japan\", \"Japan\", \"Japan\", \"Japan\"], \"xaxis\": \"x\", \"y\": [4.0, 4.5, 3.75, 3.0, 4.75, 4.75, 5.0, 3.75, 4.0, 5.0, 4.25, 3.75, 4.0, 3.75], \"yaxis\": \"y\"}, {\"hovertemplate\": \"<b>%{hovertext}</b><br><br>Brand=Papa<br>Country=%{x}<br>Stars=%{y}<extra></extra>\", \"hovertext\": [\"Oriental Style Instant 'Kua-Chap'\"], \"legendgroup\": \"Papa\", \"line\": {\"color\": \"#ab63fa\"}, \"mode\": \"lines\", \"name\": \"Papa\", \"orientation\": \"v\", \"showlegend\": true, \"stackgroup\": \"1\", \"type\": \"scatter\", \"x\": [\"Thailand\"], \"xaxis\": \"x\", \"y\": [3.25], \"yaxis\": \"y\"}, {\"hovertemplate\": \"<b>%{hovertext}</b><br><br>Brand=Golden Wheat<br>Country=%{x}<br>Stars=%{y}<extra></extra>\", \"hovertext\": [\"Korean Style Stew Pork Flavour Noodle Soup\", \"Korean Style Mushroom Chicken Flavour Cooking Noodle\", \"Korean Style Stew Prok Flavour Cooking Noodle\", \"Korean Style Shrimp Flavour Cooking Noodle\", \"Korean Style Stew Beef Cooking Noodle\", \"Korean Style Spicy Shrimp Noodle Soup\", \"Korean Style Spicy Beef Noodle Soup\", \"South Korean Style Seafood\", \"South Korean Style Spicy Pork\", \"South Korean Style Pork\", \"South Korean Style Beef\", \"South Korean Style Spicy Beef\"], \"legendgroup\": \"Golden Wheat\", \"line\": {\"color\": \"#FFA15A\"}, \"mode\": \"lines\", \"name\": \"Golden Wheat\", \"orientation\": \"v\", \"showlegend\": true, \"stackgroup\": \"1\", \"type\": \"scatter\", \"x\": [\"China\", \"China\", \"China\", \"China\", \"China\", \"China\", \"China\", \"China\", \"China\", \"China\", \"China\", \"China\"], \"xaxis\": \"x\", \"y\": [1.75, 2.0, 3.5, 3.5, 3.25, 3.5, 3.75, 2.75, 3.5, 3.0, 3.5, 3.5], \"yaxis\": \"y\"}, {\"hovertemplate\": \"<b>%{hovertext}</b><br><br>Brand=Lotus Foods<br>Country=%{x}<br>Stars=%{y}<extra></extra>\", \"hovertext\": [\"Forbidden Rice Ramen\", \"Millet & Brown Rice Ramen\", \"Jade Pearl Rice Ramen\"], \"legendgroup\": \"Lotus Foods\", \"line\": {\"color\": \"#19d3f3\"}, \"mode\": \"lines\", \"name\": \"Lotus Foods\", \"orientation\": \"v\", \"showlegend\": true, \"stackgroup\": \"1\", \"type\": \"scatter\", \"x\": [\"USA\", \"USA\", \"USA\"], \"xaxis\": \"x\", \"y\": [2.25, 4.0, 3.25], \"yaxis\": \"y\"}, {\"hovertemplate\": \"<b>%{hovertext}</b><br><br>Brand=Sakura Noodle<br>Country=%{x}<br>Stars=%{y}<extra></extra>\", \"hovertext\": [\"Chikara Brand Udon Beef Flavor\", \"Chikara Brand Udon Hot & Spicy Flavor\", \"Chikara Brand Udon Mushroom Flavor\", \"Chikara Brand Udon Oriental Flavor\", \"Chikara Brand Udon Chicken Flavor\"], \"legendgroup\": \"Sakura Noodle\", \"line\": {\"color\": \"#FF6692\"}, \"mode\": \"lines\", \"name\": \"Sakura Noodle\", \"orientation\": \"v\", \"showlegend\": true, \"stackgroup\": \"1\", \"type\": \"scatter\", \"x\": [\"USA\", \"USA\", \"USA\", \"USA\", \"USA\"], \"xaxis\": \"x\", \"y\": [4.25, 4.0, 3.75, 3.75, 3.75], \"yaxis\": \"y\"}, {\"hovertemplate\": \"<b>%{hovertext}</b><br><br>Brand=Unif<br>Country=%{x}<br>Stars=%{y}<extra></extra>\", \"hovertext\": [\"Unif-100 Instant Noodles Artificial Tart Beef Flavor\", \"Unif-100 Pickled Cayenne Flavor Beef Ramen\", \"Man Han Feast Sichuan Chilli Eel Flavor\", \"Man Han Feast Spring Onion Eel\", \"Artificial Beef With Sauerkraut\", \"Shrimp Fish\", \"Super Bowl Artificial Pickled Chilli Beef\", \"Super Bowl Artificial Stewed Pork Chop\", \"Super Bowl Artificial Spicy Beef\", \"100 Artificial Spicy Beef\", \"100 Furong Shrimp\", \"100 Artificial Shallot Chicken\", \"100 Artificial Stewed Pork Chop\"], \"legendgroup\": \"Unif\", \"line\": {\"color\": \"#B6E880\"}, \"mode\": \"lines\", \"name\": \"Unif\", \"orientation\": \"v\", \"showlegend\": true, \"stackgroup\": \"1\", \"type\": \"scatter\", \"x\": [\"China\", \"China\", \"Taiwan\", \"Taiwan\", \"Taiwan\", \"Taiwan\", \"Taiwan\", \"Taiwan\", \"Taiwan\", \"Taiwan\", \"Taiwan\", \"Taiwan\", \"Taiwan\"], \"xaxis\": \"x\", \"y\": [3.0, 3.75, 5.0, 4.25, 3.75, 3.75, 3.25, 3.5, 2.75, 3.75, 3.0, 3.25, 3.2], \"yaxis\": \"y\"}, {\"hovertemplate\": \"<b>%{hovertext}</b><br><br>Brand=Hi-Myon<br>Country=%{x}<br>Stars=%{y}<extra></extra>\", \"hovertext\": [\"Instant Noodle Udon Hot & Spicy\", \"Katsuo Udon\"], \"legendgroup\": \"Hi-Myon\", \"line\": {\"color\": \"#FF97FF\"}, \"mode\": \"lines\", \"name\": \"Hi-Myon\", \"orientation\": \"v\", \"showlegend\": true, \"stackgroup\": \"1\", \"type\": \"scatter\", \"x\": [\"South Korea\", \"South Korea\"], \"xaxis\": \"x\", \"y\": [4.0, 4.0], \"yaxis\": \"y\"}, {\"hovertemplate\": \"<b>%{hovertext}</b><br><br>Brand=Healtimie<br>Country=%{x}<br>Stars=%{y}<extra></extra>\", \"hovertext\": [\"Green Barley Noodle Vegetable Soup\", \"Green Barley Noodle Milk Chicken Soup\"], \"legendgroup\": \"Healtimie\", \"line\": {\"color\": \"#FECB52\"}, \"mode\": \"lines\", \"name\": \"Healtimie\", \"orientation\": \"v\", \"showlegend\": true, \"stackgroup\": \"1\", \"type\": \"scatter\", \"x\": [\"Indonesia\", \"Indonesia\"], \"xaxis\": \"x\", \"y\": [3.25, 4.25], \"yaxis\": \"y\"}, {\"hovertemplate\": \"<b>%{hovertext}</b><br><br>Brand=Thai Kitchen<br>Country=%{x}<br>Stars=%{y}<extra></extra>\", \"hovertext\": [\"Rice Noodle Cart Thai Peanut\", \"Rice Noodle Cart Sweet Citrus Ginger\", \"Garlic Vegetable Rice Noodle\", \"Bangkok Curry Rice Noodle\", \"Lemongrass Chili Rice Noodle\", \"Spring Onion Rice Noodle\", \"Thai Ginger Rice Noodle\", \"Roasted Garlic Rice Noodle\", \"Mushroom Rice Noodle\", \"Spring Onion Rice Noodle\"], \"legendgroup\": \"Thai Kitchen\", \"line\": {\"color\": \"#636efa\"}, \"mode\": \"lines\", \"name\": \"Thai Kitchen\", \"orientation\": \"v\", \"showlegend\": true, \"stackgroup\": \"1\", \"type\": \"scatter\", \"x\": [\"USA\", \"USA\", \"USA\", \"USA\", \"USA\", \"USA\", \"USA\", \"USA\", \"USA\", \"USA\"], \"xaxis\": \"x\", \"y\": [3.0, 4.25, 3.5, 2.75, 1.5, 3.75, 4.25, 3.75, 3.25, 3.75], \"yaxis\": \"y\"}, {\"hovertemplate\": \"<b>%{hovertext}</b><br><br>Brand=Good Tto Leu Foods<br>Country=%{x}<br>Stars=%{y}<extra></extra>\", \"hovertext\": [\"Lightning Beef Bone Tteokguk Rice Cake Soup\"], \"legendgroup\": \"Good Tto Leu Foods\", \"line\": {\"color\": \"#EF553B\"}, \"mode\": \"lines\", \"name\": \"Good Tto Leu Foods\", \"orientation\": \"v\", \"showlegend\": true, \"stackgroup\": \"1\", \"type\": \"scatter\", \"x\": [\"South Korea\"], \"xaxis\": \"x\", \"y\": [4.0], \"yaxis\": \"y\"}, {\"hovertemplate\": \"<b>%{hovertext}</b><br><br>Brand=GaGa<br>Country=%{x}<br>Stars=%{y}<extra></extra>\", \"hovertext\": [\"Mie Gepeng Kuah Rasa Ayam Lada Hitam\", \"Mie Gepeng Kuah Rasa Ayam Bawang Pedas\", \"Mi Instan Cup Milk Chicken Soup\", \"Mie Gepeng Kuah Rasa Soto Cabe Hijau\", \"Seribu 1000 Goreng Spesial\", \"100 Green Chilli Soto Flavour\", \"Mie Jepeng Goreng Rasa Ayam Lada Hitam\"], \"legendgroup\": \"GaGa\", \"line\": {\"color\": \"#00cc96\"}, \"mode\": \"lines\", \"name\": \"GaGa\", \"orientation\": \"v\", \"showlegend\": true, \"stackgroup\": \"1\", \"type\": \"scatter\", \"x\": [\"Indonesia\", \"Indonesia\", \"Indonesia\", \"Indonesia\", \"Indonesia\", \"Indonesia\", \"Indonesia\"], \"xaxis\": \"x\", \"y\": [3.25, 3.25, 4.75, 3.5, 4.0, 3.75, 4.0], \"yaxis\": \"y\"}, {\"hovertemplate\": \"<b>%{hovertext}</b><br><br>Brand=Kimura<br>Country=%{x}<br>Stars=%{y}<extra></extra>\", \"hovertext\": [\"Kumamoto Tonkotsu Ramen\"], \"legendgroup\": \"Kimura\", \"line\": {\"color\": \"#ab63fa\"}, \"mode\": \"lines\", \"name\": \"Kimura\", \"orientation\": \"v\", \"showlegend\": true, \"stackgroup\": \"1\", \"type\": \"scatter\", \"x\": [\"Japan\"], \"xaxis\": \"x\", \"y\": [5.0], \"yaxis\": \"y\"}, {\"hovertemplate\": \"<b>%{hovertext}</b><br><br>Brand=Tokachimen Koubou<br>Country=%{x}<br>Stars=%{y}<extra></extra>\", \"hovertext\": [\"Jet Black Sesame Oil Pork Tonkotsu\"], \"legendgroup\": \"Tokachimen Koubou\", \"line\": {\"color\": \"#FFA15A\"}, \"mode\": \"lines\", \"name\": \"Tokachimen Koubou\", \"orientation\": \"v\", \"showlegend\": true, \"stackgroup\": \"1\", \"type\": \"scatter\", \"x\": [\"Japan\"], \"xaxis\": \"x\", \"y\": [2.25], \"yaxis\": \"y\"}, {\"hovertemplate\": \"<b>%{hovertext}</b><br><br>Brand=ABC<br>Country=%{x}<br>Stars=%{y}<extra></extra>\", \"hovertext\": [\"Mi Cup Rasa Soto Ayam Chicken Soto Flavour\", \"Selera Pedas Mi Goreng Cup Rasa Gulai Ayam Pedas Hot Gulai Chicken\", \"Rasa Ayam Bawang Chicken Onion Flavour\", \"Selera Pedas Mi Goreng Cup Rasa Ayam Pedas Limau Hot Chicken Lemon Flavour\", \"Mi Cup Rasa Kari Ayam Chicken Curry Flavour\", \"Mi Goreng Pangsit Fried Noodle With Dumpling\", \"Mi Goreng Spesial Special Fried Noodle\", \"Selera Pedas Hot Semur Chicken Flavour\", \"Mi ABC Rasa Ayam Bawang (Onion Chicken)\", \"Selera Pedas Mi Rebus Hot Gulai Flavor\", \"Selera Pedas Hot Tomato Soup Flavor\", \"Selera Pedas Mi Goreng Hot Chicken Lemon\"], \"legendgroup\": \"ABC\", \"line\": {\"color\": \"#19d3f3\"}, \"mode\": \"lines\", \"name\": \"ABC\", \"orientation\": \"v\", \"showlegend\": true, \"stackgroup\": \"1\", \"type\": \"scatter\", \"x\": [\"Indonesia\", \"Indonesia\", \"Indonesia\", \"Indonesia\", \"Indonesia\", \"Indonesia\", \"Indonesia\", \"Indonesia\", \"Indonesia\", \"Indonesia\", \"Indonesia\", \"Indonesia\"], \"xaxis\": \"x\", \"y\": [3.75, 4.0, 3.75, 4.25, 3.75, 5.0, 4.0, 4.5, 4.0, 4.75, 4.5, 4.25], \"yaxis\": \"y\"}, {\"hovertemplate\": \"<b>%{hovertext}</b><br><br>Brand=Eat & Go<br>Country=%{x}<br>Stars=%{y}<extra></extra>\", \"hovertext\": [\"Rasa Baso Sapi Meat Ball Mi Instan Cup\", \"Chicken Onion Mi Instan Cup\", \"Curry Chicken Mi Instan Cup\", \"Rendang Beef Flavour Fried Instant Noodle\", \"Spicy Chicken Mi Instan Cup\"], \"legendgroup\": \"Eat & Go\", \"line\": {\"color\": \"#FF6692\"}, \"mode\": \"lines\", \"name\": \"Eat & Go\", \"orientation\": \"v\", \"showlegend\": true, \"stackgroup\": \"1\", \"type\": \"scatter\", \"x\": [\"Indonesia\", \"Indonesia\", \"Indonesia\", \"Indonesia\", \"Indonesia\"], \"xaxis\": \"x\", \"y\": [3.75, 3.75, 4.25, 5.0, 4.25], \"yaxis\": \"y\"}, {\"hovertemplate\": \"<b>%{hovertext}</b><br><br>Brand=President<br>Country=%{x}<br>Stars=%{y}<extra></extra>\", \"hovertext\": [\"Mi Goreng Rasa Ayam Chicken Flavoured Fried Noodle\"], \"legendgroup\": \"President\", \"line\": {\"color\": \"#B6E880\"}, \"mode\": \"lines\", \"name\": \"President\", \"orientation\": \"v\", \"showlegend\": true, \"stackgroup\": \"1\", \"type\": \"scatter\", \"x\": [\"Indonesia\"], \"xaxis\": \"x\", \"y\": [4.5], \"yaxis\": \"y\"}, {\"hovertemplate\": \"<b>%{hovertext}</b><br><br>Brand=SuperMi<br>Country=%{x}<br>Stars=%{y}<extra></extra>\", \"hovertext\": [\"Rasa Ayam Spesial\", \"Sedaaap Mi Goreng\", \"GoBang\", \"Mi Keriting Rasa Ayam Bawang\", \"Sedaaap Mi Kuah Rasa Kari Ayam\", \"Sedaaap Mi Kuah Rasa Soto\", \"Super Rasa Ayam Bawang\", \"GoKar\"], \"legendgroup\": \"SuperMi\", \"line\": {\"color\": \"#FF97FF\"}, \"mode\": \"lines\", \"name\": \"SuperMi\", \"orientation\": \"v\", \"showlegend\": true, \"stackgroup\": \"1\", \"type\": \"scatter\", \"x\": [\"Indonesia\", \"Indonesia\", \"Indonesia\", \"Indonesia\", \"Indonesia\", \"Indonesia\", \"Indonesia\", \"Indonesia\"], \"xaxis\": \"x\", \"y\": [4.0, 5.0, 5.0, 3.75, 4.0, 4.0, 4.0, 4.0], \"yaxis\": \"y\"}, {\"hovertemplate\": \"<b>%{hovertext}</b><br><br>Brand=Kumamoto<br>Country=%{x}<br>Stars=%{y}<extra></extra>\", \"hovertext\": [\"Tonkotsu Ramen MEGA Dragon\"], \"legendgroup\": \"Kumamoto\", \"line\": {\"color\": \"#FECB52\"}, \"mode\": \"lines\", \"name\": \"Kumamoto\", \"orientation\": \"v\", \"showlegend\": true, \"stackgroup\": \"1\", \"type\": \"scatter\", \"x\": [\"Japan\"], \"xaxis\": \"x\", \"y\": [2.5], \"yaxis\": \"y\"}, {\"hovertemplate\": \"<b>%{hovertext}</b><br><br>Brand=HoMyeonDang<br>Country=%{x}<br>Stars=%{y}<extra></extra>\", \"hovertext\": [\"Premium Noodle House Seafood Ramyun\", \"Premium Noodle House Pork & Seafood Flavor\", \"Premium Noodle House Don Ramyun\", \"Premium Noodle House Tofu Fried Noodle\", \"Premuim Noodle House Crab Jjampong\"], \"legendgroup\": \"HoMyeonDang\", \"line\": {\"color\": \"#636efa\"}, \"mode\": \"lines\", \"name\": \"HoMyeonDang\", \"orientation\": \"v\", \"showlegend\": true, \"stackgroup\": \"1\", \"type\": \"scatter\", \"x\": [\"South Korea\", \"South Korea\", \"South Korea\", \"South Korea\", \"South Korea\"], \"xaxis\": \"x\", \"y\": [4.0, 4.0, 4.0, 3.5, 5.0], \"yaxis\": \"y\"}, {\"hovertemplate\": \"<b>%{hovertext}</b><br><br>Brand=Sawadee<br>Country=%{x}<br>Stars=%{y}<extra></extra>\", \"hovertext\": [\"Instant Noodles Prawn Oriental Flavour\", \"Instant Noodles Spicy Tomato Flavour\"], \"legendgroup\": \"Sawadee\", \"line\": {\"color\": \"#EF553B\"}, \"mode\": \"lines\", \"name\": \"Sawadee\", \"orientation\": \"v\", \"showlegend\": true, \"stackgroup\": \"1\", \"type\": \"scatter\", \"x\": [\"Malaysia\", \"Malaysia\"], \"xaxis\": \"x\", \"y\": [2.5, 2.5], \"yaxis\": \"y\"}, {\"hovertemplate\": \"<b>%{hovertext}</b><br><br>Brand=Nan Jie Cun<br>Country=%{x}<br>Stars=%{y}<extra></extra>\", \"hovertext\": [\"Hot -Dry Instant Noodles Chilli Flavour\"], \"legendgroup\": \"Nan Jie Cun\", \"line\": {\"color\": \"#00cc96\"}, \"mode\": \"lines\", \"name\": \"Nan Jie Cun\", \"orientation\": \"v\", \"showlegend\": true, \"stackgroup\": \"1\", \"type\": \"scatter\", \"x\": [\"China\"], \"xaxis\": \"x\", \"y\": [0.5], \"yaxis\": \"y\"}, {\"hovertemplate\": \"<b>%{hovertext}</b><br><br>Brand=China Best<br>Country=%{x}<br>Stars=%{y}<extra></extra>\", \"hovertext\": [\"Frozen Satay Sauce Noodle\"], \"legendgroup\": \"China Best\", \"line\": {\"color\": \"#ab63fa\"}, \"mode\": \"lines\", \"name\": \"China Best\", \"orientation\": \"v\", \"showlegend\": true, \"stackgroup\": \"1\", \"type\": \"scatter\", \"x\": [\"Taiwan\"], \"xaxis\": \"x\", \"y\": [1.0], \"yaxis\": \"y\"}, {\"hovertemplate\": \"<b>%{hovertext}</b><br><br>Brand=Sanrio<br>Country=%{x}<br>Stars=%{y}<extra></extra>\", \"hovertext\": [\"Hello Kitty Hakata Shoyutonkotsu Ramen\"], \"legendgroup\": \"Sanrio\", \"line\": {\"color\": \"#FFA15A\"}, \"mode\": \"lines\", \"name\": \"Sanrio\", \"orientation\": \"v\", \"showlegend\": true, \"stackgroup\": \"1\", \"type\": \"scatter\", \"x\": [\"Japan\"], \"xaxis\": \"x\", \"y\": [3.75], \"yaxis\": \"y\"}, {\"hovertemplate\": \"<b>%{hovertext}</b><br><br>Brand=Peyang<br>Country=%{x}<br>Stars=%{y}<extra></extra>\", \"hovertext\": [\"Yakisoba\"], \"legendgroup\": \"Peyang\", \"line\": {\"color\": \"#19d3f3\"}, \"mode\": \"lines\", \"name\": \"Peyang\", \"orientation\": \"v\", \"showlegend\": true, \"stackgroup\": \"1\", \"type\": \"scatter\", \"x\": [\"Japan\"], \"xaxis\": \"x\", \"y\": [5.0], \"yaxis\": \"y\"}, {\"hovertemplate\": \"<b>%{hovertext}</b><br><br>Brand=Komforte Chockolates<br>Country=%{x}<br>Stars=%{y}<extra></extra>\", \"hovertext\": [\"Savory Ramen \"], \"legendgroup\": \"Komforte Chockolates\", \"line\": {\"color\": \"#FF6692\"}, \"mode\": \"lines\", \"name\": \"Komforte Chockolates\", \"orientation\": \"v\", \"showlegend\": true, \"stackgroup\": \"1\", \"type\": \"scatter\", \"x\": [\"USA\"], \"xaxis\": \"x\", \"y\": [5.0], \"yaxis\": \"y\"}, {\"hovertemplate\": \"<b>%{hovertext}</b><br><br>Brand=Nagao Noodle<br>Country=%{x}<br>Stars=%{y}<extra></extra>\", \"hovertext\": [\"Ramen Kamen Thasos Galle Pork Bone\"], \"legendgroup\": \"Nagao Noodle\", \"line\": {\"color\": \"#B6E880\"}, \"mode\": \"lines\", \"name\": \"Nagao Noodle\", \"orientation\": \"v\", \"showlegend\": true, \"stackgroup\": \"1\", \"type\": \"scatter\", \"x\": [\"Japan\"], \"xaxis\": \"x\", \"y\": [4.25], \"yaxis\": \"y\"}, {\"hovertemplate\": \"<b>%{hovertext}</b><br><br>Brand=Maitri<br>Country=%{x}<br>Stars=%{y}<extra></extra>\", \"hovertext\": [\"Vegetarian Fried Noodles (Mie Goreng)\"], \"legendgroup\": \"Maitri\", \"line\": {\"color\": \"#FF97FF\"}, \"mode\": \"lines\", \"name\": \"Maitri\", \"orientation\": \"v\", \"showlegend\": true, \"stackgroup\": \"1\", \"type\": \"scatter\", \"x\": [\"Indonesia\"], \"xaxis\": \"x\", \"y\": [4.0], \"yaxis\": \"y\"}, {\"hovertemplate\": \"<b>%{hovertext}</b><br><br>Brand=GS25<br>Country=%{x}<br>Stars=%{y}<extra></extra>\", \"hovertext\": [\"Gonghwachun Jjajangmyun\", \"Gonghwachun Jjamppong\"], \"legendgroup\": \"GS25\", \"line\": {\"color\": \"#FECB52\"}, \"mode\": \"lines\", \"name\": \"GS25\", \"orientation\": \"v\", \"showlegend\": true, \"stackgroup\": \"1\", \"type\": \"scatter\", \"x\": [\"South Korea\", \"South Korea\"], \"xaxis\": \"x\", \"y\": [4.5, 4.0], \"yaxis\": \"y\"}, {\"hovertemplate\": \"<b>%{hovertext}</b><br><br>Brand=Amianda<br>Country=%{x}<br>Stars=%{y}<extra></extra>\", \"hovertext\": [\"Homely Dried Noodles - Sesame Pate\", \"Tachia Noodles - Hot & Spicy Sauce\", \"Tachia Dried Noodles - Fried Shallot\", \"Thin Noodles - Sesame Oil\", \"Hakka Flat Noodles - Satay Sauce\", \"Tachia Dried Noodles - Rou Zhou Meat Sauce\", \"Homely Dried Noodles - Original Flavor \", \"Dried Noodles - Spicy Sauerkraut\", \"Hakka Flat Noodles - Fried Bean Sauce\", \"Tachia Dried Noodles - Peppery\"], \"legendgroup\": \"Amianda\", \"line\": {\"color\": \"#636efa\"}, \"mode\": \"lines\", \"name\": \"Amianda\", \"orientation\": \"v\", \"showlegend\": true, \"stackgroup\": \"1\", \"type\": \"scatter\", \"x\": [\"Taiwan\", \"Taiwan\", \"Taiwan\", \"Taiwan\", \"Taiwan\", \"Taiwan\", \"Taiwan\", \"Taiwan\", \"Taiwan\", \"Taiwan\"], \"xaxis\": \"x\", \"y\": [3.75, 3.5, 3.25, 4.25, 4.5, 5.0, 4.0, 3.25, 4.25, 3.75], \"yaxis\": \"y\"}, {\"hovertemplate\": \"<b>%{hovertext}</b><br><br>Brand=Tasty Bite<br>Country=%{x}<br>Stars=%{y}<extra></extra>\", \"hovertext\": [\"1 Step-1 Minute Asian Noodles Pad Thai\", \"1 Step-1 Minute Asian Noodles Kung Pao\", \"1 Step-1 Minute Asian Noodles Mushroom Lo Mein\", \"1 Step-1 Minute Asian Noodles Thai Basil\", \"1 Step-1 Minute Asian Noodles Lemongrass Ginger\", \"1 Step-1 Minute Asian Noodles Toasted Sesame\"], \"legendgroup\": \"Tasty Bite\", \"line\": {\"color\": \"#EF553B\"}, \"mode\": \"lines\", \"name\": \"Tasty Bite\", \"orientation\": \"v\", \"showlegend\": true, \"stackgroup\": \"1\", \"type\": \"scatter\", \"x\": [\"USA\", \"USA\", \"USA\", \"USA\", \"USA\", \"USA\"], \"xaxis\": \"x\", \"y\": [3.5, 4.25, 4.0, 3.75, 3.75, 4.0], \"yaxis\": \"y\"}, {\"hovertemplate\": \"<b>%{hovertext}</b><br><br>Brand=Star Anise Foods<br>Country=%{x}<br>Stars=%{y}<extra></extra>\", \"hovertext\": [\"Happy Pho Vietnamese Brown Rice Noodle Soup Garlic Goodness\"], \"legendgroup\": \"Star Anise Foods\", \"line\": {\"color\": \"#00cc96\"}, \"mode\": \"lines\", \"name\": \"Star Anise Foods\", \"orientation\": \"v\", \"showlegend\": true, \"stackgroup\": \"1\", \"type\": \"scatter\", \"x\": [\"USA\"], \"xaxis\": \"x\", \"y\": [3.75], \"yaxis\": \"y\"}, {\"hovertemplate\": \"<b>%{hovertext}</b><br><br>Brand=Tradition<br>Country=%{x}<br>Stars=%{y}<extra></extra>\", \"hovertext\": [\"Oriental Style Ramen Noodle Soup\", \"Vegetable Instant Noodle soup\", \"Imitation Chicken Vegetarian\", \"Imitation Beef\", \"Imitation Chicken Vegetarian\"], \"legendgroup\": \"Tradition\", \"line\": {\"color\": \"#ab63fa\"}, \"mode\": \"lines\", \"name\": \"Tradition\", \"orientation\": \"v\", \"showlegend\": true, \"stackgroup\": \"1\", \"type\": \"scatter\", \"x\": [\"USA\", \"USA\", \"USA\", \"USA\", \"USA\"], \"xaxis\": \"x\", \"y\": [2.75, 3.25, 3.75, 2.5, 3.75], \"yaxis\": \"y\"}, {\"hovertemplate\": \"<b>%{hovertext}</b><br><br>Brand=Sun Noodle<br>Country=%{x}<br>Stars=%{y}<extra></extra>\", \"hovertext\": [\"Ramen Shoyu Flavor\", \"Tantanmen Spicy Sesame (Mild)\", \"Ramen Miso Flavor\", \"Cold Ramen Soy Sauce Vinaigrette\", \"Nama Soba Buckwheat Noodle\", \"Ramen Pork Flavor\", \"Yakisoba\"], \"legendgroup\": \"Sun Noodle\", \"line\": {\"color\": \"#FFA15A\"}, \"mode\": \"lines\", \"name\": \"Sun Noodle\", \"orientation\": \"v\", \"showlegend\": true, \"stackgroup\": \"1\", \"type\": \"scatter\", \"x\": [\"USA\", \"USA\", \"USA\", \"USA\", \"USA\", \"USA\", \"USA\"], \"xaxis\": \"x\", \"y\": [5.0, 3.75, 5.0, 4.0, 4.0, 5.0, 4.5], \"yaxis\": \"y\"}, {\"hovertemplate\": \"<b>%{hovertext}</b><br><br>Brand=S&S<br>Country=%{x}<br>Stars=%{y}<extra></extra>\", \"hovertext\": [\"Saimin\"], \"legendgroup\": \"S&S\", \"line\": {\"color\": \"#19d3f3\"}, \"mode\": \"lines\", \"name\": \"S&S\", \"orientation\": \"v\", \"showlegend\": true, \"stackgroup\": \"1\", \"type\": \"scatter\", \"x\": [\"USA\"], \"xaxis\": \"x\", \"y\": [4.0], \"yaxis\": \"y\"}, {\"hovertemplate\": \"<b>%{hovertext}</b><br><br>Brand=Springlife<br>Country=%{x}<br>Stars=%{y}<extra></extra>\", \"hovertext\": [\"Spinach With Organic Noodles\"], \"legendgroup\": \"Springlife\", \"line\": {\"color\": \"#FF6692\"}, \"mode\": \"lines\", \"name\": \"Springlife\", \"orientation\": \"v\", \"showlegend\": true, \"stackgroup\": \"1\", \"type\": \"scatter\", \"x\": [\"China\"], \"xaxis\": \"x\", \"y\": [3.0], \"yaxis\": \"y\"}, {\"hovertemplate\": \"<b>%{hovertext}</b><br><br>Brand=Right Foods<br>Country=%{x}<br>Stars=%{y}<extra></extra>\", \"hovertext\": [\"Dr. McDougall's Vegan Chicken Ramen\"], \"legendgroup\": \"Right Foods\", \"line\": {\"color\": \"#B6E880\"}, \"mode\": \"lines\", \"name\": \"Right Foods\", \"orientation\": \"v\", \"showlegend\": true, \"stackgroup\": \"1\", \"type\": \"scatter\", \"x\": [\"USA\"], \"xaxis\": \"x\", \"y\": [1.75], \"yaxis\": \"y\"}, {\"hovertemplate\": \"<b>%{hovertext}</b><br><br>Brand=Sunlee<br>Country=%{x}<br>Stars=%{y}<extra></extra>\", \"hovertext\": [\"Shitake Mushroom Vernicalli\", \"Pho Bo Beef Flavour Rice Stick\", \"Artificial Chicken Rice Vermicelli\", \"Tom Yum Shrimp Rice Stick\", \"Tom Yum Shrimp Noodle\", \"Beef Rice Stick\", \"Crab Vermicelli\", \"Crab Noodle\"], \"legendgroup\": \"Sunlee\", \"line\": {\"color\": \"#FF97FF\"}, \"mode\": \"lines\", \"name\": \"Sunlee\", \"orientation\": \"v\", \"showlegend\": true, \"stackgroup\": \"1\", \"type\": \"scatter\", \"x\": [\"Thailand\", \"Thailand\", \"Thailand\", \"Thailand\", \"Thailand\", \"Thailand\", \"Thailand\", \"Thailand\"], \"xaxis\": \"x\", \"y\": [1.25, 3.25, 2.5, 3.75, 3.5, 2.0, 3.25, 4.5], \"yaxis\": \"y\"}, {\"hovertemplate\": \"<b>%{hovertext}</b><br><br>Brand=Goku Uma<br>Country=%{x}<br>Stars=%{y}<extra></extra>\", \"hovertext\": [\"Seafood Flavor Japanese Noodles\", \"Soy Sauce\", \"Hot & Spicy Beef\"], \"legendgroup\": \"Goku Uma\", \"line\": {\"color\": \"#FECB52\"}, \"mode\": \"lines\", \"name\": \"Goku Uma\", \"orientation\": \"v\", \"showlegend\": true, \"stackgroup\": \"1\", \"type\": \"scatter\", \"x\": [\"Japan\", \"Japan\", \"Japan\"], \"xaxis\": \"x\", \"y\": [4.25, 3.5, 3.5], \"yaxis\": \"y\"}, {\"hovertemplate\": \"<b>%{hovertext}</b><br><br>Brand=Daddy<br>Country=%{x}<br>Stars=%{y}<extra></extra>\", \"hovertext\": [\"Kari 365 Curry Flavour\"], \"legendgroup\": \"Daddy\", \"line\": {\"color\": \"#636efa\"}, \"mode\": \"lines\", \"name\": \"Daddy\", \"orientation\": \"v\", \"showlegend\": true, \"stackgroup\": \"1\", \"type\": \"scatter\", \"x\": [\"Malaysia\"], \"xaxis\": \"x\", \"y\": [5.0], \"yaxis\": \"y\"}, {\"hovertemplate\": \"<b>%{hovertext}</b><br><br>Brand=Han's South Korea<br>Country=%{x}<br>Stars=%{y}<extra></extra>\", \"hovertext\": [\"Rice Noodle With Seafood Flavored Soup\", \"Rice Noodle With Kimchi Flavored Soup\", \"Rice Noodle With Hot & Spicy\"], \"legendgroup\": \"Han's South Korea\", \"line\": {\"color\": \"#EF553B\"}, \"mode\": \"lines\", \"name\": \"Han's South Korea\", \"orientation\": \"v\", \"showlegend\": true, \"stackgroup\": \"1\", \"type\": \"scatter\", \"x\": [\"South Korea\", \"South Korea\", \"South Korea\"], \"xaxis\": \"x\", \"y\": [3.5, 3.0, 3.25], \"yaxis\": \"y\"}, {\"hovertemplate\": \"<b>%{hovertext}</b><br><br>Brand=Sarimi<br>Country=%{x}<br>Stars=%{y}<extra></extra>\", \"hovertext\": [\"Rasa Ayam Bawang\", \"Soto Koya Pedasss\", \"Soto Koya Gurih\", \"Isi 2 Mi Goreng Rasa Ayam Kecap\", \"Soto Koya Jeruk Nipis\", \"Isi 2 Rasa Soto\", \"Isi 2 Rasa Kari spesial\"], \"legendgroup\": \"Sarimi\", \"line\": {\"color\": \"#00cc96\"}, \"mode\": \"lines\", \"name\": \"Sarimi\", \"orientation\": \"v\", \"showlegend\": true, \"stackgroup\": \"1\", \"type\": \"scatter\", \"x\": [\"Indonesia\", \"Indonesia\", \"Indonesia\", \"Indonesia\", \"Indonesia\", \"Indonesia\", \"Indonesia\"], \"xaxis\": \"x\", \"y\": [3.5, 3.25, 4.0, 4.5, 4.75, 3.5, 3.75], \"yaxis\": \"y\"}, {\"hovertemplate\": \"<b>%{hovertext}</b><br><br>Brand=Long Kow<br>Country=%{x}<br>Stars=%{y}<extra></extra>\", \"hovertext\": [\"Crystal Noodles Savory Shoyu\", \"Crystal Noodles Hot & Sour\", \"Kimchi Pickle Bean Vermicelli\", \"Crystal Noodles Vegetables\", \"Crystal Noodle Six Kinds Of Mushrooms\"], \"legendgroup\": \"Long Kow\", \"line\": {\"color\": \"#ab63fa\"}, \"mode\": \"lines\", \"name\": \"Long Kow\", \"orientation\": \"v\", \"showlegend\": true, \"stackgroup\": \"1\", \"type\": \"scatter\", \"x\": [\"China\", \"China\", \"Taiwan\", \"China\", \"China\"], \"xaxis\": \"x\", \"y\": [1.5, 3.5, 1.5, 1.5, 2.3], \"yaxis\": \"y\"}, {\"hovertemplate\": \"<b>%{hovertext}</b><br><br>Brand=Song Hak<br>Country=%{x}<br>Stars=%{y}<extra></extra>\", \"hovertext\": [\"Rice Topokki\"], \"legendgroup\": \"Song Hak\", \"line\": {\"color\": \"#FFA15A\"}, \"mode\": \"lines\", \"name\": \"Song Hak\", \"orientation\": \"v\", \"showlegend\": true, \"stackgroup\": \"1\", \"type\": \"scatter\", \"x\": [\"South Korea\"], \"xaxis\": \"x\", \"y\": [5.0], \"yaxis\": \"y\"}, {\"hovertemplate\": \"<b>%{hovertext}</b><br><br>Brand=Fuji Mengyo<br>Country=%{x}<br>Stars=%{y}<extra></extra>\", \"hovertext\": [\"Nabeyaki Udon\"], \"legendgroup\": \"Fuji Mengyo\", \"line\": {\"color\": \"#19d3f3\"}, \"mode\": \"lines\", \"name\": \"Fuji Mengyo\", \"orientation\": \"v\", \"showlegend\": true, \"stackgroup\": \"1\", \"type\": \"scatter\", \"x\": [\"Japan\"], \"xaxis\": \"x\", \"y\": [3.5], \"yaxis\": \"y\"}, {\"hovertemplate\": \"<b>%{hovertext}</b><br><br>Brand=Dragonfly<br>Country=%{x}<br>Stars=%{y}<extra></extra>\", \"hovertext\": [\"Artificial Hot & Sour Shrimp\", \"Artificial Pork Ribs\", \"Mee Goreng Dry Ramen Noodles\", \"Artificial Seafood\", \"Onion\", \"Artificial Pork Ribs\", \"Artificial Chicken\", \"Artificial Hot & Sour Shrimp\", \"Artificial Chicken\", \"Artificial Onion\", \"Artificial Seafood\", \"Artificial Beef\", \"Guilin Style Rice Vermicelli\"], \"legendgroup\": \"Dragonfly\", \"line\": {\"color\": \"#FF6692\"}, \"mode\": \"lines\", \"name\": \"Dragonfly\", \"orientation\": \"v\", \"showlegend\": true, \"stackgroup\": \"1\", \"type\": \"scatter\", \"x\": [\"China\", \"China\", \"China\", \"China\", \"China\", \"China\", \"China\", \"China\", \"China\", \"China\", \"China\", \"China\", \"China\"], \"xaxis\": \"x\", \"y\": [4.0, 3.5, 3.75, 3.75, 3.75, 4.0, 4.0, 4.5, 4.5, 4.0, 3.75, 4.75, 4.5], \"yaxis\": \"y\"}, {\"hovertemplate\": \"<b>%{hovertext}</b><br><br>Brand=CJ CheilJedang<br>Country=%{x}<br>Stars=%{y}<extra></extra>\", \"hovertext\": [\"Katsuobushi Udon\", \"Mild Bean Curd Stew\"], \"legendgroup\": \"CJ CheilJedang\", \"line\": {\"color\": \"#B6E880\"}, \"mode\": \"lines\", \"name\": \"CJ CheilJedang\", \"orientation\": \"v\", \"showlegend\": true, \"stackgroup\": \"1\", \"type\": \"scatter\", \"x\": [\"South Korea\", \"South Korea\"], \"xaxis\": \"x\", \"y\": [3.75, 2.0], \"yaxis\": \"y\"}, {\"hovertemplate\": \"<b>%{hovertext}</b><br><br>Brand=Unif / Tung-I<br>Country=%{x}<br>Stars=%{y}<extra></extra>\", \"hovertext\": [\"Chinese Spices Tong Tsai Bean Vermicelli\", \"Chinese Onion Rice Noodle\", \"Instant Bean Vermicelli Shrimp\", \"Artificial Beef Flavor\", \"Fresh Shrimp\", \"Artificial Chinese Beef\", \"Chah Chiang\", \"Onion Flavor\", \"Artificial Spicy Beef\", \"Artificial Chicken\"], \"legendgroup\": \"Unif / Tung-I\", \"line\": {\"color\": \"#FF97FF\"}, \"mode\": \"lines\", \"name\": \"Unif / Tung-I\", \"orientation\": \"v\", \"showlegend\": true, \"stackgroup\": \"1\", \"type\": \"scatter\", \"x\": [\"Taiwan\", \"Taiwan\", \"Taiwan\", \"Taiwan\", \"Taiwan\", \"Taiwan\", \"Taiwan\", \"Taiwan\", \"Taiwan\", \"Taiwan\"], \"xaxis\": \"x\", \"y\": [3.5, 2.75, 1.5, 3.75, 3.25, 2.85, 2.5, 3.65, 3.5, 3.5], \"yaxis\": \"y\"}, {\"hovertemplate\": \"<b>%{hovertext}</b><br><br>Brand=Dongwon<br>Country=%{x}<br>Stars=%{y}<extra></extra>\", \"hovertext\": [\"RaUdong Unfried Noodle With Kimchi\"], \"legendgroup\": \"Dongwon\", \"line\": {\"color\": \"#FECB52\"}, \"mode\": \"lines\", \"name\": \"Dongwon\", \"orientation\": \"v\", \"showlegend\": true, \"stackgroup\": \"1\", \"type\": \"scatter\", \"x\": [\"South Korea\"], \"xaxis\": \"x\", \"y\": [4.5], \"yaxis\": \"y\"}, {\"hovertemplate\": \"<b>%{hovertext}</b><br><br>Brand=Seven-Eleven<br>Country=%{x}<br>Stars=%{y}<extra></extra>\", \"hovertext\": [\"Seven & I Shoyu\"], \"legendgroup\": \"Seven-Eleven\", \"line\": {\"color\": \"#636efa\"}, \"mode\": \"lines\", \"name\": \"Seven-Eleven\", \"orientation\": \"v\", \"showlegend\": true, \"stackgroup\": \"1\", \"type\": \"scatter\", \"x\": [\"Japan\"], \"xaxis\": \"x\", \"y\": [4.5], \"yaxis\": \"y\"}, {\"hovertemplate\": \"<b>%{hovertext}</b><br><br>Brand=Souper<br>Country=%{x}<br>Stars=%{y}<extra></extra>\", \"hovertext\": [\"Bowl Ramen Shrimp\", \"Alimentary Paste Chow Mein\"], \"legendgroup\": \"Souper\", \"line\": {\"color\": \"#EF553B\"}, \"mode\": \"lines\", \"name\": \"Souper\", \"orientation\": \"v\", \"showlegend\": true, \"stackgroup\": \"1\", \"type\": \"scatter\", \"x\": [\"Taiwan\", \"Taiwan\"], \"xaxis\": \"x\", \"y\": [3.75, 4.25], \"yaxis\": \"y\"}, {\"hovertemplate\": \"<b>%{hovertext}</b><br><br>Brand=Kim's Bowl<br>Country=%{x}<br>Stars=%{y}<extra></extra>\", \"hovertext\": [\"Vegetarian Tom Yum\"], \"legendgroup\": \"Kim's Bowl\", \"line\": {\"color\": \"#00cc96\"}, \"mode\": \"lines\", \"name\": \"Kim's Bowl\", \"orientation\": \"v\", \"showlegend\": true, \"stackgroup\": \"1\", \"type\": \"scatter\", \"x\": [\"Thailand\"], \"xaxis\": \"x\", \"y\": [3.5], \"yaxis\": \"y\"}, {\"hovertemplate\": \"<b>%{hovertext}</b><br><br>Brand=Ohsung<br>Country=%{x}<br>Stars=%{y}<extra></extra>\", \"hovertext\": [\"Hot Spicy Bowl With Soy Peptide\", \"Hong Ramyun Soy Peptide Hot Spicy\", \"Hong Ramyun Soup Soy Peptide Mild\"], \"legendgroup\": \"Ohsung\", \"line\": {\"color\": \"#ab63fa\"}, \"mode\": \"lines\", \"name\": \"Ohsung\", \"orientation\": \"v\", \"showlegend\": true, \"stackgroup\": \"1\", \"type\": \"scatter\", \"x\": [\"South Korea\", \"South Korea\", \"South Korea\"], \"xaxis\": \"x\", \"y\": [3.5, 3.75, 3.25], \"yaxis\": \"y\"}, {\"hovertemplate\": \"<b>%{hovertext}</b><br><br>Brand=GreeNoodle<br>Country=%{x}<br>Stars=%{y}<extra></extra>\", \"hovertext\": [\"Shiitake & Soy Sauce\", \"Yakisoba\", \"Miso\", \"Tom Yum\"], \"legendgroup\": \"GreeNoodle\", \"line\": {\"color\": \"#FFA15A\"}, \"mode\": \"lines\", \"name\": \"GreeNoodle\", \"orientation\": \"v\", \"showlegend\": true, \"stackgroup\": \"1\", \"type\": \"scatter\", \"x\": [\"Thailand\", \"Thailand\", \"Thailand\", \"Thailand\"], \"xaxis\": \"x\", \"y\": [1.5, 3.0, 1.0, 0.5], \"yaxis\": \"y\"}, {\"hovertemplate\": \"<b>%{hovertext}</b><br><br>Brand=Kailo<br>Country=%{x}<br>Stars=%{y}<extra></extra>\", \"hovertext\": [\"Chicken\", \"Big Bowl Crab \", \"Big Bowl Artificial Chicken\"], \"legendgroup\": \"Kailo\", \"line\": {\"color\": \"#19d3f3\"}, \"mode\": \"lines\", \"name\": \"Kailo\", \"orientation\": \"v\", \"showlegend\": true, \"stackgroup\": \"1\", \"type\": \"scatter\", \"x\": [\"Hong Kong\", \"Hong Kong\", \"Hong Kong\"], \"xaxis\": \"x\", \"y\": [3.5, 3.5, 2.75], \"yaxis\": \"y\"}, {\"hovertemplate\": \"<b>%{hovertext}</b><br><br>Brand=Fashion Foods<br>Country=%{x}<br>Stars=%{y}<extra></extra>\", \"hovertext\": [\"Oriental\", \"Mushroom Vegetarian\", \"Beef Pho\", \"XO Sauce\", \"Tom Klong\"], \"legendgroup\": \"Fashion Foods\", \"line\": {\"color\": \"#FF6692\"}, \"mode\": \"lines\", \"name\": \"Fashion Foods\", \"orientation\": \"v\", \"showlegend\": true, \"stackgroup\": \"1\", \"type\": \"scatter\", \"x\": [\"Thailand\", \"Thailand\", \"Thailand\", \"Thailand\", \"Thailand\"], \"xaxis\": \"x\", \"y\": [0.25, 1.75, 3.75, 1.25, 2.0], \"yaxis\": \"y\"}, {\"hovertemplate\": \"<b>%{hovertext}</b><br><br>Brand=Hosoonyi<br>Country=%{x}<br>Stars=%{y}<extra></extra>\", \"hovertext\": [\"Naengmyeon Combo\"], \"legendgroup\": \"Hosoonyi\", \"line\": {\"color\": \"#B6E880\"}, \"mode\": \"lines\", \"name\": \"Hosoonyi\", \"orientation\": \"v\", \"showlegend\": true, \"stackgroup\": \"1\", \"type\": \"scatter\", \"x\": [\"USA\"], \"xaxis\": \"x\", \"y\": [3.75], \"yaxis\": \"y\"}, {\"hovertemplate\": \"<b>%{hovertext}</b><br><br>Brand=Yamamoto<br>Country=%{x}<br>Stars=%{y}<extra></extra>\", \"hovertext\": [\"Seafood Ramen\", \"Ponpoko Tempura Soba\", \"Shoyu\", \"Ponpoko Tempura Udon\"], \"legendgroup\": \"Yamamoto\", \"line\": {\"color\": \"#FF97FF\"}, \"mode\": \"lines\", \"name\": \"Yamamoto\", \"orientation\": \"v\", \"showlegend\": true, \"stackgroup\": \"1\", \"type\": \"scatter\", \"x\": [\"Japan\", \"Japan\", \"Japan\", \"Japan\"], \"xaxis\": \"x\", \"y\": [3.5, 4.25, 4.25, 4.75], \"yaxis\": \"y\"}, {\"hovertemplate\": \"<b>%{hovertext}</b><br><br>Brand=Wu Mu<br>Country=%{x}<br>Stars=%{y}<extra></extra>\", \"hovertext\": [\"Pork Flavor Ramen\", \"Beef Flavor Ramen\", \"Steam Spinach Ramen With Onion\", \"Dried Noodle With BBQ Pork\", \"Steamed Noodle Sesame Oil\", \"Steamed Noodle Chinese Herbs\", \"Steamed Noodle Garlic & Sesame Oil\"], \"legendgroup\": \"Wu Mu\", \"line\": {\"color\": \"#FECB52\"}, \"mode\": \"lines\", \"name\": \"Wu Mu\", \"orientation\": \"v\", \"showlegend\": true, \"stackgroup\": \"1\", \"type\": \"scatter\", \"x\": [\"Taiwan\", \"Taiwan\", \"Taiwan\", \"Taiwan\", \"Taiwan\", \"Taiwan\", \"Taiwan\"], \"xaxis\": \"x\", \"y\": [2.75, 4.25, 5.0, 2.0, 3.75, 3.25, 4.5], \"yaxis\": \"y\"}, {\"hovertemplate\": \"<b>%{hovertext}</b><br><br>Brand=Mee Jang<br>Country=%{x}<br>Stars=%{y}<extra></extra>\", \"hovertext\": [\"Noodle Soup Spicy Beef Garlic Onion\", \"Noodle Soup Sour Spicy Shrimp Tom Yum\", \"Sour Spicy Chicken Tom Yum\", \"Artificial Shrimp Tom yum\", \"Artificial Beef Flavor\", \"Artificial Pork\", \"Tom Yum Shrimp\"], \"legendgroup\": \"Mee Jang\", \"line\": {\"color\": \"#636efa\"}, \"mode\": \"lines\", \"name\": \"Mee Jang\", \"orientation\": \"v\", \"showlegend\": true, \"stackgroup\": \"1\", \"type\": \"scatter\", \"x\": [\"Thailand\", \"Thailand\", \"Thailand\", \"Thailand\", \"Thailand\", \"Thailand\", \"Thailand\"], \"xaxis\": \"x\", \"y\": [3.25, 2.5, 3.25, 3.5, 3.5, 3.5, 3.5], \"yaxis\": \"y\"}, {\"hovertemplate\": \"<b>%{hovertext}</b><br><br>Brand=JFC<br>Country=%{x}<br>Stars=%{y}<extra></extra>\", \"hovertext\": [\"Japanese Style Noodle Curry\", \"Japanese Style Noodle Fresh Udon\"], \"legendgroup\": \"JFC\", \"line\": {\"color\": \"#EF553B\"}, \"mode\": \"lines\", \"name\": \"JFC\", \"orientation\": \"v\", \"showlegend\": true, \"stackgroup\": \"1\", \"type\": \"scatter\", \"x\": [\"Japan\", \"Japan\"], \"xaxis\": \"x\", \"y\": [4.5, 3.75], \"yaxis\": \"y\"}, {\"hovertemplate\": \"<b>%{hovertext}</b><br><br>Brand=Samyang<br>Country=%{x}<br>Stars=%{y}<extra></extra>\", \"hovertext\": [\"Assorted Vegetable Ramen\", \"Nagasaki Jjampong\", \"60 Ingredients\", \"Hot Beef\", \"Beef\", \"Sutah Hot Spicy Beef\", \"Beef\", \"Bowl Noodle Picante Beef\", \"Bowl Noodle Kimchi\", \"Chinese Soybean Paste\", \"Cold Ramen With Ponytail Radish\", \"Japanese Seafood Flavor Udon\", \"Seafood Party\", \"Beef\", \"Kimchi\", \"Kalgug-Su Assorted Clam\", \"Kalgug-Su (Spicy)\", \"Pojangmacha U-dong\", \"Hot\"], \"legendgroup\": \"Samyang\", \"line\": {\"color\": \"#00cc96\"}, \"mode\": \"lines\", \"name\": \"Samyang\", \"orientation\": \"v\", \"showlegend\": true, \"stackgroup\": \"1\", \"type\": \"scatter\", \"x\": [\"South Korea\", \"South Korea\", \"South Korea\", \"South Korea\", \"South Korea\", \"South Korea\", \"South Korea\", \"South Korea\", \"South Korea\", \"South Korea\", \"South Korea\", \"South Korea\", \"South Korea\", \"South Korea\", \"South Korea\", \"South Korea\", \"South Korea\", \"South Korea\", \"South Korea\"], \"xaxis\": \"x\", \"y\": [3.75, 4.75, 2.75, 4.25, 3.75, 3.5, 3.75, 3.75, 4.0, 2.0, 3.0, 3.75, 2.25, 4.0, 2.9, 1.8, 3.5, 2.5, 3.5], \"yaxis\": \"y\"}, {\"hovertemplate\": \"<b>%{hovertext}</b><br><br>Brand=Lishan<br>Country=%{x}<br>Stars=%{y}<extra></extra>\", \"hovertext\": [\"Black Rooster Chicken\"], \"legendgroup\": \"Lishan\", \"line\": {\"color\": \"#ab63fa\"}, \"mode\": \"lines\", \"name\": \"Lishan\", \"orientation\": \"v\", \"showlegend\": true, \"stackgroup\": \"1\", \"type\": \"scatter\", \"x\": [\"Taiwan\"], \"xaxis\": \"x\", \"y\": [1.5], \"yaxis\": \"y\"}, {\"hovertemplate\": \"<b>%{hovertext}</b><br><br>Brand=Cap Atoom Bulan<br>Country=%{x}<br>Stars=%{y}<extra></extra>\", \"hovertext\": [\"Mie Telor Asli\"], \"legendgroup\": \"Cap Atoom Bulan\", \"line\": {\"color\": \"#FFA15A\"}, \"mode\": \"lines\", \"name\": \"Cap Atoom Bulan\", \"orientation\": \"v\", \"showlegend\": true, \"stackgroup\": \"1\", \"type\": \"scatter\", \"x\": [\"Indonesia\"], \"xaxis\": \"x\", \"y\": [3.0], \"yaxis\": \"y\"}, {\"hovertemplate\": \"<b>%{hovertext}</b><br><br>Brand=Sura<br>Country=%{x}<br>Stars=%{y}<extra></extra>\", \"hovertext\": [\"Knife Cut Rice Noodle\"], \"legendgroup\": \"Sura\", \"line\": {\"color\": \"#19d3f3\"}, \"mode\": \"lines\", \"name\": \"Sura\", \"orientation\": \"v\", \"showlegend\": true, \"stackgroup\": \"1\", \"type\": \"scatter\", \"x\": [\"South Korea\"], \"xaxis\": \"x\", \"y\": [3.75], \"yaxis\": \"y\"}, {\"hovertemplate\": \"<b>%{hovertext}</b><br><br>Brand=Wei Chuan<br>Country=%{x}<br>Stars=%{y}<extra></extra>\", \"hovertext\": [\"Miso Vegetables\", \"Tomato Vegetables\"], \"legendgroup\": \"Wei Chuan\", \"line\": {\"color\": \"#FF6692\"}, \"mode\": \"lines\", \"name\": \"Wei Chuan\", \"orientation\": \"v\", \"showlegend\": true, \"stackgroup\": \"1\", \"type\": \"scatter\", \"x\": [\"Taiwan\", \"Taiwan\"], \"xaxis\": \"x\", \"y\": [3.25, 4.0], \"yaxis\": \"y\"}, {\"hovertemplate\": \"<b>%{hovertext}</b><br><br>Brand=Yamamori<br>Country=%{x}<br>Stars=%{y}<extra></extra>\", \"hovertext\": [\"Tom Yam Ramen Pork\", \"Tom Yam Prawn\"], \"legendgroup\": \"Yamamori\", \"line\": {\"color\": \"#B6E880\"}, \"mode\": \"lines\", \"name\": \"Yamamori\", \"orientation\": \"v\", \"showlegend\": true, \"stackgroup\": \"1\", \"type\": \"scatter\", \"x\": [\"Japan\", \"Japan\"], \"xaxis\": \"x\", \"y\": [4.75, 4.5], \"yaxis\": \"y\"}, {\"hovertemplate\": \"<b>%{hovertext}</b><br><br>Brand=Mr. Udon<br>Country=%{x}<br>Stars=%{y}<extra></extra>\", \"hovertext\": [\"Seafood Selection\", \"Japanese Miso\", \"Malaysian Beef Udon\", \"Chicken\"], \"legendgroup\": \"Mr. Udon\", \"line\": {\"color\": \"#FF97FF\"}, \"mode\": \"lines\", \"name\": \"Mr. Udon\", \"orientation\": \"v\", \"showlegend\": true, \"stackgroup\": \"1\", \"type\": \"scatter\", \"x\": [\"South Korea\", \"South Korea\", \"South Korea\", \"South Korea\"], \"xaxis\": \"x\", \"y\": [3.5, 2.75, 3.0, 3.25], \"yaxis\": \"y\"}, {\"hovertemplate\": \"<b>%{hovertext}</b><br><br>Brand=Wei Wei<br>Country=%{x}<br>Stars=%{y}<extra></extra>\", \"hovertext\": [\"\\\"A\\\" Series Vegetarian\", \"\\\"A\\\" Series Artificial Chicken\", \"\\\"A\\\" Series Artificial Hot Beef\"], \"legendgroup\": \"Wei Wei\", \"line\": {\"color\": \"#FECB52\"}, \"mode\": \"lines\", \"name\": \"Wei Wei\", \"orientation\": \"v\", \"showlegend\": true, \"stackgroup\": \"1\", \"type\": \"scatter\", \"x\": [\"Taiwan\", \"Taiwan\", \"Taiwan\"], \"xaxis\": \"x\", \"y\": [3.25, 3.25, 3.75], \"yaxis\": \"y\"}, {\"hovertemplate\": \"<b>%{hovertext}</b><br><br>Brand=Six Fortune<br>Country=%{x}<br>Stars=%{y}<extra></extra>\", \"hovertext\": [\"U-Dong\", \"Instant Noodles With Soup\", \"Broad Noodles\", \"Tom Yam Instant soup Noodle\", \"Seafood Flavor\", \"Chicken Flavor Instant Soup Noodle\"], \"legendgroup\": \"Six Fortune\", \"line\": {\"color\": \"#636efa\"}, \"mode\": \"lines\", \"name\": \"Six Fortune\", \"orientation\": \"v\", \"showlegend\": true, \"stackgroup\": \"1\", \"type\": \"scatter\", \"x\": [\"South Korea\", \"South Korea\", \"South Korea\", \"South Korea\", \"South Korea\", \"South Korea\"], \"xaxis\": \"x\", \"y\": [4.0, 3.5, 3.75, 2.75, 2.5, 2.0], \"yaxis\": \"y\"}, {\"hovertemplate\": \"<b>%{hovertext}</b><br><br>Brand=Haioreum<br>Country=%{x}<br>Stars=%{y}<extra></extra>\", \"hovertext\": [\"Asian Style Noodles Seafood\"], \"legendgroup\": \"Haioreum\", \"line\": {\"color\": \"#EF553B\"}, \"mode\": \"lines\", \"name\": \"Haioreum\", \"orientation\": \"v\", \"showlegend\": true, \"stackgroup\": \"1\", \"type\": \"scatter\", \"x\": [\"South Korea\"], \"xaxis\": \"x\", \"y\": [3.5], \"yaxis\": \"y\"}, {\"hovertemplate\": \"<b>%{hovertext}</b><br><br>Brand=Sunlight<br>Country=%{x}<br>Stars=%{y}<extra></extra>\", \"hovertext\": [\"Steam Vermicelli\"], \"legendgroup\": \"Sunlight\", \"line\": {\"color\": \"#00cc96\"}, \"mode\": \"lines\", \"name\": \"Sunlight\", \"orientation\": \"v\", \"showlegend\": true, \"stackgroup\": \"1\", \"type\": \"scatter\", \"x\": [\"Taiwan\"], \"xaxis\": \"x\", \"y\": [2.1], \"yaxis\": \"y\"}, {\"hovertemplate\": \"<b>%{hovertext}</b><br><br>Brand=O Sung<br>Country=%{x}<br>Stars=%{y}<extra></extra>\", \"hovertext\": [\"Keopnurungji Rice Snack\"], \"legendgroup\": \"O Sung\", \"line\": {\"color\": \"#ab63fa\"}, \"mode\": \"lines\", \"name\": \"O Sung\", \"orientation\": \"v\", \"showlegend\": true, \"stackgroup\": \"1\", \"type\": \"scatter\", \"x\": [\"South Korea\"], \"xaxis\": \"x\", \"y\": [2.5], \"yaxis\": \"y\"}, {\"hovertemplate\": \"<b>%{hovertext}</b><br><br>Brand=Foodmon<br>Country=%{x}<br>Stars=%{y}<extra></extra>\", \"hovertext\": [\"DJ DOC Jjolmyeon\", \"DJ DOC Instant rice Ramen Topokki\"], \"legendgroup\": \"Foodmon\", \"line\": {\"color\": \"#FFA15A\"}, \"mode\": \"lines\", \"name\": \"Foodmon\", \"orientation\": \"v\", \"showlegend\": true, \"stackgroup\": \"1\", \"type\": \"scatter\", \"x\": [\"South Korea\", \"South Korea\"], \"xaxis\": \"x\", \"y\": [5.0, 5.0], \"yaxis\": \"y\"}, {\"hovertemplate\": \"<b>%{hovertext}</b><br><br>Brand=Sahmyook<br>Country=%{x}<br>Stars=%{y}<extra></extra>\", \"hovertext\": [\"Vegetable\"], \"legendgroup\": \"Sahmyook\", \"line\": {\"color\": \"#19d3f3\"}, \"mode\": \"lines\", \"name\": \"Sahmyook\", \"orientation\": \"v\", \"showlegend\": true, \"stackgroup\": \"1\", \"type\": \"scatter\", \"x\": [\"South Korea\"], \"xaxis\": \"x\", \"y\": [3.25], \"yaxis\": \"y\"}, {\"hovertemplate\": \"<b>%{hovertext}</b><br><br>Brand=Nan Hsing<br>Country=%{x}<br>Stars=%{y}<extra></extra>\", \"hovertext\": [\"Vegetarian Rice Noodles\"], \"legendgroup\": \"Nan Hsing\", \"line\": {\"color\": \"#FF6692\"}, \"mode\": \"lines\", \"name\": \"Nan Hsing\", \"orientation\": \"v\", \"showlegend\": true, \"stackgroup\": \"1\", \"type\": \"scatter\", \"x\": [\"Taiwan\"], \"xaxis\": \"x\", \"y\": [0.25], \"yaxis\": \"y\"}, {\"hovertemplate\": \"<b>%{hovertext}</b><br><br>Brand=Mexi-Ramen<br>Country=%{x}<br>Stars=%{y}<extra></extra>\", \"hovertext\": [\"Soupless Ramen Shallot Teriyaki\"], \"legendgroup\": \"Mexi-Ramen\", \"line\": {\"color\": \"#B6E880\"}, \"mode\": \"lines\", \"name\": \"Mexi-Ramen\", \"orientation\": \"v\", \"showlegend\": true, \"stackgroup\": \"1\", \"type\": \"scatter\", \"x\": [\"USA\"], \"xaxis\": \"x\", \"y\": [2.5], \"yaxis\": \"y\"}, {\"hovertemplate\": \"<b>%{hovertext}</b><br><br>Brand=Hsin Tung Yang<br>Country=%{x}<br>Stars=%{y}<extra></extra>\", \"hovertext\": [\"Tiny Noodle With Oyster Flavor\"], \"legendgroup\": \"Hsin Tung Yang\", \"line\": {\"color\": \"#FF97FF\"}, \"mode\": \"lines\", \"name\": \"Hsin Tung Yang\", \"orientation\": \"v\", \"showlegend\": true, \"stackgroup\": \"1\", \"type\": \"scatter\", \"x\": [\"Taiwan\"], \"xaxis\": \"x\", \"y\": [0.0], \"yaxis\": \"y\"}, {\"hovertemplate\": \"<b>%{hovertext}</b><br><br>Brand=Sao Tao<br>Country=%{x}<br>Stars=%{y}<extra></extra>\", \"hovertext\": [\"Noodle King Hong Koing Style Wonton\", \"Noodle King Scallop Thick\", \"Noodle King Beef Hong Kong Style\", \"Ramen King Scallop Seafood\"], \"legendgroup\": \"Sao Tao\", \"line\": {\"color\": \"#FECB52\"}, \"mode\": \"lines\", \"name\": \"Sao Tao\", \"orientation\": \"v\", \"showlegend\": true, \"stackgroup\": \"1\", \"type\": \"scatter\", \"x\": [\"Hong Kong\", \"Hong Kong\", \"Hong Kong\", \"China\"], \"xaxis\": \"x\", \"y\": [2.25, 3.0, 2.5, 4.25], \"yaxis\": \"y\"}, {\"hovertemplate\": \"<b>%{hovertext}</b><br><br>Brand=iNoodle<br>Country=%{x}<br>Stars=%{y}<extra></extra>\", \"hovertext\": [\"Taiwan Style Chow Mein\", \"Udon Noodle Soup Oriental\"], \"legendgroup\": \"iNoodle\", \"line\": {\"color\": \"#636efa\"}, \"mode\": \"lines\", \"name\": \"iNoodle\", \"orientation\": \"v\", \"showlegend\": true, \"stackgroup\": \"1\", \"type\": \"scatter\", \"x\": [\"Taiwan\", \"Taiwan\"], \"xaxis\": \"x\", \"y\": [2.25, 3.75], \"yaxis\": \"y\"}, {\"hovertemplate\": \"<b>%{hovertext}</b><br><br>Brand=Chikara<br>Country=%{x}<br>Stars=%{y}<extra></extra>\", \"hovertext\": [\"Shrimp Udon\"], \"legendgroup\": \"Chikara\", \"line\": {\"color\": \"#EF553B\"}, \"mode\": \"lines\", \"name\": \"Chikara\", \"orientation\": \"v\", \"showlegend\": true, \"stackgroup\": \"1\", \"type\": \"scatter\", \"x\": [\"USA\"], \"xaxis\": \"x\", \"y\": [4.5], \"yaxis\": \"y\"}, {\"hovertemplate\": \"<b>%{hovertext}</b><br><br>Brand=Q<br>Country=%{x}<br>Stars=%{y}<extra></extra>\", \"hovertext\": [\"Noodle With Sesame Sauce\"], \"legendgroup\": \"Q\", \"line\": {\"color\": \"#00cc96\"}, \"mode\": \"lines\", \"name\": \"Q\", \"orientation\": \"v\", \"showlegend\": true, \"stackgroup\": \"1\", \"type\": \"scatter\", \"x\": [\"Taiwan\"], \"xaxis\": \"x\", \"y\": [3.25], \"yaxis\": \"y\"}, {\"hovertemplate\": \"<b>%{hovertext}</b><br><br>Brand=Noodle Time<br>Country=%{x}<br>Stars=%{y}<extra></extra>\", \"hovertext\": [\"Shin Cup\"], \"legendgroup\": \"Noodle Time\", \"line\": {\"color\": \"#ab63fa\"}, \"mode\": \"lines\", \"name\": \"Noodle Time\", \"orientation\": \"v\", \"showlegend\": true, \"stackgroup\": \"1\", \"type\": \"scatter\", \"x\": [\"South Korea\"], \"xaxis\": \"x\", \"y\": [3.0], \"yaxis\": \"y\"}, {\"hovertemplate\": \"<b>%{hovertext}</b><br><br>Brand=US Canning<br>Country=%{x}<br>Stars=%{y}<extra></extra>\", \"hovertext\": [\"Fu Chang Chinese Noodle Company Pork Seafood\"], \"legendgroup\": \"US Canning\", \"line\": {\"color\": \"#FFA15A\"}, \"mode\": \"lines\", \"name\": \"US Canning\", \"orientation\": \"v\", \"showlegend\": true, \"stackgroup\": \"1\", \"type\": \"scatter\", \"x\": [\"USA\"], \"xaxis\": \"x\", \"y\": [0.0], \"yaxis\": \"y\"}, {\"hovertemplate\": \"<b>%{hovertext}</b><br><br>Brand=Rhee Bros Assi<br>Country=%{x}<br>Stars=%{y}<extra></extra>\", \"hovertext\": [\"Pho Vietnamese Noodle Soup\", \"Rice Noodle Anchovy Flavor\", \"Rice Noodle Hot & Spicy Kimchi\", \"Rice Noodle Katsuo\", \"Rice Noodles Seafood\", \"Rice Noodle With Spicy Flavored Soup\"], \"legendgroup\": \"Rhee Bros Assi\", \"line\": {\"color\": \"#19d3f3\"}, \"mode\": \"lines\", \"name\": \"Rhee Bros Assi\", \"orientation\": \"v\", \"showlegend\": true, \"stackgroup\": \"1\", \"type\": \"scatter\", \"x\": [\"South Korea\", \"South Korea\", \"South Korea\", \"South Korea\", \"South Korea\", \"South Korea\"], \"xaxis\": \"x\", \"y\": [3.75, 3.75, 3.25, 4.0, 3.75, 2.25], \"yaxis\": \"y\"}, {\"hovertemplate\": \"<b>%{hovertext}</b><br><br>Brand=Bon Go Jang<br>Country=%{x}<br>Stars=%{y}<extra></extra>\", \"hovertext\": [\"Tofu Udon Dosirak\", \"Deuchi Udon\"], \"legendgroup\": \"Bon Go Jang\", \"line\": {\"color\": \"#FF6692\"}, \"mode\": \"lines\", \"name\": \"Bon Go Jang\", \"orientation\": \"v\", \"showlegend\": true, \"stackgroup\": \"1\", \"type\": \"scatter\", \"x\": [\"South Korea\", \"South Korea\"], \"xaxis\": \"x\", \"y\": [3.75, 3.0], \"yaxis\": \"y\"}, {\"hovertemplate\": \"<b>%{hovertext}</b><br><br>Brand=Tayho<br>Country=%{x}<br>Stars=%{y}<extra></extra>\", \"hovertext\": [\"Vermicelli With Pork\"], \"legendgroup\": \"Tayho\", \"line\": {\"color\": \"#B6E880\"}, \"mode\": \"lines\", \"name\": \"Tayho\", \"orientation\": \"v\", \"showlegend\": true, \"stackgroup\": \"1\", \"type\": \"scatter\", \"x\": [\"USA\"], \"xaxis\": \"x\", \"y\": [1.25], \"yaxis\": \"y\"}, {\"hovertemplate\": \"<b>%{hovertext}</b><br><br>Brand=Sunny Maid<br>Country=%{x}<br>Stars=%{y}<extra></extra>\", \"hovertext\": [\"Mi Chay Vegetarian\"], \"legendgroup\": \"Sunny Maid\", \"line\": {\"color\": \"#FF97FF\"}, \"mode\": \"lines\", \"name\": \"Sunny Maid\", \"orientation\": \"v\", \"showlegend\": true, \"stackgroup\": \"1\", \"type\": \"scatter\", \"x\": [\"Taiwan\"], \"xaxis\": \"x\", \"y\": [1.75], \"yaxis\": \"y\"}, {\"hovertemplate\": \"<b>%{hovertext}</b><br><br>Brand=Royal Umbrella<br>Country=%{x}<br>Stars=%{y}<extra></extra>\", \"hovertext\": [\"Vegetarian Tom Yum\", \"Tom Yum Shrimp\"], \"legendgroup\": \"Royal Umbrella\", \"line\": {\"color\": \"#FECB52\"}, \"mode\": \"lines\", \"name\": \"Royal Umbrella\", \"orientation\": \"v\", \"showlegend\": true, \"stackgroup\": \"1\", \"type\": \"scatter\", \"x\": [\"Thailand\", \"Thailand\"], \"xaxis\": \"x\", \"y\": [2.75, 3.25], \"yaxis\": \"y\"}, {\"hovertemplate\": \"<b>%{hovertext}</b><br><br>Brand=Tiger<br>Country=%{x}<br>Stars=%{y}<extra></extra>\", \"hovertext\": [\"Onion Flaver Rice Noodle\"], \"legendgroup\": \"Tiger\", \"line\": {\"color\": \"#636efa\"}, \"mode\": \"lines\", \"name\": \"Tiger\", \"orientation\": \"v\", \"showlegend\": true, \"stackgroup\": \"1\", \"type\": \"scatter\", \"x\": [\"Taiwan\"], \"xaxis\": \"x\", \"y\": [0.0], \"yaxis\": \"y\"}, {\"hovertemplate\": \"<b>%{hovertext}</b><br><br>Brand=Saigon Ve Wong<br>Country=%{x}<br>Stars=%{y}<extra></extra>\", \"hovertext\": [\"Kung Fu Artificial Beef Rice Noodle\"], \"legendgroup\": \"Saigon Ve Wong\", \"line\": {\"color\": \"#EF553B\"}, \"mode\": \"lines\", \"name\": \"Saigon Ve Wong\", \"orientation\": \"v\", \"showlegend\": true, \"stackgroup\": \"1\", \"type\": \"scatter\", \"x\": [\"South Korea\"], \"xaxis\": \"x\", \"y\": [3.25], \"yaxis\": \"y\"}, {\"hovertemplate\": \"<b>%{hovertext}</b><br><br>Brand=Fu Chang Chinese Noodle Company<br>Country=%{x}<br>Stars=%{y}<extra></extra>\", \"hovertext\": [\"Hot & Spicy Beef\"], \"legendgroup\": \"Fu Chang Chinese Noodle Company\", \"line\": {\"color\": \"#00cc96\"}, \"mode\": \"lines\", \"name\": \"Fu Chang Chinese Noodle Company\", \"orientation\": \"v\", \"showlegend\": true, \"stackgroup\": \"1\", \"type\": \"scatter\", \"x\": [\"USA\"], \"xaxis\": \"x\", \"y\": [4.0], \"yaxis\": \"y\"}, {\"hovertemplate\": \"<b>%{hovertext}</b><br><br>Brand=Sanyo Foods<br>Country=%{x}<br>Stars=%{y}<extra></extra>\", \"hovertext\": [\"Aunt Mentaiko Durum Spaghetti\"], \"legendgroup\": \"Sanyo Foods\", \"line\": {\"color\": \"#ab63fa\"}, \"mode\": \"lines\", \"name\": \"Sanyo Foods\", \"orientation\": \"v\", \"showlegend\": true, \"stackgroup\": \"1\", \"type\": \"scatter\", \"x\": [\"Japan\"], \"xaxis\": \"x\", \"y\": [4.5], \"yaxis\": \"y\"}, {\"hovertemplate\": \"<b>%{hovertext}</b><br><br>Brand=Rocket Brand<br>Country=%{x}<br>Stars=%{y}<extra></extra>\", \"hovertext\": [\"Satoimo Noodles\"], \"legendgroup\": \"Rocket Brand\", \"line\": {\"color\": \"#FFA15A\"}, \"mode\": \"lines\", \"name\": \"Rocket Brand\", \"orientation\": \"v\", \"showlegend\": true, \"stackgroup\": \"1\", \"type\": \"scatter\", \"x\": [\"China\"], \"xaxis\": \"x\", \"y\": [2.5], \"yaxis\": \"y\"}, {\"hovertemplate\": \"<b>%{hovertext}</b><br><br>Brand=Boss<br>Country=%{x}<br>Stars=%{y}<extra></extra>\", \"hovertext\": [\"Shrimp Tom Yum Flavor\"], \"legendgroup\": \"Boss\", \"line\": {\"color\": \"#19d3f3\"}, \"mode\": \"lines\", \"name\": \"Boss\", \"orientation\": \"v\", \"showlegend\": true, \"stackgroup\": \"1\", \"type\": \"scatter\", \"x\": [\"Thailand\"], \"xaxis\": \"x\", \"y\": [2.5], \"yaxis\": \"y\"}, {\"hovertemplate\": \"<b>%{hovertext}</b><br><br>Brand=Chorip Dong<br>Country=%{x}<br>Stars=%{y}<extra></extra>\", \"hovertext\": [\"Jjambbong Hot Spicy Seafood\"], \"legendgroup\": \"Chorip Dong\", \"line\": {\"color\": \"#FF6692\"}, \"mode\": \"lines\", \"name\": \"Chorip Dong\", \"orientation\": \"v\", \"showlegend\": true, \"stackgroup\": \"1\", \"type\": \"scatter\", \"x\": [\"South Korea\"], \"xaxis\": \"x\", \"y\": [4.25], \"yaxis\": \"y\"}, {\"hovertemplate\": \"<b>%{hovertext}</b><br><br>Brand=Higashi<br>Country=%{x}<br>Stars=%{y}<extra></extra>\", \"hovertext\": [\"Nagasaki Sara Udon\"], \"legendgroup\": \"Higashi\", \"line\": {\"color\": \"#B6E880\"}, \"mode\": \"lines\", \"name\": \"Higashi\", \"orientation\": \"v\", \"showlegend\": true, \"stackgroup\": \"1\", \"type\": \"scatter\", \"x\": [\"Japan\"], \"xaxis\": \"x\", \"y\": [5.0], \"yaxis\": \"y\"}, {\"hovertemplate\": \"<b>%{hovertext}</b><br><br>Brand=Sakurai<br>Country=%{x}<br>Stars=%{y}<extra></extra>\", \"hovertext\": [\"Vegetarian Flavor\"], \"legendgroup\": \"Sakurai\", \"line\": {\"color\": \"#FF97FF\"}, \"mode\": \"lines\", \"name\": \"Sakurai\", \"orientation\": \"v\", \"showlegend\": true, \"stackgroup\": \"1\", \"type\": \"scatter\", \"x\": [\"Japan\"], \"xaxis\": \"x\", \"y\": [3.5], \"yaxis\": \"y\"}, {\"hovertemplate\": \"<b>%{hovertext}</b><br><br>Brand=Global Inspiration<br>Country=%{x}<br>Stars=%{y}<extra></extra>\", \"hovertext\": [\"Gyeong-Gi-Do Rice\"], \"legendgroup\": \"Global Inspiration\", \"line\": {\"color\": \"#FECB52\"}, \"mode\": \"lines\", \"name\": \"Global Inspiration\", \"orientation\": \"v\", \"showlegend\": true, \"stackgroup\": \"1\", \"type\": \"scatter\", \"x\": [\"South Korea\"], \"xaxis\": \"x\", \"y\": [2.25], \"yaxis\": \"y\"}, {\"hovertemplate\": \"<b>%{hovertext}</b><br><br>Brand=Teriyaki Time<br>Country=%{x}<br>Stars=%{y}<extra></extra>\", \"hovertext\": [\"Ramen\"], \"legendgroup\": \"Teriyaki Time\", \"line\": {\"color\": \"#636efa\"}, \"mode\": \"lines\", \"name\": \"Teriyaki Time\", \"orientation\": \"v\", \"showlegend\": true, \"stackgroup\": \"1\", \"type\": \"scatter\", \"x\": [\"USA\"], \"xaxis\": \"x\", \"y\": [2.0], \"yaxis\": \"y\"}, {\"hovertemplate\": \"<b>%{hovertext}</b><br><br>Brand=Hua Feng Noodle Expert<br>Country=%{x}<br>Stars=%{y}<extra></extra>\", \"hovertext\": [\"Favoury Pork Flavor\", \"Spicy Seafood Flavor\"], \"legendgroup\": \"Hua Feng Noodle Expert\", \"line\": {\"color\": \"#EF553B\"}, \"mode\": \"lines\", \"name\": \"Hua Feng Noodle Expert\", \"orientation\": \"v\", \"showlegend\": true, \"stackgroup\": \"1\", \"type\": \"scatter\", \"x\": [\"China\", \"China\"], \"xaxis\": \"x\", \"y\": [1.0, 3.0], \"yaxis\": \"y\"}, {\"hovertemplate\": \"<b>%{hovertext}</b><br><br>Brand=Kim Ve Wong<br>Country=%{x}<br>Stars=%{y}<extra></extra>\", \"hovertext\": [\"Jaopai Series: Vegetarian Instant Noodles\"], \"legendgroup\": \"Kim Ve Wong\", \"line\": {\"color\": \"#00cc96\"}, \"mode\": \"lines\", \"name\": \"Kim Ve Wong\", \"orientation\": \"v\", \"showlegend\": true, \"stackgroup\": \"1\", \"type\": \"scatter\", \"x\": [\"Taiwan\"], \"xaxis\": \"x\", \"y\": [0.0], \"yaxis\": \"y\"}, {\"hovertemplate\": \"<b>%{hovertext}</b><br><br>Brand=Smack<br>Country=%{x}<br>Stars=%{y}<extra></extra>\", \"hovertext\": [\"Vegetable Beef\"], \"legendgroup\": \"Smack\", \"line\": {\"color\": \"#ab63fa\"}, \"mode\": \"lines\", \"name\": \"Smack\", \"orientation\": \"v\", \"showlegend\": true, \"stackgroup\": \"1\", \"type\": \"scatter\", \"x\": [\"USA\"], \"xaxis\": \"x\", \"y\": [1.5], \"yaxis\": \"y\"}, {\"hovertemplate\": \"<b>%{hovertext}</b><br><br>Brand=Sutah<br>Country=%{x}<br>Stars=%{y}<extra></extra>\", \"hovertext\": [\"Cup Noodle\"], \"legendgroup\": \"Sutah\", \"line\": {\"color\": \"#FFA15A\"}, \"mode\": \"lines\", \"name\": \"Sutah\", \"orientation\": \"v\", \"showlegend\": true, \"stackgroup\": \"1\", \"type\": \"scatter\", \"x\": [\"South Korea\"], \"xaxis\": \"x\", \"y\": [2.0], \"yaxis\": \"y\"}, {\"hovertemplate\": \"<b>%{hovertext}</b><br><br>Brand=Tung-I<br>Country=%{x}<br>Stars=%{y}<extra></extra>\", \"hovertext\": [\"Chinese Beef Instant Rice Noodle\"], \"legendgroup\": \"Tung-I\", \"line\": {\"color\": \"#19d3f3\"}, \"mode\": \"lines\", \"name\": \"Tung-I\", \"orientation\": \"v\", \"showlegend\": true, \"stackgroup\": \"1\", \"type\": \"scatter\", \"x\": [\"Taiwan\"], \"xaxis\": \"x\", \"y\": [3.0], \"yaxis\": \"y\"}, {\"hovertemplate\": \"<b>%{hovertext}</b><br><br>Brand=Westbrae<br>Country=%{x}<br>Stars=%{y}<extra></extra>\", \"hovertext\": [\"Miso Ramen\"], \"legendgroup\": \"Westbrae\", \"line\": {\"color\": \"#FF6692\"}, \"mode\": \"lines\", \"name\": \"Westbrae\", \"orientation\": \"v\", \"showlegend\": true, \"stackgroup\": \"1\", \"type\": \"scatter\", \"x\": [\"USA\"], \"xaxis\": \"x\", \"y\": [0.5], \"yaxis\": \"y\"}],                        {\"legend\": {\"title\": {\"text\": \"Brand\"}, \"tracegroupgap\": 0}, \"margin\": {\"t\": 60}, \"template\": {\"data\": {\"bar\": [{\"error_x\": {\"color\": \"#2a3f5f\"}, \"error_y\": {\"color\": \"#2a3f5f\"}, \"marker\": {\"line\": {\"color\": \"#E5ECF6\", \"width\": 0.5}}, \"type\": \"bar\"}], \"barpolar\": [{\"marker\": {\"line\": {\"color\": \"#E5ECF6\", \"width\": 0.5}}, \"type\": \"barpolar\"}], \"carpet\": [{\"aaxis\": {\"endlinecolor\": \"#2a3f5f\", \"gridcolor\": \"white\", \"linecolor\": \"white\", \"minorgridcolor\": \"white\", \"startlinecolor\": \"#2a3f5f\"}, \"baxis\": {\"endlinecolor\": \"#2a3f5f\", \"gridcolor\": \"white\", \"linecolor\": \"white\", \"minorgridcolor\": \"white\", \"startlinecolor\": \"#2a3f5f\"}, \"type\": \"carpet\"}], \"choropleth\": [{\"colorbar\": {\"outlinewidth\": 0, \"ticks\": \"\"}, \"type\": \"choropleth\"}], \"contour\": [{\"colorbar\": {\"outlinewidth\": 0, \"ticks\": \"\"}, \"colorscale\": [[0.0, \"#0d0887\"], [0.1111111111111111, \"#46039f\"], [0.2222222222222222, \"#7201a8\"], [0.3333333333333333, \"#9c179e\"], [0.4444444444444444, \"#bd3786\"], [0.5555555555555556, \"#d8576b\"], [0.6666666666666666, \"#ed7953\"], [0.7777777777777778, \"#fb9f3a\"], [0.8888888888888888, \"#fdca26\"], [1.0, \"#f0f921\"]], \"type\": \"contour\"}], \"contourcarpet\": [{\"colorbar\": {\"outlinewidth\": 0, \"ticks\": \"\"}, \"type\": \"contourcarpet\"}], \"heatmap\": [{\"colorbar\": {\"outlinewidth\": 0, \"ticks\": \"\"}, \"colorscale\": [[0.0, \"#0d0887\"], [0.1111111111111111, \"#46039f\"], [0.2222222222222222, \"#7201a8\"], [0.3333333333333333, \"#9c179e\"], [0.4444444444444444, \"#bd3786\"], [0.5555555555555556, \"#d8576b\"], [0.6666666666666666, \"#ed7953\"], [0.7777777777777778, \"#fb9f3a\"], [0.8888888888888888, \"#fdca26\"], [1.0, \"#f0f921\"]], \"type\": \"heatmap\"}], \"heatmapgl\": [{\"colorbar\": {\"outlinewidth\": 0, \"ticks\": \"\"}, \"colorscale\": [[0.0, \"#0d0887\"], [0.1111111111111111, \"#46039f\"], [0.2222222222222222, \"#7201a8\"], [0.3333333333333333, \"#9c179e\"], [0.4444444444444444, \"#bd3786\"], [0.5555555555555556, \"#d8576b\"], [0.6666666666666666, \"#ed7953\"], [0.7777777777777778, \"#fb9f3a\"], [0.8888888888888888, \"#fdca26\"], [1.0, \"#f0f921\"]], \"type\": \"heatmapgl\"}], \"histogram\": [{\"marker\": {\"colorbar\": {\"outlinewidth\": 0, \"ticks\": \"\"}}, \"type\": \"histogram\"}], \"histogram2d\": [{\"colorbar\": {\"outlinewidth\": 0, \"ticks\": \"\"}, \"colorscale\": [[0.0, \"#0d0887\"], [0.1111111111111111, \"#46039f\"], [0.2222222222222222, \"#7201a8\"], [0.3333333333333333, \"#9c179e\"], [0.4444444444444444, \"#bd3786\"], [0.5555555555555556, \"#d8576b\"], [0.6666666666666666, \"#ed7953\"], [0.7777777777777778, \"#fb9f3a\"], [0.8888888888888888, \"#fdca26\"], [1.0, \"#f0f921\"]], \"type\": \"histogram2d\"}], \"histogram2dcontour\": [{\"colorbar\": {\"outlinewidth\": 0, \"ticks\": \"\"}, \"colorscale\": [[0.0, \"#0d0887\"], [0.1111111111111111, \"#46039f\"], [0.2222222222222222, \"#7201a8\"], [0.3333333333333333, \"#9c179e\"], [0.4444444444444444, \"#bd3786\"], [0.5555555555555556, \"#d8576b\"], [0.6666666666666666, \"#ed7953\"], [0.7777777777777778, \"#fb9f3a\"], [0.8888888888888888, \"#fdca26\"], [1.0, \"#f0f921\"]], \"type\": \"histogram2dcontour\"}], \"mesh3d\": [{\"colorbar\": {\"outlinewidth\": 0, \"ticks\": \"\"}, \"type\": \"mesh3d\"}], \"parcoords\": [{\"line\": {\"colorbar\": {\"outlinewidth\": 0, \"ticks\": \"\"}}, \"type\": \"parcoords\"}], \"pie\": [{\"automargin\": true, \"type\": \"pie\"}], \"scatter\": [{\"marker\": {\"colorbar\": {\"outlinewidth\": 0, \"ticks\": \"\"}}, \"type\": \"scatter\"}], \"scatter3d\": [{\"line\": {\"colorbar\": {\"outlinewidth\": 0, \"ticks\": \"\"}}, \"marker\": {\"colorbar\": {\"outlinewidth\": 0, \"ticks\": \"\"}}, \"type\": \"scatter3d\"}], \"scattercarpet\": [{\"marker\": {\"colorbar\": {\"outlinewidth\": 0, \"ticks\": \"\"}}, \"type\": \"scattercarpet\"}], \"scattergeo\": [{\"marker\": {\"colorbar\": {\"outlinewidth\": 0, \"ticks\": \"\"}}, \"type\": \"scattergeo\"}], \"scattergl\": [{\"marker\": {\"colorbar\": {\"outlinewidth\": 0, \"ticks\": \"\"}}, \"type\": \"scattergl\"}], \"scattermapbox\": [{\"marker\": {\"colorbar\": {\"outlinewidth\": 0, \"ticks\": \"\"}}, \"type\": \"scattermapbox\"}], \"scatterpolar\": [{\"marker\": {\"colorbar\": {\"outlinewidth\": 0, \"ticks\": \"\"}}, \"type\": \"scatterpolar\"}], \"scatterpolargl\": [{\"marker\": {\"colorbar\": {\"outlinewidth\": 0, \"ticks\": \"\"}}, \"type\": \"scatterpolargl\"}], \"scatterternary\": [{\"marker\": {\"colorbar\": {\"outlinewidth\": 0, \"ticks\": \"\"}}, \"type\": \"scatterternary\"}], \"surface\": [{\"colorbar\": {\"outlinewidth\": 0, \"ticks\": \"\"}, \"colorscale\": [[0.0, \"#0d0887\"], [0.1111111111111111, \"#46039f\"], [0.2222222222222222, \"#7201a8\"], [0.3333333333333333, \"#9c179e\"], [0.4444444444444444, \"#bd3786\"], [0.5555555555555556, \"#d8576b\"], [0.6666666666666666, \"#ed7953\"], [0.7777777777777778, \"#fb9f3a\"], [0.8888888888888888, \"#fdca26\"], [1.0, \"#f0f921\"]], \"type\": \"surface\"}], \"table\": [{\"cells\": {\"fill\": {\"color\": \"#EBF0F8\"}, \"line\": {\"color\": \"white\"}}, \"header\": {\"fill\": {\"color\": \"#C8D4E3\"}, \"line\": {\"color\": \"white\"}}, \"type\": \"table\"}]}, \"layout\": {\"annotationdefaults\": {\"arrowcolor\": \"#2a3f5f\", \"arrowhead\": 0, \"arrowwidth\": 1}, \"autotypenumbers\": \"strict\", \"coloraxis\": {\"colorbar\": {\"outlinewidth\": 0, \"ticks\": \"\"}}, \"colorscale\": {\"diverging\": [[0, \"#8e0152\"], [0.1, \"#c51b7d\"], [0.2, \"#de77ae\"], [0.3, \"#f1b6da\"], [0.4, \"#fde0ef\"], [0.5, \"#f7f7f7\"], [0.6, \"#e6f5d0\"], [0.7, \"#b8e186\"], [0.8, \"#7fbc41\"], [0.9, \"#4d9221\"], [1, \"#276419\"]], \"sequential\": [[0.0, \"#0d0887\"], [0.1111111111111111, \"#46039f\"], [0.2222222222222222, \"#7201a8\"], [0.3333333333333333, \"#9c179e\"], [0.4444444444444444, \"#bd3786\"], [0.5555555555555556, \"#d8576b\"], [0.6666666666666666, \"#ed7953\"], [0.7777777777777778, \"#fb9f3a\"], [0.8888888888888888, \"#fdca26\"], [1.0, \"#f0f921\"]], \"sequentialminus\": [[0.0, \"#0d0887\"], [0.1111111111111111, \"#46039f\"], [0.2222222222222222, \"#7201a8\"], [0.3333333333333333, \"#9c179e\"], [0.4444444444444444, \"#bd3786\"], [0.5555555555555556, \"#d8576b\"], [0.6666666666666666, \"#ed7953\"], [0.7777777777777778, \"#fb9f3a\"], [0.8888888888888888, \"#fdca26\"], [1.0, \"#f0f921\"]]}, \"colorway\": [\"#636efa\", \"#EF553B\", \"#00cc96\", \"#ab63fa\", \"#FFA15A\", \"#19d3f3\", \"#FF6692\", \"#B6E880\", \"#FF97FF\", \"#FECB52\"], \"font\": {\"color\": \"#2a3f5f\"}, \"geo\": {\"bgcolor\": \"white\", \"lakecolor\": \"white\", \"landcolor\": \"#E5ECF6\", \"showlakes\": true, \"showland\": true, \"subunitcolor\": \"white\"}, \"hoverlabel\": {\"align\": \"left\"}, \"hovermode\": \"closest\", \"mapbox\": {\"style\": \"light\"}, \"paper_bgcolor\": \"white\", \"plot_bgcolor\": \"#E5ECF6\", \"polar\": {\"angularaxis\": {\"gridcolor\": \"white\", \"linecolor\": \"white\", \"ticks\": \"\"}, \"bgcolor\": \"#E5ECF6\", \"radialaxis\": {\"gridcolor\": \"white\", \"linecolor\": \"white\", \"ticks\": \"\"}}, \"scene\": {\"xaxis\": {\"backgroundcolor\": \"#E5ECF6\", \"gridcolor\": \"white\", \"gridwidth\": 2, \"linecolor\": \"white\", \"showbackground\": true, \"ticks\": \"\", \"zerolinecolor\": \"white\"}, \"yaxis\": {\"backgroundcolor\": \"#E5ECF6\", \"gridcolor\": \"white\", \"gridwidth\": 2, \"linecolor\": \"white\", \"showbackground\": true, \"ticks\": \"\", \"zerolinecolor\": \"white\"}, \"zaxis\": {\"backgroundcolor\": \"#E5ECF6\", \"gridcolor\": \"white\", \"gridwidth\": 2, \"linecolor\": \"white\", \"showbackground\": true, \"ticks\": \"\", \"zerolinecolor\": \"white\"}}, \"shapedefaults\": {\"line\": {\"color\": \"#2a3f5f\"}}, \"ternary\": {\"aaxis\": {\"gridcolor\": \"white\", \"linecolor\": \"white\", \"ticks\": \"\"}, \"baxis\": {\"gridcolor\": \"white\", \"linecolor\": \"white\", \"ticks\": \"\"}, \"bgcolor\": \"#E5ECF6\", \"caxis\": {\"gridcolor\": \"white\", \"linecolor\": \"white\", \"ticks\": \"\"}}, \"title\": {\"x\": 0.05}, \"xaxis\": {\"automargin\": true, \"gridcolor\": \"white\", \"linecolor\": \"white\", \"ticks\": \"\", \"title\": {\"standoff\": 15}, \"zerolinecolor\": \"white\", \"zerolinewidth\": 2}, \"yaxis\": {\"automargin\": true, \"gridcolor\": \"white\", \"linecolor\": \"white\", \"ticks\": \"\", \"title\": {\"standoff\": 15}, \"zerolinecolor\": \"white\", \"zerolinewidth\": 2}}}, \"xaxis\": {\"anchor\": \"y\", \"domain\": [0.0, 1.0], \"title\": {\"text\": \"Country\"}}, \"yaxis\": {\"anchor\": \"x\", \"domain\": [0.0, 1.0], \"title\": {\"text\": \"Stars\"}}},                        {\"responsive\": true}                    ).then(function(){\n",
       "                            \n",
       "var gd = document.getElementById('02140f3a-d264-4857-bf46-534e7828f342');\n",
       "var x = new MutationObserver(function (mutations, observer) {{\n",
       "        var display = window.getComputedStyle(gd).display;\n",
       "        if (!display || display === 'none') {{\n",
       "            console.log([gd, 'removed!']);\n",
       "            Plotly.purge(gd);\n",
       "            observer.disconnect();\n",
       "        }}\n",
       "}});\n",
       "\n",
       "// Listen for the removal of the full notebook cells\n",
       "var notebookContainer = gd.closest('#notebook-container');\n",
       "if (notebookContainer) {{\n",
       "    x.observe(notebookContainer, {childList: true});\n",
       "}}\n",
       "\n",
       "// Listen for the clearing of the current output cell\n",
       "var outputEl = gd.closest('.output');\n",
       "if (outputEl) {{\n",
       "    x.observe(outputEl, {childList: true});\n",
       "}}\n",
       "\n",
       "                        })                };                });            </script>        </div>"
      ]
     },
     "metadata": {},
     "output_type": "display_data"
    }
   ],
   "source": [
    "#import plotly for bubble graph\n",
    "#reference data for graph\n",
    "fig = px.area(some_new_df, x='Country',y='Stars', color='Brand',hover_name='Variety')\n",
    "    \n",
    "#format graph font and font color\n",
    "#fig.update_layout(font_family=\"Courier New\",font_color=\"midnightblue\",title_font_family=\"Times New Roman\",title_font_color=\"dimgrey\",legend_title_font_color=\"dimgrey\")\n",
    "    \n",
    "#show graph\n",
    "fig.show()"
   ]
  },
  {
   "cell_type": "code",
   "execution_count": 235,
   "metadata": {},
   "outputs": [],
   "source": [
    "top_brands_USA = ramen_df.loc[ramen_df['Country']=='USA']\n",
    "top_brands_USA = top_brands_USA.sort_values('Stars',ascending=False)\n",
    "\n"
   ]
  },
  {
   "cell_type": "code",
   "execution_count": 297,
   "metadata": {},
   "outputs": [
    {
     "data": {
      "image/png": "[encoded data removed]",
      "text/plain": [
       "<Figure size 936x576 with 1 Axes>"
      ]
     },
     "metadata": {},
     "output_type": "display_data"
    }
   ],
   "source": [
    "## Plot Star reviews by Style from USA\n",
    "\n",
    "some_df = top_brands_USA.groupby('Style').count()\n",
    "sorted_some_df = some_df.sort_values('Brand',ascending=False)\n",
    "plt.figure(figsize=(13,8))\n",
    "some_plot = sorted_some_df['Stars'].plot.bar(rot=0,color='goldenrod',edgecolor='black')\n",
    "plt.title('Popular Ramen Styles in the USA\\n',fontsize=26,color='black')\n",
    "plt.xlabel('\\nRamen Style',fontsize=20,color='black')\n",
    "plt.ylabel('Total Number of Reviews\\n',fontsize=20,color='black')\n",
    "plt.xticks(color='black',fontsize=16)\n",
    "plt.yticks(color='black',fontsize=16)\n",
    "plt.axis('on')\n",
    "plt.savefig('visualizations/popular_ramen_styles_usa.png')\n",
    "plt.show()\n"
   ]
  },
  {
   "cell_type": "code",
   "execution_count": 294,
   "metadata": {},
   "outputs": [
    {
     "data": {
      "application/vnd.plotly.v1+json": {
       "config": {
        "plotlyServerURL": "https://plot.ly"
       },
       "data": [
        {
         "alignmentgroup": "True",
         "bingroup": "x",
         "hovertemplate": "Country=USA<br>Stars=%{x}<br>count=%{y}<extra></extra>",
         "legendgroup": "USA",
         "marker": {
          "color": "tomato",
          "line": {
           "color": "silver",
           "width": 1.5
          }
         },
         "name": "USA",
         "offsetgroup": "USA",
         "opacity": 0.75,
         "orientation": "v",
         "showlegend": true,
         "type": "histogram",
         "x": [
          5,
          5,
          5,
          5,
          5,
          5,
          5,
          5,
          5,
          5,
          5,
          5,
          5,
          5,
          5,
          5,
          5,
          5,
          5,
          5,
          5,
          5,
          5,
          5,
          5,
          5,
          5,
          5,
          5,
          5,
          5,
          4.75,
          4.75,
          4.75,
          4.75,
          4.75,
          4.5,
          4.5,
          4.5,
          4.5,
          4.5,
          4.5,
          4.5,
          4.5,
          4.5,
          4.5,
          4.5,
          4.5,
          4.5,
          4.25,
          4.25,
          4.25,
          4.25,
          4.25,
          4.25,
          4.25,
          4.25,
          4.25,
          4.25,
          4.25,
          4.25,
          4.25,
          4.25,
          4.25,
          4.25,
          4.25,
          4.25,
          4.25,
          4.25,
          4,
          4,
          4,
          4,
          4,
          4,
          4,
          4,
          4,
          4,
          4,
          4,
          4,
          4,
          4,
          4,
          4,
          4,
          4,
          4,
          4,
          4,
          4,
          4,
          4,
          4,
          4,
          4,
          4,
          4,
          4,
          4,
          4,
          4,
          4,
          4,
          4,
          4,
          4,
          4,
          4,
          4,
          4,
          4,
          4,
          4,
          4,
          4,
          3.75,
          3.75,
          3.75,
          3.75,
          3.75,
          3.75,
          3.75,
          3.75,
          3.75,
          3.75,
          3.75,
          3.75,
          3.75,
          3.75,
          3.75,
          3.75,
          3.75,
          3.75,
          3.75,
          3.75,
          3.75,
          3.75,
          3.75,
          3.75,
          3.75,
          3.75,
          3.75,
          3.75,
          3.75,
          3.75,
          3.75,
          3.75,
          3.75,
          3.75,
          3.75,
          3.75,
          3.75,
          3.75,
          3.75,
          3.75,
          3.75,
          3.75,
          3.75,
          3.75,
          3.5,
          3.5,
          3.5,
          3.5,
          3.5,
          3.5,
          3.5,
          3.5,
          3.5,
          3.5,
          3.5,
          3.5,
          3.5,
          3.5,
          3.5,
          3.5,
          3.5,
          3.5,
          3.5,
          3.5,
          3.5,
          3.5,
          3.5,
          3.5,
          3.5,
          3.5,
          3.5,
          3.5,
          3.5,
          3.5,
          3.5,
          3.5,
          3.5,
          3.5,
          3.5,
          3.5,
          3.5,
          3.5,
          3.5,
          3.5,
          3.5,
          3.5,
          3.5,
          3.5,
          3.5,
          3.5,
          3.25,
          3.25,
          3.25,
          3.25,
          3.25,
          3.25,
          3.25,
          3.25,
          3.25,
          3.25,
          3.25,
          3.25,
          3.25,
          3.25,
          3.25,
          3.25,
          3.25,
          3.25,
          3.25,
          3.25,
          3.25,
          3.25,
          3.25,
          3.25,
          3.25,
          3.25,
          3,
          3,
          3,
          3,
          3,
          3,
          3,
          3,
          3,
          3,
          3,
          3,
          3,
          3,
          3,
          3,
          3,
          3,
          3,
          3,
          3,
          3,
          3,
          2.75,
          2.75,
          2.75,
          2.75,
          2.75,
          2.75,
          2.75,
          2.75,
          2.75,
          2.75,
          2.75,
          2.75,
          2.75,
          2.5,
          2.5,
          2.5,
          2.5,
          2.5,
          2.5,
          2.5,
          2.5,
          2.5,
          2.5,
          2.25,
          2.25,
          2.25,
          2.25,
          2.25,
          2.125,
          2,
          2,
          2,
          2,
          2,
          2,
          2,
          2,
          2,
          2,
          2,
          1.75,
          1.75,
          1.75,
          1.75,
          1.75,
          1.75,
          1.5,
          1.5,
          1.5,
          1.5,
          1.5,
          1.5,
          1.5,
          1.5,
          1.25,
          1,
          1,
          0.5,
          0.25,
          0.25,
          0,
          0,
          0,
          0,
          0,
          0,
          0
         ],
         "xaxis": "x",
         "yaxis": "y"
        }
       ],
       "layout": {
        "barmode": "relative",
        "hoverlabel": {
         "bgcolor": "white"
        },
        "legend": {
         "title": {
          "text": "Country"
         },
         "tracegroupgap": 0
        },
        "margin": {
         "t": 60
        },
        "showlegend": false,
        "template": {
         "data": {
          "bar": [
           {
            "error_x": {
             "color": "#2a3f5f"
            },
            "error_y": {
             "color": "#2a3f5f"
            },
            "marker": {
             "line": {
              "color": "#E5ECF6",
              "width": 0.5
             }
            },
            "type": "bar"
           }
          ],
          "barpolar": [
           {
            "marker": {
             "line": {
              "color": "#E5ECF6",
              "width": 0.5
             }
            },
            "type": "barpolar"
           }
          ],
          "carpet": [
           {
            "aaxis": {
             "endlinecolor": "#2a3f5f",
             "gridcolor": "white",
             "linecolor": "white",
             "minorgridcolor": "white",
             "startlinecolor": "#2a3f5f"
            },
            "baxis": {
             "endlinecolor": "#2a3f5f",
             "gridcolor": "white",
             "linecolor": "white",
             "minorgridcolor": "white",
             "startlinecolor": "#2a3f5f"
            },
            "type": "carpet"
           }
          ],
          "choropleth": [
           {
            "colorbar": {
             "outlinewidth": 0,
             "ticks": ""
            },
            "type": "choropleth"
           }
          ],
          "contour": [
           {
            "colorbar": {
             "outlinewidth": 0,
             "ticks": ""
            },
            "colorscale": [
             [
              0,
              "#0d0887"
             ],
             [
              0.1111111111111111,
              "#46039f"
             ],
             [
              0.2222222222222222,
              "#7201a8"
             ],
             [
              0.3333333333333333,
              "#9c179e"
             ],
             [
              0.4444444444444444,
              "#bd3786"
             ],
             [
              0.5555555555555556,
              "#d8576b"
             ],
             [
              0.6666666666666666,
              "#ed7953"
             ],
             [
              0.7777777777777778,
              "#fb9f3a"
             ],
             [
              0.8888888888888888,
              "#fdca26"
             ],
             [
              1,
              "#f0f921"
             ]
            ],
            "type": "contour"
           }
          ],
          "contourcarpet": [
           {
            "colorbar": {
             "outlinewidth": 0,
             "ticks": ""
            },
            "type": "contourcarpet"
           }
          ],
          "heatmap": [
           {
            "colorbar": {
             "outlinewidth": 0,
             "ticks": ""
            },
            "colorscale": [
             [
              0,
              "#0d0887"
             ],
             [
              0.1111111111111111,
              "#46039f"
             ],
             [
              0.2222222222222222,
              "#7201a8"
             ],
             [
              0.3333333333333333,
              "#9c179e"
             ],
             [
              0.4444444444444444,
              "#bd3786"
             ],
             [
              0.5555555555555556,
              "#d8576b"
             ],
             [
              0.6666666666666666,
              "#ed7953"
             ],
             [
              0.7777777777777778,
              "#fb9f3a"
             ],
             [
              0.8888888888888888,
              "#fdca26"
             ],
             [
              1,
              "#f0f921"
             ]
            ],
            "type": "heatmap"
           }
          ],
          "heatmapgl": [
           {
            "colorbar": {
             "outlinewidth": 0,
             "ticks": ""
            },
            "colorscale": [
             [
              0,
              "#0d0887"
             ],
             [
              0.1111111111111111,
              "#46039f"
             ],
             [
              0.2222222222222222,
              "#7201a8"
             ],
             [
              0.3333333333333333,
              "#9c179e"
             ],
             [
              0.4444444444444444,
              "#bd3786"
             ],
             [
              0.5555555555555556,
              "#d8576b"
             ],
             [
              0.6666666666666666,
              "#ed7953"
             ],
             [
              0.7777777777777778,
              "#fb9f3a"
             ],
             [
              0.8888888888888888,
              "#fdca26"
             ],
             [
              1,
              "#f0f921"
             ]
            ],
            "type": "heatmapgl"
           }
          ],
          "histogram": [
           {
            "marker": {
             "colorbar": {
              "outlinewidth": 0,
              "ticks": ""
             }
            },
            "type": "histogram"
           }
          ],
          "histogram2d": [
           {
            "colorbar": {
             "outlinewidth": 0,
             "ticks": ""
            },
            "colorscale": [
             [
              0,
              "#0d0887"
             ],
             [
              0.1111111111111111,
              "#46039f"
             ],
             [
              0.2222222222222222,
              "#7201a8"
             ],
             [
              0.3333333333333333,
              "#9c179e"
             ],
             [
              0.4444444444444444,
              "#bd3786"
             ],
             [
              0.5555555555555556,
              "#d8576b"
             ],
             [
              0.6666666666666666,
              "#ed7953"
             ],
             [
              0.7777777777777778,
              "#fb9f3a"
             ],
             [
              0.8888888888888888,
              "#fdca26"
             ],
             [
              1,
              "#f0f921"
             ]
            ],
            "type": "histogram2d"
           }
          ],
          "histogram2dcontour": [
           {
            "colorbar": {
             "outlinewidth": 0,
             "ticks": ""
            },
            "colorscale": [
             [
              0,
              "#0d0887"
             ],
             [
              0.1111111111111111,
              "#46039f"
             ],
             [
              0.2222222222222222,
              "#7201a8"
             ],
             [
              0.3333333333333333,
              "#9c179e"
             ],
             [
              0.4444444444444444,
              "#bd3786"
             ],
             [
              0.5555555555555556,
              "#d8576b"
             ],
             [
              0.6666666666666666,
              "#ed7953"
             ],
             [
              0.7777777777777778,
              "#fb9f3a"
             ],
             [
              0.8888888888888888,
              "#fdca26"
             ],
             [
              1,
              "#f0f921"
             ]
            ],
            "type": "histogram2dcontour"
           }
          ],
          "mesh3d": [
           {
            "colorbar": {
             "outlinewidth": 0,
             "ticks": ""
            },
            "type": "mesh3d"
           }
          ],
          "parcoords": [
           {
            "line": {
             "colorbar": {
              "outlinewidth": 0,
              "ticks": ""
             }
            },
            "type": "parcoords"
           }
          ],
          "pie": [
           {
            "automargin": true,
            "type": "pie"
           }
          ],
          "scatter": [
           {
            "marker": {
             "colorbar": {
              "outlinewidth": 0,
              "ticks": ""
             }
            },
            "type": "scatter"
           }
          ],
          "scatter3d": [
           {
            "line": {
             "colorbar": {
              "outlinewidth": 0,
              "ticks": ""
             }
            },
            "marker": {
             "colorbar": {
              "outlinewidth": 0,
              "ticks": ""
             }
            },
            "type": "scatter3d"
           }
          ],
          "scattercarpet": [
           {
            "marker": {
             "colorbar": {
              "outlinewidth": 0,
              "ticks": ""
             }
            },
            "type": "scattercarpet"
           }
          ],
          "scattergeo": [
           {
            "marker": {
             "colorbar": {
              "outlinewidth": 0,
              "ticks": ""
             }
            },
            "type": "scattergeo"
           }
          ],
          "scattergl": [
           {
            "marker": {
             "colorbar": {
              "outlinewidth": 0,
              "ticks": ""
             }
            },
            "type": "scattergl"
           }
          ],
          "scattermapbox": [
           {
            "marker": {
             "colorbar": {
              "outlinewidth": 0,
              "ticks": ""
             }
            },
            "type": "scattermapbox"
           }
          ],
          "scatterpolar": [
           {
            "marker": {
             "colorbar": {
              "outlinewidth": 0,
              "ticks": ""
             }
            },
            "type": "scatterpolar"
           }
          ],
          "scatterpolargl": [
           {
            "marker": {
             "colorbar": {
              "outlinewidth": 0,
              "ticks": ""
             }
            },
            "type": "scatterpolargl"
           }
          ],
          "scatterternary": [
           {
            "marker": {
             "colorbar": {
              "outlinewidth": 0,
              "ticks": ""
             }
            },
            "type": "scatterternary"
           }
          ],
          "surface": [
           {
            "colorbar": {
             "outlinewidth": 0,
             "ticks": ""
            },
            "colorscale": [
             [
              0,
              "#0d0887"
             ],
             [
              0.1111111111111111,
              "#46039f"
             ],
             [
              0.2222222222222222,
              "#7201a8"
             ],
             [
              0.3333333333333333,
              "#9c179e"
             ],
             [
              0.4444444444444444,
              "#bd3786"
             ],
             [
              0.5555555555555556,
              "#d8576b"
             ],
             [
              0.6666666666666666,
              "#ed7953"
             ],
             [
              0.7777777777777778,
              "#fb9f3a"
             ],
             [
              0.8888888888888888,
              "#fdca26"
             ],
             [
              1,
              "#f0f921"
             ]
            ],
            "type": "surface"
           }
          ],
          "table": [
           {
            "cells": {
             "fill": {
              "color": "#EBF0F8"
             },
             "line": {
              "color": "white"
             }
            },
            "header": {
             "fill": {
              "color": "#C8D4E3"
             },
             "line": {
              "color": "white"
             }
            },
            "type": "table"
           }
          ]
         },
         "layout": {
          "annotationdefaults": {
           "arrowcolor": "#2a3f5f",
           "arrowhead": 0,
           "arrowwidth": 1
          },
          "autotypenumbers": "strict",
          "coloraxis": {
           "colorbar": {
            "outlinewidth": 0,
            "ticks": ""
           }
          },
          "colorscale": {
           "diverging": [
            [
             0,
             "#8e0152"
            ],
            [
             0.1,
             "#c51b7d"
            ],
            [
             0.2,
             "#de77ae"
            ],
            [
             0.3,
             "#f1b6da"
            ],
            [
             0.4,
             "#fde0ef"
            ],
            [
             0.5,
             "#f7f7f7"
            ],
            [
             0.6,
             "#e6f5d0"
            ],
            [
             0.7,
             "#b8e186"
            ],
            [
             0.8,
             "#7fbc41"
            ],
            [
             0.9,
             "#4d9221"
            ],
            [
             1,
             "#276419"
            ]
           ],
           "sequential": [
            [
             0,
             "#0d0887"
            ],
            [
             0.1111111111111111,
             "#46039f"
            ],
            [
             0.2222222222222222,
             "#7201a8"
            ],
            [
             0.3333333333333333,
             "#9c179e"
            ],
            [
             0.4444444444444444,
             "#bd3786"
            ],
            [
             0.5555555555555556,
             "#d8576b"
            ],
            [
             0.6666666666666666,
             "#ed7953"
            ],
            [
             0.7777777777777778,
             "#fb9f3a"
            ],
            [
             0.8888888888888888,
             "#fdca26"
            ],
            [
             1,
             "#f0f921"
            ]
           ],
           "sequentialminus": [
            [
             0,
             "#0d0887"
            ],
            [
             0.1111111111111111,
             "#46039f"
            ],
            [
             0.2222222222222222,
             "#7201a8"
            ],
            [
             0.3333333333333333,
             "#9c179e"
            ],
            [
             0.4444444444444444,
             "#bd3786"
            ],
            [
             0.5555555555555556,
             "#d8576b"
            ],
            [
             0.6666666666666666,
             "#ed7953"
            ],
            [
             0.7777777777777778,
             "#fb9f3a"
            ],
            [
             0.8888888888888888,
             "#fdca26"
            ],
            [
             1,
             "#f0f921"
            ]
           ]
          },
          "colorway": [
           "#636efa",
           "#EF553B",
           "#00cc96",
           "#ab63fa",
           "#FFA15A",
           "#19d3f3",
           "#FF6692",
           "#B6E880",
           "#FF97FF",
           "#FECB52"
          ],
          "font": {
           "color": "#2a3f5f"
          },
          "geo": {
           "bgcolor": "white",
           "lakecolor": "white",
           "landcolor": "#E5ECF6",
           "showlakes": true,
           "showland": true,
           "subunitcolor": "white"
          },
          "hoverlabel": {
           "align": "left"
          },
          "hovermode": "closest",
          "mapbox": {
           "style": "light"
          },
          "paper_bgcolor": "white",
          "plot_bgcolor": "#E5ECF6",
          "polar": {
           "angularaxis": {
            "gridcolor": "white",
            "linecolor": "white",
            "ticks": ""
           },
           "bgcolor": "#E5ECF6",
           "radialaxis": {
            "gridcolor": "white",
            "linecolor": "white",
            "ticks": ""
           }
          },
          "scene": {
           "xaxis": {
            "backgroundcolor": "#E5ECF6",
            "gridcolor": "white",
            "gridwidth": 2,
            "linecolor": "white",
            "showbackground": true,
            "ticks": "",
            "zerolinecolor": "white"
           },
           "yaxis": {
            "backgroundcolor": "#E5ECF6",
            "gridcolor": "white",
            "gridwidth": 2,
            "linecolor": "white",
            "showbackground": true,
            "ticks": "",
            "zerolinecolor": "white"
           },
           "zaxis": {
            "backgroundcolor": "#E5ECF6",
            "gridcolor": "white",
            "gridwidth": 2,
            "linecolor": "white",
            "showbackground": true,
            "ticks": "",
            "zerolinecolor": "white"
           }
          },
          "shapedefaults": {
           "line": {
            "color": "#2a3f5f"
           }
          },
          "ternary": {
           "aaxis": {
            "gridcolor": "white",
            "linecolor": "white",
            "ticks": ""
           },
           "baxis": {
            "gridcolor": "white",
            "linecolor": "white",
            "ticks": ""
           },
           "bgcolor": "#E5ECF6",
           "caxis": {
            "gridcolor": "white",
            "linecolor": "white",
            "ticks": ""
           }
          },
          "title": {
           "x": 0.05
          },
          "xaxis": {
           "automargin": true,
           "gridcolor": "white",
           "linecolor": "white",
           "ticks": "",
           "title": {
            "standoff": 15
           },
           "zerolinecolor": "white",
           "zerolinewidth": 2
          },
          "yaxis": {
           "automargin": true,
           "gridcolor": "white",
           "linecolor": "white",
           "ticks": "",
           "title": {
            "standoff": 15
           },
           "zerolinecolor": "white",
           "zerolinewidth": 2
          }
         }
        },
        "title": {
         "font": {
          "size": 26
         },
         "text": "Ramen Reviews in the USA\n"
        },
        "xaxis": {
         "anchor": "y",
         "domain": [
          0,
          1
         ],
         "title": {
          "font": {
           "size": 20
          },
          "text": "\nStar Reviews"
         }
        },
        "yaxis": {
         "anchor": "x",
         "domain": [
          0,
          1
         ],
         "title": {
          "font": {
           "size": 20
          },
          "text": "Total Number of Reviews\n"
         }
        }
       }
      },
      "text/html": [
       "<div>                            <div id=\"11357fd9-7837-47aa-a9f4-8b977149d479\" class=\"plotly-graph-div\" style=\"height:525px; width:100%;\"></div>            <script type=\"text/javascript\">                require([\"plotly\"], function(Plotly) {                    window.PLOTLYENV=window.PLOTLYENV || {};                                    if (document.getElementById(\"11357fd9-7837-47aa-a9f4-8b977149d479\")) {                    Plotly.newPlot(                        \"11357fd9-7837-47aa-a9f4-8b977149d479\",                        [{\"alignmentgroup\": \"True\", \"bingroup\": \"x\", \"hovertemplate\": \"Country=USA<br>Stars=%{x}<br>count=%{y}<extra></extra>\", \"legendgroup\": \"USA\", \"marker\": {\"color\": \"tomato\", \"line\": {\"color\": \"silver\", \"width\": 1.5}}, \"name\": \"USA\", \"offsetgroup\": \"USA\", \"opacity\": 0.75, \"orientation\": \"v\", \"showlegend\": true, \"type\": \"histogram\", \"x\": [5.0, 5.0, 5.0, 5.0, 5.0, 5.0, 5.0, 5.0, 5.0, 5.0, 5.0, 5.0, 5.0, 5.0, 5.0, 5.0, 5.0, 5.0, 5.0, 5.0, 5.0, 5.0, 5.0, 5.0, 5.0, 5.0, 5.0, 5.0, 5.0, 5.0, 5.0, 4.75, 4.75, 4.75, 4.75, 4.75, 4.5, 4.5, 4.5, 4.5, 4.5, 4.5, 4.5, 4.5, 4.5, 4.5, 4.5, 4.5, 4.5, 4.25, 4.25, 4.25, 4.25, 4.25, 4.25, 4.25, 4.25, 4.25, 4.25, 4.25, 4.25, 4.25, 4.25, 4.25, 4.25, 4.25, 4.25, 4.25, 4.25, 4.0, 4.0, 4.0, 4.0, 4.0, 4.0, 4.0, 4.0, 4.0, 4.0, 4.0, 4.0, 4.0, 4.0, 4.0, 4.0, 4.0, 4.0, 4.0, 4.0, 4.0, 4.0, 4.0, 4.0, 4.0, 4.0, 4.0, 4.0, 4.0, 4.0, 4.0, 4.0, 4.0, 4.0, 4.0, 4.0, 4.0, 4.0, 4.0, 4.0, 4.0, 4.0, 4.0, 4.0, 4.0, 4.0, 4.0, 4.0, 3.75, 3.75, 3.75, 3.75, 3.75, 3.75, 3.75, 3.75, 3.75, 3.75, 3.75, 3.75, 3.75, 3.75, 3.75, 3.75, 3.75, 3.75, 3.75, 3.75, 3.75, 3.75, 3.75, 3.75, 3.75, 3.75, 3.75, 3.75, 3.75, 3.75, 3.75, 3.75, 3.75, 3.75, 3.75, 3.75, 3.75, 3.75, 3.75, 3.75, 3.75, 3.75, 3.75, 3.75, 3.5, 3.5, 3.5, 3.5, 3.5, 3.5, 3.5, 3.5, 3.5, 3.5, 3.5, 3.5, 3.5, 3.5, 3.5, 3.5, 3.5, 3.5, 3.5, 3.5, 3.5, 3.5, 3.5, 3.5, 3.5, 3.5, 3.5, 3.5, 3.5, 3.5, 3.5, 3.5, 3.5, 3.5, 3.5, 3.5, 3.5, 3.5, 3.5, 3.5, 3.5, 3.5, 3.5, 3.5, 3.5, 3.5, 3.25, 3.25, 3.25, 3.25, 3.25, 3.25, 3.25, 3.25, 3.25, 3.25, 3.25, 3.25, 3.25, 3.25, 3.25, 3.25, 3.25, 3.25, 3.25, 3.25, 3.25, 3.25, 3.25, 3.25, 3.25, 3.25, 3.0, 3.0, 3.0, 3.0, 3.0, 3.0, 3.0, 3.0, 3.0, 3.0, 3.0, 3.0, 3.0, 3.0, 3.0, 3.0, 3.0, 3.0, 3.0, 3.0, 3.0, 3.0, 3.0, 2.75, 2.75, 2.75, 2.75, 2.75, 2.75, 2.75, 2.75, 2.75, 2.75, 2.75, 2.75, 2.75, 2.5, 2.5, 2.5, 2.5, 2.5, 2.5, 2.5, 2.5, 2.5, 2.5, 2.25, 2.25, 2.25, 2.25, 2.25, 2.125, 2.0, 2.0, 2.0, 2.0, 2.0, 2.0, 2.0, 2.0, 2.0, 2.0, 2.0, 1.75, 1.75, 1.75, 1.75, 1.75, 1.75, 1.5, 1.5, 1.5, 1.5, 1.5, 1.5, 1.5, 1.5, 1.25, 1.0, 1.0, 0.5, 0.25, 0.25, 0.0, 0.0, 0.0, 0.0, 0.0, 0.0, 0.0], \"xaxis\": \"x\", \"yaxis\": \"y\"}],                        {\"barmode\": \"relative\", \"hoverlabel\": {\"bgcolor\": \"white\"}, \"legend\": {\"title\": {\"text\": \"Country\"}, \"tracegroupgap\": 0}, \"margin\": {\"t\": 60}, \"showlegend\": false, \"template\": {\"data\": {\"bar\": [{\"error_x\": {\"color\": \"#2a3f5f\"}, \"error_y\": {\"color\": \"#2a3f5f\"}, \"marker\": {\"line\": {\"color\": \"#E5ECF6\", \"width\": 0.5}}, \"type\": \"bar\"}], \"barpolar\": [{\"marker\": {\"line\": {\"color\": \"#E5ECF6\", \"width\": 0.5}}, \"type\": \"barpolar\"}], \"carpet\": [{\"aaxis\": {\"endlinecolor\": \"#2a3f5f\", \"gridcolor\": \"white\", \"linecolor\": \"white\", \"minorgridcolor\": \"white\", \"startlinecolor\": \"#2a3f5f\"}, \"baxis\": {\"endlinecolor\": \"#2a3f5f\", \"gridcolor\": \"white\", \"linecolor\": \"white\", \"minorgridcolor\": \"white\", \"startlinecolor\": \"#2a3f5f\"}, \"type\": \"carpet\"}], \"choropleth\": [{\"colorbar\": {\"outlinewidth\": 0, \"ticks\": \"\"}, \"type\": \"choropleth\"}], \"contour\": [{\"colorbar\": {\"outlinewidth\": 0, \"ticks\": \"\"}, \"colorscale\": [[0.0, \"#0d0887\"], [0.1111111111111111, \"#46039f\"], [0.2222222222222222, \"#7201a8\"], [0.3333333333333333, \"#9c179e\"], [0.4444444444444444, \"#bd3786\"], [0.5555555555555556, \"#d8576b\"], [0.6666666666666666, \"#ed7953\"], [0.7777777777777778, \"#fb9f3a\"], [0.8888888888888888, \"#fdca26\"], [1.0, \"#f0f921\"]], \"type\": \"contour\"}], \"contourcarpet\": [{\"colorbar\": {\"outlinewidth\": 0, \"ticks\": \"\"}, \"type\": \"contourcarpet\"}], \"heatmap\": [{\"colorbar\": {\"outlinewidth\": 0, \"ticks\": \"\"}, \"colorscale\": [[0.0, \"#0d0887\"], [0.1111111111111111, \"#46039f\"], [0.2222222222222222, \"#7201a8\"], [0.3333333333333333, \"#9c179e\"], [0.4444444444444444, \"#bd3786\"], [0.5555555555555556, \"#d8576b\"], [0.6666666666666666, \"#ed7953\"], [0.7777777777777778, \"#fb9f3a\"], [0.8888888888888888, \"#fdca26\"], [1.0, \"#f0f921\"]], \"type\": \"heatmap\"}], \"heatmapgl\": [{\"colorbar\": {\"outlinewidth\": 0, \"ticks\": \"\"}, \"colorscale\": [[0.0, \"#0d0887\"], [0.1111111111111111, \"#46039f\"], [0.2222222222222222, \"#7201a8\"], [0.3333333333333333, \"#9c179e\"], [0.4444444444444444, \"#bd3786\"], [0.5555555555555556, \"#d8576b\"], [0.6666666666666666, \"#ed7953\"], [0.7777777777777778, \"#fb9f3a\"], [0.8888888888888888, \"#fdca26\"], [1.0, \"#f0f921\"]], \"type\": \"heatmapgl\"}], \"histogram\": [{\"marker\": {\"colorbar\": {\"outlinewidth\": 0, \"ticks\": \"\"}}, \"type\": \"histogram\"}], \"histogram2d\": [{\"colorbar\": {\"outlinewidth\": 0, \"ticks\": \"\"}, \"colorscale\": [[0.0, \"#0d0887\"], [0.1111111111111111, \"#46039f\"], [0.2222222222222222, \"#7201a8\"], [0.3333333333333333, \"#9c179e\"], [0.4444444444444444, \"#bd3786\"], [0.5555555555555556, \"#d8576b\"], [0.6666666666666666, \"#ed7953\"], [0.7777777777777778, \"#fb9f3a\"], [0.8888888888888888, \"#fdca26\"], [1.0, \"#f0f921\"]], \"type\": \"histogram2d\"}], \"histogram2dcontour\": [{\"colorbar\": {\"outlinewidth\": 0, \"ticks\": \"\"}, \"colorscale\": [[0.0, \"#0d0887\"], [0.1111111111111111, \"#46039f\"], [0.2222222222222222, \"#7201a8\"], [0.3333333333333333, \"#9c179e\"], [0.4444444444444444, \"#bd3786\"], [0.5555555555555556, \"#d8576b\"], [0.6666666666666666, \"#ed7953\"], [0.7777777777777778, \"#fb9f3a\"], [0.8888888888888888, \"#fdca26\"], [1.0, \"#f0f921\"]], \"type\": \"histogram2dcontour\"}], \"mesh3d\": [{\"colorbar\": {\"outlinewidth\": 0, \"ticks\": \"\"}, \"type\": \"mesh3d\"}], \"parcoords\": [{\"line\": {\"colorbar\": {\"outlinewidth\": 0, \"ticks\": \"\"}}, \"type\": \"parcoords\"}], \"pie\": [{\"automargin\": true, \"type\": \"pie\"}], \"scatter\": [{\"marker\": {\"colorbar\": {\"outlinewidth\": 0, \"ticks\": \"\"}}, \"type\": \"scatter\"}], \"scatter3d\": [{\"line\": {\"colorbar\": {\"outlinewidth\": 0, \"ticks\": \"\"}}, \"marker\": {\"colorbar\": {\"outlinewidth\": 0, \"ticks\": \"\"}}, \"type\": \"scatter3d\"}], \"scattercarpet\": [{\"marker\": {\"colorbar\": {\"outlinewidth\": 0, \"ticks\": \"\"}}, \"type\": \"scattercarpet\"}], \"scattergeo\": [{\"marker\": {\"colorbar\": {\"outlinewidth\": 0, \"ticks\": \"\"}}, \"type\": \"scattergeo\"}], \"scattergl\": [{\"marker\": {\"colorbar\": {\"outlinewidth\": 0, \"ticks\": \"\"}}, \"type\": \"scattergl\"}], \"scattermapbox\": [{\"marker\": {\"colorbar\": {\"outlinewidth\": 0, \"ticks\": \"\"}}, \"type\": \"scattermapbox\"}], \"scatterpolar\": [{\"marker\": {\"colorbar\": {\"outlinewidth\": 0, \"ticks\": \"\"}}, \"type\": \"scatterpolar\"}], \"scatterpolargl\": [{\"marker\": {\"colorbar\": {\"outlinewidth\": 0, \"ticks\": \"\"}}, \"type\": \"scatterpolargl\"}], \"scatterternary\": [{\"marker\": {\"colorbar\": {\"outlinewidth\": 0, \"ticks\": \"\"}}, \"type\": \"scatterternary\"}], \"surface\": [{\"colorbar\": {\"outlinewidth\": 0, \"ticks\": \"\"}, \"colorscale\": [[0.0, \"#0d0887\"], [0.1111111111111111, \"#46039f\"], [0.2222222222222222, \"#7201a8\"], [0.3333333333333333, \"#9c179e\"], [0.4444444444444444, \"#bd3786\"], [0.5555555555555556, \"#d8576b\"], [0.6666666666666666, \"#ed7953\"], [0.7777777777777778, \"#fb9f3a\"], [0.8888888888888888, \"#fdca26\"], [1.0, \"#f0f921\"]], \"type\": \"surface\"}], \"table\": [{\"cells\": {\"fill\": {\"color\": \"#EBF0F8\"}, \"line\": {\"color\": \"white\"}}, \"header\": {\"fill\": {\"color\": \"#C8D4E3\"}, \"line\": {\"color\": \"white\"}}, \"type\": \"table\"}]}, \"layout\": {\"annotationdefaults\": {\"arrowcolor\": \"#2a3f5f\", \"arrowhead\": 0, \"arrowwidth\": 1}, \"autotypenumbers\": \"strict\", \"coloraxis\": {\"colorbar\": {\"outlinewidth\": 0, \"ticks\": \"\"}}, \"colorscale\": {\"diverging\": [[0, \"#8e0152\"], [0.1, \"#c51b7d\"], [0.2, \"#de77ae\"], [0.3, \"#f1b6da\"], [0.4, \"#fde0ef\"], [0.5, \"#f7f7f7\"], [0.6, \"#e6f5d0\"], [0.7, \"#b8e186\"], [0.8, \"#7fbc41\"], [0.9, \"#4d9221\"], [1, \"#276419\"]], \"sequential\": [[0.0, \"#0d0887\"], [0.1111111111111111, \"#46039f\"], [0.2222222222222222, \"#7201a8\"], [0.3333333333333333, \"#9c179e\"], [0.4444444444444444, \"#bd3786\"], [0.5555555555555556, \"#d8576b\"], [0.6666666666666666, \"#ed7953\"], [0.7777777777777778, \"#fb9f3a\"], [0.8888888888888888, \"#fdca26\"], [1.0, \"#f0f921\"]], \"sequentialminus\": [[0.0, \"#0d0887\"], [0.1111111111111111, \"#46039f\"], [0.2222222222222222, \"#7201a8\"], [0.3333333333333333, \"#9c179e\"], [0.4444444444444444, \"#bd3786\"], [0.5555555555555556, \"#d8576b\"], [0.6666666666666666, \"#ed7953\"], [0.7777777777777778, \"#fb9f3a\"], [0.8888888888888888, \"#fdca26\"], [1.0, \"#f0f921\"]]}, \"colorway\": [\"#636efa\", \"#EF553B\", \"#00cc96\", \"#ab63fa\", \"#FFA15A\", \"#19d3f3\", \"#FF6692\", \"#B6E880\", \"#FF97FF\", \"#FECB52\"], \"font\": {\"color\": \"#2a3f5f\"}, \"geo\": {\"bgcolor\": \"white\", \"lakecolor\": \"white\", \"landcolor\": \"#E5ECF6\", \"showlakes\": true, \"showland\": true, \"subunitcolor\": \"white\"}, \"hoverlabel\": {\"align\": \"left\"}, \"hovermode\": \"closest\", \"mapbox\": {\"style\": \"light\"}, \"paper_bgcolor\": \"white\", \"plot_bgcolor\": \"#E5ECF6\", \"polar\": {\"angularaxis\": {\"gridcolor\": \"white\", \"linecolor\": \"white\", \"ticks\": \"\"}, \"bgcolor\": \"#E5ECF6\", \"radialaxis\": {\"gridcolor\": \"white\", \"linecolor\": \"white\", \"ticks\": \"\"}}, \"scene\": {\"xaxis\": {\"backgroundcolor\": \"#E5ECF6\", \"gridcolor\": \"white\", \"gridwidth\": 2, \"linecolor\": \"white\", \"showbackground\": true, \"ticks\": \"\", \"zerolinecolor\": \"white\"}, \"yaxis\": {\"backgroundcolor\": \"#E5ECF6\", \"gridcolor\": \"white\", \"gridwidth\": 2, \"linecolor\": \"white\", \"showbackground\": true, \"ticks\": \"\", \"zerolinecolor\": \"white\"}, \"zaxis\": {\"backgroundcolor\": \"#E5ECF6\", \"gridcolor\": \"white\", \"gridwidth\": 2, \"linecolor\": \"white\", \"showbackground\": true, \"ticks\": \"\", \"zerolinecolor\": \"white\"}}, \"shapedefaults\": {\"line\": {\"color\": \"#2a3f5f\"}}, \"ternary\": {\"aaxis\": {\"gridcolor\": \"white\", \"linecolor\": \"white\", \"ticks\": \"\"}, \"baxis\": {\"gridcolor\": \"white\", \"linecolor\": \"white\", \"ticks\": \"\"}, \"bgcolor\": \"#E5ECF6\", \"caxis\": {\"gridcolor\": \"white\", \"linecolor\": \"white\", \"ticks\": \"\"}}, \"title\": {\"x\": 0.05}, \"xaxis\": {\"automargin\": true, \"gridcolor\": \"white\", \"linecolor\": \"white\", \"ticks\": \"\", \"title\": {\"standoff\": 15}, \"zerolinecolor\": \"white\", \"zerolinewidth\": 2}, \"yaxis\": {\"automargin\": true, \"gridcolor\": \"white\", \"linecolor\": \"white\", \"ticks\": \"\", \"title\": {\"standoff\": 15}, \"zerolinecolor\": \"white\", \"zerolinewidth\": 2}}}, \"title\": {\"font\": {\"size\": 26}, \"text\": \"Ramen Reviews in the USA\\n\"}, \"xaxis\": {\"anchor\": \"y\", \"domain\": [0.0, 1.0], \"title\": {\"font\": {\"size\": 20}, \"text\": \"\\nStar Reviews\"}}, \"yaxis\": {\"anchor\": \"x\", \"domain\": [0.0, 1.0], \"title\": {\"font\": {\"size\": 20}, \"text\": \"Total Number of Reviews\\n\"}}},                        {\"responsive\": true}                    ).then(function(){\n",
       "                            \n",
       "var gd = document.getElementById('11357fd9-7837-47aa-a9f4-8b977149d479');\n",
       "var x = new MutationObserver(function (mutations, observer) {{\n",
       "        var display = window.getComputedStyle(gd).display;\n",
       "        if (!display || display === 'none') {{\n",
       "            console.log([gd, 'removed!']);\n",
       "            Plotly.purge(gd);\n",
       "            observer.disconnect();\n",
       "        }}\n",
       "}});\n",
       "\n",
       "// Listen for the removal of the full notebook cells\n",
       "var notebookContainer = gd.closest('#notebook-container');\n",
       "if (notebookContainer) {{\n",
       "    x.observe(notebookContainer, {childList: true});\n",
       "}}\n",
       "\n",
       "// Listen for the clearing of the current output cell\n",
       "var outputEl = gd.closest('.output');\n",
       "if (outputEl) {{\n",
       "    x.observe(outputEl, {childList: true});\n",
       "}}\n",
       "\n",
       "                        })                };                });            </script>        </div>"
      ]
     },
     "metadata": {},
     "output_type": "display_data"
    }
   ],
   "source": [
    "ramen_star_dist = px.histogram(top_brands_USA,x='Stars',color='Country')\n",
    "ramen_star_dist.update_layout(title='Ramen Reviews in the USA\\n',\n",
    "                      title_font_size=26,\n",
    "                      xaxis_title='\\nStar Reviews',\n",
    "                      yaxis_title='Total Number of Reviews\\n',\n",
    "                      xaxis_title_font_size=20,\n",
    "                      yaxis_title_font_size=20,\n",
    "                      hoverlabel=dict(bgcolor='white'),\n",
    "                      showlegend=False\n",
    "                     )\n",
    "ramen_star_dist.update_traces(marker_color='tomato', marker_line_color='silver',marker_line_width=1.5, opacity=0.75)\n",
    "\n",
    "\n",
    "\n",
    "\n",
    "ramen_star_dist.show()\n",
    "ramen_star_dist.write_image('visualizations/reviews_usa.png')"
   ]
  },
  {
   "cell_type": "code",
   "execution_count": 296,
   "metadata": {},
   "outputs": [
    {
     "data": {
      "application/vnd.plotly.v1+json": {
       "config": {
        "plotlyServerURL": "https://plot.ly"
       },
       "data": [
        {
         "hovertemplate": "<b>%{hovertext}</b><br><br>Brand=Sun Noodle<br>Stars=%{x}<br>Review #=%{y}<extra></extra>",
         "hovertext": [
          "Ramen Pork Flavor",
          "Ramen Shoyu Flavor",
          "Ramen Miso Flavor",
          "Yakisoba",
          "Nama Soba Buckwheat Noodle",
          "Cold Ramen Soy Sauce Vinaigrette",
          "Tantanmen Spicy Sesame (Mild)"
         ],
         "legendgroup": "Sun Noodle",
         "marker": {
          "color": "#636efa",
          "symbol": "circle"
         },
         "mode": "markers",
         "name": "Sun Noodle",
         "orientation": "h",
         "showlegend": true,
         "type": "scatter",
         "x": [
          5,
          5,
          5,
          4.5,
          4,
          4,
          3.75
         ],
         "xaxis": "x",
         "y": [
          978,
          984,
          982,
          977,
          979,
          980,
          983
         ],
         "yaxis": "y"
        },
        {
         "hovertemplate": "<b>%{hovertext}</b><br><br>Brand=Nongshim<br>Stars=%{x}<br>Review #=%{y}<extra></extra>",
         "hovertext": [
          "Spicy Tonkotsu Noodle Soup",
          "Jinjja Jinjja Flamin' Hot & Nutty",
          "Shin Noodle Soup",
          "Arrabiata Rice Bucatini",
          "Kimchi Flavor Noodle Soup",
          "Soon Veggie Noodle Soup",
          "Shin Black Spicy Pot-au-feu Flavor Premium Noodle Soup",
          "Chapagetti",
          "Shin Black Spicy Po-Au-Feu Flavor (Mew Edition)",
          "Noodle Soup Seasoned With Real Kimchi",
          "Bowl Noodle Spicy Chicken (New)",
          "Bowl Noodle Spicy Chicken",
          "Shin Ramyun Noodle Soup (New Edition)",
          "Bowl Noodle Savory Chicken (New)",
          "Bowl Noodle Soup Spicy Seafood Flavor (New Version)",
          "Bowl Noodle Spicy Seafood",
          "Shin Bowl (New)",
          "Sir Long Tang Creamy Beef Noodle Soup",
          "Harmony Korean Spicy Noodle Dish With Chipotle",
          "Bowl Noodle Spicy Artificial Lobster",
          "Quick2 Hot & Spicy Noodle Soup With Habanero & Lime",
          "Bowl Noodle Soup Independence Day Limited Edition Spicy Chicken Flavor",
          "Bowl Noodle Savory Beef",
          "Bowl Noodle Savory Lobster (New)",
          "Bowl Noodle Spicy Kimchi (New)",
          "Ansungtangmyun (US Version)",
          "Bowl Noodle Hot & Spicy Beef (New)",
          "Bowl Noodle Savory Tempura Udon",
          "Bowl Noodle Beef Ginger",
          "Bowl Noodle Savory Chicken",
          "Bowl Noodle Cabbage Kimchi",
          "Bowl Noodle Soup Shrimp Habanero Lime Flavor",
          "Bowl Noodle Savory Shrimp (New)",
          "Bowl Noodle Spicy Shrimp",
          "Bowl Noodle Hot & Spicy"
         ],
         "legendgroup": "Nongshim",
         "marker": {
          "color": "#EF553B",
          "symbol": "circle"
         },
         "mode": "markers",
         "name": "Nongshim",
         "orientation": "h",
         "showlegend": true,
         "type": "scatter",
         "x": [
          5,
          5,
          5,
          5,
          5,
          5,
          5,
          5,
          5,
          4.75,
          4.5,
          4.5,
          4.25,
          4.25,
          4.25,
          4.25,
          4.25,
          4.25,
          4.25,
          4,
          4,
          4,
          4,
          3.75,
          3.75,
          3.75,
          3.5,
          3.5,
          3.5,
          3.25,
          3.25,
          3.25,
          3.25,
          2.5,
          2
         ],
         "xaxis": "x",
         "y": [
          1485,
          934,
          2248,
          2064,
          2098,
          1824,
          1178,
          872,
          1678,
          1969,
          792,
          200,
          1563,
          799,
          962,
          253,
          877,
          1366,
          1443,
          213,
          1622,
          2203,
          721,
          759,
          750,
          754,
          772,
          752,
          201,
          453,
          202,
          1503,
          782,
          204,
          203
         ],
         "yaxis": "y"
        },
        {
         "hovertemplate": "<b>%{hovertext}</b><br><br>Brand=Sapporo Ichiban<br>Stars=%{x}<br>Review #=%{y}<extra></extra>",
         "hovertext": [
          "Tonkotsu Ramen Artificially Flavored Tonkotsu White Chicken Broth",
          "Chow Mein (New)",
          "Beef Flavor",
          "Chicken Flavor",
          "Beef Flavorc",
          "Chicken Flavor",
          "Original Flavor",
          "Original Flavor",
          "Hot Spicy Chicken",
          "Shrimp Flavor"
         ],
         "legendgroup": "Sapporo Ichiban",
         "marker": {
          "color": "#00cc96",
          "symbol": "circle"
         },
         "mode": "markers",
         "name": "Sapporo Ichiban",
         "orientation": "h",
         "showlegend": true,
         "type": "scatter",
         "x": [
          5,
          5,
          4.5,
          3.75,
          3.5,
          3.5,
          3.5,
          3.5,
          2,
          1.75
         ],
         "xaxis": "x",
         "y": [
          1875,
          749,
          205,
          416,
          420,
          64,
          207,
          908,
          529,
          153
         ],
         "yaxis": "y"
        },
        {
         "hovertemplate": "<b>%{hovertext}</b><br><br>Brand=Yamachan<br>Stars=%{x}<br>Review #=%{y}<extra></extra>",
         "hovertext": [
          "Yokohama Tonkotsu Shoyu",
          "Mild Tonkotsu",
          "Miso Ramen Rich Sapporo Miso",
          "Tokyo Shoyu Ramen",
          "Sapporo Miso Ramen",
          "Tonkotsu-Shoyu Rich Pork Flavor Ramen",
          "Shio Ramen Seafood Mild",
          "Nagasaki Sara Udon Chicken ",
          "Cold Noodles With Lemon Soy Dressing",
          "Miso Ramen - Mild",
          "Rich Shoyu Ramen"
         ],
         "legendgroup": "Yamachan",
         "marker": {
          "color": "#ab63fa",
          "symbol": "circle"
         },
         "mode": "markers",
         "name": "Yamachan",
         "orientation": "h",
         "showlegend": true,
         "type": "scatter",
         "x": [
          5,
          5,
          5,
          5,
          4.75,
          4.75,
          4.5,
          4.25,
          4,
          4,
          4
         ],
         "xaxis": "x",
         "y": [
          2569,
          936,
          885,
          2563,
          2557,
          886,
          883,
          888,
          887,
          884,
          889
         ],
         "yaxis": "y"
        },
        {
         "hovertemplate": "<b>%{hovertext}</b><br><br>Brand=Dream Kitchen<br>Stars=%{x}<br>Review #=%{y}<extra></extra>",
         "hovertext": [
          "Curry Flavour Instant Noodles",
          "Soy Sauce",
          "Udon Japanese Style Fresh Noodle",
          "Tonkotsu"
         ],
         "legendgroup": "Dream Kitchen",
         "marker": {
          "color": "#FFA15A",
          "symbol": "circle"
         },
         "mode": "markers",
         "name": "Dream Kitchen",
         "orientation": "h",
         "showlegend": true,
         "type": "scatter",
         "x": [
          5,
          4,
          3.75,
          3
         ],
         "xaxis": "x",
         "y": [
          2262,
          2246,
          2431,
          2145
         ],
         "yaxis": "y"
        },
        {
         "hovertemplate": "<b>%{hovertext}</b><br><br>Brand=Myojo<br>Stars=%{x}<br>Review #=%{y}<extra></extra>",
         "hovertext": [
          "Japanese Style Noodles Shio Flavor",
          "Stir Fry Noodles Japanese Style Noodles With Sauce",
          "Udon Japanese Style Noodles With Soup Base Hot & Sour Flavor",
          "Udon Japanese Style Pre-Cooked Noodles With Soup Beef Flavor",
          "Udon Japanese Style Precooked Noodles With Soup Hot & Spicy Flavor",
          "Udon Japanese Style Pre-Cooked Noodles With Soup Chicken Flavor"
         ],
         "legendgroup": "Myojo",
         "marker": {
          "color": "#19d3f3",
          "symbol": "circle"
         },
         "mode": "markers",
         "name": "Myojo",
         "orientation": "h",
         "showlegend": true,
         "type": "scatter",
         "x": [
          5,
          4,
          3.75,
          3.25,
          3.25,
          2.5
         ],
         "xaxis": "x",
         "y": [
          1125,
          1046,
          2470,
          1821,
          1852,
          1741
         ],
         "yaxis": "y"
        },
        {
         "hovertemplate": "<b>%{hovertext}</b><br><br>Brand=Maruchan<br>Stars=%{x}<br>Review #=%{y}<extra></extra>",
         "hovertext": [
          "Bowl Taste Of Asia Beef Flavor Sukiyaki Ramen",
          "Instant Lunch Chipotle Chicken Flavor Ramen Noodle Soup",
          "Ramen Noodle Soup Creamy Chicken",
          "Bowl Hot & Spicy Shrimp Flavor Ramen Noodles With Vegetables",
          "Yakisoba Beef Taco Flavor",
          "Yakisoba Jalapeno Cheddar",
          "Bowl Chicken Flavor",
          "Instant Lunch Chicken Tortilla Flavor Ramen Noodles With Vegetables",
          "Ramen Noodle Soup Pork",
          "Bowl Hot & Spicy Chicken Flavor Ramen Noodles With Vegetables",
          "Ramen Noodle Soup Spicy Picante Chicken",
          "Yakisoba Cheddar Cheese",
          "Ramen Noodle Soup Sriracha Chicken Flavor",
          "Bowl Taste Of Asia Hearty Pork Flavor Tonkotsu Ramen",
          "Bowl Taste Of Asia Miso Chicken Flavor Spicy Miso Ramen",
          "Ramen Noodle soup Mushroom Flavor",
          "Yakisoba Roast chicken",
          "35% Less Sodium Chicken",
          "Ramen Noodle Soup Oriental",
          "Yakisoba Savory Soy Sauce",
          "Instant Lunch Shrimp",
          "Yakisoba Four Cheese",
          "Instant Lunch Sriracha Chicken Flavor Ramen Noodle Soup",
          "Instant Lunch California Vegetable Ramen Noodles With Vegetables",
          "Beef",
          "35% Less Sodium Beef",
          "35% Less Sodium Beef",
          "Instant Lunch Chicken",
          "Instant Lunch Jalapeno Cheddar Flavor Ramen Noodles",
          "Ramen Noodle Soup Chicken Mushroom",
          "Ramen Noodle Soup Beef",
          "Yakisoba Spicy Vegetable",
          "Instant Lunch Chicken 35% Less Sodium",
          "Ramen Noodle Soup Chicken Tortilla Flavor",
          "Yakisoba Sweet & Sour Chicken",
          "Instant Lunch Cajun Style With chili Piquin Shrimp",
          "Yakisoba Tomato Basil",
          "Instant Lunch Pork Flavor Ramen Noodles With Vegetables",
          "Ramen Noodle Soup Chili",
          "Ramen Noodle Soup Roast Beef",
          "Yakisoba Shrimp",
          "Instant Lunch Cheddar Cheese",
          "Instant Lunch Roast Chicken Flavor",
          "Instant Lunch Hot spicy Beef",
          "Instant Lunch Lime Flavor with Shrimp",
          "Yakisoba Chicken",
          "Ramen Noodle Soup Chicken",
          "Ramen Noodle Soup Lime Chili Shrimp",
          "Ramen Noodle Soup Shrimp",
          "Yakisoba Teriyaki Beef",
          "Yakisoba Spicy Chicken"
         ],
         "legendgroup": "Maruchan",
         "marker": {
          "color": "#FF6692",
          "symbol": "circle"
         },
         "mode": "markers",
         "name": "Maruchan",
         "orientation": "h",
         "showlegend": true,
         "type": "scatter",
         "x": [
          5,
          5,
          5,
          4.25,
          4.25,
          4,
          4,
          4,
          4,
          4,
          4,
          4,
          4,
          4,
          4,
          4,
          3.75,
          3.75,
          3.75,
          3.75,
          3.75,
          3.75,
          3.75,
          3.5,
          3.5,
          3.5,
          3.5,
          3.5,
          3.5,
          3.25,
          3.25,
          3.25,
          3,
          3,
          3,
          3,
          3,
          3,
          2.75,
          2.75,
          2.75,
          2.75,
          2.75,
          2.75,
          2.25,
          2,
          2,
          2,
          2,
          2,
          1.75
         ],
         "xaxis": "x",
         "y": [
          2072,
          2132,
          337,
          1039,
          1000,
          947,
          996,
          1698,
          66,
          1011,
          320,
          317,
          2227,
          2205,
          2142,
          2170,
          212,
          924,
          319,
          690,
          912,
          938,
          2053,
          1463,
          935,
          930,
          919,
          900,
          1444,
          470,
          600,
          736,
          354,
          2105,
          218,
          156,
          572,
          2147,
          352,
          356,
          496,
          388,
          216,
          440,
          403,
          215,
          104,
          67,
          34,
          214,
          612
         ],
         "yaxis": "y"
        },
        {
         "hovertemplate": "<b>%{hovertext}</b><br><br>Brand=Annie Chun's<br>Stars=%{x}<br>Review #=%{y}<extra></extra>",
         "hovertext": [
          "Ramen House Thai Coconut Ramen",
          "Soup Bowl South Korean Kimchi",
          "Soup Bowl Chinese Chicken",
          "Ramen House Chicken Vegetable Flavored Ramen",
          "Soup Bowl Vietnamese Pho",
          "Ramen House Spicy Chicken Ramen",
          "Ramen House Spring Vegetable Ramen",
          "Noodle Express Chinese Chow Mein",
          "Noodle Express Teriyaki",
          "Noodle Express Spicy Szechuan",
          "Teriyaki Noodle",
          "Soy Ginger Ramen"
         ],
         "legendgroup": "Annie Chun's",
         "marker": {
          "color": "#B6E880",
          "symbol": "circle"
         },
         "mode": "markers",
         "name": "Annie Chun's",
         "orientation": "h",
         "showlegend": true,
         "type": "scatter",
         "x": [
          5,
          4.5,
          4.25,
          4,
          4,
          4,
          4,
          3.75,
          3,
          2,
          1.75,
          1.5
         ],
         "xaxis": "x",
         "y": [
          1407,
          967,
          971,
          1246,
          969,
          973,
          966,
          965,
          968,
          970,
          476,
          526
         ],
         "yaxis": "y"
        },
        {
         "hovertemplate": "<b>%{hovertext}</b><br><br>Brand=Nissin<br>Stars=%{x}<br>Review #=%{y}<extra></extra>",
         "hovertext": [
          "Raoh Ramen Noodle Soup Umami Tonkotsu Flavor",
          "Cup Noodles Very Veggie Spicy Chicken Flavor Ramen Noodle Soup",
          "Cup Noodles Very Veggie Beef Flavor Ramen Noodle Soup",
          "Cup Noodles Very Veggie Chicken Flavor Ramen Noodle Soup",
          "Raoh Ramen Noodle Soup Umami Soy Sauce Flavor",
          "Top Ramen Cucharealo Picante Chicken",
          "Chow Mein Teriyaki Beef",
          "Raoh Ramen Noodle Soup Umami Miso Flavor",
          "Chow Mein Savory Sauce And Restayrant Quality Noodles Roast Chicken Flavor ",
          "Top Ramen Creamy Chicken",
          "Chow Mein Spicy Teriyaki Beef",
          "Top Ramen Short Cuts Roast Chicken",
          "Chow Mein Premium Savory Sauce And Restaurant Quality Noodles Sriracha Flavor",
          "Cup Noodles Ramen Noodle Soup Hearty Chicken Flavor [New Package]",
          "Original Chow Mein Premium Spicy Chicken Flavor",
          "Cup Noodles Chicken Flavor Ramen Noodle Soup (New Recipe)",
          "Chow Noodles Cheddar Cheese",
          "Chow Noodles Tomato Basil",
          "Cup Noodles Spicy Chile Chicken (New Recipe)",
          "Cup Noodles Spicy Lime Flavor Ramen Noodle Soup (New Recipe)",
          "Top Ramen Short Cuts Chicken",
          "Spoon-it Creamy Chicken",
          "Bowl Noodles Hot & Spicy Chicken Flavor Less Sodium Ramen Noodle Soup",
          "Chow Mein Chinese Chicken Vegetable",
          "Big Cup Noodles Lime Chili Shrimp",
          "Chow Mein Orange Chicken",
          "Bowl Noodles Hot & Spicy Beef",
          "Chow Noodles Alfredo",
          "Bowl Noodles Rich & Savory Beef",
          "Top Ramen Beef",
          "Ramen Bowl Hot & Spicy",
          "Top Ramen Short Cuts Lime Chili",
          "Top Ramen Cucharealo Habanero Shrimp",
          "Chow Mein With Shrimp Chow Mein Noodles",
          "Chow Mein Teriyaki Chicken Flavor Chow Mein Noodles",
          "Pan Asian Kitchen Sweet & Sour Chicken Flavor Ramen Noodles",
          "Pan Asian Kitchen Sukiyaki Beef Flavor Savory Soy Sauce Ramen Noodles",
          "Cup Noodles Ramen Noodles Ramen Noodle Soup Beef Flavor (New Package) ",
          "Top Ramen Short Cuts Beef",
          "Top Ramen Cucharealo Tomato Chicken",
          "Cup Noodles Beef Flavor Ramen Noodle Soup (New Recipe)",
          "Cup Noodles Ramen Noodles With Shrimp (New Package) ",
          "Spoon-it Chicken",
          "Cup Noodles Homestyle Chicken",
          "Cup Noodles Shrimp",
          "Big Cup Noodles Spicy Chicken",
          "Cup Noodles Ramen Noodle Soup Chicken Flavor [New Package]",
          "Cup Noodles Spicy Chile Chicken",
          "Spoon-it Rich Hearty Beef Stew",
          "Top Ramen Chicken Flavor Ramen Noodle Soup (New Packaging)",
          "Souper Meal Tomato Garlic Shrimp",
          "Cup Noodles Salsa Picante Shrimp",
          "Cup Noodles Beef",
          "Big Cup Noodles Habanero Lime Shrimp Flavor Ramen Noodle Soup",
          "Cup Noodles Chicken",
          "Bowl Noodles Hot & Spicy Shrimp",
          "Chow Mein Chicken",
          "Souper Meal Chili Picante Chicken With Lime Flavor Ramen Noodle Soup",
          "Big Cup Noodles Habanero Lime Chicken Flavor Ramen Noodle Soup",
          "Cup Noodles Easy Fideos Tomato Chicken Flavor Ramen Noodle Soup",
          "Easy Fideos Picante Lime Shrimp Flavor Ramen Noodle Soup",
          "Top Ramen Shrimp",
          "Bowl Noodles Chicken Flavor",
          "Spoon-it Rich Hearty Savory Chicken",
          "Top Ramen Chicken",
          "Chow Mein Spicy Chicken",
          "Cup Noodles Shrimp Picante Style",
          "Bowl Noodles Hot & Spicy Super Picante",
          "Ramen Bowl Spicy Chicken",
          "Top Ramen Chili",
          "Big Cup Noodles Roast Chicken",
          "Spoon-it Beef",
          "Cup Noodles With Shrimp Ramen Noodle Soup (New Recipe)",
          "Top Ramen Picante Beef",
          "Souper Meal Beef Flavor Minestrone",
          "Ramen Bowl Kimchi",
          "Chow Mein Pad Thai",
          "Ramen Bowl Spicy Shrimp",
          "Cup Noodles Salsa Picante Chicken",
          "Pan Asian Kitchen Spicy Szechuan Chicken Flavor Ramen Noodles",
          "Cup Noodles Chicken Vegetable",
          "Pan Asian Kitchen Spicy Pad Thai",
          "Souper Meal Picante Shrimp Hot Spicy",
          "Cup Noodles Hearty Chicken",
          "Cup Noodles Hot & Spicy Shrimp Flavor Ramen Noodle Soup (New Recipe)",
          "Chow Mein Thai Peanut",
          "Top Ramen Oriental",
          "Cup Noodles Chicken Vegetable",
          "Big Cup Noodles Shrimp",
          "Big Cup Noodles Chicken",
          "Big Cup Noodles Beef",
          "Bowl Noodles Hot & Spicy Chicken",
          "Bowl Noodles Rich & Savory Chicken",
          "Creamy Chicken",
          "Chow Mein Kung Pao Chicken"
         ],
         "legendgroup": "Nissin",
         "marker": {
          "color": "#FF97FF",
          "symbol": "circle"
         },
         "mode": "markers",
         "name": "Nissin",
         "orientation": "h",
         "showlegend": true,
         "type": "scatter",
         "x": [
          5,
          5,
          5,
          5,
          4.75,
          4.5,
          4.5,
          4.5,
          4.5,
          4.5,
          4.5,
          4.25,
          4.25,
          4.25,
          4,
          4,
          4,
          4,
          4,
          4,
          4,
          4,
          4,
          4,
          4,
          4,
          3.75,
          3.75,
          3.75,
          3.75,
          3.75,
          3.75,
          3.75,
          3.75,
          3.75,
          3.75,
          3.75,
          3.5,
          3.5,
          3.5,
          3.5,
          3.5,
          3.5,
          3.5,
          3.5,
          3.5,
          3.5,
          3.5,
          3.5,
          3.5,
          3.5,
          3.5,
          3.5,
          3.5,
          3.5,
          3.5,
          3.5,
          3.5,
          3.5,
          3.5,
          3.5,
          3.5,
          3.5,
          3.25,
          3.25,
          3.25,
          3.25,
          3.25,
          3.25,
          3.25,
          3.25,
          3.25,
          3,
          3,
          3,
          3,
          3,
          3,
          3,
          3,
          2.75,
          2.75,
          2.75,
          2.5,
          2.5,
          2.5,
          2.5,
          2.25,
          2.25,
          2.25,
          2.125,
          2,
          1.75,
          1.75,
          1.5
         ],
         "xaxis": "x",
         "y": [
          1864,
          2541,
          2538,
          2535,
          1955,
          837,
          142,
          1850,
          1846,
          23,
          1003,
          862,
          1786,
          1951,
          1597,
          2239,
          226,
          238,
          2298,
          2327,
          850,
          713,
          1926,
          704,
          701,
          698,
          359,
          371,
          387,
          221,
          656,
          878,
          911,
          1165,
          1253,
          1225,
          1115,
          1802,
          843,
          849,
          2383,
          1765,
          747,
          1891,
          256,
          696,
          1921,
          268,
          703,
          1968,
          350,
          699,
          257,
          1130,
          265,
          260,
          1045,
          1441,
          1016,
          1479,
          1497,
          462,
          1196,
          697,
          540,
          709,
          769,
          960,
          717,
          353,
          760,
          719,
          2276,
          351,
          209,
          667,
          1910,
          659,
          783,
          1422,
          373,
          990,
          465,
          360,
          2379,
          379,
          65,
          2578,
          333,
          338,
          334,
          183,
          137,
          154,
          263
         ],
         "yaxis": "y"
        },
        {
         "hovertemplate": "<b>%{hovertext}</b><br><br>Brand=Daifuku<br>Stars=%{x}<br>Review #=%{y}<extra></extra>",
         "hovertext": [
          "Katsuo Bowl Udon"
         ],
         "legendgroup": "Daifuku",
         "marker": {
          "color": "#FECB52",
          "symbol": "circle"
         },
         "mode": "markers",
         "name": "Daifuku",
         "orientation": "h",
         "showlegend": true,
         "type": "scatter",
         "x": [
          5
         ],
         "xaxis": "x",
         "y": [
          2460
         ],
         "yaxis": "y"
        },
        {
         "hovertemplate": "<b>%{hovertext}</b><br><br>Brand=Komforte Chockolates<br>Stars=%{x}<br>Review #=%{y}<extra></extra>",
         "hovertext": [
          "Savory Ramen "
         ],
         "legendgroup": "Komforte Chockolates",
         "marker": {
          "color": "#636efa",
          "symbol": "circle"
         },
         "mode": "markers",
         "name": "Komforte Chockolates",
         "orientation": "h",
         "showlegend": true,
         "type": "scatter",
         "x": [
          5
         ],
         "xaxis": "x",
         "y": [
          1155
         ],
         "yaxis": "y"
        },
        {
         "hovertemplate": "<b>%{hovertext}</b><br><br>Brand=Jackpot Teriyaki<br>Stars=%{x}<br>Review #=%{y}<extra></extra>",
         "hovertext": [
          "Beef Ramen"
         ],
         "legendgroup": "Jackpot Teriyaki",
         "marker": {
          "color": "#EF553B",
          "symbol": "circle"
         },
         "mode": "markers",
         "name": "Jackpot Teriyaki",
         "orientation": "h",
         "showlegend": true,
         "type": "scatter",
         "x": [
          5
         ],
         "xaxis": "x",
         "y": [
          2559
         ],
         "yaxis": "y"
        },
        {
         "hovertemplate": "<b>%{hovertext}</b><br><br>Brand=Goku-Uma<br>Stars=%{x}<br>Review #=%{y}<extra></extra>",
         "hovertext": [
          "Yakisoba Japanese Style Noodle",
          "Ramen Noodles Miso Flavor",
          "Ramen Noodles Soy Sauce Flavor",
          "Ramen Noodles Artificially Flavored Tonkotsu"
         ],
         "legendgroup": "Goku-Uma",
         "marker": {
          "color": "#00cc96",
          "symbol": "circle"
         },
         "mode": "markers",
         "name": "Goku-Uma",
         "orientation": "h",
         "showlegend": true,
         "type": "scatter",
         "x": [
          4.75,
          3,
          3,
          3
         ],
         "xaxis": "x",
         "y": [
          2403,
          2315,
          2277,
          2256
         ],
         "yaxis": "y"
        },
        {
         "hovertemplate": "<b>%{hovertext}</b><br><br>Brand=Chikara<br>Stars=%{x}<br>Review #=%{y}<extra></extra>",
         "hovertext": [
          "Shrimp Udon"
         ],
         "legendgroup": "Chikara",
         "marker": {
          "color": "#ab63fa",
          "symbol": "circle"
         },
         "mode": "markers",
         "name": "Chikara",
         "orientation": "h",
         "showlegend": true,
         "type": "scatter",
         "x": [
          4.5
         ],
         "xaxis": "x",
         "y": [
          425
         ],
         "yaxis": "y"
        },
        {
         "hovertemplate": "<b>%{hovertext}</b><br><br>Brand=Tasty Bite<br>Stars=%{x}<br>Review #=%{y}<extra></extra>",
         "hovertext": [
          "1 Step-1 Minute Asian Noodles Kung Pao",
          "1 Step-1 Minute Asian Noodles Mushroom Lo Mein",
          "1 Step-1 Minute Asian Noodles Toasted Sesame",
          "1 Step-1 Minute Asian Noodles Thai Basil",
          "1 Step-1 Minute Asian Noodles Lemongrass Ginger",
          "1 Step-1 Minute Asian Noodles Pad Thai"
         ],
         "legendgroup": "Tasty Bite",
         "marker": {
          "color": "#FFA15A",
          "symbol": "circle"
         },
         "mode": "markers",
         "name": "Tasty Bite",
         "orientation": "h",
         "showlegend": true,
         "type": "scatter",
         "x": [
          4.25,
          4,
          4,
          3.75,
          3.75,
          3.5
         ],
         "xaxis": "x",
         "y": [
          1065,
          1064,
          1061,
          1063,
          1062,
          1066
         ],
         "yaxis": "y"
        },
        {
         "hovertemplate": "<b>%{hovertext}</b><br><br>Brand=Thai Kitchen<br>Stars=%{x}<br>Review #=%{y}<extra></extra>",
         "hovertext": [
          "Rice Noodle Cart Sweet Citrus Ginger",
          "Thai Ginger Rice Noodle",
          "Spring Onion Rice Noodle",
          "Roasted Garlic Rice Noodle",
          "Spring Onion Rice Noodle",
          "Garlic Vegetable Rice Noodle",
          "Mushroom Rice Noodle",
          "Rice Noodle Cart Thai Peanut",
          "Bangkok Curry Rice Noodle",
          "Lemongrass Chili Rice Noodle"
         ],
         "legendgroup": "Thai Kitchen",
         "marker": {
          "color": "#19d3f3",
          "symbol": "circle"
         },
         "mode": "markers",
         "name": "Thai Kitchen",
         "orientation": "h",
         "showlegend": true,
         "type": "scatter",
         "x": [
          4.25,
          4.25,
          3.75,
          3.75,
          3.75,
          3.5,
          3.25,
          3,
          2.75,
          1.5
         ],
         "xaxis": "x",
         "y": [
          1284,
          517,
          472,
          481,
          595,
          761,
          480,
          1310,
          664,
          596
         ],
         "yaxis": "y"
        },
        {
         "hovertemplate": "<b>%{hovertext}</b><br><br>Brand=Sakura Noodle<br>Stars=%{x}<br>Review #=%{y}<extra></extra>",
         "hovertext": [
          "Chikara Brand Udon Beef Flavor",
          "Chikara Brand Udon Hot & Spicy Flavor",
          "Chikara Brand Udon Mushroom Flavor",
          "Chikara Brand Udon Oriental Flavor",
          "Chikara Brand Udon Chicken Flavor"
         ],
         "legendgroup": "Sakura Noodle",
         "marker": {
          "color": "#FF6692",
          "symbol": "circle"
         },
         "mode": "markers",
         "name": "Sakura Noodle",
         "orientation": "h",
         "showlegend": true,
         "type": "scatter",
         "x": [
          4.25,
          4,
          3.75,
          3.75,
          3.75
         ],
         "xaxis": "x",
         "y": [
          1337,
          1335,
          1334,
          1333,
          1332
         ],
         "yaxis": "y"
        },
        {
         "hovertemplate": "<b>%{hovertext}</b><br><br>Brand=Snapdragon<br>Stars=%{x}<br>Review #=%{y}<extra></extra>",
         "hovertext": [
          "Singapore Laksa Curry Soup Bowl"
         ],
         "legendgroup": "Snapdragon",
         "marker": {
          "color": "#B6E880",
          "symbol": "circle"
         },
         "mode": "markers",
         "name": "Snapdragon",
         "orientation": "h",
         "showlegend": true,
         "type": "scatter",
         "x": [
          4.25
         ],
         "xaxis": "x",
         "y": [
          1395
         ],
         "yaxis": "y"
        },
        {
         "hovertemplate": "<b>%{hovertext}</b><br><br>Brand=Thai Pavilion<br>Stars=%{x}<br>Review #=%{y}<extra></extra>",
         "hovertext": [
          "spicy Pad Thai Instant Noodles & Sauce",
          "Garlic Chili Instant Rice Noodles & Sauce",
          "Pad Thai Instant rice Noodles & Sauce"
         ],
         "legendgroup": "Thai Pavilion",
         "marker": {
          "color": "#FF97FF",
          "symbol": "circle"
         },
         "mode": "markers",
         "name": "Thai Pavilion",
         "orientation": "h",
         "showlegend": true,
         "type": "scatter",
         "x": [
          4.25,
          4,
          1.5
         ],
         "xaxis": "x",
         "y": [
          1117,
          1242,
          1544
         ],
         "yaxis": "y"
        },
        {
         "hovertemplate": "<b>%{hovertext}</b><br><br>Brand=Lotus Foods<br>Stars=%{x}<br>Review #=%{y}<extra></extra>",
         "hovertext": [
          "Millet & Brown Rice Ramen",
          "Jade Pearl Rice Ramen",
          "Forbidden Rice Ramen"
         ],
         "legendgroup": "Lotus Foods",
         "marker": {
          "color": "#FECB52",
          "symbol": "circle"
         },
         "mode": "markers",
         "name": "Lotus Foods",
         "orientation": "h",
         "showlegend": true,
         "type": "scatter",
         "x": [
          4,
          3.25,
          2.25
         ],
         "xaxis": "x",
         "y": [
          1344,
          1343,
          1345
         ],
         "yaxis": "y"
        },
        {
         "hovertemplate": "<b>%{hovertext}</b><br><br>Brand=Miracle Noodle<br>Stars=%{x}<br>Review #=%{y}<extra></extra>",
         "hovertext": [
          "Miso Marvellous Soup"
         ],
         "legendgroup": "Miracle Noodle",
         "marker": {
          "color": "#636efa",
          "symbol": "circle"
         },
         "mode": "markers",
         "name": "Miracle Noodle",
         "orientation": "h",
         "showlegend": true,
         "type": "scatter",
         "x": [
          4
         ],
         "xaxis": "x",
         "y": [
          1392
         ],
         "yaxis": "y"
        },
        {
         "hovertemplate": "<b>%{hovertext}</b><br><br>Brand=Fu Chang Chinese Noodle Company<br>Stars=%{x}<br>Review #=%{y}<extra></extra>",
         "hovertext": [
          "Hot & Spicy Beef"
         ],
         "legendgroup": "Fu Chang Chinese Noodle Company",
         "marker": {
          "color": "#EF553B",
          "symbol": "circle"
         },
         "mode": "markers",
         "name": "Fu Chang Chinese Noodle Company",
         "orientation": "h",
         "showlegend": true,
         "type": "scatter",
         "x": [
          4
         ],
         "xaxis": "x",
         "y": [
          241
         ],
         "yaxis": "y"
        },
        {
         "hovertemplate": "<b>%{hovertext}</b><br><br>Brand=Gefen<br>Stars=%{x}<br>Review #=%{y}<extra></extra>",
         "hovertext": [
          "Imitation Chicken Flavor",
          "Chicken",
          "Vegetable",
          "Imitation Chicken Vegetarian"
         ],
         "legendgroup": "Gefen",
         "marker": {
          "color": "#00cc96",
          "symbol": "circle"
         },
         "mode": "markers",
         "name": "Gefen",
         "orientation": "h",
         "showlegend": true,
         "type": "scatter",
         "x": [
          4,
          3.5,
          3.25,
          3
         ],
         "xaxis": "x",
         "y": [
          2389,
          469,
          475,
          459
         ],
         "yaxis": "y"
        },
        {
         "hovertemplate": "<b>%{hovertext}</b><br><br>Brand=S&S<br>Stars=%{x}<br>Review #=%{y}<extra></extra>",
         "hovertext": [
          "Saimin"
         ],
         "legendgroup": "S&S",
         "marker": {
          "color": "#ab63fa",
          "symbol": "circle"
         },
         "mode": "markers",
         "name": "S&S",
         "orientation": "h",
         "showlegend": true,
         "type": "scatter",
         "x": [
          4
         ],
         "xaxis": "x",
         "y": [
          981
         ],
         "yaxis": "y"
        },
        {
         "hovertemplate": "<b>%{hovertext}</b><br><br>Brand=IbuRamen<br>Stars=%{x}<br>Review #=%{y}<extra></extra>",
         "hovertext": [
          "Mi Goreng Bento Noodles In A Box Curry Masala Flavour",
          "Mi Goreng Bento Noodles In A Box Shallot Teriyaki Flavor",
          "Mi Goreng Bento Noodles In A Box Hot Sweet & Sour Flavor"
         ],
         "legendgroup": "IbuRamen",
         "marker": {
          "color": "#FFA15A",
          "symbol": "circle"
         },
         "mode": "markers",
         "name": "IbuRamen",
         "orientation": "h",
         "showlegend": true,
         "type": "scatter",
         "x": [
          4,
          3.25,
          0.25
         ],
         "xaxis": "x",
         "y": [
          1958,
          1857,
          1917
         ],
         "yaxis": "y"
        },
        {
         "hovertemplate": "<b>%{hovertext}</b><br><br>Brand=Tradition<br>Stars=%{x}<br>Review #=%{y}<extra></extra>",
         "hovertext": [
          "Imitation Chicken Vegetarian",
          "Imitation Chicken Vegetarian",
          "Vegetable Instant Noodle soup",
          "Oriental Style Ramen Noodle Soup",
          "Imitation Beef"
         ],
         "legendgroup": "Tradition",
         "marker": {
          "color": "#19d3f3",
          "symbol": "circle"
         },
         "mode": "markers",
         "name": "Tradition",
         "orientation": "h",
         "showlegend": true,
         "type": "scatter",
         "x": [
          3.75,
          3.75,
          3.25,
          2.75,
          2.5
         ],
         "xaxis": "x",
         "y": [
          308,
          859,
          905,
          1015,
          515
         ],
         "yaxis": "y"
        },
        {
         "hovertemplate": "<b>%{hovertext}</b><br><br>Brand=Hosoonyi<br>Stars=%{x}<br>Review #=%{y}<extra></extra>",
         "hovertext": [
          "Naengmyeon Combo"
         ],
         "legendgroup": "Hosoonyi",
         "marker": {
          "color": "#FF6692",
          "symbol": "circle"
         },
         "mode": "markers",
         "name": "Hosoonyi",
         "orientation": "h",
         "showlegend": true,
         "type": "scatter",
         "x": [
          3.75
         ],
         "xaxis": "x",
         "y": [
          748
         ],
         "yaxis": "y"
        },
        {
         "hovertemplate": "<b>%{hovertext}</b><br><br>Brand=Mama Pat's<br>Stars=%{x}<br>Review #=%{y}<extra></extra>",
         "hovertext": [
          "Chicken Fajita Flavor Instant Ramen Noodles",
          "Lamb Stew Flavor Instant Ramen Noodles",
          "Chicken Taco Flavor Instant Ramen Noodles",
          "Seafood Gumbo Flavor Instant Ramen Noodles"
         ],
         "legendgroup": "Mama Pat's",
         "marker": {
          "color": "#B6E880",
          "symbol": "circle"
         },
         "mode": "markers",
         "name": "Mama Pat's",
         "orientation": "h",
         "showlegend": true,
         "type": "scatter",
         "x": [
          3.75,
          3.75,
          3.75,
          3.5
         ],
         "xaxis": "x",
         "y": [
          2411,
          2410,
          2408,
          2409
         ],
         "yaxis": "y"
        },
        {
         "hovertemplate": "<b>%{hovertext}</b><br><br>Brand=Farmer's Heart<br>Stars=%{x}<br>Review #=%{y}<extra></extra>",
         "hovertext": [
          "Pho Beef Flavor Vietnamese Rice Noodle Soup"
         ],
         "legendgroup": "Farmer's Heart",
         "marker": {
          "color": "#FF97FF",
          "symbol": "circle"
         },
         "mode": "markers",
         "name": "Farmer's Heart",
         "orientation": "h",
         "showlegend": true,
         "type": "scatter",
         "x": [
          3.75
         ],
         "xaxis": "x",
         "y": [
          2259
         ],
         "yaxis": "y"
        },
        {
         "hovertemplate": "<b>%{hovertext}</b><br><br>Brand=Shirakiku<br>Stars=%{x}<br>Review #=%{y}<extra></extra>",
         "hovertext": [
          "Fresh Chow Mein Noodles With Seasoning",
          "Sanukiya Udon Shrimp Flavor",
          "Hot & Spicy Udon",
          "Karami Ramen Spicy Chili Flavour Japanese Style Noodle With Soup Base"
         ],
         "legendgroup": "Shirakiku",
         "marker": {
          "color": "#FECB52",
          "symbol": "circle"
         },
         "mode": "markers",
         "name": "Shirakiku",
         "orientation": "h",
         "showlegend": true,
         "type": "scatter",
         "x": [
          3.75,
          3.25,
          3,
          2
         ],
         "xaxis": "x",
         "y": [
          1336,
          2412,
          920,
          2267
         ],
         "yaxis": "y"
        },
        {
         "hovertemplate": "<b>%{hovertext}</b><br><br>Brand=Osaka Ramen<br>Stars=%{x}<br>Review #=%{y}<extra></extra>",
         "hovertext": [
          "Miso Ramen"
         ],
         "legendgroup": "Osaka Ramen",
         "marker": {
          "color": "#636efa",
          "symbol": "circle"
         },
         "mode": "markers",
         "name": "Osaka Ramen",
         "orientation": "h",
         "showlegend": true,
         "type": "scatter",
         "x": [
          3.75
         ],
         "xaxis": "x",
         "y": [
          1427
         ],
         "yaxis": "y"
        },
        {
         "hovertemplate": "<b>%{hovertext}</b><br><br>Brand=Star Anise Foods<br>Stars=%{x}<br>Review #=%{y}<extra></extra>",
         "hovertext": [
          "Happy Pho Vietnamese Brown Rice Noodle Soup Garlic Goodness"
         ],
         "legendgroup": "Star Anise Foods",
         "marker": {
          "color": "#EF553B",
          "symbol": "circle"
         },
         "mode": "markers",
         "name": "Star Anise Foods",
         "orientation": "h",
         "showlegend": true,
         "type": "scatter",
         "x": [
          3.75
         ],
         "xaxis": "x",
         "y": [
          1060
         ],
         "yaxis": "y"
        },
        {
         "hovertemplate": "<b>%{hovertext}</b><br><br>Brand=Fortune<br>Stars=%{x}<br>Review #=%{y}<extra></extra>",
         "hovertext": [
          "Udon Beef",
          "Udon Chicken",
          "Udon Mushroom",
          "Rice Noodle Coconut Curry"
         ],
         "legendgroup": "Fortune",
         "marker": {
          "color": "#00cc96",
          "symbol": "circle"
         },
         "mode": "markers",
         "name": "Fortune",
         "orientation": "h",
         "showlegend": true,
         "type": "scatter",
         "x": [
          3.5,
          3.25,
          3,
          1
         ],
         "xaxis": "x",
         "y": [
          251,
          252,
          278,
          1936
         ],
         "yaxis": "y"
        },
        {
         "hovertemplate": "<b>%{hovertext}</b><br><br>Brand=Thai Smile<br>Stars=%{x}<br>Review #=%{y}<extra></extra>",
         "hovertext": [
          "Garlic Rice Noodle Soup Bowl",
          "Spring Onion Rice Noodle Soup Bowl",
          "Mushroom Rice Noodle Soup Bowl"
         ],
         "legendgroup": "Thai Smile",
         "marker": {
          "color": "#ab63fa",
          "symbol": "circle"
         },
         "mode": "markers",
         "name": "Thai Smile",
         "orientation": "h",
         "showlegend": true,
         "type": "scatter",
         "x": [
          3.5,
          2.5,
          0
         ],
         "xaxis": "x",
         "y": [
          1753,
          1799,
          1913
         ],
         "yaxis": "y"
        },
        {
         "hovertemplate": "<b>%{hovertext}</b><br><br>Brand=Pringles<br>Stars=%{x}<br>Review #=%{y}<extra></extra>",
         "hovertext": [
          "Nissin Top Ramen Chicken Flavor Potato Crisps "
         ],
         "legendgroup": "Pringles",
         "marker": {
          "color": "#FFA15A",
          "symbol": "circle"
         },
         "mode": "markers",
         "name": "Pringles",
         "orientation": "h",
         "showlegend": true,
         "type": "scatter",
         "x": [
          3.5
         ],
         "xaxis": "x",
         "y": [
          2513
         ],
         "yaxis": "y"
        },
        {
         "hovertemplate": "<b>%{hovertext}</b><br><br>Brand=Koyo<br>Stars=%{x}<br>Review #=%{y}<extra></extra>",
         "hovertext": [
          "Garlic Pepper",
          "Seaweed Ramen Made With Organic Noodles",
          "Mushroom",
          "Tofu & Miso",
          "Lemongrass ginger",
          "Asian Vegetable",
          "Garlic Pepper Reduced Sodium Ramen"
         ],
         "legendgroup": "Koyo",
         "marker": {
          "color": "#19d3f3",
          "symbol": "circle"
         },
         "mode": "markers",
         "name": "Koyo",
         "orientation": "h",
         "showlegend": true,
         "type": "scatter",
         "x": [
          3.25,
          2.75,
          2.75,
          2.5,
          1.5,
          1.5,
          0
         ],
         "xaxis": "x",
         "y": [
          166,
          1172,
          581,
          582,
          471,
          454,
          2056
         ],
         "yaxis": "y"
        },
        {
         "hovertemplate": "<b>%{hovertext}</b><br><br>Brand=Mexi-Ramen<br>Stars=%{x}<br>Review #=%{y}<extra></extra>",
         "hovertext": [
          "Soupless Ramen Shallot Teriyaki"
         ],
         "legendgroup": "Mexi-Ramen",
         "marker": {
          "color": "#FF6692",
          "symbol": "circle"
         },
         "mode": "markers",
         "name": "Mexi-Ramen",
         "orientation": "h",
         "showlegend": true,
         "type": "scatter",
         "x": [
          2.5
         ],
         "xaxis": "x",
         "y": [
          500
         ],
         "yaxis": "y"
        },
        {
         "hovertemplate": "<b>%{hovertext}</b><br><br>Brand=Teriyaki Time<br>Stars=%{x}<br>Review #=%{y}<extra></extra>",
         "hovertext": [
          "Ramen"
         ],
         "legendgroup": "Teriyaki Time",
         "marker": {
          "color": "#B6E880",
          "symbol": "circle"
         },
         "mode": "markers",
         "name": "Teriyaki Time",
         "orientation": "h",
         "showlegend": true,
         "type": "scatter",
         "x": [
          2
         ],
         "xaxis": "x",
         "y": [
          108
         ],
         "yaxis": "y"
        },
        {
         "hovertemplate": "<b>%{hovertext}</b><br><br>Brand=Right Foods<br>Stars=%{x}<br>Review #=%{y}<extra></extra>",
         "hovertext": [
          "Dr. McDougall's Vegan Chicken Ramen"
         ],
         "legendgroup": "Right Foods",
         "marker": {
          "color": "#FF97FF",
          "symbol": "circle"
         },
         "mode": "markers",
         "name": "Right Foods",
         "orientation": "h",
         "showlegend": true,
         "type": "scatter",
         "x": [
          1.75
         ],
         "xaxis": "x",
         "y": [
          946
         ],
         "yaxis": "y"
        },
        {
         "hovertemplate": "<b>%{hovertext}</b><br><br>Brand=Lipton<br>Stars=%{x}<br>Review #=%{y}<extra></extra>",
         "hovertext": [
          "Cup-A-Soup Chicken Noodle With White Meat Instant Soup"
         ],
         "legendgroup": "Lipton",
         "marker": {
          "color": "#FECB52",
          "symbol": "circle"
         },
         "mode": "markers",
         "name": "Lipton",
         "orientation": "h",
         "showlegend": true,
         "type": "scatter",
         "x": [
          1.5
         ],
         "xaxis": "x",
         "y": [
          2544
         ],
         "yaxis": "y"
        },
        {
         "hovertemplate": "<b>%{hovertext}</b><br><br>Brand=Smack<br>Stars=%{x}<br>Review #=%{y}<extra></extra>",
         "hovertext": [
          "Vegetable Beef"
         ],
         "legendgroup": "Smack",
         "marker": {
          "color": "#636efa",
          "symbol": "circle"
         },
         "mode": "markers",
         "name": "Smack",
         "orientation": "h",
         "showlegend": true,
         "type": "scatter",
         "x": [
          1.5
         ],
         "xaxis": "x",
         "y": [
          10
         ],
         "yaxis": "y"
        },
        {
         "hovertemplate": "<b>%{hovertext}</b><br><br>Brand=Tayho<br>Stars=%{x}<br>Review #=%{y}<extra></extra>",
         "hovertext": [
          "Vermicelli With Pork"
         ],
         "legendgroup": "Tayho",
         "marker": {
          "color": "#EF553B",
          "symbol": "circle"
         },
         "mode": "markers",
         "name": "Tayho",
         "orientation": "h",
         "showlegend": true,
         "type": "scatter",
         "x": [
          1.25
         ],
         "xaxis": "x",
         "y": [
          361
         ],
         "yaxis": "y"
        },
        {
         "hovertemplate": "<b>%{hovertext}</b><br><br>Brand=Authentically Asian<br>Stars=%{x}<br>Review #=%{y}<extra></extra>",
         "hovertext": [
          "Natural Quality Foods Pad Thai Noodle Bowl"
         ],
         "legendgroup": "Authentically Asian",
         "marker": {
          "color": "#00cc96",
          "symbol": "circle"
         },
         "mode": "markers",
         "name": "Authentically Asian",
         "orientation": "h",
         "showlegend": true,
         "type": "scatter",
         "x": [
          1
         ],
         "xaxis": "x",
         "y": [
          1761
         ],
         "yaxis": "y"
        },
        {
         "hovertemplate": "<b>%{hovertext}</b><br><br>Brand=Westbrae<br>Stars=%{x}<br>Review #=%{y}<extra></extra>",
         "hovertext": [
          "Miso Ramen"
         ],
         "legendgroup": "Westbrae",
         "marker": {
          "color": "#ab63fa",
          "symbol": "circle"
         },
         "mode": "markers",
         "name": "Westbrae",
         "orientation": "h",
         "showlegend": true,
         "type": "scatter",
         "x": [
          0.5
         ],
         "xaxis": "x",
         "y": [
          1
         ],
         "yaxis": "y"
        },
        {
         "hovertemplate": "<b>%{hovertext}</b><br><br>Brand=Crystal Noodle<br>Stars=%{x}<br>Review #=%{y}<extra></extra>",
         "hovertext": [
          "Soup All Natural Hot & Sour"
         ],
         "legendgroup": "Crystal Noodle",
         "marker": {
          "color": "#FFA15A",
          "symbol": "circle"
         },
         "mode": "markers",
         "name": "Crystal Noodle",
         "orientation": "h",
         "showlegend": true,
         "type": "scatter",
         "x": [
          0.25
         ],
         "xaxis": "x",
         "y": [
          1800
         ],
         "yaxis": "y"
        },
        {
         "hovertemplate": "<b>%{hovertext}</b><br><br>Brand=Roland<br>Stars=%{x}<br>Review #=%{y}<extra></extra>",
         "hovertext": [
          "Ramen Japanese Style Quick-Cooking Alimentary Paste With Beef Artificially Flavored Soup Base",
          "Ramen Japanese Style Quick-Cooking Alimentary Paste With Chicken Artificially Flavored Soup Base"
         ],
         "legendgroup": "Roland",
         "marker": {
          "color": "#19d3f3",
          "symbol": "circle"
         },
         "mode": "markers",
         "name": "Roland",
         "orientation": "h",
         "showlegend": true,
         "type": "scatter",
         "x": [
          0,
          0
         ],
         "xaxis": "x",
         "y": [
          2103,
          2208
         ],
         "yaxis": "y"
        },
        {
         "hovertemplate": "<b>%{hovertext}</b><br><br>Brand=Dr. McDougall's<br>Stars=%{x}<br>Review #=%{y}<extra></extra>",
         "hovertext": [
          "Vegan Pad Thai Noodle Soup"
         ],
         "legendgroup": "Dr. McDougall's",
         "marker": {
          "color": "#FF6692",
          "symbol": "circle"
         },
         "mode": "markers",
         "name": "Dr. McDougall's",
         "orientation": "h",
         "showlegend": true,
         "type": "scatter",
         "x": [
          0
         ],
         "xaxis": "x",
         "y": [
          2426
         ],
         "yaxis": "y"
        },
        {
         "hovertemplate": "<b>%{hovertext}</b><br><br>Brand=One Dish Asia<br>Stars=%{x}<br>Review #=%{y}<extra></extra>",
         "hovertext": [
          "Japanese Ramen Noodle"
         ],
         "legendgroup": "One Dish Asia",
         "marker": {
          "color": "#B6E880",
          "symbol": "circle"
         },
         "mode": "markers",
         "name": "One Dish Asia",
         "orientation": "h",
         "showlegend": true,
         "type": "scatter",
         "x": [
          0
         ],
         "xaxis": "x",
         "y": [
          1641
         ],
         "yaxis": "y"
        },
        {
         "hovertemplate": "<b>%{hovertext}</b><br><br>Brand=US Canning<br>Stars=%{x}<br>Review #=%{y}<extra></extra>",
         "hovertext": [
          "Fu Chang Chinese Noodle Company Pork Seafood"
         ],
         "legendgroup": "US Canning",
         "marker": {
          "color": "#FF97FF",
          "symbol": "circle"
         },
         "mode": "markers",
         "name": "US Canning",
         "orientation": "h",
         "showlegend": true,
         "type": "scatter",
         "x": [
          0
         ],
         "xaxis": "x",
         "y": [
          386
         ],
         "yaxis": "y"
        }
       ],
       "layout": {
        "font": {
         "color": "midnightblue",
         "family": "Courier New"
        },
        "legend": {
         "title": {
          "font": {
           "color": "dimgrey"
          },
          "text": "Brand"
         },
         "tracegroupgap": 0
        },
        "margin": {
         "t": 60
        },
        "template": {
         "data": {
          "bar": [
           {
            "error_x": {
             "color": "#2a3f5f"
            },
            "error_y": {
             "color": "#2a3f5f"
            },
            "marker": {
             "line": {
              "color": "#E5ECF6",
              "width": 0.5
             }
            },
            "type": "bar"
           }
          ],
          "barpolar": [
           {
            "marker": {
             "line": {
              "color": "#E5ECF6",
              "width": 0.5
             }
            },
            "type": "barpolar"
           }
          ],
          "carpet": [
           {
            "aaxis": {
             "endlinecolor": "#2a3f5f",
             "gridcolor": "white",
             "linecolor": "white",
             "minorgridcolor": "white",
             "startlinecolor": "#2a3f5f"
            },
            "baxis": {
             "endlinecolor": "#2a3f5f",
             "gridcolor": "white",
             "linecolor": "white",
             "minorgridcolor": "white",
             "startlinecolor": "#2a3f5f"
            },
            "type": "carpet"
           }
          ],
          "choropleth": [
           {
            "colorbar": {
             "outlinewidth": 0,
             "ticks": ""
            },
            "type": "choropleth"
           }
          ],
          "contour": [
           {
            "colorbar": {
             "outlinewidth": 0,
             "ticks": ""
            },
            "colorscale": [
             [
              0,
              "#0d0887"
             ],
             [
              0.1111111111111111,
              "#46039f"
             ],
             [
              0.2222222222222222,
              "#7201a8"
             ],
             [
              0.3333333333333333,
              "#9c179e"
             ],
             [
              0.4444444444444444,
              "#bd3786"
             ],
             [
              0.5555555555555556,
              "#d8576b"
             ],
             [
              0.6666666666666666,
              "#ed7953"
             ],
             [
              0.7777777777777778,
              "#fb9f3a"
             ],
             [
              0.8888888888888888,
              "#fdca26"
             ],
             [
              1,
              "#f0f921"
             ]
            ],
            "type": "contour"
           }
          ],
          "contourcarpet": [
           {
            "colorbar": {
             "outlinewidth": 0,
             "ticks": ""
            },
            "type": "contourcarpet"
           }
          ],
          "heatmap": [
           {
            "colorbar": {
             "outlinewidth": 0,
             "ticks": ""
            },
            "colorscale": [
             [
              0,
              "#0d0887"
             ],
             [
              0.1111111111111111,
              "#46039f"
             ],
             [
              0.2222222222222222,
              "#7201a8"
             ],
             [
              0.3333333333333333,
              "#9c179e"
             ],
             [
              0.4444444444444444,
              "#bd3786"
             ],
             [
              0.5555555555555556,
              "#d8576b"
             ],
             [
              0.6666666666666666,
              "#ed7953"
             ],
             [
              0.7777777777777778,
              "#fb9f3a"
             ],
             [
              0.8888888888888888,
              "#fdca26"
             ],
             [
              1,
              "#f0f921"
             ]
            ],
            "type": "heatmap"
           }
          ],
          "heatmapgl": [
           {
            "colorbar": {
             "outlinewidth": 0,
             "ticks": ""
            },
            "colorscale": [
             [
              0,
              "#0d0887"
             ],
             [
              0.1111111111111111,
              "#46039f"
             ],
             [
              0.2222222222222222,
              "#7201a8"
             ],
             [
              0.3333333333333333,
              "#9c179e"
             ],
             [
              0.4444444444444444,
              "#bd3786"
             ],
             [
              0.5555555555555556,
              "#d8576b"
             ],
             [
              0.6666666666666666,
              "#ed7953"
             ],
             [
              0.7777777777777778,
              "#fb9f3a"
             ],
             [
              0.8888888888888888,
              "#fdca26"
             ],
             [
              1,
              "#f0f921"
             ]
            ],
            "type": "heatmapgl"
           }
          ],
          "histogram": [
           {
            "marker": {
             "colorbar": {
              "outlinewidth": 0,
              "ticks": ""
             }
            },
            "type": "histogram"
           }
          ],
          "histogram2d": [
           {
            "colorbar": {
             "outlinewidth": 0,
             "ticks": ""
            },
            "colorscale": [
             [
              0,
              "#0d0887"
             ],
             [
              0.1111111111111111,
              "#46039f"
             ],
             [
              0.2222222222222222,
              "#7201a8"
             ],
             [
              0.3333333333333333,
              "#9c179e"
             ],
             [
              0.4444444444444444,
              "#bd3786"
             ],
             [
              0.5555555555555556,
              "#d8576b"
             ],
             [
              0.6666666666666666,
              "#ed7953"
             ],
             [
              0.7777777777777778,
              "#fb9f3a"
             ],
             [
              0.8888888888888888,
              "#fdca26"
             ],
             [
              1,
              "#f0f921"
             ]
            ],
            "type": "histogram2d"
           }
          ],
          "histogram2dcontour": [
           {
            "colorbar": {
             "outlinewidth": 0,
             "ticks": ""
            },
            "colorscale": [
             [
              0,
              "#0d0887"
             ],
             [
              0.1111111111111111,
              "#46039f"
             ],
             [
              0.2222222222222222,
              "#7201a8"
             ],
             [
              0.3333333333333333,
              "#9c179e"
             ],
             [
              0.4444444444444444,
              "#bd3786"
             ],
             [
              0.5555555555555556,
              "#d8576b"
             ],
             [
              0.6666666666666666,
              "#ed7953"
             ],
             [
              0.7777777777777778,
              "#fb9f3a"
             ],
             [
              0.8888888888888888,
              "#fdca26"
             ],
             [
              1,
              "#f0f921"
             ]
            ],
            "type": "histogram2dcontour"
           }
          ],
          "mesh3d": [
           {
            "colorbar": {
             "outlinewidth": 0,
             "ticks": ""
            },
            "type": "mesh3d"
           }
          ],
          "parcoords": [
           {
            "line": {
             "colorbar": {
              "outlinewidth": 0,
              "ticks": ""
             }
            },
            "type": "parcoords"
           }
          ],
          "pie": [
           {
            "automargin": true,
            "type": "pie"
           }
          ],
          "scatter": [
           {
            "marker": {
             "colorbar": {
              "outlinewidth": 0,
              "ticks": ""
             }
            },
            "type": "scatter"
           }
          ],
          "scatter3d": [
           {
            "line": {
             "colorbar": {
              "outlinewidth": 0,
              "ticks": ""
             }
            },
            "marker": {
             "colorbar": {
              "outlinewidth": 0,
              "ticks": ""
             }
            },
            "type": "scatter3d"
           }
          ],
          "scattercarpet": [
           {
            "marker": {
             "colorbar": {
              "outlinewidth": 0,
              "ticks": ""
             }
            },
            "type": "scattercarpet"
           }
          ],
          "scattergeo": [
           {
            "marker": {
             "colorbar": {
              "outlinewidth": 0,
              "ticks": ""
             }
            },
            "type": "scattergeo"
           }
          ],
          "scattergl": [
           {
            "marker": {
             "colorbar": {
              "outlinewidth": 0,
              "ticks": ""
             }
            },
            "type": "scattergl"
           }
          ],
          "scattermapbox": [
           {
            "marker": {
             "colorbar": {
              "outlinewidth": 0,
              "ticks": ""
             }
            },
            "type": "scattermapbox"
           }
          ],
          "scatterpolar": [
           {
            "marker": {
             "colorbar": {
              "outlinewidth": 0,
              "ticks": ""
             }
            },
            "type": "scatterpolar"
           }
          ],
          "scatterpolargl": [
           {
            "marker": {
             "colorbar": {
              "outlinewidth": 0,
              "ticks": ""
             }
            },
            "type": "scatterpolargl"
           }
          ],
          "scatterternary": [
           {
            "marker": {
             "colorbar": {
              "outlinewidth": 0,
              "ticks": ""
             }
            },
            "type": "scatterternary"
           }
          ],
          "surface": [
           {
            "colorbar": {
             "outlinewidth": 0,
             "ticks": ""
            },
            "colorscale": [
             [
              0,
              "#0d0887"
             ],
             [
              0.1111111111111111,
              "#46039f"
             ],
             [
              0.2222222222222222,
              "#7201a8"
             ],
             [
              0.3333333333333333,
              "#9c179e"
             ],
             [
              0.4444444444444444,
              "#bd3786"
             ],
             [
              0.5555555555555556,
              "#d8576b"
             ],
             [
              0.6666666666666666,
              "#ed7953"
             ],
             [
              0.7777777777777778,
              "#fb9f3a"
             ],
             [
              0.8888888888888888,
              "#fdca26"
             ],
             [
              1,
              "#f0f921"
             ]
            ],
            "type": "surface"
           }
          ],
          "table": [
           {
            "cells": {
             "fill": {
              "color": "#EBF0F8"
             },
             "line": {
              "color": "white"
             }
            },
            "header": {
             "fill": {
              "color": "#C8D4E3"
             },
             "line": {
              "color": "white"
             }
            },
            "type": "table"
           }
          ]
         },
         "layout": {
          "annotationdefaults": {
           "arrowcolor": "#2a3f5f",
           "arrowhead": 0,
           "arrowwidth": 1
          },
          "autotypenumbers": "strict",
          "coloraxis": {
           "colorbar": {
            "outlinewidth": 0,
            "ticks": ""
           }
          },
          "colorscale": {
           "diverging": [
            [
             0,
             "#8e0152"
            ],
            [
             0.1,
             "#c51b7d"
            ],
            [
             0.2,
             "#de77ae"
            ],
            [
             0.3,
             "#f1b6da"
            ],
            [
             0.4,
             "#fde0ef"
            ],
            [
             0.5,
             "#f7f7f7"
            ],
            [
             0.6,
             "#e6f5d0"
            ],
            [
             0.7,
             "#b8e186"
            ],
            [
             0.8,
             "#7fbc41"
            ],
            [
             0.9,
             "#4d9221"
            ],
            [
             1,
             "#276419"
            ]
           ],
           "sequential": [
            [
             0,
             "#0d0887"
            ],
            [
             0.1111111111111111,
             "#46039f"
            ],
            [
             0.2222222222222222,
             "#7201a8"
            ],
            [
             0.3333333333333333,
             "#9c179e"
            ],
            [
             0.4444444444444444,
             "#bd3786"
            ],
            [
             0.5555555555555556,
             "#d8576b"
            ],
            [
             0.6666666666666666,
             "#ed7953"
            ],
            [
             0.7777777777777778,
             "#fb9f3a"
            ],
            [
             0.8888888888888888,
             "#fdca26"
            ],
            [
             1,
             "#f0f921"
            ]
           ],
           "sequentialminus": [
            [
             0,
             "#0d0887"
            ],
            [
             0.1111111111111111,
             "#46039f"
            ],
            [
             0.2222222222222222,
             "#7201a8"
            ],
            [
             0.3333333333333333,
             "#9c179e"
            ],
            [
             0.4444444444444444,
             "#bd3786"
            ],
            [
             0.5555555555555556,
             "#d8576b"
            ],
            [
             0.6666666666666666,
             "#ed7953"
            ],
            [
             0.7777777777777778,
             "#fb9f3a"
            ],
            [
             0.8888888888888888,
             "#fdca26"
            ],
            [
             1,
             "#f0f921"
            ]
           ]
          },
          "colorway": [
           "#636efa",
           "#EF553B",
           "#00cc96",
           "#ab63fa",
           "#FFA15A",
           "#19d3f3",
           "#FF6692",
           "#B6E880",
           "#FF97FF",
           "#FECB52"
          ],
          "font": {
           "color": "#2a3f5f"
          },
          "geo": {
           "bgcolor": "white",
           "lakecolor": "white",
           "landcolor": "#E5ECF6",
           "showlakes": true,
           "showland": true,
           "subunitcolor": "white"
          },
          "hoverlabel": {
           "align": "left"
          },
          "hovermode": "closest",
          "mapbox": {
           "style": "light"
          },
          "paper_bgcolor": "white",
          "plot_bgcolor": "#E5ECF6",
          "polar": {
           "angularaxis": {
            "gridcolor": "white",
            "linecolor": "white",
            "ticks": ""
           },
           "bgcolor": "#E5ECF6",
           "radialaxis": {
            "gridcolor": "white",
            "linecolor": "white",
            "ticks": ""
           }
          },
          "scene": {
           "xaxis": {
            "backgroundcolor": "#E5ECF6",
            "gridcolor": "white",
            "gridwidth": 2,
            "linecolor": "white",
            "showbackground": true,
            "ticks": "",
            "zerolinecolor": "white"
           },
           "yaxis": {
            "backgroundcolor": "#E5ECF6",
            "gridcolor": "white",
            "gridwidth": 2,
            "linecolor": "white",
            "showbackground": true,
            "ticks": "",
            "zerolinecolor": "white"
           },
           "zaxis": {
            "backgroundcolor": "#E5ECF6",
            "gridcolor": "white",
            "gridwidth": 2,
            "linecolor": "white",
            "showbackground": true,
            "ticks": "",
            "zerolinecolor": "white"
           }
          },
          "shapedefaults": {
           "line": {
            "color": "#2a3f5f"
           }
          },
          "ternary": {
           "aaxis": {
            "gridcolor": "white",
            "linecolor": "white",
            "ticks": ""
           },
           "baxis": {
            "gridcolor": "white",
            "linecolor": "white",
            "ticks": ""
           },
           "bgcolor": "#E5ECF6",
           "caxis": {
            "gridcolor": "white",
            "linecolor": "white",
            "ticks": ""
           }
          },
          "title": {
           "x": 0.05
          },
          "xaxis": {
           "automargin": true,
           "gridcolor": "white",
           "linecolor": "white",
           "ticks": "",
           "title": {
            "standoff": 15
           },
           "zerolinecolor": "white",
           "zerolinewidth": 2
          },
          "yaxis": {
           "automargin": true,
           "gridcolor": "white",
           "linecolor": "white",
           "ticks": "",
           "title": {
            "standoff": 15
           },
           "zerolinecolor": "white",
           "zerolinewidth": 2
          }
         }
        },
        "title": {
         "font": {
          "color": "dimgrey",
          "family": "Times New Roman",
          "size": 26
         },
         "text": "All Reveiws for Ramen in the USA"
        },
        "xaxis": {
         "anchor": "y",
         "domain": [
          0,
          1
         ],
         "title": {
          "font": {
           "size": 26
          },
          "text": "Stars (Reviews)"
         }
        },
        "yaxis": {
         "anchor": "x",
         "domain": [
          0,
          1
         ],
         "title": {
          "font": {
           "size": 26
          },
          "text": "Total Number of Reviews"
         }
        }
       }
      },
      "text/html": [
       "<div>                            <div id=\"29c388c4-a058-41f4-8e2d-28726e565c5e\" class=\"plotly-graph-div\" style=\"height:525px; width:100%;\"></div>            <script type=\"text/javascript\">                require([\"plotly\"], function(Plotly) {                    window.PLOTLYENV=window.PLOTLYENV || {};                                    if (document.getElementById(\"29c388c4-a058-41f4-8e2d-28726e565c5e\")) {                    Plotly.newPlot(                        \"29c388c4-a058-41f4-8e2d-28726e565c5e\",                        [{\"hovertemplate\": \"<b>%{hovertext}</b><br><br>Brand=Sun Noodle<br>Stars=%{x}<br>Review #=%{y}<extra></extra>\", \"hovertext\": [\"Ramen Pork Flavor\", \"Ramen Shoyu Flavor\", \"Ramen Miso Flavor\", \"Yakisoba\", \"Nama Soba Buckwheat Noodle\", \"Cold Ramen Soy Sauce Vinaigrette\", \"Tantanmen Spicy Sesame (Mild)\"], \"legendgroup\": \"Sun Noodle\", \"marker\": {\"color\": \"#636efa\", \"symbol\": \"circle\"}, \"mode\": \"markers\", \"name\": \"Sun Noodle\", \"orientation\": \"h\", \"showlegend\": true, \"type\": \"scatter\", \"x\": [5.0, 5.0, 5.0, 4.5, 4.0, 4.0, 3.75], \"xaxis\": \"x\", \"y\": [978, 984, 982, 977, 979, 980, 983], \"yaxis\": \"y\"}, {\"hovertemplate\": \"<b>%{hovertext}</b><br><br>Brand=Nongshim<br>Stars=%{x}<br>Review #=%{y}<extra></extra>\", \"hovertext\": [\"Spicy Tonkotsu Noodle Soup\", \"Jinjja Jinjja Flamin' Hot & Nutty\", \"Shin Noodle Soup\", \"Arrabiata Rice Bucatini\", \"Kimchi Flavor Noodle Soup\", \"Soon Veggie Noodle Soup\", \"Shin Black Spicy Pot-au-feu Flavor Premium Noodle Soup\", \"Chapagetti\", \"Shin Black Spicy Po-Au-Feu Flavor (Mew Edition)\", \"Noodle Soup Seasoned With Real Kimchi\", \"Bowl Noodle Spicy Chicken (New)\", \"Bowl Noodle Spicy Chicken\", \"Shin Ramyun Noodle Soup (New Edition)\", \"Bowl Noodle Savory Chicken (New)\", \"Bowl Noodle Soup Spicy Seafood Flavor (New Version)\", \"Bowl Noodle Spicy Seafood\", \"Shin Bowl (New)\", \"Sir Long Tang Creamy Beef Noodle Soup\", \"Harmony Korean Spicy Noodle Dish With Chipotle\", \"Bowl Noodle Spicy Artificial Lobster\", \"Quick2 Hot & Spicy Noodle Soup With Habanero & Lime\", \"Bowl Noodle Soup Independence Day Limited Edition Spicy Chicken Flavor\", \"Bowl Noodle Savory Beef\", \"Bowl Noodle Savory Lobster (New)\", \"Bowl Noodle Spicy Kimchi (New)\", \"Ansungtangmyun (US Version)\", \"Bowl Noodle Hot & Spicy Beef (New)\", \"Bowl Noodle Savory Tempura Udon\", \"Bowl Noodle Beef Ginger\", \"Bowl Noodle Savory Chicken\", \"Bowl Noodle Cabbage Kimchi\", \"Bowl Noodle Soup Shrimp Habanero Lime Flavor\", \"Bowl Noodle Savory Shrimp (New)\", \"Bowl Noodle Spicy Shrimp\", \"Bowl Noodle Hot & Spicy\"], \"legendgroup\": \"Nongshim\", \"marker\": {\"color\": \"#EF553B\", \"symbol\": \"circle\"}, \"mode\": \"markers\", \"name\": \"Nongshim\", \"orientation\": \"h\", \"showlegend\": true, \"type\": \"scatter\", \"x\": [5.0, 5.0, 5.0, 5.0, 5.0, 5.0, 5.0, 5.0, 5.0, 4.75, 4.5, 4.5, 4.25, 4.25, 4.25, 4.25, 4.25, 4.25, 4.25, 4.0, 4.0, 4.0, 4.0, 3.75, 3.75, 3.75, 3.5, 3.5, 3.5, 3.25, 3.25, 3.25, 3.25, 2.5, 2.0], \"xaxis\": \"x\", \"y\": [1485, 934, 2248, 2064, 2098, 1824, 1178, 872, 1678, 1969, 792, 200, 1563, 799, 962, 253, 877, 1366, 1443, 213, 1622, 2203, 721, 759, 750, 754, 772, 752, 201, 453, 202, 1503, 782, 204, 203], \"yaxis\": \"y\"}, {\"hovertemplate\": \"<b>%{hovertext}</b><br><br>Brand=Sapporo Ichiban<br>Stars=%{x}<br>Review #=%{y}<extra></extra>\", \"hovertext\": [\"Tonkotsu Ramen Artificially Flavored Tonkotsu White Chicken Broth\", \"Chow Mein (New)\", \"Beef Flavor\", \"Chicken Flavor\", \"Beef Flavorc\", \"Chicken Flavor\", \"Original Flavor\", \"Original Flavor\", \"Hot Spicy Chicken\", \"Shrimp Flavor\"], \"legendgroup\": \"Sapporo Ichiban\", \"marker\": {\"color\": \"#00cc96\", \"symbol\": \"circle\"}, \"mode\": \"markers\", \"name\": \"Sapporo Ichiban\", \"orientation\": \"h\", \"showlegend\": true, \"type\": \"scatter\", \"x\": [5.0, 5.0, 4.5, 3.75, 3.5, 3.5, 3.5, 3.5, 2.0, 1.75], \"xaxis\": \"x\", \"y\": [1875, 749, 205, 416, 420, 64, 207, 908, 529, 153], \"yaxis\": \"y\"}, {\"hovertemplate\": \"<b>%{hovertext}</b><br><br>Brand=Yamachan<br>Stars=%{x}<br>Review #=%{y}<extra></extra>\", \"hovertext\": [\"Yokohama Tonkotsu Shoyu\", \"Mild Tonkotsu\", \"Miso Ramen Rich Sapporo Miso\", \"Tokyo Shoyu Ramen\", \"Sapporo Miso Ramen\", \"Tonkotsu-Shoyu Rich Pork Flavor\\u00a0Ramen\", \"Shio Ramen Seafood Mild\", \"Nagasaki Sara Udon Chicken \", \"Cold Noodles With Lemon Soy\\u00a0Dressing\", \"Miso Ramen - Mild\", \"Rich Shoyu Ramen\"], \"legendgroup\": \"Yamachan\", \"marker\": {\"color\": \"#ab63fa\", \"symbol\": \"circle\"}, \"mode\": \"markers\", \"name\": \"Yamachan\", \"orientation\": \"h\", \"showlegend\": true, \"type\": \"scatter\", \"x\": [5.0, 5.0, 5.0, 5.0, 4.75, 4.75, 4.5, 4.25, 4.0, 4.0, 4.0], \"xaxis\": \"x\", \"y\": [2569, 936, 885, 2563, 2557, 886, 883, 888, 887, 884, 889], \"yaxis\": \"y\"}, {\"hovertemplate\": \"<b>%{hovertext}</b><br><br>Brand=Dream Kitchen<br>Stars=%{x}<br>Review #=%{y}<extra></extra>\", \"hovertext\": [\"Curry Flavour Instant Noodles\", \"Soy Sauce\", \"Udon Japanese Style Fresh Noodle\", \"Tonkotsu\"], \"legendgroup\": \"Dream Kitchen\", \"marker\": {\"color\": \"#FFA15A\", \"symbol\": \"circle\"}, \"mode\": \"markers\", \"name\": \"Dream Kitchen\", \"orientation\": \"h\", \"showlegend\": true, \"type\": \"scatter\", \"x\": [5.0, 4.0, 3.75, 3.0], \"xaxis\": \"x\", \"y\": [2262, 2246, 2431, 2145], \"yaxis\": \"y\"}, {\"hovertemplate\": \"<b>%{hovertext}</b><br><br>Brand=Myojo<br>Stars=%{x}<br>Review #=%{y}<extra></extra>\", \"hovertext\": [\"Japanese Style Noodles Shio Flavor\", \"Stir Fry Noodles Japanese Style Noodles With Sauce\", \"Udon Japanese Style Noodles With Soup Base Hot & Sour Flavor\", \"Udon Japanese Style Pre-Cooked Noodles With Soup Beef Flavor\", \"Udon Japanese Style Precooked Noodles With Soup Hot & Spicy Flavor\", \"Udon Japanese Style Pre-Cooked Noodles With Soup Chicken Flavor\"], \"legendgroup\": \"Myojo\", \"marker\": {\"color\": \"#19d3f3\", \"symbol\": \"circle\"}, \"mode\": \"markers\", \"name\": \"Myojo\", \"orientation\": \"h\", \"showlegend\": true, \"type\": \"scatter\", \"x\": [5.0, 4.0, 3.75, 3.25, 3.25, 2.5], \"xaxis\": \"x\", \"y\": [1125, 1046, 2470, 1821, 1852, 1741], \"yaxis\": \"y\"}, {\"hovertemplate\": \"<b>%{hovertext}</b><br><br>Brand=Maruchan<br>Stars=%{x}<br>Review #=%{y}<extra></extra>\", \"hovertext\": [\"Bowl Taste Of Asia Beef Flavor Sukiyaki Ramen\", \"Instant Lunch Chipotle Chicken Flavor Ramen Noodle Soup\", \"Ramen Noodle Soup Creamy Chicken\", \"Bowl Hot & Spicy Shrimp Flavor Ramen Noodles With Vegetables\", \"Yakisoba Beef Taco Flavor\", \"Yakisoba Jalapeno Cheddar\", \"Bowl Chicken Flavor\", \"Instant Lunch Chicken Tortilla Flavor Ramen Noodles With Vegetables\", \"Ramen Noodle Soup Pork\", \"Bowl Hot & Spicy Chicken Flavor Ramen Noodles With Vegetables\", \"Ramen Noodle Soup Spicy Picante Chicken\", \"Yakisoba Cheddar Cheese\", \"Ramen Noodle Soup Sriracha Chicken Flavor\", \"Bowl Taste Of Asia Hearty Pork Flavor Tonkotsu Ramen\", \"Bowl Taste Of Asia Miso Chicken Flavor Spicy Miso Ramen\", \"Ramen Noodle soup Mushroom Flavor\", \"Yakisoba Roast chicken\", \"35% Less Sodium Chicken\", \"Ramen Noodle Soup Oriental\", \"Yakisoba Savory Soy Sauce\", \"Instant Lunch Shrimp\", \"Yakisoba Four Cheese\", \"Instant Lunch Sriracha Chicken Flavor Ramen Noodle Soup\", \"Instant Lunch California Vegetable Ramen Noodles With Vegetables\", \"Beef\", \"35% Less Sodium Beef\", \"35% Less Sodium Beef\", \"Instant Lunch Chicken\", \"Instant Lunch Jalapeno Cheddar Flavor Ramen Noodles\", \"Ramen Noodle Soup Chicken Mushroom\", \"Ramen Noodle Soup Beef\", \"Yakisoba Spicy Vegetable\", \"Instant Lunch Chicken 35% Less Sodium\", \"Ramen Noodle Soup Chicken Tortilla Flavor\", \"Yakisoba Sweet & Sour Chicken\", \"Instant Lunch Cajun Style With chili Piquin Shrimp\", \"Yakisoba Tomato Basil\", \"Instant Lunch Pork Flavor Ramen Noodles With Vegetables\", \"Ramen Noodle Soup Chili\", \"Ramen Noodle Soup Roast Beef\", \"Yakisoba Shrimp\", \"Instant Lunch Cheddar Cheese\", \"Instant Lunch Roast Chicken Flavor\", \"Instant Lunch Hot spicy Beef\", \"Instant Lunch Lime Flavor with Shrimp\", \"Yakisoba Chicken\", \"Ramen Noodle Soup Chicken\", \"Ramen Noodle Soup Lime Chili Shrimp\", \"Ramen Noodle Soup Shrimp\", \"Yakisoba Teriyaki Beef\", \"Yakisoba Spicy Chicken\"], \"legendgroup\": \"Maruchan\", \"marker\": {\"color\": \"#FF6692\", \"symbol\": \"circle\"}, \"mode\": \"markers\", \"name\": \"Maruchan\", \"orientation\": \"h\", \"showlegend\": true, \"type\": \"scatter\", \"x\": [5.0, 5.0, 5.0, 4.25, 4.25, 4.0, 4.0, 4.0, 4.0, 4.0, 4.0, 4.0, 4.0, 4.0, 4.0, 4.0, 3.75, 3.75, 3.75, 3.75, 3.75, 3.75, 3.75, 3.5, 3.5, 3.5, 3.5, 3.5, 3.5, 3.25, 3.25, 3.25, 3.0, 3.0, 3.0, 3.0, 3.0, 3.0, 2.75, 2.75, 2.75, 2.75, 2.75, 2.75, 2.25, 2.0, 2.0, 2.0, 2.0, 2.0, 1.75], \"xaxis\": \"x\", \"y\": [2072, 2132, 337, 1039, 1000, 947, 996, 1698, 66, 1011, 320, 317, 2227, 2205, 2142, 2170, 212, 924, 319, 690, 912, 938, 2053, 1463, 935, 930, 919, 900, 1444, 470, 600, 736, 354, 2105, 218, 156, 572, 2147, 352, 356, 496, 388, 216, 440, 403, 215, 104, 67, 34, 214, 612], \"yaxis\": \"y\"}, {\"hovertemplate\": \"<b>%{hovertext}</b><br><br>Brand=Annie Chun's<br>Stars=%{x}<br>Review #=%{y}<extra></extra>\", \"hovertext\": [\"Ramen House Thai Coconut Ramen\", \"Soup Bowl South Korean Kimchi\", \"Soup Bowl Chinese Chicken\", \"Ramen House Chicken Vegetable Flavored Ramen\", \"Soup Bowl Vietnamese Pho\", \"Ramen House Spicy Chicken Ramen\", \"Ramen House Spring Vegetable Ramen\", \"Noodle Express Chinese Chow Mein\", \"Noodle Express Teriyaki\", \"Noodle Express Spicy Szechuan\", \"Teriyaki Noodle\", \"Soy Ginger Ramen\"], \"legendgroup\": \"Annie Chun's\", \"marker\": {\"color\": \"#B6E880\", \"symbol\": \"circle\"}, \"mode\": \"markers\", \"name\": \"Annie Chun's\", \"orientation\": \"h\", \"showlegend\": true, \"type\": \"scatter\", \"x\": [5.0, 4.5, 4.25, 4.0, 4.0, 4.0, 4.0, 3.75, 3.0, 2.0, 1.75, 1.5], \"xaxis\": \"x\", \"y\": [1407, 967, 971, 1246, 969, 973, 966, 965, 968, 970, 476, 526], \"yaxis\": \"y\"}, {\"hovertemplate\": \"<b>%{hovertext}</b><br><br>Brand=Nissin<br>Stars=%{x}<br>Review #=%{y}<extra></extra>\", \"hovertext\": [\"Raoh Ramen Noodle Soup Umami Tonkotsu Flavor\", \"Cup Noodles Very Veggie Spicy Chicken Flavor Ramen Noodle Soup\", \"Cup Noodles Very Veggie Beef Flavor Ramen Noodle Soup\", \"Cup Noodles Very Veggie Chicken Flavor Ramen Noodle Soup\", \"Raoh Ramen Noodle Soup Umami Soy Sauce Flavor\", \"Top Ramen Cucharealo Picante Chicken\", \"Chow Mein Teriyaki Beef\", \"Raoh Ramen Noodle Soup Umami Miso Flavor\", \"Chow Mein Savory Sauce And Restayrant Quality Noodles Roast Chicken Flavor \", \"Top Ramen Creamy Chicken\", \"Chow Mein Spicy Teriyaki Beef\", \"Top Ramen Short Cuts Roast Chicken\", \"Chow Mein Premium Savory Sauce And Restaurant Quality Noodles Sriracha Flavor\", \"Cup Noodles Ramen Noodle Soup Hearty Chicken Flavor [New Package]\", \"Original Chow Mein Premium Spicy Chicken Flavor\", \"Cup Noodles Chicken Flavor Ramen Noodle Soup (New Recipe)\", \"Chow Noodles Cheddar Cheese\", \"Chow Noodles Tomato Basil\", \"Cup Noodles Spicy Chile Chicken (New Recipe)\", \"Cup Noodles Spicy Lime Flavor Ramen Noodle Soup (New Recipe)\", \"Top Ramen Short Cuts Chicken\", \"Spoon-it Creamy Chicken\", \"Bowl Noodles Hot & Spicy Chicken Flavor Less Sodium Ramen Noodle Soup\", \"Chow Mein Chinese Chicken Vegetable\", \"Big Cup Noodles Lime Chili Shrimp\", \"Chow Mein Orange Chicken\", \"Bowl Noodles Hot & Spicy Beef\", \"Chow Noodles Alfredo\", \"Bowl Noodles Rich & Savory Beef\", \"Top Ramen Beef\", \"Ramen Bowl Hot & Spicy\", \"Top Ramen Short Cuts Lime Chili\", \"Top Ramen Cucharealo Habanero Shrimp\", \"Chow Mein With Shrimp Chow Mein Noodles\", \"Chow Mein Teriyaki Chicken Flavor Chow Mein Noodles\", \"Pan Asian Kitchen Sweet & Sour Chicken Flavor Ramen Noodles\", \"Pan Asian Kitchen Sukiyaki Beef Flavor Savory Soy Sauce Ramen Noodles\", \"Cup Noodles Ramen Noodles Ramen Noodle Soup Beef Flavor (New Package) \", \"Top Ramen Short Cuts Beef\", \"Top Ramen Cucharealo Tomato Chicken\", \"Cup Noodles Beef Flavor Ramen Noodle Soup (New Recipe)\", \"Cup Noodles Ramen Noodles With Shrimp (New Package) \", \"Spoon-it Chicken\", \"Cup Noodles Homestyle Chicken\", \"Cup Noodles Shrimp\", \"Big Cup Noodles Spicy Chicken\", \"Cup Noodles Ramen Noodle Soup Chicken Flavor [New Package]\", \"Cup Noodles Spicy Chile Chicken\", \"Spoon-it Rich Hearty Beef Stew\", \"Top Ramen Chicken Flavor Ramen Noodle Soup (New Packaging)\", \"Souper Meal Tomato Garlic Shrimp\", \"Cup Noodles Salsa Picante Shrimp\", \"Cup Noodles Beef\", \"Big Cup Noodles Habanero Lime Shrimp Flavor Ramen Noodle Soup\", \"Cup Noodles Chicken\", \"Bowl Noodles Hot & Spicy Shrimp\", \"Chow Mein Chicken\", \"Souper Meal Chili Picante Chicken With Lime Flavor Ramen Noodle Soup\", \"Big Cup Noodles Habanero Lime Chicken Flavor Ramen Noodle Soup\", \"Cup Noodles Easy Fideos Tomato Chicken Flavor Ramen Noodle Soup\", \"Easy Fideos Picante Lime Shrimp Flavor Ramen Noodle Soup\", \"Top Ramen Shrimp\", \"Bowl Noodles Chicken Flavor\", \"Spoon-it Rich Hearty Savory Chicken\", \"Top Ramen Chicken\", \"Chow Mein Spicy Chicken\", \"Cup Noodles Shrimp Picante Style\", \"Bowl Noodles Hot & Spicy Super Picante\", \"Ramen Bowl Spicy Chicken\", \"Top Ramen Chili\", \"Big Cup Noodles Roast Chicken\", \"Spoon-it Beef\", \"Cup Noodles With Shrimp Ramen Noodle Soup (New Recipe)\", \"Top Ramen Picante Beef\", \"Souper Meal Beef Flavor Minestrone\", \"Ramen Bowl Kimchi\", \"Chow Mein Pad Thai\", \"Ramen Bowl Spicy Shrimp\", \"Cup Noodles Salsa Picante Chicken\", \"Pan Asian Kitchen Spicy Szechuan Chicken Flavor Ramen Noodles\", \"Cup Noodles Chicken Vegetable\", \"Pan Asian Kitchen Spicy Pad Thai\", \"Souper Meal Picante Shrimp Hot Spicy\", \"Cup Noodles Hearty Chicken\", \"Cup Noodles Hot & Spicy Shrimp Flavor Ramen Noodle Soup (New Recipe)\", \"Chow Mein Thai Peanut\", \"Top Ramen Oriental\", \"Cup Noodles Chicken Vegetable\", \"Big Cup Noodles Shrimp\", \"Big Cup Noodles Chicken\", \"Big Cup Noodles Beef\", \"Bowl Noodles Hot & Spicy Chicken\", \"Bowl Noodles Rich & Savory Chicken\", \"Creamy Chicken\", \"Chow Mein Kung Pao Chicken\"], \"legendgroup\": \"Nissin\", \"marker\": {\"color\": \"#FF97FF\", \"symbol\": \"circle\"}, \"mode\": \"markers\", \"name\": \"Nissin\", \"orientation\": \"h\", \"showlegend\": true, \"type\": \"scatter\", \"x\": [5.0, 5.0, 5.0, 5.0, 4.75, 4.5, 4.5, 4.5, 4.5, 4.5, 4.5, 4.25, 4.25, 4.25, 4.0, 4.0, 4.0, 4.0, 4.0, 4.0, 4.0, 4.0, 4.0, 4.0, 4.0, 4.0, 3.75, 3.75, 3.75, 3.75, 3.75, 3.75, 3.75, 3.75, 3.75, 3.75, 3.75, 3.5, 3.5, 3.5, 3.5, 3.5, 3.5, 3.5, 3.5, 3.5, 3.5, 3.5, 3.5, 3.5, 3.5, 3.5, 3.5, 3.5, 3.5, 3.5, 3.5, 3.5, 3.5, 3.5, 3.5, 3.5, 3.5, 3.25, 3.25, 3.25, 3.25, 3.25, 3.25, 3.25, 3.25, 3.25, 3.0, 3.0, 3.0, 3.0, 3.0, 3.0, 3.0, 3.0, 2.75, 2.75, 2.75, 2.5, 2.5, 2.5, 2.5, 2.25, 2.25, 2.25, 2.125, 2.0, 1.75, 1.75, 1.5], \"xaxis\": \"x\", \"y\": [1864, 2541, 2538, 2535, 1955, 837, 142, 1850, 1846, 23, 1003, 862, 1786, 1951, 1597, 2239, 226, 238, 2298, 2327, 850, 713, 1926, 704, 701, 698, 359, 371, 387, 221, 656, 878, 911, 1165, 1253, 1225, 1115, 1802, 843, 849, 2383, 1765, 747, 1891, 256, 696, 1921, 268, 703, 1968, 350, 699, 257, 1130, 265, 260, 1045, 1441, 1016, 1479, 1497, 462, 1196, 697, 540, 709, 769, 960, 717, 353, 760, 719, 2276, 351, 209, 667, 1910, 659, 783, 1422, 373, 990, 465, 360, 2379, 379, 65, 2578, 333, 338, 334, 183, 137, 154, 263], \"yaxis\": \"y\"}, {\"hovertemplate\": \"<b>%{hovertext}</b><br><br>Brand=Daifuku<br>Stars=%{x}<br>Review #=%{y}<extra></extra>\", \"hovertext\": [\"Katsuo Bowl Udon\"], \"legendgroup\": \"Daifuku\", \"marker\": {\"color\": \"#FECB52\", \"symbol\": \"circle\"}, \"mode\": \"markers\", \"name\": \"Daifuku\", \"orientation\": \"h\", \"showlegend\": true, \"type\": \"scatter\", \"x\": [5.0], \"xaxis\": \"x\", \"y\": [2460], \"yaxis\": \"y\"}, {\"hovertemplate\": \"<b>%{hovertext}</b><br><br>Brand=Komforte Chockolates<br>Stars=%{x}<br>Review #=%{y}<extra></extra>\", \"hovertext\": [\"Savory Ramen \"], \"legendgroup\": \"Komforte Chockolates\", \"marker\": {\"color\": \"#636efa\", \"symbol\": \"circle\"}, \"mode\": \"markers\", \"name\": \"Komforte Chockolates\", \"orientation\": \"h\", \"showlegend\": true, \"type\": \"scatter\", \"x\": [5.0], \"xaxis\": \"x\", \"y\": [1155], \"yaxis\": \"y\"}, {\"hovertemplate\": \"<b>%{hovertext}</b><br><br>Brand=Jackpot Teriyaki<br>Stars=%{x}<br>Review #=%{y}<extra></extra>\", \"hovertext\": [\"Beef Ramen\"], \"legendgroup\": \"Jackpot Teriyaki\", \"marker\": {\"color\": \"#EF553B\", \"symbol\": \"circle\"}, \"mode\": \"markers\", \"name\": \"Jackpot Teriyaki\", \"orientation\": \"h\", \"showlegend\": true, \"type\": \"scatter\", \"x\": [5.0], \"xaxis\": \"x\", \"y\": [2559], \"yaxis\": \"y\"}, {\"hovertemplate\": \"<b>%{hovertext}</b><br><br>Brand=Goku-Uma<br>Stars=%{x}<br>Review #=%{y}<extra></extra>\", \"hovertext\": [\"Yakisoba Japanese Style Noodle\", \"Ramen Noodles Miso Flavor\", \"Ramen Noodles Soy Sauce Flavor\", \"Ramen Noodles Artificially Flavored Tonkotsu\"], \"legendgroup\": \"Goku-Uma\", \"marker\": {\"color\": \"#00cc96\", \"symbol\": \"circle\"}, \"mode\": \"markers\", \"name\": \"Goku-Uma\", \"orientation\": \"h\", \"showlegend\": true, \"type\": \"scatter\", \"x\": [4.75, 3.0, 3.0, 3.0], \"xaxis\": \"x\", \"y\": [2403, 2315, 2277, 2256], \"yaxis\": \"y\"}, {\"hovertemplate\": \"<b>%{hovertext}</b><br><br>Brand=Chikara<br>Stars=%{x}<br>Review #=%{y}<extra></extra>\", \"hovertext\": [\"Shrimp Udon\"], \"legendgroup\": \"Chikara\", \"marker\": {\"color\": \"#ab63fa\", \"symbol\": \"circle\"}, \"mode\": \"markers\", \"name\": \"Chikara\", \"orientation\": \"h\", \"showlegend\": true, \"type\": \"scatter\", \"x\": [4.5], \"xaxis\": \"x\", \"y\": [425], \"yaxis\": \"y\"}, {\"hovertemplate\": \"<b>%{hovertext}</b><br><br>Brand=Tasty Bite<br>Stars=%{x}<br>Review #=%{y}<extra></extra>\", \"hovertext\": [\"1 Step-1 Minute Asian Noodles Kung Pao\", \"1 Step-1 Minute Asian Noodles Mushroom Lo Mein\", \"1 Step-1 Minute Asian Noodles Toasted Sesame\", \"1 Step-1 Minute Asian Noodles Thai Basil\", \"1 Step-1 Minute Asian Noodles Lemongrass Ginger\", \"1 Step-1 Minute Asian Noodles Pad Thai\"], \"legendgroup\": \"Tasty Bite\", \"marker\": {\"color\": \"#FFA15A\", \"symbol\": \"circle\"}, \"mode\": \"markers\", \"name\": \"Tasty Bite\", \"orientation\": \"h\", \"showlegend\": true, \"type\": \"scatter\", \"x\": [4.25, 4.0, 4.0, 3.75, 3.75, 3.5], \"xaxis\": \"x\", \"y\": [1065, 1064, 1061, 1063, 1062, 1066], \"yaxis\": \"y\"}, {\"hovertemplate\": \"<b>%{hovertext}</b><br><br>Brand=Thai Kitchen<br>Stars=%{x}<br>Review #=%{y}<extra></extra>\", \"hovertext\": [\"Rice Noodle Cart Sweet Citrus Ginger\", \"Thai Ginger Rice Noodle\", \"Spring Onion Rice Noodle\", \"Roasted Garlic Rice Noodle\", \"Spring Onion Rice Noodle\", \"Garlic Vegetable Rice Noodle\", \"Mushroom Rice Noodle\", \"Rice Noodle Cart Thai Peanut\", \"Bangkok Curry Rice Noodle\", \"Lemongrass Chili Rice Noodle\"], \"legendgroup\": \"Thai Kitchen\", \"marker\": {\"color\": \"#19d3f3\", \"symbol\": \"circle\"}, \"mode\": \"markers\", \"name\": \"Thai Kitchen\", \"orientation\": \"h\", \"showlegend\": true, \"type\": \"scatter\", \"x\": [4.25, 4.25, 3.75, 3.75, 3.75, 3.5, 3.25, 3.0, 2.75, 1.5], \"xaxis\": \"x\", \"y\": [1284, 517, 472, 481, 595, 761, 480, 1310, 664, 596], \"yaxis\": \"y\"}, {\"hovertemplate\": \"<b>%{hovertext}</b><br><br>Brand=Sakura Noodle<br>Stars=%{x}<br>Review #=%{y}<extra></extra>\", \"hovertext\": [\"Chikara Brand Udon Beef Flavor\", \"Chikara Brand Udon Hot & Spicy Flavor\", \"Chikara Brand Udon Mushroom Flavor\", \"Chikara Brand Udon Oriental Flavor\", \"Chikara Brand Udon Chicken Flavor\"], \"legendgroup\": \"Sakura Noodle\", \"marker\": {\"color\": \"#FF6692\", \"symbol\": \"circle\"}, \"mode\": \"markers\", \"name\": \"Sakura Noodle\", \"orientation\": \"h\", \"showlegend\": true, \"type\": \"scatter\", \"x\": [4.25, 4.0, 3.75, 3.75, 3.75], \"xaxis\": \"x\", \"y\": [1337, 1335, 1334, 1333, 1332], \"yaxis\": \"y\"}, {\"hovertemplate\": \"<b>%{hovertext}</b><br><br>Brand=Snapdragon<br>Stars=%{x}<br>Review #=%{y}<extra></extra>\", \"hovertext\": [\"Singapore Laksa Curry Soup Bowl\"], \"legendgroup\": \"Snapdragon\", \"marker\": {\"color\": \"#B6E880\", \"symbol\": \"circle\"}, \"mode\": \"markers\", \"name\": \"Snapdragon\", \"orientation\": \"h\", \"showlegend\": true, \"type\": \"scatter\", \"x\": [4.25], \"xaxis\": \"x\", \"y\": [1395], \"yaxis\": \"y\"}, {\"hovertemplate\": \"<b>%{hovertext}</b><br><br>Brand=Thai Pavilion<br>Stars=%{x}<br>Review #=%{y}<extra></extra>\", \"hovertext\": [\"spicy Pad Thai Instant Noodles & Sauce\", \"Garlic Chili Instant Rice Noodles & Sauce\", \"Pad Thai Instant rice Noodles & Sauce\"], \"legendgroup\": \"Thai Pavilion\", \"marker\": {\"color\": \"#FF97FF\", \"symbol\": \"circle\"}, \"mode\": \"markers\", \"name\": \"Thai Pavilion\", \"orientation\": \"h\", \"showlegend\": true, \"type\": \"scatter\", \"x\": [4.25, 4.0, 1.5], \"xaxis\": \"x\", \"y\": [1117, 1242, 1544], \"yaxis\": \"y\"}, {\"hovertemplate\": \"<b>%{hovertext}</b><br><br>Brand=Lotus Foods<br>Stars=%{x}<br>Review #=%{y}<extra></extra>\", \"hovertext\": [\"Millet & Brown Rice Ramen\", \"Jade Pearl Rice Ramen\", \"Forbidden Rice Ramen\"], \"legendgroup\": \"Lotus Foods\", \"marker\": {\"color\": \"#FECB52\", \"symbol\": \"circle\"}, \"mode\": \"markers\", \"name\": \"Lotus Foods\", \"orientation\": \"h\", \"showlegend\": true, \"type\": \"scatter\", \"x\": [4.0, 3.25, 2.25], \"xaxis\": \"x\", \"y\": [1344, 1343, 1345], \"yaxis\": \"y\"}, {\"hovertemplate\": \"<b>%{hovertext}</b><br><br>Brand=Miracle Noodle<br>Stars=%{x}<br>Review #=%{y}<extra></extra>\", \"hovertext\": [\"Miso Marvellous Soup\"], \"legendgroup\": \"Miracle Noodle\", \"marker\": {\"color\": \"#636efa\", \"symbol\": \"circle\"}, \"mode\": \"markers\", \"name\": \"Miracle Noodle\", \"orientation\": \"h\", \"showlegend\": true, \"type\": \"scatter\", \"x\": [4.0], \"xaxis\": \"x\", \"y\": [1392], \"yaxis\": \"y\"}, {\"hovertemplate\": \"<b>%{hovertext}</b><br><br>Brand=Fu Chang Chinese Noodle Company<br>Stars=%{x}<br>Review #=%{y}<extra></extra>\", \"hovertext\": [\"Hot & Spicy Beef\"], \"legendgroup\": \"Fu Chang Chinese Noodle Company\", \"marker\": {\"color\": \"#EF553B\", \"symbol\": \"circle\"}, \"mode\": \"markers\", \"name\": \"Fu Chang Chinese Noodle Company\", \"orientation\": \"h\", \"showlegend\": true, \"type\": \"scatter\", \"x\": [4.0], \"xaxis\": \"x\", \"y\": [241], \"yaxis\": \"y\"}, {\"hovertemplate\": \"<b>%{hovertext}</b><br><br>Brand=Gefen<br>Stars=%{x}<br>Review #=%{y}<extra></extra>\", \"hovertext\": [\"Imitation Chicken Flavor\", \"Chicken\", \"Vegetable\", \"Imitation Chicken Vegetarian\"], \"legendgroup\": \"Gefen\", \"marker\": {\"color\": \"#00cc96\", \"symbol\": \"circle\"}, \"mode\": \"markers\", \"name\": \"Gefen\", \"orientation\": \"h\", \"showlegend\": true, \"type\": \"scatter\", \"x\": [4.0, 3.5, 3.25, 3.0], \"xaxis\": \"x\", \"y\": [2389, 469, 475, 459], \"yaxis\": \"y\"}, {\"hovertemplate\": \"<b>%{hovertext}</b><br><br>Brand=S&S<br>Stars=%{x}<br>Review #=%{y}<extra></extra>\", \"hovertext\": [\"Saimin\"], \"legendgroup\": \"S&S\", \"marker\": {\"color\": \"#ab63fa\", \"symbol\": \"circle\"}, \"mode\": \"markers\", \"name\": \"S&S\", \"orientation\": \"h\", \"showlegend\": true, \"type\": \"scatter\", \"x\": [4.0], \"xaxis\": \"x\", \"y\": [981], \"yaxis\": \"y\"}, {\"hovertemplate\": \"<b>%{hovertext}</b><br><br>Brand=IbuRamen<br>Stars=%{x}<br>Review #=%{y}<extra></extra>\", \"hovertext\": [\"Mi Goreng Bento Noodles In A Box Curry Masala Flavour\", \"Mi Goreng Bento Noodles In A Box Shallot Teriyaki Flavor\", \"Mi Goreng Bento Noodles In A Box Hot Sweet & Sour Flavor\"], \"legendgroup\": \"IbuRamen\", \"marker\": {\"color\": \"#FFA15A\", \"symbol\": \"circle\"}, \"mode\": \"markers\", \"name\": \"IbuRamen\", \"orientation\": \"h\", \"showlegend\": true, \"type\": \"scatter\", \"x\": [4.0, 3.25, 0.25], \"xaxis\": \"x\", \"y\": [1958, 1857, 1917], \"yaxis\": \"y\"}, {\"hovertemplate\": \"<b>%{hovertext}</b><br><br>Brand=Tradition<br>Stars=%{x}<br>Review #=%{y}<extra></extra>\", \"hovertext\": [\"Imitation Chicken Vegetarian\", \"Imitation Chicken Vegetarian\", \"Vegetable Instant Noodle soup\", \"Oriental Style Ramen Noodle Soup\", \"Imitation Beef\"], \"legendgroup\": \"Tradition\", \"marker\": {\"color\": \"#19d3f3\", \"symbol\": \"circle\"}, \"mode\": \"markers\", \"name\": \"Tradition\", \"orientation\": \"h\", \"showlegend\": true, \"type\": \"scatter\", \"x\": [3.75, 3.75, 3.25, 2.75, 2.5], \"xaxis\": \"x\", \"y\": [308, 859, 905, 1015, 515], \"yaxis\": \"y\"}, {\"hovertemplate\": \"<b>%{hovertext}</b><br><br>Brand=Hosoonyi<br>Stars=%{x}<br>Review #=%{y}<extra></extra>\", \"hovertext\": [\"Naengmyeon Combo\"], \"legendgroup\": \"Hosoonyi\", \"marker\": {\"color\": \"#FF6692\", \"symbol\": \"circle\"}, \"mode\": \"markers\", \"name\": \"Hosoonyi\", \"orientation\": \"h\", \"showlegend\": true, \"type\": \"scatter\", \"x\": [3.75], \"xaxis\": \"x\", \"y\": [748], \"yaxis\": \"y\"}, {\"hovertemplate\": \"<b>%{hovertext}</b><br><br>Brand=Mama Pat's<br>Stars=%{x}<br>Review #=%{y}<extra></extra>\", \"hovertext\": [\"Chicken Fajita Flavor Instant Ramen Noodles\", \"Lamb Stew Flavor Instant Ramen Noodles\", \"Chicken Taco Flavor Instant Ramen Noodles\", \"Seafood Gumbo Flavor Instant Ramen Noodles\"], \"legendgroup\": \"Mama Pat's\", \"marker\": {\"color\": \"#B6E880\", \"symbol\": \"circle\"}, \"mode\": \"markers\", \"name\": \"Mama Pat's\", \"orientation\": \"h\", \"showlegend\": true, \"type\": \"scatter\", \"x\": [3.75, 3.75, 3.75, 3.5], \"xaxis\": \"x\", \"y\": [2411, 2410, 2408, 2409], \"yaxis\": \"y\"}, {\"hovertemplate\": \"<b>%{hovertext}</b><br><br>Brand=Farmer's Heart<br>Stars=%{x}<br>Review #=%{y}<extra></extra>\", \"hovertext\": [\"Pho Beef Flavor Vietnamese Rice Noodle Soup\"], \"legendgroup\": \"Farmer's Heart\", \"marker\": {\"color\": \"#FF97FF\", \"symbol\": \"circle\"}, \"mode\": \"markers\", \"name\": \"Farmer's Heart\", \"orientation\": \"h\", \"showlegend\": true, \"type\": \"scatter\", \"x\": [3.75], \"xaxis\": \"x\", \"y\": [2259], \"yaxis\": \"y\"}, {\"hovertemplate\": \"<b>%{hovertext}</b><br><br>Brand=Shirakiku<br>Stars=%{x}<br>Review #=%{y}<extra></extra>\", \"hovertext\": [\"Fresh Chow Mein Noodles With Seasoning\", \"Sanukiya Udon Shrimp Flavor\", \"Hot & Spicy Udon\", \"Karami Ramen Spicy Chili Flavour Japanese Style Noodle With Soup Base\"], \"legendgroup\": \"Shirakiku\", \"marker\": {\"color\": \"#FECB52\", \"symbol\": \"circle\"}, \"mode\": \"markers\", \"name\": \"Shirakiku\", \"orientation\": \"h\", \"showlegend\": true, \"type\": \"scatter\", \"x\": [3.75, 3.25, 3.0, 2.0], \"xaxis\": \"x\", \"y\": [1336, 2412, 920, 2267], \"yaxis\": \"y\"}, {\"hovertemplate\": \"<b>%{hovertext}</b><br><br>Brand=Osaka Ramen<br>Stars=%{x}<br>Review #=%{y}<extra></extra>\", \"hovertext\": [\"Miso Ramen\"], \"legendgroup\": \"Osaka Ramen\", \"marker\": {\"color\": \"#636efa\", \"symbol\": \"circle\"}, \"mode\": \"markers\", \"name\": \"Osaka Ramen\", \"orientation\": \"h\", \"showlegend\": true, \"type\": \"scatter\", \"x\": [3.75], \"xaxis\": \"x\", \"y\": [1427], \"yaxis\": \"y\"}, {\"hovertemplate\": \"<b>%{hovertext}</b><br><br>Brand=Star Anise Foods<br>Stars=%{x}<br>Review #=%{y}<extra></extra>\", \"hovertext\": [\"Happy Pho Vietnamese Brown Rice Noodle Soup Garlic Goodness\"], \"legendgroup\": \"Star Anise Foods\", \"marker\": {\"color\": \"#EF553B\", \"symbol\": \"circle\"}, \"mode\": \"markers\", \"name\": \"Star Anise Foods\", \"orientation\": \"h\", \"showlegend\": true, \"type\": \"scatter\", \"x\": [3.75], \"xaxis\": \"x\", \"y\": [1060], \"yaxis\": \"y\"}, {\"hovertemplate\": \"<b>%{hovertext}</b><br><br>Brand=Fortune<br>Stars=%{x}<br>Review #=%{y}<extra></extra>\", \"hovertext\": [\"Udon Beef\", \"Udon Chicken\", \"Udon Mushroom\", \"Rice Noodle Coconut Curry\"], \"legendgroup\": \"Fortune\", \"marker\": {\"color\": \"#00cc96\", \"symbol\": \"circle\"}, \"mode\": \"markers\", \"name\": \"Fortune\", \"orientation\": \"h\", \"showlegend\": true, \"type\": \"scatter\", \"x\": [3.5, 3.25, 3.0, 1.0], \"xaxis\": \"x\", \"y\": [251, 252, 278, 1936], \"yaxis\": \"y\"}, {\"hovertemplate\": \"<b>%{hovertext}</b><br><br>Brand=Thai Smile<br>Stars=%{x}<br>Review #=%{y}<extra></extra>\", \"hovertext\": [\"Garlic Rice Noodle Soup Bowl\", \"Spring Onion Rice Noodle Soup Bowl\", \"Mushroom Rice Noodle Soup Bowl\"], \"legendgroup\": \"Thai Smile\", \"marker\": {\"color\": \"#ab63fa\", \"symbol\": \"circle\"}, \"mode\": \"markers\", \"name\": \"Thai Smile\", \"orientation\": \"h\", \"showlegend\": true, \"type\": \"scatter\", \"x\": [3.5, 2.5, 0.0], \"xaxis\": \"x\", \"y\": [1753, 1799, 1913], \"yaxis\": \"y\"}, {\"hovertemplate\": \"<b>%{hovertext}</b><br><br>Brand=Pringles<br>Stars=%{x}<br>Review #=%{y}<extra></extra>\", \"hovertext\": [\"Nissin Top Ramen Chicken Flavor Potato Crisps \"], \"legendgroup\": \"Pringles\", \"marker\": {\"color\": \"#FFA15A\", \"symbol\": \"circle\"}, \"mode\": \"markers\", \"name\": \"Pringles\", \"orientation\": \"h\", \"showlegend\": true, \"type\": \"scatter\", \"x\": [3.5], \"xaxis\": \"x\", \"y\": [2513], \"yaxis\": \"y\"}, {\"hovertemplate\": \"<b>%{hovertext}</b><br><br>Brand=Koyo<br>Stars=%{x}<br>Review #=%{y}<extra></extra>\", \"hovertext\": [\"Garlic Pepper\", \"Seaweed Ramen Made With Organic Noodles\", \"Mushroom\", \"Tofu & Miso\", \"Lemongrass ginger\", \"Asian Vegetable\", \"Garlic Pepper Reduced Sodium Ramen\"], \"legendgroup\": \"Koyo\", \"marker\": {\"color\": \"#19d3f3\", \"symbol\": \"circle\"}, \"mode\": \"markers\", \"name\": \"Koyo\", \"orientation\": \"h\", \"showlegend\": true, \"type\": \"scatter\", \"x\": [3.25, 2.75, 2.75, 2.5, 1.5, 1.5, 0.0], \"xaxis\": \"x\", \"y\": [166, 1172, 581, 582, 471, 454, 2056], \"yaxis\": \"y\"}, {\"hovertemplate\": \"<b>%{hovertext}</b><br><br>Brand=Mexi-Ramen<br>Stars=%{x}<br>Review #=%{y}<extra></extra>\", \"hovertext\": [\"Soupless Ramen Shallot Teriyaki\"], \"legendgroup\": \"Mexi-Ramen\", \"marker\": {\"color\": \"#FF6692\", \"symbol\": \"circle\"}, \"mode\": \"markers\", \"name\": \"Mexi-Ramen\", \"orientation\": \"h\", \"showlegend\": true, \"type\": \"scatter\", \"x\": [2.5], \"xaxis\": \"x\", \"y\": [500], \"yaxis\": \"y\"}, {\"hovertemplate\": \"<b>%{hovertext}</b><br><br>Brand=Teriyaki Time<br>Stars=%{x}<br>Review #=%{y}<extra></extra>\", \"hovertext\": [\"Ramen\"], \"legendgroup\": \"Teriyaki Time\", \"marker\": {\"color\": \"#B6E880\", \"symbol\": \"circle\"}, \"mode\": \"markers\", \"name\": \"Teriyaki Time\", \"orientation\": \"h\", \"showlegend\": true, \"type\": \"scatter\", \"x\": [2.0], \"xaxis\": \"x\", \"y\": [108], \"yaxis\": \"y\"}, {\"hovertemplate\": \"<b>%{hovertext}</b><br><br>Brand=Right Foods<br>Stars=%{x}<br>Review #=%{y}<extra></extra>\", \"hovertext\": [\"Dr. McDougall's Vegan Chicken Ramen\"], \"legendgroup\": \"Right Foods\", \"marker\": {\"color\": \"#FF97FF\", \"symbol\": \"circle\"}, \"mode\": \"markers\", \"name\": \"Right Foods\", \"orientation\": \"h\", \"showlegend\": true, \"type\": \"scatter\", \"x\": [1.75], \"xaxis\": \"x\", \"y\": [946], \"yaxis\": \"y\"}, {\"hovertemplate\": \"<b>%{hovertext}</b><br><br>Brand=Lipton<br>Stars=%{x}<br>Review #=%{y}<extra></extra>\", \"hovertext\": [\"Cup-A-Soup Chicken Noodle With White Meat Instant Soup\"], \"legendgroup\": \"Lipton\", \"marker\": {\"color\": \"#FECB52\", \"symbol\": \"circle\"}, \"mode\": \"markers\", \"name\": \"Lipton\", \"orientation\": \"h\", \"showlegend\": true, \"type\": \"scatter\", \"x\": [1.5], \"xaxis\": \"x\", \"y\": [2544], \"yaxis\": \"y\"}, {\"hovertemplate\": \"<b>%{hovertext}</b><br><br>Brand=Smack<br>Stars=%{x}<br>Review #=%{y}<extra></extra>\", \"hovertext\": [\"Vegetable Beef\"], \"legendgroup\": \"Smack\", \"marker\": {\"color\": \"#636efa\", \"symbol\": \"circle\"}, \"mode\": \"markers\", \"name\": \"Smack\", \"orientation\": \"h\", \"showlegend\": true, \"type\": \"scatter\", \"x\": [1.5], \"xaxis\": \"x\", \"y\": [10], \"yaxis\": \"y\"}, {\"hovertemplate\": \"<b>%{hovertext}</b><br><br>Brand=Tayho<br>Stars=%{x}<br>Review #=%{y}<extra></extra>\", \"hovertext\": [\"Vermicelli With Pork\"], \"legendgroup\": \"Tayho\", \"marker\": {\"color\": \"#EF553B\", \"symbol\": \"circle\"}, \"mode\": \"markers\", \"name\": \"Tayho\", \"orientation\": \"h\", \"showlegend\": true, \"type\": \"scatter\", \"x\": [1.25], \"xaxis\": \"x\", \"y\": [361], \"yaxis\": \"y\"}, {\"hovertemplate\": \"<b>%{hovertext}</b><br><br>Brand=Authentically Asian<br>Stars=%{x}<br>Review #=%{y}<extra></extra>\", \"hovertext\": [\"Natural Quality Foods Pad Thai Noodle Bowl\"], \"legendgroup\": \"Authentically Asian\", \"marker\": {\"color\": \"#00cc96\", \"symbol\": \"circle\"}, \"mode\": \"markers\", \"name\": \"Authentically Asian\", \"orientation\": \"h\", \"showlegend\": true, \"type\": \"scatter\", \"x\": [1.0], \"xaxis\": \"x\", \"y\": [1761], \"yaxis\": \"y\"}, {\"hovertemplate\": \"<b>%{hovertext}</b><br><br>Brand=Westbrae<br>Stars=%{x}<br>Review #=%{y}<extra></extra>\", \"hovertext\": [\"Miso Ramen\"], \"legendgroup\": \"Westbrae\", \"marker\": {\"color\": \"#ab63fa\", \"symbol\": \"circle\"}, \"mode\": \"markers\", \"name\": \"Westbrae\", \"orientation\": \"h\", \"showlegend\": true, \"type\": \"scatter\", \"x\": [0.5], \"xaxis\": \"x\", \"y\": [1], \"yaxis\": \"y\"}, {\"hovertemplate\": \"<b>%{hovertext}</b><br><br>Brand=Crystal Noodle<br>Stars=%{x}<br>Review #=%{y}<extra></extra>\", \"hovertext\": [\"Soup All Natural Hot & Sour\"], \"legendgroup\": \"Crystal Noodle\", \"marker\": {\"color\": \"#FFA15A\", \"symbol\": \"circle\"}, \"mode\": \"markers\", \"name\": \"Crystal Noodle\", \"orientation\": \"h\", \"showlegend\": true, \"type\": \"scatter\", \"x\": [0.25], \"xaxis\": \"x\", \"y\": [1800], \"yaxis\": \"y\"}, {\"hovertemplate\": \"<b>%{hovertext}</b><br><br>Brand=Roland<br>Stars=%{x}<br>Review #=%{y}<extra></extra>\", \"hovertext\": [\"Ramen Japanese Style Quick-Cooking Alimentary Paste With Beef Artificially Flavored Soup Base\", \"Ramen Japanese Style Quick-Cooking Alimentary Paste With Chicken Artificially Flavored Soup Base\"], \"legendgroup\": \"Roland\", \"marker\": {\"color\": \"#19d3f3\", \"symbol\": \"circle\"}, \"mode\": \"markers\", \"name\": \"Roland\", \"orientation\": \"h\", \"showlegend\": true, \"type\": \"scatter\", \"x\": [0.0, 0.0], \"xaxis\": \"x\", \"y\": [2103, 2208], \"yaxis\": \"y\"}, {\"hovertemplate\": \"<b>%{hovertext}</b><br><br>Brand=Dr. McDougall's<br>Stars=%{x}<br>Review #=%{y}<extra></extra>\", \"hovertext\": [\"Vegan Pad Thai Noodle Soup\"], \"legendgroup\": \"Dr. McDougall's\", \"marker\": {\"color\": \"#FF6692\", \"symbol\": \"circle\"}, \"mode\": \"markers\", \"name\": \"Dr. McDougall's\", \"orientation\": \"h\", \"showlegend\": true, \"type\": \"scatter\", \"x\": [0.0], \"xaxis\": \"x\", \"y\": [2426], \"yaxis\": \"y\"}, {\"hovertemplate\": \"<b>%{hovertext}</b><br><br>Brand=One Dish Asia<br>Stars=%{x}<br>Review #=%{y}<extra></extra>\", \"hovertext\": [\"Japanese Ramen Noodle\"], \"legendgroup\": \"One Dish Asia\", \"marker\": {\"color\": \"#B6E880\", \"symbol\": \"circle\"}, \"mode\": \"markers\", \"name\": \"One Dish Asia\", \"orientation\": \"h\", \"showlegend\": true, \"type\": \"scatter\", \"x\": [0.0], \"xaxis\": \"x\", \"y\": [1641], \"yaxis\": \"y\"}, {\"hovertemplate\": \"<b>%{hovertext}</b><br><br>Brand=US Canning<br>Stars=%{x}<br>Review #=%{y}<extra></extra>\", \"hovertext\": [\"Fu Chang Chinese Noodle Company Pork Seafood\"], \"legendgroup\": \"US Canning\", \"marker\": {\"color\": \"#FF97FF\", \"symbol\": \"circle\"}, \"mode\": \"markers\", \"name\": \"US Canning\", \"orientation\": \"h\", \"showlegend\": true, \"type\": \"scatter\", \"x\": [0.0], \"xaxis\": \"x\", \"y\": [386], \"yaxis\": \"y\"}],                        {\"font\": {\"color\": \"midnightblue\", \"family\": \"Courier New\"}, \"legend\": {\"title\": {\"font\": {\"color\": \"dimgrey\"}, \"text\": \"Brand\"}, \"tracegroupgap\": 0}, \"margin\": {\"t\": 60}, \"template\": {\"data\": {\"bar\": [{\"error_x\": {\"color\": \"#2a3f5f\"}, \"error_y\": {\"color\": \"#2a3f5f\"}, \"marker\": {\"line\": {\"color\": \"#E5ECF6\", \"width\": 0.5}}, \"type\": \"bar\"}], \"barpolar\": [{\"marker\": {\"line\": {\"color\": \"#E5ECF6\", \"width\": 0.5}}, \"type\": \"barpolar\"}], \"carpet\": [{\"aaxis\": {\"endlinecolor\": \"#2a3f5f\", \"gridcolor\": \"white\", \"linecolor\": \"white\", \"minorgridcolor\": \"white\", \"startlinecolor\": \"#2a3f5f\"}, \"baxis\": {\"endlinecolor\": \"#2a3f5f\", \"gridcolor\": \"white\", \"linecolor\": \"white\", \"minorgridcolor\": \"white\", \"startlinecolor\": \"#2a3f5f\"}, \"type\": \"carpet\"}], \"choropleth\": [{\"colorbar\": {\"outlinewidth\": 0, \"ticks\": \"\"}, \"type\": \"choropleth\"}], \"contour\": [{\"colorbar\": {\"outlinewidth\": 0, \"ticks\": \"\"}, \"colorscale\": [[0.0, \"#0d0887\"], [0.1111111111111111, \"#46039f\"], [0.2222222222222222, \"#7201a8\"], [0.3333333333333333, \"#9c179e\"], [0.4444444444444444, \"#bd3786\"], [0.5555555555555556, \"#d8576b\"], [0.6666666666666666, \"#ed7953\"], [0.7777777777777778, \"#fb9f3a\"], [0.8888888888888888, \"#fdca26\"], [1.0, \"#f0f921\"]], \"type\": \"contour\"}], \"contourcarpet\": [{\"colorbar\": {\"outlinewidth\": 0, \"ticks\": \"\"}, \"type\": \"contourcarpet\"}], \"heatmap\": [{\"colorbar\": {\"outlinewidth\": 0, \"ticks\": \"\"}, \"colorscale\": [[0.0, \"#0d0887\"], [0.1111111111111111, \"#46039f\"], [0.2222222222222222, \"#7201a8\"], [0.3333333333333333, \"#9c179e\"], [0.4444444444444444, \"#bd3786\"], [0.5555555555555556, \"#d8576b\"], [0.6666666666666666, \"#ed7953\"], [0.7777777777777778, \"#fb9f3a\"], [0.8888888888888888, \"#fdca26\"], [1.0, \"#f0f921\"]], \"type\": \"heatmap\"}], \"heatmapgl\": [{\"colorbar\": {\"outlinewidth\": 0, \"ticks\": \"\"}, \"colorscale\": [[0.0, \"#0d0887\"], [0.1111111111111111, \"#46039f\"], [0.2222222222222222, \"#7201a8\"], [0.3333333333333333, \"#9c179e\"], [0.4444444444444444, \"#bd3786\"], [0.5555555555555556, \"#d8576b\"], [0.6666666666666666, \"#ed7953\"], [0.7777777777777778, \"#fb9f3a\"], [0.8888888888888888, \"#fdca26\"], [1.0, \"#f0f921\"]], \"type\": \"heatmapgl\"}], \"histogram\": [{\"marker\": {\"colorbar\": {\"outlinewidth\": 0, \"ticks\": \"\"}}, \"type\": \"histogram\"}], \"histogram2d\": [{\"colorbar\": {\"outlinewidth\": 0, \"ticks\": \"\"}, \"colorscale\": [[0.0, \"#0d0887\"], [0.1111111111111111, \"#46039f\"], [0.2222222222222222, \"#7201a8\"], [0.3333333333333333, \"#9c179e\"], [0.4444444444444444, \"#bd3786\"], [0.5555555555555556, \"#d8576b\"], [0.6666666666666666, \"#ed7953\"], [0.7777777777777778, \"#fb9f3a\"], [0.8888888888888888, \"#fdca26\"], [1.0, \"#f0f921\"]], \"type\": \"histogram2d\"}], \"histogram2dcontour\": [{\"colorbar\": {\"outlinewidth\": 0, \"ticks\": \"\"}, \"colorscale\": [[0.0, \"#0d0887\"], [0.1111111111111111, \"#46039f\"], [0.2222222222222222, \"#7201a8\"], [0.3333333333333333, \"#9c179e\"], [0.4444444444444444, \"#bd3786\"], [0.5555555555555556, \"#d8576b\"], [0.6666666666666666, \"#ed7953\"], [0.7777777777777778, \"#fb9f3a\"], [0.8888888888888888, \"#fdca26\"], [1.0, \"#f0f921\"]], \"type\": \"histogram2dcontour\"}], \"mesh3d\": [{\"colorbar\": {\"outlinewidth\": 0, \"ticks\": \"\"}, \"type\": \"mesh3d\"}], \"parcoords\": [{\"line\": {\"colorbar\": {\"outlinewidth\": 0, \"ticks\": \"\"}}, \"type\": \"parcoords\"}], \"pie\": [{\"automargin\": true, \"type\": \"pie\"}], \"scatter\": [{\"marker\": {\"colorbar\": {\"outlinewidth\": 0, \"ticks\": \"\"}}, \"type\": \"scatter\"}], \"scatter3d\": [{\"line\": {\"colorbar\": {\"outlinewidth\": 0, \"ticks\": \"\"}}, \"marker\": {\"colorbar\": {\"outlinewidth\": 0, \"ticks\": \"\"}}, \"type\": \"scatter3d\"}], \"scattercarpet\": [{\"marker\": {\"colorbar\": {\"outlinewidth\": 0, \"ticks\": \"\"}}, \"type\": \"scattercarpet\"}], \"scattergeo\": [{\"marker\": {\"colorbar\": {\"outlinewidth\": 0, \"ticks\": \"\"}}, \"type\": \"scattergeo\"}], \"scattergl\": [{\"marker\": {\"colorbar\": {\"outlinewidth\": 0, \"ticks\": \"\"}}, \"type\": \"scattergl\"}], \"scattermapbox\": [{\"marker\": {\"colorbar\": {\"outlinewidth\": 0, \"ticks\": \"\"}}, \"type\": \"scattermapbox\"}], \"scatterpolar\": [{\"marker\": {\"colorbar\": {\"outlinewidth\": 0, \"ticks\": \"\"}}, \"type\": \"scatterpolar\"}], \"scatterpolargl\": [{\"marker\": {\"colorbar\": {\"outlinewidth\": 0, \"ticks\": \"\"}}, \"type\": \"scatterpolargl\"}], \"scatterternary\": [{\"marker\": {\"colorbar\": {\"outlinewidth\": 0, \"ticks\": \"\"}}, \"type\": \"scatterternary\"}], \"surface\": [{\"colorbar\": {\"outlinewidth\": 0, \"ticks\": \"\"}, \"colorscale\": [[0.0, \"#0d0887\"], [0.1111111111111111, \"#46039f\"], [0.2222222222222222, \"#7201a8\"], [0.3333333333333333, \"#9c179e\"], [0.4444444444444444, \"#bd3786\"], [0.5555555555555556, \"#d8576b\"], [0.6666666666666666, \"#ed7953\"], [0.7777777777777778, \"#fb9f3a\"], [0.8888888888888888, \"#fdca26\"], [1.0, \"#f0f921\"]], \"type\": \"surface\"}], \"table\": [{\"cells\": {\"fill\": {\"color\": \"#EBF0F8\"}, \"line\": {\"color\": \"white\"}}, \"header\": {\"fill\": {\"color\": \"#C8D4E3\"}, \"line\": {\"color\": \"white\"}}, \"type\": \"table\"}]}, \"layout\": {\"annotationdefaults\": {\"arrowcolor\": \"#2a3f5f\", \"arrowhead\": 0, \"arrowwidth\": 1}, \"autotypenumbers\": \"strict\", \"coloraxis\": {\"colorbar\": {\"outlinewidth\": 0, \"ticks\": \"\"}}, \"colorscale\": {\"diverging\": [[0, \"#8e0152\"], [0.1, \"#c51b7d\"], [0.2, \"#de77ae\"], [0.3, \"#f1b6da\"], [0.4, \"#fde0ef\"], [0.5, \"#f7f7f7\"], [0.6, \"#e6f5d0\"], [0.7, \"#b8e186\"], [0.8, \"#7fbc41\"], [0.9, \"#4d9221\"], [1, \"#276419\"]], \"sequential\": [[0.0, \"#0d0887\"], [0.1111111111111111, \"#46039f\"], [0.2222222222222222, \"#7201a8\"], [0.3333333333333333, \"#9c179e\"], [0.4444444444444444, \"#bd3786\"], [0.5555555555555556, \"#d8576b\"], [0.6666666666666666, \"#ed7953\"], [0.7777777777777778, \"#fb9f3a\"], [0.8888888888888888, \"#fdca26\"], [1.0, \"#f0f921\"]], \"sequentialminus\": [[0.0, \"#0d0887\"], [0.1111111111111111, \"#46039f\"], [0.2222222222222222, \"#7201a8\"], [0.3333333333333333, \"#9c179e\"], [0.4444444444444444, \"#bd3786\"], [0.5555555555555556, \"#d8576b\"], [0.6666666666666666, \"#ed7953\"], [0.7777777777777778, \"#fb9f3a\"], [0.8888888888888888, \"#fdca26\"], [1.0, \"#f0f921\"]]}, \"colorway\": [\"#636efa\", \"#EF553B\", \"#00cc96\", \"#ab63fa\", \"#FFA15A\", \"#19d3f3\", \"#FF6692\", \"#B6E880\", \"#FF97FF\", \"#FECB52\"], \"font\": {\"color\": \"#2a3f5f\"}, \"geo\": {\"bgcolor\": \"white\", \"lakecolor\": \"white\", \"landcolor\": \"#E5ECF6\", \"showlakes\": true, \"showland\": true, \"subunitcolor\": \"white\"}, \"hoverlabel\": {\"align\": \"left\"}, \"hovermode\": \"closest\", \"mapbox\": {\"style\": \"light\"}, \"paper_bgcolor\": \"white\", \"plot_bgcolor\": \"#E5ECF6\", \"polar\": {\"angularaxis\": {\"gridcolor\": \"white\", \"linecolor\": \"white\", \"ticks\": \"\"}, \"bgcolor\": \"#E5ECF6\", \"radialaxis\": {\"gridcolor\": \"white\", \"linecolor\": \"white\", \"ticks\": \"\"}}, \"scene\": {\"xaxis\": {\"backgroundcolor\": \"#E5ECF6\", \"gridcolor\": \"white\", \"gridwidth\": 2, \"linecolor\": \"white\", \"showbackground\": true, \"ticks\": \"\", \"zerolinecolor\": \"white\"}, \"yaxis\": {\"backgroundcolor\": \"#E5ECF6\", \"gridcolor\": \"white\", \"gridwidth\": 2, \"linecolor\": \"white\", \"showbackground\": true, \"ticks\": \"\", \"zerolinecolor\": \"white\"}, \"zaxis\": {\"backgroundcolor\": \"#E5ECF6\", \"gridcolor\": \"white\", \"gridwidth\": 2, \"linecolor\": \"white\", \"showbackground\": true, \"ticks\": \"\", \"zerolinecolor\": \"white\"}}, \"shapedefaults\": {\"line\": {\"color\": \"#2a3f5f\"}}, \"ternary\": {\"aaxis\": {\"gridcolor\": \"white\", \"linecolor\": \"white\", \"ticks\": \"\"}, \"baxis\": {\"gridcolor\": \"white\", \"linecolor\": \"white\", \"ticks\": \"\"}, \"bgcolor\": \"#E5ECF6\", \"caxis\": {\"gridcolor\": \"white\", \"linecolor\": \"white\", \"ticks\": \"\"}}, \"title\": {\"x\": 0.05}, \"xaxis\": {\"automargin\": true, \"gridcolor\": \"white\", \"linecolor\": \"white\", \"ticks\": \"\", \"title\": {\"standoff\": 15}, \"zerolinecolor\": \"white\", \"zerolinewidth\": 2}, \"yaxis\": {\"automargin\": true, \"gridcolor\": \"white\", \"linecolor\": \"white\", \"ticks\": \"\", \"title\": {\"standoff\": 15}, \"zerolinecolor\": \"white\", \"zerolinewidth\": 2}}}, \"title\": {\"font\": {\"color\": \"dimgrey\", \"family\": \"Times New Roman\", \"size\": 26}, \"text\": \"All Reveiws for Ramen in the USA\"}, \"xaxis\": {\"anchor\": \"y\", \"domain\": [0.0, 1.0], \"title\": {\"font\": {\"size\": 26}, \"text\": \"Stars (Reviews)\"}}, \"yaxis\": {\"anchor\": \"x\", \"domain\": [0.0, 1.0], \"title\": {\"font\": {\"size\": 26}, \"text\": \"Total Number of Reviews\"}}},                        {\"responsive\": true}                    ).then(function(){\n",
       "                            \n",
       "var gd = document.getElementById('29c388c4-a058-41f4-8e2d-28726e565c5e');\n",
       "var x = new MutationObserver(function (mutations, observer) {{\n",
       "        var display = window.getComputedStyle(gd).display;\n",
       "        if (!display || display === 'none') {{\n",
       "            console.log([gd, 'removed!']);\n",
       "            Plotly.purge(gd);\n",
       "            observer.disconnect();\n",
       "        }}\n",
       "}});\n",
       "\n",
       "// Listen for the removal of the full notebook cells\n",
       "var notebookContainer = gd.closest('#notebook-container');\n",
       "if (notebookContainer) {{\n",
       "    x.observe(notebookContainer, {childList: true});\n",
       "}}\n",
       "\n",
       "// Listen for the clearing of the current output cell\n",
       "var outputEl = gd.closest('.output');\n",
       "if (outputEl) {{\n",
       "    x.observe(outputEl, {childList: true});\n",
       "}}\n",
       "\n",
       "                        })                };                });            </script>        </div>"
      ]
     },
     "metadata": {},
     "output_type": "display_data"
    }
   ],
   "source": [
    "#import plotly for bubble graph\n",
    "#reference data for graph\n",
    "fig = px.scatter(top_brands_USA, x='Stars', color='Brand',hover_name='Variety')\n",
    "    \n",
    "#format graph font and font color\n",
    "fig.update_layout(title='All Reveiws for Ramen in the USA',\n",
    "                  title_font_size=26,\n",
    "                  xaxis_title='Stars (Reviews)',\n",
    "                  xaxis_title_font_size=26,\n",
    "                  yaxis_title='Total Number of Reviews',\n",
    "                  yaxis_title_font_size=26,\n",
    "                  font_family=\"Courier New\",\n",
    "                  font_color=\"midnightblue\",\n",
    "                  title_font_family=\"Times New Roman\",\n",
    "                  title_font_color=\"dimgrey\",\n",
    "                  legend_title_font_color=\"dimgrey\")\n",
    "    \n",
    "#show graph\n",
    "fig.show()\n",
    "fig.write_image('visualizations/all_ramen_reviews.png')"
   ]
  },
  {
   "cell_type": "code",
   "execution_count": 70,
   "metadata": {},
   "outputs": [],
   "source": [
    "## plot by star reviews in USA\n",
    "\n",
    "new_df = top_brands_USA.groupby(['Stars','Brand']).count()\n",
    "brands_top_brands = new_df.loc[5.0]\n",
    "brands_top_brands = brands_top_brands.sort_values('Variety')"
   ]
  },
  {
   "cell_type": "code",
   "execution_count": 298,
   "metadata": {},
   "outputs": [
    {
     "data": {
      "image/png": "[encoded data removed]",
      "text/plain": [
       "<Figure size 936x504 with 1 Axes>"
      ]
     },
     "metadata": {},
     "output_type": "display_data"
    }
   ],
   "source": [
    "## Most Top 5 reviews\n",
    "\n",
    "plt.figure(figsize=(13,7))\n",
    "plt3 = brands_top_brands['Variety'].plot(kind='barh',color='plum',width=0.85,edgecolor='lime')\n",
    "plt.title('Popular Ramens in the USA\\n',fontsize=26,color='black')\n",
    "plt.xlabel('\\nTotal number of Reviews',fontsize=20,color='black')\n",
    "plt.ylabel('Brands\\n\\n',fontsize=20,color='black')\n",
    "plt.savefig('visualizations/popular_ramen_usa.png')\n",
    "plt.show()"
   ]
  },
  {
   "cell_type": "code",
   "execution_count": 79,
   "metadata": {
    "scrolled": true
   },
   "outputs": [
    {
     "data": {
      "text/html": [
       "<div>\n",
       "<style scoped>\n",
       "    .dataframe tbody tr th:only-of-type {\n",
       "        vertical-align: middle;\n",
       "    }\n",
       "\n",
       "    .dataframe tbody tr th {\n",
       "        vertical-align: top;\n",
       "    }\n",
       "\n",
       "    .dataframe thead th {\n",
       "        text-align: right;\n",
       "    }\n",
       "</style>\n",
       "<table border=\"1\" class=\"dataframe\">\n",
       "  <thead>\n",
       "    <tr style=\"text-align: right;\">\n",
       "      <th></th>\n",
       "      <th>Brand</th>\n",
       "      <th>Variety</th>\n",
       "      <th>Style</th>\n",
       "      <th>Country</th>\n",
       "      <th>Stars</th>\n",
       "      <th>Top Ten</th>\n",
       "    </tr>\n",
       "    <tr>\n",
       "      <th>Review #</th>\n",
       "      <th></th>\n",
       "      <th></th>\n",
       "      <th></th>\n",
       "      <th></th>\n",
       "      <th></th>\n",
       "      <th></th>\n",
       "    </tr>\n",
       "  </thead>\n",
       "  <tbody>\n",
       "    <tr>\n",
       "      <th>1485</th>\n",
       "      <td>Nongshim</td>\n",
       "      <td>Spicy Tonkotsu Noodle Soup</td>\n",
       "      <td>Pack</td>\n",
       "      <td>USA</td>\n",
       "      <td>5.00</td>\n",
       "      <td></td>\n",
       "    </tr>\n",
       "    <tr>\n",
       "      <th>934</th>\n",
       "      <td>Nongshim</td>\n",
       "      <td>Jinjja Jinjja Flamin' Hot &amp; Nutty</td>\n",
       "      <td>Pack</td>\n",
       "      <td>USA</td>\n",
       "      <td>5.00</td>\n",
       "      <td>2013 #4</td>\n",
       "    </tr>\n",
       "    <tr>\n",
       "      <th>2248</th>\n",
       "      <td>Nongshim</td>\n",
       "      <td>Shin Noodle Soup</td>\n",
       "      <td>Cup</td>\n",
       "      <td>USA</td>\n",
       "      <td>5.00</td>\n",
       "      <td></td>\n",
       "    </tr>\n",
       "    <tr>\n",
       "      <th>2064</th>\n",
       "      <td>Nongshim</td>\n",
       "      <td>Arrabiata Rice Bucatini</td>\n",
       "      <td>Pack</td>\n",
       "      <td>USA</td>\n",
       "      <td>5.00</td>\n",
       "      <td></td>\n",
       "    </tr>\n",
       "    <tr>\n",
       "      <th>2098</th>\n",
       "      <td>Nongshim</td>\n",
       "      <td>Kimchi Flavor Noodle Soup</td>\n",
       "      <td>Cup</td>\n",
       "      <td>USA</td>\n",
       "      <td>5.00</td>\n",
       "      <td></td>\n",
       "    </tr>\n",
       "    <tr>\n",
       "      <th>1824</th>\n",
       "      <td>Nongshim</td>\n",
       "      <td>Soon Veggie Noodle Soup</td>\n",
       "      <td>Cup</td>\n",
       "      <td>USA</td>\n",
       "      <td>5.00</td>\n",
       "      <td></td>\n",
       "    </tr>\n",
       "    <tr>\n",
       "      <th>1178</th>\n",
       "      <td>Nongshim</td>\n",
       "      <td>Shin Black Spicy Pot-au-feu Flavor Premium Noo...</td>\n",
       "      <td>Cup</td>\n",
       "      <td>USA</td>\n",
       "      <td>5.00</td>\n",
       "      <td></td>\n",
       "    </tr>\n",
       "    <tr>\n",
       "      <th>872</th>\n",
       "      <td>Nongshim</td>\n",
       "      <td>Chapagetti</td>\n",
       "      <td>Bowl</td>\n",
       "      <td>USA</td>\n",
       "      <td>5.00</td>\n",
       "      <td></td>\n",
       "    </tr>\n",
       "    <tr>\n",
       "      <th>1678</th>\n",
       "      <td>Nongshim</td>\n",
       "      <td>Shin Black Spicy Po-Au-Feu Flavor (Mew Edition)</td>\n",
       "      <td>Pack</td>\n",
       "      <td>USA</td>\n",
       "      <td>5.00</td>\n",
       "      <td></td>\n",
       "    </tr>\n",
       "    <tr>\n",
       "      <th>1969</th>\n",
       "      <td>Nongshim</td>\n",
       "      <td>Noodle Soup Seasoned With Real Kimchi</td>\n",
       "      <td>Pack</td>\n",
       "      <td>USA</td>\n",
       "      <td>4.75</td>\n",
       "      <td></td>\n",
       "    </tr>\n",
       "    <tr>\n",
       "      <th>792</th>\n",
       "      <td>Nongshim</td>\n",
       "      <td>Bowl Noodle Spicy Chicken (New)</td>\n",
       "      <td>Bowl</td>\n",
       "      <td>USA</td>\n",
       "      <td>4.50</td>\n",
       "      <td></td>\n",
       "    </tr>\n",
       "    <tr>\n",
       "      <th>200</th>\n",
       "      <td>Nongshim</td>\n",
       "      <td>Bowl Noodle Spicy Chicken</td>\n",
       "      <td>Bowl</td>\n",
       "      <td>USA</td>\n",
       "      <td>4.50</td>\n",
       "      <td></td>\n",
       "    </tr>\n",
       "    <tr>\n",
       "      <th>1563</th>\n",
       "      <td>Nongshim</td>\n",
       "      <td>Shin Ramyun Noodle Soup (New Edition)</td>\n",
       "      <td>Pack</td>\n",
       "      <td>USA</td>\n",
       "      <td>4.25</td>\n",
       "      <td></td>\n",
       "    </tr>\n",
       "    <tr>\n",
       "      <th>799</th>\n",
       "      <td>Nongshim</td>\n",
       "      <td>Bowl Noodle Savory Chicken (New)</td>\n",
       "      <td>Bowl</td>\n",
       "      <td>USA</td>\n",
       "      <td>4.25</td>\n",
       "      <td></td>\n",
       "    </tr>\n",
       "    <tr>\n",
       "      <th>962</th>\n",
       "      <td>Nongshim</td>\n",
       "      <td>Bowl Noodle Soup Spicy Seafood Flavor (New Ver...</td>\n",
       "      <td>Bowl</td>\n",
       "      <td>USA</td>\n",
       "      <td>4.25</td>\n",
       "      <td></td>\n",
       "    </tr>\n",
       "    <tr>\n",
       "      <th>253</th>\n",
       "      <td>Nongshim</td>\n",
       "      <td>Bowl Noodle Spicy Seafood</td>\n",
       "      <td>Bowl</td>\n",
       "      <td>USA</td>\n",
       "      <td>4.25</td>\n",
       "      <td></td>\n",
       "    </tr>\n",
       "    <tr>\n",
       "      <th>877</th>\n",
       "      <td>Nongshim</td>\n",
       "      <td>Shin Bowl (New)</td>\n",
       "      <td>Bowl</td>\n",
       "      <td>USA</td>\n",
       "      <td>4.25</td>\n",
       "      <td></td>\n",
       "    </tr>\n",
       "    <tr>\n",
       "      <th>1366</th>\n",
       "      <td>Nongshim</td>\n",
       "      <td>Sir Long Tang Creamy Beef Noodle Soup</td>\n",
       "      <td>Cup</td>\n",
       "      <td>USA</td>\n",
       "      <td>4.25</td>\n",
       "      <td></td>\n",
       "    </tr>\n",
       "    <tr>\n",
       "      <th>1443</th>\n",
       "      <td>Nongshim</td>\n",
       "      <td>Harmony Korean Spicy Noodle Dish With Chipotle</td>\n",
       "      <td>Pack</td>\n",
       "      <td>USA</td>\n",
       "      <td>4.25</td>\n",
       "      <td></td>\n",
       "    </tr>\n",
       "    <tr>\n",
       "      <th>213</th>\n",
       "      <td>Nongshim</td>\n",
       "      <td>Bowl Noodle Spicy Artificial Lobster</td>\n",
       "      <td>Bowl</td>\n",
       "      <td>USA</td>\n",
       "      <td>4.00</td>\n",
       "      <td></td>\n",
       "    </tr>\n",
       "    <tr>\n",
       "      <th>1622</th>\n",
       "      <td>Nongshim</td>\n",
       "      <td>Quick2 Hot &amp; Spicy Noodle Soup With Habanero &amp;...</td>\n",
       "      <td>Pack</td>\n",
       "      <td>USA</td>\n",
       "      <td>4.00</td>\n",
       "      <td></td>\n",
       "    </tr>\n",
       "    <tr>\n",
       "      <th>2203</th>\n",
       "      <td>Nongshim</td>\n",
       "      <td>Bowl Noodle Soup Independence Day Limited Edit...</td>\n",
       "      <td>Bowl</td>\n",
       "      <td>USA</td>\n",
       "      <td>4.00</td>\n",
       "      <td></td>\n",
       "    </tr>\n",
       "    <tr>\n",
       "      <th>721</th>\n",
       "      <td>Nongshim</td>\n",
       "      <td>Bowl Noodle Savory Beef</td>\n",
       "      <td>Bowl</td>\n",
       "      <td>USA</td>\n",
       "      <td>4.00</td>\n",
       "      <td></td>\n",
       "    </tr>\n",
       "    <tr>\n",
       "      <th>759</th>\n",
       "      <td>Nongshim</td>\n",
       "      <td>Bowl Noodle Savory Lobster (New)</td>\n",
       "      <td>Bowl</td>\n",
       "      <td>USA</td>\n",
       "      <td>3.75</td>\n",
       "      <td></td>\n",
       "    </tr>\n",
       "    <tr>\n",
       "      <th>750</th>\n",
       "      <td>Nongshim</td>\n",
       "      <td>Bowl Noodle Spicy Kimchi (New)</td>\n",
       "      <td>Bowl</td>\n",
       "      <td>USA</td>\n",
       "      <td>3.75</td>\n",
       "      <td></td>\n",
       "    </tr>\n",
       "    <tr>\n",
       "      <th>754</th>\n",
       "      <td>Nongshim</td>\n",
       "      <td>Ansungtangmyun (US Version)</td>\n",
       "      <td>Pack</td>\n",
       "      <td>USA</td>\n",
       "      <td>3.75</td>\n",
       "      <td></td>\n",
       "    </tr>\n",
       "    <tr>\n",
       "      <th>772</th>\n",
       "      <td>Nongshim</td>\n",
       "      <td>Bowl Noodle Hot &amp; Spicy Beef (New)</td>\n",
       "      <td>Pack</td>\n",
       "      <td>USA</td>\n",
       "      <td>3.50</td>\n",
       "      <td></td>\n",
       "    </tr>\n",
       "    <tr>\n",
       "      <th>752</th>\n",
       "      <td>Nongshim</td>\n",
       "      <td>Bowl Noodle Savory Tempura Udon</td>\n",
       "      <td>Bowl</td>\n",
       "      <td>USA</td>\n",
       "      <td>3.50</td>\n",
       "      <td></td>\n",
       "    </tr>\n",
       "    <tr>\n",
       "      <th>201</th>\n",
       "      <td>Nongshim</td>\n",
       "      <td>Bowl Noodle Beef Ginger</td>\n",
       "      <td>Bowl</td>\n",
       "      <td>USA</td>\n",
       "      <td>3.50</td>\n",
       "      <td></td>\n",
       "    </tr>\n",
       "    <tr>\n",
       "      <th>453</th>\n",
       "      <td>Nongshim</td>\n",
       "      <td>Bowl Noodle Savory Chicken</td>\n",
       "      <td>Bowl</td>\n",
       "      <td>USA</td>\n",
       "      <td>3.25</td>\n",
       "      <td></td>\n",
       "    </tr>\n",
       "    <tr>\n",
       "      <th>202</th>\n",
       "      <td>Nongshim</td>\n",
       "      <td>Bowl Noodle Cabbage Kimchi</td>\n",
       "      <td>Bowl</td>\n",
       "      <td>USA</td>\n",
       "      <td>3.25</td>\n",
       "      <td></td>\n",
       "    </tr>\n",
       "    <tr>\n",
       "      <th>1503</th>\n",
       "      <td>Nongshim</td>\n",
       "      <td>Bowl Noodle Soup Shrimp Habanero Lime Flavor</td>\n",
       "      <td>Bowl</td>\n",
       "      <td>USA</td>\n",
       "      <td>3.25</td>\n",
       "      <td></td>\n",
       "    </tr>\n",
       "    <tr>\n",
       "      <th>782</th>\n",
       "      <td>Nongshim</td>\n",
       "      <td>Bowl Noodle Savory Shrimp (New)</td>\n",
       "      <td>Bowl</td>\n",
       "      <td>USA</td>\n",
       "      <td>3.25</td>\n",
       "      <td></td>\n",
       "    </tr>\n",
       "    <tr>\n",
       "      <th>204</th>\n",
       "      <td>Nongshim</td>\n",
       "      <td>Bowl Noodle Spicy Shrimp</td>\n",
       "      <td>Bowl</td>\n",
       "      <td>USA</td>\n",
       "      <td>2.50</td>\n",
       "      <td></td>\n",
       "    </tr>\n",
       "    <tr>\n",
       "      <th>203</th>\n",
       "      <td>Nongshim</td>\n",
       "      <td>Bowl Noodle Hot &amp; Spicy</td>\n",
       "      <td>Bowl</td>\n",
       "      <td>USA</td>\n",
       "      <td>2.00</td>\n",
       "      <td></td>\n",
       "    </tr>\n",
       "  </tbody>\n",
       "</table>\n",
       "</div>"
      ],
      "text/plain": [
       "             Brand                                            Variety Style  \\\n",
       "Review #                                                                      \n",
       "1485      Nongshim                         Spicy Tonkotsu Noodle Soup  Pack   \n",
       "934       Nongshim                  Jinjja Jinjja Flamin' Hot & Nutty  Pack   \n",
       "2248      Nongshim                                   Shin Noodle Soup   Cup   \n",
       "2064      Nongshim                            Arrabiata Rice Bucatini  Pack   \n",
       "2098      Nongshim                          Kimchi Flavor Noodle Soup   Cup   \n",
       "1824      Nongshim                            Soon Veggie Noodle Soup   Cup   \n",
       "1178      Nongshim  Shin Black Spicy Pot-au-feu Flavor Premium Noo...   Cup   \n",
       "872       Nongshim                                         Chapagetti  Bowl   \n",
       "1678      Nongshim    Shin Black Spicy Po-Au-Feu Flavor (Mew Edition)  Pack   \n",
       "1969      Nongshim              Noodle Soup Seasoned With Real Kimchi  Pack   \n",
       "792       Nongshim                    Bowl Noodle Spicy Chicken (New)  Bowl   \n",
       "200       Nongshim                          Bowl Noodle Spicy Chicken  Bowl   \n",
       "1563      Nongshim              Shin Ramyun Noodle Soup (New Edition)  Pack   \n",
       "799       Nongshim                   Bowl Noodle Savory Chicken (New)  Bowl   \n",
       "962       Nongshim  Bowl Noodle Soup Spicy Seafood Flavor (New Ver...  Bowl   \n",
       "253       Nongshim                          Bowl Noodle Spicy Seafood  Bowl   \n",
       "877       Nongshim                                    Shin Bowl (New)  Bowl   \n",
       "1366      Nongshim              Sir Long Tang Creamy Beef Noodle Soup   Cup   \n",
       "1443      Nongshim     Harmony Korean Spicy Noodle Dish With Chipotle  Pack   \n",
       "213       Nongshim               Bowl Noodle Spicy Artificial Lobster  Bowl   \n",
       "1622      Nongshim  Quick2 Hot & Spicy Noodle Soup With Habanero &...  Pack   \n",
       "2203      Nongshim  Bowl Noodle Soup Independence Day Limited Edit...  Bowl   \n",
       "721       Nongshim                            Bowl Noodle Savory Beef  Bowl   \n",
       "759       Nongshim                   Bowl Noodle Savory Lobster (New)  Bowl   \n",
       "750       Nongshim                     Bowl Noodle Spicy Kimchi (New)  Bowl   \n",
       "754       Nongshim                        Ansungtangmyun (US Version)  Pack   \n",
       "772       Nongshim                 Bowl Noodle Hot & Spicy Beef (New)  Pack   \n",
       "752       Nongshim                    Bowl Noodle Savory Tempura Udon  Bowl   \n",
       "201       Nongshim                            Bowl Noodle Beef Ginger  Bowl   \n",
       "453       Nongshim                         Bowl Noodle Savory Chicken  Bowl   \n",
       "202       Nongshim                         Bowl Noodle Cabbage Kimchi  Bowl   \n",
       "1503      Nongshim       Bowl Noodle Soup Shrimp Habanero Lime Flavor  Bowl   \n",
       "782       Nongshim                    Bowl Noodle Savory Shrimp (New)  Bowl   \n",
       "204       Nongshim                           Bowl Noodle Spicy Shrimp  Bowl   \n",
       "203       Nongshim                            Bowl Noodle Hot & Spicy  Bowl   \n",
       "\n",
       "         Country  Stars  Top Ten  \n",
       "Review #                          \n",
       "1485         USA   5.00           \n",
       "934          USA   5.00  2013 #4  \n",
       "2248         USA   5.00           \n",
       "2064         USA   5.00           \n",
       "2098         USA   5.00           \n",
       "1824         USA   5.00           \n",
       "1178         USA   5.00           \n",
       "872          USA   5.00           \n",
       "1678         USA   5.00           \n",
       "1969         USA   4.75           \n",
       "792          USA   4.50           \n",
       "200          USA   4.50           \n",
       "1563         USA   4.25           \n",
       "799          USA   4.25           \n",
       "962          USA   4.25           \n",
       "253          USA   4.25           \n",
       "877          USA   4.25           \n",
       "1366         USA   4.25           \n",
       "1443         USA   4.25           \n",
       "213          USA   4.00           \n",
       "1622         USA   4.00           \n",
       "2203         USA   4.00           \n",
       "721          USA   4.00           \n",
       "759          USA   3.75           \n",
       "750          USA   3.75           \n",
       "754          USA   3.75           \n",
       "772          USA   3.50           \n",
       "752          USA   3.50           \n",
       "201          USA   3.50           \n",
       "453          USA   3.25           \n",
       "202          USA   3.25           \n",
       "1503         USA   3.25           \n",
       "782          USA   3.25           \n",
       "204          USA   2.50           \n",
       "203          USA   2.00           "
      ]
     },
     "execution_count": 79,
     "metadata": {},
     "output_type": "execute_result"
    }
   ],
   "source": [
    "nongshim = top_brands_USA.loc[top_brands_USA['Brand']=='Nongshim']\n",
    "nongshim"
   ]
  },
  {
   "cell_type": "code",
   "execution_count": 82,
   "metadata": {},
   "outputs": [
    {
     "data": {
      "image/png": "[encoded data removed]",
      "text/plain": [
       "<Figure size 432x288 with 1 Axes>"
      ]
     },
     "metadata": {
      "needs_background": "light"
     },
     "output_type": "display_data"
    }
   ],
   "source": [
    "## Plot the review count by stars\n",
    "\n",
    "nongshim_plot = nongshim['Stars'].plot(kind='hist',bins=6)"
   ]
  },
  {
   "cell_type": "code",
   "execution_count": null,
   "metadata": {},
   "outputs": [],
   "source": []
  }
 ],
 "metadata": {
  "kernelspec": {
   "display_name": "Python 3",
   "language": "python",
   "name": "python3"
  },
  "language_info": {
   "codemirror_mode": {
    "name": "ipython",
    "version": 3
   },
   "file_extension": ".py",
   "mimetype": "text/x-python",
   "name": "python",
   "nbconvert_exporter": "python",
   "pygments_lexer": "ipython3",
   "version": "3.8.5"
  }
 },
 "nbformat": 4,
 "nbformat_minor": 4
}
